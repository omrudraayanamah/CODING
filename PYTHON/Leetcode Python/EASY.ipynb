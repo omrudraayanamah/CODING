{
 "cells": [
  {
   "cell_type": "markdown",
   "id": "8c132512",
   "metadata": {},
   "source": [
    "## SEPTEMBER, 2023"
   ]
  },
  {
   "cell_type": "code",
   "execution_count": null,
   "id": "c9681b67",
   "metadata": {},
   "outputs": [],
   "source": [
    "def kWeakestRows(self, mat:List[List[int]], k:int) -> List[int]:\n",
    "    heap = []\n",
    "    for row in range(len(mat)):\n",
    "        "
   ]
  },
  {
   "cell_type": "code",
   "execution_count": 1,
   "id": "2360243d",
   "metadata": {},
   "outputs": [],
   "source": [
    "A = [[1,0,1], [1,1,1], [0,1,1]]"
   ]
  },
  {
   "cell_type": "code",
   "execution_count": 2,
   "id": "81375861",
   "metadata": {},
   "outputs": [
    {
     "name": "stdout",
     "output_type": "stream",
     "text": [
      "[1, 0, 1]\n",
      "[1, 1, 1]\n",
      "[0, 1, 1]\n"
     ]
    }
   ],
   "source": [
    "for row in A:\n",
    "    print(row)"
   ]
  },
  {
   "cell_type": "code",
   "execution_count": 3,
   "id": "74dd549d",
   "metadata": {},
   "outputs": [
    {
     "name": "stdout",
     "output_type": "stream",
     "text": [
      "[1, 0, 1]\n",
      "[1, 1, 1]\n",
      "[0, 1, 1]\n"
     ]
    }
   ],
   "source": [
    "for i in A:\n",
    "    print(i)\n",
    "    "
   ]
  },
  {
   "cell_type": "code",
   "execution_count": 28,
   "id": "6866808c",
   "metadata": {},
   "outputs": [],
   "source": [
    "mat = [[1,1,0,0,0], [1,1,1,1,0], [1,0,0,0,0], [1,1,0,0,0], [1,1,1,1,1]]\n",
    "k = 3"
   ]
  },
  {
   "cell_type": "code",
   "execution_count": 29,
   "id": "58db2998",
   "metadata": {},
   "outputs": [
    {
     "name": "stdout",
     "output_type": "stream",
     "text": [
      "[1, 1, 0, 0, 0]\n",
      "1\n",
      "1\n",
      "0\n",
      "0\n",
      "0\n",
      "[1, 1, 1, 1, 0]\n",
      "1\n",
      "1\n",
      "1\n",
      "1\n",
      "0\n",
      "[1, 0, 0, 0, 0]\n",
      "1\n",
      "0\n",
      "0\n",
      "0\n",
      "0\n",
      "[1, 1, 0, 0, 0]\n",
      "1\n",
      "1\n",
      "0\n",
      "0\n",
      "0\n",
      "[1, 1, 1, 1, 1]\n",
      "1\n",
      "1\n",
      "1\n",
      "1\n",
      "1\n"
     ]
    }
   ],
   "source": [
    "heap = []\n",
    "for i in range(len(mat)):\n",
    "    print(mat[i])\n",
    "    count = 0\n",
    "    for j in range(len(mat)):\n",
    "        print(mat[i][j])\n",
    "        if mat[i][j]==1:\n",
    "            count += 1\n",
    "    heap.append(count)"
   ]
  },
  {
   "cell_type": "code",
   "execution_count": 32,
   "id": "2cb6f560",
   "metadata": {},
   "outputs": [],
   "source": [
    "heap1 = sorted(heap)"
   ]
  },
  {
   "cell_type": "code",
   "execution_count": 35,
   "id": "bce1c1bb",
   "metadata": {},
   "outputs": [
    {
     "data": {
      "text/plain": [
       "[2, 4, 1, 2, 5]"
      ]
     },
     "execution_count": 35,
     "metadata": {},
     "output_type": "execute_result"
    }
   ],
   "source": [
    "heap"
   ]
  },
  {
   "cell_type": "code",
   "execution_count": 36,
   "id": "8da772c1",
   "metadata": {},
   "outputs": [
    {
     "data": {
      "text/plain": [
       "[1, 2, 2, 4, 5]"
      ]
     },
     "execution_count": 36,
     "metadata": {},
     "output_type": "execute_result"
    }
   ],
   "source": [
    "heap1"
   ]
  },
  {
   "cell_type": "code",
   "execution_count": 45,
   "id": "1f89a049",
   "metadata": {},
   "outputs": [
    {
     "name": "stdout",
     "output_type": "stream",
     "text": [
      "2 1\n",
      "0 2\n",
      "0 2\n"
     ]
    }
   ],
   "source": [
    "count = 0\n",
    "for i in range(k):\n",
    "    print(heap.index(heap1[i]),heap1[i])\n",
    "    "
   ]
  },
  {
   "cell_type": "code",
   "execution_count": 43,
   "id": "edebcdf2",
   "metadata": {},
   "outputs": [
    {
     "name": "stdout",
     "output_type": "stream",
     "text": [
      "0\n",
      "1\n",
      "2\n"
     ]
    }
   ],
   "source": [
    "for i in range(k):\n",
    "    print(i)"
   ]
  },
  {
   "cell_type": "code",
   "execution_count": 52,
   "id": "242d0c83",
   "metadata": {},
   "outputs": [
    {
     "name": "stdout",
     "output_type": "stream",
     "text": [
      "0 2\n",
      "1 4\n",
      "2 1\n",
      "3 2\n",
      "4 5\n"
     ]
    }
   ],
   "source": [
    "for i,j in enumerate(heap):\n",
    "    print(i,j)"
   ]
  },
  {
   "cell_type": "code",
   "execution_count": 53,
   "id": "33fb5708",
   "metadata": {},
   "outputs": [],
   "source": [
    "A = [1,2,2,4,7,7,9]"
   ]
  },
  {
   "cell_type": "code",
   "execution_count": 59,
   "id": "ae857203",
   "metadata": {},
   "outputs": [
    {
     "name": "stdout",
     "output_type": "stream",
     "text": [
      "0\n",
      "1\n",
      "1\n",
      "3\n",
      "4\n",
      "4\n",
      "6\n"
     ]
    }
   ],
   "source": [
    "count = 0\n",
    "for i in range(len(A)):\n",
    "    if A[i]==A[i-1]:\n",
    "        count += 1\n",
    "        k = A.index(A[i]) + count\n",
    "    print(A.index(A[i]))"
   ]
  },
  {
   "cell_type": "code",
   "execution_count": null,
   "id": "6202c453",
   "metadata": {},
   "outputs": [],
   "source": []
  }
 ],
 "metadata": {
  "kernelspec": {
   "display_name": "Python 3",
   "language": "python",
   "name": "python3"
  },
  "language_info": {
   "codemirror_mode": {
    "name": "ipython",
    "version": 3
   },
   "file_extension": ".py",
   "mimetype": "text/x-python",
   "name": "python",
   "nbconvert_exporter": "python",
   "pygments_lexer": "ipython3",
   "version": "3.8.8"
  }
 },
 "nbformat": 4,
 "nbformat_minor": 5
}
