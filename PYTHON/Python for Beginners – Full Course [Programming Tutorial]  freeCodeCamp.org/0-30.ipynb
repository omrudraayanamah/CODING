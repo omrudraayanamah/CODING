{
 "cells": [
  {
   "cell_type": "markdown",
   "id": "34b65f07",
   "metadata": {},
   "source": [
    "September, 2023"
   ]
  },
  {
   "cell_type": "code",
   "execution_count": 3,
   "id": "4ea3776d",
   "metadata": {},
   "outputs": [],
   "source": [
    "def get_choices():\n",
    "    player_choice = \"rock\"\n",
    "    computer_choice = \"paper\"\n",
    "    return player_choice"
   ]
  },
  {
   "cell_type": "code",
   "execution_count": 4,
   "id": "e3e92b9c",
   "metadata": {},
   "outputs": [],
   "source": [
    "def greeting():\n",
    "    return 'Hi'"
   ]
  },
  {
   "cell_type": "code",
   "execution_count": 5,
   "id": "3bd244f4",
   "metadata": {},
   "outputs": [],
   "source": [
    "response = greeting()"
   ]
  },
  {
   "cell_type": "code",
   "execution_count": 6,
   "id": "e57f5c69",
   "metadata": {},
   "outputs": [
    {
     "name": "stdout",
     "output_type": "stream",
     "text": [
      "Hi\n"
     ]
    }
   ],
   "source": [
    "print(response)"
   ]
  },
  {
   "cell_type": "code",
   "execution_count": 22,
   "id": "7d62d740",
   "metadata": {},
   "outputs": [],
   "source": [
    "def get_choices():\n",
    "    player_choice = input(\"Enter a choice rock, paper, scissors: \")\n",
    "    computer_choice = 'paper'\n",
    "    choices = {'player': player_choice, 'computer': computer_choice}\n",
    "    return choices\n",
    "\n",
    "choices = get_choices()"
   ]
  },
  {
   "cell_type": "code",
   "execution_count": 13,
   "id": "881d11e7",
   "metadata": {},
   "outputs": [],
   "source": []
  },
  {
   "cell_type": "code",
   "execution_count": 23,
   "id": "a88964d2",
   "metadata": {},
   "outputs": [],
   "source": [
    "dict = {'name':'beau', 'color': choices}"
   ]
  },
  {
   "cell_type": "code",
   "execution_count": 21,
   "id": "629ff5ab",
   "metadata": {},
   "outputs": [
    {
     "data": {
      "text/plain": [
       "{'player': 'rock', 'computer': 'paper'}"
      ]
     },
     "execution_count": 21,
     "metadata": {},
     "output_type": "execute_result"
    }
   ],
   "source": [
    "get_choices()"
   ]
  },
  {
   "cell_type": "code",
   "execution_count": 16,
   "id": "5f738ad7",
   "metadata": {},
   "outputs": [
    {
     "data": {
      "text/plain": [
       "'Hi'"
      ]
     },
     "execution_count": 16,
     "metadata": {},
     "output_type": "execute_result"
    }
   ],
   "source": [
    "response"
   ]
  },
  {
   "cell_type": "code",
   "execution_count": 24,
   "id": "39b1ca1c",
   "metadata": {},
   "outputs": [
    {
     "data": {
      "text/plain": [
       "{'name': 'beau', 'color': 'paper'}"
      ]
     },
     "execution_count": 24,
     "metadata": {},
     "output_type": "execute_result"
    }
   ],
   "source": [
    "dict"
   ]
  },
  {
   "cell_type": "code",
   "execution_count": 25,
   "id": "38be2de5",
   "metadata": {},
   "outputs": [],
   "source": [
    "food = ['pizza','carrots','eggs']"
   ]
  },
  {
   "cell_type": "code",
   "execution_count": 27,
   "id": "be35968e",
   "metadata": {},
   "outputs": [],
   "source": [
    "import random\n",
    "dinner = random.choice(food)"
   ]
  },
  {
   "cell_type": "code",
   "execution_count": 28,
   "id": "ca3bd892",
   "metadata": {},
   "outputs": [
    {
     "data": {
      "text/plain": [
       "'eggs'"
      ]
     },
     "execution_count": 28,
     "metadata": {},
     "output_type": "execute_result"
    }
   ],
   "source": [
    "dinner"
   ]
  },
  {
   "cell_type": "code",
   "execution_count": 29,
   "id": "e6977448",
   "metadata": {},
   "outputs": [
    {
     "name": "stdout",
     "output_type": "stream",
     "text": [
      "Enter a choice rock, paper, scissors: rock\n"
     ]
    }
   ],
   "source": [
    "def get_choices():\n",
    "    player_choice = input(\"Enter a choice rock, paper, scissors: \")\n",
    "    options = ['rock','paper','scissors']\n",
    "    computer_choice = random.choice(options)\n",
    "    choices = {'player': player_choice, 'computer': computer_choice}\n",
    "    return choices\n"
   ]
  },
  {
   "cell_type": "code",
   "execution_count": 31,
   "id": "4af7b962",
   "metadata": {},
   "outputs": [
    {
     "name": "stdout",
     "output_type": "stream",
     "text": [
      "Enter a choice rock, paper, scissors: paper\n",
      "{'player': 'paper', 'computer': 'rock'}\n"
     ]
    }
   ],
   "source": [
    "choices = get_choices()\n",
    "print(choices)"
   ]
  },
  {
   "cell_type": "code",
   "execution_count": 41,
   "id": "2831cc12",
   "metadata": {},
   "outputs": [
    {
     "name": "stdout",
     "output_type": "stream",
     "text": [
      "Hey I am Shivam\n"
     ]
    }
   ],
   "source": [
    "print(f'Hey I am {human}')"
   ]
  },
  {
   "cell_type": "code",
   "execution_count": 42,
   "id": "05b5182d",
   "metadata": {},
   "outputs": [],
   "source": [
    "human = 'Shivam'"
   ]
  },
  {
   "cell_type": "code",
   "execution_count": 45,
   "id": "c20a95ad",
   "metadata": {},
   "outputs": [],
   "source": [
    "def check_win(player, computer):\n",
    "    print(f'You chose {player}, computer chose {computer}')\n",
    "    if player == computer:\n",
    "        return \"It's a Tie!\"\n",
    "    \n",
    "    \n",
    "    elif player == 'rock':\n",
    "        if computer == 'scissors':\n",
    "            return \"You win\"\n",
    "        else:\n",
    "            return \"You lose\"\n",
    "        \n",
    "        \n",
    "        \n",
    "    elif player == 'paper':\n",
    "        if computer == 'scissors':\n",
    "            return \"You lose\"\n",
    "        else:\n",
    "            return \"You win\"\n",
    "    \n",
    "    elif player == 'scissors':\n",
    "        if computer == 'paper':\n",
    "            return \"You win\"\n",
    "        else:\n",
    "            return \"You lose\"\n",
    "    \n",
    "    \n",
    "    return [player, computer]"
   ]
  },
  {
   "cell_type": "code",
   "execution_count": 49,
   "id": "7ba87ed9",
   "metadata": {},
   "outputs": [
    {
     "name": "stdout",
     "output_type": "stream",
     "text": [
      "You chose rock, computer chose rock\n"
     ]
    },
    {
     "data": {
      "text/plain": [
       "\"It's a Tie!\""
      ]
     },
     "execution_count": 49,
     "metadata": {},
     "output_type": "execute_result"
    }
   ],
   "source": [
    "check_win('rock','rock')"
   ]
  },
  {
   "cell_type": "code",
   "execution_count": null,
   "id": "176c4274",
   "metadata": {},
   "outputs": [],
   "source": []
  }
 ],
 "metadata": {
  "kernelspec": {
   "display_name": "Python 3",
   "language": "python",
   "name": "python3"
  },
  "language_info": {
   "codemirror_mode": {
    "name": "ipython",
    "version": 3
   },
   "file_extension": ".py",
   "mimetype": "text/x-python",
   "name": "python",
   "nbconvert_exporter": "python",
   "pygments_lexer": "ipython3",
   "version": "3.8.8"
  }
 },
 "nbformat": 4,
 "nbformat_minor": 5
}
