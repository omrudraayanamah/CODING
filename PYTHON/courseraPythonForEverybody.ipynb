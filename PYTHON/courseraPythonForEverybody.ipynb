{
 "cells": [
  {
   "cell_type": "markdown",
   "id": "606bb598",
   "metadata": {},
   "source": [
    "# 1. Expressions\n"
   ]
  },
  {
   "cell_type": "code",
   "execution_count": 2,
   "id": "651ac18d",
   "metadata": {},
   "outputs": [
    {
     "name": "stdout",
     "output_type": "stream",
     "text": [
      "smaller\n",
      "finis\n"
     ]
    }
   ],
   "source": [
    "x = 5\n",
    "if x<10:\n",
    "    print('smaller')\n",
    "if x>20:\n",
    "    print('larger')\n",
    "print('finis')"
   ]
  },
  {
   "cell_type": "code",
   "execution_count": 3,
   "id": "114adace",
   "metadata": {},
   "outputs": [
    {
     "name": "stdout",
     "output_type": "stream",
     "text": [
      "2\n",
      "4\n"
     ]
    }
   ],
   "source": [
    "x=2\n",
    "print(x)\n",
    "x=x+2          \n",
    "print(x)"
   ]
  },
  {
   "cell_type": "code",
   "execution_count": 9,
   "id": "32d7515c",
   "metadata": {},
   "outputs": [
    {
     "name": "stdout",
     "output_type": "stream",
     "text": [
      "4\n",
      "3\n",
      "2\n",
      "1\n",
      "0\n",
      "blastoff\n"
     ]
    }
   ],
   "source": [
    "n=5\n",
    "while n>0:\n",
    "    n=n-1\n",
    "    print(n)\n",
    "print('blastoff')"
   ]
  },
  {
   "cell_type": "code",
   "execution_count": 16,
   "id": "94a53ed3",
   "metadata": {},
   "outputs": [
    {
     "name": "stdout",
     "output_type": "stream",
     "text": [
      "392.0\n"
     ]
    }
   ],
   "source": [
    "hours=32\n",
    "rate=12.25\n",
    "pay=hours*rate\n",
    "print(pay)"
   ]
  },
  {
   "cell_type": "code",
   "execution_count": 19,
   "id": "9aa8e30b",
   "metadata": {},
   "outputs": [
    {
     "name": "stdout",
     "output_type": "stream",
     "text": [
      "0.9359999999999999\n"
     ]
    }
   ],
   "source": [
    "x=0.6\n",
    "x=3.9*x*(1-x)\n",
    "print(x)"
   ]
  },
  {
   "cell_type": "code",
   "execution_count": 23,
   "id": "45a71765",
   "metadata": {},
   "outputs": [
    {
     "data": {
      "text/plain": [
       "float"
      ]
     },
     "execution_count": 23,
     "metadata": {},
     "output_type": "execute_result"
    }
   ],
   "source": [
    "xx=1\n",
    "type(xx)\n",
    "\n",
    "temp = 98.6\n",
    "type(temp)\n",
    "type(1)\n",
    "type(1.0)"
   ]
  },
  {
   "cell_type": "code",
   "execution_count": 28,
   "id": "729ea3b6",
   "metadata": {},
   "outputs": [
    {
     "name": "stdout",
     "output_type": "stream",
     "text": [
      "199.0\n",
      "42.0\n"
     ]
    },
    {
     "data": {
      "text/plain": [
       "float"
      ]
     },
     "execution_count": 28,
     "metadata": {},
     "output_type": "execute_result"
    }
   ],
   "source": [
    "print(float(99)+100)\n",
    "i = 42\n",
    "type(i)\n",
    "f = float(i)\n",
    "print(f)\n",
    "type(f)"
   ]
  },
  {
   "cell_type": "code",
   "execution_count": 35,
   "id": "cff05eae",
   "metadata": {},
   "outputs": [
    {
     "name": "stdout",
     "output_type": "stream",
     "text": [
      "124\n"
     ]
    },
    {
     "ename": "ValueError",
     "evalue": "invalid literal for int() with base 10: 'Hello Bob'",
     "output_type": "error",
     "traceback": [
      "\u001b[0;31m---------------------------------------------------------------------------\u001b[0m",
      "\u001b[0;31mValueError\u001b[0m                                Traceback (most recent call last)",
      "\u001b[0;32m<ipython-input-35-b14fc033c746>\u001b[0m in \u001b[0;36m<module>\u001b[0;34m\u001b[0m\n\u001b[1;32m      5\u001b[0m \u001b[0mprint\u001b[0m\u001b[0;34m(\u001b[0m\u001b[0mival\u001b[0m \u001b[0;34m+\u001b[0m\u001b[0;36m1\u001b[0m\u001b[0;34m)\u001b[0m\u001b[0;34m\u001b[0m\u001b[0;34m\u001b[0m\u001b[0m\n\u001b[1;32m      6\u001b[0m \u001b[0mnsv\u001b[0m \u001b[0;34m=\u001b[0m \u001b[0;34m'Hello Bob'\u001b[0m\u001b[0;34m\u001b[0m\u001b[0;34m\u001b[0m\u001b[0m\n\u001b[0;32m----> 7\u001b[0;31m \u001b[0mniv\u001b[0m \u001b[0;34m=\u001b[0m \u001b[0mint\u001b[0m\u001b[0;34m(\u001b[0m\u001b[0mnsv\u001b[0m\u001b[0;34m)\u001b[0m\u001b[0;34m\u001b[0m\u001b[0;34m\u001b[0m\u001b[0m\n\u001b[0m",
      "\u001b[0;31mValueError\u001b[0m: invalid literal for int() with base 10: 'Hello Bob'"
     ]
    }
   ],
   "source": [
    "sval='123'\n",
    "type(sval)\n",
    "ival = int(sval)\n",
    "type(ival)\n",
    "print(ival +1)\n",
    "nsv = 'Hello Bob'\n",
    "niv = int(nsv)"
   ]
  },
  {
   "cell_type": "code",
   "execution_count": 37,
   "id": "567d9be7",
   "metadata": {},
   "outputs": [
    {
     "name": "stdout",
     "output_type": "stream",
     "text": [
      "Who are you? Shivam\n",
      "Welcome Shivam\n"
     ]
    }
   ],
   "source": [
    "nam = input('Who are you? ')\n",
    "print('Welcome', nam)"
   ]
  },
  {
   "cell_type": "code",
   "execution_count": 40,
   "id": "e30259a7",
   "metadata": {
    "scrolled": true
   },
   "outputs": [
    {
     "name": "stdout",
     "output_type": "stream",
     "text": [
      "which floor?0\n",
      "US floor 1\n"
     ]
    }
   ],
   "source": [
    "eur = input('which floor?')\n",
    "us = int(eur) + 1\n",
    "print('US floor',us)"
   ]
  },
  {
   "cell_type": "markdown",
   "id": "f36da872",
   "metadata": {},
   "source": [
    "# 2. Conditional Execution"
   ]
  },
  {
   "cell_type": "code",
   "execution_count": 41,
   "id": "0d986879",
   "metadata": {},
   "outputs": [
    {
     "name": "stdout",
     "output_type": "stream",
     "text": [
      "x is equal to 5\n",
      "x greater than 4\n",
      "x is greater or equal to 5\n",
      "Less than 6\n",
      "less than or equal to 5\n",
      "x is not equal to 6\n"
     ]
    }
   ],
   "source": [
    "x=5\n",
    "if x == 5:\n",
    "    print('x is equal to 5')\n",
    "if x>4:\n",
    "    print('x greater than 4')\n",
    "if x>=5:\n",
    "    print('x is greater or equal to 5')\n",
    "if x<6:\n",
    "    print('Less than 6')\n",
    "if x<=5:\n",
    "    print('less than or equal to 5')\n",
    "if x!=6 :\n",
    "    print('x is not equal to 6')"
   ]
  },
  {
   "cell_type": "code",
   "execution_count": 3,
   "id": "1769efab",
   "metadata": {},
   "outputs": [
    {
     "name": "stdout",
     "output_type": "stream",
     "text": [
      "all done\n"
     ]
    }
   ],
   "source": [
    "try:\n",
    "    eur='Hello bob'\n",
    "    istr=int(eur)\n",
    "    print(istr)\n",
    "except:\n",
    "    istr=-1\n",
    "    print('all done')"
   ]
  },
  {
   "cell_type": "code",
   "execution_count": 8,
   "id": "a82b7a98",
   "metadata": {},
   "outputs": [
    {
     "name": "stdout",
     "output_type": "stream",
     "text": [
      "Enter a number: 23\n",
      "Nice work\n"
     ]
    }
   ],
   "source": [
    "eur=input('Enter a number: ')\n",
    "try:\n",
    "    us=int(eur)\n",
    "    \n",
    "except: \n",
    "    us=-1\n",
    "\n",
    "if us>=0:\n",
    "    print('Nice work')\n",
    "else:\n",
    "    print('Not a number')\n",
    "    "
   ]
  },
  {
   "cell_type": "markdown",
   "id": "d9682b4b",
   "metadata": {},
   "source": [
    "# Functions\n"
   ]
  },
  {
   "cell_type": "code",
   "execution_count": 11,
   "id": "40d07355",
   "metadata": {},
   "outputs": [
    {
     "name": "stdout",
     "output_type": "stream",
     "text": [
      "Hello\n",
      "yo\n",
      "7\n"
     ]
    }
   ],
   "source": [
    "x=5\n",
    "print('Hello')\n",
    "\n",
    "def print_lyrics():\n",
    "    print('Duniy')\n",
    "    print('Thod')\n",
    "\n",
    "print('yo')\n",
    "x=x+2\n",
    "print(x)"
   ]
  },
  {
   "cell_type": "code",
   "execution_count": 12,
   "id": "4455ec49",
   "metadata": {},
   "outputs": [
    {
     "name": "stdout",
     "output_type": "stream",
     "text": [
      "Duniy\n",
      "Thod\n"
     ]
    }
   ],
   "source": [
    "print_lyrics()"
   ]
  },
  {
   "cell_type": "code",
   "execution_count": 33,
   "id": "49a3f97d",
   "metadata": {},
   "outputs": [
    {
     "name": "stdout",
     "output_type": "stream",
     "text": [
      "Hola Gwenn\n",
      "Hello Stacy\n"
     ]
    }
   ],
   "source": [
    "def greet(lang):\n",
    "        \n",
    "    if lang == 'es':\n",
    "        return 'Hola'\n",
    "        \n",
    "    elif lang == 'fr':\n",
    "        return 'Bonjour'\n",
    "    else :\n",
    "        return 'Hello'\n",
    "print(greet('es'),'Gwenn')\n",
    "print(greet('en'),'Stacy')"
   ]
  },
  {
   "cell_type": "code",
   "execution_count": 36,
   "id": "4b77e4cb",
   "metadata": {},
   "outputs": [
    {
     "name": "stdout",
     "output_type": "stream",
     "text": [
      "Enter a: 2\n",
      "Enter b: 3\n"
     ]
    },
    {
     "data": {
      "text/plain": [
       "5"
      ]
     },
     "execution_count": 36,
     "metadata": {},
     "output_type": "execute_result"
    }
   ],
   "source": [
    "def addtwo():\n",
    "    a=int(input('Enter a: '))\n",
    "    b=int(input('Enter b: '))      \n",
    "    return a + b\n",
    "addtwo()"
   ]
  },
  {
   "cell_type": "code",
   "execution_count": 43,
   "id": "19b3ac85",
   "metadata": {},
   "outputs": [
    {
     "ename": "NameError",
     "evalue": "name 'ar' is not defined",
     "output_type": "error",
     "traceback": [
      "\u001b[0;31m---------------------------------------------------------------------------\u001b[0m",
      "\u001b[0;31mNameError\u001b[0m                                 Traceback (most recent call last)",
      "\u001b[0;32m<ipython-input-43-72667facce5f>\u001b[0m in \u001b[0;36m<module>\u001b[0;34m\u001b[0m\n\u001b[1;32m      7\u001b[0m     \u001b[0mSum\u001b[0m\u001b[0;34m=\u001b[0m\u001b[0msum\u001b[0m\u001b[0;34m(\u001b[0m\u001b[0mar\u001b[0m\u001b[0;34m)\u001b[0m\u001b[0;34m\u001b[0m\u001b[0;34m\u001b[0m\u001b[0m\n\u001b[1;32m      8\u001b[0m     \u001b[0;32mreturn\u001b[0m \u001b[0mSum\u001b[0m\u001b[0;34m\u001b[0m\u001b[0;34m\u001b[0m\u001b[0m\n\u001b[0;32m----> 9\u001b[0;31m \u001b[0msimpleArraySum\u001b[0m\u001b[0;34m(\u001b[0m\u001b[0mar\u001b[0m\u001b[0;34m)\u001b[0m\u001b[0;34m\u001b[0m\u001b[0;34m\u001b[0m\u001b[0m\n\u001b[0m",
      "\u001b[0;31mNameError\u001b[0m: name 'ar' is not defined"
     ]
    }
   ],
   "source": [
    "\n",
    "def simpleArraySum(ar):\n",
    "    ar = list()\n",
    "    n = int(input('Size '))\n",
    "    for i in range(0,n):\n",
    "        ele=int(input())\n",
    "        ar.append(ele)\n",
    "    Sum=sum(ar)\n",
    "    return Sum\n",
    "simpleArraySum(ar)"
   ]
  },
  {
   "cell_type": "code",
   "execution_count": 46,
   "id": "a15b1c9c",
   "metadata": {},
   "outputs": [
    {
     "name": "stdout",
     "output_type": "stream",
     "text": [
      "Size 2\n",
      "2\n",
      "3\n",
      "5\n"
     ]
    }
   ],
   "source": [
    "    ar = list()\n",
    "    n = int(input('Size '))\n",
    "    for i in range(0,n):\n",
    "        ele=int(input())\n",
    "        ar.append(ele)\n",
    "    Sum=sum(ar)\n",
    "    print(Sum) "
   ]
  },
  {
   "cell_type": "code",
   "execution_count": 48,
   "id": "e86e4b07",
   "metadata": {},
   "outputs": [
    {
     "name": "stdout",
     "output_type": "stream",
     "text": [
      ">Hello\n",
      "Hello\n",
      ">sf\n",
      "sf\n",
      ">yoo\n",
      "yoo\n",
      ">done\n",
      "All done\n"
     ]
    }
   ],
   "source": [
    "while True:\n",
    "    line=input('>')\n",
    "    if line == 'done':\n",
    "        break\n",
    "    print(line)\n",
    "print('All done')"
   ]
  },
  {
   "cell_type": "code",
   "execution_count": 50,
   "id": "3fd8cedb",
   "metadata": {},
   "outputs": [
    {
     "name": "stdout",
     "output_type": "stream",
     "text": [
      ">f\n",
      "f\n",
      ">s\n",
      "s\n",
      ">done\n",
      "All done\n"
     ]
    }
   ],
   "source": [
    "while True:\n",
    "    eur=input('>')\n",
    "    if eur=='done':\n",
    "        break\n",
    "    print(eur)\n",
    "print('All done')"
   ]
  },
  {
   "cell_type": "code",
   "execution_count": 56,
   "id": "3cf226dd",
   "metadata": {},
   "outputs": [
    {
     "name": "stdout",
     "output_type": "stream",
     "text": [
      ">oy\n",
      "oy\n",
      ">hi\n",
      "hi\n",
      ">#bruh\n",
      ">done\n",
      "All done\n"
     ]
    }
   ],
   "source": [
    "while True:\n",
    "    eur=input('>')\n",
    "    if eur[0]=='#':\n",
    "        continue\n",
    "    if eur=='done':\n",
    "        break\n",
    "    print(eur)\n",
    "print('All done')"
   ]
  },
  {
   "cell_type": "code",
   "execution_count": 57,
   "id": "669a3d16",
   "metadata": {},
   "outputs": [
    {
     "name": "stdout",
     "output_type": "stream",
     "text": [
      "5\n",
      "4\n",
      "3\n",
      "2\n",
      "1\n",
      "0\n",
      "blastoff\n"
     ]
    }
   ],
   "source": [
    "for i in [5,4,3,2,1,0]:\n",
    "    print(i)\n",
    "print('blastoff')"
   ]
  },
  {
   "cell_type": "code",
   "execution_count": 62,
   "id": "4d1c482d",
   "metadata": {},
   "outputs": [
    {
     "name": "stdout",
     "output_type": "stream",
     "text": [
      "Happy new year Shivam\n",
      "Happy new year Harshit\n",
      "Happy new year Saquib\n"
     ]
    }
   ],
   "source": [
    "friends=['Shivam', 'Harshit', 'Saquib']\n",
    "for friend in friends:\n",
    "    print('Happy new year',friend)\n",
    "        "
   ]
  },
  {
   "cell_type": "code",
   "execution_count": 64,
   "id": "b5b76900",
   "metadata": {},
   "outputs": [
    {
     "name": "stdout",
     "output_type": "stream",
     "text": [
      "Before\n",
      "9\n",
      "8\n",
      "7\n",
      "6\n",
      "5\n",
      "4\n",
      "3\n",
      "2\n",
      "1\n",
      "0\n",
      "after\n"
     ]
    }
   ],
   "source": [
    "print('Before')\n",
    "for i in [9,8,7,6,5,4,3,2,1,0]:\n",
    "    print(i)\n",
    "print('after')"
   ]
  },
  {
   "cell_type": "code",
   "execution_count": 74,
   "id": "a8c543b8",
   "metadata": {},
   "outputs": [
    {
     "name": "stdout",
     "output_type": "stream",
     "text": [
      "Before -1\n",
      "1\n",
      "> 1\n",
      "2\n",
      "> 2\n",
      "9\n",
      "> 9\n",
      "77\n",
      "> 77\n",
      "21\n",
      "> 77\n",
      "32\n",
      "> 77\n",
      "51\n",
      "> 77\n",
      "12\n",
      "> 77\n",
      "45\n",
      "> 77\n",
      "101\n",
      "> 101\n"
     ]
    }
   ],
   "source": [
    "the_largest_number=-1\n",
    "print('Before',the_largest_number)\n",
    "for i in [1,2,9,77,21,32,51,12,45,101]:\n",
    "    \n",
    "    print(i)\n",
    "    if i>=the_largest_number:\n",
    "        \n",
    "        the_largest_number=i\n",
    "    print('>',the_largest_number)"
   ]
  },
  {
   "cell_type": "code",
   "execution_count": 75,
   "id": "4cb45b4e",
   "metadata": {},
   "outputs": [
    {
     "name": "stdout",
     "output_type": "stream",
     "text": [
      "1 4\n",
      "2 56\n",
      "3 76\n",
      "4 3\n",
      "5 21\n",
      "6 11\n"
     ]
    }
   ],
   "source": [
    "zork = 0\n",
    "for i in [4,56,76,3,21,11]:\n",
    "    zork = zork + 1\n",
    "    print(zork,i)"
   ]
  },
  {
   "cell_type": "code",
   "execution_count": 76,
   "id": "da36d7cd",
   "metadata": {},
   "outputs": [
    {
     "name": "stdout",
     "output_type": "stream",
     "text": [
      "12 12\n",
      "46 34\n",
      "101 55\n",
      "167 66\n",
      "239 72\n"
     ]
    }
   ],
   "source": [
    "zork=0\n",
    "for i in [12,34,55,66,72]:\n",
    "    zork=zork+i\n",
    "    print(zork,i)"
   ]
  },
  {
   "cell_type": "code",
   "execution_count": 78,
   "id": "98e763db",
   "metadata": {},
   "outputs": [
    {
     "name": "stdout",
     "output_type": "stream",
     "text": [
      "12.0 12\n",
      "23.0 34\n",
      "33.666666666666664 55\n",
      "41.75 66\n",
      "47.8 72\n"
     ]
    }
   ],
   "source": [
    "sum=0\n",
    "count=0\n",
    "for i in [12,34,55,66,72]:\n",
    "    sum = sum + i\n",
    "    count = count + 1\n",
    "    print(sum/count,i)"
   ]
  },
  {
   "cell_type": "code",
   "execution_count": 81,
   "id": "ddff3166",
   "metadata": {},
   "outputs": [
    {
     "name": "stdout",
     "output_type": "stream",
     "text": [
      "Large number 34\n",
      "Large number 55\n",
      "Large number 66\n",
      "Large number 72\n"
     ]
    }
   ],
   "source": [
    "for i in [12,34,55,66,72]:\n",
    "    if i>20:\n",
    "        print('Large number',i)"
   ]
  },
  {
   "cell_type": "code",
   "execution_count": 82,
   "id": "75c075d0",
   "metadata": {},
   "outputs": [
    {
     "data": {
      "text/plain": [
       "[12, 34, 55, 66, 72]"
      ]
     },
     "execution_count": 82,
     "metadata": {},
     "output_type": "execute_result"
    }
   ],
   "source": [
    "[12,34,55,66,72]"
   ]
  },
  {
   "cell_type": "code",
   "execution_count": 85,
   "id": "87e83a35",
   "metadata": {},
   "outputs": [
    {
     "name": "stdout",
     "output_type": "stream",
     "text": [
      "12 False\n",
      "34 False\n",
      "3 True\n",
      "55 True\n",
      "66 True\n",
      "72 True\n"
     ]
    }
   ],
   "source": [
    "found = False\n",
    "for i in [12,34,3,55,66,72]:\n",
    "    if i == 3:\n",
    "        found = True\n",
    "    print(i,found)"
   ]
  },
  {
   "cell_type": "code",
   "execution_count": 89,
   "id": "218abaa3",
   "metadata": {},
   "outputs": [
    {
     "name": "stdout",
     "output_type": "stream",
     "text": [
      "12\n",
      "34\n",
      "34\n",
      "55\n",
      "66\n",
      "72\n"
     ]
    }
   ],
   "source": [
    "lsf=-1\n",
    "for i in [12,34,3,55,66,72]:\n",
    "    if i>lsf:\n",
    "        lsf=i\n",
    "    print(lsf)"
   ]
  },
  {
   "cell_type": "code",
   "execution_count": null,
   "id": "1da378d8",
   "metadata": {},
   "outputs": [],
   "source": []
  }
 ],
 "metadata": {
  "kernelspec": {
   "display_name": "Python 3",
   "language": "python",
   "name": "python3"
  },
  "language_info": {
   "codemirror_mode": {
    "name": "ipython",
    "version": 3
   },
   "file_extension": ".py",
   "mimetype": "text/x-python",
   "name": "python",
   "nbconvert_exporter": "python",
   "pygments_lexer": "ipython3",
   "version": "3.8.8"
  }
 },
 "nbformat": 4,
 "nbformat_minor": 5
}
