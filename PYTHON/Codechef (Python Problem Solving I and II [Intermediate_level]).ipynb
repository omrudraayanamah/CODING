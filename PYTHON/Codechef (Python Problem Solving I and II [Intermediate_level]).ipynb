{
 "cells": [
  {
   "cell_type": "markdown",
   "id": "3ca08031",
   "metadata": {},
   "source": [
    "## SEPTEMBER, 2023"
   ]
  },
  {
   "cell_type": "code",
   "execution_count": 28,
   "id": "494a7f8a",
   "metadata": {
    "scrolled": true
   },
   "outputs": [
    {
     "name": "stdout",
     "output_type": "stream",
     "text": [
      "2 3\n"
     ]
    }
   ],
   "source": [
    "A,B = map(int, input().split())"
   ]
  },
  {
   "cell_type": "code",
   "execution_count": 29,
   "id": "4c40f22e",
   "metadata": {},
   "outputs": [
    {
     "name": "stdout",
     "output_type": "stream",
     "text": [
      "2 3\n"
     ]
    }
   ],
   "source": [
    "print(A,B)"
   ]
  },
  {
   "cell_type": "code",
   "execution_count": 30,
   "id": "5c4660ab",
   "metadata": {},
   "outputs": [
    {
     "name": "stdout",
     "output_type": "stream",
     "text": [
      "3\n",
      "1\n",
      "1\n",
      "22\n",
      "22\n",
      "33\n",
      "33\n"
     ]
    }
   ],
   "source": [
    "t = int(input())\n",
    "for i in range(t):\n",
    "    N = int(input())\n",
    "    print(N)"
   ]
  },
  {
   "cell_type": "code",
   "execution_count": null,
   "id": "62782d66",
   "metadata": {},
   "outputs": [],
   "source": [
    "t = int(input())\n",
    "for i in range(t):\n",
    "    A, B = map(int,input().split())\n",
    "    C, D, E = map(int,input().split())\n",
    "    print(A, B, C, D, E)"
   ]
  },
  {
   "cell_type": "code",
   "execution_count": null,
   "id": "9172ed3d",
   "metadata": {},
   "outputs": [],
   "source": [
    "t = int(input())\n",
    "for i in range(t):\n",
    "    #Accept 2 integers inputs\n",
    "    A, B = map(int,input())     \n",
    "    #Sum of inputs\n",
    "    S = A + B               \n",
    "    #Product of inputs\n",
    "    P = A * B               \n",
    "    #Print the desired output for each test case\n",
    "    print(S,P)          "
   ]
  },
  {
   "cell_type": "code",
   "execution_count": 35,
   "id": "2613fce3",
   "metadata": {},
   "outputs": [
    {
     "name": "stdout",
     "output_type": "stream",
     "text": [
      "1\n",
      "10 5\n",
      "5 2.0\n"
     ]
    }
   ],
   "source": [
    "# Update the '_' below to solve the problem\n",
    "\n",
    "t = int(input())\n",
    "for i in range(t):\n",
    "    #Accept 2 integers as inputs. Note that A >= B and A is divisble by B.\n",
    "    A, B = map(int,input().split())     \n",
    "    #Difference of inputs\n",
    "    D = A - B               \n",
    "    #Division of inputs\n",
    "    Q = A / B               \n",
    "    #Print the desired output for each test case      \n",
    "    print(D,Q)              "
   ]
  },
  {
   "cell_type": "code",
   "execution_count": null,
   "id": "f2a6265f",
   "metadata": {},
   "outputs": [],
   "source": [
    "# Update the '_' in the code below to solve this problem\n",
    "\n",
    "t = int(input())\n",
    "for i in range(t):\n",
    "    A, B = map(int, input().split())\n",
    "    print((A - B), (B - A), abs(A - B), abs(B - A))\n",
    "    "
   ]
  },
  {
   "cell_type": "code",
   "execution_count": 39,
   "id": "dcaab746",
   "metadata": {},
   "outputs": [
    {
     "name": "stdout",
     "output_type": "stream",
     "text": [
      "3\n",
      "3 5\n",
      "4.0\n",
      "6 6\n",
      "6.0\n",
      "2 7\n",
      "4.5\n"
     ]
    }
   ],
   "source": [
    "# Step 1: Read and understand the problem statement and sample test cases\n",
    "\n",
    "# Click on 'Next' once you are ready to proceed.\n",
    "t = int(input())\n",
    "for i in range(t):\n",
    "    A, C = map(int, input().split())\n",
    "    \n",
    "    print((A + C)/2) \n",
    "    "
   ]
  },
  {
   "cell_type": "code",
   "execution_count": 40,
   "id": "58f17d98",
   "metadata": {},
   "outputs": [
    {
     "data": {
      "text/plain": [
       "float"
      ]
     },
     "execution_count": 40,
     "metadata": {},
     "output_type": "execute_result"
    }
   ],
   "source": [
    "type(4.0)"
   ]
  },
  {
   "cell_type": "code",
   "execution_count": 41,
   "id": "08a2683c",
   "metadata": {},
   "outputs": [
    {
     "data": {
      "text/plain": [
       "3"
      ]
     },
     "execution_count": 41,
     "metadata": {},
     "output_type": "execute_result"
    }
   ],
   "source": [
    "int(3.5)"
   ]
  },
  {
   "cell_type": "code",
   "execution_count": 65,
   "id": "1a415908",
   "metadata": {},
   "outputs": [
    {
     "name": "stdout",
     "output_type": "stream",
     "text": [
      "2\n",
      "4\n",
      "3\n"
     ]
    }
   ],
   "source": [
    "def is_integer_solution(A, B):\n",
    "    return (A + B) % 2 == 0\n",
    "\n",
    "A = int(input())\n",
    "B = int(input())\n",
    "c = (A + B)/2\n",
    "if is_integer_solution(A, B):\n",
    "    print(int(c))\n",
    "else:\n",
    "    print(-1)\n"
   ]
  },
  {
   "cell_type": "code",
   "execution_count": null,
   "id": "939fa587",
   "metadata": {},
   "outputs": [],
   "source": [
    "# Update the program below to solve the problem\n",
    "\n",
    "t = int(input())            \n",
    "for i in range(t):          \n",
    "    A, C = map(int, input().split())\n",
    "    B = int((A + C)/2)\n",
    "    if A%2 == 0 and C%2 == 0:\n",
    "        print(B)\n",
    "    elif A%2 != 0 and C!= 0:\n",
    "        print(B)\n",
    "    else:\n",
    "        print(-1)"
   ]
  },
  {
   "cell_type": "code",
   "execution_count": 68,
   "id": "07bc60c3",
   "metadata": {},
   "outputs": [
    {
     "data": {
      "text/plain": [
       "2"
      ]
     },
     "execution_count": 68,
     "metadata": {},
     "output_type": "execute_result"
    }
   ],
   "source": [
    "3 - X%3"
   ]
  },
  {
   "cell_type": "code",
   "execution_count": 76,
   "id": "cac1e04d",
   "metadata": {},
   "outputs": [
    {
     "name": "stdout",
     "output_type": "stream",
     "text": [
      "3\n",
      "2 4\n",
      "2\n",
      "6 0\n",
      "12\n",
      "4 3\n",
      "5\n"
     ]
    }
   ],
   "source": [
    "t = int(input())\n",
    "for i in range(t):\n",
    "    N, M = map(int, input().split())\n",
    "    if M>N: print(N)\n",
    "    else:    \n",
    "        print(2 * N  - M)"
   ]
  },
  {
   "cell_type": "code",
   "execution_count": 77,
   "id": "1ef9f930",
   "metadata": {},
   "outputs": [],
   "source": [
    "sample_list = [5, 3, 2, 4, 1]"
   ]
  },
  {
   "cell_type": "code",
   "execution_count": 78,
   "id": "c8ad9727",
   "metadata": {},
   "outputs": [
    {
     "name": "stdout",
     "output_type": "stream",
     "text": [
      "[5, 3, 2, 4, 1]\n"
     ]
    }
   ],
   "source": [
    "print(sample_list)"
   ]
  },
  {
   "cell_type": "code",
   "execution_count": 80,
   "id": "c35c1ddc",
   "metadata": {},
   "outputs": [
    {
     "data": {
      "text/plain": [
       "4"
      ]
     },
     "execution_count": 80,
     "metadata": {},
     "output_type": "execute_result"
    }
   ],
   "source": [
    "sample_list[3]"
   ]
  },
  {
   "cell_type": "code",
   "execution_count": 81,
   "id": "8fdc80b2",
   "metadata": {},
   "outputs": [
    {
     "data": {
      "text/plain": [
       "2"
      ]
     },
     "execution_count": 81,
     "metadata": {},
     "output_type": "execute_result"
    }
   ],
   "source": [
    "sample_list[-3]"
   ]
  },
  {
   "cell_type": "code",
   "execution_count": 82,
   "id": "4ef628ee",
   "metadata": {},
   "outputs": [
    {
     "data": {
      "text/plain": [
       "[3, 2, 4]"
      ]
     },
     "execution_count": 82,
     "metadata": {},
     "output_type": "execute_result"
    }
   ],
   "source": [
    "sample_list[1:4]"
   ]
  },
  {
   "cell_type": "code",
   "execution_count": 83,
   "id": "5c167781",
   "metadata": {},
   "outputs": [],
   "source": [
    "sample_list.append(6)"
   ]
  },
  {
   "cell_type": "code",
   "execution_count": 84,
   "id": "6359b8f4",
   "metadata": {},
   "outputs": [
    {
     "data": {
      "text/plain": [
       "[5, 3, 2, 4, 1, 6]"
      ]
     },
     "execution_count": 84,
     "metadata": {},
     "output_type": "execute_result"
    }
   ],
   "source": [
    "sample_list"
   ]
  },
  {
   "cell_type": "code",
   "execution_count": 85,
   "id": "61cc9aab",
   "metadata": {},
   "outputs": [],
   "source": [
    "sample_list.sort()"
   ]
  },
  {
   "cell_type": "code",
   "execution_count": 86,
   "id": "a74909b8",
   "metadata": {},
   "outputs": [
    {
     "data": {
      "text/plain": [
       "[1, 2, 3, 4, 5, 6]"
      ]
     },
     "execution_count": 86,
     "metadata": {},
     "output_type": "execute_result"
    }
   ],
   "source": [
    "sample_list"
   ]
  },
  {
   "cell_type": "code",
   "execution_count": 87,
   "id": "531490a7",
   "metadata": {},
   "outputs": [
    {
     "data": {
      "text/plain": [
       "3"
      ]
     },
     "execution_count": 87,
     "metadata": {},
     "output_type": "execute_result"
    }
   ],
   "source": [
    "sample_list.pop(2)"
   ]
  },
  {
   "cell_type": "code",
   "execution_count": 88,
   "id": "e3411518",
   "metadata": {},
   "outputs": [
    {
     "data": {
      "text/plain": [
       "[1, 2, 4, 5, 6]"
      ]
     },
     "execution_count": 88,
     "metadata": {},
     "output_type": "execute_result"
    }
   ],
   "source": [
    "sample_list"
   ]
  },
  {
   "cell_type": "code",
   "execution_count": 89,
   "id": "3d3fd858",
   "metadata": {},
   "outputs": [
    {
     "data": {
      "text/plain": [
       "[1, 2, 4, 5, 6, 1, 2, 4, 5, 6]"
      ]
     },
     "execution_count": 89,
     "metadata": {},
     "output_type": "execute_result"
    }
   ],
   "source": [
    "sample_list + sample_list"
   ]
  },
  {
   "cell_type": "code",
   "execution_count": 94,
   "id": "461bcc76",
   "metadata": {},
   "outputs": [
    {
     "name": "stdout",
     "output_type": "stream",
     "text": [
      "1\n",
      "5\n",
      "[1, 2, 3, 4, 5]\n",
      "1 2 3 4 5\n"
     ]
    }
   ],
   "source": [
    "t = int(input())\n",
    "for i in range(t):\n",
    "    N = int(input())\n",
    "    A = []\n",
    "    for i in range(N):\n",
    "        A.append(i+1)\n",
    "    print(A)\n",
    "    print(*A)\n",
    "    "
   ]
  },
  {
   "cell_type": "code",
   "execution_count": 93,
   "id": "6410b16a",
   "metadata": {},
   "outputs": [
    {
     "name": "stdout",
     "output_type": "stream",
     "text": [
      "1 2 3 4 5\n"
     ]
    }
   ],
   "source": [
    "print(*A)"
   ]
  },
  {
   "cell_type": "code",
   "execution_count": 98,
   "id": "dbd81515",
   "metadata": {},
   "outputs": [],
   "source": [
    "A.sort(reverse=True)"
   ]
  },
  {
   "cell_type": "code",
   "execution_count": 99,
   "id": "6fc9ed8a",
   "metadata": {},
   "outputs": [
    {
     "data": {
      "text/plain": [
       "[5, 4, 3, 2, 1]"
      ]
     },
     "execution_count": 99,
     "metadata": {},
     "output_type": "execute_result"
    }
   ],
   "source": [
    "A"
   ]
  },
  {
   "cell_type": "code",
   "execution_count": 101,
   "id": "2141c210",
   "metadata": {},
   "outputs": [
    {
     "name": "stdout",
     "output_type": "stream",
     "text": [
      "7 2\n",
      "-5 -3 -2 0 1 3 5\n",
      "[-5, -3, -2, 0, 1, 3, 5] 3 3 2\n"
     ]
    }
   ],
   "source": [
    "N, k = map(int, input().split())\n",
    "A = list(map(int, input().split()))\n",
    "pos = 0\n",
    "neg = 0\n",
    "divk = 0\n",
    "i = 0\n",
    "while i < len(A):\n",
    "    if A[i] > 0:\n",
    "        pos += 1\n",
    "    elif A[i] < 0:\n",
    "        neg += 1\n",
    "    if A[i]%k == 0:\n",
    "        divk += 1\n",
    "    i += 1\n",
    "print(A, pos, neg, divk)"
   ]
  },
  {
   "cell_type": "code",
   "execution_count": 102,
   "id": "3e4dad6b",
   "metadata": {},
   "outputs": [
    {
     "name": "stdout",
     "output_type": "stream",
     "text": [
      "5\n",
      "2 3 4 5 6 \n"
     ]
    }
   ],
   "source": [
    "N = int(input())\n",
    "A = list(map(int, input().split()))\n"
   ]
  },
  {
   "cell_type": "code",
   "execution_count": 103,
   "id": "a6e327dd",
   "metadata": {},
   "outputs": [
    {
     "data": {
      "text/plain": [
       "[2, 3, 4, 5, 6]"
      ]
     },
     "execution_count": 103,
     "metadata": {},
     "output_type": "execute_result"
    }
   ],
   "source": [
    "A"
   ]
  },
  {
   "cell_type": "code",
   "execution_count": null,
   "id": "3f7024ca",
   "metadata": {},
   "outputs": [],
   "source": [
    "# this code has some logical error - debug this code to solve the problem\n",
    "\n",
    "t = int(input())\n",
    "for i in range(t):\n",
    "    n = int(input())\n",
    "    A = list(map(int,input().split()))\n",
    "    \n",
    "    count_neg = 0\n",
    "    count_zero = A.count(0)\n",
    "    \n",
    "    if count_zero > 0:\n",
    "        print(0)\n",
    "    else:\n",
    "        i = 0\n",
    "        while i<n:\n",
    "            if A[i] < 0:\n",
    "                count_neg = count_neg + 1\n",
    "            i = i + 1\n",
    "        \n",
    "        if count_neg%2 != 0:\n",
    "            print(1)"
   ]
  },
  {
   "cell_type": "code",
   "execution_count": 58,
   "id": "578f5709",
   "metadata": {},
   "outputs": [],
   "source": [
    "A = [1,2,3,5,0,-5,-7,0]"
   ]
  },
  {
   "cell_type": "code",
   "execution_count": 26,
   "id": "a7d201d3",
   "metadata": {},
   "outputs": [],
   "source": [
    "del(A[2])"
   ]
  },
  {
   "cell_type": "code",
   "execution_count": null,
   "id": "3cb0ba44",
   "metadata": {},
   "outputs": [],
   "source": [
    "count_neg = 0\n",
    "\n",
    "\n",
    "if A.count(0) > 0:\n",
    "    print(0)\n",
    "else:\n",
    "    i = 0\n",
    "    while i < n:\n",
    "        if A[i]<0:\n",
    "            count_neg += 1\n",
    "        i = i + 1\n",
    "\n",
    "    if count_neg%2 == 0:\n",
    "        print(0)\n",
    "    else:\n",
    "        print(1)"
   ]
  },
  {
   "cell_type": "code",
   "execution_count": 37,
   "id": "1d199a47",
   "metadata": {},
   "outputs": [
    {
     "data": {
      "text/plain": [
       "[1, 2, 5, 0, -5, -7, 0]"
      ]
     },
     "execution_count": 37,
     "metadata": {},
     "output_type": "execute_result"
    }
   ],
   "source": [
    "A"
   ]
  },
  {
   "cell_type": "code",
   "execution_count": 30,
   "id": "f559d09b",
   "metadata": {},
   "outputs": [
    {
     "data": {
      "text/plain": [
       "1"
      ]
     },
     "execution_count": 30,
     "metadata": {},
     "output_type": "execute_result"
    }
   ],
   "source": [
    "A.count(-5)"
   ]
  },
  {
   "cell_type": "code",
   "execution_count": 36,
   "id": "4c8e4d56",
   "metadata": {},
   "outputs": [
    {
     "name": "stdout",
     "output_type": "stream",
     "text": [
      "1\n",
      "2\n",
      "5\n",
      "0\n",
      "-5\n",
      "-7\n",
      "0\n"
     ]
    }
   ],
   "source": [
    "for i in A:\n",
    "    print(i)"
   ]
  },
  {
   "cell_type": "code",
   "execution_count": 41,
   "id": "54acdfa4",
   "metadata": {},
   "outputs": [
    {
     "data": {
      "text/plain": [
       "-7"
      ]
     },
     "execution_count": 41,
     "metadata": {},
     "output_type": "execute_result"
    }
   ],
   "source": [
    "min(A)\n"
   ]
  },
  {
   "cell_type": "code",
   "execution_count": 42,
   "id": "e82d6de5",
   "metadata": {},
   "outputs": [
    {
     "data": {
      "text/plain": [
       "[2, 5, 0, -5, -7, 0]"
      ]
     },
     "execution_count": 42,
     "metadata": {},
     "output_type": "execute_result"
    }
   ],
   "source": [
    "A"
   ]
  },
  {
   "cell_type": "code",
   "execution_count": 43,
   "id": "e277313e",
   "metadata": {},
   "outputs": [
    {
     "data": {
      "text/plain": [
       "-7"
      ]
     },
     "execution_count": 43,
     "metadata": {},
     "output_type": "execute_result"
    }
   ],
   "source": [
    "min(A)"
   ]
  },
  {
   "cell_type": "code",
   "execution_count": 59,
   "id": "f0e64527",
   "metadata": {},
   "outputs": [
    {
     "data": {
      "text/plain": [
       "[1, 2, 3, 5, 0, -5, -7, 0]"
      ]
     },
     "execution_count": 59,
     "metadata": {},
     "output_type": "execute_result"
    }
   ],
   "source": [
    "A"
   ]
  },
  {
   "cell_type": "code",
   "execution_count": 60,
   "id": "bb9d58d7",
   "metadata": {},
   "outputs": [
    {
     "data": {
      "text/plain": [
       "-7"
      ]
     },
     "execution_count": 60,
     "metadata": {},
     "output_type": "execute_result"
    }
   ],
   "source": [
    "min(A)"
   ]
  },
  {
   "cell_type": "code",
   "execution_count": 67,
   "id": "afbf3717",
   "metadata": {},
   "outputs": [],
   "source": [
    "A = [1,2,3,5,0,0]"
   ]
  },
  {
   "cell_type": "code",
   "execution_count": 73,
   "id": "14a2533d",
   "metadata": {},
   "outputs": [],
   "source": [
    "index_of_min = A.index(min(A))\n",
    "A[0] = A[index_of_min]"
   ]
  },
  {
   "cell_type": "code",
   "execution_count": 74,
   "id": "4c32bbff",
   "metadata": {},
   "outputs": [
    {
     "data": {
      "text/plain": [
       "[0, 1, 2, 3, 5, 0]"
      ]
     },
     "execution_count": 74,
     "metadata": {},
     "output_type": "execute_result"
    }
   ],
   "source": [
    "A"
   ]
  },
  {
   "cell_type": "code",
   "execution_count": 71,
   "id": "12553c02",
   "metadata": {},
   "outputs": [],
   "source": [
    "A[0]=A[3]"
   ]
  },
  {
   "cell_type": "code",
   "execution_count": 72,
   "id": "93554946",
   "metadata": {},
   "outputs": [
    {
     "data": {
      "text/plain": [
       "[3, 1, 2, 3, 5, 0]"
      ]
     },
     "execution_count": 72,
     "metadata": {},
     "output_type": "execute_result"
    }
   ],
   "source": [
    "A"
   ]
  },
  {
   "cell_type": "code",
   "execution_count": null,
   "id": "e6ec2bfd",
   "metadata": {},
   "outputs": [],
   "source": []
  },
  {
   "cell_type": "code",
   "execution_count": 75,
   "id": "044219c1",
   "metadata": {},
   "outputs": [
    {
     "name": "stdout",
     "output_type": "stream",
     "text": [
      "1\n",
      "5 2 4 1 3\n",
      "1 5 2 4 3\n"
     ]
    }
   ],
   "source": [
    "# Update the '_' in the code below to solve the problem\n",
    "\n",
    "t = int(input())\n",
    "for i in range(t):\n",
    "    A = list(map(int,input().split()))\n",
    "    N = len(A)\n",
    "    \n",
    "    # We first find the smallest element, and which index it is in.\n",
    "    minElement = A[0]\n",
    "    minElementIndex = 0\n",
    "    i = 1\n",
    "    while i < N:\n",
    "        if A[i] < minElement:\n",
    "            # If we find an element smaller than the previous smallest, we update\n",
    "            minElement = A[i]\n",
    "            minElementIndex = i\n",
    "        i = i + 1\n",
    "    \n",
    "    #We are starting the operation from index of the smallest element\n",
    "    i = minElementIndex\n",
    "    while i > 0:\n",
    "        #Swap the A[i] and A[i-1]\n",
    "        A[i],A[i-1] = A[i-1], A[i]      \n",
    "        i = i - 1\n",
    "    \n",
    "    print(*A)"
   ]
  },
  {
   "cell_type": "code",
   "execution_count": 86,
   "id": "aefab7b3",
   "metadata": {},
   "outputs": [
    {
     "name": "stdout",
     "output_type": "stream",
     "text": [
      "1\n",
      "5 2 4 1 3\n",
      "1 5 2 4 3\n"
     ]
    }
   ],
   "source": [
    "t = int(input())\n",
    "for i in range(t):\n",
    "    A = list(map(int, input().split()))\n",
    "    N = len(A)\n",
    "    \n",
    "    min_ele = A[0]\n",
    "    min_ele_index = 0\n",
    "    i = 0\n",
    "    while i < N:\n",
    "        if A[i] < min_ele:\n",
    "            min_ele = A[i]\n",
    "            min_ele_index = i\n",
    "            \n",
    "        i = i + 1\n",
    "        \n",
    "        \n",
    "        \n",
    "        j = min_ele_index\n",
    "    while j > 0:\n",
    "        A[j], A[j-1] = A[j-1], A[j]\n",
    "        \n",
    "        j = j-1\n",
    "        \n",
    "    print(*A)\n",
    "\n",
    "    \n",
    "    \n"
   ]
  },
  {
   "cell_type": "code",
   "execution_count": 80,
   "id": "02343893",
   "metadata": {},
   "outputs": [],
   "source": [
    "A[3], A[2] = A[2], A[3]"
   ]
  },
  {
   "cell_type": "code",
   "execution_count": 78,
   "id": "8974e527",
   "metadata": {},
   "outputs": [],
   "source": [
    "A[3] = A[2]"
   ]
  },
  {
   "cell_type": "code",
   "execution_count": 81,
   "id": "dc235e65",
   "metadata": {},
   "outputs": [
    {
     "data": {
      "text/plain": [
       "[5, 2, 4, 4, 3]"
      ]
     },
     "execution_count": 81,
     "metadata": {},
     "output_type": "execute_result"
    }
   ],
   "source": [
    "A"
   ]
  },
  {
   "cell_type": "code",
   "execution_count": 92,
   "id": "23f3d3a1",
   "metadata": {},
   "outputs": [
    {
     "name": "stdout",
     "output_type": "stream",
     "text": [
      "1\n",
      "-1 -3 -7\n",
      "-1 0\n"
     ]
    }
   ],
   "source": [
    "t = int(input())\n",
    "for i in range(t):\n",
    "    A = list(map(int, input().split()))\n",
    "    n = len(A)\n",
    "    max_ele = A[0]\n",
    "    max_ele_index = 0\n",
    "    i = 0\n",
    "    while i < n:\n",
    "        if max_ele <= A[i]:\n",
    "            max_ele = A[i]\n",
    "            max_ele_index = i\n",
    "        i += 1\n",
    "    print(max_ele, max_ele_index)\n",
    "    "
   ]
  },
  {
   "cell_type": "code",
   "execution_count": 88,
   "id": "a2c7a838",
   "metadata": {},
   "outputs": [
    {
     "data": {
      "text/plain": [
       "[5, 2, 4, 1, 3]"
      ]
     },
     "execution_count": 88,
     "metadata": {},
     "output_type": "execute_result"
    }
   ],
   "source": [
    "A"
   ]
  },
  {
   "cell_type": "code",
   "execution_count": 89,
   "id": "92ffbb33",
   "metadata": {},
   "outputs": [
    {
     "data": {
      "text/plain": [
       "5"
      ]
     },
     "execution_count": 89,
     "metadata": {},
     "output_type": "execute_result"
    }
   ],
   "source": [
    "n"
   ]
  },
  {
   "cell_type": "code",
   "execution_count": 102,
   "id": "52d417ab",
   "metadata": {},
   "outputs": [
    {
     "name": "stdout",
     "output_type": "stream",
     "text": [
      "1\n",
      "6\n",
      "3 -3 3 -2 3 -7\n"
     ]
    }
   ],
   "source": [
    "t = int(input())\n",
    "for i in range(t):\n",
    "    N = int(input())\n",
    "    A = list(map(int,input().split()))\n",
    "    unique = []\n",
    "    freq = []\n",
    "    \n",
    "                \n"
   ]
  },
  {
   "cell_type": "code",
   "execution_count": 103,
   "id": "3a94ce90",
   "metadata": {},
   "outputs": [
    {
     "data": {
      "text/plain": [
       "[3, -3, 3, -2, 3, -7]"
      ]
     },
     "execution_count": 103,
     "metadata": {},
     "output_type": "execute_result"
    }
   ],
   "source": [
    "A"
   ]
  },
  {
   "cell_type": "code",
   "execution_count": 117,
   "id": "31f8512c",
   "metadata": {},
   "outputs": [
    {
     "data": {
      "text/plain": [
       "{-7, -3, -2, 3}"
      ]
     },
     "execution_count": 117,
     "metadata": {},
     "output_type": "execute_result"
    }
   ],
   "source": [
    "set(A)"
   ]
  },
  {
   "cell_type": "code",
   "execution_count": 118,
   "id": "9d664a5b",
   "metadata": {},
   "outputs": [],
   "source": [
    "B = []"
   ]
  },
  {
   "cell_type": "code",
   "execution_count": 119,
   "id": "e347d3d8",
   "metadata": {},
   "outputs": [],
   "source": [
    "B = list(set(A))"
   ]
  },
  {
   "cell_type": "code",
   "execution_count": 120,
   "id": "b75b5aac",
   "metadata": {},
   "outputs": [
    {
     "data": {
      "text/plain": [
       "[-7, 3, -3, -2]"
      ]
     },
     "execution_count": 120,
     "metadata": {},
     "output_type": "execute_result"
    }
   ],
   "source": [
    "B"
   ]
  },
  {
   "cell_type": "code",
   "execution_count": 125,
   "id": "7d663a58",
   "metadata": {},
   "outputs": [],
   "source": [
    "C = [3, -3, 3, -2, 3, -7]"
   ]
  },
  {
   "cell_type": "code",
   "execution_count": 127,
   "id": "23997aae",
   "metadata": {},
   "outputs": [],
   "source": [
    "D = list(set(C))"
   ]
  },
  {
   "cell_type": "code",
   "execution_count": 129,
   "id": "c92147df",
   "metadata": {},
   "outputs": [],
   "source": [
    "D.sort()"
   ]
  },
  {
   "cell_type": "code",
   "execution_count": 130,
   "id": "e3d6c45b",
   "metadata": {},
   "outputs": [
    {
     "data": {
      "text/plain": [
       "[-7, -3, -2, 3]"
      ]
     },
     "execution_count": 130,
     "metadata": {},
     "output_type": "execute_result"
    }
   ],
   "source": [
    "D"
   ]
  },
  {
   "cell_type": "code",
   "execution_count": 131,
   "id": "eb3f4a3b",
   "metadata": {},
   "outputs": [
    {
     "data": {
      "text/plain": [
       "[3, -3, 3, -2, 3, -7]"
      ]
     },
     "execution_count": 131,
     "metadata": {},
     "output_type": "execute_result"
    }
   ],
   "source": [
    "A"
   ]
  },
  {
   "cell_type": "code",
   "execution_count": 132,
   "id": "a1bed1d9",
   "metadata": {},
   "outputs": [
    {
     "data": {
      "text/plain": [
       "3"
      ]
     },
     "execution_count": 132,
     "metadata": {},
     "output_type": "execute_result"
    }
   ],
   "source": [
    "A.count(3)"
   ]
  },
  {
   "cell_type": "code",
   "execution_count": 134,
   "id": "6b742d02",
   "metadata": {},
   "outputs": [
    {
     "name": "stdout",
     "output_type": "stream",
     "text": [
      "-7\n",
      "-3\n",
      "-2\n",
      "3\n"
     ]
    }
   ],
   "source": [
    "for i in D:\n",
    "    print(i)"
   ]
  },
  {
   "cell_type": "code",
   "execution_count": 150,
   "id": "fc934932",
   "metadata": {},
   "outputs": [
    {
     "name": "stdout",
     "output_type": "stream",
     "text": [
      "1\n",
      "6\n",
      "3 -3 3 -2 3 -7\n",
      "[-7, -3, -2, 3]\n",
      "-7 -3 -2 3\n",
      "1 1 1 3\n"
     ]
    }
   ],
   "source": [
    "t = int(input())\n",
    "for i in range(t):\n",
    "    N = int(input())\n",
    "    A = list(map(int, input().split()))\n",
    "    unique = []\n",
    "    freq = []\n",
    "    unique = list(set(A))\n",
    "    unique.sort()\n",
    "\n",
    "    for i in unique:\n",
    "        freq.append(A.count(i))\n",
    "    \n",
    "    print(*unique) \n",
    "    print(*freq) "
   ]
  },
  {
   "cell_type": "code",
   "execution_count": 158,
   "id": "dc984bbf",
   "metadata": {},
   "outputs": [],
   "source": [
    "A = [1,2,3,4,5,6]"
   ]
  },
  {
   "cell_type": "code",
   "execution_count": 143,
   "id": "be12fc66",
   "metadata": {},
   "outputs": [
    {
     "data": {
      "text/plain": [
       "1"
      ]
     },
     "execution_count": 143,
     "metadata": {},
     "output_type": "execute_result"
    }
   ],
   "source": [
    "A.count(-7)"
   ]
  },
  {
   "cell_type": "code",
   "execution_count": 162,
   "id": "c929c6dd",
   "metadata": {},
   "outputs": [
    {
     "name": "stdout",
     "output_type": "stream",
     "text": [
      "Y\n"
     ]
    }
   ],
   "source": [
    "if 6 == A[5]:\n",
    "    print('Y')\n",
    "else:\n",
    "    print('N')"
   ]
  },
  {
   "cell_type": "code",
   "execution_count": 160,
   "id": "16ab0f86",
   "metadata": {},
   "outputs": [
    {
     "data": {
      "text/plain": [
       "5"
      ]
     },
     "execution_count": 160,
     "metadata": {},
     "output_type": "execute_result"
    }
   ],
   "source": [
    "A.index(6)"
   ]
  },
  {
   "cell_type": "code",
   "execution_count": 191,
   "id": "4e4d3b07",
   "metadata": {},
   "outputs": [
    {
     "name": "stdout",
     "output_type": "stream",
     "text": [
      "1\n",
      "2\n",
      "6 13\n",
      "8\n"
     ]
    }
   ],
   "source": [
    "# Update the code below to solve the problem\n",
    "\n",
    "t = int(input())\n",
    "for i in range(t):\n",
    "    N = int(input())\n",
    "    A = list(map(int, input().split()))\n",
    "    hol = [6,7,13,14,20,21,27,28] \n",
    "    \n",
    "    for element in hol:\n",
    "        \n",
    "        if element in A:\n",
    "            A.pop(A.index(element))\n",
    "            \n",
    "    \n",
    "    print(len(hol) + len(A))"
   ]
  },
  {
   "cell_type": "code",
   "execution_count": 168,
   "id": "e15ba08d",
   "metadata": {},
   "outputs": [
    {
     "data": {
      "text/plain": [
       "[6, 7, 13, 14, 20, 21, 27, 28]"
      ]
     },
     "execution_count": 168,
     "metadata": {},
     "output_type": "execute_result"
    }
   ],
   "source": [
    "hol"
   ]
  },
  {
   "cell_type": "code",
   "execution_count": 169,
   "id": "72bc2f6d",
   "metadata": {},
   "outputs": [
    {
     "data": {
      "text/plain": [
       "[5, 7]"
      ]
     },
     "execution_count": 169,
     "metadata": {},
     "output_type": "execute_result"
    }
   ],
   "source": [
    "A"
   ]
  },
  {
   "cell_type": "code",
   "execution_count": 172,
   "id": "f49f1bcf",
   "metadata": {},
   "outputs": [
    {
     "data": {
      "text/plain": [
       "8"
      ]
     },
     "execution_count": 172,
     "metadata": {},
     "output_type": "execute_result"
    }
   ],
   "source": [
    "len(hol)"
   ]
  },
  {
   "cell_type": "code",
   "execution_count": 185,
   "id": "b2fafa8d",
   "metadata": {},
   "outputs": [],
   "source": [
    "A = [6,13]"
   ]
  },
  {
   "cell_type": "code",
   "execution_count": 177,
   "id": "ac7ff3c4",
   "metadata": {},
   "outputs": [
    {
     "data": {
      "text/plain": [
       "13"
      ]
     },
     "execution_count": 177,
     "metadata": {},
     "output_type": "execute_result"
    }
   ],
   "source": [
    "A.pop()"
   ]
  },
  {
   "cell_type": "code",
   "execution_count": 178,
   "id": "04300c92",
   "metadata": {},
   "outputs": [
    {
     "data": {
      "text/plain": [
       "[6]"
      ]
     },
     "execution_count": 178,
     "metadata": {},
     "output_type": "execute_result"
    }
   ],
   "source": [
    "A"
   ]
  },
  {
   "cell_type": "code",
   "execution_count": 179,
   "id": "261fb13a",
   "metadata": {},
   "outputs": [
    {
     "data": {
      "text/plain": [
       "6"
      ]
     },
     "execution_count": 179,
     "metadata": {},
     "output_type": "execute_result"
    }
   ],
   "source": [
    "A.pop()"
   ]
  },
  {
   "cell_type": "code",
   "execution_count": 180,
   "id": "d2a3e361",
   "metadata": {},
   "outputs": [
    {
     "data": {
      "text/plain": [
       "[]"
      ]
     },
     "execution_count": 180,
     "metadata": {},
     "output_type": "execute_result"
    }
   ],
   "source": [
    "A"
   ]
  },
  {
   "cell_type": "code",
   "execution_count": 181,
   "id": "d48784c7",
   "metadata": {},
   "outputs": [
    {
     "data": {
      "text/plain": [
       "0"
      ]
     },
     "execution_count": 181,
     "metadata": {},
     "output_type": "execute_result"
    }
   ],
   "source": [
    "len(A)"
   ]
  },
  {
   "cell_type": "code",
   "execution_count": 187,
   "id": "7b820218",
   "metadata": {},
   "outputs": [
    {
     "data": {
      "text/plain": [
       "6"
      ]
     },
     "execution_count": 187,
     "metadata": {},
     "output_type": "execute_result"
    }
   ],
   "source": [
    "A.pop(0)"
   ]
  },
  {
   "cell_type": "code",
   "execution_count": 188,
   "id": "9a72c528",
   "metadata": {},
   "outputs": [
    {
     "data": {
      "text/plain": [
       "[13]"
      ]
     },
     "execution_count": 188,
     "metadata": {},
     "output_type": "execute_result"
    }
   ],
   "source": [
    "A"
   ]
  },
  {
   "cell_type": "markdown",
   "id": "c5363ea8",
   "metadata": {},
   "source": [
    "### Basic string operations"
   ]
  },
  {
   "cell_type": "code",
   "execution_count": 195,
   "id": "dc00aa0b",
   "metadata": {},
   "outputs": [
    {
     "name": "stdout",
     "output_type": "stream",
     "text": [
      "1\n",
      "shivam\n",
      "shivam\n",
      "mavihs\n"
     ]
    }
   ],
   "source": [
    "#Update the code below to solve this problem\n",
    "\n",
    "t = int(input())\n",
    "for i in range(t):\n",
    "    S = str(input())\n",
    "    A = S\n",
    "    # Write the code below this line to generate String A\n",
    "    \n",
    "    B = \"\"\n",
    "    # Write the code below this line to generate String B\n",
    "    B = A[::-1]\n",
    "    print(A)\n",
    "    print(B)"
   ]
  },
  {
   "cell_type": "code",
   "execution_count": 10,
   "id": "4ab23496",
   "metadata": {},
   "outputs": [
    {
     "name": "stdout",
     "output_type": "stream",
     "text": [
      "2\n",
      "10001\n",
      "10000\n",
      "2 1 4\n",
      "10101\n",
      "00110\n",
      "3 2 2\n"
     ]
    }
   ],
   "source": [
    "t = int(input())\n",
    "for i in range(t):\n",
    "    A = input()\n",
    "    B = input()\n",
    "    \n",
    "    count1 = 0\n",
    "    count2 = 0\n",
    "    count3 = 0\n",
    "    \n",
    "    for i in range(len(A)):\n",
    "        if A[i] == '1':\n",
    "            count1 += 1\n",
    "            \n",
    "        if B[i] == '1':\n",
    "            count2 += 1\n",
    "        \n",
    "        if A[i] == B[i]:\n",
    "            count3 += 1\n",
    "    \n",
    "    print(count1,count2,count3)\n",
    "    \n",
    "    \n",
    "    "
   ]
  },
  {
   "cell_type": "code",
   "execution_count": 16,
   "id": "2e34e00a",
   "metadata": {},
   "outputs": [
    {
     "name": "stdout",
     "output_type": "stream",
     "text": [
      "1\n",
      "12346\n",
      "No\n"
     ]
    }
   ],
   "source": [
    "t = int(input())\n",
    "for i in range(t):\n",
    "    A = input()\n",
    "    i = 0\n",
    "    flag = 0\n",
    "    \n",
    "    while i < len(A):\n",
    "        if A[i] == '0' or A[i] == '5':\n",
    "            flag = 1\n",
    "            break\n",
    "        \n",
    "        i = i + 1\n",
    "    if flag == 1:\n",
    "        print('Yes')\n",
    "    else:\n",
    "        print('No')"
   ]
  },
  {
   "cell_type": "code",
   "execution_count": 19,
   "id": "c751f05a",
   "metadata": {},
   "outputs": [
    {
     "name": "stdout",
     "output_type": "stream",
     "text": [
      "3\n",
      "abc\n",
      "97 98 99\n",
      "MXZ\n",
      "77 88 90\n",
      "mxz\n",
      "109 120 122\n"
     ]
    }
   ],
   "source": [
    "t = int(input())\n",
    "for i in range(t):\n",
    "    S = input()\n",
    "    A = []\n",
    "    for i in S:\n",
    "        A.append(ord(i))\n",
    "    print(*A)"
   ]
  },
  {
   "cell_type": "code",
   "execution_count": 21,
   "id": "f911203e",
   "metadata": {},
   "outputs": [
    {
     "name": "stdout",
     "output_type": "stream",
     "text": [
      "1\n",
      "1005\n",
      "5001\n",
      "YES\n"
     ]
    }
   ],
   "source": [
    "t = int(input())\n",
    "for i in range(t):\n",
    "    A = input()\n",
    "    B = input()\n",
    "    if A == B[::-1]:\n",
    "        print('YES')\n",
    "    else:\n",
    "        print('NO')"
   ]
  },
  {
   "cell_type": "code",
   "execution_count": 24,
   "id": "6425eaa7",
   "metadata": {},
   "outputs": [
    {
     "name": "stdout",
     "output_type": "stream",
     "text": [
      "1\n",
      "ABCDE\n",
      "EDCBA\n",
      "['B', 'B', 'G', 'B', 'B']\n"
     ]
    }
   ],
   "source": [
    "# Update the code below to solve the problem\n",
    "\n",
    "t = int(input())\n",
    "for i in range(t):\n",
    "    S = input()\n",
    "    T = input()\n",
    "    M = \"\"\n",
    "    for i in range(len(S)):\n",
    "        if S[i] == T[i]:\n",
    "            M = M + 'G'\n",
    "        else:\n",
    "            M = M + 'B'\n",
    "    print(M)"
   ]
  },
  {
   "cell_type": "code",
   "execution_count": 35,
   "id": "2b003782",
   "metadata": {},
   "outputs": [],
   "source": [
    "M = \"\""
   ]
  },
  {
   "cell_type": "code",
   "execution_count": 36,
   "id": "15c72d56",
   "metadata": {},
   "outputs": [],
   "source": [
    "M = M + 'G'"
   ]
  },
  {
   "cell_type": "code",
   "execution_count": 38,
   "id": "13b5ddfd",
   "metadata": {},
   "outputs": [
    {
     "data": {
      "text/plain": [
       "'G'"
      ]
     },
     "execution_count": 38,
     "metadata": {},
     "output_type": "execute_result"
    }
   ],
   "source": [
    "M"
   ]
  },
  {
   "cell_type": "code",
   "execution_count": 40,
   "id": "0a3f2377",
   "metadata": {},
   "outputs": [
    {
     "name": "stdout",
     "output_type": "stream",
     "text": [
      "Yes\n"
     ]
    }
   ],
   "source": [
    "if M == 'G' or 'B' or 'C' :\n",
    "    print('Yes')"
   ]
  },
  {
   "cell_type": "code",
   "execution_count": 41,
   "id": "29ff44c1",
   "metadata": {},
   "outputs": [],
   "source": [
    "S = 'abcdeeafgh'"
   ]
  },
  {
   "cell_type": "code",
   "execution_count": 47,
   "id": "0d787a7e",
   "metadata": {},
   "outputs": [
    {
     "data": {
      "text/plain": [
       "False"
      ]
     },
     "execution_count": 47,
     "metadata": {},
     "output_type": "execute_result"
    }
   ],
   "source": [
    "S[i:i+3] == 'a'"
   ]
  },
  {
   "cell_type": "code",
   "execution_count": 45,
   "id": "33f0da07",
   "metadata": {},
   "outputs": [],
   "source": [
    "i = 0"
   ]
  },
  {
   "cell_type": "code",
   "execution_count": 62,
   "id": "590ae66e",
   "metadata": {
    "scrolled": true
   },
   "outputs": [
    {
     "name": "stdout",
     "output_type": "stream",
     "text": [
      "1\n",
      "abcaae\n",
      "a b c Sad\n",
      "b c a Sad\n",
      "c a a Sad\n",
      "a a e Happy\n"
     ]
    }
   ],
   "source": [
    "t = int(input())\n",
    "for i in range(t):\n",
    "    S = input()\n",
    "    ans = 'Sad'\n",
    "    if len(S) > 2: \n",
    "        for i in range(len(S)-2):\n",
    "            if (S[i] == 'a' or S[i] == 'e' or S[i] ==  'i' or S[i] ==  'o' or S[i] ==  'u') and (S[i+1] == 'a' or S[i+1] == 'e' or S[i+1] == 'i' or S[i+1] == 'o' or S[i+1] == 'u') and (S[i+2] == 'a' or S[i+2] == 'e' or S[i+2] == 'i' or S[i+2] == 'o' or S[i+2] == 'u'):\n",
    "                ans = 'Happy'                              \n",
    "                \n",
    "            print(ans)                                                  \n",
    "                                                                                                 \n",
    "            \n",
    "    else:                                               \n",
    "        print(ans)           "
   ]
  },
  {
   "cell_type": "markdown",
   "id": "6c6bc484",
   "metadata": {},
   "source": [
    "### Continuation of basic math"
   ]
  },
  {
   "cell_type": "code",
   "execution_count": 66,
   "id": "e9029f3b",
   "metadata": {},
   "outputs": [
    {
     "name": "stdout",
     "output_type": "stream",
     "text": [
      "1\n",
      "12\n",
      "1\n",
      "2\n",
      "3\n",
      "4\n",
      "6\n",
      "12\n"
     ]
    }
   ],
   "source": [
    "t = int(input())\n",
    "for i in range(t):\n",
    "    n = int(input())\n",
    "    for i in range(1,n+1):\n",
    "        if n%i == 0:\n",
    "            print(i)"
   ]
  },
  {
   "cell_type": "code",
   "execution_count": 64,
   "id": "0369e9bc",
   "metadata": {},
   "outputs": [
    {
     "data": {
      "text/plain": [
       "12"
      ]
     },
     "execution_count": 64,
     "metadata": {},
     "output_type": "execute_result"
    }
   ],
   "source": [
    "n"
   ]
  },
  {
   "cell_type": "code",
   "execution_count": 65,
   "id": "52151125",
   "metadata": {},
   "outputs": [
    {
     "data": {
      "text/plain": [
       "0"
      ]
     },
     "execution_count": 65,
     "metadata": {},
     "output_type": "execute_result"
    }
   ],
   "source": [
    "i"
   ]
  },
  {
   "cell_type": "code",
   "execution_count": 68,
   "id": "609f9e3f",
   "metadata": {},
   "outputs": [
    {
     "name": "stdout",
     "output_type": "stream",
     "text": [
      "1\n",
      "123456\n",
      "1 2 3 4 5 6\n"
     ]
    }
   ],
   "source": [
    "t = int(input())\n",
    "for i in range(t):\n",
    "    N = input()\n",
    "    lst = []                                         \n",
    "    for i in N:\n",
    "        lst.append(i)\n",
    "    print(*lst)"
   ]
  },
  {
   "cell_type": "code",
   "execution_count": 3,
   "id": "12c5c7e0",
   "metadata": {},
   "outputs": [
    {
     "name": "stdout",
     "output_type": "stream",
     "text": [
      "1234\n"
     ]
    }
   ],
   "source": [
    "n = int(input())"
   ]
  },
  {
   "cell_type": "code",
   "execution_count": 4,
   "id": "6570c20f",
   "metadata": {
    "scrolled": true
   },
   "outputs": [
    {
     "data": {
      "text/plain": [
       "1234"
      ]
     },
     "execution_count": 4,
     "metadata": {},
     "output_type": "execute_result"
    }
   ],
   "source": [
    "n"
   ]
  },
  {
   "cell_type": "code",
   "execution_count": 6,
   "id": "cd9ff761",
   "metadata": {},
   "outputs": [],
   "source": [
    "n = n//10"
   ]
  },
  {
   "cell_type": "code",
   "execution_count": 8,
   "id": "4b548751",
   "metadata": {},
   "outputs": [
    {
     "data": {
      "text/plain": [
       "12"
      ]
     },
     "execution_count": 8,
     "metadata": {},
     "output_type": "execute_result"
    }
   ],
   "source": [
    "n//10"
   ]
  },
  {
   "cell_type": "code",
   "execution_count": 11,
   "id": "d4dc9021",
   "metadata": {},
   "outputs": [
    {
     "name": "stdout",
     "output_type": "stream",
     "text": [
      "1\n",
      "1234\n",
      "1 2 3 4\n"
     ]
    }
   ],
   "source": [
    "# Update the code below to solve the problem                 \n",
    "\n",
    "t = int(input())\n",
    "for i in range(t):\n",
    "    n = int(input())\n",
    "    #list to hold all integers of the number\n",
    "    final_ans = []          \n",
    "    \n",
    "    while n>0:\n",
    "        #insert the last digit of n the start of the list\n",
    "        final_ans.insert(0, (n%10))     \n",
    "        #update n as n//10 - removes the last digit of n\n",
    "        n = n//10          \n",
    "    \n",
    "    print(*final_ans)  "
   ]
  },
  {
   "cell_type": "code",
   "execution_count": 13,
   "id": "34aaea86",
   "metadata": {},
   "outputs": [
    {
     "name": "stdout",
     "output_type": "stream",
     "text": [
      "1\n",
      "1234\n",
      "1 2 3 4\n"
     ]
    }
   ],
   "source": [
    "# Update the '_' in the code below to solve the problem\n",
    "\n",
    "t = int(input())\n",
    "for i in range(t):\n",
    "    #declare N as a string instead of an integer\n",
    "    N = (input())        \n",
    "    \n",
    "    #list to hold all digits of the number\n",
    "    final_ans = []          \n",
    "    \n",
    "    #useful string syntax\n",
    "    for i in N:             \n",
    "        final_ans.append(i)\n",
    "        \n",
    "    print(*final_ans)\n"
   ]
  },
  {
   "cell_type": "code",
   "execution_count": 18,
   "id": "e50de40e",
   "metadata": {},
   "outputs": [],
   "source": [
    "import math"
   ]
  },
  {
   "cell_type": "code",
   "execution_count": 21,
   "id": "8fd36d9f",
   "metadata": {},
   "outputs": [
    {
     "data": {
      "text/plain": [
       "4.0"
      ]
     },
     "execution_count": 21,
     "metadata": {},
     "output_type": "execute_result"
    }
   ],
   "source": [
    "math.log(16)/math.log(2)"
   ]
  },
  {
   "cell_type": "code",
   "execution_count": 36,
   "id": "757f61d2",
   "metadata": {},
   "outputs": [
    {
     "name": "stdout",
     "output_type": "stream",
     "text": [
      "1\n",
      "1 3\n",
      "NO\n"
     ]
    }
   ],
   "source": [
    "t = int(input())\n",
    "for i in range(t):\n",
    "    A, B = map(int,input().split())\n",
    "    if A == B: print('YES')\n",
    "    \n",
    "    elif A < B:\n",
    "        while  A < B:\n",
    "            A = A * 2\n",
    "            if A == B:\n",
    "                print('YES')\n",
    "                break\n",
    "            if A > B:\n",
    "                print('NO')\n",
    "    else: \n",
    "        while  B < A:\n",
    "            B = B * 2\n",
    "            if B == A:\n",
    "                print('YES')\n",
    "                break\n",
    "            if B > A:\n",
    "                print('NO')"
   ]
  },
  {
   "cell_type": "markdown",
   "id": "dbc6c939",
   "metadata": {},
   "source": [
    "# *"
   ]
  },
  {
   "cell_type": "code",
   "execution_count": null,
   "id": "87061f9c",
   "metadata": {},
   "outputs": [],
   "source": [
    "#Update the '_' in the code below to solve the problem\n",
    "\n",
    "t = int(input())\n",
    "for i in range(t):\n",
    "    A, B = map(int, input().split())\n",
    "    \n",
    "    #Declare variables for lower and higher of the 2 numbers                                   \n",
    "    minAB = min(A,B)        \n",
    "    maxAB = max(A,B)\n",
    "    flag = 0\n",
    "    \n",
    "    while minAB <= maxAB:\n",
    "        #condition is met, hence set flag = 1\n",
    "        if minAB == maxAB:  \n",
    "            flag = 1\n",
    "            break\n",
    "        else:\n",
    "            #update the minimum value as per the problem statement\n",
    "            minAB = minAB * 2 \n",
    "        \n",
    "    if flag == 1:\n",
    "        print('YES')\n",
    "    else:\n",
    "        print('NO')"
   ]
  },
  {
   "cell_type": "code",
   "execution_count": 40,
   "id": "61b7f1e1",
   "metadata": {},
   "outputs": [
    {
     "name": "stdout",
     "output_type": "stream",
     "text": [
      "1\n",
      "1 1 1 1\n",
      "Yes\n"
     ]
    }
   ],
   "source": [
    "# Update the code below to solve the problem\n",
    "\n",
    "t = int(input())\n",
    "for i in range(t):\n",
    "    t1, t2, r1, r2 = map(int,input().split())\n",
    "    if (t1**2)/(t2**2) == (r1**3)/(r2**3):\n",
    "        print('Yes')\n",
    "    else:\n",
    "        print('No')"
   ]
  },
  {
   "cell_type": "code",
   "execution_count": 52,
   "id": "eb7a8150",
   "metadata": {},
   "outputs": [
    {
     "name": "stdout",
     "output_type": "stream",
     "text": [
      "1\n",
      "2 8\n",
      "0\n"
     ]
    }
   ],
   "source": [
    "t = int(input())\n",
    "for i in range(t):\n",
    "    A, B = map(int, input().split())\n",
    "    n = 1               \n",
    "    while n > 0: \n",
    "        if A == 0: \n",
    "            print(B)  \n",
    "            break \n",
    "           \n",
    "        else: \n",
    "            A = B % A \n",
    "            B = A \n",
    "        "
   ]
  },
  {
   "cell_type": "code",
   "execution_count": 47,
   "id": "5fc02658",
   "metadata": {},
   "outputs": [],
   "source": [
    "B = 11"
   ]
  },
  {
   "cell_type": "code",
   "execution_count": 48,
   "id": "640c2680",
   "metadata": {},
   "outputs": [],
   "source": [
    "A = 5"
   ]
  },
  {
   "cell_type": "code",
   "execution_count": 53,
   "id": "f59589d4",
   "metadata": {},
   "outputs": [],
   "source": [
    "n,m = 9,6 "
   ]
  },
  {
   "cell_type": "code",
   "execution_count": 63,
   "id": "38676200",
   "metadata": {},
   "outputs": [
    {
     "name": "stdout",
     "output_type": "stream",
     "text": [
      "1\n",
      "24 32\n",
      "8 96\n"
     ]
    }
   ],
   "source": [
    "t = int(input())\n",
    "for i in range(t):\n",
    "    A, B = map(int, input().split())\n",
    "    orA = A\n",
    "    orB = B\n",
    "    while A>0 and B>0:\n",
    "        if B>A: B = B%A\n",
    "        else:\n",
    "            A = A%B\n",
    "        \n",
    "    if A==0: hcf = B\n",
    "    else:\n",
    "        hcf = A\n",
    "    \n",
    "    lcm = (orA*orB)//(hcf)\n",
    "    \n",
    "    print(hcf,lcm)"
   ]
  },
  {
   "cell_type": "code",
   "execution_count": 62,
   "id": "a217f790",
   "metadata": {},
   "outputs": [
    {
     "data": {
      "text/plain": [
       "0"
      ]
     },
     "execution_count": 62,
     "metadata": {},
     "output_type": "execute_result"
    }
   ],
   "source": [
    "# Update the '_' in the code below to solve the problem\n",
    "\n",
    "t = int(input())\n",
    "for i in range(t):\n",
    "    A, B = map(int, input().split())\n",
    "    \n",
    "    # Create an empty list\n",
    "    divisors_AandB = []     \n",
    "    i = 1\n",
    "    while i <= min(A,B):\n",
    "        #divides both A and B\n",
    "        if A%i == 0 and B%i == 0:   \n",
    "            #append the integer to the list\n",
    "            divisors_AandB.append(i)    \n",
    "        i = i + 1\n",
    "    \n",
    "    #gcd is the greatest common divisor\n",
    "    gcd = max(divisors_AandB)\n",
    "    #math property\n",
    "    lcm = (A*B)//(gcd)\n",
    "    \n",
    "    print(gcd, lcm)"
   ]
  },
  {
   "cell_type": "code",
   "execution_count": 66,
   "id": "94dad7ac",
   "metadata": {},
   "outputs": [
    {
     "name": "stdout",
     "output_type": "stream",
     "text": [
      "1\n",
      "4 9\n",
      "4 1 0\n",
      "9 1 0\n",
      "4 2 0\n",
      "9 2 1\n",
      "4 3 1\n",
      "9 3 0\n",
      "4 4 0\n",
      "9 4 1\n",
      "1 36\n"
     ]
    }
   ],
   "source": [
    "# Update the '_' in the code below to solve the problem\n",
    "\n",
    "t = int(input())\n",
    "for i in range(t):\n",
    "    A, B = map(int, input().split())\n",
    "    \n",
    "    # Create an empty list\n",
    "    divisors_AandB = []     \n",
    "    i = 1\n",
    "    while i <= min(A,B):\n",
    "        #divides both A and B\n",
    "        if A%i == 0 and B%i == 0:   \n",
    "            #append the integer to the list\n",
    "            divisors_AandB.append(i)    \n",
    "        i = i + 1\n",
    "    \n",
    "    #gcd is the greatest common divisor\n",
    "    gcd = max(divisors_AandB)\n",
    "    #math property\n",
    "    lcm = (A*B)//(gcd)\n",
    "    \n",
    "    print(gcd, lcm)"
   ]
  },
  {
   "cell_type": "code",
   "execution_count": 69,
   "id": "0cf68cfc",
   "metadata": {},
   "outputs": [
    {
     "name": "stdout",
     "output_type": "stream",
     "text": [
      "1\n",
      "4 9\n",
      "1\n"
     ]
    }
   ],
   "source": [
    "t = int(input())\n",
    "for i in range(t):\n",
    "    A,B = map(int, input().split())\n",
    "    i = 1\n",
    "    lst = []\n",
    "    while i <= min(A,B):\n",
    "        if A%i == 0 and B%i == 0:\n",
    "            lst.append(i)\n",
    "        i = i + 1\n",
    "    hcf = max(lst)\n",
    "    print(hcf)"
   ]
  },
  {
   "cell_type": "code",
   "execution_count": 70,
   "id": "5edcdec0",
   "metadata": {},
   "outputs": [],
   "source": [
    "import math"
   ]
  },
  {
   "cell_type": "code",
   "execution_count": 71,
   "id": "9124d359",
   "metadata": {},
   "outputs": [
    {
     "data": {
      "text/plain": [
       "2.0"
      ]
     },
     "execution_count": 71,
     "metadata": {},
     "output_type": "execute_result"
    }
   ],
   "source": [
    "math.sqrt(4)"
   ]
  },
  {
   "cell_type": "code",
   "execution_count": 72,
   "id": "c9d5f202",
   "metadata": {},
   "outputs": [
    {
     "data": {
      "text/plain": [
       "4"
      ]
     },
     "execution_count": 72,
     "metadata": {},
     "output_type": "execute_result"
    }
   ],
   "source": [
    "math.gcd(4,36)"
   ]
  },
  {
   "cell_type": "code",
   "execution_count": 73,
   "id": "3474c8a0",
   "metadata": {},
   "outputs": [
    {
     "data": {
      "text/plain": [
       "1"
      ]
     },
     "execution_count": 73,
     "metadata": {},
     "output_type": "execute_result"
    }
   ],
   "source": [
    "math.floor(1.89)"
   ]
  },
  {
   "cell_type": "code",
   "execution_count": 80,
   "id": "be5861c8",
   "metadata": {},
   "outputs": [
    {
     "data": {
      "text/plain": [
       "2"
      ]
     },
     "execution_count": 80,
     "metadata": {},
     "output_type": "execute_result"
    }
   ],
   "source": [
    "math.ceil(1.29)"
   ]
  },
  {
   "cell_type": "code",
   "execution_count": 82,
   "id": "c0f3760e",
   "metadata": {},
   "outputs": [
    {
     "data": {
      "text/plain": [
       "36.0"
      ]
     },
     "execution_count": 82,
     "metadata": {},
     "output_type": "execute_result"
    }
   ],
   "source": [
    "math.pow(6,2)"
   ]
  },
  {
   "cell_type": "code",
   "execution_count": 103,
   "id": "785a66b6",
   "metadata": {},
   "outputs": [
    {
     "name": "stdout",
     "output_type": "stream",
     "text": [
      "1\n",
      "2\n",
      "YES\n"
     ]
    }
   ],
   "source": [
    "t = int(input())\n",
    "for i in range(t):\n",
    "    N = int(input())\n",
    "    \n",
    "    flag = 0\n",
    "    for X in range(N):\n",
    "        for Y in range(N):\n",
    "            if N == 2*X + 7*Y:\n",
    "                flag = 1\n",
    "                break\n",
    "    if flag == 1:\n",
    "        print('YES')\n",
    "    else:\n",
    "        print('NO')\n",
    "        \n",
    "         "
   ]
  },
  {
   "cell_type": "code",
   "execution_count": 104,
   "id": "44b6db30",
   "metadata": {},
   "outputs": [
    {
     "name": "stdout",
     "output_type": "stream",
     "text": [
      "4\n",
      "2\n",
      "YES\n",
      "5\n",
      "NO\n",
      "7\n",
      "NO\n",
      "11\n",
      "NO\n"
     ]
    }
   ],
   "source": [
    "t = int(input())\n",
    "for i in range(t):\n",
    "    N = int(input())\n",
    "    if (N - 7*Y) and %2 == 0:\n",
    "        print('YES')\n",
    "    else: \n",
    "        print('NO')"
   ]
  },
  {
   "cell_type": "code",
   "execution_count": 107,
   "id": "cb5326a2",
   "metadata": {},
   "outputs": [
    {
     "name": "stdout",
     "output_type": "stream",
     "text": [
      "1\n",
      "9\n",
      "YES\n"
     ]
    }
   ],
   "source": [
    "# Solution as follows\n",
    "\n",
    "t = int(input())\n",
    "for i in range(t):\n",
    "    N = int(input())\n",
    "    \n",
    "    if N == 1 or N == 3 or N == 5:\n",
    "        print('NO')\n",
    "    else:\n",
    "        print('YES')"
   ]
  },
  {
   "cell_type": "code",
   "execution_count": null,
   "id": "13a837d8",
   "metadata": {},
   "outputs": [],
   "source": [
    "# The code below is incorrect. Debug the code to solve the problem\n",
    "\n",
    "t=int(input())\n",
    "for i in range(t):\n",
    "    a, b = map(int, input().split())\n",
    "    if a%3==0 or b%3==0:\n",
    "        print(0)\n",
    "    else:\n",
    "        if abs(a-b)%3==0:\n",
    "            print(1)\n",
    "        else:\n",
    "            print(2)"
   ]
  },
  {
   "cell_type": "code",
   "execution_count": 112,
   "id": "9a1cb822",
   "metadata": {},
   "outputs": [
    {
     "name": "stdout",
     "output_type": "stream",
     "text": [
      "3\n",
      "1 5\n",
      "1\n",
      "2 4\n",
      "2\n",
      "4 6\n",
      "2\n"
     ]
    }
   ],
   "source": [
    "t = int(input())\n",
    "for i in range(t):\n",
    "    N,M = map(int, input().split())\n",
    "    gcd = math.gcd(N,M)\n",
    "    print(gcd)"
   ]
  }
 ],
 "metadata": {
  "kernelspec": {
   "display_name": "Python 3",
   "language": "python",
   "name": "python3"
  },
  "language_info": {
   "codemirror_mode": {
    "name": "ipython",
    "version": 3
   },
   "file_extension": ".py",
   "mimetype": "text/x-python",
   "name": "python",
   "nbconvert_exporter": "python",
   "pygments_lexer": "ipython3",
   "version": "3.8.8"
  }
 },
 "nbformat": 4,
 "nbformat_minor": 5
}
