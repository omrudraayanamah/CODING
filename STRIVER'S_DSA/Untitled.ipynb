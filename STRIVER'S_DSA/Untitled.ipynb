{
 "cells": [
  {
   "cell_type": "markdown",
   "id": "b89cc2d0",
   "metadata": {},
   "source": [
    "STEP 1"
   ]
  },
  {
   "cell_type": "markdown",
   "id": "6db98495",
   "metadata": {},
   "source": [
    "1.1"
   ]
  },
  {
   "cell_type": "code",
   "execution_count": 6,
   "id": "6981074d",
   "metadata": {},
   "outputs": [
    {
     "name": "stdout",
     "output_type": "stream",
     "text": [
      "6\n",
      "-1\n"
     ]
    }
   ],
   "source": [
    "char = input()\n",
    "if char.isupper():\n",
    "    print(1)\n",
    "elif char.islower():\n",
    "    print(0)\n",
    "else:\n",
    "    print(-1)"
   ]
  },
  {
   "cell_type": "code",
   "execution_count": null,
   "id": "c7dee51b",
   "metadata": {},
   "outputs": [],
   "source": [
    "if type == 'Integer':\n",
    "    return 4\n",
    "elif type == 'Long':\n",
    "    return 8\n",
    "elif type == 'Float':\n",
    "    return 4\n",
    "elif type == 'Double':\n",
    "    return 8\n",
    "elif type == 'Character':\n",
    "    return 1\n",
    "else:\n",
    "    return -1\n",
    "\n"
   ]
  }
 ],
 "metadata": {
  "kernelspec": {
   "display_name": "Python 3",
   "language": "python",
   "name": "python3"
  },
  "language_info": {
   "codemirror_mode": {
    "name": "ipython",
    "version": 3
   },
   "file_extension": ".py",
   "mimetype": "text/x-python",
   "name": "python",
   "nbconvert_exporter": "python",
   "pygments_lexer": "ipython3",
   "version": "3.8.8"
  }
 },
 "nbformat": 4,
 "nbformat_minor": 5
}
