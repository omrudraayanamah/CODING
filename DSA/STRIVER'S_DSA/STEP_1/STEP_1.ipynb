{
 "cells": [
  {
   "cell_type": "markdown",
   "id": "c0c68f00",
   "metadata": {},
   "source": [
    "## STEP 1.5"
   ]
  },
  {
   "cell_type": "code",
   "execution_count": 14,
   "id": "80bd119c",
   "metadata": {},
   "outputs": [],
   "source": [
    "from typing import List\n",
    "def sumFirstN(n: int) -> int:\n",
    "    print(n)\n",
    "    # Write your code here.\n",
    "    if n==0:\n",
    "        return 0\n",
    "    else:\n",
    "        return n + sumFirstN(n-1)\n",
    "    pass"
   ]
  },
  {
   "cell_type": "code",
   "execution_count": 15,
   "id": "091f415d",
   "metadata": {},
   "outputs": [
    {
     "name": "stdout",
     "output_type": "stream",
     "text": [
      "3\n",
      "2\n",
      "1\n",
      "0\n"
     ]
    },
    {
     "data": {
      "text/plain": [
       "6"
      ]
     },
     "execution_count": 15,
     "metadata": {},
     "output_type": "execute_result"
    }
   ],
   "source": [
    "sumFirstN(3)"
   ]
  },
  {
   "cell_type": "code",
   "execution_count": 86,
   "id": "3d317f6b",
   "metadata": {},
   "outputs": [],
   "source": [
    "def printNos(x: int) -> List[int]:\n",
    "    # Write your code here    \n",
    "    if x!=0:\n",
    "        lst.append(x)\n",
    "        x = x-1\n",
    "        return printNos(x)\n",
    "    else:\n",
    "        return lst\n",
    "       \n",
    "    pass"
   ]
  },
  {
   "cell_type": "markdown",
   "id": "b01f9a1c",
   "metadata": {},
   "source": [
    "SEPTEMBER 27th, 2023"
   ]
  },
  {
   "cell_type": "code",
   "execution_count": 60,
   "id": "f9a07cee",
   "metadata": {},
   "outputs": [],
   "source": [
    "x = 1\n",
    "def factorial(n):\n",
    "    global x\n",
    "    if n == 0:\n",
    "        return 1\n",
    "    else: \n",
    "        x = n * factorial(n-1) \n",
    "        return x  "
   ]
  },
  {
   "cell_type": "code",
   "execution_count": 61,
   "id": "8c89f437",
   "metadata": {},
   "outputs": [
    {
     "data": {
      "text/plain": [
       "720"
      ]
     },
     "execution_count": 61,
     "metadata": {},
     "output_type": "execute_result"
    }
   ],
   "source": [
    "factorial(6)"
   ]
  },
  {
   "cell_type": "code",
   "execution_count": 135,
   "id": "f516bf83",
   "metadata": {},
   "outputs": [],
   "source": [
    "x = 1\n",
    "def factorial(n):\n",
    "    global x\n",
    "    if n == 0:\n",
    "        return 1\n",
    "    else:\n",
    "        x = n * factorial(n-1)\n",
    "        return x\n",
    "    \n",
    "    "
   ]
  },
  {
   "cell_type": "code",
   "execution_count": 136,
   "id": "d23d52ab",
   "metadata": {},
   "outputs": [
    {
     "data": {
      "text/plain": [
       "120"
      ]
     },
     "execution_count": 136,
     "metadata": {},
     "output_type": "execute_result"
    }
   ],
   "source": [
    "factorial(5)"
   ]
  },
  {
   "cell_type": "code",
   "execution_count": 66,
   "id": "2bf83fb3",
   "metadata": {},
   "outputs": [],
   "source": [
    "n = 7"
   ]
  },
  {
   "cell_type": "code",
   "execution_count": 71,
   "id": "c889a40f",
   "metadata": {},
   "outputs": [
    {
     "name": "stdout",
     "output_type": "stream",
     "text": [
      "[1, 2, 6]\n"
     ]
    }
   ],
   "source": [
    "lst = []\n",
    "for i in range(1,n):\n",
    "    if factorial(i)>n:\n",
    "        print(lst)\n",
    "        break\n",
    "    else:\n",
    "        lst.append(factorial(i))"
   ]
  },
  {
   "cell_type": "code",
   "execution_count": 69,
   "id": "43ed186d",
   "metadata": {},
   "outputs": [
    {
     "data": {
      "text/plain": [
       "1"
      ]
     },
     "execution_count": 69,
     "metadata": {},
     "output_type": "execute_result"
    }
   ],
   "source": [
    "factorial(1)          "
   ]
  },
  {
   "cell_type": "code",
   "execution_count": 101,
   "id": "3c9481ce",
   "metadata": {},
   "outputs": [],
   "source": [
    "from typing import *\n",
    "\n",
    "def factorialNumbers(n: int) -> List[int]:\n",
    "    # Write your code here\n",
    "    lst = []\n",
    "    for i in range(1,n+1):\n",
    "        if factorial(i)>n:\n",
    "            break\n",
    "        else:\n",
    "            lst.append(factorial(i))\n",
    "    return lst                                                                                                               "
   ]
  },
  {
   "cell_type": "code",
   "execution_count": 102,
   "id": "79497321",
   "metadata": {},
   "outputs": [
    {
     "data": {
      "text/plain": [
       "[1, 2, 6]"
      ]
     },
     "execution_count": 102,
     "metadata": {},
     "output_type": "execute_result"
    }
   ],
   "source": [
    "factorialNumbers(6)   "
   ]
  },
  {
   "cell_type": "code",
   "execution_count": 103,
   "id": "1dab892f",
   "metadata": {},
   "outputs": [
    {
     "data": {
      "text/plain": [
       "[1, 2]"
      ]
     },
     "execution_count": 103,
     "metadata": {},
     "output_type": "execute_result"
    }
   ],
   "source": [
    "factorialNumbers(2)    "
   ]
  },
  {
   "cell_type": "code",
   "execution_count": 104,
   "id": "fa0eb24c",
   "metadata": {},
   "outputs": [
    {
     "name": "stdout",
     "output_type": "stream",
     "text": [
      "3\n",
      "1 2 3\n"
     ]
    }
   ],
   "source": [
    "n = int(input())       \n",
    "arr = list(map(int, input().split()))\n",
    "arr2 = []\n",
    "for i in range(n):\n",
    "    arr2.append(arr[n-i-1])\n",
    "    print(arr2)"
   ]
  },
  {
   "cell_type": "code",
   "execution_count": 105,
   "id": "ac5975b4",
   "metadata": {},
   "outputs": [
    {
     "data": {
      "text/plain": [
       "[1, 2, 3]"
      ]
     },
     "execution_count": 105,
     "metadata": {},
     "output_type": "execute_result"
    }
   ],
   "source": [
    "arr"
   ]
  },
  {
   "cell_type": "code",
   "execution_count": 110,
   "id": "0d3f0883",
   "metadata": {},
   "outputs": [
    {
     "name": "stdout",
     "output_type": "stream",
     "text": [
      "4\n",
      "1 2 3 4\n"
     ]
    }
   ],
   "source": [
    "n = int(input())       \n",
    "arr = list(map(int, input().split()))"
   ]
  },
  {
   "cell_type": "code",
   "execution_count": 137,
   "id": "fc4c9088",
   "metadata": {},
   "outputs": [],
   "source": [
    "arr2 = []\n",
    "def reversearray(n):\n",
    "    if n==0:\n",
    "        return None\n",
    "    else:\n",
    "        arr2.append(arr[n-1])\n",
    "        reversearray(n-1)\n",
    "        \n",
    "        return arr2"
   ]
  },
  {
   "cell_type": "code",
   "execution_count": 138,
   "id": "c966228c",
   "metadata": {},
   "outputs": [
    {
     "data": {
      "text/plain": [
       "[4, 3, 2, 1]"
      ]
     },
     "execution_count": 138,
     "metadata": {},
     "output_type": "execute_result"
    }
   ],
   "source": [
    "reversearray(4)"
   ]
  },
  {
   "cell_type": "code",
   "execution_count": 113,
   "id": "54f4470e",
   "metadata": {},
   "outputs": [
    {
     "data": {
      "text/plain": [
       "[None, 1, 2, 3]"
      ]
     },
     "execution_count": 113,
     "metadata": {},
     "output_type": "execute_result"
    }
   ],
   "source": [
    "arr2"
   ]
  },
  {
   "cell_type": "code",
   "execution_count": 118,
   "id": "944dccf0",
   "metadata": {},
   "outputs": [
    {
     "data": {
      "text/plain": [
       "4"
      ]
     },
     "execution_count": 118,
     "metadata": {},
     "output_type": "execute_result"
    }
   ],
   "source": [
    "arr[n-1]"
   ]
  },
  {
   "cell_type": "code",
   "execution_count": 122,
   "id": "8546421f",
   "metadata": {},
   "outputs": [
    {
     "data": {
      "text/plain": [
       "4"
      ]
     },
     "execution_count": 122,
     "metadata": {},
     "output_type": "execute_result"
    }
   ],
   "source": [
    "arr[3]"
   ]
  },
  {
   "cell_type": "code",
   "execution_count": 148,
   "id": "8d8d2422",
   "metadata": {},
   "outputs": [
    {
     "name": "stdout",
     "output_type": "stream",
     "text": [
      "4\n",
      "1 2 3 4\n"
     ]
    }
   ],
   "source": [
    "from typing import *\n",
    "arr2 = []\n",
    "n = int(input())       \n",
    "nums = list(map(int, input().split()))\n",
    "def reverseArray(n: int, nums: List[int]) -> List[int]:\n",
    "    global arr2\n",
    "    if n==0:\n",
    "            return None\n",
    "    else:\n",
    "        arr2.append(nums[n-1])\n",
    "        reverseArray(n-1)\n",
    "\n",
    "        return arr2"
   ]
  },
  {
   "cell_type": "code",
   "execution_count": 149,
   "id": "ac4fec73",
   "metadata": {},
   "outputs": [
    {
     "data": {
      "text/plain": [
       "[1, 2, 3, 4]"
      ]
     },
     "execution_count": 149,
     "metadata": {},
     "output_type": "execute_result"
    }
   ],
   "source": [
    "nums"
   ]
  },
  {
   "cell_type": "code",
   "execution_count": 151,
   "id": "5aa74413",
   "metadata": {},
   "outputs": [
    {
     "data": {
      "text/plain": [
       "[4, 3, 2, 1]"
      ]
     },
     "execution_count": 151,
     "metadata": {},
     "output_type": "execute_result"
    }
   ],
   "source": [
    "reverseArray(4)"
   ]
  },
  {
   "cell_type": "code",
   "execution_count": 160,
   "id": "127d7ed9",
   "metadata": {},
   "outputs": [
    {
     "name": "stdout",
     "output_type": "stream",
     "text": [
      "True\n"
     ]
    }
   ],
   "source": [
    "string = 'arora'\n",
    "n = len(string)\n",
    "flag = 1\n",
    "for i in range(n):\n",
    "    if string[i] != string[(n-1)-i]:\n",
    "        flag = 0\n",
    "if flag == 1:\n",
    "    print(True)\n",
    "else:\n",
    "    print(False)"
   ]
  },
  {
   "cell_type": "code",
   "execution_count": 154,
   "id": "f5256817",
   "metadata": {},
   "outputs": [],
   "source": [
    "n = len(string)"
   ]
  },
  {
   "cell_type": "code",
   "execution_count": 155,
   "id": "92aba593",
   "metadata": {},
   "outputs": [
    {
     "data": {
      "text/plain": [
       "'r'"
      ]
     },
     "execution_count": 155,
     "metadata": {},
     "output_type": "execute_result"
    }
   ],
   "source": [
    "string[6]"
   ]
  },
  {
   "cell_type": "code",
   "execution_count": 167,
   "id": "3502fa5e",
   "metadata": {},
   "outputs": [],
   "source": [
    "n = len(string)\n",
    "flag = 1\n",
    "i = 0\n",
    "def isPalindrome(string: str) -> bool:\n",
    "    global i,flag,n\n",
    "    if i == n:\n",
    "        return bool(flag)\n",
    "    else:\n",
    "        if string[i] != string[n-1-i]: flag = 0\n",
    "        print(flag)\n",
    "        i = i + 1\n",
    "        isPalindrome(string)\n",
    "    \n",
    "    return bool(flag)"
   ]
  },
  {
   "cell_type": "code",
   "execution_count": 168,
   "id": "d92e4f69",
   "metadata": {},
   "outputs": [
    {
     "data": {
      "text/plain": [
       "True"
      ]
     },
     "execution_count": 168,
     "metadata": {},
     "output_type": "execute_result"
    }
   ],
   "source": [
    "bool(flag)"
   ]
  },
  {
   "cell_type": "code",
   "execution_count": 170,
   "id": "01b2c982",
   "metadata": {},
   "outputs": [
    {
     "data": {
      "text/plain": [
       "True"
      ]
     },
     "execution_count": 170,
     "metadata": {},
     "output_type": "execute_result"
    }
   ],
   "source": [
    "isPalindrome(string)"
   ]
  },
  {
   "cell_type": "code",
   "execution_count": 177,
   "id": "54641886",
   "metadata": {},
   "outputs": [
    {
     "name": "stdout",
     "output_type": "stream",
     "text": [
      "5\n"
     ]
    }
   ],
   "source": [
    "lst = [0,1]\n",
    "i = 0\n",
    "\n",
    "def fibonacci(n):\n",
    "    global lst,i\n",
    "    if n==2:\n",
    "        return lst\n",
    "    else:                            \n",
    "        lst.append(lst[i]+lst[i+1])\n",
    "        i += 1\n",
    "        fibonacci(n-1)\n",
    "        return lst"
   ]
  },
  {
   "cell_type": "code",
   "execution_count": 178,
   "id": "773dec34",
   "metadata": {},
   "outputs": [
    {
     "data": {
      "text/plain": [
       "[0, 1, 1, 2, 3]"
      ]
     },
     "execution_count": 178,
     "metadata": {},
     "output_type": "execute_result"
    }
   ],
   "source": [
    "fibonacci(5)"
   ]
  },
  {
   "cell_type": "code",
   "execution_count": 179,
   "id": "8e37e400",
   "metadata": {},
   "outputs": [],
   "source": [
    "from typing import List\n",
    "\n",
    "lst = [0,1]\n",
    "i = 0\n",
    "\n",
    "\n",
    "def generateFibonacciNumbers(n: int) -> List[int]:\n",
    "    global lst,i\n",
    "    if n == 1:\n",
    "        return [0]\n",
    "    if n==2:\n",
    "        return lst\n",
    "    else:                            \n",
    "        lst.append(lst[i]+lst[i+1])\n",
    "        i += 1\n",
    "        generateFibonacciNumbers(n-1)\n",
    "        return lst\n",
    "    "
   ]
  },
  {
   "cell_type": "markdown",
   "id": "634cd691",
   "metadata": {},
   "source": [
    "## STEP 1.6 : LEARN THE BASIC HASHING"
   ]
  },
  {
   "cell_type": "code",
   "execution_count": 194,
   "id": "31584378",
   "metadata": {},
   "outputs": [],
   "source": [
    "arr = [1, 2, 1, 3, 2]\n",
    "queries = [1, 3, 4, 2, 10]"
   ]
  },
  {
   "cell_type": "code",
   "execution_count": 195,
   "id": "d7e9eb11",
   "metadata": {},
   "outputs": [],
   "source": [
    "def hashing(i):\n",
    "    c = arr.count(i)\n",
    "    return c"
   ]
  },
  {
   "cell_type": "code",
   "execution_count": 196,
   "id": "13333bb0",
   "metadata": {},
   "outputs": [
    {
     "data": {
      "text/plain": [
       "1"
      ]
     },
     "execution_count": 196,
     "metadata": {},
     "output_type": "execute_result"
    }
   ],
   "source": [
    "hashing(3)"
   ]
  },
  {
   "cell_type": "code",
   "execution_count": 199,
   "id": "0dcaf8b9",
   "metadata": {},
   "outputs": [
    {
     "name": "stdout",
     "output_type": "stream",
     "text": [
      "4\n",
      "1 2 1 3\n"
     ]
    }
   ],
   "source": [
    "n = int(input())\n",
    "arr = list(map(int, input().split()))"
   ]
  },
  {
   "cell_type": "code",
   "execution_count": 201,
   "id": "8923aa63",
   "metadata": {},
   "outputs": [],
   "source": [
    "hash = {}"
   ]
  },
  {
   "cell_type": "code",
   "execution_count": 214,
   "id": "5bffed94",
   "metadata": {},
   "outputs": [],
   "source": [
    "# Storing\n",
    "for i in arr:\n",
    "    if i in hash:\n",
    "        hash[i] += 1\n",
    "    else:\n",
    "        hash[i] = 1"
   ]
  },
  {
   "cell_type": "code",
   "execution_count": 215,
   "id": "5ff43f71",
   "metadata": {},
   "outputs": [
    {
     "data": {
      "text/plain": [
       "{1: 6, 2: 3, 3: 3}"
      ]
     },
     "execution_count": 215,
     "metadata": {},
     "output_type": "execute_result"
    }
   ],
   "source": [
    "hash"
   ]
  },
  {
   "cell_type": "code",
   "execution_count": 206,
   "id": "74b8bb35",
   "metadata": {},
   "outputs": [],
   "source": [
    "hash1 = {}"
   ]
  },
  {
   "cell_type": "code",
   "execution_count": 207,
   "id": "cc344758",
   "metadata": {},
   "outputs": [],
   "source": [
    "hash1[1] = 3"
   ]
  },
  {
   "cell_type": "code",
   "execution_count": 208,
   "id": "e0f24b99",
   "metadata": {},
   "outputs": [
    {
     "data": {
      "text/plain": [
       "{1: 3}"
      ]
     },
     "execution_count": 208,
     "metadata": {},
     "output_type": "execute_result"
    }
   ],
   "source": [
    "hash1"
   ]
  },
  {
   "cell_type": "code",
   "execution_count": 209,
   "id": "1fb1865c",
   "metadata": {},
   "outputs": [],
   "source": [
    "hash1[1] = hash1[1] + 1"
   ]
  },
  {
   "cell_type": "code",
   "execution_count": 210,
   "id": "be23075f",
   "metadata": {},
   "outputs": [
    {
     "data": {
      "text/plain": [
       "4"
      ]
     },
     "execution_count": 210,
     "metadata": {},
     "output_type": "execute_result"
    }
   ],
   "source": [
    "hash1[1]"
   ]
  },
  {
   "cell_type": "code",
   "execution_count": 211,
   "id": "28add793",
   "metadata": {},
   "outputs": [
    {
     "data": {
      "text/plain": [
       "4"
      ]
     },
     "execution_count": 211,
     "metadata": {},
     "output_type": "execute_result"
    }
   ],
   "source": [
    "hash1[1]"
   ]
  },
  {
   "cell_type": "code",
   "execution_count": 217,
   "id": "50eb2b12",
   "metadata": {},
   "outputs": [
    {
     "name": "stdout",
     "output_type": "stream",
     "text": [
      "3\n",
      "3\n"
     ]
    }
   ],
   "source": [
    "#fetching\n",
    "num = int(input())\n",
    "if num in hash:\n",
    "    print(hash[num])\n",
    "else:\n",
    "    print(0)"
   ]
  },
  {
   "cell_type": "code",
   "execution_count": 218,
   "id": "1c734546",
   "metadata": {},
   "outputs": [
    {
     "name": "stdout",
     "output_type": "stream",
     "text": [
      "6\n",
      "1 2 3 1 4 2\n",
      "4\n",
      "1\n"
     ]
    }
   ],
   "source": [
    "n = int(input())\n",
    "arr = list(map(int, input().split()))\n",
    "# Storing\n",
    "hash = {}\n",
    "for i in arr:\n",
    "    if i in hash:\n",
    "        hash[i] += 1\n",
    "    else:\n",
    "        hash[i] = 1\n",
    "#fetching\n",
    "num = int(input())\n",
    "if num in hash:\n",
    "    print(hash[num])\n",
    "else:\n",
    "    print(0)"
   ]
  },
  {
   "cell_type": "code",
   "execution_count": 226,
   "id": "2a332108",
   "metadata": {},
   "outputs": [
    {
     "name": "stdout",
     "output_type": "stream",
     "text": [
      "abcdabefc\n"
     ]
    }
   ],
   "source": [
    "string = input()\n",
    "hash = {}\n",
    "for i in string:\n",
    "    if i in hash:\n",
    "        hash[i] = hash[i] + 1\n",
    "    else:\n",
    "        hash[i] = 1\n"
   ]
  },
  {
   "cell_type": "code",
   "execution_count": 238,
   "id": "77348dbb",
   "metadata": {},
   "outputs": [
    {
     "name": "stdout",
     "output_type": "stream",
     "text": [
      "6 0 Yes\n"
     ]
    }
   ],
   "source": [
    "if i in hash:\n",
    "    print(i,hash[i],'Yes')"
   ]
  },
  {
   "cell_type": "code",
   "execution_count": 228,
   "id": "774fb3e1",
   "metadata": {
    "scrolled": true
   },
   "outputs": [
    {
     "data": {
      "text/plain": [
       "{'a': 2, 'b': 2, 'c': 2, 'd': 1, 'e': 1, 'f': 1}"
      ]
     },
     "execution_count": 228,
     "metadata": {},
     "output_type": "execute_result"
    }
   ],
   "source": [
    "hash"
   ]
  },
  {
   "cell_type": "code",
   "execution_count": 229,
   "id": "9d06b1a6",
   "metadata": {},
   "outputs": [
    {
     "name": "stdout",
     "output_type": "stream",
     "text": [
      "s\n",
      "0\n"
     ]
    }
   ],
   "source": [
    "q = input()\n",
    "if q in hash:\n",
    "    print(hash[q])\n",
    "else:\n",
    "    print(0)"
   ]
  },
  {
   "cell_type": "code",
   "execution_count": null,
   "id": "5d7a52cf",
   "metadata": {},
   "outputs": [],
   "source": [
    "from typing import *\n",
    "\n",
    "def countFrequency(n: int, m: int, edges: List[List[int]]):\n",
    "    lst = []\n",
    "    for i in range(1,n+1):\n",
    "        lst.append(edges.count(i))\n",
    "    return lst\n",
    "\n",
    "\n",
    "\n",
    "\n"
   ]
  },
  {
   "cell_type": "code",
   "execution_count": 230,
   "id": "6ff8400d",
   "metadata": {},
   "outputs": [
    {
     "name": "stdout",
     "output_type": "stream",
     "text": [
      "6\n",
      "4\n",
      "1 3 4 3 4 1\n"
     ]
    }
   ],
   "source": [
    "n = int(input())\n",
    "x = int(input())\n",
    "arr = list(map(int, input().split()))"
   ]
  },
  {
   "cell_type": "code",
   "execution_count": 240,
   "id": "97035507",
   "metadata": {},
   "outputs": [],
   "source": [
    "hash = {}\n",
    "for i in range(1,n+1):\n",
    "    hash[i] = 0\n",
    "for i in arr:\n",
    "    if i in hash:\n",
    "        hash[i] += 1  "
   ]
  },
  {
   "cell_type": "code",
   "execution_count": 241,
   "id": "f97fd646",
   "metadata": {},
   "outputs": [
    {
     "data": {
      "text/plain": [
       "{1: 2, 2: 0, 3: 2, 4: 2, 5: 0, 6: 0}"
      ]
     },
     "execution_count": 241,
     "metadata": {},
     "output_type": "execute_result"
    }
   ],
   "source": [
    "hash"
   ]
  },
  {
   "cell_type": "code",
   "execution_count": 233,
   "id": "8e5f083a",
   "metadata": {},
   "outputs": [],
   "source": [
    "lst = []"
   ]
  },
  {
   "cell_type": "code",
   "execution_count": 239,
   "id": "d4ae88fe",
   "metadata": {},
   "outputs": [
    {
     "data": {
      "text/plain": [
       "{1: 0, 2: 0, 3: 0, 4: 0, 5: 0, 6: 0}"
      ]
     },
     "execution_count": 239,
     "metadata": {},
     "output_type": "execute_result"
    }
   ],
   "source": [
    "hash"
   ]
  },
  {
   "cell_type": "code",
   "execution_count": 248,
   "id": "b075a5f5",
   "metadata": {},
   "outputs": [],
   "source": [
    "# Doing exact using list w no keys\n",
    "lst = []\n",
    "for i in range(1,n+1):\n",
    "    lst.append(arr.count(i))   "
   ]
  },
  {
   "cell_type": "code",
   "execution_count": 249,
   "id": "71076898",
   "metadata": {},
   "outputs": [
    {
     "data": {
      "text/plain": [
       "[2, 0, 2, 2, 0, 0]"
      ]
     },
     "execution_count": 249,
     "metadata": {},
     "output_type": "execute_result"
    }
   ],
   "source": [
    "lst"
   ]
  },
  {
   "cell_type": "code",
   "execution_count": 247,
   "id": "58f5774b",
   "metadata": {},
   "outputs": [
    {
     "data": {
      "text/plain": [
       "[1, 3, 4, 3, 4, 1]"
      ]
     },
     "execution_count": 247,
     "metadata": {},
     "output_type": "execute_result"
    }
   ],
   "source": [
    "arr"
   ]
  },
  {
   "cell_type": "code",
   "execution_count": 252,
   "id": "eaa50d8d",
   "metadata": {},
   "outputs": [
    {
     "data": {
      "text/plain": [
       "1"
      ]
     },
     "execution_count": 252,
     "metadata": {},
     "output_type": "execute_result"
    }
   ],
   "source": [
    "lst.index(min(lst)) + 1"
   ]
  },
  {
   "cell_type": "code",
   "execution_count": null,
   "id": "eab0c838",
   "metadata": {},
   "outputs": [],
   "source": [
    "from typing import List\n",
    "\n",
    "def getFrequencies(v: List[int]) -> List[int]: \n",
    "    # Write your code here\n",
    "    hash = {}\n",
    "    v.sort()\n",
    "    for i in v:\n",
    "        hash[i] = 0\n",
    "    for i in v:\n",
    "        if i in hash:\n",
    "            hash[i] += 1\n",
    "    keymax = max(hash, key=lambda k: hash[k])\n",
    "    keymin = min(hash, key=lambda k: hash[k])\n",
    "    print(keymax,keymin)"
   ]
  },
  {
   "cell_type": "code",
   "execution_count": 263,
   "id": "1992439d",
   "metadata": {},
   "outputs": [],
   "source": [
    "v = [10, 10, 10, 3, 3, 3]\n",
    "n = len(v)"
   ]
  },
  {
   "cell_type": "code",
   "execution_count": 264,
   "id": "e8981591",
   "metadata": {},
   "outputs": [],
   "source": [
    "lst = []\n",
    "for i in range(1,max(v)+1):\n",
    "    lst.append(v.count(i))\n",
    "for i in lst:\n",
    "    if i in v:\n",
    "        \n",
    "        "
   ]
  },
  {
   "cell_type": "code",
   "execution_count": 265,
   "id": "c550691b",
   "metadata": {},
   "outputs": [
    {
     "data": {
      "text/plain": [
       "[0, 0, 3, 0, 0, 0, 0, 0, 0, 3]"
      ]
     },
     "execution_count": 265,
     "metadata": {},
     "output_type": "execute_result"
    }
   ],
   "source": [
    "lst"
   ]
  },
  {
   "cell_type": "code",
   "execution_count": 261,
   "id": "f84cd067",
   "metadata": {},
   "outputs": [
    {
     "data": {
      "text/plain": [
       "1"
      ]
     },
     "execution_count": 261,
     "metadata": {},
     "output_type": "execute_result"
    }
   ],
   "source": [
    "lst.index(max(lst)) + 1, lst.index(min(lst)) + 1"
   ]
  },
  {
   "cell_type": "code",
   "execution_count": 262,
   "id": "06b8e595",
   "metadata": {},
   "outputs": [
    {
     "data": {
      "text/plain": [
       "2"
      ]
     },
     "execution_count": 262,
     "metadata": {},
     "output_type": "execute_result"
    }
   ],
   "source": [
    "lst.index(min(lst)) + 1"
   ]
  },
  {
   "cell_type": "code",
   "execution_count": 266,
   "id": "132baee7",
   "metadata": {},
   "outputs": [
    {
     "data": {
      "text/plain": [
       "{1: 2, 2: 0, 3: 2, 4: 2, 5: 0, 6: 0}"
      ]
     },
     "execution_count": 266,
     "metadata": {},
     "output_type": "execute_result"
    }
   ],
   "source": [
    "hash"
   ]
  },
  {
   "cell_type": "code",
   "execution_count": 267,
   "id": "172459d2",
   "metadata": {},
   "outputs": [
    {
     "data": {
      "text/plain": [
       "6"
      ]
     },
     "execution_count": 267,
     "metadata": {},
     "output_type": "execute_result"
    }
   ],
   "source": [
    "max(hash)"
   ]
  },
  {
   "cell_type": "code",
   "execution_count": 269,
   "id": "5f48ffb9",
   "metadata": {},
   "outputs": [],
   "source": [
    "hash = {'a': 10, 'b': 5, 'c': 15, 'd': 3}\n",
    "\n",
    "keymax = max(hash, key=lambda k: hash[k])\n",
    "\n",
    "keymin = min(hash, key=lambda k: hash[k])\n"
   ]
  },
  {
   "cell_type": "code",
   "execution_count": 270,
   "id": "b814eca9",
   "metadata": {},
   "outputs": [
    {
     "data": {
      "text/plain": [
       "'c'"
      ]
     },
     "execution_count": 270,
     "metadata": {},
     "output_type": "execute_result"
    }
   ],
   "source": [
    "keymax"
   ]
  },
  {
   "cell_type": "code",
   "execution_count": 299,
   "id": "804b58b1",
   "metadata": {},
   "outputs": [
    {
     "name": "stdout",
     "output_type": "stream",
     "text": [
      "7\n",
      "8 16 19 6 1 10 19 \n",
      "19 1\n"
     ]
    }
   ],
   "source": [
    "n = int(input())\n",
    "v = list(map(int, input().split()))\n",
    "hash = {}\n",
    "v.sort()\n",
    "for i in v:\n",
    "    hash[i] = 0\n",
    "for i in v:\n",
    "    if i in hash:\n",
    "        hash[i] += 1\n",
    "keymax = max(hash, key=lambda k: hash[k])\n",
    "keymin = min(hash, key=lambda k: hash[k])\n",
    "print(keymax,keymin)"
   ]
  },
  {
   "cell_type": "code",
   "execution_count": 296,
   "id": "5fff0d88",
   "metadata": {},
   "outputs": [],
   "source": [
    "v = [10, 10, 10, 3, 3, 3]"
   ]
  },
  {
   "cell_type": "code",
   "execution_count": 279,
   "id": "14244852",
   "metadata": {},
   "outputs": [
    {
     "data": {
      "text/plain": [
       "{10: 3, 3: 3}"
      ]
     },
     "execution_count": 279,
     "metadata": {},
     "output_type": "execute_result"
    }
   ],
   "source": [
    "hash"
   ]
  },
  {
   "cell_type": "code",
   "execution_count": 282,
   "id": "f3cce2df",
   "metadata": {},
   "outputs": [],
   "source": [
    "v.sort()"
   ]
  },
  {
   "cell_type": "code",
   "execution_count": 283,
   "id": "d12803c5",
   "metadata": {},
   "outputs": [
    {
     "data": {
      "text/plain": [
       "[3, 3, 3, 10, 10, 10]"
      ]
     },
     "execution_count": 283,
     "metadata": {},
     "output_type": "execute_result"
    }
   ],
   "source": [
    "v"
   ]
  },
  {
   "cell_type": "code",
   "execution_count": null,
   "id": "ec7625c9",
   "metadata": {},
   "outputs": [],
   "source": []
  }
 ],
 "metadata": {
  "kernelspec": {
   "display_name": "Python 3",
   "language": "python",
   "name": "python3"
  },
  "language_info": {
   "codemirror_mode": {
    "name": "ipython",
    "version": 3
   },
   "file_extension": ".py",
   "mimetype": "text/x-python",
   "name": "python",
   "nbconvert_exporter": "python",
   "pygments_lexer": "ipython3",
   "version": "3.8.8"
  }
 },
 "nbformat": 4,
 "nbformat_minor": 5
}
