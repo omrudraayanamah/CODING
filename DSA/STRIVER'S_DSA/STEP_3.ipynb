{
 "cells": [
  {
   "cell_type": "markdown",
   "id": "c5527d8b",
   "metadata": {},
   "source": [
    "OCTOBER 3, 2023"
   ]
  },
  {
   "cell_type": "markdown",
   "id": "93b72f30",
   "metadata": {},
   "source": [
    "### Step 3.1 : Easy"
   ]
  },
  {
   "cell_type": "code",
   "execution_count": null,
   "id": "85d5243c",
   "metadata": {},
   "outputs": [],
   "source": [
    "max = 0\n",
    "for i in arr:\n",
    "    if max < i:\n",
    "        max = i\n",
    "return max"
   ]
  },
  {
   "cell_type": "code",
   "execution_count": null,
   "id": "e7513da4",
   "metadata": {},
   "outputs": [],
   "source": [
    "from sys import *\n",
    "from collections import *\n",
    "from math import *\n",
    "\n",
    "def largestElement(arr: [], n: int) -> int:\n",
    "    max = 0\n",
    "    for i in arr:\n",
    "        if max < i:\n",
    "            max = i\n",
    "    return max"
   ]
  },
  {
   "cell_type": "code",
   "execution_count": 6,
   "id": "bd803edd",
   "metadata": {},
   "outputs": [
    {
     "name": "stdout",
     "output_type": "stream",
     "text": [
      "4 3\n"
     ]
    }
   ],
   "source": [
    "n = 4\n",
    "a = [3, 4, 5, 2]\n",
    "a.pop(a.index(min(a)))\n",
    "s = min(a)\n",
    "a.pop(a.index(max(a)))\n",
    "r = max(a)\n",
    "print(r,s)\n"
   ]
  },
  {
   "cell_type": "code",
   "execution_count": 4,
   "id": "1eac9458",
   "metadata": {},
   "outputs": [],
   "source": [
    "def getSecondOrderElements(n: int,  a: [int]) -> [int]:\n",
    "    # Write your code here.\n",
    "    a.pop(a.index(min(a)))\n",
    "    s = min(a)\n",
    "    a.pop(a.index(max(a)))\n",
    "    r = max(a)\n",
    "    return [r,s]"
   ]
  },
  {
   "cell_type": "code",
   "execution_count": 21,
   "id": "834a97dc",
   "metadata": {},
   "outputs": [],
   "source": [
    "a = [0, 0, 0, 1]"
   ]
  },
  {
   "cell_type": "code",
   "execution_count": 22,
   "id": "7ce5a714",
   "metadata": {},
   "outputs": [],
   "source": [
    "def isSorted(n: int,  a: [int]) -> int:\n",
    "    # Write your code here.\n",
    "    s = sorted(a)\n",
    "    if s == a:\n",
    "        return 1\n",
    "    else:\n",
    "        return 0\n"
   ]
  },
  {
   "cell_type": "code",
   "execution_count": 28,
   "id": "73271d75",
   "metadata": {},
   "outputs": [
    {
     "name": "stdout",
     "output_type": "stream",
     "text": [
      "9\n",
      "1 1 2 3 3 4 5 5 5\n"
     ]
    }
   ],
   "source": [
    "n = int(input())\n",
    "a = list(map(int, input().split()))"
   ]
  },
  {
   "cell_type": "code",
   "execution_count": 29,
   "id": "9e256992",
   "metadata": {},
   "outputs": [
    {
     "data": {
      "text/plain": [
       "[1, 1, 2, 3, 3, 4, 5, 5, 5]"
      ]
     },
     "execution_count": 29,
     "metadata": {},
     "output_type": "execute_result"
    }
   ],
   "source": [
    "a"
   ]
  },
  {
   "cell_type": "code",
   "execution_count": 32,
   "id": "18a8f53f",
   "metadata": {},
   "outputs": [],
   "source": [
    "a_uni = list(set(a))\n",
    "return a_uni"
   ]
  },
  {
   "cell_type": "code",
   "execution_count": 33,
   "id": "722929a1",
   "metadata": {},
   "outputs": [],
   "source": [
    "def removeDuplicates(arr,n):\n",
    "    # Write your code here.\n",
    "    a_uni = list(set(a))\n",
    "    return a_uni"
   ]
  },
  {
   "cell_type": "code",
   "execution_count": 72,
   "id": "ac09c56e",
   "metadata": {},
   "outputs": [
    {
     "name": "stdout",
     "output_type": "stream",
     "text": [
      "4\n",
      "5 7 3 2\n",
      "7\n",
      "3\n",
      "2\n"
     ]
    }
   ],
   "source": [
    "n = int(input())\n",
    "a = list(map(int, input().split()))\n",
    "z = a[0]\n",
    "for i in range(n-1):\n",
    "    print(a[i+1])\n",
    "    a[i], a[i+1] = a[i+1], a[i]\n",
    "    \n",
    "        "
   ]
  },
  {
   "cell_type": "code",
   "execution_count": 70,
   "id": "c29eb15d",
   "metadata": {},
   "outputs": [
    {
     "data": {
      "text/plain": [
       "[5, 7, 3, 2]"
      ]
     },
     "execution_count": 70,
     "metadata": {},
     "output_type": "execute_result"
    }
   ],
   "source": [
    "a"
   ]
  },
  {
   "cell_type": "code",
   "execution_count": 67,
   "id": "fc90fc5a",
   "metadata": {},
   "outputs": [
    {
     "data": {
      "text/plain": [
       "[7, 7, 3, 2]"
      ]
     },
     "execution_count": 67,
     "metadata": {},
     "output_type": "execute_result"
    }
   ],
   "source": [
    "a"
   ]
  },
  {
   "cell_type": "code",
   "execution_count": 62,
   "id": "12dab00c",
   "metadata": {},
   "outputs": [],
   "source": [
    "a[0], a[1] = a[1], a[0]"
   ]
  },
  {
   "cell_type": "code",
   "execution_count": 73,
   "id": "9a67144c",
   "metadata": {},
   "outputs": [
    {
     "data": {
      "text/plain": [
       "[7, 3, 2, 5]"
      ]
     },
     "execution_count": 73,
     "metadata": {},
     "output_type": "execute_result"
    }
   ],
   "source": [
    "a"
   ]
  },
  {
   "cell_type": "code",
   "execution_count": 79,
   "id": "dfb0eb1d",
   "metadata": {},
   "outputs": [
    {
     "name": "stdout",
     "output_type": "stream",
     "text": [
      "8\n",
      "7 5 2 11 2 43 1 1\n",
      "2\n",
      "5\n",
      "7\n",
      "5\n",
      "7\n",
      "5\n",
      "7\n"
     ]
    }
   ],
   "source": [
    "n = int(input())\n",
    "a = list(map(int, input().split()))\n",
    "k = int(input())\n",
    "for i in range(n-k):\n",
    "    print(a[i+1])\n",
    "    a[i], a[i+k] = a[i+k], a[i]\n",
    "    \n",
    "    \n",
    "    \n",
    "    "
   ]
  },
  {
   "cell_type": "code",
   "execution_count": 81,
   "id": "60581ba2",
   "metadata": {},
   "outputs": [
    {
     "name": "stdout",
     "output_type": "stream",
     "text": [
      "6\n",
      "1 3 6 11 12 17\n",
      "4\n"
     ]
    }
   ],
   "source": [
    "n = int(input())\n",
    "a = list(map(int, input().split()))"
   ]
  },
  {
   "cell_type": "code",
   "execution_count": 76,
   "id": "f93bf873",
   "metadata": {},
   "outputs": [],
   "source": [
    "a[0], a[0 + 2] = a[2], a[0]"
   ]
  },
  {
   "cell_type": "code",
   "execution_count": 106,
   "id": "4605f456",
   "metadata": {},
   "outputs": [],
   "source": [
    "a = [1, 3, 6, 11, 12, 17]"
   ]
  },
  {
   "cell_type": "code",
   "execution_count": 107,
   "id": "2bbc2678",
   "metadata": {},
   "outputs": [
    {
     "name": "stdout",
     "output_type": "stream",
     "text": [
      "X [12, 1, 3, 6, 11, 17]\n",
      "X [12, 17, 1, 3, 6, 11]\n"
     ]
    }
   ],
   "source": [
    "j = k\n",
    "for i in range(n-k):\n",
    "    a.insert(i,a[j])\n",
    "    a.pop(j+1)\n",
    "    print('X',a)  \n",
    "    j += 1"
   ]
  },
  {
   "cell_type": "code",
   "execution_count": 93,
   "id": "ce89deb0",
   "metadata": {},
   "outputs": [],
   "source": [
    "a.insert(0,a[k])"
   ]
  },
  {
   "cell_type": "code",
   "execution_count": 96,
   "id": "45ac85e7",
   "metadata": {},
   "outputs": [
    {
     "data": {
      "text/plain": [
       "[12, 1, 3, 6, 11, 17]"
      ]
     },
     "execution_count": 96,
     "metadata": {},
     "output_type": "execute_result"
    }
   ],
   "source": [
    "a"
   ]
  },
  {
   "cell_type": "code",
   "execution_count": 95,
   "id": "7e2ed685",
   "metadata": {},
   "outputs": [
    {
     "data": {
      "text/plain": [
       "12"
      ]
     },
     "execution_count": 95,
     "metadata": {},
     "output_type": "execute_result"
    }
   ],
   "source": [
    "a.pop(k+1)"
   ]
  },
  {
   "cell_type": "code",
   "execution_count": 99,
   "id": "3cf4fe3a",
   "metadata": {},
   "outputs": [
    {
     "data": {
      "text/plain": [
       "[12, 1, 3, 6, 11, 17]"
      ]
     },
     "execution_count": 99,
     "metadata": {},
     "output_type": "execute_result"
    }
   ],
   "source": [
    "a"
   ]
  },
  {
   "cell_type": "code",
   "execution_count": null,
   "id": "fa411e76",
   "metadata": {},
   "outputs": [],
   "source": [
    "def rotateArray(arr: list, k: int) -> list:\n",
    "    # Write your code here\n",
    "    n = len(arr)\n",
    "    j = k\n",
    "    for i in range(n-k):\n",
    "        arr.insert(i,arr[j])\n",
    "        arr.pop(j+1)  \n",
    "        j += 1\n",
    "    return arr"
   ]
  },
  {
   "cell_type": "code",
   "execution_count": 148,
   "id": "6573d2ad",
   "metadata": {},
   "outputs": [
    {
     "name": "stdout",
     "output_type": "stream",
     "text": [
      "5\n",
      "4 0 3 2 5 \n"
     ]
    }
   ],
   "source": [
    "n = int(input())\n",
    "a = list(map(int, input().split()))"
   ]
  },
  {
   "cell_type": "code",
   "execution_count": 149,
   "id": "820cec45",
   "metadata": {},
   "outputs": [
    {
     "name": "stdout",
     "output_type": "stream",
     "text": [
      "[4, 0, 3, 2, 5]\n",
      "[4, 3, 2, 5, 0]\n"
     ]
    }
   ],
   "source": [
    "j = 0\n",
    "for i in range(n):\n",
    "    if a[i] != 0:\n",
    "        a.insert(j, a[i])\n",
    "        a.pop(i+1)\n",
    "        j = j + 1\n",
    "print(a)"
   ]
  },
  {
   "cell_type": "code",
   "execution_count": 129,
   "id": "e117b8ed",
   "metadata": {},
   "outputs": [
    {
     "data": {
      "text/plain": [
       "[0, 1, 9, 9]"
      ]
     },
     "execution_count": 129,
     "metadata": {},
     "output_type": "execute_result"
    }
   ],
   "source": [
    "a"
   ]
  },
  {
   "cell_type": "code",
   "execution_count": null,
   "id": "7bcd1a0b",
   "metadata": {},
   "outputs": [],
   "source": [
    "def moveZeros(n: int,  a: [int]) -> [int]:\n",
    "    # Write your code here.\n",
    "    j = 0\n",
    "    for i in range(n):\n",
    "        if a[i] != 0:\n",
    "            a.insert(j, a[i])\n",
    "            a.pop(i+1)\n",
    "            j = j + 1\n",
    "    return a"
   ]
  },
  {
   "cell_type": "code",
   "execution_count": 150,
   "id": "4fe0b9c5",
   "metadata": {},
   "outputs": [
    {
     "name": "stdout",
     "output_type": "stream",
     "text": [
      "5 4 \n",
      "6 7 8 4 1\n"
     ]
    }
   ],
   "source": [
    "n, num = map(int, input().split())\n",
    "a = list(map(int, input().split()))"
   ]
  },
  {
   "cell_type": "code",
   "execution_count": 151,
   "id": "303ce08d",
   "metadata": {},
   "outputs": [
    {
     "data": {
      "text/plain": [
       "4"
      ]
     },
     "execution_count": 151,
     "metadata": {},
     "output_type": "execute_result"
    }
   ],
   "source": [
    "for i in range(n):\n",
    "    if arr[i] == num:\n",
    "        return i"
   ]
  },
  {
   "cell_type": "code",
   "execution_count": 152,
   "id": "46a067a1",
   "metadata": {},
   "outputs": [
    {
     "data": {
      "text/plain": [
       "5"
      ]
     },
     "execution_count": 152,
     "metadata": {},
     "output_type": "execute_result"
    }
   ],
   "source": [
    "n"
   ]
  },
  {
   "cell_type": "code",
   "execution_count": 153,
   "id": "de0f1353",
   "metadata": {},
   "outputs": [
    {
     "data": {
      "text/plain": [
       "[6, 7, 8, 4, 1]"
      ]
     },
     "execution_count": 153,
     "metadata": {},
     "output_type": "execute_result"
    }
   ],
   "source": [
    "a"
   ]
  },
  {
   "cell_type": "code",
   "execution_count": 156,
   "id": "2126072b",
   "metadata": {},
   "outputs": [
    {
     "data": {
      "text/plain": [
       "3"
      ]
     },
     "execution_count": 156,
     "metadata": {},
     "output_type": "execute_result"
    }
   ],
   "source": [
    "a.index(num)"
   ]
  },
  {
   "cell_type": "code",
   "execution_count": 158,
   "id": "618727dc",
   "metadata": {},
   "outputs": [
    {
     "data": {
      "text/plain": [
       "[6, 7, 8, 4, 1]"
      ]
     },
     "execution_count": 158,
     "metadata": {},
     "output_type": "execute_result"
    }
   ],
   "source": [
    "a"
   ]
  },
  {
   "cell_type": "code",
   "execution_count": 160,
   "id": "f7629bfb",
   "metadata": {},
   "outputs": [
    {
     "data": {
      "text/plain": [
       "1"
      ]
     },
     "execution_count": 160,
     "metadata": {},
     "output_type": "execute_result"
    }
   ],
   "source": [
    "a.count(6)"
   ]
  },
  {
   "cell_type": "code",
   "execution_count": null,
   "id": "a7439a1a",
   "metadata": {},
   "outputs": [],
   "source": [
    "merge"
   ]
  },
  {
   "cell_type": "markdown",
   "id": "f7617693",
   "metadata": {},
   "source": [
    "OCTOBER 9, 2023"
   ]
  },
  {
   "cell_type": "code",
   "execution_count": 175,
   "id": "c5e430aa",
   "metadata": {},
   "outputs": [],
   "source": [
    "n = 5\n",
    "m = 3\n",
    "a = [1, 2, 3, 4, 6]\n",
    "b = [2, 2, 4]\n"
   ]
  },
  {
   "cell_type": "code",
   "execution_count": 176,
   "id": "1081df25",
   "metadata": {},
   "outputs": [
    {
     "name": "stdout",
     "output_type": "stream",
     "text": [
      "2 2\n",
      "4 4\n"
     ]
    }
   ],
   "source": [
    "b = list(set(b))\n",
    "for i in a:\n",
    "    for j in b:\n",
    "        if i == j:\n",
    "            print(i,j)\n",
    "            b.pop(b.index(i))\n",
    "for i in b:\n",
    "    a.append(i)\n",
    "a.sort()"
   ]
  },
  {
   "cell_type": "code",
   "execution_count": 191,
   "id": "14518882",
   "metadata": {},
   "outputs": [],
   "source": [
    "a = [1, 2, 3, 3]"
   ]
  },
  {
   "cell_type": "code",
   "execution_count": 192,
   "id": "2f91c931",
   "metadata": {},
   "outputs": [],
   "source": [
    "b = [2, 2, 4]"
   ]
  },
  {
   "cell_type": "code",
   "execution_count": 195,
   "id": "cfe938a7",
   "metadata": {},
   "outputs": [],
   "source": [
    "c = a + b\n",
    "c = list(set(c))"
   ]
  },
  {
   "cell_type": "code",
   "execution_count": 196,
   "id": "a99568fa",
   "metadata": {},
   "outputs": [
    {
     "data": {
      "text/plain": [
       "[1, 2, 3, 4]"
      ]
     },
     "execution_count": 196,
     "metadata": {},
     "output_type": "execute_result"
    }
   ],
   "source": [
    "c"
   ]
  },
  {
   "cell_type": "code",
   "execution_count": 189,
   "id": "8149faa5",
   "metadata": {},
   "outputs": [],
   "source": [
    "def sortedArray(a: [int], b: [int]) -> [int]:\n",
    "    # Write your code here\n",
    "    a = list(set(a))\n",
    "    b = list(set(b))\n",
    "    for i in a:\n",
    "        for j in b:\n",
    "            if i == j:\n",
    "                b.pop(b.index(i))\n",
    "    for i in b:\n",
    "        a.append(i)\n",
    "    a.sort()\n",
    "    return a"
   ]
  },
  {
   "cell_type": "code",
   "execution_count": 190,
   "id": "16cdbb3b",
   "metadata": {},
   "outputs": [
    {
     "data": {
      "text/plain": [
       "[1, 2, 3, 4]"
      ]
     },
     "execution_count": 190,
     "metadata": {},
     "output_type": "execute_result"
    }
   ],
   "source": [
    "sortedArray(a, b)"
   ]
  },
  {
   "cell_type": "code",
   "execution_count": 184,
   "id": "d39addc9",
   "metadata": {},
   "outputs": [],
   "source": [
    "b = list(set(b))"
   ]
  },
  {
   "cell_type": "code",
   "execution_count": 185,
   "id": "b5702062",
   "metadata": {},
   "outputs": [
    {
     "data": {
      "text/plain": [
       "[2, 4]"
      ]
     },
     "execution_count": 185,
     "metadata": {},
     "output_type": "execute_result"
    }
   ],
   "source": [
    "b"
   ]
  },
  {
   "cell_type": "code",
   "execution_count": 187,
   "id": "57a39d06",
   "metadata": {},
   "outputs": [],
   "source": [
    "for i in a:\n",
    "    for j in b:\n",
    "        if i == j:\n",
    "            b.pop(b.index(i))"
   ]
  },
  {
   "cell_type": "code",
   "execution_count": 188,
   "id": "94340124",
   "metadata": {},
   "outputs": [
    {
     "data": {
      "text/plain": [
       "[]"
      ]
     },
     "execution_count": 188,
     "metadata": {},
     "output_type": "execute_result"
    }
   ],
   "source": [
    "b"
   ]
  },
  {
   "cell_type": "code",
   "execution_count": 199,
   "id": "083cae3a",
   "metadata": {},
   "outputs": [],
   "source": [
    "#268. Missing Number\n",
    "nums = [9,6,4,2,3,5,7,0,1]"
   ]
  },
  {
   "cell_type": "code",
   "execution_count": 200,
   "id": "e12be2ce",
   "metadata": {},
   "outputs": [],
   "source": [
    "nums.sort()"
   ]
  },
  {
   "cell_type": "code",
   "execution_count": 210,
   "id": "23e3dcf5",
   "metadata": {},
   "outputs": [
    {
     "data": {
      "text/plain": [
       "[0, 1, 2, 3, 4, 5, 6, 7, 9]"
      ]
     },
     "execution_count": 210,
     "metadata": {},
     "output_type": "execute_result"
    }
   ],
   "source": [
    "nums"
   ]
  },
  {
   "cell_type": "code",
   "execution_count": 202,
   "id": "4d1c5ed5",
   "metadata": {},
   "outputs": [
    {
     "data": {
      "text/plain": [
       "37"
      ]
     },
     "execution_count": 202,
     "metadata": {},
     "output_type": "execute_result"
    }
   ],
   "source": [
    "sum(nums)"
   ]
  },
  {
   "cell_type": "code",
   "execution_count": 206,
   "id": "4208e1a8",
   "metadata": {},
   "outputs": [
    {
     "data": {
      "text/plain": [
       "8"
      ]
     },
     "execution_count": 206,
     "metadata": {},
     "output_type": "execute_result"
    }
   ],
   "source": [
    "int(9*(9+1)/2 - sum(nums))"
   ]
  },
  {
   "cell_type": "code",
   "execution_count": 208,
   "id": "781c821b",
   "metadata": {},
   "outputs": [
    {
     "name": "stdout",
     "output_type": "stream",
     "text": [
      "9\n"
     ]
    }
   ],
   "source": [
    "n = len(nums)\n",
    "print(n)"
   ]
  },
  {
   "cell_type": "code",
   "execution_count": 220,
   "id": "b452068b",
   "metadata": {},
   "outputs": [],
   "source": [
    "def missingNumber(nums) -> int:\n",
    "    n = len(nums)\n",
    "    k = int(n*(n+1)/2)\n",
    "    return k - sum(nums)"
   ]
  },
  {
   "cell_type": "code",
   "execution_count": 221,
   "id": "97b57a5c",
   "metadata": {},
   "outputs": [
    {
     "data": {
      "text/plain": [
       "8"
      ]
     },
     "execution_count": 221,
     "metadata": {},
     "output_type": "execute_result"
    }
   ],
   "source": [
    "missingNumber(nums)"
   ]
  },
  {
   "cell_type": "code",
   "execution_count": 217,
   "id": "98f23768",
   "metadata": {},
   "outputs": [],
   "source": [
    "k = n*(n-1)/2"
   ]
  },
  {
   "cell_type": "code",
   "execution_count": 218,
   "id": "f1a2dce3",
   "metadata": {},
   "outputs": [
    {
     "data": {
      "text/plain": [
       "36.0"
      ]
     },
     "execution_count": 218,
     "metadata": {},
     "output_type": "execute_result"
    }
   ],
   "source": [
    "k"
   ]
  },
  {
   "cell_type": "code",
   "execution_count": 219,
   "id": "cb436e81",
   "metadata": {},
   "outputs": [
    {
     "data": {
      "text/plain": [
       "37"
      ]
     },
     "execution_count": 219,
     "metadata": {},
     "output_type": "execute_result"
    }
   ],
   "source": [
    "sum(nums)"
   ]
  },
  {
   "cell_type": "code",
   "execution_count": 21,
   "id": "8cdfd249",
   "metadata": {},
   "outputs": [],
   "source": [
    "# Traffic\n",
    "n, m = 6, 3\n",
    "vehicle = [1,1,0,1,1,1]"
   ]
  },
  {
   "cell_type": "code",
   "execution_count": 22,
   "id": "e8ecb2ca",
   "metadata": {},
   "outputs": [
    {
     "data": {
      "text/plain": [
       "6"
      ]
     },
     "execution_count": 22,
     "metadata": {},
     "output_type": "execute_result"
    }
   ],
   "source": [
    "n"
   ]
  },
  {
   "cell_type": "code",
   "execution_count": 23,
   "id": "ff2d89b3",
   "metadata": {},
   "outputs": [
    {
     "data": {
      "text/plain": [
       "3"
      ]
     },
     "execution_count": 23,
     "metadata": {},
     "output_type": "execute_result"
    }
   ],
   "source": [
    "m"
   ]
  },
  {
   "cell_type": "code",
   "execution_count": 24,
   "id": "d52b075a",
   "metadata": {},
   "outputs": [],
   "source": [
    "maximum = 0\n",
    "for i in range(n):\n",
    "    add = 0\n",
    "    if vehicle[i] == 1:\n",
    "        for j in range(i,n):\n",
    "            if vehicle[j] == 0:\n",
    "                break \n",
    "            add = add + vehicle[j]\n",
    "    if maximum < add:\n",
    "        maximum = add\n",
    "        \n"
   ]
  },
  {
   "cell_type": "code",
   "execution_count": 25,
   "id": "54aa3f93",
   "metadata": {},
   "outputs": [
    {
     "data": {
      "text/plain": [
       "3"
      ]
     },
     "execution_count": 25,
     "metadata": {},
     "output_type": "execute_result"
    }
   ],
   "source": [
    "maximum"
   ]
  },
  {
   "cell_type": "code",
   "execution_count": 26,
   "id": "ad81c677",
   "metadata": {},
   "outputs": [],
   "source": [
    "count = 0\n",
    "max_count = 0\n",
    "for i in range(n):\n",
    "    if vehicle[i] == 1:\n",
    "        count += 1\n",
    "    else:\n",
    "        count = 0\n",
    "    if count > max_count:\n",
    "        max_count = count\n",
    "    "
   ]
  },
  {
   "cell_type": "code",
   "execution_count": 27,
   "id": "d86ac3bf",
   "metadata": {},
   "outputs": [
    {
     "data": {
      "text/plain": [
       "3"
      ]
     },
     "execution_count": 27,
     "metadata": {},
     "output_type": "execute_result"
    }
   ],
   "source": [
    "max_count"
   ]
  },
  {
   "cell_type": "code",
   "execution_count": 43,
   "id": "7449ba84",
   "metadata": {},
   "outputs": [],
   "source": [
    "arr = [8, 8, 9, 9, 10]"
   ]
  },
  {
   "cell_type": "code",
   "execution_count": 44,
   "id": "0417e720",
   "metadata": {},
   "outputs": [
    {
     "name": "stdout",
     "output_type": "stream",
     "text": [
      "10\n"
     ]
    }
   ],
   "source": [
    "arr.append(0)\n",
    "count = 0\n",
    "n = len(arr)\n",
    "for i in range(0, n, 2):\n",
    "    if i+1 == n:\n",
    "        break\n",
    "    else:\n",
    "        if arr[i] != arr[i+1]:\n",
    "            print(arr[i])\n",
    "            break"
   ]
  },
  {
   "cell_type": "code",
   "execution_count": 45,
   "id": "7fbd29b2",
   "metadata": {},
   "outputs": [
    {
     "data": {
      "text/plain": [
       "6"
      ]
     },
     "execution_count": 45,
     "metadata": {},
     "output_type": "execute_result"
    }
   ],
   "source": [
    "len(arr)"
   ]
  },
  {
   "cell_type": "code",
   "execution_count": 70,
   "id": "f55b6d8e",
   "metadata": {},
   "outputs": [],
   "source": [
    "a = [1, 2, 1, 3]\n",
    "n = len(a)\n",
    "k = 3"
   ]
  },
  {
   "cell_type": "code",
   "execution_count": 71,
   "id": "d763d282",
   "metadata": {},
   "outputs": [
    {
     "name": "stdout",
     "output_type": "stream",
     "text": [
      "2\n"
     ]
    }
   ],
   "source": [
    "maxl = 0\n",
    "for i in range(n): \n",
    "    for j in range(i,n):\n",
    "        if sum(a[i:j+1]) == k:\n",
    "            sub = a[i:j+1]\n",
    "    if maxl < len(sub):\n",
    "        maxl = len(sub)\n",
    "        print(maxl)\n",
    "        \n",
    "        "
   ]
  },
  {
   "cell_type": "code",
   "execution_count": 72,
   "id": "9a00bc76",
   "metadata": {},
   "outputs": [],
   "source": [
    "arr = [1,2,3,4]"
   ]
  },
  {
   "cell_type": "code",
   "execution_count": 73,
   "id": "da947272",
   "metadata": {},
   "outputs": [],
   "source": [
    "sub = arr[0:3]"
   ]
  },
  {
   "cell_type": "code",
   "execution_count": 74,
   "id": "b3bfa07f",
   "metadata": {},
   "outputs": [
    {
     "data": {
      "text/plain": [
       "[1, 2, 3]"
      ]
     },
     "execution_count": 74,
     "metadata": {},
     "output_type": "execute_result"
    }
   ],
   "source": [
    "sub"
   ]
  },
  {
   "cell_type": "code",
   "execution_count": 131,
   "id": "88e23557",
   "metadata": {
    "scrolled": false
   },
   "outputs": [],
   "source": [
    "n = 9\n",
    "target = 205\n",
    "book = [575, 330, 339, 584, 239, 31, 173, 929, 967] "
   ]
  },
  {
   "cell_type": "code",
   "execution_count": 132,
   "id": "08ded089",
   "metadata": {},
   "outputs": [],
   "source": [
    "book.sort()"
   ]
  },
  {
   "cell_type": "code",
   "execution_count": 133,
   "id": "7f518dc3",
   "metadata": {},
   "outputs": [
    {
     "data": {
      "text/plain": [
       "[31, 173, 239, 330, 339, 575, 584, 929, 967]"
      ]
     },
     "execution_count": 133,
     "metadata": {},
     "output_type": "execute_result"
    }
   ],
   "source": [
    "book"
   ]
  },
  {
   "cell_type": "code",
   "execution_count": 134,
   "id": "dc1bd5a1",
   "metadata": {},
   "outputs": [],
   "source": [
    "book.sort()\n",
    "left = 0\n",
    "right = len(book) - 1\n",
    "while left < right:\n",
    "    if book[left] + book[right] > target:\n",
    "        right -= 1\n",
    "    elif book[left] + book[right] < target:\n",
    "        left += 1\n",
    "    else:\n",
    "        print('YES')\n",
    "        break"
   ]
  },
  {
   "cell_type": "code",
   "execution_count": 125,
   "id": "20d26685",
   "metadata": {},
   "outputs": [
    {
     "data": {
      "text/plain": [
       "8"
      ]
     },
     "execution_count": 125,
     "metadata": {},
     "output_type": "execute_result"
    }
   ],
   "source": [
    "j"
   ]
  },
  {
   "cell_type": "code",
   "execution_count": 146,
   "id": "40787ddb",
   "metadata": {},
   "outputs": [],
   "source": [
    "n = 12\n",
    "arr = [0, 0, 0, 0, 1, 2, 0, 0, 0, 1, 0, 0]"
   ]
  },
  {
   "cell_type": "code",
   "execution_count": 198,
   "id": "5b364000",
   "metadata": {},
   "outputs": [],
   "source": [
    "arr = [2, 2, 2, 2, 0, 0, 1, 0]\n",
    "n = 8"
   ]
  },
  {
   "cell_type": "code",
   "execution_count": 200,
   "id": "8d6d2534",
   "metadata": {},
   "outputs": [
    {
     "name": "stdout",
     "output_type": "stream",
     "text": [
      "X [0, 1, 0, 0, 2, 2, 2, 2]\n",
      "X [0, 1, 0, 0, 2, 2, 2, 2]\n",
      "X [0, 0, 1, 0, 2, 2, 2, 2]\n",
      "X [0, 0, 0, 1, 2, 2, 2, 2]\n",
      "X [0, 0, 0, 1, 2, 2, 2, 2]\n",
      "X [0, 0, 0, 1, 2, 2, 2, 2]\n",
      "X [0, 0, 0, 1, 2, 2, 2, 2]\n",
      "X [0, 0, 0, 1, 2, 2, 2, 2]\n"
     ]
    }
   ],
   "source": [
    "low = 0\n",
    "mid = 0\n",
    "high = n-1\n",
    "while mid <= high:\n",
    "    if arr[mid] == 0:\n",
    "        arr[mid], arr[low] = arr[low], arr[mid]\n",
    "        low += 1\n",
    "        mid += 1\n",
    "    \n",
    "    elif arr[mid] == 1:\n",
    "        mid += 1\n",
    "    \n",
    "    else:\n",
    "        arr[mid], arr[high] = arr[high], arr[mid]\n",
    "        high -= 1\n",
    "\n"
   ]
  },
  {
   "cell_type": "code",
   "execution_count": 201,
   "id": "bff0c4f8",
   "metadata": {},
   "outputs": [
    {
     "data": {
      "text/plain": [
       "[0, 0, 0, 1, 2, 2, 2, 2]"
      ]
     },
     "execution_count": 201,
     "metadata": {},
     "output_type": "execute_result"
    }
   ],
   "source": [
    "arr"
   ]
  },
  {
   "cell_type": "code",
   "execution_count": 202,
   "id": "8af3fc67",
   "metadata": {},
   "outputs": [
    {
     "data": {
      "text/plain": [
       "3"
      ]
     },
     "execution_count": 202,
     "metadata": {},
     "output_type": "execute_result"
    }
   ],
   "source": [
    "arr.count(0)"
   ]
  },
  {
   "cell_type": "code",
   "execution_count": null,
   "id": "8044ebcc",
   "metadata": {},
   "outputs": [],
   "source": [
    "#MYSOLUTION(1st ATTEMPT)\n",
    "def majorityElement(v: [int]) -> int:\n",
    "    # Write your code here\n",
    "    maxcount = 0\n",
    "    num = 0\n",
    "    n = len(v)\n",
    "    vx = list(set(v))\n",
    "    \n",
    "    for i in range(len(vx)):\n",
    "        if maxcount < v.count(vx[i]):\n",
    "            maxcount = v.count(vx[i])\n",
    "            num = vx[i]\n",
    "    \n",
    "    return num\n"
   ]
  },
  {
   "cell_type": "code",
   "execution_count": 203,
   "id": "aaa6ad61",
   "metadata": {},
   "outputs": [
    {
     "name": "stdout",
     "output_type": "stream",
     "text": [
      "58 58 28 95 58 15 58 58 \n"
     ]
    }
   ],
   "source": [
    "arr = list(map(int, input().split()))"
   ]
  },
  {
   "cell_type": "code",
   "execution_count": 204,
   "id": "649bceb8",
   "metadata": {},
   "outputs": [
    {
     "data": {
      "text/plain": [
       "[58, 58, 28, 95, 58, 15, 58, 58]"
      ]
     },
     "execution_count": 204,
     "metadata": {},
     "output_type": "execute_result"
    }
   ],
   "source": [
    "arr"
   ]
  },
  {
   "cell_type": "code",
   "execution_count": 205,
   "id": "032c390b",
   "metadata": {},
   "outputs": [
    {
     "name": "stdout",
     "output_type": "stream",
     "text": [
      "58\n",
      "58\n",
      "58\n",
      "58\n",
      "58\n"
     ]
    }
   ],
   "source": [
    "for ele in arr:\n",
    "    i = 0\n",
    "    count = 0\n",
    "    while i < n:\n",
    "        if arr[i] == ele:\n",
    "            count += 1\n",
    "        else:\n",
    "            count -= 1\n",
    "        i += 1\n",
    "    if count > 0:\n",
    "        return ele"
   ]
  },
  {
   "cell_type": "code",
   "execution_count": 208,
   "id": "ea577488",
   "metadata": {},
   "outputs": [],
   "source": [
    "ele = 0\n",
    "count = 0\n",
    "for i in range(n):\n",
    "    if count == 0:\n",
    "        count = 1\n",
    "        ele = arr[i]\n",
    "        \n",
    "    elif ele == arr[i]:\n",
    "        count += 1\n",
    "        \n",
    "    else:\n",
    "        count -= 1\n",
    "        \n",
    "if count(ele) > len(arr)/2:\n",
    "    return ele\n",
    "        \n",
    "        "
   ]
  },
  {
   "cell_type": "code",
   "execution_count": 209,
   "id": "97a07b38",
   "metadata": {},
   "outputs": [
    {
     "data": {
      "text/plain": [
       "58"
      ]
     },
     "execution_count": 209,
     "metadata": {},
     "output_type": "execute_result"
    }
   ],
   "source": [
    "ele"
   ]
  },
  {
   "cell_type": "code",
   "execution_count": 214,
   "id": "04167c73",
   "metadata": {},
   "outputs": [],
   "source": [
    "arr = [10, 20, -30, 40, -50, 60]\n",
    "n = len(arr)"
   ]
  },
  {
   "cell_type": "code",
   "execution_count": 217,
   "id": "5b82666e",
   "metadata": {},
   "outputs": [],
   "source": [
    "maxsub = 0\n",
    "for i in range(n):\n",
    "    for j in range(n):\n",
    "        sub = arr[i:j+1]\n",
    "        if maxsub < sum(sub):\n",
    "            maxsub = sum(sub)\n",
    "            subans = sub\n",
    "    \n",
    "    "
   ]
  },
  {
   "cell_type": "code",
   "execution_count": 218,
   "id": "73a5c417",
   "metadata": {},
   "outputs": [
    {
     "data": {
      "text/plain": [
       "[60]"
      ]
     },
     "execution_count": 218,
     "metadata": {},
     "output_type": "execute_result"
    }
   ],
   "source": [
    "subans"
   ]
  },
  {
   "cell_type": "code",
   "execution_count": 219,
   "id": "7136a3c2",
   "metadata": {},
   "outputs": [],
   "source": [
    "#KADANE\n",
    "sumarr = 0\n",
    "maxi = arr[0]\n",
    "for i in range(n):\n",
    "    sumarr = sumarr + arr[i]\n",
    "    if sumarr > maxi:\n",
    "        maxi = sumarr\n",
    "    if sumarr < 0:\n",
    "        sumarr = 0"
   ]
  },
  {
   "cell_type": "code",
   "execution_count": 220,
   "id": "6bb061f8",
   "metadata": {},
   "outputs": [
    {
     "data": {
      "text/plain": [
       "60"
      ]
     },
     "execution_count": 220,
     "metadata": {},
     "output_type": "execute_result"
    }
   ],
   "source": [
    "maxi"
   ]
  },
  {
   "cell_type": "code",
   "execution_count": 1,
   "id": "257cb71b",
   "metadata": {},
   "outputs": [
    {
     "name": "stdout",
     "output_type": "stream",
     "text": [
      " 0 2 5 3 3 4 4 3 0 5 5 4 4 4 3 2 0 2 3 1 3 0 4 3 1 4 5 2 4 3 1 4 5 0 3 4 0\n"
     ]
    }
   ],
   "source": [
    "n = 37 \n",
    "k = 52\n",
    "arr = list(map(int, input().split()))"
   ]
  },
  {
   "cell_type": "code",
   "execution_count": 26,
   "id": "2078b63f",
   "metadata": {},
   "outputs": [
    {
     "name": "stdout",
     "output_type": "stream",
     "text": [
      "37\n"
     ]
    }
   ],
   "source": [
    "#KADANE\n",
    "\n",
    "maxcount = 0\n",
    "\n",
    "\n",
    "for i in range(n):\n",
    "    count = 0\n",
    "    sumarr = 0\n",
    "    for j in range(i,n):\n",
    "        if sumarr == k:\n",
    "            break\n",
    "        else:\n",
    "            sumarr = sumarr + arr[j]\n",
    "            count += 1\n",
    "        \n",
    "        if count > maxcount:\n",
    "            maxcount = count\n",
    "            \n",
    "print(maxcount)\n",
    "\n",
    "    "
   ]
  },
  {
   "cell_type": "code",
   "execution_count": null,
   "id": "4e8c0b9a",
   "metadata": {
    "scrolled": true
   },
   "outputs": [],
   "source": []
  },
  {
   "cell_type": "code",
   "execution_count": null,
   "id": "6030a765",
   "metadata": {},
   "outputs": [],
   "source": []
  }
 ],
 "metadata": {
  "kernelspec": {
   "display_name": "Python 3",
   "language": "python",
   "name": "python3"
  },
  "language_info": {
   "codemirror_mode": {
    "name": "ipython",
    "version": 3
   },
   "file_extension": ".py",
   "mimetype": "text/x-python",
   "name": "python",
   "nbconvert_exporter": "python",
   "pygments_lexer": "ipython3",
   "version": "3.8.8"
  }
 },
 "nbformat": 4,
 "nbformat_minor": 5
}
