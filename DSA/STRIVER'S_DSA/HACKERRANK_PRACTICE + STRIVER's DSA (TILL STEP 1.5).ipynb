{
 "cells": [
  {
   "cell_type": "code",
   "execution_count": 9,
   "id": "833dac66",
   "metadata": {},
   "outputs": [
    {
     "name": "stdout",
     "output_type": "stream",
     "text": [
      "4\n"
     ]
    }
   ],
   "source": [
    "x=2\n",
    "x=x+2\n",
    "print(x)"
   ]
  },
  {
   "cell_type": "code",
   "execution_count": 10,
   "id": "98372556",
   "metadata": {},
   "outputs": [
    {
     "name": "stdout",
     "output_type": "stream",
     "text": [
      "4\n",
      "3\n",
      "2\n",
      "1\n",
      "0\n",
      "blastoff\n"
     ]
    }
   ],
   "source": [
    "n=5\n",
    "while n>0:\n",
    "    n=n-1\n",
    "    print(n)\n",
    "print('blastoff')\n"
   ]
  },
  {
   "cell_type": "code",
   "execution_count": 11,
   "id": "c93da197",
   "metadata": {},
   "outputs": [
    {
     "name": "stdout",
     "output_type": "stream",
     "text": [
      "392.0\n"
     ]
    }
   ],
   "source": [
    "hours = 32\n",
    "rate = 12.25\n",
    "pay = hours * rate\n",
    "print(pay)"
   ]
  },
  {
   "cell_type": "code",
   "execution_count": 13,
   "id": "45d86147",
   "metadata": {},
   "outputs": [
    {
     "name": "stdout",
     "output_type": "stream",
     "text": [
      "0.9359999999999999\n"
     ]
    }
   ],
   "source": [
    "x=0.6\n",
    "x=3.9*x*(1-x)\n",
    "print(x)"
   ]
  },
  {
   "cell_type": "code",
   "execution_count": 1,
   "id": "ab37e95d",
   "metadata": {},
   "outputs": [
    {
     "name": "stdout",
     "output_type": "stream",
     "text": [
      "what is your name?Savita\n",
      "The name is Savita\n"
     ]
    }
   ],
   "source": [
    "nam = input('what is your name?')\n",
    "print('The name is',nam)"
   ]
  },
  {
   "cell_type": "code",
   "execution_count": null,
   "id": "f544d731",
   "metadata": {},
   "outputs": [],
   "source": [
    "eur = input('Which floor?')\n",
    "US= int(eur) + 1\n",
    "print('US floor is:',US)"
   ]
  },
  {
   "cell_type": "code",
   "execution_count": 10,
   "id": "3cf2dac2",
   "metadata": {},
   "outputs": [
    {
     "name": "stdout",
     "output_type": "stream",
     "text": [
      "6\n",
      "1\n",
      "2\n",
      "3\n",
      "4\n",
      "10\n",
      "11\n",
      "31\n"
     ]
    }
   ],
   "source": [
    "ar = list()\n",
    "n = int(input())\n",
    "for i in range(0,n):\n",
    "    ele=int(input())\n",
    "    ar.append(ele)\n",
    "Sum=sum(ar)\n",
    "print(Sum)\n",
    "    "
   ]
  },
  {
   "cell_type": "code",
   "execution_count": 12,
   "id": "a6138af5",
   "metadata": {},
   "outputs": [],
   "source": [
    "def simpleArraySum(ar):\n",
    "    x=0\n",
    "    for i in range(0,ar_count):\n",
    "        x=x+ar[i]\n",
    "    return x"
   ]
  },
  {
   "cell_type": "code",
   "execution_count": 13,
   "id": "6b998795",
   "metadata": {},
   "outputs": [
    {
     "name": "stdout",
     "output_type": "stream",
     "text": [
      "Hello world\n"
     ]
    }
   ],
   "source": [
    "print('Hello world')"
   ]
  },
  {
   "cell_type": "code",
   "execution_count": 15,
   "id": "235d2505",
   "metadata": {},
   "outputs": [
    {
     "name": "stdout",
     "output_type": "stream",
     "text": [
      "   /|\n",
      "  / |\n",
      " /  |\n",
      "/___|\n"
     ]
    }
   ],
   "source": [
    "print('   /|')\n",
    "print('  / |')\n",
    "print(' /  |')\n",
    "print('/___|')"
   ]
  },
  {
   "cell_type": "code",
   "execution_count": 3,
   "id": "1b7292e0",
   "metadata": {},
   "outputs": [
    {
     "name": "stdout",
     "output_type": "stream",
     "text": [
      "3\n",
      "4\n",
      "7\n"
     ]
    }
   ],
   "source": [
    "def solvemefirst(num1,num2):\n",
    "    return num1+num2\n",
    "num1=int(input())\n",
    "num2=int(input())\n",
    "res= solvemefirst(num1,num2)\n",
    "print(res)"
   ]
  },
  {
   "cell_type": "code",
   "execution_count": 8,
   "id": "ac2efd5b",
   "metadata": {},
   "outputs": [],
   "source": [
    "lst=[5,5,5,5,5]"
   ]
  },
  {
   "cell_type": "code",
   "execution_count": 34,
   "id": "a34b5d72",
   "metadata": {},
   "outputs": [
    {
     "name": "stdout",
     "output_type": "stream",
     "text": [
      "3\n",
      "1 2 3\n"
     ]
    }
   ],
   "source": [
    "ar_count=int(input())\n",
    "ar = list(map(int, input().rstrip().split()))"
   ]
  },
  {
   "cell_type": "code",
   "execution_count": 35,
   "id": "604de3fe",
   "metadata": {},
   "outputs": [
    {
     "data": {
      "text/plain": [
       "6"
      ]
     },
     "execution_count": 35,
     "metadata": {},
     "output_type": "execute_result"
    }
   ],
   "source": [
    "def simplearraysum(ar):\n",
    "    x=0\n",
    "    for i in range(0,ar_count):\n",
    "        x=x+ar[i]\n",
    "    return x\n",
    "simplearraysum(ar)"
   ]
  },
  {
   "cell_type": "code",
   "execution_count": 36,
   "id": "b62658b8",
   "metadata": {},
   "outputs": [
    {
     "name": "stdout",
     "output_type": "stream",
     "text": [
      "1 3 5\n",
      "11 33 44\n"
     ]
    }
   ],
   "source": [
    "a = list(map(int, input().rstrip().split()))\n",
    "b = list(map(int, input().rstrip().split()))"
   ]
  },
  {
   "cell_type": "code",
   "execution_count": 41,
   "id": "01176a31",
   "metadata": {},
   "outputs": [],
   "source": [
    "def compareTriplets(a,b):\n",
    "    x=0\n",
    "    y=0\n",
    "    if a[0]>b[0]:\n",
    "        x= 1\n",
    "    elif a[0]<b[0]:\n",
    "        y=1\n",
    "    if a[1]>b[1]:\n",
    "        x=x+1\n",
    "    elif a[1]<b[1]:\n",
    "        y=y+1\n",
    "    if a[2]>b[2]:\n",
    "        x=x+1\n",
    "    elif a[2]<b[2]:\n",
    "        y=y+1\n",
    "        \n",
    "    return x,y\n",
    "    \n",
    "    "
   ]
  },
  {
   "cell_type": "code",
   "execution_count": 42,
   "id": "c674dc15",
   "metadata": {},
   "outputs": [
    {
     "data": {
      "text/plain": [
       "(0, 3)"
      ]
     },
     "execution_count": 42,
     "metadata": {},
     "output_type": "execute_result"
    }
   ],
   "source": [
    "compareTriplets(a,b)"
   ]
  },
  {
   "cell_type": "code",
   "execution_count": 96,
   "id": "84f25a9b",
   "metadata": {},
   "outputs": [
    {
     "name": "stdout",
     "output_type": "stream",
     "text": [
      "2\n",
      "0 1\n",
      "2 3\n"
     ]
    }
   ],
   "source": [
    "n = int(input().strip())\n",
    "arr = []\n",
    "for _ in range(n):\n",
    "    arr.append(list(map(int, input().rstrip().split())))"
   ]
  },
  {
   "cell_type": "code",
   "execution_count": 98,
   "id": "03b8f6f3",
   "metadata": {},
   "outputs": [
    {
     "data": {
      "text/plain": [
       "3"
      ]
     },
     "execution_count": 98,
     "metadata": {},
     "output_type": "execute_result"
    }
   ],
   "source": [
    "arr[1][1]"
   ]
  },
  {
   "cell_type": "code",
   "execution_count": 71,
   "id": "2249f5f8",
   "metadata": {},
   "outputs": [],
   "source": [
    "\n",
    "x=0\n",
    "for i in range(0,n):\n",
    "    x=x+arr[i][i]\n",
    "y=0\n",
    "for i in range(0,n):\n",
    "    y=y+arr[i][(n-1)-i]"
   ]
  },
  {
   "cell_type": "code",
   "execution_count": 106,
   "id": "1c0046d1",
   "metadata": {},
   "outputs": [
    {
     "name": "stdout",
     "output_type": "stream",
     "text": [
      "6\n",
      "-4 3 -9 0 4 1\n"
     ]
    }
   ],
   "source": [
    "n = int(input().strip())\n",
    "arr = list(map(int, input().rstrip().split()))"
   ]
  },
  {
   "cell_type": "code",
   "execution_count": 141,
   "id": "288e5605",
   "metadata": {},
   "outputs": [],
   "source": [
    "def plusMinus(arr):\n",
    "    # Write your code here\n",
    "    x=0\n",
    "    y=0\n",
    "    z=0\n",
    "    for i in range(0,n):\n",
    "        if arr[i]>0:\n",
    "            x=x+1\n",
    "        elif arr[i]==0:\n",
    "            y=y+1\n",
    "        else:\n",
    "            z=z+1\n",
    "    return float(format(x/n,\".6f\")),float(format(z/n,\".6f\")),format(y/n,\".6f\")"
   ]
  },
  {
   "cell_type": "code",
   "execution_count": 142,
   "id": "acf31c5f",
   "metadata": {},
   "outputs": [
    {
     "data": {
      "text/plain": [
       "(0.5, 0.333333, '0.166667')"
      ]
     },
     "execution_count": 142,
     "metadata": {},
     "output_type": "execute_result"
    }
   ],
   "source": [
    "plusMinus(arr)"
   ]
  },
  {
   "cell_type": "code",
   "execution_count": 127,
   "id": "f48b4283",
   "metadata": {},
   "outputs": [
    {
     "data": {
      "text/plain": [
       "0.5"
      ]
     },
     "execution_count": 127,
     "metadata": {},
     "output_type": "execute_result"
    }
   ],
   "source": [
    "float(\"{0:.6f}\".format(x/n))"
   ]
  },
  {
   "cell_type": "code",
   "execution_count": 111,
   "id": "f455a15a",
   "metadata": {},
   "outputs": [
    {
     "data": {
      "text/plain": [
       "-9"
      ]
     },
     "execution_count": 111,
     "metadata": {},
     "output_type": "execute_result"
    }
   ],
   "source": [
    "arr[2]"
   ]
  },
  {
   "cell_type": "code",
   "execution_count": 143,
   "id": "a5662f9d",
   "metadata": {},
   "outputs": [
    {
     "name": "stdout",
     "output_type": "stream",
     "text": [
      "The value of number till 2 decimal place(using %) is : 3.45\n",
      "The value of number till 2 decimal place(using format()) is : 3.454\n",
      "The value of number till 2 decimal place(using round()) is : 3.45\n"
     ]
    }
   ],
   "source": [
    "# Python code to demonstrate precision\n",
    "# and round()\n",
    "\n",
    "# initializing value\n",
    "a = 3.4536\n",
    "\n",
    "# using \"%\" to print value till 2 decimal places\n",
    "print(\"The value of number till 2 decimal place(using %) is : \", end=\"\")\n",
    "print('%.2f' % a)\n",
    "\n",
    "# using format() to print value till 3 decimal places\n",
    "print(\"The value of number till 2 decimal place(using format()) is : \", end=\"\")\n",
    "print(\"{0:.3f}\".format(a))\n",
    "\n",
    "# using round() to print value till 2 decimal places\n",
    "print(\"The value of number till 2 decimal place(using round()) is : \", end=\"\")\n",
    "print(round(a, 2))\n"
   ]
  },
  {
   "cell_type": "code",
   "execution_count": 144,
   "id": "bc067f0d",
   "metadata": {},
   "outputs": [],
   "source": [
    "a = 3.4536"
   ]
  },
  {
   "cell_type": "code",
   "execution_count": 152,
   "id": "4af2bbc2",
   "metadata": {},
   "outputs": [
    {
     "name": "stdout",
     "output_type": "stream",
     "text": [
      "0.500000\n"
     ]
    }
   ],
   "source": [
    "print('%.6f' % (x/n))"
   ]
  },
  {
   "cell_type": "code",
   "execution_count": 148,
   "id": "a741a29a",
   "metadata": {},
   "outputs": [
    {
     "name": "stderr",
     "output_type": "stream",
     "text": [
      "UsageError: Line magic function `%.6f` not found.\n"
     ]
    }
   ],
   "source": [
    "%.6f % a"
   ]
  },
  {
   "cell_type": "code",
   "execution_count": 208,
   "id": "fa59a2bc",
   "metadata": {},
   "outputs": [
    {
     "name": "stdout",
     "output_type": "stream",
     "text": [
      "#\n",
      "##\n"
     ]
    }
   ],
   "source": [
    "x=''\n",
    "for i in range(0,2):\n",
    "    2-x=x+'#'\n",
    "    print(x)"
   ]
  },
  {
   "cell_type": "code",
   "execution_count": null,
   "id": "d4bc2022",
   "metadata": {},
   "outputs": [],
   "source": []
  },
  {
   "cell_type": "code",
   "execution_count": null,
   "id": "0b35cf89",
   "metadata": {},
   "outputs": [],
   "source": []
  },
  {
   "cell_type": "code",
   "execution_count": null,
   "id": "691b4be6",
   "metadata": {},
   "outputs": [],
   "source": []
  },
  {
   "cell_type": "code",
   "execution_count": null,
   "id": "d1361907",
   "metadata": {},
   "outputs": [],
   "source": []
  },
  {
   "cell_type": "code",
   "execution_count": 304,
   "id": "b5041697",
   "metadata": {},
   "outputs": [],
   "source": [
    "def pattern(n):\n",
    "    for i in range(1,n+1):\n",
    "        if (i%2!=0):  ## if i is odd number\n",
    "            k=i+1 \n",
    "        for j in range(0, k):\n",
    "            if j == k - 1:\n",
    "                print(\" * \")\n",
    "            else:\n",
    "                print(\" @ \", end = \" \")"
   ]
  },
  {
   "cell_type": "code",
   "execution_count": 301,
   "id": "6a13878b",
   "metadata": {},
   "outputs": [
    {
     "name": "stdout",
     "output_type": "stream",
     "text": [
      " @   * \n"
     ]
    }
   ],
   "source": [
    "print(\" @ \", end = \" \")\n",
    "print(\" * \")"
   ]
  },
  {
   "cell_type": "code",
   "execution_count": 305,
   "id": "d28041b3",
   "metadata": {},
   "outputs": [
    {
     "name": "stdout",
     "output_type": "stream",
     "text": [
      " @   * \n",
      " @   * \n"
     ]
    }
   ],
   "source": [
    "pattern(2)"
   ]
  },
  {
   "cell_type": "code",
   "execution_count": 306,
   "id": "911a0e4a",
   "metadata": {},
   "outputs": [
    {
     "name": "stdout",
     "output_type": "stream",
     "text": [
      " @   * \n",
      " @   * \n",
      " @   @   @   * \n"
     ]
    }
   ],
   "source": [
    "pattern(3)"
   ]
  },
  {
   "cell_type": "code",
   "execution_count": 307,
   "id": "c7808b21",
   "metadata": {
    "scrolled": true
   },
   "outputs": [
    {
     "name": "stdout",
     "output_type": "stream",
     "text": [
      " @   * \n",
      " @   * \n",
      " @   @   @   * \n",
      " @   @   @   * \n",
      " @   @   @   @   @   * \n",
      " @   @   @   @   @   * \n"
     ]
    }
   ],
   "source": [
    "pattern(6)"
   ]
  },
  {
   "cell_type": "code",
   "execution_count": 345,
   "id": "134e61f7",
   "metadata": {},
   "outputs": [],
   "source": [
    "def pattern(k): \n",
    "    for i in range(0, k):\n",
    "        if i == k - 1:\n",
    "            print(\" * \")\n",
    "        else:\n",
    "            print(\" @ \", end = \" \")\n",
    "    for i in range(0, k-1):\n",
    "        if i == k-1-1:\n",
    "            print(\" * \", end = \" \")\n",
    "        else:\n",
    "            print(\" @ \", end = \" \")\n",
    "    "
   ]
  },
  {
   "cell_type": "code",
   "execution_count": 455,
   "id": "3de15e47",
   "metadata": {},
   "outputs": [],
   "source": [
    "def staircase(n):\n",
    "    k=1\n",
    "    for j in range(0,n):\n",
    "        for i in range(0,n):\n",
    "            if i>=n-1:\n",
    "                x='#'*k\n",
    "                print(x)\n",
    "                k=k+1\n",
    "            else:\n",
    "                print(' ',end='')\n",
    "            \n",
    "        n=n-1"
   ]
  },
  {
   "cell_type": "code",
   "execution_count": 456,
   "id": "0f0344d6",
   "metadata": {},
   "outputs": [
    {
     "name": "stdout",
     "output_type": "stream",
     "text": [
      "     #\n",
      "    ##\n",
      "   ###\n",
      "  ####\n",
      " #####\n",
      "######\n"
     ]
    }
   ],
   "source": [
    "staircase(6)"
   ]
  },
  {
   "cell_type": "code",
   "execution_count": 3,
   "id": "7f4336b4",
   "metadata": {},
   "outputs": [
    {
     "name": "stdout",
     "output_type": "stream",
     "text": [
      "1 2 3 4 5\n"
     ]
    }
   ],
   "source": [
    "arr = list(map(int, input().rstrip().split()))"
   ]
  },
  {
   "cell_type": "code",
   "execution_count": 17,
   "id": "3900eb3d",
   "metadata": {},
   "outputs": [],
   "source": [
    "def miniMaxSum(arr):\n",
    "    return arr[4]-arr[0]"
   ]
  },
  {
   "cell_type": "code",
   "execution_count": 18,
   "id": "c5f21467",
   "metadata": {
    "scrolled": true
   },
   "outputs": [
    {
     "data": {
      "text/plain": [
       "4"
      ]
     },
     "execution_count": 18,
     "metadata": {},
     "output_type": "execute_result"
    }
   ],
   "source": [
    "miniMaxSum(arr)"
   ]
  },
  {
   "cell_type": "code",
   "execution_count": 29,
   "id": "4a635c34",
   "metadata": {},
   "outputs": [
    {
     "name": "stdout",
     "output_type": "stream",
     "text": [
      "10 14\n"
     ]
    }
   ],
   "source": [
    "mx=arr[0]\n",
    "mnx=arr[0]\n",
    "x=0\n",
    "for i in range(0,n):\n",
    "    if arr[i]>mx:\n",
    "        mx=arr[i]\n",
    "    if arr[i]<mnx:\n",
    "        mnx=arr[i]\n",
    "    x=x+arr[i]\n",
    "print(x-mx, x-mnx)"
   ]
  },
  {
   "cell_type": "code",
   "execution_count": 24,
   "id": "792efe64",
   "metadata": {},
   "outputs": [],
   "source": [
    "n=len(arr)"
   ]
  },
  {
   "cell_type": "code",
   "execution_count": 25,
   "id": "d0a94362",
   "metadata": {},
   "outputs": [
    {
     "data": {
      "text/plain": [
       "4"
      ]
     },
     "execution_count": 25,
     "metadata": {},
     "output_type": "execute_result"
    }
   ],
   "source": [
    "mx-mnx"
   ]
  },
  {
   "cell_type": "code",
   "execution_count": 36,
   "id": "cefc4890",
   "metadata": {},
   "outputs": [
    {
     "name": "stdout",
     "output_type": "stream",
     "text": [
      "5\n",
      "4 5 3 5 2\n"
     ]
    }
   ],
   "source": [
    "candles_count = int(input().strip())\n",
    "candles = list(map(int, input().rstrip().split()))"
   ]
  },
  {
   "cell_type": "code",
   "execution_count": 37,
   "id": "c2b14c1a",
   "metadata": {},
   "outputs": [
    {
     "data": {
      "text/plain": [
       "[4, 5, 3, 5, 2]"
      ]
     },
     "execution_count": 37,
     "metadata": {},
     "output_type": "execute_result"
    }
   ],
   "source": [
    "candles"
   ]
  },
  {
   "cell_type": "code",
   "execution_count": 43,
   "id": "99651e71",
   "metadata": {},
   "outputs": [
    {
     "data": {
      "text/plain": [
       "2"
      ]
     },
     "execution_count": 43,
     "metadata": {},
     "output_type": "execute_result"
    }
   ],
   "source": [
    "mx=0\n",
    "for i in range(0,candles_count):\n",
    "    if candles[i]>mx:\n",
    "        mx=candles[i]\n",
    "return candles.count(mx)"
   ]
  },
  {
   "cell_type": "code",
   "execution_count": 17,
   "id": "399fd641",
   "metadata": {},
   "outputs": [
    {
     "name": "stdout",
     "output_type": "stream",
     "text": [
      "12:45:54PM\n"
     ]
    }
   ],
   "source": [
    "s = input()"
   ]
  },
  {
   "cell_type": "code",
   "execution_count": 21,
   "id": "254f0946",
   "metadata": {},
   "outputs": [],
   "source": [
    "def timeConversion(s):\n",
    "    v=None\n",
    "    ans=''\n",
    "    x=s[0]+s[1]\n",
    "    x=int(x)\n",
    "    if s[8]=='A':\n",
    "        if x==12:\n",
    "            v='00'\n",
    "        elif x<10:\n",
    "            v='0'+str(x)\n",
    "        else:\n",
    "            v=str(x)\n",
    "    else:\n",
    "        if x<12:\n",
    "            v=str(x+12)\n",
    "        else:\n",
    "            v=str(x)\n",
    "            \n",
    "    ans=''\n",
    "    for i in range(2,8):\n",
    "        ans=ans+s[i]\n",
    "        \n",
    "    return v+ans"
   ]
  },
  {
   "cell_type": "code",
   "execution_count": 22,
   "id": "83fdf2b0",
   "metadata": {},
   "outputs": [
    {
     "data": {
      "text/plain": [
       "'12:45:54'"
      ]
     },
     "execution_count": 22,
     "metadata": {},
     "output_type": "execute_result"
    }
   ],
   "source": [
    "timeConversion(s)"
   ]
  },
  {
   "cell_type": "code",
   "execution_count": 23,
   "id": "45fb4214",
   "metadata": {},
   "outputs": [
    {
     "name": "stdout",
     "output_type": "stream",
     "text": [
      "3\n"
     ]
    }
   ],
   "source": [
    "n = int(input().strip())"
   ]
  },
  {
   "cell_type": "code",
   "execution_count": 24,
   "id": "08a543e1",
   "metadata": {},
   "outputs": [
    {
     "name": "stdout",
     "output_type": "stream",
     "text": [
      "4 6 8\n"
     ]
    }
   ],
   "source": [
    "calorie = list(map(int, input().rstrip().split()))"
   ]
  },
  {
   "cell_type": "code",
   "execution_count": 30,
   "id": "c370a367",
   "metadata": {},
   "outputs": [
    {
     "data": {
      "text/plain": [
       "[4, 6, 8]"
      ]
     },
     "execution_count": 30,
     "metadata": {},
     "output_type": "execute_result"
    }
   ],
   "source": [
    "calorie"
   ]
  },
  {
   "cell_type": "code",
   "execution_count": 35,
   "id": "ceb8c713",
   "metadata": {},
   "outputs": [],
   "source": [
    "calorie.sort(reverse=True)"
   ]
  },
  {
   "cell_type": "code",
   "execution_count": 36,
   "id": "0d5a669f",
   "metadata": {},
   "outputs": [
    {
     "data": {
      "text/plain": [
       "[8, 6, 4]"
      ]
     },
     "execution_count": 36,
     "metadata": {},
     "output_type": "execute_result"
    }
   ],
   "source": [
    "calorie"
   ]
  },
  {
   "cell_type": "code",
   "execution_count": 40,
   "id": "683ab837",
   "metadata": {},
   "outputs": [],
   "source": [
    "def marcsCakewalk(calorie):\n",
    "    x=0\n",
    "    calorie.sort(reverse=True)\n",
    "    for i in range(0,n):\n",
    "        x=x+2**i*calorie[i]\n",
    "    return x"
   ]
  },
  {
   "cell_type": "code",
   "execution_count": 41,
   "id": "da5bde85",
   "metadata": {},
   "outputs": [
    {
     "data": {
      "text/plain": [
       "36"
      ]
     },
     "execution_count": 41,
     "metadata": {},
     "output_type": "execute_result"
    }
   ],
   "source": [
    "marcsCakewalk(calorie)"
   ]
  },
  {
   "cell_type": "code",
   "execution_count": 193,
   "id": "14b697bb",
   "metadata": {},
   "outputs": [
    {
     "data": {
      "text/plain": [
       "['abc', 'hjk', 'mpq', 'rtv']"
      ]
     },
     "execution_count": 193,
     "metadata": {},
     "output_type": "execute_result"
    }
   ],
   "source": [
    "grid"
   ]
  },
  {
   "cell_type": "code",
   "execution_count": 137,
   "id": "213c8026",
   "metadata": {
    "scrolled": true
   },
   "outputs": [
    {
     "data": {
      "text/plain": [
       "['acb', 'kij', 'dfe']"
      ]
     },
     "execution_count": 137,
     "metadata": {},
     "output_type": "execute_result"
    }
   ],
   "source": [
    "grid"
   ]
  },
  {
   "cell_type": "code",
   "execution_count": 122,
   "id": "a22e0dbb",
   "metadata": {},
   "outputs": [],
   "source": [
    "y0=''.join(sorted(grid[0]))"
   ]
  },
  {
   "cell_type": "code",
   "execution_count": 127,
   "id": "fa0a721b",
   "metadata": {},
   "outputs": [
    {
     "data": {
      "text/plain": [
       "'abc'"
      ]
     },
     "execution_count": 127,
     "metadata": {},
     "output_type": "execute_result"
    }
   ],
   "source": [
    "y0"
   ]
  },
  {
   "cell_type": "code",
   "execution_count": 123,
   "id": "2a73e998",
   "metadata": {},
   "outputs": [],
   "source": [
    "y1=''.join(sorted(grid[1]))"
   ]
  },
  {
   "cell_type": "code",
   "execution_count": 124,
   "id": "6134f219",
   "metadata": {},
   "outputs": [],
   "source": [
    "y2=''.join(sorted(grid[2]))"
   ]
  },
  {
   "cell_type": "code",
   "execution_count": 197,
   "id": "09b5ab2a",
   "metadata": {},
   "outputs": [],
   "source": [
    "y3=''.join(sorted(grid[3]))"
   ]
  },
  {
   "cell_type": "code",
   "execution_count": 198,
   "id": "a795b8b0",
   "metadata": {},
   "outputs": [
    {
     "data": {
      "text/plain": [
       "'rtv'"
      ]
     },
     "execution_count": 198,
     "metadata": {},
     "output_type": "execute_result"
    }
   ],
   "source": [
    "y3"
   ]
  },
  {
   "cell_type": "code",
   "execution_count": 138,
   "id": "2a5a47e1",
   "metadata": {},
   "outputs": [],
   "source": [
    "z0=''.join(sorted(grid[0]))[0]+''.join(sorted(grid[1]))[0]+''.join(sorted(grid[2]))[0]"
   ]
  },
  {
   "cell_type": "code",
   "execution_count": 139,
   "id": "d7fb463a",
   "metadata": {},
   "outputs": [
    {
     "data": {
      "text/plain": [
       "'aid'"
      ]
     },
     "execution_count": 139,
     "metadata": {},
     "output_type": "execute_result"
    }
   ],
   "source": [
    "z0"
   ]
  },
  {
   "cell_type": "code",
   "execution_count": 91,
   "id": "35a97779",
   "metadata": {},
   "outputs": [],
   "source": [
    "ans0=''.join(sorted(z0))"
   ]
  },
  {
   "cell_type": "code",
   "execution_count": 129,
   "id": "524238d9",
   "metadata": {},
   "outputs": [],
   "source": [
    "z1=''.join(sorted(grid[0]))[1]+''.join(sorted(grid[1]))[1]+''.join(sorted(grid[2]))[1]"
   ]
  },
  {
   "cell_type": "code",
   "execution_count": 130,
   "id": "3f4eb9b4",
   "metadata": {},
   "outputs": [],
   "source": [
    "ans1=''.join(sorted(z1))"
   ]
  },
  {
   "cell_type": "code",
   "execution_count": 131,
   "id": "4a859536",
   "metadata": {},
   "outputs": [],
   "source": [
    "z2=''.join(sorted(grid[0]))[2]+''.join(sorted(grid[1]))[2]+''.join(sorted(grid[2]))[2]"
   ]
  },
  {
   "cell_type": "code",
   "execution_count": 132,
   "id": "f4bb360c",
   "metadata": {},
   "outputs": [],
   "source": [
    "ans2=''.join(sorted(z2))"
   ]
  },
  {
   "cell_type": "code",
   "execution_count": 133,
   "id": "fcc3d4df",
   "metadata": {},
   "outputs": [
    {
     "name": "stdout",
     "output_type": "stream",
     "text": [
      "no\n"
     ]
    }
   ],
   "source": [
    "if (z0==ans0 and z1==ans1 and z2==ans2):\n",
    "    print('yes')\n",
    "else:\n",
    "    print('no')"
   ]
  },
  {
   "cell_type": "code",
   "execution_count": 201,
   "id": "1039c01d",
   "metadata": {
    "scrolled": true
   },
   "outputs": [
    {
     "name": "stdout",
     "output_type": "stream",
     "text": [
      "1\n",
      "4\n",
      "abc\n",
      "hjk\n",
      "mpq\n",
      "rtv\n"
     ]
    }
   ],
   "source": [
    "t = int(input().strip())\n",
    "for t_itr in range(t):\n",
    "        n = int(input().strip())\n",
    "\n",
    "        grid = []\n",
    "\n",
    "        for _ in range(n):\n",
    "            grid_item = input()\n",
    "            grid.append(grid_item)"
   ]
  },
  {
   "cell_type": "code",
   "execution_count": 13,
   "id": "143467d8",
   "metadata": {},
   "outputs": [
    {
     "name": "stdout",
     "output_type": "stream",
     "text": [
      "1\n",
      "4\n",
      "1 2 3 4\n"
     ]
    }
   ],
   "source": [
    "t = int(input().strip())\n",
    "for t_itr in range(t):\n",
    "    n = int(input().strip())\n",
    "arr = list(map(int, input().rstrip().split()))"
   ]
  },
  {
   "cell_type": "code",
   "execution_count": null,
   "id": "7c77d5ea",
   "metadata": {},
   "outputs": [],
   "source": []
  },
  {
   "cell_type": "code",
   "execution_count": null,
   "id": "d3a4ae60",
   "metadata": {},
   "outputs": [],
   "source": []
  },
  {
   "cell_type": "code",
   "execution_count": null,
   "id": "3d057f30",
   "metadata": {},
   "outputs": [],
   "source": []
  },
  {
   "cell_type": "code",
   "execution_count": null,
   "id": "7d3c6364",
   "metadata": {},
   "outputs": [],
   "source": []
  },
  {
   "cell_type": "code",
   "execution_count": null,
   "id": "a6e28beb",
   "metadata": {},
   "outputs": [],
   "source": [
    "abc\n",
    "hjk\n",
    "mpq\n",
    "rtv"
   ]
  },
  {
   "cell_type": "code",
   "execution_count": 209,
   "id": "aa6e7887",
   "metadata": {},
   "outputs": [],
   "source": [
    "l=len(grid[0])"
   ]
  },
  {
   "cell_type": "code",
   "execution_count": 210,
   "id": "bc13c442",
   "metadata": {},
   "outputs": [
    {
     "data": {
      "text/plain": [
       "3"
      ]
     },
     "execution_count": 210,
     "metadata": {},
     "output_type": "execute_result"
    }
   ],
   "source": [
    "l"
   ]
  },
  {
   "cell_type": "code",
   "execution_count": 211,
   "id": "8b4c1f5e",
   "metadata": {},
   "outputs": [
    {
     "name": "stdout",
     "output_type": "stream",
     "text": [
      "ahmr\n",
      "ahmr\n",
      "True\n",
      "True\n",
      "bjpt\n",
      "bjpt\n",
      "True\n",
      "True\n",
      "ckqv\n",
      "ckqv\n",
      "True\n",
      "True\n",
      "Yes\n"
     ]
    }
   ],
   "source": [
    "z0=''\n",
    "y= True\n",
    "l=len(grid[0])\n",
    "for j in range(0,l):\n",
    "    for i in range(0,n):\n",
    "        z0 = z0 + ''.join(sorted(grid[i]))[j]\n",
    "    print(z0)\n",
    "    ans0=''.join(sorted(z0))\n",
    "    print(ans0)\n",
    "    x=bool(z0==ans0)\n",
    "    print(x)\n",
    "    y= y and x\n",
    "    print(y)\n",
    "    z0=''\n",
    "if y==True:\n",
    "    ans='Yes'\n",
    "else:\n",
    "    ans='No'\n",
    "print(ans)"
   ]
  },
  {
   "cell_type": "code",
   "execution_count": null,
   "id": "26a73053",
   "metadata": {},
   "outputs": [],
   "source": [
    "def gridChallenge(grid):\n",
    "    z0=''\n",
    "    y= True\n",
    "    l=len(grid[0])\n",
    "    for j in range(0,l):\n",
    "        for i in range(0,n):\n",
    "            z0 = z0 + ''.join(sorted(grid[i]))[j]\n",
    "\n",
    "        ans0=''.join(sorted(z0))\n",
    "\n",
    "        x=bool(z0==ans0)\n",
    "\n",
    "        y= y and x\n",
    "        z0=''\n",
    "    if y==True:\n",
    "        ans='Yes'\n",
    "    else:\n",
    "        ans='No'\n",
    "    return ans"
   ]
  },
  {
   "cell_type": "code",
   "execution_count": 265,
   "id": "7417132a",
   "metadata": {},
   "outputs": [
    {
     "name": "stdout",
     "output_type": "stream",
     "text": [
      "6 3\n",
      "5 1\n",
      "2 1\n",
      "1 1\n",
      "8 1\n",
      "10 0\n",
      "5 0\n"
     ]
    }
   ],
   "source": [
    "first_multiple_input = input().rstrip().split()\n",
    "\n",
    "n = int(first_multiple_input[0])\n",
    "\n",
    "k = int(first_multiple_input[1])\n",
    "\n",
    "contests = []\n",
    "\n",
    "for _ in range(n):\n",
    "    contests.append(list(map(int, input().rstrip().split())))"
   ]
  },
  {
   "cell_type": "code",
   "execution_count": 74,
   "id": "5c147795",
   "metadata": {},
   "outputs": [
    {
     "name": "stdout",
     "output_type": "stream",
     "text": [
      "1 2\n"
     ]
    }
   ],
   "source": [
    "first_multiple_input = input().rstrip().split()\n",
    "\n",
    "n = int(first_multiple_input[0])\n",
    "\n",
    "k = int(first_multiple_input[1])"
   ]
  },
  {
   "cell_type": "code",
   "execution_count": 83,
   "id": "e4b5ae27",
   "metadata": {},
   "outputs": [
    {
     "name": "stdout",
     "output_type": "stream",
     "text": [
      "30 16\n",
      "No\n"
     ]
    }
   ],
   "source": [
    "# cook your dish here\n",
    "Input=input().rstrip().split()\n",
    "x=int(Input[0])\n",
    "y=int(Input[1])\n",
    "\n",
    "if x>=2*y:\n",
    "    print('Yes')\n",
    "else:\n",
    "    print('No')"
   ]
  },
  {
   "cell_type": "code",
   "execution_count": 2,
   "id": "e8f4c753",
   "metadata": {},
   "outputs": [
    {
     "data": {
      "text/plain": [
       "2"
      ]
     },
     "execution_count": 2,
     "metadata": {},
     "output_type": "execute_result"
    }
   ],
   "source": [
    "x"
   ]
  },
  {
   "cell_type": "code",
   "execution_count": 3,
   "id": "f17ec871",
   "metadata": {},
   "outputs": [
    {
     "data": {
      "text/plain": [
       "10"
      ]
     },
     "execution_count": 3,
     "metadata": {},
     "output_type": "execute_result"
    }
   ],
   "source": [
    "y"
   ]
  },
  {
   "cell_type": "code",
   "execution_count": null,
   "id": "1bf2f0b2",
   "metadata": {},
   "outputs": [],
   "source": []
  },
  {
   "cell_type": "code",
   "execution_count": null,
   "id": "fe950a9e",
   "metadata": {},
   "outputs": [],
   "source": []
  },
  {
   "cell_type": "code",
   "execution_count": null,
   "id": "509e92b9",
   "metadata": {},
   "outputs": [],
   "source": []
  },
  {
   "cell_type": "code",
   "execution_count": null,
   "id": "b4c623e1",
   "metadata": {},
   "outputs": [],
   "source": []
  },
  {
   "cell_type": "code",
   "execution_count": null,
   "id": "c7f2b108",
   "metadata": {},
   "outputs": [],
   "source": []
  },
  {
   "cell_type": "code",
   "execution_count": null,
   "id": "b123dc0d",
   "metadata": {},
   "outputs": [],
   "source": []
  },
  {
   "cell_type": "code",
   "execution_count": 75,
   "id": "35fa0df5",
   "metadata": {
    "scrolled": true
   },
   "outputs": [
    {
     "data": {
      "text/plain": [
       "1"
      ]
     },
     "execution_count": 75,
     "metadata": {},
     "output_type": "execute_result"
    }
   ],
   "source": [
    "n"
   ]
  },
  {
   "cell_type": "code",
   "execution_count": 76,
   "id": "1b4843c3",
   "metadata": {},
   "outputs": [
    {
     "data": {
      "text/plain": [
       "2"
      ]
     },
     "execution_count": 76,
     "metadata": {},
     "output_type": "execute_result"
    }
   ],
   "source": [
    "k"
   ]
  },
  {
   "cell_type": "code",
   "execution_count": 283,
   "id": "2adfa6b3",
   "metadata": {},
   "outputs": [
    {
     "name": "stdout",
     "output_type": "stream",
     "text": [
      "[1]\n",
      "[1, 2]\n",
      "5\n",
      "[1, 2, 5]\n",
      "[1, 2, 5, 8]\n",
      "15\n",
      "29\n"
     ]
    }
   ],
   "source": [
    "l=0\n",
    "lst=[]\n",
    "negative_num=0\n",
    "contests.sort()\n",
    "for i in range(0,n):\n",
    "    if contests[i][1]==0:\n",
    "        l=l+contests[i][0]\n",
    "    else:\n",
    "        lst.append(contests[i][0])\n",
    "\n",
    "for i in range(0,len(lst)):\n",
    "    if i<len(lst)-k:\n",
    "        negative_num=negative_num+lst[i]\n",
    "    else:\n",
    "        l=l+lst[i]\n",
    "        \n",
    "return l-negative_num"
   ]
  },
  {
   "cell_type": "code",
   "execution_count": 35,
   "id": "31f6b220",
   "metadata": {},
   "outputs": [
    {
     "name": "stdout",
     "output_type": "stream",
     "text": [
      "3\n",
      "1 2 3\n"
     ]
    }
   ],
   "source": [
    "n = int(input().strip())\n",
    "arr = list(map(int, input().rstrip().split()))"
   ]
  },
  {
   "cell_type": "code",
   "execution_count": 36,
   "id": "8ee686a5",
   "metadata": {},
   "outputs": [
    {
     "data": {
      "text/plain": [
       "3"
      ]
     },
     "execution_count": 36,
     "metadata": {},
     "output_type": "execute_result"
    }
   ],
   "source": [
    "n"
   ]
  },
  {
   "cell_type": "code",
   "execution_count": 297,
   "id": "261af01f",
   "metadata": {},
   "outputs": [],
   "source": [
    "for i in range(0,n):\n",
    "    for j in range(0,n):\n",
    "        while k!=\n",
    "        "
   ]
  },
  {
   "cell_type": "code",
   "execution_count": 7,
   "id": "b552052d",
   "metadata": {},
   "outputs": [],
   "source": [
    "lst=[]\n",
    "for i in range(0,3):\n",
    "    lst.append(sticks[i])           "
   ]
  },
  {
   "cell_type": "code",
   "execution_count": 8,
   "id": "a27e220c",
   "metadata": {
    "scrolled": false
   },
   "outputs": [
    {
     "data": {
      "text/plain": [
       "[1, 2, 3]"
      ]
     },
     "execution_count": 8,
     "metadata": {},
     "output_type": "execute_result"
    }
   ],
   "source": [
    "lst"
   ]
  },
  {
   "cell_type": "code",
   "execution_count": null,
   "id": "3eb50c2e",
   "metadata": {},
   "outputs": [],
   "source": []
  },
  {
   "cell_type": "code",
   "execution_count": 192,
   "id": "fc955481",
   "metadata": {},
   "outputs": [
    {
     "name": "stdout",
     "output_type": "stream",
     "text": [
      "3\n",
      "1 2 3\n"
     ]
    }
   ],
   "source": [
    "n = int(input().strip())\n",
    "sticks = list(map(int, input().rstrip().split()))"
   ]
  },
  {
   "cell_type": "code",
   "execution_count": 197,
   "id": "03cdb567",
   "metadata": {},
   "outputs": [],
   "source": [
    "def maximumPerimeterTriangle(sticks):\n",
    "    ##Total possible pair \n",
    "    x=0\n",
    "    lst=[]\n",
    "    for i in range(0,n):\n",
    "        for j in range(0,n):\n",
    "            for k in range(0,n):\n",
    "                if i!=j and j!=k and k!=i:\n",
    "                    lst.append([sticks[i],sticks[j],sticks[k]])\n",
    "\n",
    "\n",
    "    try:\n",
    "        ## Triangle condition                \n",
    "        tri=[]\n",
    "        for i in range(0,len(lst)):\n",
    "            if lst[i][0]+lst[i][1]>lst[i][2] and lst[i][1]+lst[i][2]>lst[i][0] and lst[i][2]+lst[i][0]>lst[i][1]:\n",
    "                tri.append(lst[i])\n",
    "\n",
    "        ## Maximum perimeter\n",
    "        mx=0\n",
    "        list3=[]\n",
    "        for i in range(0,len(tri)):\n",
    "            if sum(tri[i])>mx:\n",
    "                mx=sum(tri[i])\n",
    "        for i in range(0,len(tri)):\n",
    "            if sum(tri[i])==mx:\n",
    "                list3.append(tri[i])\n",
    "\n",
    "        a=max(list3)\n",
    "        a.sort()\n",
    "\n",
    "        print(a[0],end=' ')\n",
    "        print(a[1],end=' ')\n",
    "        print(a[2],end=' ')\n",
    "    except:\n",
    "        return [-1]"
   ]
  },
  {
   "cell_type": "code",
   "execution_count": 198,
   "id": "523b92d8",
   "metadata": {},
   "outputs": [
    {
     "data": {
      "text/plain": [
       "[-1]"
      ]
     },
     "execution_count": 198,
     "metadata": {},
     "output_type": "execute_result"
    }
   ],
   "source": [
    "maximumPerimeterTriangle(sticks)"
   ]
  },
  {
   "cell_type": "code",
   "execution_count": 188,
   "id": "a11416c8",
   "metadata": {},
   "outputs": [
    {
     "name": "stdout",
     "output_type": "stream",
     "text": [
      "1 3 3 "
     ]
    }
   ],
   "source": [
    "##Total possible pair \n",
    "x=0\n",
    "lst=[]\n",
    "for i in range(0,n):\n",
    "    for j in range(0,n):\n",
    "        for k in range(0,n):\n",
    "            if i!=j and j!=k and k!=i:\n",
    "                lst.append([sticks[i],sticks[j],sticks[k]])\n",
    "\n",
    "\n",
    "try:\n",
    "    ## Triangle condition                \n",
    "    tri=[]\n",
    "    for i in range(0,len(lst)):\n",
    "        if lst[i][0]+lst[i][1]>lst[i][2] and lst[i][1]+lst[i][2]>lst[i][0] and lst[i][2]+lst[i][0]>lst[i][1]:\n",
    "            tri.append(lst[i])\n",
    "\n",
    "    ## Maximum perimeter\n",
    "    mx=0\n",
    "    list3=[]\n",
    "    for i in range(0,len(tri)):\n",
    "        if sum(tri[i])>mx:\n",
    "            mx=sum(tri[i])\n",
    "    for i in range(0,len(tri)):\n",
    "        if sum(tri[i])==mx:\n",
    "            list3.append(tri[i])\n",
    "\n",
    "    a=max(list3)\n",
    "    a.sort()\n",
    "\n",
    "    print(a[0],end=' ')\n",
    "    print(a[1],end=' ')\n",
    "    print(a[2],end=' ')\n",
    "except:\n",
    "    print(-1)"
   ]
  },
  {
   "cell_type": "code",
   "execution_count": 13,
   "id": "46afedfc",
   "metadata": {},
   "outputs": [],
   "source": [
    "def maximumPerimeterTriangle(sticks):\n",
    "    sticks.sort()\n",
    "    i=len(sticks)-3\n",
    "    while i>=0:\n",
    "        print(x)\n",
    "        "
   ]
  },
  {
   "cell_type": "code",
   "execution_count": 3,
   "id": "ecd55f94",
   "metadata": {},
   "outputs": [
    {
     "data": {
      "text/plain": [
       "3"
      ]
     },
     "execution_count": 3,
     "metadata": {},
     "output_type": "execute_result"
    }
   ],
   "source": [
    "len(sticks)-3"
   ]
  },
  {
   "cell_type": "code",
   "execution_count": 31,
   "id": "d773aa30",
   "metadata": {},
   "outputs": [
    {
     "name": "stdout",
     "output_type": "stream",
     "text": [
      "3\n",
      "1 2 3\n"
     ]
    }
   ],
   "source": [
    "n = int(input().strip())\n",
    "sticks = list(map(int, input().rstrip().split()))"
   ]
  },
  {
   "cell_type": "code",
   "execution_count": 32,
   "id": "2c6e3b2a",
   "metadata": {},
   "outputs": [
    {
     "name": "stdout",
     "output_type": "stream",
     "text": [
      "-1\n",
      "-1\n"
     ]
    }
   ],
   "source": [
    "sticks.sort()\n",
    "i=len(sticks)-3\n",
    "while  i>=0 and sticks[i]+sticks[i+1]<=sticks[i+2]: ##Anti Triangle Condition \n",
    "    i-=1\n",
    "    print(i)\n",
    "if i>=0:\n",
    "    print(sticks[i],sticks[i+1],sticks[i+2])\n",
    "else:\n",
    "    print(-1)"
   ]
  },
  {
   "cell_type": "code",
   "execution_count": 36,
   "id": "190278ed",
   "metadata": {},
   "outputs": [],
   "source": [
    "txt='Hello World'[::-1]"
   ]
  },
  {
   "cell_type": "code",
   "execution_count": 37,
   "id": "d74a55c3",
   "metadata": {},
   "outputs": [
    {
     "data": {
      "text/plain": [
       "'dlroW olleH'"
      ]
     },
     "execution_count": 37,
     "metadata": {},
     "output_type": "execute_result"
    }
   ],
   "source": [
    "txt"
   ]
  },
  {
   "cell_type": "code",
   "execution_count": 48,
   "id": "33c6771e",
   "metadata": {},
   "outputs": [],
   "source": []
  },
  {
   "cell_type": "code",
   "execution_count": 84,
   "id": "02bf37b2",
   "metadata": {},
   "outputs": [
    {
     "name": "stdout",
     "output_type": "stream",
     "text": [
      "3\n",
      "3\n"
     ]
    }
   ],
   "source": []
  },
  {
   "cell_type": "code",
   "execution_count": 85,
   "id": "9ac3b914",
   "metadata": {},
   "outputs": [],
   "source": []
  },
  {
   "cell_type": "code",
   "execution_count": 86,
   "id": "988389f8",
   "metadata": {},
   "outputs": [
    {
     "data": {
      "text/plain": [
       "['0', '0', '0', '1', '1', '1']"
      ]
     },
     "execution_count": 86,
     "metadata": {},
     "output_type": "execute_result"
    }
   ],
   "source": [
    "lst"
   ]
  },
  {
   "cell_type": "code",
   "execution_count": 79,
   "id": "b840b430",
   "metadata": {},
   "outputs": [
    {
     "data": {
      "text/plain": [
       "['1', '0', '0', '1']"
      ]
     },
     "execution_count": 79,
     "metadata": {},
     "output_type": "execute_result"
    }
   ],
   "source": [
    "lst"
   ]
  },
  {
   "cell_type": "code",
   "execution_count": 80,
   "id": "38c39f61",
   "metadata": {},
   "outputs": [
    {
     "data": {
      "text/plain": [
       "['0', '1', '1', '0']"
      ]
     },
     "execution_count": 80,
     "metadata": {},
     "output_type": "execute_result"
    }
   ],
   "source": [
    "lst1"
   ]
  },
  {
   "cell_type": "code",
   "execution_count": 64,
   "id": "a82a808b",
   "metadata": {},
   "outputs": [],
   "source": [
    "random.shuffle(lst)"
   ]
  },
  {
   "cell_type": "code",
   "execution_count": 63,
   "id": "ed673480",
   "metadata": {},
   "outputs": [
    {
     "data": {
      "text/plain": [
       "['0', '0', '1', '1']"
      ]
     },
     "execution_count": 63,
     "metadata": {},
     "output_type": "execute_result"
    }
   ],
   "source": [
    "lst"
   ]
  },
  {
   "cell_type": "code",
   "execution_count": 66,
   "id": "1d1b207a",
   "metadata": {},
   "outputs": [
    {
     "data": {
      "text/plain": [
       "NoneType"
      ]
     },
     "execution_count": 66,
     "metadata": {},
     "output_type": "execute_result"
    }
   ],
   "source": [
    "type(lst1)"
   ]
  },
  {
   "cell_type": "code",
   "execution_count": 68,
   "id": "62b92648",
   "metadata": {},
   "outputs": [],
   "source": [
    "random.shuffle(lst)"
   ]
  },
  {
   "cell_type": "code",
   "execution_count": 69,
   "id": "f6b66078",
   "metadata": {},
   "outputs": [
    {
     "data": {
      "text/plain": [
       "['1', '0', '0', '1']"
      ]
     },
     "execution_count": 69,
     "metadata": {},
     "output_type": "execute_result"
    }
   ],
   "source": [
    "lst"
   ]
  },
  {
   "cell_type": "code",
   "execution_count": 75,
   "id": "f5989ea4",
   "metadata": {},
   "outputs": [],
   "source": [
    "lst1=random.sample(lst,len(lst))"
   ]
  },
  {
   "cell_type": "code",
   "execution_count": 76,
   "id": "5ac79235",
   "metadata": {},
   "outputs": [
    {
     "data": {
      "text/plain": [
       "['1', '0', '0', '1']"
      ]
     },
     "execution_count": 76,
     "metadata": {},
     "output_type": "execute_result"
    }
   ],
   "source": [
    "lst1"
   ]
  },
  {
   "cell_type": "code",
   "execution_count": null,
   "id": "b8d42b89",
   "metadata": {},
   "outputs": [],
   "source": []
  },
  {
   "cell_type": "code",
   "execution_count": null,
   "id": "4735b0b4",
   "metadata": {},
   "outputs": [],
   "source": []
  },
  {
   "cell_type": "code",
   "execution_count": null,
   "id": "37d6ab4f",
   "metadata": {},
   "outputs": [],
   "source": []
  },
  {
   "cell_type": "code",
   "execution_count": null,
   "id": "b1d903f2",
   "metadata": {},
   "outputs": [],
   "source": []
  },
  {
   "cell_type": "code",
   "execution_count": null,
   "id": "44ce2ed8",
   "metadata": {},
   "outputs": [],
   "source": []
  },
  {
   "cell_type": "code",
   "execution_count": null,
   "id": "39d4551a",
   "metadata": {},
   "outputs": [],
   "source": []
  },
  {
   "cell_type": "code",
   "execution_count": null,
   "id": "92c94113",
   "metadata": {},
   "outputs": [],
   "source": []
  },
  {
   "cell_type": "code",
   "execution_count": null,
   "id": "c08c192b",
   "metadata": {},
   "outputs": [],
   "source": []
  },
  {
   "cell_type": "code",
   "execution_count": 85,
   "id": "96a240e9",
   "metadata": {},
   "outputs": [
    {
     "data": {
      "text/plain": [
       "<generator object orderedpair at 0x7fbeef28b350>"
      ]
     },
     "execution_count": 85,
     "metadata": {},
     "output_type": "execute_result"
    }
   ],
   "source": [
    "orderedpair(2,1)"
   ]
  },
  {
   "cell_type": "code",
   "execution_count": 113,
   "id": "cd4d4a4e",
   "metadata": {},
   "outputs": [],
   "source": [
    "N=3"
   ]
  },
  {
   "cell_type": "code",
   "execution_count": 114,
   "id": "b3fb4851",
   "metadata": {},
   "outputs": [
    {
     "name": "stdout",
     "output_type": "stream",
     "text": [
      "2\n"
     ]
    }
   ],
   "source": [
    "lst=[]\n",
    "for i in range(1,N):\n",
    "    for j in range(1,N):\n",
    "        if N==i+j:\n",
    "            lst.append([i,j])\n",
    "print(len(lst))"
   ]
  },
  {
   "cell_type": "code",
   "execution_count": 106,
   "id": "24e9d4c1",
   "metadata": {},
   "outputs": [
    {
     "data": {
      "text/plain": [
       "[[1, 4], [2, 3], [3, 2], [4, 1]]"
      ]
     },
     "execution_count": 106,
     "metadata": {},
     "output_type": "execute_result"
    }
   ],
   "source": [
    "lst"
   ]
  },
  {
   "cell_type": "code",
   "execution_count": 107,
   "id": "afea1e15",
   "metadata": {
    "scrolled": true
   },
   "outputs": [
    {
     "data": {
      "text/plain": [
       "4"
      ]
     },
     "execution_count": 107,
     "metadata": {},
     "output_type": "execute_result"
    }
   ],
   "source": [
    "len(lst)"
   ]
  },
  {
   "cell_type": "code",
   "execution_count": 24,
   "id": "8bf04ba1",
   "metadata": {},
   "outputs": [
    {
     "name": "stdout",
     "output_type": "stream",
     "text": [
      "2\n",
      "5\n",
      "1 2 3 -3 2\n"
     ]
    },
    {
     "ename": "ValueError",
     "evalue": "invalid literal for int() with base 10: '1 2 3 -3 2'",
     "output_type": "error",
     "traceback": [
      "\u001b[0;31m---------------------------------------------------------------------------\u001b[0m",
      "\u001b[0;31mValueError\u001b[0m                                Traceback (most recent call last)",
      "\u001b[0;32m<ipython-input-24-57a8b4f4cfdf>\u001b[0m in \u001b[0;36m<module>\u001b[0;34m\u001b[0m\n\u001b[1;32m      1\u001b[0m \u001b[0mt\u001b[0m \u001b[0;34m=\u001b[0m \u001b[0mint\u001b[0m\u001b[0;34m(\u001b[0m\u001b[0minput\u001b[0m\u001b[0;34m(\u001b[0m\u001b[0;34m)\u001b[0m\u001b[0;34m.\u001b[0m\u001b[0mstrip\u001b[0m\u001b[0;34m(\u001b[0m\u001b[0;34m)\u001b[0m\u001b[0;34m)\u001b[0m\u001b[0;34m\u001b[0m\u001b[0;34m\u001b[0m\u001b[0m\n\u001b[1;32m      2\u001b[0m \u001b[0;32mfor\u001b[0m \u001b[0mt_itr\u001b[0m \u001b[0;32min\u001b[0m \u001b[0mrange\u001b[0m\u001b[0;34m(\u001b[0m\u001b[0mt\u001b[0m\u001b[0;34m)\u001b[0m\u001b[0;34m:\u001b[0m\u001b[0;34m\u001b[0m\u001b[0;34m\u001b[0m\u001b[0m\n\u001b[0;32m----> 3\u001b[0;31m     \u001b[0mn\u001b[0m \u001b[0;34m=\u001b[0m \u001b[0mint\u001b[0m\u001b[0;34m(\u001b[0m\u001b[0minput\u001b[0m\u001b[0;34m(\u001b[0m\u001b[0;34m)\u001b[0m\u001b[0;34m.\u001b[0m\u001b[0mstrip\u001b[0m\u001b[0;34m(\u001b[0m\u001b[0;34m)\u001b[0m\u001b[0;34m)\u001b[0m\u001b[0;34m\u001b[0m\u001b[0;34m\u001b[0m\u001b[0m\n\u001b[0m\u001b[1;32m      4\u001b[0m \u001b[0marr\u001b[0m \u001b[0;34m=\u001b[0m \u001b[0mlist\u001b[0m\u001b[0;34m(\u001b[0m\u001b[0mmap\u001b[0m\u001b[0;34m(\u001b[0m\u001b[0mint\u001b[0m\u001b[0;34m,\u001b[0m \u001b[0minput\u001b[0m\u001b[0;34m(\u001b[0m\u001b[0;34m)\u001b[0m\u001b[0;34m.\u001b[0m\u001b[0mrstrip\u001b[0m\u001b[0;34m(\u001b[0m\u001b[0;34m)\u001b[0m\u001b[0;34m.\u001b[0m\u001b[0msplit\u001b[0m\u001b[0;34m(\u001b[0m\u001b[0;34m)\u001b[0m\u001b[0;34m)\u001b[0m\u001b[0;34m)\u001b[0m\u001b[0;34m\u001b[0m\u001b[0;34m\u001b[0m\u001b[0m\n\u001b[1;32m      5\u001b[0m \u001b[0mm\u001b[0m\u001b[0;34m=\u001b[0m\u001b[0;36m1\u001b[0m\u001b[0;34m\u001b[0m\u001b[0;34m\u001b[0m\u001b[0m\n",
      "\u001b[0;31mValueError\u001b[0m: invalid literal for int() with base 10: '1 2 3 -3 2'"
     ]
    }
   ],
   "source": [
    "t = int(input().strip())\n",
    "for t_itr in range(t):\n",
    "    n = int(input().strip())\n",
    "arr = list(map(int, input().rstrip().split()))\n",
    "m=1\n",
    "for i in range(0,n):\n",
    "    m = m * arr[i]\n",
    "if m>=0:\n",
    "    print(0)\n",
    "else:\n",
    "    print(1)"
   ]
  },
  {
   "cell_type": "code",
   "execution_count": 38,
   "id": "5f9988bb",
   "metadata": {},
   "outputs": [
    {
     "name": "stdout",
     "output_type": "stream",
     "text": [
      "2\n",
      "3\n",
      "3\n",
      "3\n",
      "3\n"
     ]
    }
   ],
   "source": [
    "t = int(input().strip())\n",
    "for t_itr in range(t):\n",
    "    n = int(input().strip())\n",
    "    arr = list(map(int, input().rstrip().split()))"
   ]
  },
  {
   "cell_type": "code",
   "execution_count": null,
   "id": "4abfb551",
   "metadata": {},
   "outputs": [],
   "source": [
    "t = int(input().strip())\n",
    "for t_itr in range(t):\n",
    "    n = int(input().strip())\n",
    "    arr = list(map(int, input().rstrip().split()))\n",
    "    m=1\n",
    "    for i in range(0,n):\n",
    "        m = m * arr[i]\n",
    "    if m>=0:\n",
    "        print(0)\n",
    "    else:\n",
    "        print(1)"
   ]
  },
  {
   "cell_type": "code",
   "execution_count": 40,
   "id": "a3b29cea",
   "metadata": {},
   "outputs": [
    {
     "name": "stdout",
     "output_type": "stream",
     "text": [
      "2\n",
      "3\n",
      "101\n",
      "4\n",
      "1010\n"
     ]
    }
   ],
   "source": [
    "t = int(input().strip())\n",
    "for t_itr in range(t):\n",
    "    n = int(input().strip())\n",
    "    S=input()\n",
    "    "
   ]
  },
  {
   "cell_type": "code",
   "execution_count": 41,
   "id": "63687dd0",
   "metadata": {},
   "outputs": [
    {
     "name": "stdout",
     "output_type": "stream",
     "text": [
      "1001\n"
     ]
    }
   ],
   "source": [
    "S=input()"
   ]
  },
  {
   "cell_type": "code",
   "execution_count": 265,
   "id": "82460d66",
   "metadata": {},
   "outputs": [
    {
     "name": "stdout",
     "output_type": "stream",
     "text": [
      "6 3\n",
      "5 1\n",
      "2 1\n",
      "1 1\n",
      "8 1\n",
      "10 0\n",
      "5 0\n"
     ]
    }
   ],
   "source": [
    "first_multiple_input = input().rstrip().split()\n",
    "\n",
    "n = int(first_multiple_input[0])\n",
    "\n",
    "k = int(first_multiple_input[1])\n",
    "\n",
    "contests = []\n",
    "\n",
    "for _ in range(n):\n",
    "    contests.append(list(map(int, input().rstrip().split())))"
   ]
  },
  {
   "cell_type": "code",
   "execution_count": 259,
   "id": "833c7a65",
   "metadata": {},
   "outputs": [
    {
     "name": "stdout",
     "output_type": "stream",
     "text": [
      "1\n",
      "2 3\n"
     ]
    }
   ],
   "source": [
    "t = int(input().strip())\n",
    "for t_itr in range(t):\n",
    "    inputt=input().rstrip().split()\n",
    "    A=int(inputt[0])\n",
    "    B=int(inputt[1])\n",
    "import random\n",
    "lst=[]\n",
    "for i in range(0,A):\n",
    "    lst.append('0')\n",
    "for i in range(0,B):\n",
    "    lst.append('1')\n"
   ]
  },
  {
   "cell_type": "code",
   "execution_count": 263,
   "id": "7f0cd99b",
   "metadata": {},
   "outputs": [],
   "source": [
    "import random\n",
    "lst=[]\n",
    "for i in range(0,A):\n",
    "    lst.append('0')\n",
    "for i in range(0,B):\n",
    "    lst.append('1')\n",
    "import time\n",
    "timeout = time.time() + 3"
   ]
  },
  {
   "cell_type": "code",
   "execution_count": 264,
   "id": "019f9d58",
   "metadata": {},
   "outputs": [
    {
     "data": {
      "text/plain": [
       "['0', '0', '1', '1', '1']"
      ]
     },
     "execution_count": 264,
     "metadata": {},
     "output_type": "execute_result"
    }
   ],
   "source": [
    "lst"
   ]
  },
  {
   "cell_type": "code",
   "execution_count": 267,
   "id": "79d42b60",
   "metadata": {},
   "outputs": [
    {
     "name": "stdout",
     "output_type": "stream",
     "text": [
      "Yes\n"
     ]
    }
   ],
   "source": [
    "if A%2!=0 and B!=0:\n",
    "    print('No')\n",
    "else:\n",
    "    print('Yes')"
   ]
  },
  {
   "cell_type": "code",
   "execution_count": 270,
   "id": "653beb2f",
   "metadata": {},
   "outputs": [
    {
     "name": "stdout",
     "output_type": "stream",
     "text": [
      "1\n",
      "1 1\n",
      "No\n"
     ]
    }
   ],
   "source": [
    "t = int(input().strip())\n",
    "for t_itr in range(t):\n",
    "    inputt=input().rstrip().split()\n",
    "    A=int(inputt[0])\n",
    "    B=int(inputt[1])\n",
    "    if A%2!=0 and B%2!=0:\n",
    "        print('No')\n",
    "    else:\n",
    "        print('Yes')"
   ]
  },
  {
   "cell_type": "code",
   "execution_count": 271,
   "id": "764bed2a",
   "metadata": {},
   "outputs": [],
   "source": [
    "S=[0,0,1,0,1,0,0]"
   ]
  },
  {
   "cell_type": "code",
   "execution_count": 272,
   "id": "f575d4d3",
   "metadata": {},
   "outputs": [
    {
     "data": {
      "text/plain": [
       "5"
      ]
     },
     "execution_count": 272,
     "metadata": {},
     "output_type": "execute_result"
    }
   ],
   "source": [
    "S.count(0)"
   ]
  },
  {
   "cell_type": "code",
   "execution_count": 273,
   "id": "64e4a62d",
   "metadata": {},
   "outputs": [
    {
     "data": {
      "text/plain": [
       "2"
      ]
     },
     "execution_count": 273,
     "metadata": {},
     "output_type": "execute_result"
    }
   ],
   "source": [
    "S.count(1)"
   ]
  },
  {
   "cell_type": "code",
   "execution_count": 275,
   "id": "1753e804",
   "metadata": {},
   "outputs": [],
   "source": [
    "lst=[]\n",
    "for i in range(0,5):\n",
    "    lst.append(0)\n",
    "for i in range(0,2):\n",
    "    lst.append(1)"
   ]
  },
  {
   "cell_type": "code",
   "execution_count": 276,
   "id": "2f54aaff",
   "metadata": {},
   "outputs": [
    {
     "data": {
      "text/plain": [
       "[0, 0, 0, 0, 0, 1, 1]"
      ]
     },
     "execution_count": 276,
     "metadata": {},
     "output_type": "execute_result"
    }
   ],
   "source": [
    "lst"
   ]
  },
  {
   "cell_type": "code",
   "execution_count": 277,
   "id": "77024bc2",
   "metadata": {},
   "outputs": [
    {
     "name": "stdout",
     "output_type": "stream",
     "text": [
      "12.00\n",
      "20\n",
      "8\n"
     ]
    }
   ],
   "source": [
    "meal_cost = float(input().strip())\n",
    "\n",
    "tip_percent = int(input().strip())\n",
    "\n",
    "tax_percent = int(input().strip())"
   ]
  },
  {
   "cell_type": "code",
   "execution_count": 282,
   "id": "140a9560",
   "metadata": {},
   "outputs": [
    {
     "data": {
      "text/plain": [
       "15.36"
      ]
     },
     "execution_count": 282,
     "metadata": {},
     "output_type": "execute_result"
    }
   ],
   "source": [
    "meal_cost*(1+tip_percent/100+tax_percent/100)"
   ]
  },
  {
   "cell_type": "code",
   "execution_count": 285,
   "id": "b2784443",
   "metadata": {},
   "outputs": [
    {
     "data": {
      "text/plain": [
       "16"
      ]
     },
     "execution_count": 285,
     "metadata": {},
     "output_type": "execute_result"
    }
   ],
   "source": [
    "round(15.9)"
   ]
  },
  {
   "cell_type": "code",
   "execution_count": 288,
   "id": "4e9b7a5c",
   "metadata": {},
   "outputs": [],
   "source": [
    "N=100"
   ]
  },
  {
   "cell_type": "code",
   "execution_count": 296,
   "id": "239dbed9",
   "metadata": {},
   "outputs": [
    {
     "name": "stdout",
     "output_type": "stream",
     "text": [
      "3\n",
      "1\n",
      "2\n",
      "2\n"
     ]
    }
   ],
   "source": [
    "n = int(input().strip())\n",
    "\n",
    "arr = []\n",
    "\n",
    "for _ in range(n):\n",
    "    arr_item = int(input().strip())\n",
    "    arr.append(arr_item)"
   ]
  },
  {
   "cell_type": "code",
   "execution_count": 297,
   "id": "5982dfbd",
   "metadata": {},
   "outputs": [
    {
     "data": {
      "text/plain": [
       "[1, 2, 2]"
      ]
     },
     "execution_count": 297,
     "metadata": {},
     "output_type": "execute_result"
    }
   ],
   "source": [
    "arr"
   ]
  },
  {
   "cell_type": "code",
   "execution_count": 338,
   "id": "1c95aa71",
   "metadata": {},
   "outputs": [
    {
     "name": "stdout",
     "output_type": "stream",
     "text": [
      "4\n",
      "73\n",
      "67\n",
      "38\n",
      "33\n"
     ]
    }
   ],
   "source": [
    "grades_count = int(input().strip())\n",
    "\n",
    "grades = []\n",
    "\n",
    "for _ in range(grades_count):\n",
    "    grades_item = int(input().strip())\n",
    "    grades.append(grades_item)"
   ]
  },
  {
   "cell_type": "code",
   "execution_count": 339,
   "id": "949b3de0",
   "metadata": {},
   "outputs": [
    {
     "data": {
      "text/plain": [
       "[73, 67, 38, 33]"
      ]
     },
     "execution_count": 339,
     "metadata": {},
     "output_type": "execute_result"
    }
   ],
   "source": [
    "grades"
   ]
  },
  {
   "cell_type": "code",
   "execution_count": 354,
   "id": "7ebf906a",
   "metadata": {},
   "outputs": [],
   "source": [
    "def gradingStudents(grades):\n",
    "    for i in range(0,len(grades)):\n",
    "        if grades[i]>35:\n",
    "            if grades[i]%5>=3:\n",
    "                grades[i]=grades[i]+5-grades[i]%5\n",
    "        \n",
    "    return grades"
   ]
  },
  {
   "cell_type": "code",
   "execution_count": 355,
   "id": "6cf0e7a7",
   "metadata": {},
   "outputs": [
    {
     "data": {
      "text/plain": [
       "[75, 67, 40, 33]"
      ]
     },
     "execution_count": 355,
     "metadata": {},
     "output_type": "execute_result"
    }
   ],
   "source": [
    "gradingStudents(grades)"
   ]
  },
  {
   "cell_type": "code",
   "execution_count": 345,
   "id": "6b0713ce",
   "metadata": {},
   "outputs": [],
   "source": [
    "lst=[1,2,3,4]"
   ]
  },
  {
   "cell_type": "code",
   "execution_count": 346,
   "id": "5cb7b8c5",
   "metadata": {},
   "outputs": [
    {
     "data": {
      "text/plain": [
       "2"
      ]
     },
     "execution_count": 346,
     "metadata": {},
     "output_type": "execute_result"
    }
   ],
   "source": [
    "lst.pop(1)"
   ]
  },
  {
   "cell_type": "code",
   "execution_count": 349,
   "id": "ba2ad1e2",
   "metadata": {},
   "outputs": [],
   "source": [
    "lst[0]=99"
   ]
  },
  {
   "cell_type": "code",
   "execution_count": 350,
   "id": "9c09dee9",
   "metadata": {},
   "outputs": [
    {
     "data": {
      "text/plain": [
       "[99, 3, 4]"
      ]
     },
     "execution_count": 350,
     "metadata": {},
     "output_type": "execute_result"
    }
   ],
   "source": [
    "lst"
   ]
  },
  {
   "cell_type": "code",
   "execution_count": 406,
   "id": "93f90d51",
   "metadata": {},
   "outputs": [
    {
     "name": "stdout",
     "output_type": "stream",
     "text": [
      "7 11\n",
      "5 15\n",
      "3 2\n",
      "-2 2 1\n",
      "5 -6\n"
     ]
    }
   ],
   "source": [
    "first_multiple_input = input().rstrip().split()\n",
    "\n",
    "s = int(first_multiple_input[0])\n",
    "\n",
    "t = int(first_multiple_input[1])\n",
    "\n",
    "second_multiple_input = input().rstrip().split()\n",
    "\n",
    "a = int(second_multiple_input[0])\n",
    "\n",
    "b = int(second_multiple_input[1])\n",
    "\n",
    "third_multiple_input = input().rstrip().split()\n",
    "\n",
    "m = int(third_multiple_input[0])\n",
    "\n",
    "n = int(third_multiple_input[1])\n",
    "\n",
    "apples = list(map(int, input().rstrip().split()))\n",
    "\n",
    "oranges = list(map(int, input().rstrip().split()))\n"
   ]
  },
  {
   "cell_type": "code",
   "execution_count": 407,
   "id": "2257b3bb",
   "metadata": {},
   "outputs": [
    {
     "data": {
      "text/plain": [
       "7"
      ]
     },
     "execution_count": 407,
     "metadata": {},
     "output_type": "execute_result"
    }
   ],
   "source": [
    "s"
   ]
  },
  {
   "cell_type": "code",
   "execution_count": 408,
   "id": "03912042",
   "metadata": {},
   "outputs": [
    {
     "data": {
      "text/plain": [
       "11"
      ]
     },
     "execution_count": 408,
     "metadata": {},
     "output_type": "execute_result"
    }
   ],
   "source": [
    "t"
   ]
  },
  {
   "cell_type": "code",
   "execution_count": 409,
   "id": "a71fced9",
   "metadata": {},
   "outputs": [
    {
     "data": {
      "text/plain": [
       "5"
      ]
     },
     "execution_count": 409,
     "metadata": {},
     "output_type": "execute_result"
    }
   ],
   "source": [
    "a"
   ]
  },
  {
   "cell_type": "code",
   "execution_count": 410,
   "id": "d5127cd1",
   "metadata": {},
   "outputs": [
    {
     "data": {
      "text/plain": [
       "15"
      ]
     },
     "execution_count": 410,
     "metadata": {},
     "output_type": "execute_result"
    }
   ],
   "source": [
    "b"
   ]
  },
  {
   "cell_type": "code",
   "execution_count": 411,
   "id": "52a414a7",
   "metadata": {},
   "outputs": [
    {
     "data": {
      "text/plain": [
       "3"
      ]
     },
     "execution_count": 411,
     "metadata": {},
     "output_type": "execute_result"
    }
   ],
   "source": [
    "m"
   ]
  },
  {
   "cell_type": "code",
   "execution_count": 412,
   "id": "d2f05b25",
   "metadata": {},
   "outputs": [
    {
     "data": {
      "text/plain": [
       "2"
      ]
     },
     "execution_count": 412,
     "metadata": {},
     "output_type": "execute_result"
    }
   ],
   "source": [
    "n"
   ]
  },
  {
   "cell_type": "code",
   "execution_count": 413,
   "id": "3da3a500",
   "metadata": {},
   "outputs": [
    {
     "data": {
      "text/plain": [
       "[-2, 2, 1]"
      ]
     },
     "execution_count": 413,
     "metadata": {},
     "output_type": "execute_result"
    }
   ],
   "source": [
    "apples"
   ]
  },
  {
   "cell_type": "code",
   "execution_count": 414,
   "id": "90bf33ab",
   "metadata": {},
   "outputs": [
    {
     "data": {
      "text/plain": [
       "[5, -6]"
      ]
     },
     "execution_count": 414,
     "metadata": {},
     "output_type": "execute_result"
    }
   ],
   "source": [
    "oranges"
   ]
  },
  {
   "cell_type": "code",
   "execution_count": 415,
   "id": "60e0a69f",
   "metadata": {},
   "outputs": [],
   "source": [
    "for i in range(0,m):\n",
    "    apples[i]=apples[i]+a\n",
    "for i in range(0,n):\n",
    "    oranges[i]=oranges[i]+b"
   ]
  },
  {
   "cell_type": "code",
   "execution_count": 416,
   "id": "b6ae2e3c",
   "metadata": {},
   "outputs": [
    {
     "data": {
      "text/plain": [
       "[3, 7, 6]"
      ]
     },
     "execution_count": 416,
     "metadata": {},
     "output_type": "execute_result"
    }
   ],
   "source": [
    "apples"
   ]
  },
  {
   "cell_type": "code",
   "execution_count": 417,
   "id": "b67a0711",
   "metadata": {},
   "outputs": [
    {
     "data": {
      "text/plain": [
       "[20, 9]"
      ]
     },
     "execution_count": 417,
     "metadata": {},
     "output_type": "execute_result"
    }
   ],
   "source": [
    "oranges"
   ]
  },
  {
   "cell_type": "code",
   "execution_count": 422,
   "id": "9eb4d9e4",
   "metadata": {},
   "outputs": [],
   "source": [
    "def countApplesAndOranges(s, t, a, b, apples, oranges):\n",
    "    for i in range(0,m):\n",
    "        apples[i]=apples[i]+a\n",
    "    for i in range(0,n):\n",
    "        oranges[i]=oranges[i]+b\n",
    "    count=0\n",
    "    countx=0\n",
    "    for i in range(0,m):\n",
    "        if 7<=apples[i]<=11:\n",
    "            count=count+1\n",
    "    for i in range(0,n):\n",
    "        if 7<=oranges[i]<=11:\n",
    "            countx=countx+1\n",
    "    return print(count)\n",
    "    return print(countx)\n",
    "        "
   ]
  },
  {
   "cell_type": "code",
   "execution_count": 424,
   "id": "971d000e",
   "metadata": {},
   "outputs": [
    {
     "name": "stdout",
     "output_type": "stream",
     "text": [
      "0\n"
     ]
    }
   ],
   "source": [
    "countApplesAndOranges(s, t, a, b, apples, oranges)"
   ]
  },
  {
   "cell_type": "code",
   "execution_count": 425,
   "id": "fe29827d",
   "metadata": {},
   "outputs": [
    {
     "data": {
      "text/plain": [
       "1"
      ]
     },
     "execution_count": 425,
     "metadata": {},
     "output_type": "execute_result"
    }
   ],
   "source": [
    "count"
   ]
  },
  {
   "cell_type": "code",
   "execution_count": 426,
   "id": "5de000ae",
   "metadata": {},
   "outputs": [
    {
     "data": {
      "text/plain": [
       "1"
      ]
     },
     "execution_count": 426,
     "metadata": {},
     "output_type": "execute_result"
    }
   ],
   "source": [
    "countx"
   ]
  },
  {
   "cell_type": "code",
   "execution_count": 434,
   "id": "c67e738d",
   "metadata": {},
   "outputs": [
    {
     "name": "stdout",
     "output_type": "stream",
     "text": [
      "0 3 4 2\n"
     ]
    }
   ],
   "source": [
    "first_multiple_input = input().rstrip().split()\n",
    "\n",
    "x1 = int(first_multiple_input[0])\n",
    "\n",
    "v1 = int(first_multiple_input[1])\n",
    "\n",
    "x2 = int(first_multiple_input[2])\n",
    "\n",
    "v2 = int(first_multiple_input[3])\n"
   ]
  },
  {
   "cell_type": "code",
   "execution_count": 435,
   "id": "53748749",
   "metadata": {},
   "outputs": [
    {
     "data": {
      "text/plain": [
       "0"
      ]
     },
     "execution_count": 435,
     "metadata": {},
     "output_type": "execute_result"
    }
   ],
   "source": [
    "x1"
   ]
  },
  {
   "cell_type": "code",
   "execution_count": 436,
   "id": "59624562",
   "metadata": {},
   "outputs": [
    {
     "data": {
      "text/plain": [
       "3"
      ]
     },
     "execution_count": 436,
     "metadata": {},
     "output_type": "execute_result"
    }
   ],
   "source": [
    "v1"
   ]
  },
  {
   "cell_type": "code",
   "execution_count": 437,
   "id": "f8d8cb37",
   "metadata": {},
   "outputs": [
    {
     "data": {
      "text/plain": [
       "4"
      ]
     },
     "execution_count": 437,
     "metadata": {},
     "output_type": "execute_result"
    }
   ],
   "source": [
    "x2"
   ]
  },
  {
   "cell_type": "code",
   "execution_count": 438,
   "id": "80f7e93d",
   "metadata": {},
   "outputs": [
    {
     "data": {
      "text/plain": [
       "2"
      ]
     },
     "execution_count": 438,
     "metadata": {},
     "output_type": "execute_result"
    }
   ],
   "source": [
    "v2"
   ]
  },
  {
   "cell_type": "code",
   "execution_count": 450,
   "id": "f14b1342",
   "metadata": {},
   "outputs": [
    {
     "ename": "SyntaxError",
     "evalue": "'return' outside function (<ipython-input-450-bc1b145f1608>, line 5)",
     "output_type": "error",
     "traceback": [
      "\u001b[0;36m  File \u001b[0;32m\"<ipython-input-450-bc1b145f1608>\"\u001b[0;36m, line \u001b[0;32m5\u001b[0m\n\u001b[0;31m    return print('Yes')\u001b[0m\n\u001b[0m    ^\u001b[0m\n\u001b[0;31mSyntaxError\u001b[0m\u001b[0;31m:\u001b[0m 'return' outside function\n"
     ]
    }
   ],
   "source": [
    "if x1>x2 and v1<v2:\n",
    "    X=x1-x2\n",
    "    V=v2-v1\n",
    "    if X%V==0:\n",
    "        return print('Yes')\n",
    "    else:\n",
    "        return print('No')\n",
    "elif x1<x2 and v1>v2:\n",
    "    X=x2-x1\n",
    "    V=v1-v2\n",
    "    if X%V==0:\n",
    "        return print('Yes')\n",
    "    else:\n",
    "        return print('No')\n",
    "else:\n",
    "    return print('No')"
   ]
  },
  {
   "cell_type": "code",
   "execution_count": 446,
   "id": "81850bc7",
   "metadata": {},
   "outputs": [
    {
     "data": {
      "text/plain": [
       "4"
      ]
     },
     "execution_count": 446,
     "metadata": {},
     "output_type": "execute_result"
    }
   ],
   "source": [
    "X"
   ]
  },
  {
   "cell_type": "code",
   "execution_count": 447,
   "id": "0bb1d838",
   "metadata": {},
   "outputs": [
    {
     "data": {
      "text/plain": [
       "1"
      ]
     },
     "execution_count": 447,
     "metadata": {},
     "output_type": "execute_result"
    }
   ],
   "source": [
    "V"
   ]
  },
  {
   "cell_type": "code",
   "execution_count": 448,
   "id": "5077cd39",
   "metadata": {},
   "outputs": [
    {
     "data": {
      "text/plain": [
       "0"
      ]
     },
     "execution_count": 448,
     "metadata": {},
     "output_type": "execute_result"
    }
   ],
   "source": [
    "X%V"
   ]
  },
  {
   "cell_type": "code",
   "execution_count": 455,
   "id": "3c5d98b8",
   "metadata": {},
   "outputs": [],
   "source": [
    "def kangaroo(x1, v1, x2, v2):\n",
    "    # Write your code here\n",
    "    Ans=''\n",
    "    if x1>x2 and v1<v2:\n",
    "        X=x1-x2\n",
    "        V=v2-v1\n",
    "        if X%V==0:\n",
    "            Ans='Yes'\n",
    "        else:\n",
    "            Ans='No'\n",
    "    elif x1<x2 and v1>v2:\n",
    "        X=x2-x1\n",
    "        V=v1-v2\n",
    "        if X%V==0:\n",
    "            Ans='Yes'\n",
    "        else:\n",
    "            Ans='No'\n",
    "    else:\n",
    "        Ans='No'\n",
    "    return Ans"
   ]
  },
  {
   "cell_type": "code",
   "execution_count": 456,
   "id": "1b67b078",
   "metadata": {},
   "outputs": [
    {
     "data": {
      "text/plain": [
       "'Yes'"
      ]
     },
     "execution_count": 456,
     "metadata": {},
     "output_type": "execute_result"
    }
   ],
   "source": [
    "kangaroo(x1, v1, x2, v2)"
   ]
  },
  {
   "cell_type": "code",
   "execution_count": 648,
   "id": "2b6aedfb",
   "metadata": {},
   "outputs": [
    {
     "name": "stdout",
     "output_type": "stream",
     "text": [
      "3 2\n",
      "3 9 6\n",
      "36 72\n"
     ]
    }
   ],
   "source": [
    "first_multiple_input = input().rstrip().split()\n",
    "\n",
    "n = int(first_multiple_input[0])\n",
    "\n",
    "m = int(first_multiple_input[1])\n",
    "\n",
    "arr = list(map(int, input().rstrip().split()))\n",
    "\n",
    "brr = list(map(int, input().rstrip().split()))"
   ]
  },
  {
   "cell_type": "code",
   "execution_count": 656,
   "id": "bc9ebf08",
   "metadata": {},
   "outputs": [
    {
     "data": {
      "text/plain": [
       "[3, 9, 6]"
      ]
     },
     "execution_count": 656,
     "metadata": {},
     "output_type": "execute_result"
    }
   ],
   "source": [
    "arr"
   ]
  },
  {
   "cell_type": "code",
   "execution_count": 657,
   "id": "b338bb50",
   "metadata": {
    "scrolled": true
   },
   "outputs": [
    {
     "data": {
      "text/plain": [
       "[36, 72]"
      ]
     },
     "execution_count": 657,
     "metadata": {},
     "output_type": "execute_result"
    }
   ],
   "source": [
    "brr"
   ]
  },
  {
   "cell_type": "code",
   "execution_count": 659,
   "id": "c0a76658",
   "metadata": {},
   "outputs": [],
   "source": [
    "def getTotalX(a, b):\n",
    "    countx=0\n",
    "    lst=[]\n",
    "    for j in range(arr[0],brr[m-1]+1,arr[0]):\n",
    "        for i in range(0,len(arr)):\n",
    "            X=True\n",
    "            D=bool(j%arr[i]==0)\n",
    "            X = X and D\n",
    "        if X is True:\n",
    "            lst.append(j)    \n",
    "    for j in range(0,len(lst)):  \n",
    "        X=True\n",
    "        for i in range(0,len(brr)):\n",
    "            D=bool(brr[i]%lst[j]==0)\n",
    "            X = X and D\n",
    "        if X is True:\n",
    "            print(lst[j])\n",
    "            countx=countx+1\n",
    "    return countx"
   ]
  },
  {
   "cell_type": "code",
   "execution_count": 660,
   "id": "7c3d4525",
   "metadata": {},
   "outputs": [
    {
     "name": "stdout",
     "output_type": "stream",
     "text": [
      "6\n",
      "12\n",
      "18\n",
      "36\n"
     ]
    },
    {
     "data": {
      "text/plain": [
       "4"
      ]
     },
     "execution_count": 660,
     "metadata": {},
     "output_type": "execute_result"
    }
   ],
   "source": [
    "getTotalX(arr,brr)"
   ]
  },
  {
   "cell_type": "code",
   "execution_count": 661,
   "id": "b7b7e84d",
   "metadata": {},
   "outputs": [
    {
     "data": {
      "text/plain": [
       "0"
      ]
     },
     "execution_count": 661,
     "metadata": {},
     "output_type": "execute_result"
    }
   ],
   "source": [
    "6%3"
   ]
  },
  {
   "cell_type": "code",
   "execution_count": 662,
   "id": "0b3a75ab",
   "metadata": {},
   "outputs": [
    {
     "data": {
      "text/plain": [
       "6"
      ]
     },
     "execution_count": 662,
     "metadata": {},
     "output_type": "execute_result"
    }
   ],
   "source": [
    "6%9"
   ]
  },
  {
   "cell_type": "code",
   "execution_count": 679,
   "id": "c7e554d3",
   "metadata": {},
   "outputs": [
    {
     "name": "stdout",
     "output_type": "stream",
     "text": [
      "18\n",
      "36\n"
     ]
    }
   ],
   "source": [
    "countx=0\n",
    "lst=[]\n",
    "for j in range(max(arr),brr[m-1]+1,arr[0]):\n",
    "    X=True\n",
    "    for i in range(0,len(arr)):\n",
    "        \n",
    "        D=bool(j%arr[i]==0)\n",
    "        X = X and D\n",
    "    if X is True:\n",
    "        lst.append(j)    \n",
    "for j in range(0,len(lst)):  \n",
    "    X=True\n",
    "    for i in range(0,len(brr)):\n",
    "        D=bool(brr[i]%lst[j]==0)\n",
    "        X = X and D\n",
    "    if X is True:\n",
    "        print(lst[j])\n",
    "        countx=countx+1"
   ]
  },
  {
   "cell_type": "code",
   "execution_count": 689,
   "id": "9884b5fd",
   "metadata": {},
   "outputs": [
    {
     "name": "stdout",
     "output_type": "stream",
     "text": [
      "9\n",
      "10 5 20 20 4 5 2 25 1\n"
     ]
    }
   ],
   "source": [
    "n = int(input().strip())\n",
    "scores = list(map(int, input().rstrip().split()))"
   ]
  },
  {
   "cell_type": "code",
   "execution_count": 690,
   "id": "e61a4256",
   "metadata": {},
   "outputs": [
    {
     "data": {
      "text/plain": [
       "9"
      ]
     },
     "execution_count": 690,
     "metadata": {},
     "output_type": "execute_result"
    }
   ],
   "source": [
    "n"
   ]
  },
  {
   "cell_type": "code",
   "execution_count": 691,
   "id": "57a699f6",
   "metadata": {},
   "outputs": [
    {
     "data": {
      "text/plain": [
       "[10, 5, 20, 20, 4, 5, 2, 25, 1]"
      ]
     },
     "execution_count": 691,
     "metadata": {},
     "output_type": "execute_result"
    }
   ],
   "source": [
    "scores"
   ]
  },
  {
   "cell_type": "code",
   "execution_count": 702,
   "id": "fa283140",
   "metadata": {},
   "outputs": [],
   "source": [
    "def breakingRecords(scores):   \n",
    "    mx=scores[0]\n",
    "    count=0\n",
    "    for i in range(0,n):\n",
    "        if scores[i]>mx:\n",
    "            mx=scores[i]\n",
    "            count=count+1\n",
    "    mxe=scores[0]\n",
    "    countx=0\n",
    "    for i in range(0,n):\n",
    "        if scores[i]<mxe:\n",
    "            mxe=scores[i]\n",
    "            countx=countx+1\n",
    "    return print(count,countx)"
   ]
  },
  {
   "cell_type": "code",
   "execution_count": 703,
   "id": "67734896",
   "metadata": {},
   "outputs": [
    {
     "name": "stdout",
     "output_type": "stream",
     "text": [
      "2 4\n"
     ]
    }
   ],
   "source": [
    "breakingRecords(scores)"
   ]
  },
  {
   "cell_type": "code",
   "execution_count": 709,
   "id": "fb278819",
   "metadata": {},
   "outputs": [
    {
     "name": "stdout",
     "output_type": "stream",
     "text": [
      "5\n",
      "1 2 1 3 2\n",
      "3 2\n"
     ]
    }
   ],
   "source": [
    "n = int(input().strip())\n",
    "s = list(map(int, input().rstrip().split()))\n",
    "first_multiple_input = input().rstrip().split()\n",
    "d = int(first_multiple_input[0])\n",
    "m = int(first_multiple_input[1])"
   ]
  },
  {
   "cell_type": "code",
   "execution_count": 710,
   "id": "cd89fbfc",
   "metadata": {},
   "outputs": [
    {
     "data": {
      "text/plain": [
       "5"
      ]
     },
     "execution_count": 710,
     "metadata": {},
     "output_type": "execute_result"
    }
   ],
   "source": [
    "n"
   ]
  },
  {
   "cell_type": "code",
   "execution_count": 711,
   "id": "fd62b32e",
   "metadata": {},
   "outputs": [
    {
     "data": {
      "text/plain": [
       "[1, 2, 1, 3, 2]"
      ]
     },
     "execution_count": 711,
     "metadata": {},
     "output_type": "execute_result"
    }
   ],
   "source": [
    "s"
   ]
  },
  {
   "cell_type": "code",
   "execution_count": 712,
   "id": "4c94890e",
   "metadata": {},
   "outputs": [
    {
     "data": {
      "text/plain": [
       "3"
      ]
     },
     "execution_count": 712,
     "metadata": {},
     "output_type": "execute_result"
    }
   ],
   "source": [
    "d"
   ]
  },
  {
   "cell_type": "code",
   "execution_count": 713,
   "id": "f9dc4875",
   "metadata": {},
   "outputs": [
    {
     "data": {
      "text/plain": [
       "2"
      ]
     },
     "execution_count": 713,
     "metadata": {},
     "output_type": "execute_result"
    }
   ],
   "source": [
    "m"
   ]
  },
  {
   "cell_type": "code",
   "execution_count": 790,
   "id": "760dd727",
   "metadata": {},
   "outputs": [
    {
     "name": "stdout",
     "output_type": "stream",
     "text": [
      "2\n"
     ]
    }
   ],
   "source": [
    "ans = 0\n",
    "for i in range(n-m+1):\n",
    "    if (sum(s[i:i+m]) == d):\n",
    "        ans += 1\n",
    "        \n",
    "print(ans)"
   ]
  },
  {
   "cell_type": "code",
   "execution_count": 787,
   "id": "b51d1c3b",
   "metadata": {},
   "outputs": [
    {
     "data": {
      "text/plain": [
       "[3, 2]"
      ]
     },
     "execution_count": 787,
     "metadata": {},
     "output_type": "execute_result"
    }
   ],
   "source": [
    "s[i:i+m]"
   ]
  },
  {
   "cell_type": "code",
   "execution_count": 791,
   "id": "b64a33e8",
   "metadata": {},
   "outputs": [
    {
     "data": {
      "text/plain": [
       "4"
      ]
     },
     "execution_count": 791,
     "metadata": {},
     "output_type": "execute_result"
    }
   ],
   "source": [
    "n-m+1"
   ]
  },
  {
   "cell_type": "code",
   "execution_count": 792,
   "id": "b8f4f836",
   "metadata": {},
   "outputs": [
    {
     "data": {
      "text/plain": [
       "5"
      ]
     },
     "execution_count": 792,
     "metadata": {},
     "output_type": "execute_result"
    }
   ],
   "source": [
    "n"
   ]
  },
  {
   "cell_type": "code",
   "execution_count": 793,
   "id": "9dddcd7b",
   "metadata": {},
   "outputs": [
    {
     "data": {
      "text/plain": [
       "2"
      ]
     },
     "execution_count": 793,
     "metadata": {},
     "output_type": "execute_result"
    }
   ],
   "source": [
    "m"
   ]
  },
  {
   "cell_type": "code",
   "execution_count": 796,
   "id": "6f9e9784",
   "metadata": {},
   "outputs": [
    {
     "name": "stdout",
     "output_type": "stream",
     "text": [
      "[1, 2] 0 2\n",
      "[2, 1] 1 3\n",
      "[1, 3] 2 4\n",
      "[3, 2] 3 5\n"
     ]
    }
   ],
   "source": [
    "for i in range(n-m+1):\n",
    "    print(s[i: i+m],i,i+m)"
   ]
  },
  {
   "cell_type": "code",
   "execution_count": 35,
   "id": "8eb14ae2",
   "metadata": {},
   "outputs": [
    {
     "name": "stdout",
     "output_type": "stream",
     "text": [
      "124992\n",
      "5 2 2 2 4 1 1 2 4 2 2 2 4 1 2 4 1 2 4 4 3 2 3 1 3 3 4 3 5 2 5 3 4 1 3 2 3 3 3 5 2 4 1 5 4 5 4 4 4 5 3 2 1 1 3 1 1 5 5 3 5 2 2 4 5 2 4 3 2 4 4 5 3 2 3 2 4 5 2 2 3 5 2 3 1 3 3 2 4 3 5 4 3 1 3 3 2 4 4 3 5 3 3 3 5 1 3 5 5 2 5 2 3 4 3 3 2 1 3 1 2 3 2 4 2 3 3 3 3 4 3 3 1 1 5 1 3 4 5 5 3 3 1 5 5 5 5 2 3 1 3 2 3 5 5 1 1 3 4 1 1 2 4 4 4 1 2 3 3 2 1 5 3 1 1 2 2 1 5 2 1 1 4 2 4 5 2 2 2 1 1 1 3 2 4 5 1 4 4 1 5 2 1 4 3 5 4 2 1 5 5 5 2 1 4 5 2 2 1 2 4 3 2 4 3 3 5 3 5 1 4 1 2 4 2 1 5 5 1 1 5 5 1 3 5 2 5 4 1 1 2 1 5 2 3 3 1 1 2 2 5 2 1 3 5 5 4 2 5 5 4 2 1 3 3 1 2 5 5 1 4 4 5 4 3 2 4 5 1 4 1 2 2 4 5 3 3 5 1 4 2 5 1 5 3 3 2 4 3 5 1 2 4 2 3 4 4 4 4 3 4 5 1 2 3 1 5 2 2 3 5 4 5 3 2 3 3 3 1 4 2 3 3 4 4 3 2 2 2 2 1 4 2 3 1 4 4 5 4 1 3 1 2 3 4 3 2 2 3 2 3 5 2 3 3 1 1 3 4 1 2 3 3 4 5 3 2 4 2 2 3 1 3 1 3 1 2 1 1 4 3 3 1 3 4 1 4 4 5 5 2 5 4 2 5 4 1 3 1 2 2 5 4 4 2 2 5 4 2 3 5 5 1 3 1 2 1 2 1 2 5 4 5 4 3 5 1 4 5 1 5 5 2 3 2 3 5 1 1 4 4 5 5 5 4 5 2 4 2 3 3 2 4 2 5 2 3 3 2 4 3 5 3 4 5 5 2 1 4 5 2 1 2 5 1 1 3 3 5 5 4 2 4 3 1 3 1 4 3 1 2 2 4 5 4 4 3 5 5 4 4 4 2 2 5 4 4 1 1 4 5 4 3 4 3 3 2 3 2 3 5 5 5 5 2 1 1 5 3 4 3 2 1 3 4 2 4 2 4 1 3 5 3 3 1 1 3 3 2 3 2 4 4 5 2 1 4 1 1 3 2 1 5 2 2 1 4 4 2 1 2 5 3 2 2 2 1 2 3 4 3 2 2 3 3 4 2 2 5 4 2 1 2 5 1 2 1 2 3 5 3 2 5 3 3 1 5 5 5 5 5 2 4 2 5 2 2 4 3 3 3 1 2 5 1 2 1 3 1 5 3 2 4 1 3 5 5 5 3 2 3 4 1 5 5 5 1 4 1 2 4 4 3 1 4 1 1 5 5 3 4 5 1 2 2 4 2 4 4 5 4 3 5 1 2 5 1 4 2 5 3 2 1 5 5 3 4 2 2 4 2 4 3 3 5 1 1 4 2 1 3 2 3 1 3 1 4 4 3 2 5 2 5 4 2 3 5 4 5 2 5 4 1 5 5 4 4 2 4 5 4 1 4 2 2 5 5 3 1 4 2 1 1 5 3 2 4 1 5 5 4 5 4 5 5 3 1 4 4 3 2 4 2 4 5 4 2 5 5 3 5 4 1 1 1 3 4 3 2 1 2 3 5 2 5 1 1 4 3 5 3 3 4 3 1 1 1 3 2 5 2 3 1 1 4 2 3 3 3 3 4 2 2 2 3 4 5 1 4 1 4 2 2 2 4 4 5 3 3 3 5 1 1 1 1 3 2 3 3 5 5 3 5 2 2 4 3 4 3 2 1 1 1 2 5 4 3 1 3 4 2 1 2 4 5 5 5 4 2 4 4 5 2 2 2 4 5 2 5 3 5 3 1 2 4 2 2 2 5 2 2 2 5 5 4 2 2 4 4 2 3 2 1 2 1 1 4 5 4 3 1 1 4 2 1 5 5 2 4 2 5 2 3 5 5 1 4 5 3 2 1 2 4 2 3 3 2 4 3 5 4 2 3 1 2 4 2 5 3 1 2 5 5 1 4 4 5 5 5 1 1 4 3 5 5 2 5 2 4 5 2 5 2 1 2 4 2 2 4 4 4 2 3 5 5 2 1 5 4 1 4 5 3 5 4 2 5 3 1 4 3 4 5 1 5 5 1 5 4 1 1 1 1 2 3 2 4 1 3 3 1 5 4 3 5 3 2 3 4 3 2 1 3 4 4 5 4 5 2 2 1 5 3 5 5 4 4 1 4 1 3 3 5 4 5 4 1 3 5 3 1 5 2 5 5 4 3 2 5 1 2 5 2 5 4 4 5 3 5 1 1 3 3 4 4 4 4 4 2 2 3 5 4 4 1 2 2 2 1 4 5 5 5 3 5 2 1 5 2 3 1 5 2 4 1 2 3 2 3 3 2 3 5 2 1 5 3 5 1 5 3 4 5 4 2 1 2 2 5 4 1 1 3 3 3 5 2 4 3 1 1 1 1 1 5 2 1 3 3 5 5 4 3 2 5 4 5 5 3 4 4 1 1 4 3 2 3 1 4 1 2 2 5 3 4 3 4 4 5 1 1 5 4 4 5 1 2 1 2 5 1 1 5 2 2 2 5 1 4 1 4 4 3 4 2 1 1 5 4 5 5 3 4 2 3 2 5 1 3 2 5 1 2 2 5 5 1 1 1 4 1 5 1 1 4 4 2 5 5 3 4 3 5 2 4 3 4 5 2 1 2 3 2 1 3 4 1 1 2 5 5 1 4 4 5 2 2 5 5 5 5 5 3 3 4 1 3 5 1 4 5 4 4 1 5 3 1 4 3 4 5 1 3 4 4 2 1 2 3 1 4 5 1 4 1 5 4 5 5 2 1 5 4 4 1 5 5 4 5 1 5 5 5 5 4 5 4 2 3 2 5 5 2 5 5 2 2 2 2 2 5 1 1 3 5 3 1 2 1 1 2 5 1 1 4 4 1 3 3 3 5 4 1 5 4 4 3 5 4 2 3 2 1 1 1 4 5 2 5 2 3 3 2 1 1 4 1 4 4 3 2 3 4 2 5 1 2 3 4 2 3 3 2 4 4 3 4 4 3 4 2 4 2 2 4 1 2 5 5 3 4 2 1 1 2 1 4 2 4 3 2 5 1 3 2 1 2 5 2 1 5 4 4 3 5 1 3 5 1 3 4 2 3 1 1 4 4 4 2 2 4 2 3 4 1 4 3 2 5 5 1 3 2 1 4 3 4 1 4 1 1 4 1 5 2 2 5 2 1 2 5 1 5 4 4 2 1 2 2 1 3 4 5 5 2 3 3 4 3 2 5 3 3 2 4 4 5 1 1 1 2 4 2 4 3 3 2 2 1 1 3 2 4 1 5 1 3 2 4 2 4 4 1 4 5 5 2 1 4 1 1 5 1 1 1 5 2 4 5 1 2 3 5 2 5 1 1 5 5 2 1 4 3 3 1 2 1 5 1 2 2 3 3 3 1 1 4 2 2 2 3 1 5 2 3 1 5 5 2 5 5 3 3 3 2 2 2 4 5 3 1 4 4 2 4 1 2 2 2 3 4 2 5 4 1 2 1 5 4 5 4 2 4 1 2 3 3 2 3 1 4 2 4 5 3 2 3 3 4 4 2 5 3 4 4 3 1 1 3 2 5 3 2 1 5 2 5 1 3 1 3 4 4 4 1 5 4 5 2 1 4 2 2 5 1 5 3 1 2 5 2 3 2 1 2 3 1 4 1 1 5 1 4 2 3 4 5 1 4 4 2 1 4 2 3 3 2 1 2 4 1 2 3 5 4 3 2 1 5 4 1 4 3 1 5 4 5 4 4 3 5 2 1 1 1 3 3 1 4 4 4 3 1 3 1 3 4 4 4 5 4 5 1 5 4 2 2 3 5 1 5 1 5 3 1 1 2 1 4 1 5 4 1 4 2 5 2 1 5 5 4 3 1 3 2 4 5 1 5 1 3 1 1 4 2 5 4 4 3 5 2 4 5 5 5 3 2 5 4 3 5 4 4 1 3 2 1 3 2 3 5 3 2 4 1 5 3 4 2 5 1 4 5 3 3 2 5 4 1 3 5 3 1 4 4 5 3 5 5 5 1 4 2 2 1 2 2 2 3 2 3 2 5 3 4 1 1 1 5 5 1 4 5 2 5 3 4 3 2 3 2 5 1 4 4 1 4 5 5 1 2 1 4 1 5 2 5 2 4 2 5 3 4 5 1 3 4 2 5 3 1 4 1 5 5 4 2 5 4 2 2 1 3 2 5 5 4 5 4 3 1 4 2 5 4 2 4 2 4 4 4 5 4 3 1 2 2 5 3 4 4 2 1 3 5 3 5 4 3 3 3 3 4 1 1 3 1 3 1 2 3 2 3 1 2 3 5 2 5 3 3 4 2 5 4 3 4 5 4 5 5 1 2 3 5 2 1 3 3 3 5 3 3 5 4 3 3 5 3 4 1 3 2 4 5 5 2 3 3 1 3 2 2 3 2 1 4 1 1 4 2 2 3 3 2 5 3 1 5 1 5 1 5 4 3 3 2 2 3 2 1 5 2 2 2 2 2 3 5 4 1 4 1 1 1 1 2 2 2 3 4 1 5 2 1 3 1 2 5 4 2 5 2 3 4 2 3 4 3 2 4 5 4 4 4 5 1 3 3 5 1 3 2 2 1 3 5 5 1 2 5 1 5 3 5 5 5 3 2 3 3 5 3 2 5 4 2 1 1 2 3 5 2 1 4 5 3 1 4 4 5 3 5 4 4 4 4 2 5 5 4 5 3 4 1 2 3 1 5 4 4 3 4 3 3 3 5 3 5 2 2 1 3 3 4 1 4 3 4 4 4 1 1 5 1 2 5 3 1 5 2 4 2 4 1 4 3 3 5 4 3 3 1 4 5 1 3 2 1 4 5 5 4 3 3 2 5 2 3 3 2 5 1 3 4 4 4 1 4 2 1 2 2 1 4 3 2 1 4 5 2 4 3 3 4 2 1 2 2 3 3 3 2 2 1 4 4 5 3 1 3 5 5 2 1 3 4 2 3 5 4 2 2 5 4 1 1 5 4 5 4 5 2 1 1 5 5 1 4 5 4 3 2 1 1 5 5 3 5 5 4 4 3 1 5 5 1 1 2 5 2 2 2 5 1 4 3 3 2 2 3 3 3 2 5 2 3 5 1 3 3 2 3 3 4 1 1 1 4 3 3 2 1 5 3 1 5 5 3 4 2 2 5 3 2 3 5 5 2 4 5 2 2 3 2 3 4 2 5 3 3 3 1 2 1 3 1 4 4 4 4 3 3 3 5 5 2 5 2 2 3 5 4 3 2 5 1 4 4 2 4 1 1 5 3 2 3 4 5 1 2 4 5 3 5 4 1 3 4 3 5 4 4 2 3 4 2 1 3 5 2 4 3 1 4 1 4 4 3 2 2 5 1 4 3 4 5 1 1 5 1 3 3 4 3 2 3 2 3 5 3 1 4 2 2 5 4 2 2 3 2 5 5 5 5 4 3 4 3 1 2 4 3 2 4 4 1 4 3 3 2 3 5 5 1 5 1 4 1 1 1 3 5 1 4 5 5 3 3 4 5 4 5 5 1 5 1 5 2 3 4 3 1 1 2 4 3 1 3 1 4 1 4 1 3 3 4 4 2 4 3 1 3 3 3 5 3 1 3 2 4 3 3 4 2 1 2 4 4 5 1 3 1 5 5 1 4 2 2 1 3 1 1 1 4 5 2 5 1 4 3 5 4 4 1 3 1 5 4 1 4 5 4 2 1 3 2 4 4 5 1 2 1 4 4 1 4 3 5 3 4 1 1 2 5 5 2 1 3 4 1 5 3 2 2 4 3 1 1 2 4 3 4 3 4 1 1 4 2 5 2 1 4 5 4 5 5 4 5 5 5 2 5 1 4 4 2 3 1 5 3 4 2 5 1 4 1 2 5 1 2 4 1 2 3 2 5 2 1 1 5 3 1 1 5 4 1 5 4 5 3 3 3 5 3 3 1 1 4 5 1 4 2 5 3 2 2 2 2 4 3 2 4 3 3 3 3 2 4 1 3 2 3 1 2 3 3 1 3 3 2 5 2 5 3 2 5 3 2 5 1 2 1 1 1 5 3 1 4 2 5 5 5 5 1 1 4 5 5 1 5 5 1 4 5 2 2 3 3 4 1 4 5 1 4 5 4 3 5 5 3 2 5 5 1 5 5 5 3 1 1 5 2 1 5 3 3 1 3 2 2 2 2 5 1 4 5 2 4 3 3 4 5 5 4 2 1 3 4 3 2 1 2 2 5 5 5 1 2 4 2 2 5 2 2 2 5 1 5 3 5 2 2 2 3 4 3 1 3 4 1 3 3 5 4 2 1 1 4 4 5 1 1 3 2 2 5 1 2 3 2 2 3 1 4 2 2 4 5 2 2 2 5 4 3 5 2 3 3 5 3 5 5 5 3 1 5 3 5 1 3 4 2 5 5 2 4 5 3 4 3 5 2 2 2 5 3 4 5 1 4 4 4 4 4 3 5 1 5 2 2 5 3 4 1 4 1 2 3 5 4 2 3 3 2 3 1 4 2 5 2 1 1 2 5 2 3 2 5 4 5 2 5 4 5 5 1 1 4 1 5 2 1 3 3 5 4 5 4 5 5 3 1 3 5 1 5 1 2 2 1 4 5 3 5 5 1 2 3 3 4 3 5 1 4 3 5 5 3 1 4 3 2 3 3 3 4 2 3 4 5 1 4 1 1 1 4 2 1 1 5 4 3 1 3 5 5 2 2 3 5 3 2 4 5 4 1 5 2 4 3 4 1 4 1 4 5 1 1 5 4 5 4 5 4 4 4 5 1 3 4 2 3 1 3 4 3 5 3 5 2 2 1 3 5 2 2 1 2 3 3 5 1 5 1 1 5 2 1 1 2 3 4 3 1 2 4 3 1 1 3 4 2 3 4 2 5 5 2 1 1 5 3 1 1 4 2 1 4 1 3 2 3 2 3 5 5 3 1 4 1 5 2 5 5 3 3 1 3 5 1 2 5 2 3 5 1 4 4 3 3 2 2 4 4 4 4 5 5 2 4 4 4 5 1 3 3 1 1 4 5 3 1 4 4 4 2 2 3 5 4 5 4 5 5 5 3 5 2 1 3 5 3 1 1 5 1 3 5 5 5 5 1 1 5 3 5 5 4 2 2 1 3 2 2 3 4 5 4 4 4 1 3 5 4 1 1 3 5 3 3 1 1 4 2 4 1 5 2 1 3 4 4 5 5 2 1 4 2 2 5 1 3 2 5 3 2 5 2 5 1 1 3 4 2 2 4 2 5 1 4 4 2 1 3 1 5 4 3 5 2 3 1 5 3 1 1 2 4 1 2 3 1 1 2 4 4 4 4 2 1 1 4 5 1 2 1 5 3 5 2 3 5 5 4 4 1 3 3 5 2 5 3 5 4 3 3 3 4 4 3 3 4 4 4 3 2 1 1 3 5 1 3 2 2 4 4 3 5 2 5 3 5 5 1 2 3 1 2 2 4 1 4 4 1 4 4 4 3 4 4 3 2 5 3 1 5 5 3 3 2 2 1 5 1 5 1 4 4 1 3 4 2 1 2 4 2 4 5 2 1 5 1 4 3 5 3 5 4 5 4 4 4 4 1 3 1 5 2 1 2 3 2 3 2 5 4 3 3 2 2 1 5 4 1 3 3 3 3 4 3 2 5 2 5 2 3 3 3 1 2 5 5 2 3 5 3 2 5 2 2 2 5 5 2 3 1 3 3 3 3 5 4 5 1 2 4 4 4 4 4 1 4 3 2 1 4 1 1 5 2 3 2 3 5 1 2 1 2 3 4 3 1 1 2 1 3 4 4 2 1 1 5 3 5 4 2 3 5 2 3 3 5 5 4 2 5 1 3 2 1 3 1 5 4 5 3 1 3 4 2 3 1 4 3 2 2 1 2 1 4 2 3 4 5 1 4 1 2 5 2 2 4 2 2 5 2 5 4 4 1 1 4 3 2 3 1 1 4 2 2 1 3 4 3 4 2 1 2 1 3 1 3 1 5 1 5 4 1 5 4 1 4 2 4 2 3 2 4 4 4 2 5 2 5 5 5 4 5 3 5 5 1 1 4 1 4 5 5 3 2 2 1 1 2 2 1 4 5 3 1 2 1 4 2 5 3 2 1 3 2 2 1 2 4 3 4 4 1 5 4 1 3 3 5 4 3 3 5 1 5 2 5 2 4 5 5 4 1 3 3 1 3 3 1 1 4 2 1 2 2 1 5 3 2 2 4 2 1 3 3 2 4 2 5 5 3 1 1 1 5 5 1 2 5 3 4 2 3 5 1 2 2 3 2 1 1 4 5 4 5 5 1 5 4 2 2 1 1 3 1 1 5 2 5 3 4 4 1 3 1 4 3 2 1 2 1 4 1 3 4 5 3 2 1 4 4 1 1 3 2 2 1 5 1 4 1 1 1 2 2 5 5 5 1 1 5 3 2 5 2 1 3 3 5 4 3 1 2 3 3 3 5 1 5 5 4 5 5 5 4 1 3 3 1 4 3 3 2 3 4 3 2 4 1 2 5 1 4 3 1 3 1 4 4 5 4 4 1 1 5 2 2 4 5 2 2 5 3 2 5 5 2 2 2 3 2 5 4 2 5 5 3 2 4 4 1 5 4 4 1 1 3 2 5 5 3 1 5 3 2 4 3 3 4 3 2 5 2 2 1 1 1 4 3 3 1 1 4 4 2 4 1 1 5 1 2 3 2 3 2 1 3 4 5 2 1 4 2 4 3 2 2 4 1 3 4 1 3 4 5 2 4 3 5 1 3 1 2 5 5 1 1 3 2 4 1 4 5 1 4 5 1 1 5 1 1 1 3 1 4 1 2 3 5 3 3 4 3 4 2 2 2 3 3 1 1 4 1 5 5 2 3 1 5 4 2 4 2 3 4 1 1 4 3 3 4 5 1 1 3 5 5 1 2 1 3 2 3 3 3 2 2 5 5 1 3 1 5 2 2 5 5 2 5 5 4 2 5 5 3 4 4 4 5 2 2 2 4 4 5 3 4 2 4 3 1 4 5 2 5 1 1 3 4 3 1 5 3 1 4 4 3 2 4 4 3 3 4 4 2 5 1 4 4 1 2 1 5 3 5 3 5 1 5 2 3 1 5 4 5 2 4 4 4 5 3 1 4 3 4 4 3 1 5 3 3 1 3 1 5 5 4 4 2 2 1 4 3 3 4 2 1 5 2 2 5 2 5 2 3 5 1 5 2 1 3 3 5 2 1 3 1 5 4 4 2 3 3 5 5 1 3 3 5 1 2 5 4 3 3 2 5 5 3 3 3 1 5 5 1 1 4 2 5 3 5 3 3 1 2 2 3 1 4 4 1 2 3 4 2 2 1 2 3 4 5 5 3 3 4 2 1 4 3 1 4 5 1 1 5 3 4 5 2 1 3 5 5 4 5 4 1 4 3 5 2 2 4 5 5 1 3 4 1 3 2 1 2 2 3 2 5 5 2 4 4 1 5 2 3 1 1 1 4 2 3 2 5 4 5 1 2 5 1 3 3 1 3 4 5 4 1 1 3 1 2 4 2 5 3 4 1 4 3 2 1 4 2 2 1 1 4 3 2 4 2 2 2 2 1 3 5 5 1 5 2 2 5 5 5 2 5 4 3 3 5 3 3 2 4 5 5 2 1 5 4 3 3 5 4 4 2 2 4 3 4 4 5 1 5 1 1 4 4 1 3 1 4 4 4 1 3 2 4 5 3 4 2 4 1 1 2 1 3 2 1 2 1 2 5 2 2 1 2 4 4 5 1 2 4 3 4 3 5 4 2 5 3 3 4 1 3 4 5 5 5 2 4 4 4 2 3 1 2 1 5 2 3 5 5 3 5 2 1 2 2 2 5 2 3 4 3 2 5 3 4 3 3 2 2 2 2 1 5 1 2 4 5 4 5 1 3 4 3 5 4 3 4 1 2 4 4 4 3 5 2 1 4 5 1 1 2 3 2 5 1 2 4 3 3 2 5 2 2 5 5 1 3 4 1 4 2 1 5 1 1 5 5 5 2 3 1 1 3 4 1 4 5 2 5 1 3 5 4 1 1 4 2 5 3 1 3 5 2 2 3 2 5 3 3 4 5 1 2 4 3 1 5 3 4 1 4 5 1 4 5 5 1 5 1 4 4 4 5 4 4 5 1 2 1 1 5 1 3 5 4 1 4 4 3 3 2 3 4 4 3 5 5 5 1 1 1 1 2 3 3 3 5 1 1 3 4 4 3 2 4 1 1 2 2 3 2 1 3 5 2 3 1 1 1 2 2 1 1 5 1 2 4 1 3 1 2 1 4 1 4 3 5 1 5 3 5 1 5 1 4 1 3 1 1 3 2 1 2 2 4 5 4 2 5 4 3 5 5 1 3 1 1 2 5 3 1 5 1 1 1 2 3 4 4 3 1 2 2 4 5 4 4 2 3 5 2 2 5 3 2 5 3 4 2 5 4 1 5 3 1 4 4 5 5 5 4 3 5 5 4 2 2 2 5 3 4 5 4 1 2 2 4 1 3 1 3 4 3 1 2 1 2 5 4 2 3 2 4 3 2 4 3 3 3 4 5 1 2 5 1 4 5 4 3 2 3 1 1 4 4 5 3 2 1 4 3 2 5 4 2 1 2 5 5 4 3 4 5 1 5 2 1 4 4 4 5 5 3 2 3 5 5 2 2 1 4 2 4 1 4 3 2 3 2 3 5 1 2 4 3 1 1 2 4 5 3 3 1 3 4 1 4 5 2 3 3 2 3 4 1 2 4 2 4 4 4 4 5 1 5 5 1 4 1 2 3 1 1 1 1 5 1 1 1 5 5 4 1 1 5 2 1 1 3 5 1 1 3 2 5 2 2 2 1 2 3 5 2 2 4 4 5 3 1 3 2 3 4 2 2 1 5 4 5 1 2 1 3 3 5 1 3 3 5 1 4 4 5 3 4 2 4 1 4 5 5 4 1 2 3 4 3 3 2 3 3 5 5 1 3 2 1 2 4 1 2 2 1 3 2 2 1 4 3 5 3 5 2 1 4 1 3 3 5 2 2 2 3 5 3 1 4 4 2 1 4 1 1 4 4 2 3 3 1 3 3 5 1 5 1 5 3 2 4 5 1 5 3 4 3 4 3 3 3 5 3 3 5 5 4 2 4 5 4 4 4 3 5 3 4 5 2 5 1 4 2 1 3 5 3 5 4 2 5 3 4 5 2 4 1 4 1 2 4 5 5 3 3 1 3 2 1 4 2 5 3 4 1 2 1 1 1 5 1 3 1 1 3 1 1 3 5 3 2 5 5 3 2 5 5 2 1 4 1 5 1 3 1 4 4 3 3 3 2 3 4 2 3 4 4 2 4 3 3 1 5 4 4 3 2 4 5 5 5 4 1 2 4 5 1 3 1 1 5 3 3 1 3 4 2 3 1 4 3 3 3 1 4 4 5 2 3 2 5 2 1 2 3 1 4 1 3 4 1 2 5 2 5 5 2 5 2 3 4 1 4 1 2 3 3 1 1 5 1 4 1 5 2 3 2 4 2 2 4 5 2 4 1 4 1 1 5 2 3 5 1 3 3 3 2 4 3 1 4 1 2 4 1 4 4 2 1 2 5 4 1 5 3 4 2 1 3 5 5 5 3 4 3 1 4 2 4 2 3 5 2 2 3 4 4 1 1 2 4 4 4 1 3 3 3 1 5 3 3 2 1 5 1 4 3 2 1 5 1 4 4 4 5 3 1 1 2 1 3 4 2 1 2 1 5 1 5 4 1 2 4 1 1 5 2 1 3 3 1 5 4 5 2 1 1 5 1 2 3 2 3 4 4 3 4 2 4 5 5 4 5 3 3 1 2 3 1 2 3 2 1 5 5 5 3 3 4 4 3 1 4 2 3 4 2 3 1 5 1 3 2 3 4 5 1 1 5 1 4 2 4 1 2 1 5 1 2 3 2 5 1 2 3 3 2 3 5 2 2 5 1 5 3 2 5 5 5 2 1 1 1 2 4 5 3 5 1 4 5 3 2 5 2 4 5 1 2 4 3 5 3 4 1 3 3 4 2 5 2 3 1 5 2 2 5 1 2 4 2 4 4 1 1 5 1 3 4 3 5 5 4 2 3 5 1 1 1 4 5 1 2 3 2 2 3 1 4 4 4 1 1 4 1 1 2 3 5 1 5 3 3 3 5 4 5 5 4 1 2 5 1 4 4 1 4 4 3 2 5 4 2 5 2 4 5 4 2 1 3 2 1 2 2 1 2 2 4 2 1 4 5 5 3 2 1 3 2 2 2 4 1 5 2 2 2 1 3 1 4 4 5 2 5 5 1 5 1 1 3 4 5 1 4 3 2 2 5 5 4 1 4 5 2 1 4 4 2 5 1 4 1 4 5 5 5 1 1 4 2 5 2 2 4 3 2 4 2 1 1 5 2 1 3 5 1 4 3 2 2 5 1 5 3 5 3 5 1 1 3 5 1 4 3 1 5 3 1 3 2 1 1 4 1 4 1 4 3 1 2 1 3 3 5 1 1 5 5 5 1 1 2 4 2 2 5 4 2 4 1 5 5 4 1 1 1 5 5 2 1 1 2 3 1 3 5 4 3 2 3 3 4 4 5 4 2 3 1 5 4 2 5 4 4 5 4 5 5 2 2 5 3 5 4 4 1 5 5 5 2 5 2 2 3 3 3 1 3 2 1 1 5 1 5 4 1 5 3 5 2 1 3 3 4 4 1 5 2 4 4 5 5 1 2 3 4 1 3 4 2 5 4 2 1 5 5 2 4 2 5 2 5 1 5 3 5 1 5 5 4 5 1 2 4 5 2 2 1 4 2 5 1 5 1 5 4 4 5 2 5 5 5 1 2 2 3 5 2 4 2 3 3 1 1 3 4 3 1 5 2 2 5 5 2 4 2 5 1 2 3 4 4 4 3 3 3 2 3 4 5 4 5 1 3 1 5 5 2 5 3 4 1 1 1 4 1 3 1 1 4 1 3 1 5 1 5 1 4 5 4 5 2 1 4 5 1 3 1 3 2 2 1 1 1 2 3 5 1 3 4 2 3 3 4 4 4 2 2 5 1 3 2 4 4 2 1 5 2 3 2 1 3 1 3 4 2 2 5 1 2 4 4 3 1 4 4 5 1 3 4 5 5 2 4 2 5 1 5 2 4 4 5 3 5 5 2 3 2 2 3 4 1 1 3 5 2 1 1 5 5 4 3 5 4 4 2 5 4 1 4 2 2 5 1 3 2 4 3 2 4 1 2 1 2 2 3 4 1 3 2 4 5 1 4 3 2 5 1 3 2 3 5 1 3 2 4 3 3 1 3 4 2 4 3 5 5 3 4 2 5 1 2 4 1 4 1 5 3 3 2 3 3 2 2 2 1 1 1 4 4 2 4 5 5 2 2 1 4 3 1 4 3 1 3 5 3 3 3 2 3 5 5 4 5 2 1 3 1 3 4 3 1 1 5 1 5 2 3 4 3 5 1 2 4 4 4 1 3 4 3 3 1 1 4 4 5 3 2 4 1 2 1 2 4 5 2 2 4 5 1 4 3 4 2 3 5 2 1 1 4 1 2 5 3 1 2 1 2 2 3 5 5 2 1 5 2 1 5 3 5 5 1 1 3 1 2 2 4 5 4 5 3 1 1 3 5 3 1 4 3 4 2 4 4 1 2 4 3 2 4 4 2 5 5 2 1 4 5 4 2 1 2 4 1 4 4 2 1 2 3 1 3 1 5 2 3 2 1 2 3 5 3 5 4 3 1 3 5 3 3 1 5 5 4 4 5 1 5 1 2 3 1 5 5 5 5 2 2 3 5 3 1 2 4 3 1 1 4 4 2 4 3 5 1 2 2 5 5 4 5 2 3 4 1 4 1 4 3 4 1 3 5 4 5 1 1 1 5 1 2 3 2 5 5 4 2 3 3 3 3 3 5 5 5 4 3 1 4 2 5 2 1 2 3 4 4 2 5 2 2 5 2 1 3 1 3 2 3 5 3 1 1 3 3 2 1 2 4 5 5 4 2 5 3 3 1 1 4 3 1 4 4 3 1 3 5 3 5 5 4 1 5 4 5 1 4 4 1 1 2 4 3 4 2 5 2 1 4 2 3 3 3 2 5 2 4 2 5 1 3 4 5 4 5 3 4 3 5 3 5 3 3 1 3 4 2 1 4 4 2 2 4 5 4 3 4 5 5 2 4 5 4 3 4 5 2 2 3 1 4 4 1 1 4 3 2 5 2 1 2 4 5 4 2 1 1 3 3 2 3 2 1 5 2 3 1 3 5 1 4 4 4 3 2 2 1 5 5 1 1 5 5 5 2 3 1 5 3 4 1 5 5 4 5 4 5 4 5 2 1 2 4 4 2 1 4 1 4 5 4 3 1 1 4 5 3 1 1 2 4 2 4 4 2 1 4 2 1 3 1 3 2 2 1 2 1 4 2 4 3 5 5 4 3 4 4 4 1 3 1 2 4 3 4 3 3 5 2 4 4 4 4 3 3 1 5 4 1 3 1 3 4 1 3 1 1 4 2 5 2 2 4 3 1 2 3 1 3 5 1 2 1 1 3 2 2 2 1 1 2 4 4 3 5 2 1 2 3 3 4 4 3 3 1 3 3 5 2 5 3 1 4 4 2 1 1 5 3 2 3 4 1 4 3 5 4 5 1 3 5 4 1 1 2 2 4 4 2 1 3 3 1 5 2 4 4 2 2 5 4 5 1 2 4 1 3 3 3 5 5 5 5 3 5 4 5 4 4 5 5 4 4 2 4 4 1 2 1 1 3 1 1 5 4 1 5 4 3 2 2 4 2 2 5 4 2 3 1 3 3 4 2 1 4 1 5 2 2 5 1 3 3 2 1 4 5 1 1 5 5 5 5 4 1 3 3 4 1 1 2 1 2 1 4 3 4 3 5 2 1 4 3 1 3 1 5 3 3 5 2 1 2 3 3 1 5 5 5 3 3 1 4 4 3 3 1 5 1 5 2 2 4 3 5 5 2 4 4 1 2 4 5 2 5 1 3 4 3 1 3 2 5 2 4 4 4 3 4 4 3 4 2 5 3 3 4 5 3 5 3 2 4 2 5 1 1 2 1 2 4 5 5 4 2 5 2 4 2 2 1 4 1 2 3 3 1 4 1 3 1 4 2 1 1 4 5 4 5 1 5 5 5 3 1 2 5 4 3 4 5 4 5 4 1 2 3 2 2 2 4 1 2 1 4 3 3 3 4 4 4 3 4 5 4 4 4 5 5 4 3 1 2 5 3 5 4 4 4 3 4 5 5 5 4 3 5 5 1 5 3 5 5 3 1 4 4 4 5 1 3 1 4 5 4 1 3 2 3 2 4 1 4 5 5 5 4 1 3 4 5 1 2 3 4 2 1 1 2 3 2 3 3 5 3 5 1 5 5 1 3 3 3 1 4 2 5 2 3 1 3 3 2 2 3 3 5 2 1 1 5 4 4 5 2 4 2 1 3 5 1 4 4 2 4 5 3 1 3 5 3 4 2 1 5 5 2 4 1 4 5 1 5 5 4 1 3 3 3 3 2 4 2 1 2 2 4 1 1 2 1 5 1 4 3 3 2 1 2 2 4 3 3 3 3 3 1 4 5 2 3 5 1 5 4 1 4 1 1 3 2 3 5 5 2 5 3 4 3 4 5 2 3 1 2 4 2 3 3 4 3 5 3 2 3 3 2 1 2 3 1 4 3 3 4 1 5 4 4 4 3 3 2 1 2 4 3 3 4 1 1 5 1 1 4 4 3 4 2 2 2 5 2 1 4 4 3 5 3 3 1 1 5 1 1 5 5 1 5 5 5 1 3 4 2 2 4 2 5 3 2 2 2 4 4 4 1 4 4 4 3 5 3 2 4 3 1 1 3 4 3 2 3 1 1 5 3 2 2 4 2 1 5 5 5 3 2 1 1 5 1 4 1 3 1 1 2 5 5 1 4 5 1 5 5 1 3 2 2 3 4 3 2 1 4 4 5 2 1 3 3 4 4 3 4 3 3 3 5 2 3 5 1 5 2 3 1 5 4 1 5 1 2 4 4 5 2 2 5 3 4 3 5 2 1 5 4 3 5 3 4 4 4 2 3 4 4 3 4 3 2 1 2 5 2 2 5 3 4 4 4 4 4 3 1 2 5 4 4 4 2 4 5 2 5 1 4 5 1 5 5 2 3 5 1 5 5 1 2 2 1 5 4 5 3 5 3 4 4 3 1 2 3 4 3 3 2 5 4 5 3 4 3 3 4 3 1 4 3 3 4 1 2 4 5 4 1 2 1 1 5 5 3 3 3 5 2 3 2 1 5 1 1 1 2 2 1 1 3 3 1 2 5 5 3 4 2 1 2 3 1 3 2 3 5 1 3 5 2 4 4 2 1 1 3 4 3 2 2 5 2 5 3 1 2 1 3 5 1 1 3 5 2 4 3 1 2 4 1 4 5 1 5 5 3 1 5 1 2 2 3 4 3 4 1 5 5 1 3 5 3 5 1 1 5 2 1 4 5 1 4 3 5 4 4 5 2 4 4 3 3 5 4 5 2 3 3 1 5 2 5 4 5 3 5 1 2 4 2 3 1 5 5 3 5 5 4 4 2 3 1 1 3 5 4 4 3 4 5 5 5 2 4 2 5 4 1 4 4 2 2 1 1 4 4 5 5 2 1 2 1 1 2 4 1 1 3 5 2 1 5 5 4 1 3 5 2 4 1 1 2 1 4 1 3 3 3 3 5 2 5 1 1 4 3 1 5 2 2 2 5 5 4 1 3 2 3 4 3 5 4 3 3 4 4 4 2 4 1 4 5 5 1 2 5 1 2 5 2 2 2 3 2 4 1 5 2 4 5 1 4 2 4 3 3 3 2 4 5 4 4 4 2 1 4 5 3 2 4 1 3 1 4 2 5 5 2 3 1 2 5 1 4 2 5 1 2 1 1 5 3 4 1 1 3 5 3 2 4 5 2 2 3 5 3 5 1 4 1 4 2 2 2 5 4 3 3 2 1 2 4 1 4 5 3 1 5 1 1 2 2 4 2 2 3 2 4 3 3 2 2 1 3 2 5 1 2 5 2 3 3 3 2 2 5 2 2 1 1 3 5 3 3 4 5 3 4 5 5 5 5 4 2 3 4 4 1 1 5 4 2 3 4 4 1 1 5 3 2 2 5 3 1 3 2 2 4 1 1 2 5 5 2 3 5 3 4 4 2 3 4 3 2 3 3 1 1 3 5 5 4 3 4 1 2 1 3 1 3 4 3 3 4 2 5 1 3 3 5 5 3 2 5 5 3 2 4 5 4 2 1 5 3 4 1 4 4 2 2 5 5 3 3 5 5 3 1 5 3 2 4 1 3 1 2 5 3 1 5 5 4 1 3 4 1 1 2 4 1 3 4 1 2 4 4 1 1 3 3 5 3 4 5 4 2 1 1 3 1 3 4 4 5 4 4 3 4 3 4 2 4 4 2 1 1 5 1 1 5 5 4 1 3 3 5 1 4 4 1 3 3 4 1 2 1 2 2 5 3 5 3 1 5 2 3 1 5 5 4 4 1 3 3 5 3 1 4 3 5 2 1 1 2 4 2 3 3 2 5 3 5 2 5 1 4 3 1 3 2 3 1 2 2 2 1 1 4 4 5 4 4 2 3 2 2 2 2 1 2 5 5 1 5 4 1 5 1 5 5 3 1 5 3 2 1 2 5 3 5 3 5 5 4 3 3 2 1 5 5 1 3 2 1 4 5 4 5 3 3 2 4 2 3 2 2 3 1 3 1 3 2 4 5 5 2 1 1 4 2 3 4 2 4 2 2 5 5 2 4 4 1 5 5 1 5 1 3 5 4 1 2 5 1 3 5 3 1 3 1 1 5 2 4 5 1 1 2 5 4 5 4 5 3 1 4 3 2 5 1 1 3 2 3 5 3 1 1 5 3 5 3 4 3 1 2 3 1 3 1 4 2 1 1 2 2 2 5 2 3 2 1 2 4 3 4 2 4 5 1 3 3 1 2 3 5 2 4 1 3 5 4 5 4 2 1 3 4 4 1 4 4 4 5 3 2 4 2 3 4 4 4 5 1 3 1 4 4 1 5 2 2 5 5 1 1 2 4 3 5 4 3 4 1 5 2 5 1 5 5 3 1 1 4 4 2 2 2 2 4 3 3 3 5 4 5 1 2 4 4 2 3 5 3 5 5 5 2 2 2 2 1 4 2 3 1 3 1 2 1 3 4 5 5 3 1 1 5 4 2 3 1 4 4 3 2 1 1 2 4 5 5 2 4 5 3 4 5 5 3 3 2 1 5 1 2 2 5 1 1 2 5 2 4 4 3 1 3 1 5 5 5 4 4 1 2 4 4 2 5 5 3 3 2 5 3 3 3 3 4 5 2 5 1 3 1 1 2 3 5 2 3 1 2 2 4 1 1 3 5 1 1 3 4 5 4 5 5 3 3 4 3 1 1 2 3 1 2 3 1 5 4 5 1 1 1 5 5 3 3 3 1 4 3 3 3 2 3 4 5 4 2 5 5 5 3 2 3 3 5 1 4 3 4 2 1 4 4 5 2 4 3 5 1 3 1 5 4 1 1 1 4 1 4 3 2 4 1 3 1 2 3 5 3 2 1 1 3 5 1 1 1 2 2 1 5 4 4 4 1 1 3 1 2 4 2 5 4 3 2 5 1 2 3 5 3 2 5 5 2 1 5 5 2 4 4 3 5 3 2 1 1 4 2 1 1 2 5 5 3 3 1 4 1 1 5 1 1 2 2 5 2 4 4 2 1 2 3 3 3 2 3 1 2 4 3 5 4 3 3 4 5 3 2 2 4 1 4 5 4 2 4 2 2 4 3 3 5 5 2 4 3 4 1 1 3 1 5 1 2 1 4 5 4 3 5 2 1 3 4 5 5 4 2 3 2 3 5 2 5 3 1 2 4 5 2 4 3 4 4 1 4 3 2 5 5 2 5 1 1 2 1 1 2 4 5 2 3 2 2 1 2 5 2 1 4 2 1 3 5 5 2 4 4 2 4 5 3 3 4 3 3 3 2 1 5 1 4 4 1 4 3 1 1 5 4 4 3 5 5 4 5 1 2 5 4 3 1 2 3 3 3 3 2 4 4 5 1 4 1 1 5 5 3 5 5 1 5 1 4 2 5 1 1 1 2 2 2 1 5 5 1 2 5 4 1 5 4 1 5 4 4 4 3 3 2 2 4 3 5 1 1 2 1 3 5 4 5 1 5 5 3 5 4 2 4 2 1 4 3 2 3 3 2 3 5 4 4 5 2 2 5 4 3 1 4 4 4 3 5 4 3 2 2 1 2 4 2 2 5 1 5 4 2 4 2 4 1 2 4 5 3 3 1 2 2 2 1 2 4 5 3 2 1 1 3 3 1 2 4 3 3 3 3 2 2 4 3 5 1 5 2 2 1 1 1 1 4 1 1 3 4 5 2 1 2 1 2 5 1 4 2 1 3 2 1 3 3 3 4 1 1 3 5 1 2 1 2 5 3 3 2 5 3 4 5 2 1 3 2 5 3 1 5 3 5 3 2 2 2 4 4 1 4 2 2 1 3 3 1 5 3 3 1 5 3 2 5 3 3 2 4 2 5 3 3 3 2 4 3 1 2 4 2 5 1 2 4 3 2 2 2 1 2 2 2 1 5 2 3 4 2 3 3 3 3 5 3 1 1 5 5 1 3 2 1 2 1 5 2 3 2 5 1 3 3 1 3 2 1 1 3 1 2 1 4 4 4 3 1 1 1 3 3 1 5 2 3 1 5 3 2 4 4 5 1 1 4 3 1 3 2 4 2 3 4 2 1 4 4 3 3 2 3 2 1 5 1 4 4 4 2 3 1 3 1 3 1 2 2 4 3 4 4 5 3 5 1 3 5 3 5 3 3 3 3 2 4 1 4 1 4 1 5 1 3 3 4 1 1 3 4 4 4 5 4 1 5 5 3 1 5 2 4 3 4 3 1 1 5 4 1 2 3 2 2 4 3 4 3 5 2 4 3 4 4 4 5 5 2 5 4 2 1 2 4 3 4 5 4 1 3 2 1 1 5 1 4 2 4 3 4 1 1 4 1 2 4 5 4 3 4 4 4 3 2 5 5 4 5 5 5 4 4 4 3 4 4 2 3 4 2 4 3 3 5 5 3 4 5 2 1 1 4 5 4 5 3 2 3 5 4 1 4 3 1 4 4 3 4 4 4 2 4 1 1 4 3 4 1 3 5 3 5 1 4 3 3 3 1 4 2 4 5 2 1 5 3 5 1 5 4 2 1 3 4 1 2 1 1 5 3 2 5 3 3 3 1 4 3 1 4 1 3 5 4 1 2 4 1 2 4 4 4 4 2 1 3 1 2 2 4 5 4 5 3 1 1 2 5 3 5 2 2 2 5 2 4 4 2 1 2 4 2 5 4 5 2 1 1 5 2 4 5 1 2 5 4 4 5 4 1 2 3 3 4 4 1 3 5 5 2 5 4 1 3 3 3 5 4 3 2 2 5 2 5 3 3 3 3 1 3 3 2 3 2 1 3 2 3 1 3 3 3 1 5 2 3 2 2 4 5 3 1 5 4 1 1 1 4 5 3 1 3 1 1 4 4 1 2 2 2 4 2 3 3 3 2 2 3 2 5 3 4 5 1 5 5 1 3 1 3 4 1 5 3 4 2 5 2 4 2 5 2 4 5 1 2 2 1 2 2 5 5 3 4 4 1 3 2 2 4 5 2 2 2 3 4 5 5 3 3 1 4 4 4 5 2 3 5 3 5 1 4 4 4 1 2 1 2 2 4 2 3 5 1 3 3 1 5 2 5 5 3 4 2 3 1 5 4 1 5 3 3 5 1 3 3 4 2 4 3 3 5 1 4 2 2 5 2 3 2 1 4 1 3 4 2 4 3 5 1 4 5 3 5 5 5 4 4 1 2 5 1 5 1 4 1 5 2 4 5 5 1 4 1 4 5 4 4 1 3 3 3 5 5 4 4 4 4 1 2 2 3 1 4 5 1 4 1 5 1 1 5 1 5 4 4 1 4 3 2 2 5 2 3 5 4 2 2 4 4 1 1 3 3 1 5 3 3 5 4 5 1 1 2 1 3 5 3 3 5 2 5 5 1 1 3 2 4 4 5 3 1 5 3 2 3 1 3 3 3 1 5 5 2 5 2 3 1 5 2 5 5 4 3 2 1 3 1 5 3 4 1 4 4 5 1 4 3 3 2 4 3 5 4 5 2 4 5 4 5 4 4 5 4 1 5 4 3 1 5 5 4 4 1 5 4 4 5 2 5 1 1 4 5 3 5 5 2 3 1 4 4 1 5 5 3 5 5 4 1 4 3 2 2 4 1 1 1 3 4 3 1 4 3 1 2 5 2 3 5 5 3 3 5 4 3 4 3 3 1 1 5 2 2 2 4 1 1 5 5 2 1 5 1 2 1 3 5 3 3 3 4 1 2 3 3 4 2 4 4 3 4 3 1 4 4 5 3 5 3 2 5 5 1 2 4 4 2 2 3 5 5 3 3 1 1 1 2 5 2 3 5 3 3 2 1 2 4 4 4 2 1 1 3 5 3 4 2 1 1 3 2 4 5 4 2 3 2 1 3 1 4 2 4 3 5 5 1 1 3 4 5 1 4 5 3 2 3 2 4 1 1 2 5 2 4 4 3 5 4 3 5 4 4 5 4 1 3 5 2 2 2 4 4 3 4 1 3 1 3 2 5 5 2 3 4 3 2 1 5 5 3 5 1 3 1 3 1 5 1 3 2 1 5 1 4 2 5 1 1 3 3 2 5 1 2 3 2 5 5 5 2 3 2 5 2 4 5 4 1 5 4 1 5 5 5 4 1 1 3 4 2 2 3 2 4 1 5 4 1 5 3 2 1 5 4 3 2 4 3 5 3 5 3 5 4 3 4 5 2 3 4 5 4 2 2 3 5 4 4 2 5 1 2 2 5 3 3 4 4 1 5 1 4 2 2 5 5 3 4 2 3 4 2 4 1 3 1 1 1 5 5 3 1 2 1 3 2 4 1 1 4 1 5 4 2 4 5 1 3 2 3 5 3 1 1 4 3 4 3 5 3 2 1 1 3 5 2 4 4 2 5 3 4 1 1 2 3 1 1 5 3 2 5 4 2 5 1 5 1 3 4 3 1 1 1 2 1 3 5 1 4 1 4 1 1 5 2 3 1 4 4 1 4 1 4 4 2 4 2 5 1 4 5 5 5 4 4 1 4 5 4 3 5 3 3 1 5 4 5 1 2 4 4 3 1 5 3 3 4 4 2 1 5 3 4 3 1 1 5 5 4 3 1 4 2 3 2 4 1 3 1 4 4 5 3 1 3 4 1 5 1 4 3 3 5 5 3 3 1 3 3 2 2 1 2 1 5 2 3 1 4 1 3 5 2 2 1 5 2 2 2 5 2 3 4 1 2 3 4 5 2 5 1 3 3 4 2 5 1 5 2 1 3 1 1 4 3 5 3 4 3 5 2 1 5 5 3 2 5 2 4 5 3 5 3 2 4 5 3 1 1 5 3 2 3 3 4 3 5 3 5 4 2 3 1 3 3 3 1 4 3 5 5 1 5 5 3 4 5 5 4 3 4 4 4 5 4 1 5 1 2 2 5 3 2 1 4 1 3 5 5 2 3 3 1 5 5 2 3 2 4 4 2 4 3 5 2 5 3 5 5 4 4 4 5 5 4 4 1 3 4 4 1 3 4 3 5 2 3 2 4 4 5 1 1 1 4 5 2 3 3 4 3 2 1 1 2 1 5 3 3 3 4 5 1 1 3 4 5 1 3 4 3 1 5 5 5 1 1 1 5 3 1 2 4 4 1 4 2 5 4 3 3 5 1 4 2 1 2 3 2 4 5 5 4 3 3 1 2 5 1 3 2 2 4 2 3 5 1 5 5 5 5 3 4 1 3 3 4 4 4 5 1 2 4 3 3 1 2 2 3 5 4 4 4 5 3 3 1 2 1 2 3 4 2 4 1 5 2 1 4 2 1 1 4 4 3 4 4 4 4 4 2 4 2 3 1 2 1 4 1 5 5 2 2 5 2 5 5 3 5 4 2 4 1 1 1 5 3 2 4 3 3 3 4 2 5 4 5 4 3 5 4 5 4 2 4 1 1 1 3 3 1 3 2 5 5 3 4 5 1 5 5 1 3 2 2 3 5 2 3 3 1 5 5 2 5 4 2 5 1 2 5 1 1 3 1 1 4 5 1 1 1 3 3 1 2 1 3 4 1 1 5 3 3 2 1 4 1 3 4 5 4 5 4 1 2 4 4 1 1 4 4 4 1 1 2 2 5 5 1 5 4 2 5 1 5 3 4 4 4 2 5 1 1 2 5 4 2 5 5 4 3 4 5 4 4 3 5 2 5 4 1 1 2 4 4 3 1 2 4 4 3 1 1 2 5 4 2 5 2 5 5 2 3 2 2 4 3 4 4 5 3 2 4 4 3 5 2 5 4 4 2 4 5 4 1 2 4 3 3 3 3 3 4 5 4 4 4 2 3 2 4 1 5 1 2 1 2 5 3 5 1 2 2 4 3 4 4 5 1 3 1 4 5 5 4 4 3 5 3 1 4 3 5 5 3 3 2 5 5 2 2 2 1 3 3 3 5 2 1 2 5 4 1 1 1 4 2 3 2 3 5 3 2 4 5 1 3 3 5 1 2 2 3 3 5 2 2 4 2 3 1 5 5 4 1 4 2 5 4 4 5 3 3 1 5 4 5 5 2 4 1 4 3 5 4 1 5 5 3 2 5 2 3 4 5 2 1 5 1 4 3 4 2 2 3 3 5 4 2 2 4 4 5 2 1 5 4 2 1 5 1 2 1 4 3 5 1 4 1 2 4 3 3 5 1 1 1 4 3 4 2 1 3 3 4 5 2 1 4 5 4 2 1 2 5 4 3 2 1 2 4 4 3 4 3 3 4 5 3 2 1 1 1 3 4 5 4 3 5 5 5 3 2 2 4 5 4 1 5 2 1 5 5 3 3 5 5 3 1 1 5 1 1 4 3 2 4 2 1 1 1 2 1 3 4 4 1 2 4 4 5 4 1 5 3 5 2 4 3 4 3 4 1 3 2 3 1 5 5 5 2 3 3 4 1 2 2 5 5 1 4 3 2 1 1 1 2 3 3 2 1 5 1 3 5 3 5 2 4 3 3 4 4 5 2 4 2 1 2 4 4 3 3 3 2 1 3 4 3 3 3 2 5 3 3 4 2 2 2 2 1 1 5 5 5 3 5 5 1 2 5 1 3 1 2 4 4 1 1 4 4 4 3 4 4 2 3 1 3 4 3 4 2 5 4 5 4 1 2 4 3 5 5 2 1 1 1 1 4 2 2 3 4 1 2 5 2 5 1 2 4 1 2 3 1 3 1 3 4 4 1 1 1 2 3 2 5 4 3 4 5 2 4 1 3 2 4 4 5 3 2 2 5 2 5 4 5 3 4 4 5 2 2 1 1 2 2 5 3 5 4 5 4 2 3 1 3 4 4 2 1 3 5 2 5 2 4 3 1 3 2 3 4 3 3 1 2 1 4 5 1 1 4 2 4 1 1 3 5 2 5 2 1 1 3 2 2 4 2 4 4 5 3 1 2 4 4 4 1 3 2 1 5 2 3 5 3 5 2 5 5 2 2 5 3 4 1 3 2 2 5 2 4 4 3 2 3 3 2 3 4 1 3 1 3 5 2 5 2 4 1 4 2 2 4 2 1 1 4 3 1 4 1 1 1 4 1 3 2 5 3 5 4 1 3 5 3 1 5 2 4 2 1 2 2 4 1 2 3 5 2 5 1 2 1 3 2 4 2 2 1 3 3 4 5 5 1 4 3 2 3 3 4 1 4 5 4 5 4 2 5 3 2 1 4 5 4 2 3 3 3 3 4 2 1 3 4 2 1 3 3 3 2 2 2 2 3 4 2 2 2 1 1 4 5 3 2 2 5 5 5 4 1 1 4 2 5 2 5 4 1 4 5 2 1 2 2 4 1 3 1 4 1 1 1 5 3 5 5 2 3 4 5 4 4 1 4 3 4 2 2 2 3 5 1 1 2 4 5 3 2 5 1 5 2 4 4 5 2 3 4 1 4 4 3 3 1 3 2 3 5 3 3 4 1 3 4 2 3 3 3 3 5 2 1 2 5 5 3 4 5 2 1 4 2 2 5 3 4 4 4 3 5 4 3 5 5 3 2 3 3 5 5 3 5 3 1 3 4 3 3 2 2 1 3 5 2 3 4 3 2 1 4 4 4 5 4 3 5 2 2 5 4 4 1 1 3 2 4 4 3 3 2 5 4 5 1 2 2 2 2 4 4 1 2 4 2 5 5 4 3 2 4 4 1 2 4 5 2 4 3 3 5 5 4 1 5 1 3 2 1 1 5 3 1 5 3 3 4 5 1 4 5 5 2 1 1 4 3 3 1 1 2 1 2 1 2 2 2 4 2 3 2 4 4 2 2 3 4 3 4 4 3 5 5 1 4 3 1 4 5 3 5 3 4 3 4 5 1 2 5 4 1 5 4 4 5 3 1 3 4 5 5 5 1 1 5 1 5 2 5 2 5 5 1 1 1 3 2 3 4 5 1 3 5 3 1 5 5 1 2 3 3 5 4 1 5 4 1 3 2 3 2 2 5 3 5 5 1 5 4 4 4 1 3 3 1 4 4 2 2 4 2 3 5 4 1 3 1 4 2 4 1 2 3 2 1 3 1 4 4 5 4 5 3 4 2 4 4 1 1 5 2 4 4 4 2 5 2 2 3 2 4 3 4 3 1 2 5 3 1 2 5 5 4 4 5 2 3 2 2 4 3 3 1 5 3 2 4 3 5 2 1 1 3 3 1 1 1 1 1 2 2 4 3 4 2 3 1 4 1 4 4 2 3 4 2 2 1 3 4 4 5 4 4 1 1 2 3 3 4 1 5 5 4 3 1 5 5 1 4 3 4 2 2 2 2 3 4 4 5 5 1 5 4 5 2 2 5 4 5 2 4 4 3 2 3 4 2 2 3 3 1 2 3 1 3 4 3 1 4 5 5 5 5 3 3 5 1 1 5 2 1 1 4 1 4 1 2 1 4 4 3 1 1 1 3 3 5 3 2 4 1 5 5 3 3 3 4 5 1 5 5 2 1 4 5 4 4 4 2 3 1 3 1 1 4 2 5 5 2 1 1 3 2 1 1 2 4 3 4 3 4 1 4 4 4 1 4 1 3 2 4 1 5 1 1 5 1 2 5 5 5 3 2 1 5 4 3 3 4 4 4 2 1 1 1 1 1 2 3 2 5 5 5 5 2 3 1 4 3 1 2 4 5 5 1 1 2 3 3 2 2 2 2 3 3 3 1 5 2 2 1 1 1 1 4 5 1 4 4 2 4 1 5 1 1 2 2 1 2 2 2 4 4 2 1 3 3 3 4 5 1 3 3 5 3 2 4 4 2 1 5 4 1 1 3 3 3 4 5 1 3 1 1 1 5 1 2 2 2 5 2 5 4 2 1 3 4 5 4 4 1 4 5 4 2 3 2 2 4 4 5 1 2 3 1 4 3 4 5 5 2 1 1 1 4 2 3 1 1 2 4 4 5 5 5 1 3 3 5 2 3 2 3 5 4 3 3 3 1 3 1 1 2 1 4 4 2 3 2 2 3 1 1 1 4 3 1 1 5 2 3 1 3 2 1 2 2 1 2 2 4 1 4 4 1 2 2 2 1 3 1 5 4 2 2 4 3 3 2 1 5 5 2 5 5 3 3 5 3 4 3 2 5 3 2 4 5 4 1 5 5 1 5 2 5 1 4 5 1 1 4 5 1 1 2 3 2 5 3 3 5 5 3 4 1 4 4 2 5 5 3 5 1 1 4 4 4 2 5 2 3 5 4 2 1 5 5 5 2 3 3 3 2 3 4 3 4 2 5 1 3 4 5 1 2 5 1 2 5 1 5 5 5 2 2 3 2 3 5 5 4 1 1 4 4 5 1 2 3 4 5 3 1 5 3 4 4 1 3 4 1 5 1 3 4 2 2 4 3 1 1 1 5 3 3 5 5 3 5 5 5 4 1 1 1 4 2 1 2 2 1 1 4 5 5 4 5 1 5 2 3 5 1 5 4 4 4 5 3 2 4 5 3 5 1 5 5 4 2 4 1 5 3 4 3 3 1 2 4 4 1 3 4 4 4 4 2 3 3 2 2 1 5 5 2 2 5 2 4 1 2 1 2 2 3 5 2 1 4 3 3 4 5 5 1 5 1 3 5 3 2 1 3 2 4 2 2 3 1 4 2 4 2 2 3 1 2 2 1 2 4 3 4 3 4 2 4 2 5 2 2 5 3 2 3 1 2 2 5 5 2 3 1 1 5 1 1 2 4 2 5 5 3 5 3 4 5 3 2 3 5 5 5 4 3 5 2 2 4 1 5 3 2 4 1 4 3 1 2 3 2 1 5 5 1 3 3 3 4 2 1 4 4 3 4 2 2 4 3 1 3 4 4 5 5 2 3 1 4 4 2 5 5 3 4 1 1 1 2 5 5 2 3 2 3 1 1 3 1 1 3 3 1 2 4 4 4 2 3 1 5 3 4 1 2 5 3 5 4 3 5 2 3 5 2 3 2 4 4 4 4 3 4 2 4 5 4 1 5 1 2 4 4 3 1 4 5 4 4 3 5 1 3 1 5 4 2 3 5 3 2 4 1 1 4 2 1 5 3 2 2 3 4 1 1 4 5 1 4 5 5 4 3 4 3 5 3 5 3 4 3 2 1 4 2 1 3 5 4 3 5 3 4 4 5 3 3 1 5 5 3 5 2 3 4 2 2 2 1 2 3 1 4 2 2 1 4 1 2 3 2 5 5 5 4 2 1 3 5 4 4 4 1 5 5 2 5 3 1 5 1 1 5 4 3 1 3 1 5 4 4 2 1 5 3 3 1 3 4 4 4 5 4 1 5 1 1 3 5 2 2 1 5 4 2 2 4 1 2 4 4 1 3 2 4 5 1 2 2 5 4 3 4 5 2 5 5 1 3 4 5 4 5 3 1 2 3 1 3 2 2 1 3 2 3 5 2 4 1 1 3 4 1 5 2 1 4 2 1 4 1 4 5 5 2 4 4 5 4 1 2 5 5 4 1 1 4 3 2 4 1 2 1 5 1 2 4 3 5 1 2 3 1 5 5 3 4 2 4 4 3 1 3 5 5 4 1 5 5 1 4 1 5 1 3 4 5 5 2 2 3 1 3 3 2 2 1 4 3 1 2 3 5 4 2 4 1 3 4 4 3 2 3 3 3 4 3 4 3 3 1 2 4 3 5 2 5 2 5 3 3 4 5 1 1 3 2 3 1 4 2 5 1 5 5 3 2 2 4 4 4 3 2 4 1 4 4 5 1 5 2 5 3 2 5 5 5 3 4 2 5 3 3 1 3 3 2 4 1 5 3 2 4 1 1 2 3 4 5 4 5 4 4 1 5 2 1 4 4 1 3 2 4 4 2 5 2 5 1 2 5 3 4 1 3 2 2 1 4 1 4 4 1 5 2 2 4 1 4 4 2 4 5 4 5 4 4 3 4 3 1 5 4 3 4 4 2 1 2 2 4 5 5 5 5 4 3 1 3 2 5 3 5 1 5 3 1 2 4 2 3 1 4 1 1 4 1 1 1 2 2 4 2 4 4 3 4 2 4 1 4 4 3 2 5 5 4 3 3 1 5 5 1 2 4 4 4 2 3 3 2 5 4 1 5 2 3 5 2 2 5 1 2 3 1 2 2 4 1 3 2 3 4 1 1 1 5 1 4 3 5 3 3 5 2 1 5 1 1 1 3 5 4 5 4 5 4 1 1 5 2 3 2 2 4 1 4 3 1 1 2 1 4 1 5 5 5 1 4 2 2 2 1 5 4 5 4 4 3 3 4 4 1 5 1 1 4 5 3 4 1 1 5 5 2 1 4 1 2 2 1 1 4 3 4 5 2 5 1 4 1 1 4 5 1 2 4 1 4 4 3 5 4 4 2 3 1 2 2 4 5 3 3 2 2 2 5 2 3 2 4 2 1 2 5 5 4 1 3 3 2 5 4 2 4 1 4 3 3 4 2 5 3 3 1 5 2 4 4 1 5 5 3 5 2 5 4 1 2 3 4 1 4 2 5 4 4 2 3 5 2 5 5 4 1 3 5 2 3 3 5 1 5 3 5 4 3 3 1 3 2 1 2 2 4 2 1 2 1 3 1 4 4 4 1 4 2 2 1 3 3 3 4 4 5 3 3 1 3 2 2 1 3 4 2 3 3 3 4 3 3 1 5 2 2 1 4 1 1 1 5 2 4 1 2 5 2 3 5 1 3 5 5 2 1 3 5 3 5 5 4 2 4 1 2 5 5 2 2 5 2 5 3 2 4 1 1 5 1 2 5 2 4 1 1 3 5 1 2 4 2 3 5 5 2 3 5 1 2 3 4 4 4 5 3 2 1 3 1 1 2 4 3 2 5 1 5 4 2 3 3 1 4 2 5 5 5 3 5 5 5 1 3 4 5 4 4 4 2 3 3 4 4 5 2 1 1 3 3 3 3 4 1 5 2 3 3 1 1 5 1 5 3 5 2 2 5 2 3 2 5 4 3 1 4 5 4 1 4 4 2 1 3 1 4 4 3 1 1 4 5 2 3 4 2 3 1 2 4 3 3 3 3 2 4 4 5 1 3 3 3 1 3 1 2 1 3 4 2 4 5 4 2 5 2 5 3 4 3 1 4 1 4 3 2 5 2 5 1 5 2 4 3 1 5 5 5 2 4 1 2 4 4 3 2 3 1 3 1 1 3 5 5 2 4 5 1 1 4 1 1 5 5 2 2 2 3 4 2 4 2 4 1 1 3 3 5 4 4 1 1 3 5 2 5 1 3 1 4 5 1 4 4 5 2 3 5 3 1 3 2 4 4 1 1 5 1 5 1 3 3 3 3 2 4 4 4 5 4 2 2 2 5 3 1 3 3 4 1 5 3 1 5 4 2 1 2 5 5 1 4 4 5 1 3 1 4 2 2 5 3 3 5 4 4 4 3 1 2 3 1 5 5 5 5 3 4 5 3 4 4 1 1 1 5 5 2 5 3 2 2 3 2 3 5 1 3 4 2 3 1 5 4 3 5 2 2 3 5 1 4 5 1 3 3 4 1 5 2 5 2 5 1 1 1 1 3 5 1 3 4 5 4 5 2 5 3 4 1 1 2 3 2 2 5 4 2 4 5 2 1 2 1 4 5 2 5 4 2 4 5 1 3 5 4 4 3 4 2 3 3 5 5 1 5 5 5 5 2 1 4 4 4 4 2 3 1 1 5 4 2 3 3 2 4 5 2 4 4 2 1 5 5 5 5 2 3 5 2 5 4 4 3 1 2 4 3 5 4 5 3 3 4 5 4 2 3 3 5 4 4 4 4 1 1 4 1 2 5 1 2 3 4 2 1 3 1 2 2 2 1 4 5 5 2 3 5 2 3 2 2 2 5 5 1 2 2 1 5 5 2 5 4 1 3 4 1 5 1 3 2 4 2 5 5 3 5 4 1 5 2 1 3 2 3 4 3 3 1 1 4 2 3 2 5 5 5 4 4 5 4 2 4 4 4 1 1 4 5 2 1 1 2 1 3 1 1 4 4 4 1 5 3 4 2 4 2 5 1 4 2 4 3 3 5 4 5 3 4 1 5 4 1 4 2 2 4 2 5 3 5 2 5 3 3 5 3 1 2 3 2 5 1 5 5 3 2 2 4 4 5 3 3 1 2 5 4 5 5 1 5 4 4 1 3 3 4 1 2 4 5 1 3 3 2 4 2 1 2 1 3 2 1 3 3 1 1 3 3 3 4 1 3 5 2 4 4 1 3 5 3 1 2 2 5 2 3 5 4 3 2 1 1 4 2 3 5 2 4 1 4 3 3 5 3 5 3 2 5 2 4 3 2 3 5 2 2 2 5 3 1 2 3 5 2 1 5 4 2 3 1 4 3 5 4 4 1 1 5 2 1 2 5 1 1 1 4 1 5 3 4 5 5 1 2 4 5 2 5 1 1 4 2 1 1 2 4 1 5 4 4 4 4 3 4 4 4 5 5 5 4 1 5 5 1 3 1 1 2 4 5 3 2 5 4 2 4 2 2 2 4 4 1 1 3 3 4 2 5 3 4 1 2 2 3 3 2 4 4 1 2 1 3 5 2 4 5 1 1 4 1 5 4 2 5 4 3 5 4 2 1 5 1 5 5 2 2 2 3 2 2 4 5 1 1 2 1 2 3 5 2 3 4 2 4 4 4 1 3 2 3 5 5 1 4 5 3 3 4 1 1 5 1 5 2 5 2 2 2 4 5 2 3 5 2 1 3 3 3 5 3 5 5 5 3 5 2 4 5 5 3 3 2 3 4 1 5 1 4 5 4 3 3 1 4 5 3 5 4 2 5 1 2 4 3 1 3 4 5 4 1 1 3 5 2 3 3 3 1 5 2 3 2 2 2 4 2 5 5 3 5 5 2 1 2 1 1 5 1 2 2 4 1 5 5 5 3 5 1 1 3 5 3 3 5 1 2 2 4 4 1 2 1 1 2 3 2 3 4 4 4 1 1 4 4 1 3 1 4 3 3 1 4 3 3 3 5 4 4 3 2 1 1 1 4 5 2 1 4 4 4 3 3 1 5 5 4 5 1 2 3 5 2 2 4 4 4 2 2 4 2 1 3 2 5 5 2 1 4 5 1 5 5 3 3 3 2 5 3 5 1 1 3 5 1 5 1 1 2 2 5 4 3 1 2 2 3 2 1 4 5 5 4 5 2 5 3 5 4 1 1 5 5 1 2 1 3 2 3 4 2 1 5 4 1 1 5 3 2 2 4 1 3 4 3 3 3 4 4 5 3 1 5 4 2 5 2 5 3 1 5 3 4 2 1 3 3 5 1 2 2 2 3 4 3 4 4 2 3 3 4 4 3 1 4 3 1 2 5 2 2 2 2 5 2 5 3 4 1 4 3 3 2 2 5 2 5 3 2 5 3 3 1 3 1 3 4 5 2 2 3 1 5 5 5 1 3 4 1 1 5 2 2 4 2 4 3 2 1 5 3 4 5 3 5 3 4 4 2 4 5 2 1 3 1 5 4 1 3 5 2 1 2 4 3 3 2 1 4 4 4 5 2 2 3 3 2 1 4 2 3 5 1 1 1 1 3 4 5 1 3 5 2 3 4 2 2 2 2 3 4 5 2 5 5 1 2 4 1 5 5 4 1 1 3 3 4 2 4 1 5 4 5 4 5 3 1 3 2 1 1 1 3 3 4 2 1 2 3 4 5 2 4 4 5 5 3 3 4 5 3 5 4 3 4 1 5 2 1 5 3 4 5 3 2 3 5 3 3 1 3 3 2 2 3 4 1 5 2 2 1 5 5 1 2 4 4 4 2 2 1 5 4 5 5 4 4 2 5 3 4 2 5 2 1 2 3 3 2 1 3 1 3 2 2 5 1 2 5 4 1 3 5 5 2 1 5 2 5 4 4 4 1 3 4 5 1 4 1 3 5 2 3 3 2 5 1 5 5 5 4 3 1 3 5 2 1 3 4 2 3 2 3 1 4 4 1 1 1 5 4 2 2 2 4 4 4 4 3 5 2 4 3 3 2 3 5 5 1 5 5 4 2 4 2 4 3 1 2 3 4 2 5 1 5 5 3 4 1 4 1 2 1 2 4 4 4 2 4 5 1 2 3 1 4 2 5 4 5 1 1 5 2 2 4 2 3 5 3 3 2 1 3 4 2 3 2 1 1 2 1 5 3 5 1 3 4 2 4 5 3 4 1 4 4 3 3 1 5 3 1 1 5 5 4 4 1 2 5 1 4 3 3 1 2 5 1 4 3 2 1 3 2 1 4 5 1 2 2 5 3 3 2 4 2 3 2 4 5 2 1 2 4 4 2 2 5 3 4 5 4 1 5 2 3 3 5 2 1 2 2 5 3 4 3 5 1 5 3 2 2 1 3 2 3 1 2 5 5 5 4 2 4 5 5 1 4 4 3 2 5 2 1 5 2 5 2 1 3 3 2 4 3 4 5 3 4 3 5 3 4 1 5 2 4 1 1 4 2 5 1 3 1 2 2 5 2 5 2 5 1 2 2 4 1 4 4 2 5 2 5 3 5 5 4 2 5 2 3 2 4 2 2 3 3 3 3 4 3 1 4 2 5 4 2 1 3 1 1 4 4 3 4 1 3 5 5 2 2 5 2 3 2 4 3 2 1 1 1 5 5 4 1 4 4 1 4 5 4 5 5 2 4 5 4 4 5 4 4 3 1 2 4 3 4 2 1 5 3 3 3 1 3 4 5 3 4 3 1 5 2 1 1 5 1 4 5 3 5 3 5 3 1 1 1 2 5 1 4 2 5 4 1 5 2 3 2 4 2 4 1 3 5 1 3 5 2 3 4 3 1 1 5 2 5 4 3 3 1 2 5 1 3 1 2 4 4 3 5 3 3 1 5 1 2 2 2 3 1 3 4 3 5 4 3 4 3 3 2 3 2 5 4 1 2 5 2 2 4 5 4 3 3 1 5 2 4 2 4 1 3 5 4 2 2 1 3 5 4 1 1 3 3 3 4 4 3 1 1 3 3 2 2 5 3 3 2 4 3 2 3 3 1 2 3 1 5 1 4 3 1 4 5 5 5 3 3 5 2 1 5 2 5 5 4 1 5 1 5 5 2 4 1 3 4 3 5 2 3 2 5 3 3 3 5 5 3 1 4 4 4 5 3 4 3 2 1 2 3 5 3 4 2 2 2 5 4 4 4 2 1 4 2 4 5 1 3 3 2 5 4 2 1 5 4 3 2 1 5 5 1 3 1 3 4 4 3 4 3 2 1 1 2 1 5 2 1 2 4 1 4 1 1 3 3 5 5 5 5 1 1 5 4 1 2 1 5 5 5 3 4 2 5 4 1 2 4 1 4 4 1 1 3 4 3 4 2 4 2 2 4 2 3 5 5 1 4 3 4 4 1 4 2 3 3 4 3 4 1 5 3 1 3 4 1 2 2 2 2 4 4 4 5 4 4 2 3 2 3 1 4 2 1 5 1 2 3 4 5 1 3 5 3 5 1 5 3 3 5 1 1 2 2 4 2 3 5 5 1 3 4 5 3 3 5 4 2 1 4 3 2 1 1 1 2 5 1 5 4 5 2 2 5 2 2 1 2 5 2 4 3 4 2 2 5 5 4 3 2 4 4 3 2 4 1 3 4 2 3 1 3 5 4 1 3 5 1 4 4 1 4 3 1 4 4 1 1 4 2 3 2 2 5 1 5 5 3 5 2 3 5 5 3 5 4 5 2 1 2 1 2 2 2 2 4 3 2 1 3 4 4 3 5 2 3 2 3 4 3 2 3 5 1 1 2 4 3 5 5 4 1 3 3 3 5 3 2 1 4 4 4 1 1 2 2 3 1 2 5 5 1 2 1 3 5 5 3 1 4 3 2 1 3 3 3 3 4 2 3 4 3 3 4 4 2 3 1 1 4 1 5 3 5 5 5 5 1 2 2 3 3 4 3 5 2 3 2 1 3 5 5 3 2 3 1 5 3 5 1 4 5 2 1 3 5 2 1 2 4 1 5 5 1 5 1 3 3 5 3 4 2 2 5 5 2 1 2 1 3 4 3 2 2 3 3 5 1 1 4 4 5 5 3 1 3 4 4 5 4 3 4 1 3 3 5 4 1 2 3 1 2 2 3 2 3 1 5 2 2 5 5 3 3 3 1 3 2 4 4 5 4 1 3 4 5 5 5 4 4 2 4 3 3 4 2 3 1 2 2 3 5 2 3 4 2 1 1 4 3 4 1 5 2 1 4 1 1 5 5 5 1 3 4 4 2 5 2 2 3 1 5 4 3 1 5 1 3 2 1 4 1 1 3 5 2 2 1 2 5 2 4 4 2 3 1 3 2 2 4 1 2 1 5 5 1 2 1 2 1 3 4 5 1 3 4 2 4 3 4 2 5 5 1 2 1 2 5 2 4 5 3 2 5 2 1 1 3 3 2 4 2 1 3 4 2 4 5 4 4 4 3 3 3 4 1 4 5 2 3 3 1 5 5 1 4 5 5 1 3 3 1 4 5 4 2 4 5 3 2 5 5 2 4 1 4 1 4 5 2 3 5 3 4 3 5 4 2 3 5 3 5 2 5 4 2 2 2 1 2 2 3 5 1 1 5 3 3 4 2 1 3 5 1 2 3 4 1 1 2 2 3 3 3 1 2 4 1 3 3 3 1 5 3 4 5 4 3 3 3 3 1 5 2 3 2 3 2 2 5 1 4 1 4 2 2 3 3 5 2 1 3 5 2 4 3 4 3 3 2 3 3 2 3 2 2 5 1 5 5 5 5 5 1 2 2 4 4 4 5 2 5 2 5 4 3 1 2 5 5 3 5 1 5 1 1 1 5 2 2 4 5 5 2 1 3 3 4 4 3 3 4 5 4 5 4 3 4 4 2 4 5 1 3 5 1 5 4 3 3 5 2 5 4 1 2 2 2 2 1 4 3 2 2 3 3 5 2 4 2 2 2 4 3 4 4 2 5 1 4 1 1 3 3 2 1 4 1 4 5 4 5 4 1 3 1 3 1 5 1 5 4 2 5 4 3 4 5 2 3 1 4 5 4 3 5 3 1 1 2 1 3 5 1 4 4 4 1 1 4 3 1 2 5 5 3 5 2 2 5 2 5 3 1 4 1 1 1 4 1 4 5 4 3 2 2 2 5 3 3 2 2 5 2 3 5 3 1 2 5 2 2 1 5 2 5 2 4 5 1 3 4 1 2 4 2 1 1 5 2 4 5 5 4 1 4 5 1 3 5 1 1 5 5 1 3 1 4 3 2 2 1 2 1 1 1 3 5 4 5 2 3 3 2 2 3 1 1 1 5 2 3 5 4 3 4 1 1 3 4 5 3 5 3 4 5 4 1 2 5 5 2 3 4 5 4 3 2 1 5 3 2 5 1 2 3 3 3 4 5 2 5 4 2 4 3 1 3 3 5 4 4 4 4 4 1 1 5 4 3 2 3 4 2 2 5 2 4 4 2 1 5 1 1 1 2 1 5 4 3 2 3 2 2 5 4 3 2 1 3 1 4 5 3 2 1 3 2 1 5 3 3 5 1 2 2 3 2 2 2 5 5 1 1 4 4 5 1 1 5 3 2 5 1 5 5 5 2 2 1 5 3 2 2 2 1 5 1 1 2 1 1 1 1 3 4 5 3 1 1 3 5 5 1 4 4 5 5 1 2 5 5 1 1 3 4 1 3 4 1 4 1 5 3 2 4 5 5 5 1 2 1 3 2 2 1 3 5 3 5 1 5 3 3 4 3 2 4 5 1 5 4 1 1 2 1 5 3 5 1 5 5 4 5 3 1 2 1 4 5 5 3 4 1 5 1 1 1 5 5 5 3 1 4 4 1 5 3 1 4 2 2 1 5 2 1 1 4 4 4 5 2 2 5 4 5 5 2 3 5 1 2 2 4 2 2 1 1 3 2 2 2 3 1 3 4 3 4 4 5 3 2 3 4 5 5 3 3 4 2 1 2 4 3 2 1 1 5 2 4 5 2 1 5 5 1 2 1 1 4 4 3 1 2 2 3 3 2 2 1 3 1 5 2 1 4 5 5 4 5 1 5 2 1 4 2 2 4 5 5 3 3 3 5 5 1 2 2 3 2 2 4 5 4 3 5 3 2 2 5 4 1 5 5 1 4 4 2 5 5 2 5 5 1 3 3 2 5 1 5 4 2 1 5 3 4 3 4 1 5 3 2 5 3 1 1 5 5 4 4 5 5 2 5 1 3 4 1 4 5 4 5 2 3 2 3 3 1 3 5 5 3 1 3 2 4 4 1 3 1 4 3 5 5 5 3 3 5 3 2 1 2 3 2 1 2 2 3 2 3 5 2 4 4 5 4 5 5 5 5 5 2 1 4 4 4 1 2 4 1 2 1 3 1 4 2 3 5 4 4 3 4 1 3 2 3 1 5 4 1 1 2 5 2 2 3 1 3 2 5 5 5 2 5 3 2 3 3 5 3 5 4 5 1 3 5 5 4 4 1 4 4 3 2 2 5 2 3 5 2 1 5 4 3 4 4 1 4 3 5 1 2 5 3 2 2 5 3 3 2 3 4 3 5 4 1 4 2 5 5 3 1 5 4 2 3 4 3 2 1 5 1 3 4 4 3 3 4 2 5 1 1 3 1 4 5 5 4 4 1 1 3 5 1 3 4 3 1 5 5 4 2 2 5 1 1 2 3 3 2 4 2 3 2 4 5 4 1 1 1 3 5 2 1 5 1 2 1 2 5 4 1 1 1 3 1 3 5 4 4 5 1 5 5 5 5 2 1 1 3 2 3 3 2 4 3 5 3 4 1 3 1 2 2 1 1 3 4 1 4 5 2 4 2 2 5 3 4 5 4 4 5 1 5 2 1 1 4 1 2 4 1 5 2 1 2 5 3 1 5 2 1 3 3 3 3 2 2 5 3 5 5 1 2 2 3 5 3 5 2 4 2 5 3 5 4 4 4 3 2 4 3 3 5 4 2 1 1 5 4 1 2 5 4 4 4 5 5 4 2 2 1 4 5 4 5 5 2 5 5 5 3 5 5 1 5 2 2 1 5 5 4 4 4 2 5 5 2 4 3 2 1 1 1 2 1 2 3 3 4 4 4 1 1 2 3 2 5 3 2 4 3 2 3 4 4 5 5 4 1 1 1 3 3 1 4 5 4 2 1 3 3 5 1 1 1 4 5 4 1 2 2 1 2 3 5 2 1 3 3 4 3 1 2 3 3 1 2 3 1 1 4 4 4 4 4 4 1 1 1 2 5 3 4 2 3 1 1 1 4 5 1 5 4 4 5 3 2 2 5 2 3 5 5 5 2 3 4 1 1 1 1 5 5 5 4 5 4 3 2 4 5 5 3 3 3 4 4 5 2 5 1 2 2 2 3 4 5 2 3 5 4 5 4 5 3 4 4 5 1 1 3 5 4 1 4 1 3 5 5 4 4 1 3 5 4 1 1 2 3 2 3 4 4 1 2 4 1 1 1 2 1 4 4 2 5 1 4 3 2 1 3 3 4 2 5 2 4 5 5 4 3 5 3 3 5 3 1 5 1 5 1 2 1 3 1 4 1 4 5 2 1 1 5 1 4 2 4 3 2 2 4 1 5 5 4 2 2 1 5 5 3 5 5 4 2 5 5 2 1 4 3 4 1 1 4 2 2 1 2 5 2 4 4 5 1 4 3 1 4 5 2 2 5 3 2 2 2 2 1 3 2 4 1 2 1 3 2 1 1 5 1 4 5 4 4 5 5 5 5 5 2 1 3 3 3 5 5 2 5 3 3 5 1 1 5 4 3 2 1 2 2 2 2 4 4 5 3 4 1 1 4 2 1 5 5 3 3 4 1 3 1 1 2 5 2 4 4 4 1 1 1 1 1 5 2 4 4 2 3 3 3 4 2 2 1 4 2 3 4 4 3 2 1 5 4 3 5 5 1 1 2 4 2 4 2 3 1 1 5 2 2 3 3 4 1 5 1 4 2 2 2 4 2 4 5 5 2 4 4 1 5 3 4 3 2 5 4 4 1 2 5 1 3 1 2 5 3 5 1 4 3 5 1 4 2 2 5 2 3 3 5 5 3 4 5 1 5 1 1 1 4 4 5 4 1 1 2 5 5 3 4 5 1 3 2 5 1 4 1 1 5 5 2 1 5 1 5 5 5 5 1 5 5 3 4 3 5 2 5 4 3 5 5 1 4 2 1 5 3 2 4 4 3 5 5 2 3 4 3 3 1 1 4 5 1 2 2 5 1 1 4 5 2 4 3 5 5 1 2 5 3 3 5 4 5 3 1 2 3 2 2 2 3 5 2 4 1 2 2 2 5 2 1 2 1 3 2 4 3 3 5 5 4 4 5 4 1 1 3 5 2 3 4 4 1 5 3 3 2 3 2 5 1 2 4 1 2 4 2 5 4 1 2 3 4 1 4 5 2 4 5 3 2 3 3 5 4 3 5 2 3 4 5 5 4 5 4 4 3 4 5 3 3 2 2 2 3 1 3 3 3 3 5 4 5 4 3 5 2 4 5 4 5 4 1 3 4 3 1 3 1 1 1 5 2 3 1 1 1 1 3 1 5 5 1 1 1 5 1 2 4 1 5 1 5 5 4 4 1 5 4 2 1 3 3 5 5 2 5 4 4 5 5 1 1 1 4 3 1 4 1 1 3 2 1 2 4 4 1 1 5 1 1 2 1 1 1 5 5 3 5 1 4 2 5 3 3 5 5 3 4 4 5 2 5 2 4 1 1 4 1 2 3 5 1 5 3 3 4 3 2 5 3 2 5 2 2 3 5 1 3 2 2 5 5 4 4 3 2 2 4 2 5 4 2 3 2 1 3 5 1 2 5 4 3 1 2 1 5 4 2 5 1 3 2 5 1 1 5 4 5 1 1 3 4 5 2 2 2 5 5 5 3 3 4 1 2 3 1 5 2 2 3 5 5 5 4 4 1 4 1 3 4 1 2 1 2 5 1 4 5 1 5 2 5 2 1 2 2 2 4 1 4 5 2 3 4 1 3 5 3 1 1 5 3 1 3 2 1 3 5 4 4 5 3 4 1 4 3 5 3 4 1 1 1 5 2 3 1 5 4 4 3 3 1 4 1 5 4 2 1 1 5 2 2 5 3 5 4 1 4 5 2 1 2 2 5 5 4 2 5 1 3 5 4 3 1 1 3 1 2 5 2 3 3 3 1 1 2 3 3 5 3 4 1 4 4 4 4 2 2 1 1 5 4 2 4 2 5 2 2 1 5 2 2 5 1 2 4 3 5 1 2 1 3 3 2 5 5 1 5 2 5 5 1 2 5 1 3 5 1 3 1 3 3 3 5 2 3 5 2 2 5 4 2 5 4 4 3 2 5 4 2 1 3 4 4 4 2 3 1 4 2 3 2 3 3 2 4 4 1 5 3 3 4 1 5 3 5 1 5 3 2 2 1 4 2 2 2 1 5 5 2 4 2 2 4 5 2 2 1 1 3 2 5 1 4 5 2 1 5 1 4 1 3 4 3 1 2 2 4 3 5 3 5 4 3 5 1 3 1 5 1 2 1 4 2 4 5 5 4 5 5 5 1 5 5 1 1 1 5 1 5 1 1 1 1 1 4 5 1 2 5 2 2 3 2 5 3 1 3 3 5 4 1 2 1 3 3 1 2 3 4 5 4 5 3 4 4 5 4 4 4 3 3 1 3 3 1 3 2 3 3 2 5 1 3 2 1 4 1 4 4 2 5 2 1 2 2 2 4 3 5 1 1 2 2 1 2 3 2 3 5 1 1 2 2 1 2 3 4 1 1 3 1 3 4 4 1 1 3 2 3 4 4 4 4 4 1 5 5 4 4 1 4 5 5 1 5 4 3 5 5 1 4 4 5 1 4 3 5 1 4 1 5 3 5 2 5 4 2 3 4 4 2 3 5 4 4 5 5 5 5 1 1 4 1 2 2 5 4 4 5 3 1 5 4 1 2 2 4 1 5 2 3 4 2 4 1 3 1 3 5 2 4 1 2 5 1 2 3 2 3 4 2 3 5 2 5 3 3 1 2 4 5 5 5 5 4 4 4 4 4 2 2 3 4 4 4 3 5 3 5 2 3 1 5 4 4 5 2 5 5 3 5 4 1 5 5 1 1 1 2 5 5 5 4 1 2 1 3 1 2 3 3 1 3 4 2 3 3 1 3 1 1 4 1 5 5 1 3 3 4 2 4 3 5 4 5 1 4 4 2 4 4 1 5 4 3 3 5 4 3 2 5 2 2 2 3 2 5 2 2 5 3 4 4 4 4 2 3 4 4 1 4 1 1 2 5 1 2 5 4 3 2 3 1 3 5 1 2 5 3 5 3 3 3 5 1 3 4 3 3 4 5 1 5 2 4 4 2 4 4 4 4 1 4 3 3 2 5 2 2 3 4 4 1 3 3 3 5 4 4 5 5 3 5 1 5 2 1 2 1 5 3 3 3 3 2 2 4 2 2 3 5 2 1 2 1 4 4 4 5 2 2 3 3 1 3 1 4 5 1 3 3 1 5 3 3 5 3 5 4 2 2 4 3 1 1 3 4 2 3 2 2 2 1 2 3 1 4 3 3 1 1 1 2 2 4 4 3 3 2 3 2 2 4 1 4 3 3 1 3 2 4 1 1 1 4 1 2 5 5 3 3 5 1 5 1 1 5 1 4 5 2 2 4 3 3 4 5 1 4 3 5 4 3 4 2 2 2 3 2 2 3 1 1 3 3 1 5 2 2 5 4 1 3 4 5 5 4 5 3 4 2 1 5 1 3 4 5 1 5 2 2 2 3 2 2 2 3 1 5 4 3 4 1 2 4 2 5 3 5 3 1 1 1 2 2 4 4 4 2 1 3 3 3 5 3 4 4 5 2 5 2 1 3 4 1 1 1 5 4 1 5 2 4 3 3 4 5 3 4 3 5 5 1 1 2 3 1 1 4 5 4 4 3 1 5 5 4 3 2 1 5 1 5 2 5 2 3 4 1 3 1 2 3 1 5 3 3 1 5 2 2 3 4 4 5 3 4 3 4 3 2 4 2 4 3 4 3 4 2 5 2 5 3 2 5 3 3 2 2 2 5 1 5 2 2 5 2 5 3 4 5 3 1 5 5 3 3 5 3 2 1 2 5 4 4 2 5 4 2 5 4 2 1 1 5 5 2 1 2 3 4 4 2 3 2 5 4 5 5 2 5 2 4 4 3 2 2 2 5 3 1 5 1 3 5 1 3 5 5 2 5 4 5 5 5 3 5 5 1 2 3 5 5 3 4 2 3 2 4 4 4 5 1 4 2 2 3 4 3 3 4 4 4 2 2 2 5 5 2 3 2 3 1 3 4 4 3 1 3 5 2 4 5 5 4 1 4 2 4 5 2 2 4 2 1 2 4 2 2 1 2 5 2 2 5 3 2 3 4 3 2 1 1 1 2 4 2 4 4 4 2 3 1 2 1 3 3 5 1 3 5 2 2 1 2 2 3 3 3 2 5 4 2 2 1 4 1 3 2 4 5 4 3 5 1 5 3 4 5 3 4 4 4 1 2 3 4 3 2 5 2 1 4 1 3 1 1 2 3 5 2 1 3 4 1 2 5 1 5 3 3 5 3 5 3 4 1 3 4 2 4 3 3 2 4 2 2 4 1 3 5 2 3 5 2 5 1 2 2 1 2 5 3 1 5 2 5 1 4 4 2 4 1 4 5 4 2 3 3 5 3 2 5 5 5 5 5 1 5 1 3 3 3 2 1 4 5 5 5 1 3 4 4 4 1 1 5 3 1 4 1 2 5 5 5 5 2 1 4 1 1 2 2 3 4 2 2 1 3 2 2 4 4 3 4 5 3 4 5 5 2 5 1 3 2 2 4 2 1 2 2 1 4 3 2 4 2 5 5 2 5 3 3 1 1 4 3 3 2 3 1 2 3 5 3 3 4 1 4 1 5 2 3 2 1 2 2 3 5 4 5 5 3 5 1 1 4 2 4 2 1 2 5 1 2 3 3 3 2 3 3 3 5 3 5 4 5 2 2 1 1 4 4 3 2 4 2 5 1 3 1 5 5 3 4 5 1 4 4 3 2 2 2 3 3 5 1 5 2 5 3 4 1 4 1 5 2 4 4 2 5 2 4 5 2 2 2 4 1 5 1 5 3 4 3 3 3 4 1 4 3 1 1 3 5 2 4 2 4 3 3 5 2 2 2 2 4 5 1 1 4 4 5 2 5 4 4 1 1 2 4 4 5 3 5 5 4 5 1 2 4 4 4 1 2 1 5 4 3 2 4 1 3 2 2 2 3 3 1 1 2 2 5 5 1 5 5 1 2 4 1 1 3 2 3 4 2 1 3 5 4 2 1 4 1 2 3 2 1 4 5 3 4 1 3 3 4 2 1 1 4 5 5 2 4 1 3 5 2 2 2 1 5 3 5 5 4 1 2 1 5 4 5 3 4 3 5 2 2 2 4 1 3 4 4 4 2 1 1 1 2 5 3 4 4 4 3 5 5 2 1 1 5 4 5 4 1 3 4 2 5 1 3 4 3 2 2 4 1 4 5 2 2 3 4 3 2 2 5 4 5 4 1 4 2 4 4 1 3 5 3 1 3 4 5 3 5 4 1 5 4 5 1 2 1 2 2 4 1 4 3 4 5 2 1 3 4 2 4 1 1 5 5 5 5 1 2 1 1 5 4 1 1 3 2 4 5 2 4 5 3 3 1 1 4 3 1 1 5 2 5 5 4 1 1 3 3 5 5 1 3 5 5 2 5 4 4 4 1 1 3 1 2 2 1 1 1 3 5 2 3 3 1 2 4 1 2 3 1 4 4 4 5 5 5 2 4 3 2 5 3 1 3 2 3 4 3 4 1 2 2 2 4 3 5 3 5 2 1 1 4 2 4 3 2 3 4 3 4 2 5 1 5 4 4 5 2 3 1 4 1 5 4 2 1 5 4 3 5 1 3 2 2 5 2 4 2 2 2 1 5 3 5 2 4 2 2 5 1 4 4 5 1 2 1 5 5 5 3 4 3 3 4 2 2 3 2 1 5 2 3 2 4 5 4 3 4 1 5 3 2 1 2 5 3 4 4 2 3 2 4 4 4 2 4 3 2 3 2 3 2 1 5 1 3 4 1 2 5 5 5 3 1 5 2 2 2 4 5 5 4 1 1 2 1 3 5 3 4 3 5 3 2 3 5 3 2 2 3 3 1 2 2 2 3 4 1 5 2 5 3 1 3 3 5 3 4 5 3 3 2 5 4 3 4 5 2 3 3 2 4 5 2 2 1 5 3 5 3 2 1 3 4 3 4 2 3 1 1 1 2 4 1 1 5 4 4 1 4 4 3 2 5 1 3 4 1 5 4 4 3 2 4 4 4 4 5 2 5 2 5 4 3 2 1 2 4 2 3 3 5 3 1 2 2 4 1 5 4 3 5 5 5 2 2 5 1 1 2 2 2 1 4 1 2 2 4 3 5 4 3 4 4 2 2 1 2 4 2 2 1 4 4 1 2 3 2 4 4 5 2 4 5 1 4 4 3 3 2 5 4 3 5 5 5 5 4 1 5 2 3 3 4 4 1 5 2 2 5 4 1 5 1 2 4 3 1 4 1 5 2 1 2 4 2 1 3 1 5 4 4 5 1 2 3 1 2 3 1 2 4 3 3 2 2 5 3 2 3 4 1 4 2 5 1 4 2 4 2 3 4 5 2 4 2 4 5 4 5 5 4 2 5 1 3 1 5 5 2 1 2 3 5 3 4 5 3 2 2 3 2 5 5 4 4 2 2 4 3 1 1 3 5 5 1 2 4 4 5 4 3 3 4 5 3 1 2 3 5 3 5 5 2 1 1 3 2 2 2 4 3 3 5 2 3 5 2 2 4 2 2 4 1 2 3 5 4 2 1 3 1 4 2 4 4 1 3 3 4 5 1 3 5 2 5 1 1 3 1 4 5 1 2 5 5 1 1 1 1 1 4 4 1 5 3 3 3 2 2 3 2 4 4 1 4 4 5 4 4 2 3 4 4 1 3 1 4 1 5 3 4 4 3 3 3 4 1 2 2 3 4 1 4 2 3 4 1 5 3 1 3 3 1 3 5 4 1 3 4 3 5 3 1 2 5 3 3 5 1 1 4 2 4 2 5 2 5 2 4 1 5 5 4 1 3 3 5 5 4 4 4 5 2 1 2 5 3 4 1 4 3 3 2 2 3 4 2 1 1 5 1 2 4 3 3 2 2 4 4 3 4 5 4 5 4 2 3 5 2 3 1 4 1 1 1 2 1 1 2 4 3 5 1 3 4 4 1 5 4 2 1 4 5 3 3 2 1 3 2 1 3 2 5 4 2 5 3 3 1 3 5 1 3 5 3 5 3 1 4 2 5 2 3 4 1 5 2 1 2 4 2 1 2 2 2 5 3 2 2 1 5 2 3 4 1 5 4 1 4 2 5 1 1 3 5 5 3 3 1 3 2 2 1 1 5 2 4 4 4 3 3 5 2 5 1 1 4 1 3 2 4 3 4 2 1 2 1 5 3 1 2 1 5 1 1 5 5 3 1 2 2 1 3 2 3 2 3 3 3 2 5 2 2 2 5 3 5 2 2 1 1 1 1 1 3 1 2 1 1 3 2 1 5 2 4 3 2 1 1 3 3 1 3 3 4 5 4 5 4 1 2 4 1 1 2 1 1 3 2 2 5 5 1 5 2 1 2 2 4 2 4 1 3 1 4 4 5 1 2 3 5 4 3 5 4 2 2 2 2 1 3 2 4 2 5 1 1 4 5 3 1 2 1 1 4 3 5 1 5 4 1 2 4 4 5 3 1 2 5 5 5 4 5 4 5 2 1 2 3 3 3 2 1 2 2 3 4 4 1 1 5 5 3 4 5 4 5 5 2 3 2 5 1 3 5 4 4 3 4 2 3 5 4 4 1 2 3 1 2 4 1 3 2 5 2 4 2 4 1 5 3 4 1 5 4 3 2 1 1 1 1 2 2 1 3 2 1 3 1 1 1 3 4 5 1 4 1 3 4 5 2 2 4 1 4 2 1 4 1 5 4 2 4 3 4 4 1 4 3 4 4 3 2 3 5 5 2 2 4 4 1 1 5 5 1 5 1 4 5 2 3 1 4 5 3 3 5 1 5 1 2 3 1 3 2 1 2 1 2 4 4 5 1 1 4 1 1 4 1 5 1 5 4 3 5 5 1 3 3 2 2 4 4 3 1 5 5 2 5 5 5 1 4 3 4 1 4 1 1 5 5 4 4 1 3 5 4 2 4 5 1 3 5 1 1 1 4 4 2 2 3 3 3 3 1 3 5 5 1 4 5 3 5 2 2 1 3 3 5 3 5 5 3 1 2 4 5 1 4 4 5 4 4 2 2 4 3 4 1 4 4 2 2 2 5 3 5 3 2 3 4 5 1 4 3 2 3 1 2 3 1 5 3 1 2 3 2 1 1 5 4 5 1 1 4 2 1 4 4 5 1 5 2 1 1 5 5 4 2 5 5 3 1 5 3 4 1 5 2 2 3 5 4 2 1 5 4 3 2 3 3 4 2 2 2 3 1 2 4 1 2 4 5 2 2 4 5 2 3 1 5 3 4 3 3 1 3 5 4 1 3 4 2 2 1 2 1 4 2 1 5 2 4 3 4 3 5 4 1 2 4 2 1 5 5 4 1 5 5 3 3 1 4 3 1 2 3 1 4 1 5 4 2 2 5 2 3 3 2 2 1 3 5 4 1 3 4 2 5 2 3 4 4 5 2 1 5 5 1 1 4 4 3 3 3 1 3 5 3 1 1 4 2 4 2 5 5 2 4 3 4 3 3 2 5 4 5 4 2 1 4 4 5 1 2 1 1 5 2 1 1 4 5 3 4 1 1 2 4 2 1 1 2 4 3 5 1 2 4 5 2 3 1 5 3 5 4 2 1 3 2 4 3 4 4 5 1 1 1 5 4 3 5 2 3 2 3 5 2 1 2 3 2 2 2 1 4 2 3 5 1 4 2 5 2 3 1 4 4 4 5 3 1 2 1 3 3 4 2 1 3 2 4 3 2 1 2 4 5 1 1 4 5 3 1 4 5 1 4 1 1 5 2 5 4 1 3 2 5 4 2 2 2 4 2 2 2 1 4 3 4 4 5 1 2 2 4 2 2 1 2 4 5 5 2 4 4 5 4 4 1 5 1 2 3 5 4 5 5 5 1 5 4 4 2 3 1 2 3 2 3 3 2 4 3 3 4 1 4 3 3 1 4 5 3 4 1 3 3 5 3 4 3 1 3 1 2 5 2 4 4 1 5 2 4 5 2 1 5 4 1 3 3 3 1 5 3 3 2 2 3 3 2 4 3 4 2 4 2 5 4 3 5 2 2 4 3 4 5 3 4 3 1 2 3 4 2 4 4 3 4 5 1 3 3 3 1 4 3 4 5 4 3 4 2 1 5 4 2 1 5 3 4 1 2 2 5 2 3 4 5 1 4 4 3 3 1 3 2 3 3 4 5 1 3 5 5 2 4 2 5 2 5 3 2 4 4 5 1 5 3 4 4 4 4 4 3 4 1 1 4 5 4 3 1 4 3 5 4 1 5 2 4 3 3 1 2 3 4 5 5 1 3 5 2 3 1 5 4 2 3 5 3 3 5 1 3 4 3 3 2 4 5 1 3 1 1 3 5 4 2 1 2 4 5 1 5 1 3 1 1 4 4 2 4 2 4 2 1 3 4 5 3 3 2 2 2 5 2 5 2 2 5 4 2 3 3 3 3 4 4 4 2 5 5 1 3 2 4 2 2 5 3 2 5 5 4 1 3 2 2 3 3 3 1 5 5 5 4 1 3 1 5 4 3 4 1 4 2 5 4 5 2 5 3 1 3 4 1 1 5 4 2 4 3 4 4 5 5 5 4 5 1 1 3 5 4 1 2 3 1 3 4 1 1 3 2 5 5 1 1 2 3 5 2 3 2 5 1 3 4 2 1 5 4 3 5 5 2 1 1 2 5 1 2 3 1 5 5 3 4 3 2 1 2 4 2 5 1 4 2 5 1 2 5 5 1 2 2 2 5 1 2 1 2 2 1 4 2 4 2 1 4 3 3 4 3 4 2 5 2 2 5 4 4 5 5 4 5 3 4 2 5 5 1 2 2 2 3 2 4 1 5 2 3 2 1 3 5 4 1 2 5 3 1 4 1 4 1 3 5 5 5 5 4 3 3 4 3 5 1 1 2 2 4 3 1 1 1 5 4 4 5 3 3 3 1 2 4 2 5 1 3 2 1 2 2 2 2 2 4 1 1 4 4 5 3 4 5 2 5 1 3 1 5 1 1 5 4 3 1 5 2 1 2 5 1 3 1 5 3 1 1 4 5 3 1 5 2 2 1 4 2 5 4 3 3 5 2 5 5 5 5 2 5 4 1 4 2 1 1 1 2 3 5 2 2 5 2 5 3 2 3 5 2 2 4 2 1 3 3 3 5 2 4 5 2 1 5 3 2 2 1 3 5 1 2 1 4 5 4 1 5 3 2 2 5 2 5 5 1 4 4 3 5 3 2 3 3 2 4 4 1 3 4 2 2 3 5 2 2 2 1 3 3 3 1 5 4 2 2 2 2 2 3 4 3 1 2 1 4 1 4 3 1 4 4 4 3 4 1 5 2 1 5 4 5 4 5 2 1 1 2 2 1 1 1 4 5 1 2 4 2 3 2 2 3 4 1 4 2 4 4 3 1 3 4 1 2 3 3 5 5 3 2 2 2 5 3 3 1 3 1 5 2 5 4 5 3 4 5 2 4 1 5 5 4 3 1 2 4 5 3 5 3 1 1 2 2 2 4 4 1 2 2 2 2 3 1 3 3 1 2 3 4 2 1 5 1 3 5 2 1 1 5 5 3 3 2 2 1 5 2 2 4 4 3 2 4 5 4 4 5 4 4 3 4 1 5 4 1 3 5 2 5 3 1 2 2 3 5 2 1 5 1 4 2 5 3 5 4 2 1 4 2 4 1 1 5 3 2 1 3 5 1 4 3 1 2 4 3 2 5 1 3 2 3 1 3 5 1 5 3 2 3 1 3 4 2 2 1 1 2 2 5 4 5 4 3 1 4 1 4 5 1 5 5 4 1 3 5 3 3 3 3 4 3 3 1 4 5 4 2 5 1 2 4 5 5 5 2 2 1 2 5 1 2 4 1 3 5 1 2 3 4 4 3 3 1 2 1 3 3 4 1 2 2 2 5 1 5 1 4 3 4 4 2 3 3 2 2 5 3 4 3 5 1 3 4 4 3 4 3 5 4 2 3 3 2 5 4 5 1 2 5 5 5 3 5 3 4 1 1 2 3 1 5 4 2 3 2 4 3 5 2 4 5 3 3 5 2 5 2 3 2 2 2 3 1 5 2 2 3 5 5 3 5 3 1 1 5 5 3 2 4 5 5 2 3 2 5 3 2 3 1 1 2 5 2 1 4 2 4 5 5 5 3 2 4 5 5 1 3 5 1 3 4 1 2 5 4 3 3 4 4 4 2 2 2 1 2 4 3 4 2 4 1 4 4 1 5 2 1 5 2 3 2 5 2 4 4 4 1 2 1 1 4 1 4 4 3 3 5 1 2 1 3 4 1 2 3 3 4 2 4 3 3 2 5 4 3 1 2 3 5 1 5 5 2 4 5 4 3 3 1 5 2 3 4 2 2 1 4 3 2 5 1 3 3 5 5 3 1 2 1 4 4 1 2 5 3 1 1 4 4 1 2 2 4 5 4 5 4 1 1 1 3 2 3 3 5 5 4 5 3 4 5 1 1 4 2 2 3 4 5 2 4 3 1 1 1 4 3 1 1 4 2 5 3 3 1 3 5 1 2 2 1 4 1 4 3 1 1 1 5 3 1 1 5 2 5 5 1 5 4 2 5 4 2 2 2 4 2 5 4 5 1 5 5 2 1 2 4 4 3 5 3 3 4 4 2 1 4 2 4 2 5 3 3 4 2 1 1 3 3 1 5 1 5 4 2 3 4 2 2 2 4 4 4 3 1 5 5 1 1 2 2 2 2 1 2 3 2 5 5 1 4 3 3 3 5 4 4 2 2 2 3 4 5 2 4 2 1 2 4 4 3 5 1 1 4 1 4 1 5 3 3 2 1 1 4 1 1 4 3 3 5 5 3 2 1 4 1 2 3 4 1 3 1 5 3 4 1 3 5 4 3 1 4 1 1 5 1 5 5 5 5 4 5 4 4 1 5 1 1 2 3 2 5 5 2 1 4 5 2 3 5 4 5 4 2 3 2 5 4 5 3 5 4 4 5 2 5 4 1 3 2 4 4 5 5 3 4 3 5 4 2 4 2 3 4 2 5 5 5 2 3 2 1 4 3 3 4 4 1 3 1 2 2 5 4 4 2 2 3 4 3 5 5 2 4 1 3 2 4 5 3 2 5 1 1 2 4 4 2 1 1 2 4 1 1 2 1 2 1 2 3 5 3 4 5 1 2 5 2 3 1 1 5 2 3 3 5 1 1 4 2 2 5 5 1 1 1 2 2 1 3 1 3 1 5 5 3 1 4 5 2 3 3 4 4 1 4 5 4 1 5 5 2 1 5 2 4 3 5 4 2 4 4 5 3 4 1 3 5 5 4 3 3 1 4 2 3 2 2 1 5 5 1 2 5 5 1 5 4 2 1 4 4 4 1 3 3 1 1 2 2 3 4 4 5 1 1 4 5 3 2 1 5 5 5 5 1 5 4 1 3 1 5 4 4 5 5 2 3 4 3 4 2 2 2 5 3 5 4 3 2 4 2 2 1 4 1 1 3 5 5 5 1 4 1 5 4 4 4 3 1 1 2 3 1 3 3 5 1 4 5 4 1 2 3 3 1 1 1 2 3 2 4 5 5 5 1 5 5 5 4 5 2 5 4 4 1 2 5 2 2 1 4 4 5 1 1 1 2 5 4 4 1 3 1 3 5 2 1 2 3 3 5 1 2 4 1 5 2 3 4 4 3 3 1 3 3 4 2 2 1 5 3 2 3 5 5 4 1 2 2 2 4 5 3 4 1 3 4 3 1 1 4 5 5 1 3 4 5 4 2 5 4 3 3 5 4 4 5 4 3 2 1 5 5 1 4 3 4 1 4 5 5 4 4 5 1 2 5 2 4 1 3 1 1 2 4 4 1 4 1 5 3 3 1 4 2 4 4 3 1 4 4 1 4 3 5 5 2 2 5 5 5 5 5 2 1 2 3 5 5 2 3 5 2 1 4 5 2 4 1 3 1 4 5 5 1 3 3 4 3 5 1 5 2 4 3 1 2 1 1 1 3 1 2 3 4 4 4 4 1 2 5 1 1 1 5 5 3 3 2 5 2 1 5 3 4 4 5 5 2 3 1 5 1 3 5 3 1 2 3 4 5 2 5 5 1 5 3 1 5 3 2 3 3 5 1 5 4 3 3 5 2 1 2 1 1 5 4 3 5 4 1 3 1 1 2 1 4 3 1 5 5 3 4 2 5 5 5 2 4 1 2 3 5 1 4 4 1 4 2 3 4 4 4 2 5 4 3 2 1 1 2 4 1 2 3 4 2 5 1 1 1 3 4 1 3 5 3 3 5 3 5 5 3 1 5 5 5 2 5 4 2 3 5 4 5 3 2 3 3 2 4 4 1 5 4 5 4 2 2 1 1 3 3 5 1 1 4 2 1 2 4 3 5 5 3 3 5 5 1 5 3 4 5 4 3 4 4 4 4 3 2 1 2 5 3 4 2 3 5 5 3 4 4 3 4 4 2 5 4 2 3 3 5 1 4 5 1 1 3 1 4 5 4 3 4 5 3 2 2 5 4 1 3 1 5 5 4 1 3 4 5 4 2 4 4 3 2 5 2 2 5 4 2 1 2 2 1 4 4 2 1 3 4 5 2 2 4 5 4 2 3 2 1 3 4 3 1 1 5 1 5 4 1 1 4 3 1 5 1 4 4 5 3 4 3 4 4 1 4 5 1 4 4 2 1 4 5 5 3 2 5 3 2 5 2 3 5 3 2 2 5 1 1 1 2 2 4 5 4 3 2 2 2 5 3 1 5 2 1 3 2 1 1 4 5 3 1 5 3 4 3 5 2 5 4 3 1 2 3 5 3 5 4 1 2 1 4 5 3 3 3 3 5 3 5 5 3 2 4 2 2 5 2 2 4 1 2 2 4 5 1 1 2 5 4 2 3 4 2 1 1 3 2 3 2 5 4 2 3 4 2 2 2 5 3 1 5 4 3 4 2 4 3 3 4 3 4 5 1 3 3 5 2 2 5 4 1 1 5 2 1 4 2 4 2 3 3 5 5 1 4 2 2 3 1 1 4 1 4 4 5 3 4 4 5 2 5 4 5 2 1 2 2 1 1 4 1 4 2 3 1 1 3 2 1 4 1 3 5 2 5 1 4 5 2 4 3 2 2 3 1 4 3 2 1 5 4 4 4 2 5 2 5 4 2 3 1 4 1 5 3 5 4 1 3 5 2 1 3 5 1 3 2 3 3 1 3 2 1 3 2 2 2 3 2 2 4 4 2 3 1 2 4 4 3 2 4 5 2 3 4 3 2 3 2 4 1 2 4 1 2 4 2 1 2 4 5 3 2 3 2 1 1 5 4 4 2 1 1 2 4 2 3 2 2 5 1 5 2 5 2 3 3 3 3 1 2 3 4 1 4 4 2 2 5 4 1 1 4 4 1 3 5 4 4 3 2 5 4 5 1 3 3 4 2 2 1 2 2 5 1 1 3 3 3 4 5 1 5 5 1 4 5 5 5 1 5 5 5 4 5 4 2 5 4 1 4 2 5 3 2 1 4 3 2 4 5 1 5 5 4 1 1 3 2 1 2 3 1 3 4 1 2 2 5 3 5 4 2 5 5 2 1 3 1 5 4 2 3 3 3 5 1 1 1 5 3 3 5 5 4 4 4 2 1 4 2 3 3 4 2 5 4 2 1 5 1 4 1 4 3 2 4 5 4 5 4 1 2 5 5 2 3 4 3 1 5 5 4 4 3 5 2 5 5 3 5 3 3 1 5 5 1 1 1 5 3 4 4 1 4 2 1 2 5 4 4 3 5 2 3 1 3 4 3 1 2 1 5 5 5 1 5 2 5 1 5 1 2 5 4 3 1 4 4 4 1 4 4 5 4 1 3 1 1 4 4 4 5 2 1 1 4 3 5 3 4 2 3 2 4 5 1 1 3 1 1 4 5 3 4 5 1 1 1 4 4 4 2 2 3 3 1 4 4 4 4 1 3 3 4 5 5 5 4 4 1 3 3 5 5 5 4 5 4 5 3 3 2 1 5 1 3 3 2 2 1 5 5 3 5 3 1 4 2 5 2 4 5 5 1 2 1 4 5 3 1 2 5 5 1 5 1 1 4 5 2 4 5 5 4 2 5 4 3 4 1 2 2 3 1 5 3 5 5 5 2 2 3 3 1 3 2 2 5 4 1 5 3 2 5 3 1 5 5 5 1 5 2 3 4 4 1 2 3 2 1 1 5 3 2 2 5 3 2 2 4 4 2 3 5 2 3 3 1 4 5 5 1 2 2 2 5 1 3 4 4 5 4 1 3 2 2 5 2 3 2 2 4 1 3 3 1 4 1 1 5 3 1 2 3 3 2 4 4 2 5 1 5 5 3 5 1 1 3 1 3 3 2 4 3 1 2 1 3 4 5 4 5 4 1 3 5 1 5 4 2 4 2 2 5 2 4 2 2 5 5 3 4 5 5 1 5 5 1 1 1 5 4 1 4 4 5 4 5 3 3 2 4 1 5 4 1 1 5 1 1 2 3 3 2 5 4 3 5 3 3 5 4 4 5 5 3 3 5 3 5 1 1 4 4 4 2 3 5 4 1 1 4 3 4 5 3 4 3 4 5 5 1 1 2 5 2 2 2 2 4 2 5 5 5 4 4 5 2 5 4 3 5 5 2 2 5 3 2 1 5 3 2 1 4 1 4 1 1 5 1 4 5 5 1 4 5 1 4 3 2 5 5 2 2 2 5 3 5 2 4 4 4 2 1 3 2 2 2 1 2 3 3 1 2 3 2 5 3 5 5 4 2 5 4 2 4 1 3 3 5 5 5 5 4 5 1 1 3 5 3 5 4 4 2 3 2 3 1 5 3 5 3 3 1 1 5 1 5 4 2 1 5 5 4 3 3 2 5 4 5 2 4 3 5 2 5 3 5 2 2 2 1 1 3 2 2 1 1 3 1 3 2 4 2 2 5 3 1 5 4 4 2 4 2 1 5 3 4 2 1 4 1 1 2 2 4 5 3 3 4 3 4 2 2 2 5 2 3 4 4 1 4 5 1 3 3 5 5 1 5 4 5 5 1 2 2 2 4 2 5 3 2 4 1 3 2 5 3 1 5 4 2 4 3 5 5 4 5 3 2 3 4 3 1 4 2 1 4 3 4 4 5 3 4 3 5 3 2 3 5 2 1 5 3 3 4 4 5 1 3 2 2 2 4 3 5 1 2 2 5 5 2 2 3 2 1 2 4 4 2 3 1 5 2 1 3 2 4 2 2 1 2 2 1 4 5 5 5 3 5 1 1 3 5 3 1 4 2 1 4 4 3 4 3 5 5 3 1 3 5 5 3 4 2 4 3 2 3 4 1 4 2 3 1 1 2 4 1 3 3 2 4 5 2 3 4 1 1 4 3 3 5 2 4 1 3 3 3 4 1 1 3 1 5 5 5 5 3 3 3 5 3 3 2 1 4 1 3 4 3 2 4 3 2 2 1 2 3 3 1 3 4 2 5 3 2 1 3 3 5 4 5 5 2 5 2 1 2 1 4 5 3 3 3 4 2 4 5 1 1 4 4 2 2 3 2 2 5 1 3 4 3 3 4 1 2 5 1 3 2 3 1 3 5 3 2 3 1 2 4 4 3 1 3 1 1 3 3 5 5 4 3 2 4 3 1 4 3 1 1 3 1 5 4 4 1 3 4 3 5 1 5 4 1 2 2 5 1 4 1 1 1 1 5 1 1 5 4 5 4 3 5 2 3 2 1 3 2 4 3 1 4 3 4 4 2 3 2 5 3 3 4 4 5 2 2 2 2 1 2 1 2 1 5 1 1 5 4 3 2 5 3 3 3 5 3 4 3 2 4 1 1 5 2 4 5 5 5 5 1 1 2 3 1 1 2 3 4 3 4 5 5 4 4 4 3 4 5 2 2 1 4 5 5 3 5 1 4 5 2 5 1 4 4 3 3 1 4 1 2 1 3 1 5 3 5 1 2 1 5 1 4 1 1 1 5 5 2 4 1 2 4 1 4 3 5 5 5 5 2 5 3 4 5 4 5 1 4 2 5 1 4 2 4 4 3 4 3 4 2 4 1 5 3 2 4 4 1 5 1 5 4 5 4 5 5 5 2 1 4 2 2 1 4 3 2 4 2 2 5 4 5 4 1 1 1 4 4 4 2 1 2 1 2 5 2 4 1 2 3 1 1 1 5 2 5 4 3 4 3 2 4 4 4 5 1 5 2 3 3 2 5 1 3 4 4 3 1 1 2 4 2 1 5 5 2 2 3 1 1 5 5 3 5 1 5 5 4 5 1 3 2 4 3 5 5 1 3 4 3 3 4 4 3 1 2 2 4 4 3 4 3 4 1 5 1 5 5 3 2 4 2 1 4 1 4 2 5 4 3 2 3 1 4 3 5 3 2 1 4 3 1 5 1 2 3 1 4 5 3 4 4 2 5 1 4 5 3 2 3 5 1 5 5 4 4 4 4 1 5 4 4 4 1 5 3 4 1 1 4 4 2 3 5 5 5 1 1 3 5 2 2 2 3 4 4 1 4 1 3 5 5 5 1 5 1 1 5 4 4 3 3 3 3 4 4 3 2 3 1 2 3 5 5 5 5 4 3 2 4 4 5 5 3 1 1 5 1 2 2 4 5 2 5 4 4 1 4 5 1 5 1 5 5 3 5 3 3 3 3 5 3 2 3 1 2 3 5 4 1 5 3 5 4 2 2 1 4 1 2 3 1 3 2 4 4 2 4 1 2 4 1 5 2 1 2 2 2 4 5 1 2 3 1 5 1 3 2 3 4 1 4 2 5 4 2 5 2 1 5 4 4 4 1 5 4 4 4 2 4 4 2 5 2 1 3 2 2 5 5 3 1 5 4 2 1 5 4 2 2 2 4 5 1 5 4 3 2 3 1 2 2 3 1 1 1 5 3 2 4 1 2 5 5 1 5 5 2 2 5 1 2 2 4 2 4 4 4 4 5 2 5 3 2 3 1 2 3 5 4 1 2 1 1 5 2 3 3 2 4 2 4 5 2 1 2 5 2 4 4 1 3 4 4 5 1 1 5 4 4 4 2 4 1 4 1 3 4 1 4 4 2 1 2 3 5 5 3 2 2 5 4 2 1 2 4 4 2 4 1 4 1 5 5 4 5 2 4 2 1 3 1 4 5 2 1 3 4 3 5 3 4 1 5 1 4 2 2 4 1 4 4 5 4 4 4 3 5 2 4 3 1 3 4 1 1 2 3 5 2 1 5 2 1 3 5 3 3 2 5 5 1 2 2 3 1 1 4 1 5 2 4 3 2 1 1 5 2 5 4 4 1 5 1 2 4 3 4 2 3 4 5 1 3 5 2 2 1 2 1 2 2 5 3 1 4 2 2 1 5 2 1 3 1 1 3 5 3 3 4 5 5 1 3 5 1 2 1 1 1 2 1 1 5 1 5 5 2 1 3 5 5 2 5 5 4 1 2 1 1 2 5 5 5 2 1 4 2 1 1 3 4 4 3 5 4 3 4 1 5 5 3 4 2 3 1 1 3 4 4 3 4 1 3 1 1 3 5 2 1 4 4 4 4 5 3 5 5 4 1 2 4 2 1 4 2 4 2 2 2 4 3 3 5 2 2 3 1 1 1 2 3 5 3 4 3 1 4 4 1 5 2 2 1 4 1 4 3 4 1 2 3 2 5 1 3 4 4 5 5 1 1 1 3 5 2 3 5 2 1 3 5 1 4 4 2 3 3 4 5 3 2 1 4 5 3 5 1 1 1 5 3 4 5 1 5 4 1 5 1 2 4 1 4 1 3 4 4 5 3 1 1 3 4 4 3 5 5 2 3 4 3 5 1 3 4 2 4 3 3 3 1 4 1 3 4 2 3 1 2 1 5 5 3 1 1 2 5 5 4 4 1 4 1 5 3 5 1 4 4 4 5 5 2 2 4 5 1 4 5 3 1 5 1 2 2 1 3 4 1 3 2 1 5 2 2 2 3 3 4 2 4 1 3 2 2 1 3 5 5 2 4 1 1 4 3 1 3 3 4 2 3 3 4 3 3 3 5 5 2 4 4 2 2 2 4 5 5 3 5 2 1 4 1 5 5 2 3 4 2 5 4 5 1 5 3 1 1 3 4 4 1 3 2 3 2 2 5 4 5 2 1 2 2 3 3 2 2 5 2 1 2 1 5 2 3 2 4 1 3 3 2 5 4 2 1 2 1 2 3 1 3 4 4 5 1 3 3 5 5 3 2 2 4 5 2 4 2 1 1 1 1 5 4 1 1 4 1 1 2 4 5 4 1 5 3 4 3 3 5 5 3 4 4 5 1 4 2 4 5 2 3 1 4 4 4 3 3 3 2 2 5 4 5 4 3 1 2 3 5 5 1 5 4 2 5 2 2 1 3 1 5 5 3 5 4 2 1 5 1 1 3 2 3 1 5 1 5 4 1 1 2 5 2 2 5 3 4 5 2 4 1 1 2 2 5 4 2 1 5 1 5 3 5 5 2 3 3 2 2 1 2 2 2 3 3 2 3 3 3 3 5 3 3 2 5 3 4 2 3 3 1 5 3 3 4 4 2 2 3 2 4 5 1 5 5 5 3 1 3 4 5 2 3 5 1 5 3 3 5 4 1 3 2 1 1 2 5 2 2 1 1 1 5 1 5 1 3 2 2 3 1 1 2 5 3 4 5 4 4 5 5 1 1 3 4 3 5 5 3 5 4 1 1 1 4 3 3 3 2 4 1 2 2 3 1 1 3 2 2 4 3 2 4 1 4 5 4 3 3 4 2 2 5 3 3 4 5 5 3 4 2 2 4 5 4 3 2 2 3 4 2 1 1 1 5 4 5 4 3 4 2 2 3 5 2 3 4 3 5 5 5 1 1 4 2 3 4 2 3 2 3 4 3 3 4 3 1 1 5 4 4 5 1 2 2 3 4 5 4 2 5 5 2 2 2 1 1 2 1 2 2 2 5 2 5 1 2 1 5 3 4 2 1 3 1 5 4 3 2 4 4 4 1 1 2 1 1 3 3 3 4 5 2 5 4 5 4 4 5 3 1 1 3 1 3 4 4 2 3 5 2 4 1 1 5 5 5 1 4 1 1 3 1 1 1 5 2 5 5 3 1 3 5 3 3 3 5 2 3 1 3 3 4 4 4 5 4 1 5 1 4 5 1 4 4 5 2 2 4 1 1 2 2 3 2 4 3 5 2 2 3 3 5 5 2 3 2 2 3 3 1 4 3 3 4 5 4 5 5 5 5 3 1 1 4 3 3 4 4 3 3 2 4 4 3 4 3 4 1 4 2 2 1 3 1 5 2 1 1 4 4 3 1 5 4 5 1 4 4 4 1 1 4 4 1 1 3 5 3 2 4 4 5 4 1 3 5 2 2 4 4 1 5 2 5 1 3 3 1 4 2 5 1 2 5 3 5 4 4 2 2 5 3 4 5 2 3 4 4 1 5 3 4 1 3 1 3 4 3 4 2 5 4 2 1 5 1 1 3 2 3 3 4 3 2 5 2 2 1 2 5 1 2 2 2 2 1 5 1 1 3 1 5 1 5 3 5 2 5 2 4 4 5 5 2 3 2 2 3 1 4 5 2 4 5 5 3 3 3 4 2 1 4 1 5 1 5 5 5 2 4 5 4 4 3 1 5 3 2 4 1 4 1 2 3 5 3 1 4 2 1 2 4 3 3 2 1 5 5 2 3 3 1 4 2 4 4 2 2 3 2 3 5 2 5 3 5 1 1 5 1 3 4 2 5 2 1 2 4 3 5 4 1 2 4 2 4 1 2 2 5 2 1 2 4 3 5 1 1 2 2 2 3 3 1 1 4 4 3 4 3 5 4 2 2 2 4 4 2 4 2 3 4 5 3 5 3 3 5 2 3 2 2 5 4 2 2 1 2 5 4 3 3 4 4 4 1 1 5 2 2 1 1 1 1 2 1 3 3 4 4 3 1 2 2 5 2 4 5 4 2 4 3 3 4 5 5 2 4 1 5 2 5 4 1 2 3 4 5 5 1 1 5 4 5 4 5 3 2 3 3 2 1 3 4 1 1 5 4 5 5 2 1 1 5 2 3 1 4 2 2 2 4 5 1 5 1 4 5 5 1 1 3 5 1 2 4 2 2 4 5 4 5 5 2 4 2 5 4 1 2 5 3 3 5 5 4 2 5 1 4 4 3 4 5 1 2 5 5 2 4 5 3 2 2 1 4 3 5 1 2 3 3 3 3 2 1 4 4 3 1 3 4 5 3 1 1 5 4 4 1 3 5 5 3 4 5 5 3 1 3 1 1 2 5 5 3 2 1 4 1 3 2 5 5 4 4 5 3 5 4 5 2 1 5 3 2 2 4 2 4 1 2 5 5 2 4 4 4 2 4 1 3 4 3 1 3 4 4 4 3 5 4 1 4 4 3 5 1 3 4 1 1 1 4 1 3 1 1 4 3 4 5 4 5 5 5 2 4 3 4 5 4 2 1 3 5 2 3 3 4 1 1 1 1 4 3 4 1 5 3 2 1 5 3 3 3 4 2 2 3 4 5 2 5 2 3 5 4 3 2 3 4 4 4 1 3 3 2 2 5 2 1 1 4 3 5 4 2 4 1 1 2 5 5 3 2 5 1 1 5 1 2 5 5 4 2 4 4 1 2 3 3 1 3 5 2 4 2 4 1 3 2 1 4 4 1 2 4 4 5 2 4 3 5 4 5 4 1 3 4 3 1 3 3 3 2 1 1 4 2 3 3 3 5 4 4 2 5 1 5 4 3 5 5 2 3 4 4 5 1 5 1 1 4 1 4 1 5 5 1 4 1 5 4 2 4 2 2 3 2 2 3 4 2 2 1 5 4 4 3 5 5 1 4 1 2 2 1 5 3 1 5 4 2 4 3 1 5 1 4 5 2 4 2 1 3 4 3 2 3 5 1 4 1 3 2 3 2 3 3 1 5 2 1 2 4 3 4 2 1 4 3 3 1 4 1 1 3 3 3 3 2 3 2 4 1 3 3 3 4 4 3 2 2 5 4 5 5 5 2 1 1 1 1 3 1 1 1 3 3 3 4 1 4 5 1 2 4 1 3 1 3 3 3 5 2 1 3 5 2 2 2 4 4 3 4 3 4 3 3 2 5 1 5 1 5 4 3 3 5 3 5 3 2 2 4 3 3 1 3 1 5 3 3 4 3 3 2 4 3 2 5 3 5 4 3 1 3 1 3 3 1 3 3 4 3 2 2 2 1 3 1 1 1 4 1 1 4 3 5 2 3 1 5 3 5 5 2 1 4 1 4 5 5 5 4 3 5 1 5 2 3 2 5 4 2 5 5 2 2 4 3 4 1 1 1 5 4 4 1 1 2 3 5 4 3 5 1 2 5 5 4 2 5 2 4 5 2 2 1 2 4 3 5 5 1 4 4 5 4 3 3 2 3 3 1 2 5 1 4 4 5 3 1 2 2 1 1 5 4 4 2 1 5 5 5 4 3 1 3 2 4 5 2 3 4 3 1 2 5 2 2 4 5 1 4 4 4 2 5 4 3 3 3 4 2 1 3 2 1 2 3 1 4 2 4 4 5 1 2 4 1 5 2 5 3 3 4 4 2 2 4 2 3 5 5 5 4 4 3 1 4 4 2 1 2 5 4 3 5 5 5 3 4 2 1 1 4 4 2 3 5 4 2 1 4 4 1 5 5 2 2 5 3 5 3 3 1 5 2 3 2 4 3 3 5 2 5 4 5 3 5 2 5 4 4 3 4 1 3 4 5 2 4 4 3 1 2 1 5 4 4 3 1 1 4 1 4 4 1 2 4 1 1 3 2 4 5 5 5 5 4 4 4 2 5 2 1 1 2 1 1 1 5 5 5 3 5 2 1 3 1 5 5 4 4 4 3 3 1 3 4 3 5 1 3 1 3 4 3 4 2 4 5 3 3 1 2 5 4 3 1 5 2 3 2 3 4 4 4 1 3 3 2 1 4 1 2 3 2 4 5 4 4 3 4 5 2 2 5 4 3 2 4 5 2 4 2 4 3 3 2 4 3 4 4 2 1 3 3 1 5 5 2 3 4 1 4 5 5 3 4 3 1 3 4 5 4 3 1 1 2 5 4 3 1 3 2 1 2 3 5 3 5 4 4 4 1 4 2 4 5 1 5 2 2 5 2 3 3 2 3 3 5 1 1 4 2 1 5 1 2 1 3 5 1 5 5 1 1 4 1 2 4 5 4 5 2 3 2 5 4 4 5 2 5 3 1 5 5 2 3 4 4 1 1 5 2 4 5 2 2 3 1 3 2 4 5 2 1 4 3 3 3 2 2 5 1 3 2 4 3 3 5 3 3 2 2 3 5 2 2 2 2 1 4 1 1 4 1 3 4 3 4 1 2 3 4 4 2 1 2 5 4 5 5 4 5 3 1 2 2 5 2 4 2 3 3 1 3 2 5 4 4 4 5 4 4 1 1 1 5 1 4 1 5 3 4 1 2 4 1 2 4 3 2 5 5 2 5 4 4 3 4 3 5 5 1 5 1 5 1 4 4 1 2 2 1 3 4 4 4 3 3 1 2 4 5 3 3 2 5 3 4 5 3 2 4 4 3 5 2 4 5 4 3 4 5 2 2 5 2 1 4 5 3 4 4 5 2 5 1 3 1 3 3 3 2 1 3 2 3 1 4 5 5 3 2 2 4 4 4 4 2 3 5 3 1 3 1 4 4 3 5 3 2 5 2 5 4 2 3 5 5 3 4 3 3 2 4 4 1 2 2 2 4 1 2 4 4 1 3 1 3 2 2 3 4 3 1 4 3 3 4 3 1 3 2 1 2 3 5 3 3 4 3 5 4 2 2 3 3 3 1 3 2 2 3 5 3 1 3 1 3 2 2 1 1 1 2 4 1 2 2 1 2 2 4 2 4 4 5 5 3 5 5 5 2 2 2 4 5 1 5 4 4 3 5 2 4 2 2 2 1 2 4 5 3 1 5 4 5 5 2 2 4 4 4 1 1 4 2 5 5 3 2 3 4 4 4 3 5 3 4 5 1 4 4 4 1 5 3 5 2 5 2 2 2 2 2 3 4 2 3 2 3 5 3 5 4 2 1 3 1 3 4 2 4 2 3 2 4 5 2 4 5 5 4 3 2 2 1 1 3 4 1 3 5 3 1 1 2 1 5 4 3 3 3 3 4 4 3 4 1 5 3 1 1 2 1 4 5 5 5 1 5 3 2 4 5 2 1 1 3 4 4 1 5 5 3 2 1 1 3 2 1 2 3 5 1 4 2 1 5 5 2 3 2 1 4 3 5 3 1 4 2 5 4 1 1 1 5 5 5 5 2 4 5 2 4 3 5 2 4 5 5 4 2 1 3 5 5 4 3 1 1 2 3 4 4 4 3 3 2 1 4 5 3 5 1 1 4 3 5 5 2 3 5 4 5 3 1 1 1 4 3 5 3 2 5 4 3 1 5 1 3 1 4 3 5 1 3 4 2 3 2 4 1 1 2 5 2 1 1 5 1 4 3 1 3 1 2 2 3 3 3 2 4 1 5 1 2 3 3 5 4 4 4 2 5 5 4 1 4 2 4 4 5 1 5 4 5 2 4 3 1 4 1 4 1 2 2 1 4 1 3 4 4 5 5 3 4 5 1 2 2 3 2 5 4 4 4 1 5 3 4 2 4 4 1 2 3 1 3 5 3 3 1 1 5 4 3 1 1 3 1 3 2 4 5 5 3 3 1 1 3 5 3 1 1 1 3 1 3 4 1 1 5 3 4 5 2 4 3 3 2 1 4 1 4 2 3 3 3 5 5 2 2 1 4 2 5 3 3 1 1 5 5 2 3 4 3 2 3 2 4 2 2 5 3 4 3 3 3 3 1 4 3 4 4 2 1 4 4 4 5 1 3 5 4 2 4 1 2 2 3 2 1 4 5 4 1 5 1 2 5 4 2 5 3 1 2 3 3 5 4 2 2 1 3 1 1 4 4 1 4 4 5 1 2 3 5 5 4 5 2 1 2 3 5 2 5 2 2 1 5 4 1 2 5 2 3 5 5 2 5 5 2 2 4 4 5 2 2 4 1 1 1 4 1 3 4 5 2 3 1 3 5 1 3 3 5 3 1 3 3 5 1 3 4 3 1 5 5 3 5 5 4 2 4 3 4 3 5 1 5 5 5 5 4 4 1 5 4 3 3 5 1 3 4 1 3 2 1 5 4 4 3 3 2 4 2 3 1 1 4 5 4 5 2 2 5 4 5 4 2 1 5 3 4 1 1 2 4 5 1 1 1 1 2 2 2 1 1 1 3 3 1 4 4 2 3 3 4 4 3 5 5 2 4 3 3 5 4 1 5 3 2 5 3 5 4 2 1 2 2 5 1 3 3 4 2 5 3 3 2 1 4 5 2 3 1 1 3 4 4 4 1 2 2 3 5 2 1 1 2 4 1 4 3 2 4 3 3 5 1 4 1 5 5 1 3 2 3 3 1 3 1 2 3 2 4 4 4 2 5 2 5 5 1 4 4 1 5 5 2 5 1 5 2 5 4 3 2 1 2 5 1 4 1 5 1 3 1 5 1 2 5 2 5 3 3 4 3 1 3 1 5 1 5 2 1 2 4 1 5 4 1 5 5 1 4 4 3 3 5 2 5 1 4 4 4 4 1 5 5 4 3 2 2 2 3 3 2 3 5 1 3 4 5 3 2 1 3 1 4 3 2 2 2 5 3 4 1 4 5 3 4 3 2 3 2 5 2 5 4 4 4 2 1 2 3 3 4 2 1 4 2 2 3 3 5 4 5 5 4 2 2 5 1 1 3 1 2 3 5 5 5 2 3 5 4 3 2 2 4 2 4 1 4 1 1 4 1 1 2 1 2 2 5 2 2 1 4 3 1 3 4 2 2 4 4 2 4 2 5 1 3 3 3 2 3 1 5 5 4 4 2 5 1 4 1 1 5 3 2 4 4 3 2 5 3 2 5 3 3 5 1 4 1 1 2 5 4 5 1 4 5 5 3 3 4 2 4 5 4 3 5 3 3 2 3 2 3 3 5 4 2 2 4 3 2 1 5 3 1 3 5 3 4 5 3 5 1 1 3 5 1 2 5 4 2 2 5 2 4 1 1 1 5 3 5 4 1 3 4 5 4 2 1 5 4 3 5 4 5 3 2 3 1 3 2 5 2 3 4 3 3 1 4 1 1 3 5 3 3 1 2 4 5 3 5 2 3 5 1 5 2 3 3 3 4 1 5 1 4 3 3 3 5 5 3 4 2 4 5 3 3 5 1 5 2 1 5 2 2 3 5 3 5 2 1 4 3 4 4 5 2 2 4 5 1 4 4 4 3 5 2 3 3 1 4 2 3 4 5 3 3 1 4 1 3 4 5 4 5 2 3 1 4 1 4 4 4 4 1 2 2 2 3 2 3 3 1 3 4 2 3 2 4 3 3 1 2 4 1 4 1 5 1 3 3 4 5 5 3 3 4 1 2 5 3 5 4 5 3 4 1 4 1 5 5 5 4 5 5 2 1 3 3 5 5 2 5 2 2 3 5 5 5 1 1 2 4 2 1 1 2 5 3 1 5 4 3 1 4 1 1 4 5 2 3 3 1 5 3 4 3 2 4 4 4 3 3 4 3 5 1 2 2 4 1 3 3 3 1 5 1 2 2 2 4 4 4 4 3 1 5 2 5 5 5 3 3 5 3 2 2 4 2 4 4 5 5 3 1 5 3 2 3 2 4 5 2 4 5 3 3 5 2 5 1 2 4 4 5 3 4 3 5 1 3 4 5 4 3 1 2 1 5 5 2 2 5 4 5 4 4 5 4 5 4 3 1 4 3 5 5 3 3 4 4 5 5 1 5 3 2 2 5 4 3 2 4 4 2 3 5 4 3 2 1 4 1 4 4 4 4 2 5 5 4 1 5 5 4 1 3 4 5 5 1 3 4 4 1 3 5 2 2 1 1 3 1 3 1 4 1 4 4 5 2 4 4 3 2 2 4 3 4 2 3 4 4 2 4 3 5 2 4 5 5 3 4 1 1 4 2 3 3 4 3 3 4 2 1 5 5 4 3 3 5 4 1 3 1 4 1 3 1 5 3 4 4 3 4 2 2 3 3 3 4 5 3 2 5 2 4 2 5 2 5 4 1 4 3 3 1 2 4 3 5 4 3 5 3 3 5 2 5 3 3 5 5 1 4 3 3 2 1 3 2 1 4 1 1 3 3 4 1 5 1 1 1 4 5 1 4 2 1 3 2 5 5 4 2 2 5 1 3 2 1 3 1 2 5 3 3 4 5 1 3 2 1 3 4 3 5 2 3 1 4 5 4 1 1 2 1 5 5 4 5 2 1 5 5 2 3 1 2 4 5 1 4 2 2 3 2 1 1 2 2 2 1 2 2 1 3 5 3 3 4 2 2 1 2 4 3 2 2 1 5 1 4 4 4 3 4 5 4 1 5 4 1 1 4 3 1 2 5 3 2 4 2 3 5 5 4 2 5 4 4 5 4 5 5 1 5 4 3 5 2 5 2 3 4 5 3 1 5 4 3 5 2 1 2 3 4 4 2 3 2 2 4 3 4 2 4 1 3 4 2 3 3 1 2 4 1 5 2 4 3 2 2 1 1 5 2 1 5 1 4 2 4 3 3 2 4 3 1 4 2 1 2 3 5 5 3 2 2 2 2 2 3 4 4 4 1 4 4 2 4 3 4 3 5 5 4 1 2 2 4 5 3 2 2 2 1 5 3 3 5 3 2 5 3 5 3 1 1 5 1 2 1 3 2 5 2 5 1 2 4 1 1 1 3 4 1 4 4 1 2 5 3 2 3 5 4 2 3 4 3 5 1 2 4 1 3 3 5 1 1 3 4 1 1 5 1 5 3 4 2 2 2 2 2 4 4 3 5 2 1 3 5 1 3 3 3 4 3 3 5 2 3 1 1 5 5 5 1 1 2 1 5 2 5 1 3 4 5 5 3 2 3 1 1 1 3 4 2 3 3 5 5 5 5 3 2 4 2 5 4 2 4 5 5 3 2 1 1 4 5 4 2 5 5 4 2 2 4 4 4 5 1 1 1 3 1 1 2 3 2 5 2 5 1 5 4 3 1 3 1 1 2 2 4 5 1 3 3 4 5 3 3 2 4 1 3 4 2 5 3 5 4 1 3 3 3 1 1 3 1 5 5 2 1 5 2 2 3 1 3 3 4 5 5 5 4 2 4 4 4 5 2 5 5 5 1 1 5 3 3 5 3 5 2 4 1 3 5 1 5 4 2 5 5 3 2 2 1 5 2 5 3 3 5 2 4 2 4 5 2 5 4 2 3 3 1 2 1 3 4 2 1 5 1 1 3 5 1 2 4 5 5 3 3 3 3 5 5 5 5 4 3 2 4 5 5 1 5 2 1 3 3 1 1 1 1 4 4 2 2 2 5 2 4 1 2 2 3 2 2 4 1 5 2 4 4 2 1 2 4 2 2 3 3 5 3 1 1 1 1 1 4 2 3 2 5 1 4 1 1 4 2 1 5 2 3 1 1 5 4 4 5 1 3 2 5 2 2 4 1 1 1 5 4 1 1 3 4 3 3 4 4 1 4 4 1 3 2 4 3 3 5 3 5 3 1 2 1 5 3 4 4 4 5 2 1 4 2 3 1 2 5 2 2 4 1 5 4 3 5 5 5 3 5 4 1 1 2 5 1 2 1 1 5 5 1 5 4 2 5 1 5 1 1 5 4 5 2 1 5 3 5 4 3 4 2 4 5 2 3 4 5 2 5 4 3 4 3 1 1 3 5 2 3 5 4 1 2 1 4 5 4 4 3 1 3 3 2 2 5 4 4 3 5 4 2 4 2 5 3 4 4 4 5 1 2 4 4 1 4 2 2 1 1 5 4 2 3 3 2 1 5 4 2 3 4 2 1 2 2 2 5 2 3 3 1 3 5 1 4 4 2 2 4 4 3 5 3 2 4 3 1 2 3 2 3 5 3 5 5 2 5 1 4 2 5 4 5 1 5 5 4 1 4 5 2 4 5 2 5 2 1 3 4 3 2 1 1 2 4 2 2 5 5 3 5 5 1 1 3 1 1 5 1 4 5 5 2 3 4 2 5 3 4 3 1 4 4 1 5 4 2 1 3 5 4 3 4 3 4 4 2 5 2 3 4 5 2 1 3 4 3 1 4 3 3 5 5 2 3 5 4 3 5 4 3 2 5 3 2 3 5 2 4 4 3 1 5 2 4 5 1 2 5 1 1 3 5 5 4 1 4 2 3 5 4 1 3 1 3 5 4 5 1 4 5 2 3 5 2 2 4 3 4 4 1 3 3 3 3 3 2 4 3 3 5 1 5 3 5 4 1 5 3 4 5 2 5 2 3 4 4 4 5 1 3 1 1 4 2 3 3 5 1 5 4 1 5 3 1 3 1 5 4 3 2 3 4 3 1 4 5 5 5 5 4 5 3 5 5 5 5 4 5 1 2 3 1 3 5 3 4 3 2 2 3 5 1 2 2 2 4 2 3 4 4 1 5 2 5 1 2 4 4 4 2 4 3 5 5 1 1 5 1 4 1 1 4 1 4 5 3 3 4 4 1 3 5 1 2 2 5 3 4 2 1 3 5 3 1 4 5 5 4 3 1 5 2 2 4 4 5 3 5 1 2 5 2 1 5 5 3 2 4 4 5 5 3 2 4 4 2 4 1 2 2 5 5 4 4 2 2 4 4 3 5 1 1 5 4 2 4 4 3 5 2 5 3 3 1 3 1 5 5 2 4 4 5 5 5 5 2 1 3 5 5 4 3 1 2 2 3 2 5 1 2 1 4 5 4 5 5 3 1 3 2 2 4 1 1 2 3 2 2 1 2 5 4 1 2 2 2 1 3 5 1 1 4 5 1 2 2 1 1 4 4 4 1 4 4 5 2 2 2 5 4 3 4 1 3 3 4 2 2 4 2 5 1 1 5 5 4 1 5 3 1 3 4 2 3 3 3 3 5 3 2 5 3 2 3 5 4 1 5 1 3 2 3 4 1 2 1 2 2 5 1 2 3 5 1 3 1 1 4 3 3 2 3 3 1 3 2 1 1 1 3 2 4 5 4 2 3 4 2 3 5 2 2 5 2 5 5 3 2 5 5 3 5 1 4 4 2 2 4 1 4 4 3 5 3 3 5 3 1 2 4 4 5 4 3 3 1 3 5 5 5 4 1 4 1 2 5 4 1 1 5 4 2 2 4 1 1 3 3 4 5 1 1 1 5 2 4 3 5 1 5 5 2 3 5 5 2 4 5 1 2 1 3 1 3 5 1 5 1 4 1 2 5 2 4 5 4 3 4 1 5 1 3 4 2 5 1 1 4 3 4 3 5 4 5 2 3 3 5 5 2 2 5 5 5 2 4 5 2 1 1 1 3 2 4 5 1 2 5 4 3 3 4 1 3 2 4 4 2 3 4 5 2 2 3 5 4 3 5 1 2 5 2 2 5 2 2 4 1 3 3 5 3 3 1 4 5 4 4 1 5 3 1 2 2 5 5 4 2 5 2 3 2 2 4 1 2 5 2 1 2 3 2 1 3 3 3 2 3 1 1 5 3 2 2 1 4 1 3 2 5 1 4 4 3 2 3 5 3 5 5 4 3 5 2 5 4 1 5 3 2 4 2 3 2 3 4 4 2 2 1 3 2 3 1 5 2 5 1 4 2 3 4 5 2 4 1 3 5 1 1 5 4 2 2 3 5 2 5 3 2 5 4 4 3 3 5 3 4 2 3 2 2 4 4 3 3 3 5 5 1 4 1 3 5 1 1 2 1 1 1 5 3 5 4 4 3 1 1 5 1 5 2 1 2 4 1 2 1 4 2 1 3 3 3 2 4 4 1 5 4 1 2 5 4 4 1 4 3 5 4 2 1 5 2 3 3 4 2 2 3 2 4 2 5 5 4 3 1 3 3 1 5 3 4 1 4 2 4 3 4 2 1 3 3 4 4 3 3 4 5 3 4 2 1 1 5 4 2 5 3 2 5 3 1 5 4 3 4 4 5 5 5 2 4 3 3 3 2 3 4 2 1 1 2 3 5 4 3 3 1 3 1 1 2 1 4 3 1 3 5 2 4 2 1 4 4 4 1 1 3 4 5 1 1 4 1 3 4 5 2 3 2 3 5 5 4 3 4 2 4 5 3 4 4 5 1 4 3 2 2 4 4 4 3 5 2 3 3 4 3 3 4 2 2 2 1 1 5 3 2 4 4 5 1 3 4 4 4 1 4 3 1 4 3 1 1 5 1 2 2 1 3 5 5 2 1 1 4 5 2 3 4 2 5 4 5 3 1 5 4 2 3 2 1 4 2 3 2 3 1 2 5 4 5 4 3 5 3 3 1 5 5 4 1 5 3 1 5 3 4 3 1 4 2 2 2 2 1 5 2 1 3 1 5 5 4 1 3 4 3 2 3 1 4 5 4 4 5 1 2 3 1 4 5 1 1 4 5 1 1 1 4 2 3 5 5 2 4 4 5 5 2 4 5 1 3 5 2 2 2 3 5 5 5 5 4 1 1 1 1 2 5 1 3 5 4 2 1 4 3 2 1 2 5 2 3 1 3 3 1 3 2 3 5 4 5 3 1 2 3 5 1 1 1 4 5 4 4 5 5 4 4 1 3 5 3 2 2 1 2 5 2 3 3 1 4 5 3 4 4 5 4 3 1 3 3 3 1 1 1 2 1 3 2 2 1 3 4 5 2 5 3 4 1 1 5 4 5 5 1 4 4 2 4 5 3 2 5 3 3 1 2 2 1 3 2 1 3 3 2 1 2 3 5 3 3 1 2 5 4 2 1 3 4 4 2 5 4 2 5 1 3 2 4 3 2 5 5 5 3 1 1 4 2 5 5 3 5 4 5 3 5 5 1 3 5 5 4 2 1 5 1 5 4 5 1 1 5 2 2 2 1 1 1 1 1 5 2 2 3 3 1 3 3 4 1 3 4 1 3 1 2 2 2 3 3 2 4 2 4 3 4 4 1 5 4 5 2 1 4 2 1 5 1 5 4 2 3 4 4 1 2 4 1 2 5 5 1 1 3 3 4 2 5 2 3 1 5 2 3 3 3 5 2 4 2 5 1 2 4 5 5 2 3 3 1 2 1 1 3 2 3 5 2 2 4 2 3 2 1 1 4 4 2 2 5 5 4 1 5 3 2 3 1 4 2 2 5 5 3 3 2 2 3 3 1 5 5 3 4 3 4 3 3 1 1 4 4 2 3 2 5 3 3 4 3 2 5 3 4 3 4 5 1 2 2 5 4 3 5 2 1 2 2 5 3 3 4 4 3 4 4 1 3 4 3 4 2 3 3 1 5 4 2 5 4 1 5 2 5 2 1 5 1 3 5 2 2 2 3 3 2 4 4 4 1 4 4 5 3 4 2 1 5 1 1 2 4 4 4 1 4 5 3 5 4 1 5 4 1 4 2 5 1 2 1 4 2 5 2 4 3 2 3 3 5 4 2 5 1 4 2 5 3 4 1 3 5 3 2 1 4 5 1 4 3 2 3 5 1 5 4 2 4 1 3 4 2 4 2 5 3 3 4 5 4 2 1 2 4 2 5 2 2 2 2 5 3 1 2 1 1 2 3 3 1 5 3 3 1 5 3 4 4 1 2 1 5 4 2 3 4 2 1 2 2 5 2 1 2 2 2 1 3 2 1 3 1 4 2 1 1 1 1 1 2 2 3 5 4 4 5 4 4 3 4 1 3 3 4 4 2 3 2 2 2 4 1 1 1 4 4 3 3 3 1 2 2 5 1 2 4 5 5 5 1 3 4 3 5 5 3 2 2 4 3 1 5 3 2 2 3 5 3 3 2 4 2 2 5 5 1 5 3 3 3 2 1 2 2 2 2 5 5 5 5 5 3 2 4 2 2 1 1 1 1 3 4 4 3 1 1 4 4 1 5 3 5 2 1 2 1 1 2 5 5 4 1 5 1 3 2 4 4 4 1 4 2 1 3 1 3 1 3 4 5 3 5 3 2 3 4 3 1 3 5 1 5 1 4 4 2 4 1 2 3 1 5 2 4 3 3 3 1 2 3 2 2 2 3 3 4 3 5 4 3 3 5 3 1 4 5 5 4 1 1 1 5 2 3 1 5 2 5 2 4 1 5 1 5 2 2 5 4 1 2 5 2 3 5 2 1 3 4 3 3 2 4 3 5 1 2 3 4 5 1 2 2 2 2 5 4 3 5 3 2 1 2 3 3 4 4 2 1 3 2 5 2 3 4 5 1 5 4 1 4 5 4 2 1 4 1 5 2 3 1 5 4 4 2 2 3 4 3 1 1 1 4 1 1 1 2 2 1 5 5 4 3 3 1 4 2 2 2 4 2 4 1 1 4 3 4 1 1 4 2 4 4 4 2 4 1 1 5 5 4 3 3 2 3 5 4 3 5 3 2 3 2 5 4 3 2 5 5 3 4 5 2 4 4 1 4 3 5 1 5 2 1 1 2 3 5 3 2 1 2 3 2 2 5 3 4 1 2 4 2 3 2 5 5 5 5 2 4 2 4 1 1 3 2 2 5 5 2 4 3 2 5 3 2 5 1 5 1 4 1 2 3 3 5 2 4 5 3 2 3 2 1 3 4 2 2 2 4 3 1 1 3 4 2 2 4 4 1 4 3 2 1 2 2 4 5 3 3 3 2 4 4 2 1 3 5 2 2 5 5 5 4 3 2 4 1 2 1 2 1 4 2 3 5 2 4 2 5 4 4 1 5 1 3 2 3 4 1 2 5 4 1 2 4 5 2 1 5 1 2 4 5 4 3 4 4 4 5 2 5 1 2 2 2 5 3 3 1 3 5 2 5 4 5 3 4 4 2 2 4 3 2 1 2 4 4 3 4 3 3 3 4 2 4 4 3 5 3 3 3 3 3 5 5 4 3 4 3 4 4 5 5 5 2 1 5 1 2 1 3 5 3 4 3 1 1 2 1 4 3 5 4 2 2 1 1 1 3 2 1 4 3 4 4 2 1 5 1 2 1 3 1 5 2 1 3 1 2 3 4 2 2 5 3 2 5 3 5 4 1 4 4 5 3 1 2 2 5 2 2 2 4 4 1 1 2 2 2 5 4 4 2 1 3 5 1 3 2 1 2 1 3 4 2 1 3 2 4 3 4 3 5 2 4 3 4 1 4 4 4 3 2 1 1 2 1 1 2 4 5 1 3 3 3 5 2 2 5 4 1 2 5 1 3 4 1 5 4 2 4 5 5 4 4 2 5 3 2 3 1 1 2 4 3 1 5 4 1 2 1 1 3 2 5 1 2 4 1 3 3 1 2 4 1 1 4 1 1 1 5 3 3 1 1 5 2 5 1 4 1 5 5 1 2 1 1 5 5 5 1 3 1 1 2 4 3 3 5 4 1 1 4 2 3 4 3 4 1 5 5 3 3 5 2 4 4 2 4 1 2 5 1 4 5 4 1 1 5 1 3 3 5 5 5 3 4 4 2 3 1 2 5 5 2 3 4 4 2 5 5 2 2 4 5 4 1 4 4 5 1 1 1 2 5 1 5 1 4 3 1 4 4 3 5 3 1 3 2 5 5 2 2 2 5 2 2 4 2 3 3 2 3 2 5 1 1 3 4 3 1 3 4 5 1 5 1 2 1 5 2 4 5 3 5 4 1 1 5 5 4 1 3 3 2 3 4 5 3 5 5 5 3 5 4 2 3 4 1 3 1 4 1 4 4 3 1 3 1 3 5 5 3 4 5 3 4 4 3 3 4 2 1 4 4 1 1 1 4 3 2 3 5 3 1 1 3 1 2 4 1 4 4 1 4 1 3 4 3 5 3 5 4 1 1 3 1 1 4 3 3 5 1 1 4 5 1 3 4 2 4 4 4 5 3 3 3 1 4 2 5 4 1 1 5 1 3 3 5 3 3 5 3 5 3 5 1 2 2 1 1 4 4 3 3 4 3 4 4 1 1 4 3 4 2 2 4 3 5 5 2 5 4 1 5 3 1 2 1 3 1 2 1 3 3 1 3 1 2 2 3 2 5 2 4 1 1 2 4 4 5 1 5 4 1 4 2 4 2 2 4 1 4 5 5 1 5 3 4 3 5 4 3 5 1 2 4 3 2 3 1 5 5 3 3 5 4 3 5 2 5 1 2 5 2 1 5 3 2 1 1 4 2 1 1 3 2 2 5 3 2 1 4 5 3 2 2 1 1 4 2 4 1 1 3 3 1 3 2 4 3 1 4 5 4 2 3 2 5 2 2 3 2 2 4 5 4 1 4 4 4 1 3 2 1 5 2 3 1 5 2 2 4 1 5 3 2 3 5 4 1 1 5 2 3 5 4 3 4 2 5 1 2 2 1 3 3 5 4 5 4 4 2 5 5 2 5 3 2 5 3 3 3 2 1 3 1 1 2 3 4 3 5 1 4 5 2 1 4 3 5 4 4 4 5 1 1 1 3 2 5 3 4 4 2 5 1 1 3 2 3 1 3 3 5 3 1 2 1 4 2 2 3 2 5 2 5 5 1 2 2 5 2 4 1 1 1 4 3 5 1 4 4 3 5 3 2 1 3 5 3 1 5 4 2 2 1 5 5 4 1 3 1 3 2 1 2 5 5 3 3 4 2 5 1 5 2 5 4 4 3 1 1 5 2 5 1 5 3 3 3 2 5 1 4 3 4 5 1 2 1 3 4 4 1 1 3 5 1 4 2 4 1 1 1 4 1 3 4 2 1 3 3 3 4 4 4 2 4 3 5 5 5 2 5 3 5 5 4 2 2 2 3 5 4 4 1 3 2 4 2 1 1 1 5 4 5 2 4 5 5 2 5 5 4 3 4 1 5 3 1 2 4 5 2 2 1 1 2 1 1 4 2 1 3 1 4 2 3 5 3 4 3 5 2 1 3 3 5 1 1 1 2 4 1 4 5 5 3 3 1 5 1 2 3 3 5 1 1 4 5 2 5 3 2 1 5 4 5 3 5 3 3 4 3 1 3 1 4 2 4 4 4 2 1 2 2 1 2 2 2 5 1 2 4 2 2 1 2 5 4 1 1 2 4 2 3 1 3 5 3 3 5 4 5 5 1 4 1 1 2 1 1 3 5 4 5 3 5 5 1 2 2 1 5 2 3 5 1 5 1 3 3 2 1 2 2 3 4 2 4 2 2 3 5 2 3 5 4 4 4 5 3 5 5 3 2 2 3 2 5 3 2 1 2 4 4 3 5 5 2 4 1 4 1 3 1 1 4 3 1 5 1 4 2 4 3 2 1 2 1 2 1 3 3 4 4 5 4 5 5 3 4 5 4 1 4 2 2 3 1 2 3 1 2 1 5 4 4 1 4 3 2 3 5 2 1 5 2 5 1 1 4 2 5 5 2 5 5 3 1 3 3 2 4 5 2 1 1 3 3 4 3 4 3 3 5 3 1 1 3 2 1 4 5 1 3 2 5 5 5 1 5 4 5 4 5 3 1 2 1 4 2 4 4 5 1 2 2 4 5 5 5 4 2 2 4 1 4 2 4 3 3 4 1 1 4 5 1 5 5 2 4 3 2 2 2 3 3 2 4 1 1 1 2 3 5 5 2 4 4 3 3 1 3 3 5 5 5 5 1 3 5 3 2 5 2 4 3 4 5 1 2 2 4 1 1 2 5 4 3 3 2 1 5 5 3 1 4 2 4 5 3 2 4 3 2 1 4 1 4 4 3 1 4 4 5 4 1 1 1 3 4 5 5 1 2 3 3 4 2 1 3 2 5 1 2 5 1 5 4 4 5 3 2 1 4 1 4 1 2 1 1 3 1 4 4 1 2 2 1 5 3 3 5 2 5 4 1 2 1 2 5 3 5 5 4 3 3 2 4 3 4 2 3 3 5 4 1 4 4 4 1 4 1 3 1 5 2 2 5 1 2 1 1 2 2 2 5 3 2 5 1 1 1 3 4 5 5 4 5 3 5 3 2 5 5 1 4 1 2 5 3 4 5 3 4 1 3 5 3 4 5 4 4 2 3 5 1 5 4 1 1 5 4 4 1 1 1 3 1 4 2 2 1 3 5 3 3 5 1 2 1 5 5 5 4 4 3 2 2 3 5 1 5 1 4 4 1 1 2 3 5 5 4 5 2 3 5 1 5 3 1 5 1 2 2 3 5 4 5 5 4 4 5 5 4 5 2 5 2 5 1 5 1 1 3 3 4 1 3 5 4 3 5 1 5 3 4 2 1 1 5 5 1 5 1 2 2 1 4 1 4 4 4 1 2 1 5 3 5 1 1 3 1 3 5 3 5 3 5 3 4 2 2 4 3 5 2 4 1 5 3 4 3 1 5 3 3 3 1 1 1 3 2 2 2 5 5 1 4 4 5 3 3 5 1 1 5 3 4 2 4 4 5 1 3 1 4 1 3 3 2 4 5 4 3 3 3 4 5 2 1 3 2 4 4 4 4 3 5 4 5 2 2 1 2 5 1 5 4 3 3 3 4 5 2 3 4 2 3 4 2 5 5 1 5 5 2 4 4 5 1 1 3 4 1 4 4 3 5 3 2 1 2 1 5 1 5 5 1 3 4 3 1 5 1 2 3 2 5 1 2 2 3 5 2 4 3 2 1 5 5 5 4 4 2 3 1 1 5 2 4 3 2 5 1 4 4 4 5 1 3 3 2 3 4 1 2 3 2 3 4 2 2 2 4 4 4 5 4 5 3 4 1 1 5 5 5 3 1 3 3 3 1 1 3 1 3 5 4 1 3 3 1 2 4 4 3 4 5 1 3 4 3 2 5 2 5 5 5 3 5 1 3 1 2 2 5 2 5 3 5 1 1 5 2 3 4 3 4 5 4 1 1 4 2 5 1 1 5 3 4 1 4 1 1 2 4 2 4 1 3 1 2 2 4 3 3 3 3 1 3 4 4 3 3 5 1 2 1 2 4 5 1 2 2 2 3 2 3 4 1 3 1 4 3 3 2 2 3 1 2 5 5 1 4 5 3 4 3 1 4 5 2 2 4 1 4 2 2 4 3 3 4 5 5 2 4 4 3 2 1 1 2 3 4 5 4 3 3 2 3 4 5 5 2 5 3 4 3 2 4 5 2 2 2 5 1 3 3 3 1 2 1 1 1 1 3 5 4 2 1 5 3 1 4 5 5 5 2 1 2 2 5 4 5 1 1 4 4 5 4 2 1 4 3 4 2 2 3 3 2 5 3 5 4 4 4 3 3 2 4 3 5 5 2 3 1 5 3 4 5 4 1 3 5 2 4 1 5 5 3 5 2 1 5 2 3 4 3 2 1 3 5 1 2 1 5 2 4 5 4 1 5 3 2 2 5 2 2 4 5 5 1 5 2 1 3 2 1 2 2 2 3 2 3 2 2 4 2 4 2 3 3 5 5 4 4 1 4 1 1 5 1 1 4 2 2 4 3 5 3 2 5 2 3 4 5 5 2 4 2 2 5 4 1 1 4 1 1 3 1 4 3 5 2 1 1 5 2 1 3 5 4 3 3 3 5 1 3 4 1 2 4 2 1 3 2 4 2 5 3 2 2 1 3 1 2 4 3 2 5 5 1 2 2 5 4 5 4 3 2 4 5 2 1 2 3 1 1 2 3 4 5 4 4 3 4 4 2 4 1 4 2 3 1 3 5 1 4 5 2 2 4 5 4 1 1 5 2 4 2 5 2 2 5 2 1 2 1 1 3 3 4 5 3 1 2 4 5 2 2 5 4 4 1 4 1 1 3 2 5 3 1 5 1 2 1 5 1 3 4 4 2 1 5 4 2 2 2 3 2 2 5 3 5 2 2 1 3 3 1 3 5 3 4 5 1 2 4 4 3 2 5 2 4 4 2 4 1 5 5 5 1 3 3 1 3 2 2 3 1 3 1 1 5 4 4 2 2 5 1 1 1 2 5 1 2 5 5 2 3 5 1 4 5 5 2 2 5 5 1 4 5 5 1 3 2 3 5 3 1 4 5 4 5 2 3 3 4 5 4 1 3 1 1 2 4 2 4 5 5 5 1 5 4 3 1 5 1 1 2 5 2 3 3 1 1 3 4 3 1 1 2 1 1 4 4 3 2 2 2 4 1 1 3 1 3 3 3 2 3 2 4 4 4 2 4 2 2 5 3 2 3 5 1 3 3 2 2 1 5 2 4 2 1 3 4 1 2 3 3 3 3 1 3 4 3 5 4 4 4 2 2 3 1 4 2 5 1 2 5 2 1 3 4 5 2 4 5 3 5 1 3 5 4 3 2 5 5 2 4 2 1 4 5 1 4 5 3 3 1 3 2 4 5 2 3 4 5 4 5 5 5 1 1 5 4 1 3 4 4 5 4 1 5 5 2 3 5 5 1 4 4 5 3 1 4 5 4 5 5 2 1 5 2 2 4 4 5 1 5 5 4 3 1 2 3 2 4 5 2 4 3 5 3 2 1 3 5 3 5 4 1 1 5 1 4 4 1 3 3 4 2 1 2 3 4 5 3 3 1 2 1 4 4 1 4 5 3 5 3 3 3 5 5 4 2 3 4 3 4 4 3 2 4 5 1 1 1 4 2 5 5 1 2 3 3 1 3 3 4 2 1 5 2 2 3 4 5 5 5 4 1 2 2 3 5 1 1 4 4 4 2 2 3 2 1 4 1 1 1 5 2 3 5 3 2 1 3 3 5 3 5 3 4 4 2 4 3 5 1 4 4 1 1 2 5 5 1 2 5 2 2 1 5 2 1 1 5 4 3 2 1 4 2 5 4 3 3 2 1 3 5 2 1 2 1 4 2 4 3 4 2 2 4 1 5 3 4 4 1 1 2 1 1 2 2 1 1 4 2 2 1 1 3 1 2 4 5 2 3 5 5 2 3 4 1 1 3 2 1 5 2 1 3 5 2 5 2 3 5 4 2 5 4 3 2 3 4 1 4 5 3 4 5 1 4 3 4 5 4 1 2 5 2 2 1 1 2 4 4 1 4 4 4 2 3 1 1 2 1 3 2 5 3 1 1 2 3 4 3 1 4 1 2 1 2 2 3 4 2 4 5 3 3 1 2 5 3 2 1 5 3 1 5 4 3 4 2 1 5 1 5 5 4 5 3 3 3 1 5 2 4 2 5 2 1 4 3 3 5 1 5 2 1 5 2 4 5 2 2 5 2 3 4 4 4 1 1 2 1 3 4 4 5 1 4 4 1 1 3 2 2 1 5 5 4 4 3 5 3 3 1 5 3 4 3 3 3 3 2 3 3 4 3 4 1 4 4 1 2 2 2 3 3 5 1 4 4 2 3 5 3 5 1 1 5 1 2 4 2 1 5 4 2 2 1 3 4 5 5 4 3 5 4 1 3 1 5 3 3 4 5 3 1 1 4 3 1 3 5 3 4 3 2 5 5 3 4 1 4 2 1 5 5 1 4 4 1 2 1 1 1 5 3 1 4 1 1 5 1 3 3 3 2 2 4 4 2 1 2 5 5 3 5 1 2 1 1 5 4 5 5 4 2 3 1 4 3 4 4 2 3 1 2 4 3 3 1 2 2 4 3 3 3 5 2 5 2 3 1 4 5 5 3 3 2 1 3 3 4 3 5 3 2 5 1 4 4 4 3 1 1 1 1 1 3 2 3 1 5 1 4 3 3 5 1 2 2 3 5 4 4 1 1 4 2 4 3 2 5 2 4 2 5 5 4 4 1 5 2 2 3 5 2 2 1 2 5 5 5 1 2 5 5 1 4 1 4 2 2 3 1 3 4 4 5 3 4 5 3 1 5 2 4 4 1 3 5 3 5 4 5 5 2 4 2 4 3 2 3 2 5 4 1 4 5 4 2 1 5 4 1 5 5 5 4 1 5 4 2 5 4 4 3 1 4 3 2 5 4 1 5 1 4 2 4 4 2 2 3 3 5 5 2 3 4 2 4 4 1 1 4 1 4 4 1 5 4 3 2 2 1 3 2 4 3 3 4 2 4 5 2 1 1 2 2 1 4 2 2 5 4 3 4 4 1 2 3 4 5 1 5 4 4 1 1 2 3 3 3 2 2 2 3 4 1 3 4 3 2 4 1 2 4 4 5 4 4 3 5 1 5 5 5 3 1 3 5 4 2 5 2 1 4 4 3 2 1 4 3 3 1 2 5 2 5 3 4 3 5 5 4 4 5 1 2 4 4 5 3 3 2 2 1 2 5 4 4 4 3 3 5 4 1 2 2 1 1 5 3 2 2 2 3 4 5 1 3 1 4 2 1 3 5 2 5 5 5 2 2 5 5 3 4 4 3 4 3 2 2 5 5 2 3 1 2 4 3 4 5 5 4 2 4 1 2 3 1 5 4 2 2 1 3 4 2 4 1 1 4 2 1 2 4 2 3 3 3 3 1 4 1 3 3 3 1 1 5 2 2 2 2 1 1 4 4 1 1 3 3 2 1 1 5 1 4 2 4 2 2 4 1 2 3 5 2 2 5 3 2 5 2 2 2 2 3 2 2 4 1 2 5 5 3 1 1 3 3 5 2 1 1 2 5 3 2 3 3 4 1 5 4 4 4 3 1 4 2 2 3 2 4 5 3 5 4 3 5 2 4 4 3 3 4 5 5 4 2 2 3 5 3 1 5 3 5 2 2 3 1 5 1 1 4 1 1 2 2 4 2 3 4 5 2 3 5 2 4 5 4 5 4 1 2 2 4 3 4 2 5 5 2 3 4 2 1 5 5 4 2 4 3 4 3 5 5 3 4 2 2 1 1 5 4 3 1 4 5 3 4 3 3 3 4 1 1 5 2 5 2 5 5 5 3 2 4 4 4 4 2 1 5 2 1 4 1 1 1 4 5 3 3 2 5 3 1 4 2 3 4 3 2 4 2 4 4 5 3 1 5 4 3 3 4 4 2 3 3 1 1 1 1 3 3 4 3 1 3 3 4 4 1 5 1 1 4 1 5 3 5 1 5 3 5 2 1 4 2 3 5 1 4 2 4 1 4 4 3 1 2 5 4 3 4 5 5 3 4 1 5 5 2 5 2 3 5 3 4 4 5 4 5 4 1 5 2 3 5 3 2 2 3 3 2 5 3 1 3 1 4 4 2 5 5 1 3 2 2 1 5 3 5 5 2 3 3 4 4 3 1 3 2 3 1 3 3 1 4 4 5 2 4 3 2 2 4 1 2 1 2 4 4 2 1 4 3 3 4 2 2 2 1 2 1 3 2 3 4 5 4 1 1 2 1 3 3 1 4 5 4 5 4 1 1 1 5 3 3 2 3 3 4 5 3 1 3 1 1 5 1 1 4 4 4 4 4 4 5 4 4 3 4 4 4 1 4 4 2 4 1 1 1 4 3 5 1 2 1 1 4 1 2 1 1 1 2 3 5 1 1 2 1 3 1 2 4 4 3 1 5 1 1 5 4 5 5 3 4 5 1 2 2 1 4 5 1 1 1 4 3 1 4 5 2 4 5 3 1 3 2 1 4 5 2 5 2 5 5 4 3 3 3 4 5 4 5 2 3 2 5 5 5 4 3 3 4 3 3 5 5 2 2 3 5 4 2 2 5 5 3 3 4 1 2 1 1 2 2 4 1 5 2 3 4 5 5 2 1 1 1 2 3 5 3 1 4 1 3 3 1 5 3 3 5 4 1 4 5 3 1 1 1 4 1 5 1 3 3 1 2 3 3 4 1 3 4 2 1 1 3 4 3 1 3 5 5 3 4 2 3 2 3 3 4 2 3 5 2 1 4 5 3 1 2 3 2 5 2 1 4 5 5 2 4 3 2 3 1 5 2 2 2 2 5 1 2 1 5 2 3 5 5 4 1 3 5 5 1 4 3 1 1 1 1 3 4 1 4 2 5 2 1 3 1 3 4 4 4 1 3 5 4 4 5 2 5 3 1 1 1 4 3 4 2 2 3 2 3 5 1 1 5 1 2 4 1 1 2 1 1 3 5 1 5 2 3 1 3 4 1 1 2 5 3 1 5 3 3 4 4 1 5 2 5 2 1 5 2 4 3 4 2 4 4 5 1 2 2 4 1 4 4 4 3 5 4 2 2 2 3 3 4 4 5 5 4 2 4 5 2 2 2 4 2 3 3 1 1 1 2 3 2 4 2 5 4 2 4 4 2 4 1 4 5 5 5 3 2 2 2 3 2 2 4 3 1 2 3 1 1 3 2 1 3 3 4 3 5 1 3 4 5 4 4 1 1 1 5 2 3 5 2 4 1 3 4 2 1 3 1 4 3 3 3 5 1 3 1 4 1 4 2 4 3 1 3 4 3 3 3 3 3 3 4 1 4 1 2 4 1 2 2 5 5 4 2 3 1 2 2 5 3 2 2 2 1 3 3 3 3 5 1 4 2 2 2 2 4 1 4 3 2 2 3 1 2 4 5 5 4 4 5 3 1 1 3 3 1 2 3 2 2 4 2 1 2 5 4 3 3 2 3 5 2 1 3 1 2 4 1 5 2 2 3 3 1 4 3 3 2 3 3 5 2 2 1 4 5 2 2 4 1 2 4 2 5 1 3 3 1 2 4 1 1 1 5 1 4 5 1 1 1 5 2 5 3 2 4 2 4 4 3 3 1 5 3 2 4 1 1 1 4 5 4 2 3 1 4 4 1 5 3 2 4 5 3 2 1 2 3 1 4 5 5 4 2 3 2 3 5 5 2 5 1 5 5 2 1 5 2 2 2 3 3 1 2 3 3 5 5 4 3 5 5 5 3 1 3 2 4 5 1 5 3 5 5 3 5 2 4 2 5 3 5 2 2 1 2 4 5 1 5 5 5 4 3 2 4 4 3 4 5 4 4 5 3 3 1 1 1 3 3 4 4 4 2 1 3 5 3 3 4 1 1 1 5 3 5 3 2 1 3 2 2 5 3 3 5 1 1 3 2 4 1 4 2 1 1 2 4 5 5 3 3 4 2 5 4 5 2 3 3 3 5 5 2 3 4 5 4 3 2 4 2 1 4 3 1 3 5 4 4 2 5 5 2 3 1 5 4 2 3 5 2 4 4 2 1 3 5 4 3 3 4 5 3 3 1 5 1 4 4 1 1 5 4 1 4 3 1 1 1 1 3 5 1 5 5 2 1 2 2 3 4 1 5 1 4 5 2 2 4 5 2 2 2 1 5 3 2 2 3 3 5 4 5 3 5 5 2 2 2 2 2 5 5 5 3 1 5 5 1 2 5 2 4 3 1 2 4 5 5 4 1 4 5 3 1 5 3 2 1 2 2 3 5 2 4 2 2 2 5 1 5 5 1 5 4 5 3 5 3 5 2 4 5 4 3 1 4 2 1 4 4 4 4 2 4 2 3 4 1 3 2 4 2 1 2 1 1 1 1 3 3 1 5 1 2 3 5 4 4 3 3 5 4 2 3 1 1 2 2 1 5 5 3 1 2 5 3 1 4 4 1 2 1 3 3 5 3 2 1 1 5 5 3 4 3 2 3 2 1 4 5 5 1 1 4 3 4 5 2 1 3 5 1 2 1 4 1 3 4 3 4 3 3 4 2 5 4 3 5 2 2 5 1 1 3 5 4 3 3 3 5 5 5 3 4 2 4 2 3 5 2 3 2 1 5 5 3 3 3 1 1 5 2 4 4 5 5 3 5 2 3 1 2 1 2 4 4 5 5 3 2 5 5 4 3 3 5 4 5 4 5 2 3 1 4 4 1 1 4 5 3 5 2 3 1 2 4 3 2 5 2 4 5 5 1 4 5 3 4 1 5 3 5 5 5 5 3 3 5 3 3 2 1 5 2 3 1 4 5 1 2 3 4 3 5 3 1 3 1 2 1 1 5 4 3 4 3 3 3 1 4 3 2 4 3 4 5 3 3 5 2 2 1 2 2 2 1 5 1 2 2 1 2 5 4 5 4 2 4 4 1 2 5 1 5 5 5 1 5 1 2 2 2 2 3 4 5 1 2 5 3 1 3 3 3 2 2 5 5 4 4 5 5 4 2 2 1 2 5 5 5 4 5 5 1 2 2 5 1 4 2 5 4 2 3 3 3 3 3 5 3 3 1 5 5 1 5 3 1 2 2 1 2 3 4 3 5 2 2 2 2 4 5 3 1 4 5 4 1 2 3 1 2 4 5 5 1 1 5 3 3 3 3 2 4 5 1 2 2 5 4 3 4 5 3 1 5 3 2 5 2 4 2 3 3 4 3 5 4 1 1 4 1 1 3 4 5 1 1 1 3 2 4 2 1 5 3 2 5 2 5 4 5 2 4 1 5 3 4 2 4 3 5 4 3 1 2 3 4 4 1 2 3 2 4 5 1 3 3 3 1 5 4 1 4 4 4 3 1 4 4 5 2 5 1 3 4 2 3 1 3 5 4 5 2 2 5 2 3 3 2 3 5 4 2 5 5 5 4 5 5 3 1 4 1 5 2 3 5 4 4 5 1 5 2 4 3 1 3 2 2 3 4 5 5 3 3 2 3 4 1 2 4 5 3 3 1 2 2 1 4 4 5 3 2 4 3 1 5 2 1 5 3 4 4 2 2 5 4 1 4 4 2 1 5 1 5 4 4 4 5 2 2 2 3 4 1 2 1 5 4 3 3 4 2 4 2 1 3 2 4 1 4 1 4 4 4 5 2 2 2 4 1 2 1 1 3 3 5 2 5 4 4 2 1 4 1 4 5 2 4 4 2 3 5 2 2 5 5 1 5 4 1 1 3 5 5 5 4 1 2 4 3 3 4 2 2 5 5 5 3 2 1 2 2 4 2 5 3 3 3 4 2 3 2 2 5 3 5 2 1 5 2 4 4 1 5 2 5 1 1 5 2 4 1 4 2 2 1 4 5 4 4 3 4 2 3 3 4 2 2 3 5 1 2 1 1 5 4 1 3 3 5 3 2 5 5 3 3 2 2 1 2 2 5 5 3 4 2 2 2 4 2 4 2 1 4 1 2 5 2 1 4 2 2 5 1 3 3 2 4 4 4 4 5 2 1 3 3 5 2 3 3 3 2 5 2 5 1 1 3 3 2 3 4 5 2 2 3 1 3 3 3 2 1 3 1 4 1 1 4 2 3 4 5 1 2 4 3 2 3 5 3 5 4 4 5 3 4 1 3 3 4 4 5 4 1 3 2 3 2 3 2 1 4 2 2 3 5 3 1 4 1 1 2 3 5 5 5 1 1 3 4 3 5 4 2 2 1 5 5 3 2 3 4 5 3 1 2 5 3 5 4 1 4 3 1 4 2 5 3 2 3 2 3 1 5 1 4 3 1 1 2 5 4 5 1 5 1 5 4 5 4 5 3 4 3 2 5 5 3 4 2 1 4 2 5 2 1 2 3 5 2 2 4 3 2 5 1 3 4 2 1 1 3 3 1 2 2 3 4 4 2 1 4 3 3 4 1 2 5 2 1 5 2 4 4 3 4 5 3 5 1 1 5 1 1 4 5 4 2 5 3 4 5 1 4 5 2 3 5 2 4 5 2 4 4 4 3 2 2 3 4 1 1 4 2 2 5 1 2 5 4 2 1 4 3 1 3 4 2 3 1 2 4 4 3 4 1 3 2 2 1 1 3 3 4 5 5 3 5 4 4 2 3 5 3 5 1 3 3 1 3 3 5 2 2 1 5 3 5 4 5 3 1 5 2 1 3 2 5 1 5 3 3 5 5 3 3 1 2 5 5 5 2 1 5 4 2 5 1 1 2 2 1 1 3 3 5 5 2 4 4 4 5 4 3 1 5 3 2 1 2 2 4 1 1 5 2 2 5 3 3 5 3 5 2 2 4 1 1 4 4 5 4 3 2 1 3 1 5 4 1 5 2 5 1 4 2 5 1 1 4 1 5 5 4 5 5 2 5 3 2 4 3 4 3 4 4 2 3 3 4 1 4 4 5 3 1 3 5 3 5 5 3 2 4 1 5 3 5 1 2 4 5 3 1 2 2 5 3 3 3 5 5 2 2 2 2 5 1 2 2 3 2 1 1 4 3 4 2 4 5 4 2 4 1 5 4 4 3 3 3 2 2 3 4 3 3 5 2 1 1 3 3 2 2 2 5 1 4 1 3 4 5 2 4 5 2 3 2 2 3 1 2 3 5 2 5 5 1 2 2 4 2 5 2 2 2 1 2 5 2 3 2 3 2 3 5 3 3 4 4 5 4 2 2 3 2 1 2 3 5 4 1 1 5 5 3 3 3 4 4 5 5 5 5 4 2 4 2 2 1 1 4 2 3 5 2 3 3 1 5 4 5 2 1 5 5 3 2 1 2 2 2 2 5 4 3 3 5 1 4 5 4 2 5 5 4 2 4 3 3 5 1 4 2 2 3 3 4 3 3 2 3 1 3 4 4 1 5 5 1 3 5 4 5 4 3 2 4 4 4 1 1 4 5 4 3 4 1 2 4 2 5 4 1 5 5 1 3 1 3 1 3 5 3 3 3 2 1 1 5 1 4 1 2 3 4 5 4 3 5 5 5 4 4 1 3 5 4 3 5 5 3 5 3 2 1 3 4 2 1 2 4 5 2 5 1 2 1 2 2 3 2 4 3 1 5 2 1 4 4 3 2 4 2 2 4 5 4 2 2 1 2 4 3 5 1 4 4 1 4 1 4 2 2 4 2 3 3 2 1 2 2 3 2 4 2 1 1 4 5 3 2 2 1 4 5 4 1 4 3 2 4 1 1 2 3 2 5 2 5 1 5 4 4 3 4 1 1 4 2 2 3 1 3 5 4 1 4 5 1 5 1 1 4 3 5 4 3 1 5 3 2 2 3 4 5 5 2 2 3 3 1 4 1 4 3 3 4 2 1 3 2 3 3 1 2 4 3 2 3 3 1 3 5 3 3 3 1 2 4 1 3 2 5 2 3 1 4 3 1 4 2 2 5 2 2 2 5 1 1 2 3 2 3 5 5 5 5 2 4 2 3 3 5 2 4 2 1 5 1 3 3 4 2 5 2 4 3 5 5 1 4 5 1 4 1 5 3 4 5 1 2 4 4 4 1 2 2 5 4 2 5 4 4 2 4 2 5 4 2 4 2 2 1 2 1 4 2 4 1 2 4 1 1 4 3 1 1 5 1 3 3 1 2 5 4 1 3 1 3 3 5 1 2 1 2 2 3 5 5 5 1 1 4 2 1 2 2 1 4 3 2 1 3 4 5 2 3 3 3 2 2 5 4 3 5 5 5 1 4 4 4 5 4 3 4 5 2 2 2 3 4 4 2 1 1 5 1 5 1 4 4 2 5 3 2 3 3 5 2 3 3 4 4 5 3 1 5 1 2 2 5 1 5 2 2 2 2 2 1 2 1 1 5 1 2 5 2 3 4 3 2 4 5 3 1 5 2 5 4 2 2 1 3 2 2 3 3 5 5 5 2 5 4 3 2 5 4 3 1 2 3 2 4 1 1 4 3 2 2 2 3 2 4 3 2 5 2 5 3 2 3 1 4 4 2 4 2 1 3 1 1 2 4 4 5 1 2 2 3 3 1 4 2 1 3 2 2 2 4 5 2 1 2 1 1 5 5 4 4 4 1 3 3 4 3 1 1 1 4 4 2 2 4 1 4 3 4 1 1 5 4 5 3 4 3 1 2 2 2 2 2 4 4 1 3 5 1 3 4 4 5 4 2 4 1 5 2 3 5 1 5 2 2 5 5 5 1 4 1 1 4 3 5 3 2 4 3 3 5 4 5 2 5 4 4 4 5 3 5 4 1 2 2 2 3 4 4 3 4 1 3 3 2 4 5 5 1 2 5 2 2 5 2 5 5 4 4 4 1 1 4 5 4 5 2 3 1 3 3 4 5 1 3 5 1 3 1 4 5 3 1 2 4 2 2 5 2 4 2 4 1 4 2 4 4 3 4 2 2 4 3 2 2 4 3 3 4 3 5 2 5 3 3 5 4 2 5 2 5 4 3 4 2 1 2 3 4 4 3 4 3 3 2 4 2 5 5 4 2 4 5 1 1 2 4 4 3 1 1 3 1 2 2 2 5 2 3 2 5 3 2 1 3 4 1 3 2 1 5 4 3 4 4 1 5 5 5 3 2 3 1 4 5 3 1 2 1 3 3 2 1 1 3 3 2 5 5 1 1 2 1 5 4 5 5 5 4 3 5 4 1 5 4 2 3 4 2 3 2 5 1 5 4 3 3 3 4 5 4 3 5 3 2 3 3 2 3 3 2 1 5 2 1 2 4 2 3 3 4 5 5 2 2 1 5 3 3 5 2 1 1 2 2 2 5 5 5 4 4 4 2 3 3 4 1 4 1 2 3 3 3 4 4 1 4 3 3 1 5 4 3 5 4 4 1 4 5 5 4 5 4 4 5 3 2 3 3 1 5 1 3 5 1 5 1 4 3 2 1 3 4 1 5 5 5 5 4 1 5 3 3 4 1 3 4 5 2 2 2 3 3 5 5 3 4 3 4 1 2 5 4 2 2 1 3 5 1 3 1 3 5 4 2 3 2 2 3 3 2 4 3 1 3 2 5 3 4 5 5 2 1 2 5 5 4 1 5 3 5 1 2 5 5 3 1 5 4 1 2 3 2 3 3 1 5 2 4 4 4 5 2 2 2 2 4 2 4 5 1 4 1 2 2 1 5 4 1 3 3 5 4 5 5 4 3 3 5 3 2 3 2 5 5 1 1 1 2 2 1 4 3 1 2 4 3 2 4 5 3 1 3 3 4 4 5 3 5 2 4 4 4 3 2 3 1 2 1 4 4 2 1 1 1 5 4 5 4 2 2 2 4 2 1 5 4 3 3 1 5 1 3 2 2 2 2 5 5 2 4 5 2 5 5 3 5 3 2 1 1 2 4 4 2 1 2 2 4 1 2 5 4 3 3 4 1 3 5 5 1 2 3 2 5 2 3 3 4 1 3 3 5 5 5 2 1 4 2 1 5 5 5 3 5 4 1 2 5 1 2 2 4 4 5 3 5 2 3 4 1 4 1 4 2 1 2 4 5 2 3 1 1 5 3 5 5 2 4 3 1 4 3 2 4 2 4 2 4 5 2 2 2 1 1 4 2 4 5 4 4 4 1 2 5 2 4 3 3 3 5 1 2 3 5 2 5 2 1 4 4 1 5 5 5 3 3 5 3 1 4 5 3 2 2 4 1 5 3 4 2 4 5 4 2 2 3 4 2 5 2 2 1 3 3 2 4 2 2 3 2 2 5 3 5 2 5 5 4 4 5 3 3 4 1 3 1 4 4 4 1 5 2 2 3 3 2 1 4 4 1 2 4 2 4 1 1 5 5 4 1 4 4 3 1 4 2 4 5 5 1 1 2 4 2 4 1 2 1 1 2 1 5 5 2 1 1 1 4 5 3 5 5 5 2 3 4 4 5 1 2 3 4 5 1 1 2 3 3 3 5 4 2 3 2 3 2 3 1 5 4 5 4 2 1 5 3 4 1 2 3 2 1 2 4 1 1 3 5 1 1 4 2 4 3 1 1 5 3 1 3 4 5 5 5 1 1 3 2 4 5 2 3 5 4 4 2 1 1 2 1 3 4 1 4 4 1 3 1 3 3 4 3 2 1 2 3 3 1 1 4 2 4 1 1 3 4 5 3 5 2 1 1 2 5 4 3 3 4 1 4 5 2 3 5 2 4 2 3 2 5 3 3 1 2 4 3 5 1 2 5 1 5 1 2 2 5 4 4 4 2 5 5 1 3 5 3 5 2 2 2 4 4 2 2 4 5 3 4 2 5 3 5 1 1 1 5 3 1 1 3 3 1 1 1 1 1 2 5 1 2 3 3 4 3 3 4 1 1 4 1 3 1 5 5 5 5 1 1 3 2 1 2 4 3 4 4 1 4 4 4 1 2 1 4 5 5 3 4 5 4 3 2 1 2 5 2 1 4 1 1 5 2 4 5 3 4 4 4 4 4 5 2 3 5 1 4 3 5 2 2 3 3 3 5 2 4 2 5 3 4 4 3 2 3 4 4 5 5 2 5 3 1 1 5 3 5 5 4 1 2 5 3 4 2 5 2 2 5 4 1 4 1 4 2 4 4 2 2 1 2 4 4 2 1 3 5 1 4 3 1 5 5 4 2 3 1 4 5 4 1 4 2 1 1 2 2 5 4 2 2 2 2 3 5 1 3 4 2 5 5 4 4 4 4 4 4 5 5 1 5 5 5 5 5 5 4 1 4 2 1 3 3 3 3 3 3 5 2 3 1 5 3 5 1 2 2 1 5 5 3 1 5 1 1 4 1 1 3 3 2 1 5 5 2 5 1 4 2 1 1 1 3 4 5 3 5 5 3 3 1 2 5 4 4 3 4 3 4 3 4 5 1 2 1 5 4 5 1 1 1 5 4 3 4 4 3 1 2 4 1 1 4 5 2 5 3 2 3 1 4 3 1 1 1 4 2 2 4 4 2 2 1 1 2 2 5 1 4 1 5 1 3 1 3 2 3 4 3 4 4 1 2 4 2 1 5 5 4 4 1 3 3 3 4 1 3 2 3 3 4 5 2 2 5 4 5 1 2 1 2 4 4 1 5 4 1 5 4 3 5 2 3 2 1 3 5 4 1 4 5 5 3 3 5 1 2 4 2 4 4 5 3 2 5 2 2 4 5 1 4 1 3 4 4 2 4 2 1 5 4 4 4 1 5 2 2 3 4 1 5 2 5 5 1 2 2 5 2 1 2 5 5 4 5 4 3 3 5 4 5 4 1 2 2 3 1 2 3 4 5 2 5 1 3 3 5 1 5 2 5 5 1 1 2 5 3 2 4 5 4 5 2 2 2 4 3 5 3 1 5 2 2 2 2 2 1 2 3 1 1 2 5 2 5 1 2 2 3 2 4 1 2 3 1 1 4 2 2 3 2 5 1 4 5 4 3 4 4 3 1 1 4 5 1 5 4 1 5 3 1 3 2 4 3 5 1 5 3 5 4 2 3 3 1 2 3 4 5 4 1 4 5 3 5 2 3 5 5 3 2 3 5 4 1 1 5 4 2 3 4 3 5 3 1 4 2 2 3 1 4 4 4 4 4 3 3 3 1 4 5 5 2 1 5 2 2 2 4 1 5 4 2 1 4 4 1 4 2 2 1 3 4 5 3 3 1 4 2 1 2 5 4 2 2 1 2 1 1 4 2 5 1 5 1 1 1 3 2 5 4 1 2 1 4 5 4 2 4 1 3 1 3 5 1 1 5 5 4 4 2 5 4 2 1 3 4 3 2 2 2 3 3 4 3 4 4 1 3 1 4 1 1 5 1 5 5 1 3 4 5 3 3 2 3 1 3 2 1 1 2 3 1 4 4 1 3 3 3 2 4 3 5 1 5 4 5 3 4 2 5 3 2 4 1 5 5 4 5 4 2 3 4 2 5 1 5 2 3 2 4 3 2 1 4 5 4 2 3 3 3 4 4 2 3 1 2 3 5 2 2 5 3 3 2 5 2 1 1 4 3 5 1 1 3 1 3 2 1 5 2 3 2 3 2 3 3 2 2 4 1 1 3 1 1 3 4 4 3 3 1 2 1 3 5 5 1 2 2 2 2 5 4 3 4 5 4 3 3 3 4 3 1 4 1 1 3 3 5 3 1 5 5 3 1 3 2 2 1 1 4 1 2 3 5 2 2 5 1 4 5 2 2 1 5 1 2 1 2 1 1 5 3 4 3 3 3 1 1 3 5 1 5 5 5 5 5 4 5 2 4 5 4 2 1 2 2 2 4 3 2 2 5 1 4 3 2 1 1 5 3 5 5 3 1 2 2 4 3 5 3 1 5 4 1 4 3 1 5 4 3 4 3 5 4 3 4 3 5 3 3 5 4 4 5 3 3 4 2 5 1 1 2 3 2 5 5 3 2 5 4 1 5 4 3 3 4 5 2 1 3 3 4 5 5 2 5 3 4 1 2 5 4 3 3 5 5 2 1 3 1 2 3 2 4 5 1 1 1 5 3 5 4 4 5 1 2 5 4 4 1 5 4 2 4 2 2 1 2 1 1 4 2 3 2 5 3 1 3 1 4 1 5 5 5 1 4 1 4 4 3 2 4 2 3 2 3 1 4 3 5 3 3 5 1 2 2 1 1 1 3 1 3 3 4 4 4 2 1 5 4 3 1 3 3 5 1 3 3 1 2 4 5 2 3 4 3 4 4 2 5 2 1 5 3 4 3 2 5 1 1 3 4 2 1 3 4 1 2 5 1 1 3 1 1 4 2 1 4 1 4 5 5 3 2 1 2 4 1 3 5 2 4 1 1 3 4 3 4 3 5 5 3 4 3 2 5 1 3 2 4 5 2 3 1 2 3 3 5 4 2 1 3 5 3 4 4 5 2 2 5 1 1 2 4 4 2 3 2 1 1 4 5 5 2 4 4 5 2 2 3 3 3 1 2 5 1 3 4 1 5 5 3 5 4 2 5 4 1 2 5 1 1 3 5 1 5 3 4 2 3 5 4 5 4 5 1 2 2 3 2 3 1 1 2 2 2 2 5 1 2 3 4 5 1 1 1 4 3 1 5 5 1 5 5 1 3 2 3 1 1 1 5 4 4 5 4 2 5 5 5 5 5 5 2 5 5 1 5 3 1 3 5 2 2 5 1 4 5 3 3 5 4 1 5 5 1 5 2 4 2 3 1 1 1 1 2 2 4 5 3 1 3 2 2 1 4 5 5 1 3 4 1 4 1 3 4 5 2 3 1 3 3 4 4 5 2 3 2 1 2 5 1 1 2 2 5 5 1 1 4 5 2 2 5 2 1 5 5 5 1 2 4 4 4 1 2 5 3 5 3 1 2 2 3 3 2 2 2 4 2 1 3 5 5 4 1 1 4 5 1 2 2 4 2 2 5 5 4 1 3 1 4 5 5 4 5 3 3 2 2 5 1 1 3 2 2 5 4 4 5 1 4 2 2 5 2 4 5 2 3 5 1 3 5 4 4 2 2 1 3 4 1 5 2 1 1 4 3 1 5 3 4 2 4 2 5 4 3 4 5 3 5 1 3 5 3 3 1 4 4 3 5 3 5 5 3 5 4 3 5 5 1 2 5 3 4 3 4 1 5 4 5 3 1 3 1 5 2 3 1 1 1 1 5 5 5 5 3 1 2 3 5 2 3 3 5 3 5 3 1 2 3 5 5 4 3 3 3 2 4 4 1 3 3 2 2 1 4 3 5 5 4 4 1 2 5 5 5 5 3 3 1 3 5 1 1 3 5 1 4 5 4 4 4 1 1 2 5 4 4 5 3 4 3 1 2 5 5 1 2 5 2 3 4 1 5 2 4 3 3 3 5 5 1 2 3 1 2 2 4 2 3 4 1 1 1 3 5 3 1 2 1 1 3 5 2 2 5 3 4 4 2 2 1 2 1 2 5 3 3 3 5 4 5 2 2 3 5 2 1 1 5 4 1 5 5 1 5 4 3 1 2 1 4 5 3 3 2 2 5 1 2 5 3 1 1 2 3 4 1 1 5 1 1 3 4 1 4 2 5 5 3 3 2 4 5 3 2 3 3 4 1 4 3 2 1 1 3 2 3 4 1 1 1 1 5 4 5 1 5 3 3 5 3 4 3 2 4 3 2 5 4 1 5 5 4 2 3 3 3 5 2 1 5 3 4 3 4 1 2 2 3 2 4 5 3 3 4 5 3 2 5 5 1 2 5 5 1 2 2 4 1 2 1 3 3 2 3 1 3 2 4 4 3 4 5 3 2 1 1 4 3 4 4 4 2 4 1 5 3 1 2 1 1 2 2 1 1 2 5 3 1 1 4 3 4 1 4 4 2 2 3 2 3 1 2 2 5 4 4 3 4 2 1 5 1 3 2 5 4 3 5 3 3 2 1 4 4 1 2 3 1 1 5 4 4 2 4 4 5 1 4 1 1 4 1 2 4 5 1 3 3 4 2 1 4 3 4 5 2 4 4 1 1 2 4 5 2 5 2 4 1 1 1 5 2 4 4 1 4 3 3 1 2 4 1 2 5 4 1 5 1 5 1 1 4 1 3 3 3 2 2 5 3 4 2 3 2 3 1 2 4 1 4 1 2 2 1 4 2 2 4 2 4 1 4 3 2 3 3 1 3 1 1 3 2 2 5 3 5 4 5 4 5 1 3 4 1 1 3 2 2 2 1 5 2 1 4 1 1 3 4 5 4 3 5 1 4 2 5 4 4 5 4 4 1 1 4 4 4 5 4 4 1 2 4 5 4 4 2 2 3 1 1 1 3 5 3 2 5 2 3 3 4 1 2 1 4 3 2 4 4 4 3 2 2 4 2 1 4 1 2 1 4 3 5 3 3 1 2 1 3 5 1 4 5 2 4 1 1 5 3 3 2 3 3 1 3 1 5 5 3 5 2 1 2 5 4 5 4 4 5 5 1 4 1 4 1 5 3 3 4 5 5 5 4 3 2 4 4 4 2 1 1 5 2 5 2 1 4 5 3 3 5 3 5 4 2 4 1 4 5 3 4 4 5 3 5 5 1 1 3 1 4 5 3 4 2 3 4 5 5 2 4 4 4 5 5 3 4 1 4 5 1 5 1 2 2 4 3 3 5 5 2 1 5 2 1 1 3 5 3 1 2 2 2 1 4 4 1 3 4 5 3 4 1 4 1 3 4 1 4 1 5 2 3 2 2 4 2 3 3 4 1 1 2 1 2 5 3 3 4 4 5 3 2 1 1 2 1 1 4 4 2 1 4 3 4 4 3 4 5 3 5 1 3 3 4 2 1 2 4 2 2 5 4 3 2 5 5 4 5 2 5 5 2 3 3 2 3 2 4 5 4 3 5 5 4 4 4 3 3 5 4 2 5 4 1 1 4 5 4 4 2 1 5 4 1 3 2 5 5 4 1 1 4 4 1 2 3 1 3 1 4 4 1 3 3 3 2 2 4 3 3 4 3 5 2 4 5 2 2 5 3 2 4 2 2 5 1 4 2 1 4 1 2 5 3 4 5 3 1 2 1 2 5 1 1 4 2 2 5 2 1 3 2 1 2 5 4 4 5 5 2 2 4 5 4 4 4 3 2 2 5 3 3 5 2 2 3 4 3 2 1 4 3 1 2 2 2 1 2 3 1 3 1 3 5 5 4 2 4 4 3 2 4 1 4 1 3 5 2 2 4 3 4 3 5 4 2 2 1 3 5 2 2 1 1 3 2 5 3 5 3 4 2 5 2 5 4 2 1 3 1 2 3 3 4 1 1 4 1 3 5 1 1 5 5 5 4 2 5 1 2 5 5 5 1 5 1 2 5 3 3 1 2 1 2 2 1 4 2 5 1 3 2 5 1 3 3 3 5 3 3 4 4 2 5 4 5 4 2 1 4 4 3 4 1 4 5 1 2 3 4 3 4 2 5 2 1 3 4 4 3 2 3 1 2 3 4 3 4 3 2 4 5 2 4 2 5 5 2 2 4 2 2 5 5 2 4 4 4 1 1 5 4 1 4 4 3 4 5 4 5 2 2 4 2 4 5 3 5 2 2 1 5 1 5 3 1 4 3 4 5 1 1 5 3 4 4 3 1 4 3 3 3 1 4 2 1 4 2 2 2 2 2 1 1 5 5 5 5 3 4 4 2 2 4 4 2 4 5 3 2 4 4 5 1 1 2 4 5 1 1 4 3 3 3 5 1 5 3 5 3 5 3 5 5 1 2 2 1 5 1 3 5 1 5 5 3 4 2 3 4 4 4 3 5 5 4 1 2 4 1 4 1 4 1 3 1 4 4 5 5 2 5 4 3 3 5 1 2 5 5 5 1 1 4 1 5 4 1 2 3 2 4 4 1 5 3 4 2 5 4 4 4 2 4 1 3 5 2 4 5 5 3 1 2 3 1 4 4 3 4 4 5 3 3 5 1 3 5 1 4 1 4 1 2 1 4 4 2 1 1 5 4 4 2 1 5 4 1 3 1 5 2 5 2 2 2 3 1 5 4 3 2 2 4 2 2 1 5 2 5 3 1 5 1 5 4 3 1 2 1 2 4 2 5 1 1 3 4 3 5 5 3 2 5 2 1 2 5 3 2 4 2 5 4 5 2 3 5 4 1 2 2 5 1 5 1 2 2 3 5 5 5 1 1 4 2 4 5 5 1 3 5 3 1 1 2 1 2 5 1 5 1 1 2 5 5 4 1 2 5 2 4 4 2 3 4 5 2 5 5 3 1 4 1 5 2 1 5 5 4 2 3 4 2 2 1 1 5 1 2 1 2 3 3 3 3 1 1 2 4 3 1 3 5 5 5 5 1 5 3 3 3 3 5 5 5 2 1 1 5 2 3 1 4 1 3 3 1 4 1 5 3 1 5 5 5 1 1 3 3 3 3 5 1 3 1 5 3 1 5 3 1 1 4 1 2 4 5 1 4 3 5 5 4 4 5 2 2 2 5 4 5 5 1 1 1 2 4 5 2 5 4 1 4 3 3 4 4 1 1 1 4 1 1 5 2 3 2 1 1 4 4 4 1 1 2 3 2 5 1 1 3 5 5 2 1 1 3 5 1 3 3 3 4 2 5 3 4 4 5 1 5 4 3 2 4 1 2 4 5 2 5 2 5 5 2 5 5 1 4 1 4 4 2 1 2 5 3 1 3 1 5 3 1 2 2 3 5 5 5 4 1 5 2 2 4 4 4 3 5 1 4 1 4 3 1 1 2 2 5 4 4 2 1 3 1 2 1 4 4 2 3 3 4 5 4 5 1 4 2 1 1 1 4 2 4 5 5 4 4 5 1 4 2 3 4 4 2 5 4 2 5 2 5 4 4 2 4 4 2 4 5 1 3 4 1 1 3 1 1 2 5 4 1 5 5 5 3 3 5 4 2 3 5 1 2 4 3 1 1 5 1 5 1 4 5 1 3 1 4 1 4 1 2 3 1 1 2 4 3 3 5 3 5 3 3 2 4 4 3 2 1 4 2 2 4 2 4 5 1 2 5 1 5 2 2 2 1 4 2 4 4 4 1 2 1 2 3 3 1 1 4 3 3 3 3 1 3 5 2 2 4 2 3 1 5 3 5 3 5 4 2 2 2 1 3 2 4 4 3 5 3 2 1 1 4 4 4 2 2 4 2 3 3 5 3 1 1 3 2 2 1 1 2 4 2 4 4 4 4 1 1 2 1 1 4 3 1 5 1 1 2 2 5 4 1 5 1 1 1 2 3 2 3 1 1 1 2 5 4 1 3 3 4 1 4 1 4 4 1 5 2 2 3 1 4 5 4 4 4 3 5 2 1 3 2 2 2 1 1 2 1 1 4 2 3 4 1 5 4 3 1 1 3 4 5 4 4 4 4 4 3 1 3 3 3 4 2 1 1 5 1 2 5 2 3 5 2 5 4 3 4 3 1 1 3 1 2 2 2 4 2 2 2 1 1 2 1 2 4 4 3 1 1 2 5 5 2 1 3 1 5 5 3 2 2 5 1 1 5 1 1 4 1 3 5 4 4 2 4 2 1 1 1 4 2 5 2 4 1 2 1 1 3 1 4 2 2 5 4 5 1 4 4 2 5 2 3 3 3 2 3 1 3 2 3 1 2 5 2 5 2 5 3 5 5 3 4 4 5 4 5 5 2 1 1 2 1 5 3 1 1 3 2 3 5 2 5 3 3 2 4 5 4 1 1 2 2 4 4 5 2 1 5 1 4 5 5 1 3 2 4 4 3 5 4 5 2 1 4 2 3 2 1 2 3 5 5 2 1 2 4 1 2 5 1 4 3 5 2 4 5 1 2 2 2 1 3 4 1 4 4 4 5 3 4 3 1 3 4 2 5 5 3 1 2 4 3 5 1 4 5 2 3 2 4 3 1 1 1 2 2 2 4 1 5 3 5 2 1 4 3 5 1 3 2 1 4 4 1 2 2 2 5 4 4 5 4 4 1 4 5 2 2 4 4 3 5 2 1 2 2 2 3 1 4 2 2 3 1 1 2 1 2 5 3 2 1 1 4 4 5 3 4 5 5 3 4 2 5 5 3 3 2 5 2 1 5 3 2 5 2 4 3 5 5 4 3 5 4 5 3 2 3 4 4 5 4 2 2 1 3 1 1 3 4 3 1 2 4 2 1 3 2 4 1 3 3 5 3 5 1 2 4 5 5 2 3 4 2 2 5 4 5 3 2 1 2 3 2 4 3 4 2 2 4 1 4 2 2 1 5 4 2 1 3 1 2 4 4 5 3 4 2 1 5 4 4 3 5 4 1 1 3 4 1 5 1 2 1 3 1 2 1 1 5 3 3 5 1 5 3 5 2 2 2 1 4 3 4 3 3 4 1 1 4 3 2 4 1 5 1 3 2 4 3 4 4 4 1 4 1 2 1 5 4 4 2 1 2 2 5 1 3 5 2 4 5 3 5 3 1 3 3 1 1 1 4 5 4 3 4 5 3 5 3 3 1 2 4 2 3 1 4 5 4 1 5 4 3 4 2 2 5 2 1 1 1 5 4 2 5 1 4 2 1 2 5 4 5 1 3 4 4 4 2 3 5 4 4 5 4 3 5 2 2 4 2 1 3 4 1 5 1 3 2 2 5 3 3 1 5 1 3 2 4 3 5 2 3 2 5 3 3 2 4 2 2 2 2 3 3 3 1 3 4 2 1 1 1 1 3 5 3 4 5 5 3 1 1 2 2 3 3 3 3 3 4 3 4 4 3 1 3 2 5 2 2 5 1 1 4 3 5 2 3 5 4 3 1 1 4 1 2 4 2 4 4 4 5 4 5 1 1 5 4 3 4 1 4 5 5 2 4 2 2 5 5 5 3 2 4 1 3 2 2 1 3 5 4 5 2 3 1 2 4 1 3 4 2 2 3 5 1 3 2 4 4 3 4 3 2 2 5 5 1 1 3 5 2 3 4 3 4 2 2 1 2 2 4 4 3 4 1 3 3 3 1 4 5 4 1 5 4 5 2 5 3 2 5 5 5 1 4 2 5 1 5 2 1 4 2 1 4 4 2 4 5 3 4 1 2 3 2 3 3 3 2 5 2 3 4 5 5 1 1 2 4 2 5 3 2 4 3 4 4 5 5 1 1 1 5 2 1 3 1 3 1 1 1 1 3 5 4 3 1 4 1 2 1 4 3 4 3 3 5 4 1 4 2 4 2 1 5 4 4 5 1 4 3 5 4 4 4 4 1 3 2 1 1 5 4 4 3 2 1 5 3 4 4 1 4 2 2 4 5 1 3 3 2 5 1 1 3 2 5 5 5 1 2 5 2 1 1 4 2 5 4 3 1 1 1 5 4 3 5 2 5 2 1 5 4 5 5 1 5 4 1 5 1 5 3 2 3 3 4 3 5 5 2 2 2 1 2 3 2 2 4 3 2 3 1 5 2 3 3 4 3 3 2 1 3 2 5 1 5 4 1 5 2 3 3 1 3 3 3 2 5 3 3 4 5 2 1 3 5 5 1 3 5 1 4 3 2 5 5 3 5 4 3 4 3 2 3 3 2 2 3 5 5 4 4 2 4 4 4 1 5 2 3 2 1 5 4 5 1 5 1 2 5 4 3 2 1 5 2 2 1 5 1 1 2 1 3 4 5 4 3 1 1 3 4 2 3 5 3 4 4 3 1 4 1 3 2 1 1 4 3 5 1 1 4 5 2 2 3 4 3 5 2 1 2 3 4 3 2 3 4 4 4 5 5 2 2 5 1 4 4 4 5 1 4 2 4 2 2 3 5 3 2 5 2 1 2 2 2 1 4 4 1 3 3 1 1 5 3 5 4 1 1 3 4 3 2 4 1 2 1 1 2 1 5 1 3 4 3 2 5 3 4 2 4 3 1 2 4 5 3 5 2 5 4 5 2 1 4 4 1 1 1 3 2 2 4 1 3 3 1 3 1 4 1 4 3 2 3 3 4 3 5 2 2 5 4 2 5 3 4 2 1 4 4 1 5 4 4 1 3 3 3 4 1 5 5 2 5 1 1 1 5 3 3 2 4 5 5 2 4 4 3 4 4 1 1 2 4 4 2 5 3 2 2 4 5 1 1 2 4 3 2 2 2 4 4 5 1 3 5 2 1 4 3 2 2 4 4 3 5 1 5 2 1 4 2 1 2 1 4 5 2 2 2 4 3 5 3 1 2 2 2 3 5 1 5 4 4 2 3 5 2 3 1 4 4 5 5 3 3 4 4 1 5 3 4 4 2 3 2 1 4 3 1 2 3 3 5 4 2 1 1 3 1 1 3 2 1 1 1 2 5 5 5 4 1 1 3 4 2 2 2 2 2 3 2 3 1 1 3 4 3 5 1 2 3 2 4 3 1 5 3 2 5 4 4 2 5 2 5 2 1 2 1 5 1 4 5 2 2 3 5 1 3 3 5 1 2 5 5 3 3 5 2 2 3 2 2 5 5 4 4 2 4 5 1 4 1 3 3 5 2 3 3 2 1 4 1 1 4 5 2 2 3 3 4 5 2 2 5 5 5 4 1 1 2 4 3 2 3 4 1 5 4 1 2 4 2 1 5 4 1 1 1 5 5 1 2 3 1 2 2 1 4 1 5 1 4 1 3 1 3 1 1 5 3 3 3 1 2 3 2 2 1 2 4 1 4 4 5 1 4 2 5 1 2 1 4 3 2 3 5 3 1 1 4 1 3 1 1 3 5 4 5 5 5 2 4 2 1 3 1 1 1 4 1 3 5 4 1 1 4 1 4 1 3 5 4 5 4 2 5 3 1 4 1 2 5 4 1 1 1 1 1 4 3 3 4 2 4 2 1 4 5 5 3 2 2 4 1 4 3 5 1 5 4 2 3 3 2 1 1 3 1 2 2 3 1 2 5 3 3 5 1 2 3 4 2 5 2 3 1 5 1 4 2 4 5 4 5 2 1 1 5 2 5 4 5 5 4 2 5 5 2 1 4 4 3 3 5 3 4 4 3 2 3 3 2 4 3 2 2 1 1 1 5 1 1 5 1 1 5 4 2 2 1 3 3 4 5 5 3 3 5 3 1 4 3 3 1 4 2 2 4 1 5 5 1 5 1 3 5 3 2 2 2 5 3 4 2 2 4 5 5 1 1 2 4 2 5 1 5 2 2 1 3 2 1 4 4 1 4 1 4 3 4 4 2 3 3 2 5 5 3 4 3 3 4 5 1 5 5 2 5 1 2 3 4 1 5 1 1 1 1 4 1 4 5 3 2 5 5 4 1 3 3 3 3 5 2 4 5 5 2 3 5 4 5 1 4 3 2 2 3 1 1 4 3 4 5 5 4 3 1 3 3 1 5 4 3 2 2 1 4 2 1 2 5 5 2 4 4 3 1 2 2 5 4 5 4 4 5 3 5 5 4 1 4 5 5 2 2 4 2 1 3 1 2 5 5 1 5 5 4 2 2 5 3 1 5 4 5 5 4 3 3 3 5 5 5 1 4 5 3 4 2 1 1 5 2 4 3 1 2 4 2 2 1 4 5 1 4 2 2 2 3 5 3 1 1 4 3 5 1 4 3 2 4 1 5 2 4 4 1 2 1 1 1 3 1 4 5 4 5 1 1 2 2 1 3 4 1 1 4 3 3 1 2 5 1 2 5 4 1 2 1 4 4 1 1 3 2 4 3 4 2 5 1 1 4 1 3 5 1 5 5 1 5 3 4 5 3 4 4 3 1 4 4 5 5 5 4 1 2 3 2 5 4 2 4 5 1 4 3 1 1 1 2 4 3 4 1 2 4 2 1 5 4 4 1 3 5 1 2 3 3 3 4 3 5 1 4 1 2 5 1 5 5 2 4 1 3 5 2 3 1 1 2 1 4 3 3 2 2 4 5 4 2 2 2 5 4 5 2 1 4 4 3 1 3 2 4 4 2 5 3 2 3 5 3 3 1 2 2 5 4 1 4 1 5 1 5 4 2 5 5 5 2 3 4 1 4 3 4 1 4 5 1 2 4 2 1 3 4 4 3 1 1 2 4 1 5 2 1 5 3 5 2 2 3 2 2 5 4 4 3 4 2 5 1 3 1 4 1 3 5 1 3 1 2 4 1 4 3 2 5 3 3 3 2 4 2 5 2 1 2 4 1 4 4 3 5 2 4 2 4 4 3 2 1 5 5 3 5 5 1 3 2 4 4 1 4 1 5 1 1 4 3 4 2 5 1 4 5 4 1 2 1 1 2 5 2 3 2 1 1 2 4 4 3 2 5 2 2 3 5 5 1 3 2 5 3 5 1 1 1 2 5 3 1 4 5 5 3 2 1 4 3 3 4 1 5 3 2 3 4 5 5 2 4 1 3 1 1 4 2 4 2 4 2 4 2 3 3 4 3 1 5 5 4 1 3 2 4 3 4 4 1 5 1 1 2 3 3 3 3 5 3 4 5 2 4 4 1 3 5 1 4 3 4 2 1 1 1 3 1 1 2 2 3 1 4 5 5 5 3 3 3 1 2 2 2 4 4 4 1 5 2 2 1 5 1 2 3 2 5 3 4 2 5 3 4 4 5 4 2 2 2 3 3 2 4 3 4 1 3 1 5 3 5 1 5 3 1 4 5 1 1 2 1 3 3 4 5 1 5 4 1 3 4 2 4 2 1 5 2 3 1 2 2 3 5 2 3 5 5 1 3 2 1 5 2 5 5 5 1 4 5 2 5 4 1 1 4 4 5 4 4 3 1 4 2 2 3 1 3 2 4 2 1 3 2 1 3 1 2 1 4 1 1 3 4 4 5 2 5 2 4 2 4 5 2 5 2 4 2 4 3 2 4 3 4 5 5 2 5 5 4 5 1 1 5 2 4 3 5 5 1 3 3 5 5 4 2 2 4 5 2 1 5 5 3 2 1 4 3 2 5 3 5 5 4 4 1 1 2 4 5 2 4 3 4 4 1 4 5 3 4 1 3 4 4 3 3 2 4 5 2 5 5 2 2 1 5 3 5 1 5 4 5 2 5 5 5 2 3 4 3 1 2 2 1 2 5 4 1 2 3 2 2 1 5 3 5 3 2 5 2 5 3 1 1 5 1 4 2 3 4 3 1 3 4 3 3 4 5 1 5 1 4 3 5 3 4 5 2 3 4 5 3 1 3 3 5 3 4 2 5 2 4 1 3 4 5 2 4 1 3 1 1 1 2 2 5 1 2 1 2 1 5 1 1 1 2 3 3 1 4 2 3 2 1 4 2 3 5 1 4 4 5 4 1 2 3 1 2 2 4 4 5 3 3 1 2 2 3 4 4 3 1 4 5 2 3 4 1 3 1 1 4 2 4 3 5 2 3 3 4 2 4 5 5 5 1 2 1 5 2 2 5 4 1 4 1 1 4 1 1 5 2 5 2 1 2 3 5 4 1 4 1 4 2 2 4 4 1 2 5 4 3 5 1 4 2 3 3 4 1 1 3 3 5 1 1 3 1 2 4 5 2 4 4 1 4 2 3 4 3 1 4 4 2 3 5 5 1 2 2 3 1 4 5 2 3 4 4 4 2 4 4 5 1 1 1 5 4 1 1 1 4 5 2 4 1 3 4 5 3 3 4 2 4 4 4 4 1 4 1 4 2 2 5 5 1 2 1 1 1 5 4 4 3 4 3 3 1 1 1 1 5 4 5 1 4 3 1 3 5 3 4 3 5 4 5 5 5 2 4 1 1 4 3 3 2 3 2 2 4 1 1 4 3 2 1 3 4 5 5 5 3 1 4 3 5 4 5 1 1 5 2 2 5 3 2 4 2 1 5 2 1 2 3 4 3 5 3 2 1 2 4 3 4 2 4 2 1 5 1 4 4 2 3 4 1 2 5 3 1 4 4 5 4 5 5 3 5 1 4 4 2 2 4 5 5 1 2 1 1 1 1 2 4 4 3 1 4 1 1 2 1 2 1 2 4 2 2 5 2 2 3 2 2 1 3 3 1 4 4 2 2 5 1 1 3 1 2 2 1 2 4 4 3 2 5 2 5 1 3 3 3 5 4 3 1 3 4 4 5 3 5 1 4 5 2 2 1 2 4 3 3 2 5 1 1 4 1 1 3 1 4 5 5 3 1 1 3 2 2 5 2 2 5 1 2 3 4 1 5 2 1 2 4 2 5 2 5 4 5 2 4 4 4 1 2 2 1 5 1 4 4 1 5 5 2 1 1 1 5 3 1 3 4 2 1 4 4 2 5 3 5 3 5 3 4 2 5 5 5 1 3 1 4 4 3 1 4 1 2 5 5 3 2 4 3 2 4 2 3 5 4 3 3 2 2 1 1 5 5 2 5 1 2 2 3 2 4 2 2 3 2 3 5 4 4 4 4 5 2 1 3 2 3 1 3 4 3 5 1 3 2 5 4 5 3 2 4 3 1 5 1 1 1 5 2 3 1 1 3 2 2 4 4 1 2 4 5 3 5 4 4 1 1 5 2 1 4 1 5 2 3 2 2 4 4 5 5 3 1 1 3 5 2 5 5 5 5 3 5 3 2 2 2 1 1 2 3 3 2 2 3 3 5 1 1 3 1 4 5 1 5 5 2 5 3 1 5 5 1 5 2 5 5 4 4 2 5 1 2 1 3 5 5 4 3 5 1 5 2 2 5 4 1 4 4 5 1 2 5 1 3 4 2 4 3 4 3 2 3 2 2 5 1 3 2 2 3 5 1 2 1 4 1 4 5 5 5 3 3 3 5 4 5 4 5 3 2 5 5 4 2 5 4 2 2 1 4 4 3 2 2 5 4 5 5 1 1 1 2 2 2 5 3 1 5 1 2 3 2 5 4 5 1 2 5 2 4 5 2 1 3 3 3 3 1 5 3 3 4 3 2 3 2 5 3 5 3 3 1 1 1 5 3 5 4 5 5 5 5 3 4 3 5 1 4 4 1 2 4 4 2 2 3 4 2 3 4 1 5 1 2 3 4 1 1 5 3 2 1 2 3 5 4 1 3 3 4 3 3 2 3 3 5 4 5 1 3 5 3 2 4 3 1 5 2 1 3 1 1 5 4 4 1 1 1 1 4 5 5 3 4 5 5 3 3 2 5 1 3 2 1 1 1 3 4 5 1 5 3 1 5 1 4 2 3 3 4 1 4 4 1 2 4 5 1 4 5 3 5 5 3 5 5 3 5 5 5 5 3 5 3 1 5 4 5 5 2 4 1 5 2 4 2 3 4 3 4 3 5 2 1 3 5 5 4 1 2 4 4 2 2 5 2 1 3 4 1 1 2 3 2 3 3 4 3 4 3 2 4 1 1 4 1 1 3 5 5 2 5 4 4 2 4 1 2 5 5 3 5 2 4 4 2 2 2 4 2 3 1 2 5 5 3 3 3 5 1 1 3 2 3 2 4 3 3 1 1 2 4 4 5 3 1 3 5 3 3 2 3 3 4 1 1 3 3 5 4 4 3 1 1 4 4 1 5 1 1 2 2 3 4 2 3 5 5 3 2 5 2 3 5 1 5 5 3 2 2 5 1 3 2 2 3 1 5 2 1 3 1 4 2 2 1 4 2 3 4 1 2 3 5 5 3 1 5 3 2 4 3 2 3 2 3 2 1 5 1 4 4 5 2 5 3 1 4 3 1 1 5 1 2 5 4 5 4 2 2 1 5 5 3 2 2 5 5 2 2 2 4 5 5 2 5 3 2 1 1 4 4 1 1 3 2 4 4 5 3 2 3 2 2 2 2 2 3 2 4 3 2 3 4 5 1 5 5 2 5 4 3 3 1 4 2 2 1 2 2 1 2 1 5 1 1 2 2 5 1 2 2 3 5 1 5 3 5 1 2 5 1 1 2 2 3 2 3 2 3 2 5 1 3 4 1 3 5 5 2 3 5 1 3 3 2 5 5 4 1 4 1 4 1 1 1 2 3 3 4 4 2 2 2 3 5 5 5 2 4 5 5 3 2 2 2 4 5 5 1 4 1 4 5 2 1 2 5 1 4 1 3 2 4 3 4 4 4 4 2 2 5 3 3 1 3 2 2 4 3 1 1 1 3 5 5 1 4 3 1 5 1 2 4 4 4 5 1 1 2 1 2 2 5 2 1 1 5 1 3 1 1 2 5 5 1 1 2 2 5 5 5 5 2 3 5 2 3 3 4 5 5 1 1 5 1 5 4 4 1 5 3 4 3 3 2 3 4 5 3 3 5 3 4 4 2 2 5 3 1 3 4 2 2 2 5 2 1 5 4 4 5 3 1 5 3 2 1 2 5 1 4 4 2 3 3 3 1 5 5 3 5 5 4 5 2 3 5 1 5 2 3 2 3 1 5 2 2 1 5 1 1 2 3 3 5 1 4 2 4 3 3 2 3 3 5 2 2 1 4 1 3 3 4 5 2 1 3 4 4 1 2 5 2 4 4 4 3 1 5 5 2 1 2 2 4 2 2 5 3 5 2 3 1 5 4 4 4 2 4 4 5 1 5 2 4 1 4 4 5 4 1 1 2 4 4 2 1 1 5 3 2 3 3 4 2 5 1 3 4 4 4 4 2 1 5 2 5 1 3 2 4 4 1 4 2 4 4 5 5 1 3 1 5 4 1 5 4 1 1 5 5 3 5 3 1 1 2 1 2 5 5 3 2 2 1 2 1 5 1 1 2 5 2 5 4 5 2 4 4 1 5 3 1 2 3 1 2 2 4 5 1 3 5 3 1 3 5 5 1 4 2 1 3 5 1 3 5 2 5 2 1 3 2 4 2 3 3 3 2 4 3 3 5 3 1 1 1 1 5 5 2 3 4 3 1 1 2 1 2 1 5 3 3 2 5 5 3 1 2 4 1 2 5 4 2 5 2 5 2 3 5 3 4 5 2 4 3 1 3 1 1 3 5 1 2 3 1 3 5 3 2 3 1 1 5 5 5 5 3 4 4 1 3 3 5 2 4 3 2 2 3 2 5 4 3 3 4 4 2 1 3 1 3 4 3 4 2 2 3 1 4 4 1 5 4 4 4 4 4 1 5 1 5 4 3 4 5 2 3 2 1 2 3 2 1 2 3 1 1 5 5 3 4 5 4 3 4 4 2 1 2 5 1 1 2 1 3 3 5 3 3 2 2 2 3 5 1 4 5 2 3 3 1 3 4 5 3 1 1 2 3 4 5 3 3 4 5 2 4 2 5 3 4 5 5 1 5 5 1 4 1 4 2 4 4 4 5 3 1 3 2 3 4 1 4 5 1 1 4 1 5 3 4 2 1 3 4 2 1 5 5 3 2 3 4 1 2 1 3 5 3 4 4 1 2 5 3 2 4 1 3 3 2 5 5 5 1 4 2 3 2 3 2 5 5 3 3 3 2 3 3 4 2 5 1 5 1 4 3 4 2 2 1 5 2 5 4 1 5 1 2 2 5 5 5 4 5 5 4 2 3 5 2 3 1 2 1 5 2 2 1 1 3 4 3 5 5 2 4 2 4 4 2 1 5 3 1 4 4 1 1 5 1 5 3 5 2 5 5 4 1 5 2 5 5 3 4 1 2 1 5 3 5 2 1 2 1 5 3 1 3 1 2 2 1 3 4 3 2 4 5 1 3 4 4 5 2 2 1 2 2 3 3 5 4 4 3 1 2 5 1 2 1 5 4 2 2 4 5 5 5 3 2 3 1 4 5 3 4 4 2 4 4 3 2 1 1 1 4 2 1 5 2 4 1 5 4 4 5 5 1 4 2 4 5 5 2 1 5 4 2 2 2 1 3 4 3 3 4 4 5 2 2 1 4 1 2 5 3 5 2 4 4 5 1 3 5 2 4 3 2 4 5 4 2 4 5 4 5 3 2 1 5 3 2 2 3 2 1 5 4 4 4 2 2 4 4 5 2 5 2 2 4 1 2 5 1 4 5 1 1 4 2 2 1 2 3 1 4 2 2 5 4 4 1 1 4 3 5 5 2 4 1 4 4 4 4 3 1 5 2 4 3 5 3 4 2 3 4 4 4 1 4 1 1 4 4 2 4 4 3 4 5 2 2 5 2 5 4 3 4 2 2 3 3 1 3 3 4 3 3 5 3 2 4 3 1 4 2 1 2 2 3 1 3 5 1 1 2 1 3 5 5 2 5 2 1 4 3 2 5 3 1 4 1 3 2 1 3 1 5 5 3 1 1 1 2 1 2 5 1 3 5 2 5 3 3 2 1 2 3 1 4 5 2 3 2 4 4 2 1 3 3 1 3 2 4 2 5 5 3 5 2 4 4 3 4 3 5 1 2 3 3 4 4 2 4 2 4 5 4 5 4 5 1 1 4 5 4 3 3 2 2 5 2 4 4 1 4 5 3 4 4 2 2 3 5 1 1 1 3 4 2 5 2 2 3 3 4 2 4 3 1 5 1 1 1 5 2 3 1 1 3 1 1 1 4 5 5 3 2 4 3 3 4 3 1 1 1 4 1 2 5 3 1 1 4 3 5 3 3 1 5 1 3 5 4 2 3 4 2 1 2 2 4 5 1 1 5 4 2 3 1 1 3 5 5 4 1 1 1 5 3 4 5 4 3 2 2 5 1 5 2 3 5 1 4 3 5 5 1 1 4 4 1 1 3 5 2 5 3 3 1 2 2 5 4 5 3 3 5 3 3 2 4 5 1 4 1 5 1 2 3 4 1 4 5 4 2 1 1 3 5 2 5 2 4 4 4 3 5 3 4 4 5 4 2 4 1 1 4 4 1 5 3 3 1 3 4 4 3 2 5 4 4 3 3 2 2 4 5 2 4 3 4 5 1 1 2 5 4 2 2 5 3 3 5 5 5 3 4 1 2 1 1 1 4 4 4 4 1 1 1 4 4 4 4 2 5 2 3 1 3 1 5 1 5 4 2 3 2 3 5 3 3 2 5 2 2 5 1 3 4 3 3 3 5 2 3 4 1 1 2 3 1 3 5 2 2 1 5 4 4 2 5 3 4 1 3 2 2 1 1 3 5 5 1 1 5 1 4 5 2 4 2 1 2 4 3 5 2 2 1 5 4 3 3 5 2 3 1 2 2 4 5 2 5 2 3 1 5 4 5 3 4 3 5 4 1 4 5 4 1 3 1 2 3 4 2 2 4 5 4 4 3 5 3 2 1 5 5 3 5 2 4 1 3 1 4 4 4 4 2 1 4 3 5 2 1 3 3 4 2 4 2 3 1 3 1 4 1 4 1 3 1 4 2 3 2 4 3 5 2 5 1 3 3 3 2 3 1 3 1 1 5 4 4 1 1 3 3 4 5 2 4 5 5 5 1 2 1 5 1 3 4 3 3 5 3 3 3 1 2 4 3 5 1 5 2 2 5 5 2 4 5 3 4 3 4 1 4 5 4 5 2 2 3 1 2 4 3 2 2 1 1 2 5 3 1 5 1 2 5 4 1 1 4 1 1 5 3 5 3 4 3 2 2 4 2 4 5 1 3 4 3 1 2 1 3 3 3 4 2 3 4 3 5 1 5 4 1 5 5 3 3 2 5 5 4 4 3 2 2 1 3 5 1 5 3 5 1 2 2 3 2 5 4 1 5 1 1 5 5 1 1 4 5 1 2 3 4 1 5 1 4 3 4 3 4 1 3 3 1 1 1 4 1 5 4 5 1 4 1 3 3 1 4 4 5 5 4 5 5 5 5 3 4 5 5 1 4 2 2 2 3 5 5 3 1 3 1 1 5 2 3 3 4 3 1 3 5 4 4 2 1 2 4 2 1 2 1 4 1 5 3 2 5 1 2 3 1 1 4 5 2 3 2 2 5 5 1 3 2 3 5 3 2 4 2 5 2 4 1 4 2 5 2 4 5 3 3 2 1 3 3 3 1 4 5 4 1 5 5 3 4 2 1 1 1 1 4 3 4 2 1 5 4 5 5 4 3 1 5 1 4 3 4 1 1 5 4 3 5 2 4 4 3 3 3 2 3 3 5 5 3 3 5 4 5 2 5 4 2 1 4 3 5 2 5 3 1 1 2 4 3 4 3 2 4 3 3 3 5 4 4 4 3 4 4 5 4 3 1 3 5 3 1 4 5 2 3 2 1 2 2 3 2 2 5 2 3 2 5 5 5 5 1 2 5 3 3 5 4 5 3 2 5 5 5 3 3 2 4 1 4 1 4 1 5 4 1 2 5 4 1 2 3 1 4 4 5 3 3 1 5 3 3 1 5 4 2 4 4 1 5 5 1 2 3 4 2 5 3 3 3 2 3 1 5 5 3 1 2 4 4 5 4 3 3 3 1 4 1 4 5 1 3 4 4 1 5 5 5 4 5 3 3 5 4 1 3 1 5 4 2 1 2 3 4 4 4 1 1 3 5 3 3 2 5 3 2 3 4 4 2 4 1 4 1 3 4 4 5 3 2 2 3 2 2 1 1 4 5 1 5 4 4 1 2 1 2 3 4 1 2 4 4 4 1 1 2 2 1 1 4 1 2 5 5 2 1 4 2 3 1 2 2 4 2 1 5 5 4 3 4 5 4 2 2 3 4 1 2 3 3 5 1 1 2 5 5 2 3 3 4 4 3 1 1 1 5 1 2 2 4 1 5 1 1 3 4 4 4 2 3 3 2 3 5 1 3 5 3 2 2 1 1 1 5 2 3 3 3 2 4 4 2 2 4 5 4 3 4 2 3 2 3 3 3 5 1 3 1 4 1 4 2 3 5 3 4 2 1 2 4 4 4 3 4 2 5 5 5 1 5 2 1 5 1 4 1 4 4 3 3 4 3 5 2 5 2 3 2 2 2 2 4 5 1 1 3 2 2 2 4 4 4 4 2 4 2 3 2 4 3 1 5 1 2 3 4 2 5 5 5 4 3 1 4 4 2 4 4 3 4 5 5 1 2 5 1 1 1 2 1 5 4 4 1 2 4 3 2 2 4 5 5 4 1 2 3 5 3 1 1 3 1 4 4 1 2 1 4 5 3 1 5 5 2 4 1 1 3 1 1 3 2 3 5 4 1 4 1 5 4 3 2 2 2 1 1 5 5 4 3 5 1 3 1 5 2 4 5 1 1 2 4 1 4 2 5 3 5 1 4 5 5 4 4 4 1 1 2 3 2 4 2 5 5 5 2 4 2 2 3 1 1 5 5 2 4 1 2 2 2 3 1 4 3 3 3 4 4 5 2 2 3 2 1 5 4 4 1 5 2 2 3 3 1 1 1 4 4 1 5 3 2 2 5 5 1 3 4 4 2 4 3 4 1 4 1 2 5 2 1 4 5 5 5 3 4 3 5 1 5 5 4 4 2 5 3 4 1 5 3 2 1 5 2 1 2 3 5 2 5 1 4 2 1 4 5 2 1 3 1 2 5 1 2 5 5 1 3 3 4 1 5 3 2 3 4 1 1 2 3 4 5 1 3 4 4 4 1 1 3 2 2 4 5 2 3 5 2 5 1 5 1 1 3 5 1 5 3 3 1 5 3 1 1 2 1 5 2 1 4 2 5 4 1 1 5 5 4 1 2 1 1 1 3 5 1 5 2 5 5 3 2 4 4 1 2 4 1 2 4 5 5 1 3 3 5 3 2 2 5 5 5 1 5 4 3 5 1 3 5 5 2 1 2 3 2 4 5 1 5 4 4 1 4 5 5 3 1 4 5 4 3 5 4 2 3 3 1 1 4 5 2 5 3 1 5 5 4 4 3 3 3 5 3 5 2 1 3 1 4 5 2 5 2 3 2 1 2 4 3 3 1 4 4 4 3 3 1 1 3 4 2 5 4 3 5 5 1 1 5 3 4 1 2 3 4 3 1 2 3 4 4 4 4 5 3 1 3 3 5 3 1 2 3 2 3 4 5 2 4 2 4 3 1 5 1 1 1 1 1 5 4 3 1 3 2 1 3 3 4 1 4 2 4 5 1 4 2 1 2 5 5 2 4 2 1 5 4 3 2 3 4 5 4 1 1 5 1 3 3 5 3 2 5 5 1 2 1 2 4 1 2 5 4 4 3 2 2 2 3 3 5 5 1 2 4 3 3 1 1 3 3 2 2 5 1 5 5 3 3 2 2 4 2 4 5 4 1 1 4 1 2 3 3 2 5 4 5 1 1 3 3 1 1 4 1 4 5 3 5 4 5 1 2 4 3 2 2 2 4 5 4 4 1 5 5 4 1 5 3 5 3 4 5 5 5 2 3 1 3 3 5 1 4 3 3 5 4 2 1 1 5 5 1 1 2 4 4 2 5 5 2 5 4 4 2 3 2 4 5 5 4 5 2 2 1 4 1 1 4 4 3 5 3 3 4 1 4 4 4 2 2 4 3 2 4 4 1 4 3 4 4 3 5 3 5 1 3 4 1 3 1 2 4 4 3 5 3 2 1 1 2 1 1 2 4 1 2 4 3 4 1 4 2 4 5 1 3 1 1 2 5 1 5 5 2 3 3 5 5 4 1 2 1 2 2 1 2 3 1 4 1 2 1 3 1 3 3 4 3 1 4 2 5 1 5 4 4 5 4 3 5 1 5 3 3 1 4 3 3 1 5 5 2 3 3 5 1 3 2 1 1 4 1 2 5 5 5 3 5 5 5 2 3 5 3 3 3 1 3 2 5 3 2 1 1 4 2 5 4 1 2 2 3 1 2 1 2 5 2 3 1 4 1 5 5 5 5 5 3 5 3 1 3 3 4 4 3 5 4 4 3 3 4 1 4 3 4 3 5 3 2 5 4 3 3 5 4 3 1 4 4 4 5 1 5 5 3 1 5 4 4 4 5 1 5 4 2 4 3 2 4 3 3 2 4 1 4 4 3 1 2 3 3 3 2 3 3 5 4 3 3 1 1 2 4 2 2 3 2 1 3 3 5 1 4 1 1 5 1 5 3 4 2 1 4 3 3 1 1 5 3 4 5 3 4 1 3 5 1 3 3 5 4 4 5 2 4 1 2 1 3 1 4 2 3 3 1 2 5 2 2 4 2 4 3 5 4 2 2 1 5 2 5 4 5 5 5 4 2 5 4 4 4 4 2 5 4 4 3 5 4 4 3 4 1 2 5 4 5 1 2 1 3 2 1 2 2 1 2 1 5 3 3 4 3 3 4 4 1 1 3 1 1 1 1 1 3 3 5 5 5 5 4 5 4 4 5 4 5 5 4 5 4 2 3 1 5 3 4 5 1 3 1 1 3 1 2 2 3 3 2 1 2 5 3 1 5 4 2 3 4 4 5 2 1 2 5 3 3 4 4 1 1 1 3 2 1 5 5 4 1 4 1 2 4 4 2 2 3 2 5 5 2 3 4 2 2 1 4 1 3 3 1 4 2 1 5 5 2 4 4 3 3 1 4 4 3 2 2 4 1 1 5 4 1 1 4 1 2 5 1 5 1 4 2 1 5 3 4 2 5 5 1 5 2 3 2 2 1 3 3 2 3 5 4 4 4 5 2 4 2 2 2 1 1 5 5 1 2 2 3 2 2 3 5 3 3 2 3 5 2 2 4 3 2 2 5 3 4 1 4 3 5 1 1 5 1 3 4 4 5 3 2 3 4 4 4 5 2 5 3 1 5 2 5 5 1 2 3 5 3 3 5 1 1 2 4 5 5 2 4 4 1 4 4 2 1 1 2 1 5 3 3 1 3 4 3 3 2 1 2 3 2 2 2 3 5 1 5 3 5 4 3 3 2 1 5 3 4 1 1 4 5 4 5 2 3 4 1 1 3 4 3 2 5 4 1 2 5 3 1 5 4 4 2 2 3 1 2 1 1 4 3 1 1 3 3 1 5 3 5 2 2 4 1 5 3 5 3 1 2 5 2 5 3 2 5 3 2 3 2 5 4 1 4 2 5 2 4 5 3 4 3 1 1 2 3 4 1 1 5 5 1 1 3 3 3 5 2 2 5 2 3 5 1 3 3 4 2 4 5 3 4 1 3 3 2 1 5 5 5 3 1 3 5 4 5 3 1 5 5 2 1 5 3 5 3 1 3 1 1 5 5 3 5 3 1 4 2 4 4 1 1 5 5 5 1 5 2 3 1 2 1 3 3 3 4 4 2 4 4 5 2 5 1 4 5 5 1 3 5 1 5 2 4 3 5 2 4 1 5 5 2 3 5 5 1 2 1 2 3 2 1 3 5 4 5 5 2 4 3 5 1 4 2 3 4 2 1 5 3 5 5 5 2 5 1 5 5 5 4 4 2 5 3 2 1 1 1 5 5 5 2 5 1 2 5 1 5 4 2 5 3 4 2 3 5 2 4 1 3 2 5 2 4 4 4 5 3 3 3 2 4 2 1 2 3 4 5 5 1 2 1 1 4 3 5 2 5 3 3 5 1 4 4 1 4 2 5 1 5 5 5 2 3 5 2 4 3 2 4 2 1 3 2 4 1 5 2 3 5 3 2 5 4 4 2 4 3 1 3 2 3 4 4 2 5 5 1 2 5 1 1 2 2 3 2 5 5 5 5 3 4 3 2 5 3 4 2 5 5 3 2 1 5 4 4 3 1 4 2 1 5 2 5 1 5 4 4 1 5 1 2 2 4 1 4 2 3 2 4 4 2 3 5 4 5 2 4 5 3 1 5 3 4 3 3 3 1 3 5 4 3 3 4 5 3 4 1 1 2 5 2 3 4 4 3 4 2 1 2 1 3 4 3 4 2 4 3 2 5 4 1 4 3 3 5 1 5 1 3 5 3 4 4 5 2 5 1 4 3 2 1 4 2 4 1 5 1 3 5 5 5 2 3 4 2 2 3 5 5 2 3 4 3 3 2 4 3 5 3 2 4 5 2 5 4 1 5 4 1 1 1 3 5 4 3 5 3 4 4 2 4 2 2 4 4 1 3 2 1 4 5 3 2 3 5 3 4 3 4 2 3 1 1 5 2 1 5 4 1 1 4 1 3 1 4 2 4 4 1 5 5 1 2 4 1 4 3 3 1 3 3 2 4 5 2 4 5 4 4 1 5 5 4 4 2 5 4 1 5 2 5 5 1 2 1 2 4 5 2 3 3 2 3 2 4 1 5 5 1 1 3 5 3 4 2 3 5 3 4 4 1 2 1 3 4 1 3 3 2 2 1 2 4 3 3 1 2 1 5 3 4 1 4 3 3 4 5 3 4 3 4 4 2 1 3 5 3 5 2 5 5 4 4 5 1 5 3 2 3 3 3 5 5 4 3 2 5 2 3 4 1 1 5 2 3 1 4 3 2 3 4 4 3 4 2 3 2 1 2 3 4 5 4 5 3 4 5 3 3 2 1 2 1 3 4 1 5 5 4 4 5 5 4 2 1 2 2 3 5 2 4 3 2 4 2 2 4 2 1 5 2 5 3 5 4 5 5 1 1 4 4 4 3 5 5 5 4 4 5 2 3 3 1 2 3 2 4 1 5 2 2 3 2 2 2 2 2 2 4 4 4 3 1 2 1 2 5 2 1 4 1 5 4 3 3 3 2 5 1 2 2 2 5 2 1 5 5 3 4 2 3 4 3 2 2 5 5 3 1 5 4 1 5 2 1 4 4 3 2 4 2 1 1 4 2 3 4 4 3 5 5 5 5 1 1 3 4 4 5 5 4 5 3 2 1 2 4 2 5 3 3 1 1 3 3 3 2 3 4 1 1 5 5 1 2 5 3 5 5 3 1 1 3 5 1 1 3 3 4 1 4 4 2 2 1 3 5 2 1 2 3 5 3 3 3 1 3 2 4 3 2 5 4 3 3 3 2 3 2 1 4 2 2 2 3 3 2 1 5 2 1 1 4 3 4 5 2 2 2 3 2 5 2 4 2 1 4 5 5 3 4 3 5 4 1 4 1 4 1 3 2 1 3 5 4 3 2 3 2 4 1 3 5 4 1 4 5 4 2 4 4 3 4 2 4 4 1 2 2 4 2 1 2 3 5 3 3 1 5 3 3 1 3 5 4 4 4 2 5 2 2 2 4 5 4 1 4 5 3 2 3 5 1 4 3 2 4 4 4 4 3 4 2 5 2 3 2 5 1 2 2 1 3 1 1 1 5 2 2 2 4 1 4 2 4 4 5 4 4 5 3 3 4 2 5 4 5 5 4 5 2 4 3 2 3 5 1 5 2 5 3 3 3 4 5 3 3 2 2 4 1 4 2 1 2 4 5 3 2 5 4 5 1 3 5 1 4 2 5 2 2 5 5 1 4 3 1 2 2 1 3 4 2 5 1 2 1 3 5 1 1 5 3 5 2 4 3 1 4 3 1 1 5 2 5 2 1 4 4 2 2 4 5 5 4 1 5 3 5 4 4 3 1 5 5 5 5 4 4 3 4 2 5 3 4 4 5 1 1 5 1 2 3 2 1 3 5 3 5 5 5 3 2 3 1 3 2 1 5 2 4 2 2 1 5 3 2 5 4 2 2 4 1 4 1 2 5 3 4 5 1 2 2 5 3 3 3 1 4 1 5 3 1 4 2 1 1 5 4 5 2 5 4 5 3 3 2 5 3 2 4 2 1 1 4 3 5 2 5 3 2 1 2 3 1 3 3 5 3 4 5 3 1 5 4 1 3 2 4 3 5 2 5 1 4 5 5 5 3 1 4 2 2 3 2 5 3 4 3 2 4 2 4 4 1 5 4 5 2 2 2 3 4 5 3 1 2 3 4 1 3 2 2 3 1 1 2 4 4 3 5 3 4 1 2 3 3 4 2 5 3 3 1 1 1 1 3 3 2 3 2 5 3 4 4 4 2 5 2 4 2 4 5 2 1 4 4 5 5 3 4 1 3 2 1 1 4 2 1 2 3 3 5 2 1 5 3 2 2 3 5 5 3 1 1 2 5 1 3 5 5 4 5 5 1 2 5 4 4 3 5 5 4 5 5 4 5 3 5 1 1 2 3 3 5 3 1 5 1 4 2 4 2 5 5 5 1 5 4 4 5 4 2 3 5 4 4 1 3 5 4 1 5 1 4 5 4 3 5 3 2 3 5 1 1 1 3 5 2 1 4 2 4 2 5 1 4 3 5 2 5 2 2 1 3 3 3 5 3 5 5 2 2 3 3 1 3 1 1 4 3 1 4 1 1 1 4 5 2 5 3 4 3 3 2 4 2 3 1 3 4 4 5 4 4 5 2 2 4 2 3 3 4 3 2 4 3 4 4 4 1 4 3 4 5 2 5 2 1 5 5 1 1 3 5 4 5 1 2 4 2 1 2 1 2 2 4 5 2 3 5 4 2 4 1 2 1 5 1 5 3 4 5 5 4 3 3 3 3 5 4 3 1 5 4 1 1 3 2 1 2 4 1 4 5 2 3 4 1 3 2 4 2 3 5 3 2 5 2 3 3 1 3 3 1 5 3 5 2 4 1 3 2 3 2 3 2 2 2 2 3 3 2 1 4 3 3 4 5 3 1 2 3 1 5 3 5 3 2 2 4 5 1 4 4 3 3 2 2 4 3 2 4 1 4 4 2 4 2 2 3 4 2 5 3 4 1 4 1 5 5 4 5 4 5 5 4 2 3 5 5 1 2 1 1 3 2 5 2 3 5 2 5 5 4 3 2 5 1 5 5 2 1 3 1 1 2 5 4 5 3 5 2 5 5 2 4 4 1 5 4 3 2 5 5 1 3 4 1 1 1 4 2 1 5 3 5 1 1 1 4 2 4 1 1 1 5 1 4 1 1 4 1 1 4 3 2 3 3 3 1 4 4 4 4 2 3 4 2 2 1 4 3 1 3 2 4 1 3 5 1 1 2 1 3 3 2 1 4 3 4 1 1 2 5 1 4 3 4 5 3 1 4 2 4 5 5 4 4 1 3 5 2 1 1 5 1 2 5 2 3 5 5 2 5 1 2 2 3 4 1 5 4 2 5 5 4 2 2 2 4 3 4 4 4 4 1 5 5 5 4 1 5 5 1 4 2 4 1 3 1 3 2 2 1 2 5 1 2 3 4 2 5 3 4 3 4 1 5 1 1 5 3 1 4 3 4 1 2 1 2 1 2 5 1 5 5 2 4 5 1 3 4 5 4 2 1 4 2 2 5 4 2 2 4 5 1 5 2 2 3 4 1 4 5 5 1 2 2 4 1 4 4 2 1 1 3 3 5 4 3 1 3 5 3 4 3 3 3 5 5 4 3 2 2 5 4 4 5 2 3 1 4 2 1 5 1 5 4 4 3 2 4 2 4 4 1 4 1 2 3 4 2 4 3 5 1 4 2 5 5 2 2 5 5 5 3 5 4 4 3 4 1 5 1 1 5 5 3 4 2 2 1 5 2 3 1 3 3 3 4 5 3 5 3 4 5 2 2 1 5 3 5 3 3 3 2 1 2 3 5 4 1 3 5 3 5 2 4 1 5 3 4 4 3 5 1 5 1 4 1 3 5 4 3 1 1 5 2 4 1 1 4 2 2 4 2 4 3 1 4 4 2 5 5 1 2 1 3 2 2 2 3 1 2 3 3 3 1 1 2 3 3 1 1 1 2 3 2 2 1 4 1 5 1 4 3 2 1 2 4 1 2 5 3 4 5 3 2 5 4 1 3 3 3 2 1 3 1 1 4 1 3 5 2 5 5 4 5 4 5 1 1 5 1 1 1 2 2 5 1 4 5 1 3 3 4 1 5 3 4 3 1 3 3 3 1 4 5 3 1 2 5 4 5 2 3 4 3 5 5 1 5 4 5 5 2 5 2 5 2 1 1 4 5 2 4 5 3 4 4 1 2 4 4 5 3 5 5 3 1 1 1 4 2 2 2 1 5 5 2 3 1 5 1 5 4 3 5 3 3 4 1 5 4 2 4 1 3 5 2 1 4 4 2 1 5 4 3 3 3 1 4 4 4 2 1 4 5 1 3 5 3 3 3 3 3 5 1 4 4 4 3 2 2 3 2 1 4 2 4 4 2 4 5 2 1 3 4 1 5 1 3 1 3 2 3 5 1 3 5 2 4 5 1 3 3 5 5 3 4 4 5 1 4 3 4 3 3 3 1 3 5 2 2 1 4 5 5 3 3 4 1 2 1 1 2 1 4 5 3 3 3 5 1 5 5 5 3 2 4 1 4 5 4 1 3 2 4 1 1 5 5 5 4 2 2 5 4 3 2 2 4 2 4 2 5 4 5 3 3 1 2 1 1 5 2 1 4 1 2 4 2 5 4 1 1 4 4 2 3 2 3 3 5 2 4 3 2 4 4 2 2 2 3 3 4 5 2 2 3 2 4 5 3 5 3 1 4 1 1 2 2 3 2 4 5 4 1 3 1 5 4 3 5 5 3 1 1 1 4 1 5 2 1 2 1 5 3 4 1 1 4 2 3 3 3 1 1 4 2 2 3 4 3 4 3 3 4 2 1 5 3 4 2 2 4 5 2 3 3 4 2 1 4 3 4 5 2 4 1 4 3 3 1 1 1 2 3 1 1 5 5 2 1 4 3 3 2 3 5 2 2 2 2 1 4 4 2 5 4 5 2 2 5 2 3 2 1 3 2 2 2 5 4 2 5 1 2 5 4 3 4 2 4 3 1 4 2 1 3 5 4 5 4 3 5 1 1 5 4 2 1 3 4 2 4 1 3 4 4 2 5 4 5 5 2 3 3 5 5 4 3 5 3 4 3 2 1 1 2 5 1 1 2 1 2 4 1 4 4 1 1 5 1 4 1 1 1 1 4 3 3 4 2 2 1 3 4 3 1 3 2 2 1 3 1 3 4 3 3 3 5 3 1 5 1 5 1 4 5 5 5 3 2 1 5 1 1 1 1 3 3 1 4 3 4 4 5 4 4 3 3 4 5 5 4 1 5 2 4 2 4 5 2 1 4 2 4 1 3 1 4 3 4 5 5 3 5 3 1 3 4 4 4 1 2 2 2 3 1 2 2 4 1 1 3 4 3 2 1 4 1 4 3 2 3 2 3 1 1 1 5 3 3 2 3 3 5 5 1 4 4 2 2 3 2 2 1 5 2 3 3 3 5 5 1 5 5 4 3 2 5 1 5 2 3 4 1 4 2 2 5 1 3 4 2 4 5 3 5 5 3 4 3 3 2 2 2 2 1 4 1 4 5 2 3 5 4 5 3 5 5 5 1 4 2 1 4 2 2 3 5 5 1 1 2 1 4 1 4 3 2 4 2 1 3 1 2 5 4 3 1 1 4 2 3 1 4 4 3 1 5 4 5 4 2 2 1 1 5 3 2 4 3 3 3 1 2 2 5 3 1 1 1 3 5 2 2 4 3 3 3 2 3 2 2 1 2 4 2 4 1 2 2 5 2 1 1 5 2 1 2 5 1 1 3 1 5 5 1 5 5 3 1 4 5 2 4 2 1 3 5 5 2 3 1 3 4 4 5 3 3 3 4 5 5 2 1 2 3 2 1 5 1 2 1 2 1 5 4 3 2 5 5 2 3 2 5 3 5 2 2 3 3 2 3 2 5 4 5 3 3 5 4 3 1 3 4 3 4 4 5 5 4 5 4 5 2 2 5 3 1 4 1 3 5 1 4 2 5 2 2 1 4 5 4 1 3 5 3 5 1 3 1 5 3 2 3 1 1 5 3 5 1 5 2 4 1 1 4 5 2 2 4 4 4 5 2 2 5 3 5 4 1 3 1 2 5 2 4 1 4 1 2 4 4 4 4 5 1 3 2 4 2 5 5 3 4 5 2 4 4 3 2 3 4 2 4 3 3 2 2 2 1 2 1 4 3 5 1 3 2 4 5 3 3 4 4 5 2 1 5 2 4 3 3 4 1 5 4 5 4 4 5 4 3 3 1 4 1 2 3 5 4 4 2 2 5 5 5 3 4 5 1 1 3 4 2 1 3 4 1 3 3 5 3 2 1 4 1 5 4 3 4 4 2 3 4 5 1 2 3 3 2 3 4 4 2 2 1 5 1 3 1 2 2 5 4 5 3 4 4 2 5 1 4 1 1 4 4 1 4 4 5 4 3 3 3 5 1 2 5 3 4 4 4 3 5 4 5 5 5 3 4 1 4 4 5 4 4 4 4 4 5 2 2 1 2 2 4 5 1 3 1 5 3 2 1 4 4 5 4 3 4 1 3 1 4 1 3 1 3 5 4 1 5 5 5 1 5 1 2 2 4 5 3 5 3 2 3 3 5 5 4 3 5 5 2 1 2 4 5 4 5 4 2 4 4 1 3 1 2 2 3 1 5 5 2 3 5 3 3 3 5 4 1 2 5 2 1 2 5 1 1 1 2 3 3 2 3 4 1 2 1 3 4 3 2 3 4 3 4 4 4 5 3 2 5 3 1 1 2 5 4 3 2 4 1 3 5 4 1 2 2 1 1 2 4 3 2 3 1 2 1 4 5 3 2 1 2 4 3 4 2 5 3 3 4 3 3 3 3 1 3 4 5 5 4 3 1 5 4 1 5 1 2 4 4 5 5 1 3 5 3 5 5 2 3 4 2 2 5 1 4 1 3 2 5 3 2 2 3 2 4 2 3 5 1 4 1 3 2 3 4 5 4 1 2 3 2 1 2 1 2 2 4 2 5 1 4 3 4 3 3 3 3 4 5 3 5 3 2 2 5 5 4 3 5 4 3 1 4 5 1 1 2 4 3 5 1 4 2 3 3 1 1 2 4 5 3 4 3 5 4 1 1 5 2 5 2 2 3 2 5 1 1 1 3 4 5 1 1 2 3 2 3 5 5 1 3 5 5 2 3 5 3 2 1 5 2 2 3 4 1 4 5 5 1 5 5 3 1 3 4 5 3 5 4 3 4 1 2 5 4 5 2 3 4 3 1 4 3 5 5 2 5 1 1 3 4 3 3 1 4 5 1 3 2 2 1 5 2 4 3 5 2 4 4 4 5 2 5 2 5 5 5 3 4 5 5 2 5 4 3 5 3 4 5 3 5 4 4 2 3 4 3 2 3 4 2 2 3 4 5 1 5 2 2 3 2 4 5 2 3 3 5 2 4 3 5 3 2 5 4 4 3 3 1 4 5 3 4 2 1 3 4 2 1 3 1 2 1 1 2 5 4 3 2 1 1 2 5 3 1 5 5 5 5 5 2 4 3 4 1 5 3 2 4 2 3 2 3 5 4 2 1 1 2 5 2 3 2 1 3 5 4 2 1 5 3 5 4 3 1 1 5 2 1 1 5 1 1 1 3 3 4 4 3 2 3 3 5 3 2 5 5 3 1 1 5 1 2 5 1 1 2 2 1 3 3 5 5 3 3 1 2 4 4 5 3 5 1 2 3 2 3 5 3 5 5 4 3 3 3 1 5 4 4 4 5 1 1 4 3 5 2 1 1 4 4 4 3 1 5 4 3 3 4 4 2 3 4 5 3 1 3 1 2 5 5 1 3 3 4 2 4 2 1 3 3 4 5 5 5 1 5 4 1 5 3 1 2 4 5 4 1 5 5 4 3 5 3 3 1 3 5 2 3 5 2 5 2 4 4 4 3 3 1 1 4 1 3 1 3 4 5 2 5 1 5 4 2 5 4 3 2 2 4 1 4 1 4 3 5 2 4 5 1 3 3 5 4 2 2 4 3 4 2 3 3 4 5 2 1 5 5 5 3 3 5 2 3 1 4 5 2 2 5 2 4 1 4 3 5 4 3 4 2 1 3 4 5 3 1 5 4 1 2 3 5 1 3 2 4 2 5 1 5 1 1 4 1 2 3 1 2 3 2 4 2 1 2 3 2 1 1 4 2 4 4 4 3 2 1 5 3 4 1 2 4 3 5 5 5 2 4 5 4 2 3 5 4 5 2 3 3 1 3 5 5 5 3 5 5 5 5 5 1 3 3 5 1 4 3 5 1 4 3 4 1 4 2 2 3 2 5 1 2 5 1 4 2 5 4 4 4 4 2 5 1 4 3 5 4 4 2 5 5 5 5 4 1 3 2 5 4 4 3 1 3 3 3 4 2 4 1 3 3 4 3 5 1 4 1 3 3 2 3 4 3 5 4 1 4 5 5 1 3 1 1 3 3 4 5 2 4 4 1 1 2 2 5 4 5 3 3 2 3 1 5 1 1 4 5 1 3 5 4 4 5 1 4 1 1 3 2 1 2 1 2 1 4 4 4 4 3 3 4 3 1 1 5 3 1 5 5 2 2 5 1 4 4 1 4 2 4 4 2 3 1 2 2 3 5 2 3 3 2 5 3 1 3 5 4 2 2 4 4 3 2 3 3 3 5 1 5 5 3 1 2 4 5 2 1 4 3 4 3 3 1 5 5 5 3 2 2 5 4 3 5 3 3 5 4 3 2 1 3 1 4 4 2 5 2 3 1 2 4 2 3 4 3 4 5 1 2 1 1 4 2 5 4 4 4 5 3 1 5 4 2 2 1 1 4 4 2 5 5 3 4 2 5 5 2 2 1 2 2 1 3 1 5 3 1 4 2 5 5 3 2 5 3 4 2 1 3 2 1 3 1 4 2 5 1 5 2 4 3 2 5 4 3 3 2 5 2 1 4 3 1 4 4 4 4 3 3 5 5 3 2 3 3 2 2 2 1 2 5 3 3 1 3 4 5 5 4 3 1 3 3 4 5 2 1 4 4 1 5 2 4 4 5 4 1 3 1 2 4 1 4 1 1 2 2 1 1 5 5 1 4 4 4 5 1 5 1 4 3 3 5 2 3 3 3 1 3 1 1 3 4 5 5 2 4 1 4 1 3 5 4 1 4 4 3 2 1 3 1 2 4 4 1 1 2 4 4 2 3 1 1 1 2 5 3 4 4 5 1 2 2 5 2 1 2 5 1 3 5 4 5 1 2 3 5 5 4 2 5 5 2 3 2 3 3 3 1 2 1 1 1 4 3 1 2 5 2 3 4 3 1 1 3 4 3 1 4 1 3 1 5 1 4 1 3 5 3 1 1 3 3 4 1 3 5 4 3 3 1 1 1 4 1 2 2 1 1 4 2 4 4 3 4 5 5 3 3 5 2 4 4 5 3 3 5 5 5 4 3 2 1 2 1 4 4 4 4 5 5 2 2 5 1 4 3 5 3 5 4 3 5 1 1 4 2 3 1 2 2 2 1 2 2 1 5 3 2 1 4 1 4 4 1 5 5 5 3 5 5 1 1 5 5 5 5 3 4 2 3 5 2 2 5 4 1 2 2 5 4 2 3 2 3 5 2 1 2 4 4 4 4 3 1 2 3 5 2 4 1 3 3 4 4 4 1 1 5 4 3 4 4 5 4 5 2 2 2 2 2 1 5 5 4 3 5 4 4 5 5 1 2 2 1 5 3 4 4 2 4 4 5 2 1 5 5 2 5 3 4 4 2 4 1 1 3 4 5 2 1 5 2 5 3 3 1 4 4 4 3 1 5 4 5 4 2 5 4 1 5 4 2 5 3 2 3 3 3 1 4 2 5 2 1 3 5 1 3 4 2 2 4 2 5 1 5 2 5 2 4 5 4 1 4 5 1 5 1 1 4 3 4 5 2 5 1 1 3 2 5 2 5 1 1 2 4 4 2 3 5 3 5 2 4 5 2 3 3 1 5 3 1 2 3 2 4 4 5 1 1 2 1 3 2 2 5 2 1 2 2 2 4 5 1 2 5 1 5 4 3 4 4 3 4 2 4 1 5 1 1 2 2 3 3 3 2 2 3 2 2 4 2 4 5 2 1 2 3 5 3 3 4 5 4 3 1 1 5 5 3 1 3 3 2 3 3 2 4 4 4 5 5 4 2 4 5 5 2 1 3 4 2 3 5 4 5 2 4 3 5 1 4 3 4 2 4 5 2 1 5 3 4 5 3 4 5 1 1 2 4 4 4 5 5 2 2 5 2 3 5 5 1 3 5 2 4 1 5 3 2 3 2 5 4 5 5 4 3 3 2 2 2 3 1 2 4 3 2 2 5 2 3 3 1 1 2 5 3 2 5 2 4 5 5 2 3 2 4 3 5 1 5 5 5 3 3 4 3 5 5 3 5 3 2 2 4 2 5 3 5 1 3 1 2 3 3 3 2 1 1 4 2 3 4 5 4 1 5 1 3 1 1 3 4 4 3 5 3 5 2 4 2 1 2 4 3 4 1 2 1 4 1 1 3 4 4 5 1 1 1 3 4 2 1 2 5 1 4 3 4 1 5 1 5 4 3 1 4 2 5 1 4 3 5 4 4 1 1 1 4 3 1 3 4 4 4 5 1 1 1 5 3 5 2 3 1 1 1 3 4 2 1 5 4 1 4 4 1 4 1 5 2 2 3 5 4 4 5 2 1 1 1 3 4 5 4 5 5 3 4 2 2 5 3 2 3 2 4 3 3 5 4 5 1 1 3 4 4 5 5 4 4 1 3 4 4 2 2 3 4 5 5 3 1 5 4 2 3 1 3 1 2 2 3 2 1 3 1 3 1 5 5 5 4 2 1 2 3 5 4 2 2 3 1 3 5 4 5 1 3 2 1 5 3 3 1 2 3 2 2 4 1 2 3 4 1 2 5 5 5 3 2 1 2 3 4 4 2 3 4 1 2 1 2 1 4 4 1 4 1 5 1 4 2 2 5 5 3 2 4 1 3 5 4 4 3 1 3 1 4 3 2 3 5 5 3 2 2 4 5 1 1 5 3 4 5 4 5 5 2 3 1 1 5 2 2 1 2 5 2 2 5 4 5 1 3 4 3 2 3 3 1 4 2 4 4 4 4 5 3 1 5 3 3 1 1 3 5 1 4 4 2 5 1 5 3 1 3 3 1 5 3 3 5 5 3 2 5 4 1 1 1 1 5 1 5 3 1 1 5 5 3 2 4 4 1 5 1 3 3 3 4 5 2 3 5 4 4 5 2 5 1 4 1 4 2 2 4 3 2 4 5 3 1 4 3 3 5 2 5 3 2 1 3 4 1 5 5 3 3 1 4 1 5 2 5 2 1 1 2 1 4 5 3 3 1 2 5 1 4 5 3 5 5 3 1 2 3 2 5 1 3 2 5 4 2 2 5 5 2 5 4 2 1 3 3 3 1 5 5 5 4 4 2 3 5 3 5 2 4 3 2 2 5 3 4 3 4 1 4 5 2 1 5 3 1 5 4 4 3 3 4 5 3 3 3 4 4 3 3 4 2 1 1 5 2 2 1 3 3 5 5 3 4 5 4 4 1 4 4 3 4 5 3 3 3 2 4 2 2 5 5 1 3 3 5 3 1 3 1 5 1 1 4 5 4 2 5 5 1 4 2 2 4 4 1 4 4 4 1 3 5 5 4 3 2 2 1 4 2 2 5 3 5 1 1 4 3 5 2 2 2 5 4 2 2 3 5 3 2 3 4 4 5 4 5 5 3 5 2 2 4 5 2 4 2 1 4 2 5 3 3 2 4 3 1 3 2 3 3 2 4 3 3 1 1 2 3 1 4 3 2 4 2 2 1 5 1 1 2 5 1 5 1 2 3 5 1 3 2 1 1 4 2 4 1 5 1 4 5 5 4 4 3 4 4 5 3 4 3 1 2 5 1 2 5 2 3 3 1 5 1 2 4 3 2 1 2 2 4 2 2 2 4 3 5 4 4 2 5 1 3 3 2 2 5 2 5 2 2 4 1 4 2 5 1 2 5 2 3 4 3 2 4 5 5 4 5 4 3 3 4 4 1 3 3 2 5 3 3 1 4 3 2 5 3 3 5 4 1 4 1 5 5 5 5 2 1 5 4 2 5 4 5 3 1 2 5 3 2 2 5 2 1 5 4 1 2 2 3 2 3 4 2 4 3 1 2 1 1 2 3 2 2 2 4 2 1 5 4 1 5 4 2 3 3 5 1 5 3 4 4 4 2 3 1 3 1 2 3 2 4 5 4 5 3 5 3 2 1 5 4 3 1 4 5 5 1 2 2 4 3 5 4 2 3 5 1 3 5 1 4 1 3 4 3 5 4 4 4 3 4 1 2 4 1 4 1 5 5 1 3 5 3 3 2 3 2 5 2 4 5 1 1 5 3 4 3 2 2 2 5 2 4 2 4 4 4 3 5 1 1 1 3 4 5 5 4 1 5 3 1 2 1 2 1 3 4 4 1 3 4 4 1 2 2 3 5 5 4 3 1 2 3 4 4 1 5 5 5 4 1 1 4 1 5 2 2 1 5 2 1 4 5 2 1 5 1 5 2 2 1 4 5 1 1 4 1 3 2 4 5 5 4 1 5 3 4 4 3 1 5 3 4 4 2 2 2 5 2 3 3 5 3 2 2 1 5 3 1 5 5 1 4 5 5 3 3 2 2 3 2 4 2 5 4 3 2 5 5 4 4 2 4 3 1 2 4 3 1 4 1 5 2 5 2 4 3 1 2 4 1 3 1 3 1 4 5 4 5 4 5 5 2 1 5 2 2 3 4 5 1 3 5 4 4 2 3 5 3 2 2 5 1 4 2 3 3 5 1 3 1 5 2 5 3 3 3 4 3 3 4 1 4 3 2 3 3 1 5 1 4 5 3 1 3 1 5 5 2 2 1 2 1 1 1 5 1 1 3 5 2 3 1 3 4 5 5 2 1 3 2 3 1 3 4 2 2 2 4 3 5 2 2 3 3 4 1 1 2 3 5 5 3 4 3 2 5 3 1 1 1 2 4 4 2 5 4 5 1 2 3 1 3 3 4 1 3 3 1 4 3 4 4 3 1 4 4 1 3 2 4 3 5 3 5 5 1 3 5 5 2 3 5 4 1 3 2 1 3 5 2 1 4 5 3 2 1 2 1 4 3 1 5 2 1 2 3 2 5 1 4 3 2 2 5 1 1 3 4 5 5 1 4 4 4 4 4 2 4 2 2 3 4 4 4 1 4 3 3 2 4 1 1 4 2 3 2 4 1 2 4 3 4 5 1 1 3 1 3 1 2 4 5 2 3 2 4 2 3 3 2 3 2 2 3 3 4 1 2 1 1 4 1 5 4 1 5 5 4 1 1 2 4 3 4 5 3 1 1 5 1 3 5 1 2 3 2 5 3 2 5 4 4 3 1 2 5 5 1 2 4 2 5 4 1 4 2 2 4 5 1 1 5 5 4 3 1 3 5 4 5 2 5 4 1 2 2 3 2 4 5 2 5 5 1 3 2 2 1 1 3 4 2 2 2 3 1 3 2 4 2 1 5 1 1 2 5 3 4 5 5 1 3 3 5 4 5 3 5 1 2 4 1 2 4 5 3 3 1 1 1 2 5 3 3 4 3 4 4 5 2 2 2 1 2 2 5 3 3 2 3 5 5 2 1 3 5 1 4 5 4 2 4 3 2 3 2 2 3 3 3 2 3 1 1 2 4 3 3 5 4 1 4 4 2 4 5 3 2 5 1 3 1 5 3 5 3 1 3 1 5 1 4 4 4 4 5 3 4 4 5 4 3 5 2 4 1 3 2 1 5 1 5 4 5 2 1 1 3 4 4 2 5 5 5 1 3 2 5 2 5 4 3 5 5 3 1 5 3 4 2 3 4 1 1 1 3 4 1 1 4 4 3 3 5 1 2 4 5 4 5 3 5 4 3 5 4 5 2 1 1 3 5 2 4 2 3 3 1 2 5 1 2 3 5 1 4 3 4 4 1 2 1 5 1 5 4 4 1 1 5 4 4 1 1 4 5 2 2 3 4 5 3 2 1 3 1 3 4 5 5 2 1 2 3 4 1 1 1 1 1 4 1 1 3 1 2 5 2 3 5 5 5 4 3 4 5 2 2 5 1 2 4 4 2 2 3 1 2 5 2 5 4 1 5 3 4 4 1 1 1 5 2 5 2 2 4 5 4 1 5 5 2 1 1 1 3 3 2 5 5 5 1 5 5 4 1 2 5 4 5 3 1 5 2 5 1 1 4 3 4 2 3 3 1 1 3 5 1 5 2 5 1 2 1 1 5 4 3 3 3 3 2 3 2 4 5 4 1 1 5 1 2 1 2 1 3 2 5 4 3 1 4 4 2 4 4 4 5 1 2 3 3 5 3 1 3 2 1 5 5 2 1 2 4 2 1 1 2 1 5 3 2 3 2 5 2 1 5 3 2 1 2 2 2 5 2 2 4 3 2 3 4 5 4 1 2 3 4 5 2 5 2 5 3 3 1 1 2 3 1 2 5 3 4 2 3 2 5 3 2 5 2 4 2 3 3 5 1 1 1 1 2 2 2 4 2 4 4 2 5 3 2 5 2 4 1 1 4 2 5 3 3 2 2 4 3 4 3 2 3 3 2 3 4 3 1 5 1 1 4 4 1 3 5 2 5 3 4 2 4 4 1 2 3 2 4 2 5 5 1 3 5 1 4 1 1 4 3 2 2 2 1 4 1 4 2 2 5 1 1 2 1 5 2 1 4 2 3 3 5 2 5 1 2 1 3 5 4 1 1 1 1 1 1 2 3 3 5 2 4 3 5 1 1 3 3 3 4 4 1 3 4 4 5 4 1 2 5 2 4 2 5 5 2 3 5 2 3 3 5 5 1 3 2 2 3 3 2 5 5 3 4 3 3 4 4 2 2 1 4 5 4 1 2 1 4 2 2 1 2 1 5 1 1 1 1 5 4 2 5 2 2 5 5 5 4 4 1 3 3 4 4 4 4 2 1 1 3 3 5 2 3 2 2 4 1 4 3 4 1 2 5 5 4 3 4 1 3 2 5 5 5 5 1 1 3 2 2 3 3 4 5 4 2 2 3 1 5 1 4 4 4 4 1 3 1 2 4 5 2 3 1 1 2 4 5 1 4 1 4 3 2 4 2 4 2 4 2 4 4 1 4 1 2 1 1 5 2 3 5 3 5 4 2 3 1 4 5 1 3 4 5 5 3 5 4 3 3 1 4 3 3 1 5 1 5 4 5 5 2 3 4 1 1 3 5 3 3 5 3 1 1 1 4 1 4 3 4 3 2 1 1 5 5 5 2 3 2 4 5 5 4 5 3 5 1 5 1 1 2 3 3 5 4 1 1 2 1 2 3 3 5 4 2 5 3 5 5 4 5 5 5 2 5 4 1 3 5 1 3 4 1 3 2 3 3 5 5 4 4 3 2 3 2 5 3 1 3 1 4 2 5 4 2 2 4 2 5 3 5 2 1 3 3 5 5 1 5 4 5 2 2 4 2 1 3 4 2 5 5 3 3 4 4 2 2 3 5 4 2 3 4 1 1 3 5 2 2 4 4 1 3 1 1 3 2 3 4 5 3 1 5 2 2 4 2 2 3 2 3 2 3 3 5 5 3 1 1 4 1 2 5 5 5 3 3 1 3 1 4 5 5 5 2 2 2 5 1 1 4 3 2 4 3 3 4 5 5 5 2 1 2 1 3 3 1 5 4 5 4 5 5 2 3 5 5 3 3 5 3 2 2 4 3 2 1 1 1 5 3 3 5 3 4 5 3 2 1 5 4 5 2 1 1 5 1 2 2 4 5 4 1 4 3 2 3 5 5 5 1 1 4 5 2 4 1 2 5 1 3 2 3 3 5 1 3 1 3 5 5 1 5 2 2 5 5 5 1 1 5 4 3 5 3 5 4 4 3 4 5 1 5 4 5 1 4 5 5 4 4 5 3 1 5 2 3 1 1 5 5 1 1 3 1 1 5 2 3 2 3 1 4 1 2 2 5 1 4 4 5 2 1 4 5 2 1 2 5 2 4 3 4 2 1 1 1 3 3 5 5 4 1 3 2 2 4 4 2 1 1 3 2 2 4 5 5 4 3 5 1 2 3 1 4 3 2 5 5 3 4 2 3 3 1 1 1 4 3 3 5 1 4 2 5 5 4 4 4 3 2 5 1 5 5 2 4 5 5 2 4 4 5 2 1 3 5 4 1 4 3 2 1 5 3 2 1 5 1 4 1 4 2 2 1 4 2 1 4 3 2 3 3 5 3 3 4 5 4 1 2 4 1 5 3 5 2 2 3 2 4 2 2 2 1 5 2 5 5 1 5 2 4 2 5 2 4 5 1 3 1 5 2 4 4 2 5 1 1 1 1 1 3 4 5 4 1 3 2 2 1 5 2 4 3 1 5 1 2 1 3 1 3 1 4 5 5 3 2 2 3 4 1 5 1 4 5 3 1 5 5 2 5 5 4 1 2 1 1 3 2 5 5 3 2 4 1 1 1 3 5 3 1 2 5 1 4 3 5 2 4 2 4 4 1 3 2 5 4 1 2 2 4 5 1 1 2 4 5 5 1 4 4 4 2 5 5 4 3 3 5 3 3 3 1 2 2 4 5 2 5 2 3 2 4 2 2 5 2 4 3 1 1 5 3 1 5 4 3 4 5 1 3 1 1 5 4 1 2 4 5 1 1 4 2 5 5 4 3 1 5 4 3 4 4 1 3 1 4 1 4 4 5 2 5 5 5 1 4 3 1 3 3 4 5 3 1 2 3 1 5 1 2 1 5 1 1 5 2 5 1 4 5 5 2 3 1 1 2 5 2 5 4 4 1 1 3 1 1 1 4 1 4 4 2 3 3 5 1 4 4 2 4 5 2 2 2 4 2 5 5 4 5 4 5 4 4 2 1 5 3 4 4 3 4 5 2 2 2 4 4 5 4 2 1 2 3 3 2 4 2 5 2 4 1 3 1 1 4 2 4 4 3 3 1 1 3 2 1 1 3 3 1 3 1 4 2 1 5 3 5 1 5 5 1 3 1 3 4 5 2 1 3 5 3 5 4 5 4 4 1 1 1 1 3 3 1 3 2 4 3 2 4 4 1 2 5 3 1 5 2 1 5 4 1 3 4 4 4 5 3 2 5 1 2 1 5 2 1 4 4 4 5 5 3 3 1 1 3 3 3 2 1 2 3 2 3 5 4 3 4 1 4 3 2 1 2 4 1 2 5 5 4 2 3 2 5 5 4 4 2 1 5 3 3 5 5 3 1 2 3 5 5 1 5 1 5 4 5 5 5 1 5 4 3 2 4 4 4 1 4 4 1 1 2 3 4 5 1 5 4 3 1 4 2 3 5 2 4 4 2 1 5 3 5 1 1 3 2 4 3 4 2 2 5 2 1 4 1 1 4 2 2 4 5 2 1 5 3 3 5 1 5 5 2 4 4 2 2 5 2 3 2 1 2 2 2 1 5 2 3 1 4 3 1 3 3 1 3 3 1 3 1 5 5 3 2 5 5 5 4 4 1 3 3 5 1 5 4 2 1 3 1 1 4 5 4 4 2 5 1 5 3 4 1 3 2 3 2 5 5 5 4 2 5 5 2 5 3 3 4 3 4 4 3 3 2 3 1 1 3 1 3 1 4 1 5 3 5 1 2 4 1 5 4 3 3 1 4 4 3 3 1 4 4 5 5 2 3 2 2 2 5 5 1 4 3 5 3 3 2 5 5 1 2 4 5 4 2 1 3 4 1 5 1 1 4 1 4 2 4 2 5 2 1 2 4 3 3 1 2 2 1 5 5 2 4 3 3 3 2 3 5 2 2 4 2 1 2 2 3 4 4 1 4 1 2 4 3 4 1 1 3 2 2 3 2 4 5 1 1 4 4 1 4 1 3 2 1 4 3 4 4 1 1 1 2 2 4 3 1 4 2 1 5 4 1 3 5 3 5 4 5 4 4 3 4 4 5 2 2 4 1 3 5 5 2 1 2 1 5 3 5 4 3 1 2 3 2 1 4 3 5 5 2 5 2 2 2 2 3 4 1 5 3 2 5 3 3 3 4 2 5 5 5 4 4 5 3 1 1 4 3 3 3 5 2 1 4 2 1 1 1 3 3 1 1 5 4 4 1 3 4 1 5 3 4 4 2 4 5 5 4 2 1 4 3 3 1 2 1 3 1 3 3 2 5 5 5 4 2 3 2 5 2 4 5 1 3 2 5 5 5 3 5 3 1 5 1 5 5 4 4 2 4 2 4 3 5 4 2 1 2 4 1 1 2 3 1 3 4 4 5 3 4 1 4 1 5 5 4 1 4 4 4 5 4 2 1 2 5 1 4 1 1 4 4 4 1 5 3 5 3 4 2 3 1 3 1 3 2 2 4 1 4 5 2 1 4 5 4 5 4 3 1 2 4 4 1 1 2 5 3 5 3 3 4 4 3 5 2 1 5 5 5 2 1 1 1 3 2 4 3 5 4 3 4 5 5 2 2 4 4 4 3 5 4 1 4 1 3 1 4 1 3 1 4 1 5 2 2 3 1 2 1 1 2 2 5 4 2 4 3 5 3 3 3 2 2 2 2 2 3 5 5 3 5 2 1 5 2 4 2 3 4 2 5 1 4 1 1 5 3 4 3 3 1 3 3 4 1 1 2 5 1 5 1 3 2 1 1 1 2 3 4 5 5 3 2 2 2 5 3 4 2 3 3 1 3 2 5 3 1 3 2 3 4 2 4 2 5 3 5 1 3 1 4 1 1 3 5 1 5 2 3 2 3 1 2 4 3 3 3 2 1 5 3 4 1 4 4 3 5 5 5 4 2 4 4 5 5 4 1 1 4 2 4 3 4 4 5 5 3 1 1 3 2 4 1 2 3 5 4 4 4 1 3 5 4 1 2 5 2 2 3 3 3 1 1 2 1 3 4 5 2 4 1 5 1 2 2 4 2 4 3 5 3 3 1 4 1 5 3 1 2 4 3 5 2 2 1 3 1 2 4 1 4 1 5 4 4 4 5 1 3 4 5 4 3 5 5 2 2 5 4 4 2 5 5 5 4 4 1 2 4 4 2 4 4 4 5 4 2 1 1 2 5 3 5 3 1 4 4 1 3 4 1 4 3 2 4 2 4 5 1 4 1 3 3 5 1 5 2 4 2 1 2 3 3 3 3 5 2 3 5 3 1 3 3 2 4 2 3 5 1 5 5 3 4 1 4 4 1 4 4 4 5 4 1 4 1 5 3 2 2 1 2 1 3 4 2 1 4 2 4 4 5 1 4 2 5 1 1 2 2 3 4 3 5 2 5 5 3 5 1 5 5 4 2 4 4 1 5 3 2 2 1 5 5 4 4 5 4 3 1 2 4 4 1 1 3 5 1 5 1 5 4 4 5 1 2 3 3 4 3 1 3 5 3 3 2 2 3 5 2 2 3 2 1 1 4 4 2 3 2 2 3 5 1 4 4 1 1 2 3 4 5 3 2 4 3 3 4 2 5 4 1 5 2 5 3 4 4 5 2 4 5 4 4 4 5 2 3 5 3 3 3 5 2 1 3 5 5 1 4 5 2 3 4 5 5 1 2 3 5 1 4 1 2 2 3 3 1 5 5 4 3 3 3 4 4 2 5 5 2 2 2 1 2 3 3 2 3 3 4 5 2 4 5 5 2 5 1 4 4 1 4 1 3 1 5 4 4 3 1 5 3 2 1 4 5 4 1 1 2 5 1 5 4 2 1 2 4 2 2 4 4 4 3 3 3 2 3 2 4 1 4 3 3 1 2 2 3 4 3 2 5 2 2 4 2 1 2 4 2 2 5 3 1 3 2 5 5 2 2 5 3 2 2 2 4 4 4 3 3 2 1 5 4 4 3 4 4 3 5 2 1 2 2 1 3 3 3 3 5 5 4 5 4 2 2 4 4 5 1 4 3 5 3 4 2 4 5 5 1 1 5 5 3 4 4 2 5 4 1 2 1 2 4 1 4 4 3 1 2 4 3 1 4 1 5 1 3 3 2 4 4 5 2 5 2 2 4 5 4 3 4 1 2 4 1 1 2 5 1 4 1 3 1 3 4 2 1 1 5 2 5 2 3 5 4 5 5 3 5 4 4 1 1 1 4 5 5 3 4 2 5 4 5 2 1 1 5 4 4 4 1 3 3 4 5 1 3 3 1 4 1 2 3 3 5 2 2 3 5 3 3 1 1 1 2 1 2 1 5 2 3 3 3 3 4 2 3 4 2 2 4 4 3 3 4 4 4 2 2 3 3 3 2 3 2 3 3 3 5 1 1 1 1 5 4 1 2 4 1 5 5 3 1 3 2 3 1 3 2 2 3 5 1 5 1 5 2 3 5 5 3 1 3 2 1 2 5 5 2 2 3 3 2 5 3 4 2 1 3 5 4 3 1 4 4 3 3 2 2 2 5 2 2 4 3 4 2 1 4 5 5 5 3 4 2 2 3 1 2 5 3 2 4 3 3 5 2 1 3 5 2 5 3 4 2 5 5 2 2 1 2 5 4 4 3 2 5 5 1 3 3 3 5 3 4 5 5 4 3 3 4 4 5 4 5 2 4 5 2 2 4 3 4 4 3 4 2 3 3 2 1 1 5 4 1 2 2 3 5 3 5 4 1 1 2 1 2 1 1 2 3 3 5 5 1 4 3 5 1 1 5 5 5 1 2 2 4 2 3 5 4 1 4 4 1 4 4 5 3 2 2 4 4 3 4 1 3 4 5 2 3 4 4 4 5 4 3 4 1 5 5 5 4 4 2 4 3 2 5 4 4 5 5 1 1 5 4 4 4 3 4 5 3 1 2 1 2 4 4 2 5 1 2 3 3 3 5 4 1 5 2 3 2 1 5 2 5 3 1 3 2 4 2 3 1 3 2 1 4 3 3 1 2 2 3 2 2 5 5 3 1 4 1 3 4 4 1 3 1 3 3 4 1 1 5 1 2 5 2 5 2 3 3 4 5 2 3 1 1 2 5 3 2 2 1 1 1 1 4 4 2 4 2 5 4 3 3 2 1 3 4 1 5 5 5 4 5 5 3 2 2 1 5 1 4 3 1 1 3 3 2 2 3 1 3 4 3 2 5 4 4 2 3 4 3 4 2 3 1 4 3 3 5 1 3 3 5 5 5 2 2 1 1 4 4 5 1 1 3 5 2 2 1 4 3 4 4 5 2 2 5 4 4 4 1 1 3 4 4 3 2 4 3 4 3 5 5 5 3 4 2 4 4 5 3 5 3 5 5 2 4 1 3 1 2 3 5 1 4 1 2 1 1 4 5 1 5 4 2 1 3 2 5 3 1 3 1 3 3 5 3 5 4 4 1 2 4 5 4 5 5 3 3 4 3 1 1 3 4 3 2 5 2 1 3 4 1 3 1 5 1 1 5 3 5 4 3 5 4 1 3 3 5 1 4 1 2 4 5 3 3 2 4 5 2 4 1 2 4 5 1 2 5 2 4 3 2 5 4 4 1 2 2 2 2 1 4 2 4 5 1 1 4 5 3 1 2 3 3 4 3 5 3 2 1 1 4 2 5 4 4 4 4 5 4 2 3 1 2 5 3 2 3 3 3 2 5 3 2 5 3 3 4 5 2 5 4 4 4 1 3 2 4 3 3 5 3 4 3 4 4 3 4 1 4 1 3 5 4 1 5 2 2 5 2 2 3 1 5 4 1 4 4 2 5 1 2 5 4 5 2 3 1 4 1 2 4 1 1 4 5 2 3 2 5 1 5 1 5 5 1 3 1 4 5 2 3 5 5 4 1 3 2 5 1 1 4 1 2 4 2 4 2 5 3 1 3 2 3 1 3 5 4 1 2 5 4 5 5 5 5 4 1 2 4 2 3 3 3 2 5 1 4 3 4 3 4 2 3 1 2 2 5 2 5 1 3 3 4 4 2 1 3 3 2 5 3 2 3 5 3 4 4 3 2 3 4 5 1 4 3 2 2 4 4 2 2 5 1 5 5 1 4 3 5 4 2 4 4 1 5 4 4 1 4 5 1 2 1 1 1 3 2 2 2 4 5 1 4 1 2 5 3 2 5 4 2 4 5 4 3 2 2 5 1 3 5 2 5 2 3 4 3 1 5 5 2 5 2 2 1 4 1 3 4 4 2 3 5 1 4 1 3 4 5 3 5 2 2 4 1 2 1 3 4 3 3 4 4 1 5 4 3 2 2 2 3 4 4 4 1 1 1 4 5 3 2 3 5 2 3 3 3 2 3 4 3 4 2 2 3 5 4 1 3 5 3 3 3 1 4 2 3 2 2 1 3 2 4 2 5 5 3 2 3 4 2 1 2 1 4 3 2 2 4 5 1 5 1 3 4 2 2 5 1 4 2 1 5 3 1 1 1 1 1 2 3 3 1 2 3 4 1 3 4 1 3 2 2 1 5 1 5 2 3 4 4 1 4 5 3 3 4 5 4 4 4 2 3 1 5 4 5 2 2 5 5 4 3 5 5 1 4 4 1 1 5 1 3 1 5 2 2 1 4 5 1 2 2 5 5 4 5 3 3 3 5 4 5 2 5 1 1 2 5 5 4 5 3 3 2 3 1 5 2 1 2 4 3 2 3 5 5 1 5 4 4 4 4 4 4 5 1 5 1 4 2 5 3 2 3 1 2 4 2 3 4 2 2 5 5 3 2 2 3 4 3 2 4 2 3 4 1 4 4 5 4 4 5 4 3 1 5 5 2 4 5 3 3 4 1 3 4 3 4 2 5 5 5 2 1 4 2 3 5 3 5 5 1 3 2 5 4 4 4 3 5 3 3 4 4 3 1 4 5 3 3 5 4 5 3 1 2 2 4 5 1 2 4 4 5 4 1 3 2 3 5 2 1 5 2 5 3 1 1 3 3 4 4 5 3 2 2 1 4 5 2 2 4 2 4 4 4 4 5 2 2 3 4 4 3 5 1 1 3 1 3 1 2 3 2 2 5 3 4 2 2 2 1 1 3 4 5 5 5 1 4 5 5 1 5 3 5 3 2 1 2 1 1 3 4 4 4 1 5 3 5 5 5 1 3 1 4 5 5 2 5 2 1 4 2 4 1 2 4 5 1 1 1 1 3 1 2 3 5 3 5 1 4 4 3 4 2 3 1 1 2 3 4 5 1 2 2 5 5 2 1 3 4 1 5 5 3 1 3 1 3 4 5 2 2 4 2 3 3 4 2 4 3 5 4 2 3 1 5 4 1 3 3 4 4 2 3 3 2 1 4 1 2 5 3 1 3 2 1 4 3 5 3 1 4 2 2 4 2 1 5 4 4 2 5 5 2 3 2 1 4 1 2 2 1 5 2 1 2 2 4 2 5 4 1 3 1 3 1 5 1 1 5 1 3 1 5 4 1 5 5 5 3 5 2 2 4 3 3 1 5 5 1 2 5 4 5 2 1 1 5 4 3 5 1 4 1 1 3 5 1 3 1 1 3 1 1 5 5 5 3 4 5 4 5 3 5 5 3 5 4 1 3 2 3 4 3 2 4 1 1 4 3 2 5 2 4 5 2 3 3 4 3 4 4 4 3 5 1 4 3 4 1 1 5 2 2 1 3 3 3 5 3 2 2 5 5 2 5 4 2 4 3 4 1 2 1 5 4 4 5 1 5 1 4 1 1 5 3 3 5 2 3 3 2 1 5 3 2 3 4 2 1 4 1 3 2 3 1 4 2 2 2 2 4 5 1 4 4 2 2 3 2 2 5 2 4 2 5 4 4 3 3 3 2 3 5 3 2 2 3 5 4 4 4 3 2 3 2 2 4 3 1 1 3 3 3 3 1 5 2 5 1 1 4 1 5 1 1 2 3 1 3 2 1 1 5 2 5 1 2 4 5 4 1 3 3 4 4 4 4 3 5 2 4 3 3 2 4 5 3 5 1 3 1 4 2 1 2 2 3 4 4 3 4 3 1 2 4 2 3 5 3 3 2 4 2 1 1 2 1 5 1 5 4 1 5 1 4 1 4 1 2 2 3 3 2 5 2 2 4 1 5 4 4 3 3 5 5 3 4 3 2 1 3 4 3 5 5 2 3 2 5 4 5 3 4 5 1 2 1 5 4 1 4 2 3 5 3 1 3 5 4 5 3 3 2 1 3 3 2 4 2 2 2 1 2 1 4 1 5 1 5 1 2 4 3 4 4 5 3 2 3 4 5 3 3 5 3 1 2 2 3 1 5 2 1 4 5 1 4 2 4 3 1 4 1 3 4 2 4 4 3 4 2 5 2 5 4 4 2 4 4 4 4 3 3 2 4 5 2 4 5 3 5 1 3 5 4 5 3 1 4 4 1 4 5 1 5 4 4 1 3 2 4 5 4 2 5 4 4 5 3 4 4 1 1 3 5 4 5 5 3 1 3 5 3 1 2 1 1 5 1 3 5 3 5 2 3 2 5 1 5 5 4 3 4 3 4 1 3 1 5 5 4 2 4 3 4 3 3 3 2 3 3 2 3 2 2 1 3 4 5 1 3 2 1 4 1 3 1 5 3 4 1 5 1 2 2 2 1 2 1 1 4 4 5 2 2 3 1 1 4 2 4 2 5 5 3 4 2 3 4 1 3 4 4 5 1 3 3 3 4 2 5 3 5 5 3 5 4 2 5 4 1 1 1 5 1 1 2 2 2 4 1 1 5 2 2 4 4 4 2 5 5 2 2 2 2 3 3 4 3 2 3 1 5 5 4 1 4 3 4 1 3 4 5 2 5 5 5 4 3 4 2 4 2 1 4 3 1 4 5 3 2 2 2 1 3 2 2 5 1 4 5 3 5 5 1 2 2 4 4 2 2 1 1 2 4 4 3 4 2 4 1 2 1 4 2 1 3 3 5 1 2 1 5 3 2 4 2 1 1 4 1 3 5 5 5 3 5 4 1 5 1 2 1 3 3 3 2 5 2 5 3 2 5 5 4 1 4 3 1 5 3 3 3 1 1 3 1 3 5 3 5 2 2 1 5 3 1 3 1 3 4 4 1 4 1 3 1 4 1 4 1 3 4 5 5 1 3 5 3 5 1 3 5 5 3 2 4 2 4 1 5 4 3 4 3 3 4 1 5 5 5 2 2 5 1 5 3 1 4 2 1 3 1 4 4 2 1 1 4 4 1 4 5 2 4 5 4 2 3 4 4 4 3 2 1 3 2 3 5 1 3 5 5 4 5 2 3 3 1 5 4 1 5 4 1 5 5 2 4 4 3 1 1 3 3 5 1 2 3 2 4 5 4 4 2 2 2 3 4 1 4 2 3 4 5 2 1 1 4 2 4 2 5 2 1 4 4 4 3 1 3 3 1 3 4 2 2 4 2 3 5 2 1 3 4 2 4 1 1 1 1 5 3 3 4 3 5 2 3 2 5 2 3 2 1 3 2 3 3 5 3 5 3 1 5 3 5 1 1 2 1 1 2 2 5 5 1 4 5 4 5 4 3 5 2 1 5 2 2 1 1 1 3 5 3 4 5 4 2 3 4 1 4 1 5 2 3 1 5 5 1 1 3 4 1 2 4 1 3 5 4 5 4 3 1 4 5 1 1 1 1 3 2 5 1 1 4 4 1 3 4 5 5 3 3 4 1 5 4 5 5 5 3 4 5 4 2 3 1 3 1 1 5 2 1 4 1 3 4 1 3 4 4 2 1 1 2 1 1 4 2 1 3 1 1 1 1 5 4 2 3 4 1 4 1 2 2 4 5 1 4 4 5 3 3 3 1 2 4 1 3 5 2 1 4 4 4 4 1 3 2 1 4 4 4 3 1 1 4 5 2 3 4 3 1 3 5 1 1 4 1 5 1 3 5 5 5 4 5 2 5 5 5 2 2 5 5 1 1 5 2 3 1 4 3 1 5 5 2 5 4 4 5 1 5 3 3 3 2 2 4 4 4 4 2 3 2 5 2 3 2 4 1 3 2 5 3 3 2 2 3 3 4 5 5 2 2 3 1 5 4 1 3 4 3 4 2 3 5 5 3 3 1 5 2 3 4 2 4 1 3 1 2 2 3 4 4 3 3 3 3 5 4 3 1 3 2 3 4 4 4 2 3 5 1 1 3 2 5 1 1 3 2 3 3 5 4 1 5 1 1 5 5 4 4 2 1 5 4 3 5 5 3 5 5 3 5 1 4 1 2 1 4 1 5 4 5 3 4 5 3 1 4 4 2 5 5 4 1 3 2 3 4 3 5 2 2 3 1 1 5 3 5 1 4 5 5 1 4 5 5 5 2 4 3 3 2 2 1 4 3 1 4 4 3 1 4 5 5 1 1 4 5 2 5 2 3 2 1 4 5 2 2 5 3 2 4 2 1 4 3 4 5 1 5 1 5 2 5 1 3 3 1 2 5 5 3 4 4 3 5 2 3 1 3 5 5 3 3 1 3 1 2 1 2 2 5 3 1 2 4 4 1 2 1 5 5 1 4 5 4 5 2 2 3 4 4 2 2 3 3 2 5 4 3 4 4 2 5 3 2 5 1 5 1 2 2 3 5 2 4 1 3 2 2 4 5 2 5 4 5 2 5 4 4 4 1 4 3 4 4 2 2 2 4 2 2 5 5 2 5 5 2 1 2 4 5 3 5 4 3 2 4 1 2 5 2 2 2 2 2 4 3 3 5 2 4 2 3 1 5 5 3 1 1 2 5 1 1 3 5 4 3 5 1 5 5 4 4 5 5 4 4 3 3 4 5 2 3 3 2 2 1 2 3 4 3 5 2 3 4 2 2 5 5 1 3 4 1 1 4 4 1 3 4 1 4 5 5 5 4 2 5 5 2 4 5 1 5 1 3 4 2 5 3 2 4 1 1 3 4 5 3 1 5 4 5 4 1 5 3 3 1 5 1 3 5 3 4 4 4 3 1 1 5 1 4 2 2 5 3 1 3 3 1 2 3 1 3 3 1 2 3 5 5 1 5 2 5 2 4 2 4 3 3 5 2 5 5 3 5 5 4 1 5 4 5 4 4 2 5 4 3 1 5 4 5 5 1 4 2 3 3 2 2 2 1 4 1 2 2 5 4 1 2 4 2 5 2 3 2 3 4 1 1 4 5 1 3 3 1 3 2 2 1 3 5 3 2 2 5 1 4 1 3 4 3 5 1 2 3 2 2 3 3 1 2 3 3 2 4 4 5 4 2 2 2 1 5 2 5 5 4 5 5 3 3 1 4 4 5 2 5 3 2 2 3 3 5 5 1 1 2 4 5 4 3 3 3 4 2 2 1 3 3 1 4 3 2 4 4 5 4 2 2 5 5 3 5 2 2 2 4 5 2 1 2 4 5 2 5 1 2 5 4 1 4 4 2 1 1 4 3 5 5 4 2 5 5 1 1 1 1 2 3 3 4 1 3 3 5 4 1 2 2 1 4 4 3 4 5 5 4 1 1 4 4 5 4 4 3 1 5 3 3 2 4 3 3 4 2 4 4 3 4 2 1 4 1 1 1 5 4 5 4 1 1 1 4 1 2 5 5 2 3 3 2 5 5 5 5 5 4 4 4 4 4 5 2 1 4 5 1 3 3 4 1 3 2 5 3 4 2 3 3 5 5 4 3 2 5 1 1 4 1 2 2 2 4 5 5 5 4 5 5 2 3 3 3 4 5 1 4 4 2 5 4 4 3 2 4 2 2 4 4 2 2 2 2 5 3 4 1 1 5 4 1 3 2 2 3 4 1 3 4 2 5 2 3 1 3 3 4 5 4 2 2 3 5 4 4 4 2 1 1 2 3 3 5 5 2 1 2 5 1 5 3 5 1 1 2 4 1 4 4 3 1 5 2 2 2 4 1 1 2 4 3 1 2 3 4 3 3 4 5 1 4 2 3 5 4 2 4 1 4 2 1 5 4 1 5 2 2 3 4 2 3 3 2 4 2 4 3 4 2 2 4 5 2 2 5 1 1 4 4 1 3 3 5 1 2 3 4 1 4 5 1 4 4 2 1 5 2 3 5 5 1 4 1 5 4 3 3 4 4 4 4 3 5 2 2 5 1 2 1 1 3 3 5 4 1 5 4 3 4 5 1 1 2 2 3 5 3 5 4 1 3 4 4 2 1 1 1 2 5 1 3 5 1 4 4 3 4 1 5 4 4 1 2 3 1 4 2 4 4 3 3 5 4 3 5 4 3 4 3 1 5 3 2 5 1 5 3 2 2 4 3 1 1 5 3 4 2 2 1 4 1 2 2 4 2 4 2 1 2 5 3 5 1 5 5 5 2 1 2 5 2 4 1 3 5 5 2 1 1 1 3 2 1 3 3 5 5 5 1 5 1 4 5 3 1 5 3 1 3 2 2 5 1 5 1 5 4 2 1 5 2 4 3 2 2 4 2 5 2 3 4 2 3 5 4 4 5 4 1 4 3 5 5 1 3 4 5 3 3 4 3 3 4 4 4 3 2 3 3 5 5 2 2 3 1 4 5 4 1 2 4 5 1 4 1 1 1 4 1 4 4 4 3 2 5 5 3 2 2 5 1 3 5 3 4 2 3 1 4 4 4 4 1 5 2 4 5 2 4 3 5 2 1 3 2 3 3 2 3 4 2 3 1 2 3 3 4 2 3 3 2 3 4 3 4 2 3 2 3 2 4 5 1 4 1 2 1 2 5 4 1 4 3 4 5 1 2 3 4 3 2 1 2 3 4 5 1 5 1 1 4 3 4 2 4 3 5 5 3 4 2 3 2 1 3 5 4 2 3 1 3 3 3 4 5 1 1 2 2 1 3 3 3 4 2 3 5 4 5 2 4 5 3 3 2 1 5 5 3 1 2 3 1 3 1 1 5 4 4 2 2 2 1 2 2 1 2 3 4 1 3 1 2 2 3 5 5 1 5 1 4 1 4 4 2 2 3 3 3 1 5 5 2 1 3 4 1 2 2 3 2 1 2 5 5 5 3 1 5 2 2 3 3 2 4 4 2 3 1 5 3 5 2 4 1 3 2 5 2 4 3 3 1 5 5 3 2 2 1 2 2 3 4 5 3 3 3 1 5 5 4 1 3 2 2 2 3 4 2 1 4 3 5 3 4 1 2 4 5 1 5 5 1 5 4 1 3 2 4 1 2 4 3 5 1 4 3 4 5 2 5 3 4 2 4 1 5 1 5 3 4 2 2 2 4 5 3 1 2 3 1 2 5 1 3 4 2 5 3 2 2 5 4 5 4 3 1 2 5 4 1 2 1 5 4 3 1 1 2 1 2 5 2 3 3 3 5 1 3 4 1 5 3 5 5 1 3 1 4 1 1 2 5 4 2 3 5 3 1 4 5 5 3 3 1 1 3 3 3 2 2 2 2 2 1 1 4 1 5 1 1 3 5 5 3 2 2 3 3 5 3 5 5 1 5 5 3 1 4 3 3 4 4 1 3 5 1 1 4 3 3 3 3 3 4 4 3 3 1 1 4 5 2 1 2 5 5 5 1 3 5 4 3 5 4 3 4 4 4 1 2 5 5 1 5 1 3 5 5 3 2 4 5 4 1 1 4 5 5 2 3 1 5 5 4 1 5 1 4 4 5 5 2 2 5 2 1 1 4 4 3 2 3 4 3 5 3 1 5 4 5 2 4 1 4 1 1 3 2 2 2 3 4 1 3 2 3 5 2 2 2 4 2 3 3 5 5 2 3 3 2 4 4 5 5 3 3 3 2 4 4 3 1 4 4 4 4 4 2 4 1 4 4 2 4 4 4 4 5 1 5 4 3 4 2 5 3 1 2 1 3 2 5 4 3 3 3 5 3 3 2 4 2 2 4 5 2 1 3 4 5 5 2 2 1 1 1 1 2 1 4 1 1 2 5 3 3 4 1 4 5 4 1 2 5 3 5 3 4 4 2 1 5 3 4 3 3 1 5 3 3 2 2 4 4 4 4 2 5 1 5 5 1 4 2 4 4 4 5 4 1 4 1 4 5 1 2 4 5 1 5 2 5 3 5 1 5 4 4 2 4 2 1 3 1 3 4 1 4 3 4 5 2 2 2 5 1 1 5 5 4 3 1 2 2 2 1 2 1 4 5 4 1 1 3 3 2 3 1 5 2 1 3 5 4 3 4 3 3 2 1 1 4 5 2 1 2 4 3 2 4 4 4 4 4 3 2 1 5 5 4 1 4 2 5 1 1 3 4 5 4 4 3 5 5 2 3 5 1 4 3 1 3 3 5 5 3 4 1 1 5 3 5 1 3 5 3 4 4 3 3 3 2 2 3 1 3 1 2 4 2 4 3 5 3 4 1 1 4 5 4 1 3 2 4 4 2 1 2 2 2 5 2 4 5 2 1 2 1 5 5 2 3 1 2 3 3 2 4 1 1 2 3 2 4 5 2 3 3 5 5 3 5 1 1 4 1 2 5 5 5 2 1 4 3 1 5 2 3 5 4 2 4 2 5 3 5 1 4 4 2 4 3 2 4 4 3 1 1 4 4 4 1 2 2 3 2 1 1 4 2 3 5 5 2 5 2 4 5 4 4 2 1 1 2 1 4 5 2 2 5 2 5 1 5 5 5 4 1 2 5 4 4 2 2 2 2 3 3 4 4 4 4 2 1 2 5 5 3 1 5 5 1 3 5 4 4 3 1 4 1 1 5 2 2 5 5 1 3 5 2 3 5 4 4 3 1 5 2 5 2 1 1 1 1 4 4 4 3 2 5 2 4 1 1 4 1 5 1 3 3 3 3 2 4 5 3 4 2 2 5 4 1 4 2 3 3 2 4 3 5 5 3 4 4 2 3 3 3 5 5 3 1 3 1 1 1 4 1 1 2 5 5 3 1 1 1 4 3 1 2 1 5 2 5 1 5 1 3 1 5 4 5 4 4 5 5 5 2 2 3 3 5 3 3 5 5 4 3 5 2 2 5 3 2 3 2 5 3 2 1 1 1 4 3 2 3 5 1 2 1 5 2 3 2 4 5 1 4 4 4 3 4 3 1 2 2 2 1 5 3 5 1 1 3 4 4 2 1 3 3 1 2 1 2 5 4 4 5 3 5 4 1 3 4 3 5 1 3 4 1 4 3 2 3 2 5 1 2 2 1 3 2 1 4 3 4 2 4 2 1 2 5 1 3 3 4 2 5 3 5 2 5 3 5 5 5 4 5 1 3 1 1 2 4 2 5 3 3 1 4 3 4 4 1 4 4 5 2 3 2 2 4 1 1 5 1 5 3 5 3 5 3 1 1 1 2 3 3 3 5 3 2 2 1 3 1 5 3 1 2 1 1 1 4 5 1 2 1 5 1 5 1 1 5 1 3 2 4 3 4 5 4 5 2 5 2 5 2 2 4 2 1 1 4 5 4 2 3 1 3 4 1 5 3 5 4 2 2 1 3 1 3 1 3 1 3 5 1 5 3 5 4 5 1 4 1 4 4 5 5 5 5 5 4 1 4 2 5 1 5 4 1 3 5 5 5 1 3 1 5 4 1 4 4 4 4 3 4 1 1 2 1 3 1 2 3 4 2 5 2 1 1 4 5 2 2 1 2 4 3 5 1 4 1 2 3 4 3 1 2 1 2 2 4 5 2 3 4 3 3 2 4 5 5 1 2 5 4 5 2 2 3 1 2 2 3 2 5 1 3 2 4 4 1 4 2 5 2 4 1 4 1 4 2 2 4 4 5 5 3 5 5 3 3 4 1 4 5 4 4 4 2 1 1 2 2 4 4 2 2 1 1 3 2 5 5 5 1 5 3 3 4 5 4 1 1 5 2 2 1 2 5 4 2 3 3 3 4 3 4 4 2 1 3 5 2 5 4 2 4 2 5 4 4 1 4 2 5 2 2 1 1 2 1 5 5 4 4 1 3 5 1 3 2 4 4 4 5 1 3 4 1 3 5 3 4 1 3 3 2 5 5 4 5 5 2 1 1 5 2 2 3 3 3 3 2 1 4 5 2 2 5 5 4 3 3 4 1 2 5 1 2 5 4 5 1 4 3 3 2 2 3 5 5 5 4 3 3 4 5 5 3 3 4 4 4 3 5 5 4 1 1 3 3 2 1 3 4 2 5 3 5 5 5 1 3 3 2 2 1 1 1 4 4 1 1 5 1 2 2 1 3 4 1 3 4 5 4 4 5 3 1 2 5 4 4 2 3 5 5 1 3 4 4 2 1 5 1 4 4 2 1 5 4 2 2 3 5 1 4 4 2 4 1 5 2 3 3 2 1 3 5 2 1 1 1 1 4 4 1 5 4 4 3 3 5 1 3 1 5 3 4 1 1 4 5 3 3 3 5 3 5 3 3 2 1 2 2 3 5 2 2 2 2 5 2 5 2 5 2 5 1 1 4 2 2 5 4 2 4 5 4 2 1 2 3 4 5 2 5 1 2 4 2 1 1 4 5 3 1 2 5 1 2 1 1 1 4 2 1 1 4 4 3 5 2 1 4 3 4 2 1 1 3 3 3 5 4 3 3 2 4 3 1 4 4 1 4 3 2 3 5 5 5 2 4 2 3 5 5 3 5 5 2 1 5 3 3 4 5 2 2 2 4 3 1 3 4 1 4 1 3 5 2 1 5 5 4 4 4 1 5 2 1 2 1 4 5 5 2 1 5 2 1 4 5 3 5 5 4 3 2 5 1 2 3 3 2 2 4 1 3 1 2 4 5 5 1 5 2 2 2 4 5 3 3 5 2 3 4 1 3 1 1 3 1 5 5 4 5 2 1 2 1 4 2 1 3 2 2 2 2 2 2 2 5 1 2 1 1 3 2 5 5 2 5 3 5 3 5 1 2 4 2 2 1 3 2 5 2 3 5 5 4 2 5 5 3 4 1 1 2 3 3 5 3 3 4 1 2 2 5 2 1 4 3 1 2 5 2 1 3 4 2 3 3 1 1 5 4 3 1 2 5 4 5 1 1 4 2 3 3 5 5 1 3 3 4 1 5 5 4 1 5 5 2 3 5 5 5 4 4 2 5 5 2 2 4 5 1 1 3 1 2 3 1 5 4 2 2 3 1 4 1 4 5 4 3 5 5 3 5 3 3 2 2 1 2 3 3 5 3 3 5 4 5 4 1 4 4 1 5 5 1 2 4 5 2 4 1 2 2 2 5 1 5 1 2 5 4 1 3 4 2 4 1 4 3 1 3 4 4 4 4 3 2 2 1 3 5 5 3 3 1 3 4 4 3 2 1 3 2 5 2 2 2 1 1 5 3 1 5 4 1 2 3 1 3 4 1 5 2 1 5 2 2 4 4 1 4 2 5 4 4 4 1 3 4 1 3 4 1 5 3 2 2 3 3 5 5 3 5 5 2 1 1 1 4 3 5 5 1 3 3 3 5 5 2 5 1 3 3 1 4 2 2 1 5 4 5 2 1 3 4 4 2 3 5 5 3 1 1 2 3 5 2 2 1 2 4 5 2 2 1 4 2 4 3 5 4 1 3 1 1 5 5 3 2 5 2 4 1 1 1 3 1 5 3 3 4 4 1 3 1 2 4 3 1 3 3 5 2 3 5 2 5 3 1 4 4 3 4 5 2 5 4 3 2 1 5 1 4 4 4 1 2 5 1 1 2 5 5 1 4 5 4 5 1 4 1 2 3 1 2 1 3 1 3 4 5 1 2 1 2 2 3 4 1 5 1 3 4 4 3 2 4 3 5 3 4 5 3 4 4 1 3 2 1 3 2 4 1 3 5 2 2 4 1 5 4 4 4 2 2 1 5 2 5 3 1 2 2 2 2 3 2 5 3 4 3 1 4 1 2 5 2 3 4 5 1 5 4 4 3 2 2 4 4 3 5 5 3 3 3 2 1 3 2 3 4 1 1 4 3 4 3 5 4 2 2 3 5 4 1 5 5 4 5 4 1 1 5 2 5 1 2 2 4 4 4 2 5 5 2 2 4 3 5 4 3 3 5 2 4 3 1 2 4 4 5 4 5 3 3 2 1 2 3 2 4 1 4 1 1 1 2 3 5 3 1 2 3 2 1 2 3 1 1 3 2 4 5 5 2 1 5 5 2 3 1 3 4 5 5 5 3 1 5 4 5 5 3 3 1 3 5 2 1 4 1 3 1 5 5 2 5 2 4 1 1 1 2 1 5 3 5 4 1 2 2 4 4 4 3 2 3 2 5 5 2 5 2 1 3 1 3 1 4 2 1 2 4 4 4 1 2 2 2 4 4 5 5 4 2 5 5 1 1 5 4 3 4 5 4 5 3 2 3 5 5 2 3 2 2 2 1 5 3 4 1 2 2 2 1 1 2 3 1 3 2 4 4 2 5 3 4 5 2 5 2 1 1 4 3 3 4 2 1 5 3 2 2 2 5 1 1 1 1 2 5 2 2 4 1 1 5 5 3 3 5 3 3 5 2 5 1 4 3 2 1 3 5 1 2 5 3 5 3 2 4 3 3 5 1 2 2 1 5 4 3 3 1 5 1 5 3 1 1 1 1 4 2 4 2 1 4 1 5 2 4 4 3 2 5 4 3 1 5 1 5 2 5 2 1 3 4 3 5 2 2 4 4 5 4 3 5 2 3 1 1 5 5 5 4 3 5 4 2 2 3 5 5 1 3 2 3 1 2 4 2 3 5 4 4 5 1 3 1 2 5 4 3 3 3 2 3 3 5 4 3 4 2 5 5 3 5 1 4 5 1 5 3 5 1 2 2 5 5 4 2 5 4 3 5 5 3 1 3 4 4 4 3 4 3 1 2 1 3 3 4 3 3 2 4 3 4 2 1 3 3 4 5 5 5 2 2 5 3 1 4 4 5 2 1 2 1 4 4 1 2 2 3 1 3 1 3 1 4 3 5 1 2 1 3 1 2 3 1 5 4 2 5 5 4 1 2 3 2 2 4 5 3 5 5 1 1 3 2 3 4 5 5 1 2 5 4 1 5 5 2 1 3 4 4 1 2 5 3 5 2 3 5 4 4 1 3 2 2 4 1 4 1 3 1 5 3 2 1 2 4 5 4 1 4 3 5 2 3 5 4 5 2 3 3 2 1 3 3 1 1 3 5 5 5 2 2 5 5 3 2 1 2 1 2 4 5 1 5 4 5 5 3 5 4 4 3 4 5 4 4 5 5 1 2 3 2 4 5 4 2 5 3 3 2 3 4 3 5 2 4 5 1 1 3 3 2 3 5 3 2 2 4 3 2 1 2 4 3 1 4 2 4 4 1 4 4 5 2 5 2 1 2 3 3 1 3 4 3 4 3 2 3 5 2 1 4 1 5 1 1 5 2 3 5 3 2 4 3 2 2 2 4 4 4 3 2 2 2 2 2 5 2 2 1 4 1 2 1 2 3 1 2 4 3 5 2 2 2 2 3 2 2 5 5 4 2 2 5 1 4 2 3 5 4 4 3 3 1 2 1 5 4 2 3 2 3 5 3 2 2 1 5 4 1 3 1 1 5 5 3 1 2 5 2 5 3 3 1 4 4 2 5 2 1 2 2 5 3 5 4 5 4 5 1 3 3 2 1 1 3 5 4 4 5 2 2 5 2 1 1 1 2 3 1 4 5 3 4 4 5 5 2 3 4 3 3 5 4 2 1 4 5 3 5 3 1 2 1 1 3 2 1 1 3 2 4 5 1 4 3 1 4 5 1 3 1 1 1 1 4 5 5 3 4 2 5 4 5 2 1 3 3 2 2 3 5 1 5 5 5 5 3 4 2 3 3 4 2 4 3 1 4 2 3 5 2 1 3 3 3 4 3 2 5 3 5 2 2 3 3 1 5 2 5 3 2 4 3 1 2 1 2 5 2 2 3 5 5 3 2 4 1 1 1 1 5 2 3 1 5 5 3 4 5 3 3 4 1 4 3 2 4 1 3 4 1 5 2 1 3 3 3 5 4 3 3 4 3 2 5 3 4 4 4 5 3 1 1 5 3 1 3 3 3 1 4 2 3 5 1 2 2 2 3 2 1 1 5 1 3 4 5 5 3 3 4 3 3 1 3 5 5 1 2 2 4 5 3 1 3 5 5 2 4 3 2 2 1 4 4 3 1 2 2 4 1 1 2 4 3 5 1 3 1 1 3 2 2 2 2 3 5 5 2 1 2 1 4 4 4 5 2 5 2 5 1 3 4 1 3 1 3 2 3 5 3 3 2 5 3 3 4 1 1 2 5 3 5 3 5 5 3 3 4 2 4 3 2 2 4 2 3 3 3 2 3 2 3 2 3 5 2 4 1 5 3 5 5 1 2 1 1 4 2 1 4 4 1 2 3 1 5 1 2 5 4 4 3 4 1 3 3 3 4 3 2 1 5 2 5 4 1 2 5 5 1 4 2 4 4 1 3 3 3 1 1 2 5 2 1 3 4 3 5 3 5 4 1 1 1 4 2 2 5 1 2 2 4 2 2 5 3 4 4 2 5 1 2 2 5 2 1 3 3 3 4 1 1 4 2 1 5 5 1 2 5 5 3 4 3 5 4 5 1 2 2 2 5 2 2 2 3 3 4 1 5 4 4 4 4 2 4 4 2 3 4 4 3 5 3 2 5 1 4 3 5 2 2 3 2 5 4 4 1 3 4 4 1 2 5 4 5 4 4 1 3 1 1 2 5 4 3 5 4 4 5 3 3 5 3 4 1 1 4 3 4 1 5 4 4 5 4 5 4 5 5 1 3 2 3 1 2 2 5 1 1 5 2 3 2 1 3 4 5 4 5 2 3 2 5 3 5 2 3 4 1 5 4 2 5 3 1 2 5 3 2 2 4 3 2 2 5 5 1 2 3 4 4 5 2 1 4 3 1 4 3 3 1 4 5 3 3 4 3 5 3 4 5 4 3 3 1 3 1 2 2 5 3 4 2 5 4 5 5 4 1 3 3 2 2 3 1 4 5 3 5 4 5 1 4 1 2 1 1 3 4 4 3 4 3 2 2 1 2 5 4 2 2 4 3 4 4 5 2 5 2 4 5 5 1 3 3 2 1 5 1 5 2 3 2 3 2 3 1 4 4 5 5 1 3 3 1 5 5 4 5 3 4 2 5 3 4 2 3 1 5 2 3 5 2 4 5 1 4 2 3 5 4 1 2 4 2 5 5 1 3 5 4 5 1 2 1 1 5 1 4 4 3 5 2 3 5 3 1 5 3 3 1 3 2 5 2 1 1 2 1 1 2 3 4 2 2 5 3 2 2 4 4 4 1 5 1 1 3 3 2 5 2 1 3 5 2 4 4 4 4 4 5 3 5 1 4 1 3 3 5 1 4 1 2 3 5 2 1 5 1 5 3 2 3 4 4 3 2 1 1 2 3 2 2 1 5 5 2 3 2 4 2 3 1 4 3 4 5 2 1 5 3 1 3 1 3 3 2 4 4 5 4 4 3 5 3 4 4 2 1 4 5 5 1 4 2 5 2 2 3 3 4 4 4 1 2 5 2 3 5 1 5 3 4 2 2 2 1 2 2 5 4 1 3 3 2 1 5 4 4 5 5 3 3 4 3 5 1 4 2 2 1 3 2 3 5 2 4 3 3 4 3 2 4 1 2 3 4 2 3 2 5 4 1 3 3 4 1 4 2 2 3 1 4 4 5 1 3 3 2 2 5 3 5 1 4 2 1 5 3 4 1 2 1 3 1 1 5 5 2 2 5 4 3 2 1 3 1 3 4 2 3 2 3 4 3 4 1 3 3 5 1 3 5 1 3 5 1 2 4 1 1 3 1 4 2 5 2 3 4 5 1 5 2 4 2 5 1 4 1 4 3 5 1 3 5 3 2 3 1 5 5 4 5 1 1 2 4 5 4 4 4 4 1 5 5 2 4 1 2 2 5 1 1 3 1 1 1 2 2 2 2 2 5 2 2 4 3 2 4 5 5 1 4 5 3 3 4 4 5 3 5 5 3 1 5 1 3 3 1 4 5 3 2 3 5 2 1 3 5 2 5 4 5 5 3 1 2 5 5 4 1 5 5 4 1 4 3 3 5 2 4 5 1 2 2 5 4 5 3 2 3 1 4 4 4 1 5 5 4 4 3 1 4 4 1 2 1 2 5 5 3 5 5 2 1 2 3 1 3 3 4 5 2 2 3 4 2 3 3 3 1 4 4 4 5 2 1 1 2 5 5 3 4 4 3 2 5 3 1 3 4 5 4 5 2 4 2 5 1 3 4 1 4 1 5 1 3 2 3 3 1 1 1 4 1 3 3 5 4 2 4 1 3 1 3 4 4 1 1 2 5 3 2 1 1 5 1 1 1 3 5 2 1 4 3 3 2 2 4 3 3 1 3 1 2 2 1 2 1 5 1 2 1 3 1 3 5 2 2 4 2 5 4 3 4 4 2 3 2 4 1 4 4 4 5 5 5 5 1 5 2 3 5 1 3 4 3 3 1 2 4 1 2 3 2 1 3 3 2 1 4 1 5 5 4 2 1 3 3 5 5 2 1 1 3 2 3 4 2 5 2 3 2 2 1 3 2 4 5 3 4 5 1 5 3 1 2 2 2 3 3 1 2 5 2 5 5 2 2 3 3 4 1 1 1 2 1 2 4 2 1 2 4 2 2 3 5 5 2 5 1 5 3 5 1 2 4 4 1 1 5 1 5 4 4 3 1 5 5 3 4 5 2 4 3 1 5 1 3 5 5 1 4 4 2 3 2 4 2 2 3 4 4 3 2 2 2 5 4 5 4 2 2 2 5 5 3 4 4 4 4 2 2 3 4 5 4 2 1 4 3 3 3 1 2 4 2 3 2 2 3 5 4 5 1 2 3 1 4 3 2 1 4 1 4 3 2 1 1 1 2 2 4 5 3 2 5 4 1 3 3 5 3 5 5 5 2 5 2 4 3 3 4 1 4 4 4 5 3 1 5 3 3 3 1 4 4 5 1 5 3 2 4 4 4 1 3 1 1 4 1 5 2 1 1 1 4 2 2 1 2 2 5 3 3 3 4 2 1 4 1 1 4 1 5 1 5 2 4 1 4 4 2 2 3 1 2 4 3 5 5 1 1 3 3 3 4 5 3 2 1 4 3 5 5 1 5 4 2 1 5 4 2 3 5 4 5 3 2 1 1 2 5 2 1 2 2 3 2 5 3 4 4 1 2 3 3 3 3 3 3 5 5 4 2 2 2 1 1 4 5 2 3 4 1 4 4 3 5 1 4 3 2 1 4 4 4 4 2 2 1 1 1 3 4 1 2 5 2 4 5 1 4 1 1 4 3 3 3 1 3 1 3 5 3 1 2 1 5 4 3 3 3 2 2 4 5 5 3 1 2 3 1 4 5 1 3 2 4 2 4 5 3 3 5 5 4 2 3 1 2 2 5 4 3 2 4 2 3 4 1 5 3 3 2 2 3 5 1 1 2 4 1 3 5 3 4 1 4 4 5 4 1 5 3 5 5 4 5 4 4 2 1 1 2 5 1 5 3 3 4 2 4 5 4 4 1 4 4 2 3 4 4 1 1 3 1 5 2 3 4 1 2 3 1 3 5 5 3 3 3 1 5 2 1 1 1 5 2 3 5 4 2 3 1 1 2 1 2 2 4 1 4 5 5 5 2 5 4 4 3 5 1 5 4 4 4 2 1 2 3 4 2 1 5 1 5 5 4 1 3 4 1 4 2 5 1 3 1 1 1 3 2 4 1 4 2 4 2 2 1 5 2 1 5 5 4 1 2 5 2 2 5 1 1 1 4 5 4 1 1 3 4 2 4 4 1 1 3 2 4 5 3 1 1 3 3 4 2 1 1 5 5 5 1 1 3 1 3 4 5 2 2 5 3 1 4 3 1 1 1 4 2 1 4 3 4 5 5 3 2 3 2 5 2 1 2 5 3 2 2 2 5 1 4 5 4 3 1 4 4 1 3 3 1 3 4 3 4 2 4 4 5 3 3 4 5 1 4 1 3 3 4 2 1 4 3 2 1 5 1 4 5 4 3 2 1 2 1 4 5 5 1 2 5 3 4 2 4 5 4 3 2 2 2 2 2 3 4 1 5 3 5 1 1 5 1 1 4 4 2 3 3 2 1 1 3 5 5 1 5 4 1 5 1 1 3 2 1 3 3 3 5 5 1 1 1 1 3 5 4 4 3 1 1 4 4 2 5 2 1 1 2 3 5 1 4 5 1 4 3 1 3 2 3 3 2 1 2 3 5 2 2 3 2 2 2 1 3 3 5 4 2 3 3 5 3 2 2 1 4 3 5 2 3 2 1 2 5 4 2 5 4 3 4 5 1 1 4 5 1 4 3 1 1 5 1 5 4 5 3 2 4 2 4 1 4 5 5 1 5 2 1 5 5 5 4 1 3 3 5 3 1 2 4 3 2 1 5 3 5 2 1 4 5 2 2 3 3 3 3 3 4 5 3 3 4 4 4 5 2 1 1 4 3 4 2 4 2 1 1 4 2 3 1 1 1 1 2 4 2 1 3 3 3 2 2 3 3 5 3 1 3 2 1 2 2 5 4 5 1 3 3 4 5 4 5 1 3 5 3 1 4 4 2 3 4 1 2 3 2 2 2 5 4 2 5 5 2 3 1 4 5 5 4 3 3 2 3 5 2 2 5 5 3 2 4 2 1 4 3 5 5 4 1 3 2 4 2 4 3 1 5 5 4 4 5 5 5 5 5 2 5 1 4 4 3 2 5 5 1 2 3 2 2 2 2 3 5 3 1 2 2 1 3 3 4 1 5 2 5 2 5 4 4 5 4 5 4 5 5 3 1 5 4 2 5 2 5 4 1 5 3 3 1 5 1 4 2 1 2 1 1 1 5 5 5 1 3 4 5 2 4 3 4 3 5 3 4 2 2 4 4 5 5 2 5 5 4 5 2 1 3 2 1 1 4 2 3 4 3 1 1 1 3 2 3 3 5 4 3 5 4 1 4 4 1 4 2 1 5 3 2 4 3 4 4 5 4 5 1 5 4 4 5 1 1 5 1 4 1 4 2 4 3 5 1 1 3 5 2 2 5 4 4 5 5 2 1 1 3 4 4 4 4 4 1 2 5 1 5 1 1 4 1 3 5 5 4 5 4 1 3 3 3 5 3 1 2 3 1 5 2 2 2 1 3 3 3 3 4 1 4 4 2 1 4 4 1 3 4 3 1 2 5 5 2 5 1 2 2 4 4 4 1 3 2 5 3 4 4 3 1 3 5 2 2 3 5 4 3 4 1 2 3 1 1 3 2 3 1 1 3 4 2 1 4 4 5 4 2 2 5 3 5 5 1 3 3 1 3 3 1 3 1 1 5 3 4 5 2 1 1 5 4 5 2 4 1 5 3 2 5 4 4 3 3 4 1 3 5 3 1 2 5 5 2 4 2 1 2 3 2 4 3 3 5 5 2 4 4 1 5 1 2 5 5 2 4 5 4 5 3 2 3 5 4 5 5 1 4 2 2 2 3 1 2 4 5 5 2 5 2 4 2 5 4 1 3 2 5 3 4 4 5 2 4 5 4 3 5 5 1 4 2 4 2 1 5 1 4 1 2 4 2 5 2 2 5 1 1 3 1 1 4 5 2 3 1 5 5 5 2 2 4 2 5 3 2 1 1 4 3 1 2 4 3 1 2 2 3 2 4 5 5 5 2 2 4 1 3 5 5 5 3 3 2 1 2 4 5 3 2 3 1 4 1 1 1 3 4 2 4 3 5 4 5 2 3 1 2 1 2 3 2 3 4 3 5 5 2 3 5 5 4 3 2 4 5 5 2 5 4 2 2 2 2 3 5 5 2 4 1 5 3 4 1 2 5 2 5 5 1 4 3 1 1 2 2 1 1 2 3 3 1 2 4 2 1 3 2 3 3 1 5 3 4 4 5 1 4 3 5 2 3 2 5 5 2 1 3 2 2 2 5 1 4 4 4 5 3 3 5 5 3 2 3 3 2 2 5 1 4 3 1 5 4 2 1 5 3 1 3 1 4 4 3 1 2 2 5 3 2 1 5 2 4 1 4 3 5 4 2 3 2 1 4 5 4 2 1 3 3 5 5 1 2 1 1 1 3 3 1 3 3 1 5 1 3 1 5 2 5 1 3 3 5 4 1 5 5 4 5 1 4 5 2 4 1 3 3 2 2 3 1 3 5 4 4 2 2 3 2 2 1 1 1 4 5 4 2 5 4 1 5 3 1 2 1 2 1 3 2 5 3 2 1 1 5 4 4 1 3 3 3 3 4 3 3 3 4 2 2 3 1 3 1 2 1 1 2 5 3 3 4 4 3 4 1 4 2 3 4 4 1 2 4 2 3 5 2 2 3 3 5 5 2 1 1 1 2 4 2 5 3 1 5 2 2 4 1 5 1 4 1 3 1 4 1 5 1 1 4 3 5 2 2 2 4 3 2 4 5 5 5 2 2 4 1 5 2 3 5 2 5 2 2 3 2 3 4 1 3 2 4 3 1 3 3 3 3 4 2 5 3 3 1 3 5 5 2 2 5 4 3 1 5 5 3 2 1 4 4 5 3 5 5 1 3 1 3 2 5 2 4 2 5 2 1 3 5 3 3 2 2 2 2 1 3 2 2 1 4 3 1 5 5 3 1 3 2 5 4 1 4 5 4 1 1 5 3 3 5 4 5 4 3 2 5 4 1 3 2 1 2 2 4 3 4 1 2 2 5 5 2 5 5 3 2 2 3 4 1 1 4 3 2 2 1 1 5 2 4 5 3 2 2 2 5 1 1 2 5 3 5 5 4 2 1 4 1 4 1 2 1 4 5 2 5 1 5 4 2 5 2 1 4 1 1 2 5 5 2 2 5 1 1 3 3 4 2 1 1 5 4 1 5 3 5 1 1 4 3 1 3 2 5 5 1 3 5 4 1 1 1 2 2 2 2 2 5 2 5 2 1 3 5 4 2 3 3 5 2 5 1 2 2 2 2 4 3 5 4 3 5 1 3 2 2 5 4 5 5 5 2 5 5 3 4 4 4 1 1 2 3 2 1 1 2 5 1 4 2 4 4 4 4 4 1 3 3 4 2 2 3 4 4 2 1 1 4 5 3 4 5 3 5 5 3 5 1 1 2 2 5 1 4 2 4 5 1 2 2 5 3 4 3 5 4 4 1 1 5 4 5 3 2 2 1 5 4 2 3 3 1 4 1 2 1 4 2 3 1 1 1 2 1 4 4 3 3 5 4 4 1 3 2 4 2 3 4 1 1 5 1 3 4 2 3 4 5 1 5 5 5 4 1 3 3 1 1 4 1 3 3 2 4 3 3 3 2 4 1 2 1 1 4 2 5 2 4 3 5 2 2 2 4 1 2 2 2 5 1 2 2 2 1 3 3 1 2 2 5 2 3 2 5 1 5 4 2 2 5 2 2 5 1 2 1 2 5 3 1 3 2 1 2 3 3 1 4 4 5 2 5 3 5 1 4 1 1 4 5 1 5 1 2 3 3 2 4 1 4 1 2 2 5 5 5 5 5 3 4 2 4 5 1 3 2 1 4 3 1 5 1 5 1 3 4 3 4 5 2 5 3 4 5 4 4 1 4 4 4 4 4 5 2 4 1 2 1 5 4 1 1 3 3 2 5 4 5 1 2 5 1 4 2 2 2 5 4 4 3 1 5 1 4 2 1 1 1 1 1 1 1 5 5 4 1 3 1 1 4 5 3 5 1 2 3 2 4 5 1 5 2 5 5 1 2 2 5 5 2 5 1 3 2 4 3 1 3 5 3 5 4 3 2 2 1 2 4 1 4 4 3 5 1 3 3 5 1 4 2 3 4 5 2 3 2 4 1 5 2 1 4 1 3 5 5 1 1 1 2 5 5 5 1 1 1 5 5 3 2 5 5 1 3 5 5 5 5 5 2 5 4 4 4 4 1 4 2 2 2 3 5 1 1 2 3 2 3 2 1 2 4 1 3 2 1 3 4 1 4 3 4 3 1 1 4 2 2 2 2 3 1 5 4 5 3 3 2 3 5 2 5 3 5 4 2 1 3 2 4 4 3 4 5 1 1 4 5 4 2 3 1 3 4 2 4 2 1 5 3 2 3 3 4 3 1 1 1 5 5 3 2 5 1 3 2 3 1 5 1 3 2 5 4 3 2 5 5 3 3 1 2 1 2 5 1 5 1 5 5 2 4 4 4 2 5 3 4 1 5 5 4 3 3 2 1 3 5 2 1 5 3 2 1 1 5 2 3 5 2 1 4 3 1 1 2 3 4 1 3 5 1 4 5 3 3 1 1 5 1 5 2 4 1 1 5 2 1 3 1 3 4 2 1 3 2 4 3 1 5 4 4 2 3 4 5 4 1 4 1 4 4 1 3 5 2 3 2 3 3 2 3 1 4 4 4 3 5 5 4 1 2 2 2 1 5 1 2 2 5 2 2 4 1 5 3 3 5 4 3 1 5 2 3 3 3 3 1 5 3 5 2 3 3 3 4 3 2 4 1 5 1 1 4 1 5 4 5 3 2 5 1 3 2 3 1 3 5 5 5 1 1 1 5 4 3 5 1 4 3 3 5 3 5 1 3 4 4 3 4 5 3 4 2 4 4 3 5 3 3 3 3 5 4 2 4 4 1 3 5 1 4 4 3 1 1 1 3 4 1 4 1 4 4 2 4 4 3 5 3 5 1 4 5 1 5 3 4 5 3 2 5 5 5 1 2 4 4 2 3 3 4 4 3 2 4 3 2 2 1 3 1 1 3 4 3 1 1 3 5 4 5 3 2 1 4 1 2 2 5 4 4 2 1 5 2 2 1 5 3 1 1 1 5 4 2 3 3 1 4 2 5 1 2 5 4 2 1 4 5 4 1 1 4 2 4 2 4 5 3 3 1 1 3 3 1 5 1 5 2 5 3 4 4 1 5 5 3 1 2 1 5 3 4 1 1 1 1 1 1 1 2 4 1 5 3 4 4 3 4 1 5 2 5 3 4 2 5 1 2 1 4 4 2 5 5 3 2 1 1 3 4 4 4 3 3 4 5 5 2 1 5 1 5 4 2 2 3 5 3 1 5 4 4 5 5 1 5 3 3 5 3 3 1 1 4 1 1 4 4 1 1 4 2 2 3 1 3 1 1 5 2 2 1 3 5 2 3 3 1 5 3 3 4 1 1 5 5 4 4 2 3 2 1 4 2 5 5 3 1 4 2 1 4 2 5 5 2 4 1 5 2 2 3 4 2 3 2 3 3 4 2 3 4 1 1 1 2 2 2 1 3 2 5 3 1 3 2 5 2 2 4 5 1 5 1 5 3 4 3 4 4 2 5 2 4 5 1 3 2 4 2 3 5 2 5 1 1 2 1 5 4 1 4 1 2 1 4 5 3 2 4 2 3 4 5 4 1 2 1 1 5 2 1 1 5 3 1 2 4 5 5 3 3 4 3 5 1 4 1 3 1 5 2 4 4 3 2 3 5 2 3 4 5 1 4 2 2 5 2 5 1 3 4 5 4 1 4 3 1 1 5 5 4 1 2 1 1 4 4 2 1 4 1 3 5 2 4 4 4 4 5 1 3 4 3 1 3 2 1 1 2 2 4 1 4 5 5 2 4 5 1 1 5 5 5 3 3 3 1 4 5 2 3 2 2 1 5 5 5 5 1 5 3 2 4 3 4 2 5 4 2 3 3 2 5 4 1 5 5 1 2 3 5 4 5 3 1 4 3 4 3 4 2 4 4 1 4 2 1 1 5 1 3 1 1 1 2 2 2 3 1 1 5 5 1 2 5 3 1 2 2 1 3 3 1 3 2 2 1 3 5 4 1 5 3 1 1 4 2 2 3 4 5 3 5 2 4 3 2 4 5 4 3 3 5 3 3 3 4 5 2 5 1 2 3 5 5 5 5 4 2 1 1 2 2 1 3 4 5 3 4 3 5 4 5 3 3 2 3 3 3 5 4 1 2 3 5 3 2 3 3 3 2 2 2 3 4 1 2 1 1 2 2 5 1 1 3 1 1 1 3 4 5 2 1 1 5 4 3 4 5 2 3 2 4 3 5 3 1 4 2 2 2 4 5 2 5 5 2 4 2 5 1 3 1 2 3 2 3 1 5 1 2 5 4 4 3 2 3 2 5 4 4 2 5 3 5 3 5 4 2 4 3 1 2 1 4 4 4 4 3 1 1 2 5 3 4 2 2 2 4 3 3 1 5 2 5 3 1 4 3 3 2 5 5 4 5 4 3 2 3 4 2 1 4 4 1 3 1 3 5 4 4 3 5 2 1 4 2 3 2 3 2 3 2 2 4 1 3 5 2 5 1 2 4 2 5 2 5 2 5 4 2 1 1 2 2 4 3 1 4 3 5 2 5 5 1 3 1 5 2 1 5 1 4 1 2 5 4 5 4 5 1 5 1 3 1 4 4 2 4 5 3 5 1 3 1 4 1 3 5 1 4 2 2 5 3 1 5 3 5 1 1 2 2 1 5 3 1 2 2 4 4 4 3 1 3 2 2 1 1 3 2 4 2 4 1 1 2 1 5 3 1 3 5 4 2 2 1 4 1 1 3 3 5 5 1 5 5 1 5 3 1 4 5 1 5 2 4 5 1 4 5 4 2 2 4 1 4 3 4 1 1 1 2 2 1 2 4 4 2 4 4 2 3 3 2 4 4 5 1 2 2 4 2 5 5 5 2 2 2 5 1 5 5 3 1 1 1 4 5 5 3 3 2 3 5 4 5 4 1 1 4 5 3 5 2 5 5 4 1 3 3 1 5 5 1 4 4 1 5 3 5 4 1 2 1 5 2 2 4 2 2 1 2 4 2 3 3 3 1 5 5 4 5 4 2 2 1 5 2 1 5 5 2 3 3 1 5 2 4 4 1 3 2 5 1 2 1 5 3 3 3 2 3 3 4 2 1 4 2 3 3 3 5 4 2 4 5 5 1 5 2 4 4 3 1 2 2 1 4 4 4 1 5 3 5 1 2 3 5 5 3 4 3 4 3 3 3 4 2 5 4 3 5 4 2 2 3 3 5 2 3 5 3 3 3 5 5 2 1 1 3 1 1 4 1 2 1 3 5 4 1 4 1 5 4 4 2 2 5 3 2 2 2 5 2 1 1 5 3 4 5 1 5 5 1 2 2 2 4 4 5 5 4 1 4 4 5 5 5 5 2 3 3 3 5 1 5 5 5 1 3 2 5 4 3 2 4 2 4 1 3 1 5 1 2 5 2 4 2 5 5 4 1 4 4 5 1 1 5 2 4 1 5 5 1 2 4 4 1 4 3 1 2 4 1 2 1 4 5 2 5 2 5 1 1 2 5 2 1 1 1 3 3 5 2 5 1 3 1 2 3 4 3 1 2 4 4 4 2 1 1 4 2 3 4 1 3 3 4 3 4 4 3 2 1 2 3 2 3 1 3 3 5 4 1 1 1 3 3 4 5 5 5 3 1 2 1 2 3 4 5 4 5 4 1 5 1 3 1 4 1 2 5 1 4 3 4 2 4 2 3 3 4 5 5 5 2 5 3 3 5 3 5 1 4 3 2 1 2 2 4 1 5 3 3 1 2 2 4 5 5 4 4 1 2 1 5 2 2 4 1 2 5 4 1 3 3 1 1 1 3 3 4 1 1 4 3 2 2 3 1 3 5 4 1 3 4 2 2 2 2 4 1 3 1 3 2 5 2 2 2 1 3 3 4 2 3 4 2 1 4 1 5 4 5 1 4 5 3 4 5 3 4 5 1 3 4 2 5 3 3 4 4 5 4 1 5 4 1 1 1 3 3 1 5 1 2 2 2 5 3 1 2 4 1 1 1 3 3 3 2 5 4 2 1 5 1 3 4 4 4 5 4 2 4 5 3 5 5 5 3 5 3 1 2 1 3 1 2 5 1 1 5 1 3 4 5 2 2 4 5 2 2 5 4 5 1 2 2 2 4 1 3 2 2 2 5 3 2 2 2 2 4 3 3 3 4 3 1 3 2 5 5 4 5 2 4 2 4 4 2 4 2 5 3 2 4 3 2 3 5 4 2 3 2 4 4 5 3 5 3 2 2 3 2 1 1 3 5 1 1 3 2 2 2 2 5 3 2 2 1 4 1 4 4 2 3 5 5 1 3 4 4 1 1 2 1 4 5 3 1 1 5 1 1 2 4 1 2 2 5 1 2 1 5 2 5 5 2 4 5 4 4 4 3 1 5 5 4 4 1 2 4 2 4 2 2 3 2 5 5 1 2 1 4 5 3 5 3 2 2 1 4 1 4 1 4 1 5 4 2 1 5 2 3 3 5 4 2 1 1 4 5 2 4 1 1 3 4 2 5 2 5 5 4 1 5 1 3 2 3 2 4 4 2 5 3 3 3 2 2 1 1 3 4 1 4 5 3 3 4 4 5 1 1 2 3 3 4 4 4 5 5 3 2 3 3 4 3 2 1 3 1 2 3 4 5 1 3 1 4 4 1 5 1 2 1 5 3 2 4 1 5 3 5 3 1 2 4 4 2 4 2 4 1 1 2 2 1 1 2 1 3 5 4 4 4 4 3 5 5 4 3 3 2 2 1 5 2 3 5 3 3 5 4 3 4 2 2 2 3 5 3 4 1 1 2 1 5 4 1 1 4 2 4 2 3 4 3 5 1 4 2 4 1 2 2 3 1 5 2 4 3 3 1 1 3 2 1 4 4 1 5 2 5 3 3 1 5 2 4 4 3 3 1 5 1 2 1 5 1 3 2 5 1 3 1 4 2 3 3 2 2 4 3 3 4 1 2 3 4 5 5 1 2 1 5 1 2 1 2 1 3 5 2 4 5 5 2 2 1 5 5 3 3 3 3 2 1 3 2 4 3 1 3 1 4 3 5 3 4 1 1 2 5 2 3 2 2 5 1 3 2 5 5 1 3 2 5 2 2 1 4 4 1 5 1 4 3 1 1 4 1 4 2 2 2 1 2 4 5 1 5 3 2 3 5 1 5 3 2 2 2 5 3 3 5 1 2 5 5 2 5 4 2 1 3 4 4 3 4 2 4 5 1 5 4 5 3 3 5 2 3 3 4 1 2 4 2 3 3 4 3 3 5 1 3 4 2 3 3 2 2 2 3 3 1 2 2 1 1 2 1 1 5 2 1 2 5 1 4 1 4 4 3 3 3 3 1 2 3 5 3 4 4 5 1 5 4 4 5 2 2 1 5 2 2 3 3 1 2 5 1 3 3 1 5 4 2 3 5 2 2 4 4 2 1 2 5 3 4 5 3 1 3 4 3 2 3 3 1 3 2 5 3 4 3 5 2 3 4 2 4 5 3 4 1 2 4 3 3 2 2 4 3 1 4 3 4 3 2 5 1 1 1 5 1 3 4 5 2 4 4 4 2 5 3 4 2 3 1 5 4 4 3 2 1 2 5 4 5 4 4 3 1 1 5 1 3 2 1 4 2 3 2 2 3 4 1 3 5 3 5 1 5 1 3 1 1 2 2 3 4 2 1 1 3 3 2 1 5 3 2 2 4 5 1 5 2 1 3 3 5 3 2 3 2 2 4 1 4 2 2 2 5 2 5 5 2 1 4 2 5 1 5 1 5 4 2 1 4 3 1 4 5 1 5 5 2 2 3 4 3 2 5 2 5 5 1 1 1 4 2 3 5 4 2 4 5 2 4 5 2 2 3 3 2 3 4 3 4 4 4 2 1 4 4 5 5 2 4 5 1 1 4 1 1 3 3 2 1 2 5 5 3 3 1 1 4 4 5 2 3 5 2 3 5 3 5 3 5 3 5 5 5 3 2 1 3 2 2 4 4 2 5 2 3 5 5 1 1 3 3 3 5 1 4 1 2 3 1 2 3 3 3 2 2 3 3 2 3 5 4 5 2 5 2 3 2 1 5 3 2 2 5 4 1 4 3 3 1 1 3 2 1 3 4 5 5 1 1 4 1 2 3 4 1 5 3 1 1 4 5 3 4 1 2 3 5 4 1 3 4 5 5 4 2 1 2 2 2 3 5 5 4 4 5 5 5 1 5 4 3 3 5 4 5 5 3 4 5 2 2 2 3 3 3 1 2 1 3 2 2 4 1 1 1 5 3 3 1 4 1 2 3 2 4 4 1 2 5 1 4 3 4 3 3 3 3 5 4 2 3 1 4 1 5 1 5 2 1 3 4 1 2 3 1 2 5 1 1 4 3 3 2 3 1 1 2 2 1 5 3 3 4 4 2 4 1 3 5 5 2 1 5 4 3 1 1 1 3 4 3 1 2 3 2 4 4 5 1 3 1 4 1 5 5 1 3 3 5 3 3 3 1 5 4 5 3 1 5 1 3 5 3 5 5 1 1 5 4 4 1 5 5 1 4 1 1 2 4 4 2 5 4 3 4 2 3 2 5 2 4 2 4 5 3 1 5 3 5 5 1 4 1 2 3 3 4 1 1 3 5 4 1 1 3 2 3 1 2 4 4 1 2 1 5 1 5 2 2 4 3 4 2 5 5 4 3 5 2 3 1 3 4 5 2 1 4 2 3 3 5 1 2 1 1 2 3 4 4 1 5 1 2 5 2 2 4 3 2 4 2 1 1 4 3 4 2 2 1 3 5 1 2 4 4 5 4 5 3 2 4 2 3 3 4 3 4 2 2 3 4 3 5 1 3 3 5 5 3 1 3 5 5 3 5 1 2 5 5 2 5 1 1 1 5 2 5 3 4 3 4 2 1 1 3 3 2 4 1 5 5 1 3 1 5 3 1 5 5 5 4 1 3 4 4 5 1 3 2 3 3 2 1 3 3 5 5 2 4 4 4 1 4 2 1 2 3 5 2 5 4 5 2 5 3 2 1 3 5 2 2 5 1 2 4 5 3 4 1 5 3 2 3 4 5 1 2 2 4 3 5 5 1 2 4 1 4 1 4 2 5 4 5 3 1 1 4 4 3 4 5 4 3 1 5 3 4 3 1 2 3 4 3 3 1 5 3 3 1 1 4 3 2 3 3 5 5 3 5 4 2 1 1 3 5 2 1 2 3 1 5 1 5 3 1 2 2 1 5 4 4 4 5 2 4 4 4 4 2 2 5 4 1 4 2 5 4 4 4 3 3 1 2 1 4 5 2 3 2 1 2 1 5 1 4 2 1 3 1 4 2 4 5 3 1 5 2 5 1 1 1 5 4 4 2 4 3 3 3 3 3 3 3 3 2 5 4 3 3 2 3 2 2 2 5 4 2 4 3 1 5 1 1 4 5 1 2 4 2 1 4 2 1 2 2 1 2 4 4 3 4 1 5 4 3 3 5 1 4 2 2 2 1 2 4 1 2 4 5 4 2 4 4 1 5 1 2 5 5 4 3 2 2 4 5 5 4 4 5 4 3 1 2 1 1 2 4 3 4 2 5 1 1 3 1 1 2 3 5 5 1 3 4 1 5 2 2 1 2 4 1 4 1 3 3 4 4 5 5 3 1 5 4 1 1 5 3 5 2 4 2 4 3 2 5 4 1 4 3 5 3 1 2 5 3 1 4 3 5 4 2 3 2 2 2 3 4 5 5 1 3 3 5 4 2 3 4 2 1 1 3 5 5 3 5 5 3 1 5 3 2 4 3 1 2 4 1 3 3 3 3 2 1 5 2 1 1 5 2 5 4 4 5 2 3 1 1 4 3 2 4 3 4 3 4 3 1 4 4 3 2 1 2 2 3 2 1 3 5 1 2 3 1 1 4 4 5 4 3 4 5 5 5 4 3 1 5 3 2 1 4 2 4 2 4 4 4 1 3 1 1 5 2 3 1 2 5 1 5 3 1 5 4 2 1 1 3 4 2 5 2 5 3 5 1 4 4 2 5 4 3 3 3 5 3 3 5 2 4 1 5 1 5 3 4 2 1 1 2 4 2 1 2 4 3 1 4 4 4 1 5 4 3 3 3 3 4 1 1 2 4 3 1 3 3 4 4 3 4 3 2 4 5 4 1 4 3 1 2 1 1 4 2 3 4 5 5 2 5 2 3 1 5 5 2 2 1 1 3 3 5 1 1 5 2 1 3 4 4 4 5 5 3 4 1 1 2 5 3 5 3 2 1 2 5 4 3 2 5 3 2 4 1 4 1 1 5 5 3 4 2 5 1 1 2 1 4 5 4 4 1 2 4 1 5 5 4 3 4 3 4 5 2 3 1 1 4 4 4 2 5 2 1 4 2 1 2 1 1 2 5 3 2 3 5 5 3 1 5 3 1 5 2 2 2 2 3 3 1 2 4 2 2 1 2 1 3 3 2 5 2 1 5 1 5 5 4 3 5 2 3 3 2 4 3 3 2 4 3 1 3 2 1 1 2 5 2 4 5 5 1 4 2 4 2 2 1 5 2 1 5 1 2 5 1 5 4 4 3 4 1 3 2 5 3 4 4 3 5 4 5 2 3 3 5 3 3 5 5 4 5 5 4 4 5 5 5 3 1 2 5 2 1 5 1 3 3 1 1 5 2 3 2 2 2 3 1 5 4 4 2 1 3 4 1 2 2 2 3 3 1 2 4 3 1 5 4 5 1 3 1 1 3 2 2 5 2 2 2 1 4 1 4 1 1 1 3 3 4 5 2 5 1 5 3 5 2 4 4 5 4 4 1 4 4 2 4 3 1 2 1 4 4 2 4 2 5 2 2 4 5 2 3 3 4 3 3 5 5 4 3 4 4 3 5 4 4 5 2 2 4 1 5 1 5 3 1 4 3 5 1 4 2 3 3 5 5 2 5 2 3 3 1 3 1 2 2 5 5 2 5 4 4 3 3 4 2 3 2 5 1 4 3 4 1 2 3 3 2 4 2 3 1 4 1 3 4 1 1 3 4 5 5 5 5 5 5 3 1 4 5 2 1 5 2 3 1 2 2 2 5 5 5 4 2 1 2 2 4 4 2 5 1 1 2 2 1 2 2 2 4 4 2 5 5 3 1 1 3 2 2 1 5 5 2 2 5 5 4 5 3 3 2 3 4 2 2 3 1 4 4 5 3 3 5 5 5 4 3 2 1 2 3 3 3 3 2 5 3 4 4 5 1 4 5 4 5 1 3 2 4 5 2 1 5 4 5 1 1 5 4 5 4 5 2 5 1 1 2 5 3 1 2 1 3 1 3 4 2 1 1 3 1 5 5 1 4 1 4 1 2 3 1 5 1 5 1 1 4 2 2 4 3 2 1 1 3 2 3 1 2 3 3 1 2 3 3 2 3 4 1 1 3 3 3 1 5 2 3 3 2 1 1 3 1 2 2 3 3 4 1 4 4 3 2 2 1 5 5 4 3 1 4 5 4 2 2 1 1 2 5 2 5 2 4 4 4 2 5 3 3 1 2 1 3 2 5 5 4 2 1 4 2 4 3 2 5 4 3 1 2 3 1 4 4 2 1 4 3 1 2 3 4 3 2 3 3 4 3 3 1 1 2 1 3 3 3 1 2 3 1 5 1 2 4 2 4 1 1 4 3 3 1 1 5 5 1 1 4 5 4 1 2 2 1 1 5 1 5 3 3 4 5 3 5 3 4 3 4 1 5 2 1 5 2 2 4 3 1 2 2 3 5 5 4 3 5 2 1 3 2 4 1 3 4 4 3 1 5 3 3 4 3 4 4 4 4 5 3 4 2 1 5 3 5 1 1 2 2 1 4 1 3 2 1 1 1 4 1 5 1 4 3 4 1 4 1 1 3 1 4 5 5 1 4 5 3 4 1 5 2 2 5 3 2 2 4 5 2 2 4 1 1 4 3 4 4 4 5 5 3 2 5 5 5 2 5 3 5 3 3 2 3 5 1 4 1 2 3 3 2 4 2 5 4 4 3 2 5 3 3 2 2 5 5 2 5 5 1 3 4 5 3 5 2 5 3 1 3 5 3 2 1 4 3 3 4 1 4 1 1 5 5 1 4 4 1 5 4 1 2 2 4 4 2 3 1 4 2 2 2 2 2 4 3 4 5 2 5 1 4 5 5 3 1 2 2 3 4 3 5 1 4 1 3 3 2 4 2 4 3 5 5 1 3 2 5 5 5 2 1 4 3 1 2 2 4 2 5 3 2 5 5 3 3 4 5 3 4 1 4 3 3 4 2 4 1 1 3 1 2 3 1 4 1 5 4 4 1 4 2 2 4 2 1 3 1 1 1 3 5 4 3 4 2 3 5 5 5 1 5 1 3 2 3 2 5 4 4 3 4 4 3 4 2 1 1 3 2 1 1 4 1 4 4 5 4 4 1 1 2 5 2 3 5 2 1 2 2 1 4 1 2 2 1 3 5 1 3 1 3 5 4 5 5 3 4 5 1 4 2 4 5 4 4 2 3 5 1 2 3 4 1 2 1 2 1 3 5 1 3 4 4 2 2 3 2 5 4 4 3 4 5 3 1 1 3 3 4 2 4 1 5 3 4 1 5 2 2 1 3 1 1 5 5 4 1 3 5 1 4 5 4 2 5 5 2 1 3 5 1 2 4 4 3 1 2 2 4 1 4 3 2 2 3 3 5 2 2 2 3 4 2 2 3 5 4 4 3 1 3 3 2 3 4 4 1 1 5 4 1 5 3 3 1 3 2 5 1 2 4 4 4 2 3 1 1 5 2 5 3 1 1 4 3 5 5 4 4 1 1 1 1 3 4 1 4 2 4 5 4 2 1 5 3 1 3 2 4 1 1 2 2 1 5 2 3 4 4 1 4 3 5 4 1 4 4 2 3 1 5 5 1 5 2 1 2 4 5 3 3 4 4 2 1 5 4 1 4 3 4 5 3 4 2 5 2 3 3 5 5 2 3 5 5 3 1 1 5 2 2 1 4 4 3 5 3 2 2 3 5 5 4 2 3 3 4 4 5 5 3 2 3 5 3 5 4 4 1 3 4 4 2 2 2 5 1 3 4 1 2 3 2 1 4 1 1 2 3 5 4 5 4 3 4 2 2 4 1 1 5 2 3 4 3 2 1 3 1 5 5 5 2 5 3 5 1 3 2 3 1 3 2 1 4 4 4 3 5 1 4 4 2 3 4 5 4 3 1 3 3 2 3 2 5 2 1 2 3 4 3 5 4 4 5 1 3 4 3 5 5 2 5 5 1 4 1 4 1 1 1 5 4 1 2 4 5 1 5 2 5 5 2 4 3 3 1 4 1 1 5 4 5 2 3 3 1 4 2 4 2 5 3 3 4 5 5 2 1 3 4 1 1 2 2 2 2 1 5 1 3 5 3 3 3 2 1 1 5 5 4 3 3 2 4 3 2 2 1 5 1 1 3 1 4 5 1 5 4 4 2 5 4 5 2 5 2 4 2 4 3 2 3 3 5 5 2 3 4 5 3 2 1 2 2 2 3 4 3 5 1 3 2 4 1 1 1 5 2 4 3 3 4 3 1 3 5 1 5 4 3 2 3 3 5 2 3 2 5 1 5 3 4 1 5 4 4 3 5 5 4 4 3 5 4 4 2 1 1 3 1 5 1 3 2 5 5 1 4 3 3 5 3 3 3 3 4 5 1 3 2 1 1 4 1 4 2 1 4 4 3 1 2 2 4 1 3 5 5 3 2 3 1 2 4 2 5 2 5 1 3 1 2 3 2 4 2 5 1 4 4 3 3 1 5 3 4 3 5 1 3 4 3 1 4 4 5 2 4 3 5 2 1 3 5 4 1 1 3 1 5 4 4 4 1 3 4 2 4 1 3 5 2 2 5 4 2 5 2 2 2 1 2 5 5 5 3 4 5 4 3 4 1 2 1 2 5 3 5 2 5 5 3 1 5 2 5 2 4 4 3 4 5 2 1 2 3 5 3 3 5 3 1 3 4 2 3 3 2 4 2 3 3 1 5 2 4 5 4 4 5 2 1 4 5 4 1 2 5 3 3 4 5 5 4 1 4 3 4 2 1 1 1 3 2 5 5 1 5 5 3 5 3 3 5 1 4 1 3 3 2 2 1 2 3 3 5 3 4 3 3 4 1 4 4 1 2 3 4 4 1 3 3 3 3 1 4 4 1 3 3 1 1 2 4 5 5 1 2 1 4 1 3 5 2 1 1 1 3 3 3 1 5 5 5 1 4 2 3 1 2 3 4 1 2 5 2 1 5 3 4 3 1 1 1 1 4 2 1 4 5 1 2 4 5 5 3 2 4 2 5 3 2 2 4 1 5 2 5 4 2 3 1 3 3 4 3 2 3 3 2 3 5 3 4 5 2 1 4 1 5 3 2 5 1 4 2 1 2 2 4 4 2 5 1 1 3 2 1 4 3 3 4 3 5 1 4 2 5 5 1 4 5 3 2 1 3 2 1 4 2 5 2 2 5 3 1 4 3 1 2 1 5 2 2 2 1 5 3 1 4 3 2 5 4 4 2 3 4 4 4 1 3 1 2 4 4 1 1 3 2 3 1 1 3 4 2 4 2 2 3 5 2 5 2 5 3 5 3 2 3 1 5 5 3 5 4 2 3 3 4 4 2 3 4 3 3 2 2 4 2 3 1 2 5 2 1 2 5 1 5 2 1 3 5 4 5 1 1 3 3 4 4 3 3 2 1 2 4 2 3 3 4 1 3 5 1 3 3 1 5 3 2 4 1 4 3 2 4 1 5 3 1 3 4 3 2 3 5 5 5 3 4 1 4 5 4 1 5 2 3 3 1 2 5 5 2 5 4 2 1 3 4 3 2 3 3 4 2 2 3 1 2 3 5 5 5 2 4 5 4 1 3 3 2 4 2 5 3 5 1 4 4 5 4 3 4 1 1 3 1 3 5 1 5 4 2 5 3 4 3 4 2 2 2 3 2 5 4 5 3 1 1 4 5 5 1 2 3 4 1 4 2 5 2 4 4 2 3 1 4 1 3 3 3 4 1 3 4 1 2 5 1 1 2 3 3 3 1 2 1 2 1 5 2 4 5 3 4 5 5 3 4 3 4 3 5 4 1 2 4 4 5 3 1 5 5 3 2 4 2 5 5 4 1 5 1 2 2 4 2 4 2 3 2 3 5 2 4 4 3 4 5 1 1 5 2 5 1 5 4 3 1 5 5 1 2 4 1 1 3 3 3 2 2 5 5 3 1 3 5 4 3 3 1 4 5 5 1 2 2 5 3 4 4 5 3 3 5 1 2 5 1 1 5 1 2 2 2 1 3 1 2 3 3 5 3 3 3 4 5 2 1 3 2 2 4 1 2 2 3 5 1 3 3 3 4 5 2 2 3 3 1 4 4 2 5 2 1 3 4 3 2 3 3 4 1 5 4 1 5 1 2 4 2 1 5 4 2 2 2 5 4 1 3 5 4 2 1 5 2 5 1 5 2 4 2 3 1 2 3 5 5 3 3 3 5 5 3 2 4 3 2 4 5 4 4 5 1 1 1 4 3 4 3 5 3 1 2 4 2 1 5 5 2 4 4 1 3 1 2 3 3 5 1 1 1 5 1 2 4 1 2 3 4 3 3 5 5 4 2 2 5 4 1 5 2 3 5 3 4 4 1 1 4 1 3 1 3 2 1 1 2 1 1 3 4 2 3 5 2 2 2 2 2 1 5 3 1 5 3 1 2 3 5 2 1 3 2 5 3 1 3 4 1 4 1 2 3 2 1 2 4 2 2 5 3 3 3 3 3 4 4 3 2 5 2 1 5 4 2 2 3 1 2 2 2 5 4 1 3 3 5 5 3 5 2 1 2 4 5 2 5 4 2 3 5 3 3 4 4 3 5 1 1 4 1 1 2 5 1 3 2 5 4 2 4 4 2 1 4 4 2 1 4 1 3 1 1 4 2 5 5 1 3 5 1 5 4 2 3 3 1 2 1 3 3 2 5 2 3 1 1 1 1 5 5 2 5 4 5 4 2 4 1 4 2 1 3 5 2 3 1 1 1 3 3 2 3 3 4 3 2 5 5 4 4 1 1 2 1 5 4 5 2 3 5 1 5 2 4 1 1 1 1 3 1 1 4 1 1 2 1 5 2 5 1 1 5 4 2 4 4 2 2 3 3 1 5 1 3 4 3 4 2 4 4 2 4 2 5 2 3 1 4 2 1 1 5 3 1 5 2 1 1 4 5 3 4 1 1 3 2 4 5 4 5 1 2 3 2 1 2 4 5 4 1 2 4 3 2 2 5 2 4 4 5 5 5 4 3 4 4 4 5 5 5 5 4 1 1 3 5 4 5 3 5 3 2 5 5 5 5 1 3 2 2 2 2 2 1 3 4 3 2 4 1 2 3 3 1 1 5 3 5 4 1 1 3 1 2 2 5 4 4 4 2 5 1 4 5 1 5 3 1 5 1 5 4 4 2 3 2 5 5 2 1 4 5 3 1 1 5 4 2 1 3 5 1 2 5 3 5 5 1 4 1 5 3 3 4 5 5 1 5 5 2 4 4 5 2 4 1 3 3 1 3 5 2 5 5 4 1 5 1 5 1 1 2 2 1 1 2 1 5 1 3 5 1 5 4 5 2 1 2 5 4 1 4 2 1 3 4 3 1 4 4 2 5 1 4 2 5 2 2 2 3 3 2 3 3 5 4 4 1 3 1 3 3 5 2 2 2 1 3 3 2 5 2 4 2 3 4 3 2 1 3 5 4 4 1 3 3 4 4 3 1 5 3 1 4 2 4 1 1 1 4 5 4 4 1 1 1 4 2 5 5 3 5 4 3 2 5 3 5 4 3 1 2 3 3 5 3 4 3 5 1 2 5 3 4 2 2 3 2 3 4 2 3 2 1 2 2 2 4 3 1 4 2 1 5 3 5 3 2 5 4 4 1 5 5 4 3 1 1 2 1 4 4 3 2 2 1 1 5 1 2 2 5 1 4 1 1 4 5 2 3 3 1 5 4 1 3 4 2 2 5 2 4 4 2 4 1 5 5 4 3 2 1 2 4 4 5 1 3 5 4 3 3 3 4 2 2 4 5 4 4 1 2 1 5 4 2 5 4 4 3 3 3 1 3 2 4 1 1 1 3 4 4 5 1 4 4 1 4 4 4 1 2 3 4 4 5 5 2 4 1 3 3 2 4 3 2 3 1 3 1 5 5 2 3 1 1 4 2 1 3 1 2 2 3 4 2 1 2 5 1 5 1 2 3 3 1 5 5 5 2 4 3 4 4 1 3 3 1 4 4 4 1 2 1 3 5 1 5 4 5 4 2 5 3 1 2 5 3 1 2 5 2 1 4 3 5 3 2 5 2 4 3 4 2 4 1 4 1 1 3 5 2 1 5 1 1 1 2 3 2 4 5 5 4 4 1 3 5 3 2 5 1 3 2 5 2 5 1 2 1 1 3 4 5 3 2 5 4 2 4 3 5 2 4 2 1 3 2 2 4 3 1 2 5 4 1 1 1 2 3 2 2 5 2 5 2 1 5 4 2 1 3 4 3 4 3 4 4 1 3 5 5 2 2 4 1 4 4 3 4 1 2 5 2 1 2 1 3 3 5 2 5 3 4 3 3 2 5 4 1 3 3 5 3 4 4 3 2 4 2 4 1 4 3 1 4 3 2 3 4 4 3 5 4 4 3 5 5 3 2 3 1 3 5 3 4 2 1 5 2 2 3 3 4 1 3 2 1 2 2 2 3 1 4 2 5 4 5 3 3 1 1 3 4 1 2 5 1 4 2 5 1 2 5 1 2 2 3 5 3 1 1 1 5 4 4 3 5 3 3 4 3 5 1 1 1 2 5 3 2 3 5 4 2 3 1 2 4 4 1 2 5 4 3 2 2 2 4 4 1 5 2 5 5 4 2 1 4 3 4 2 1 2 4 2 5 1 4 1 1 1 5 3 5 5 4 3 1 3 4 1 3 4 5 1 2 4 3 3 4 1 1 1 3 2 1 2 1 1 2 5 3 5 1 2 2 1 2 1 2 4 5 5 1 1 2 1 4 2 5 5 3 1 4 3 3 5 2 1 1 4 4 4 4 3 5 1 4 5 3 1 4 5 1 3 5 2 2 3 2 1 1 5 1 1 1 2 4 5 3 1 4 1 3 2 2 1 4 3 1 5 3 5 5 2 1 5 4 2 1 4 4 1 2 1 2 4 4 4 5 3 5 5 2 3 1 5 2 1 1 1 2 2 3 1 4 3 3 2 5 1 3 4 4 5 2 1 4 5 5 5 1 5 2 2 2 1 3 2 1 3 1 1 2 3 5 1 4 4 1 3 4 3 1 4 2 5 4 5 4 1 3 2 4 2 1 2 3 1 5 3 3 1 4 3 3 2 4 3 2 3 5 2 3 1 3 4 2 5 4 5 3 1 1 2 2 1 3 3 1 1 3 1 5 4 3 3 4 5 5 4 5 3 3 3 3 1 1 2 5 5 5 4 4 3 4 2 3 2 1 2 3 5 5 4 4 2 5 5 2 3 3 4 3 4 1 3 1 3 4 2 2 3 5 4 5 5 4 4 5 1 1 3 5 2 2 2 2 3 4 5 4 5 1 1 4 5 3 2 3 3 3 3 2 4 1 2 2 1 2 1 2 2 4 4 2 4 3 3 4 3 5 5 1 1 1 2 2 2 5 2 2 3 3 4 3 1 3 5 5 5 5 5 2 4 1 2 1 1 3 2 3 2 2 5 2 4 4 4 5 5 1 1 5 3 1 2 4 4 1 4 3 3 3 4 3 5 5 3 4 1 3 2 1 2 4 3 4 5 4 3 3 5 3 1 1 3 5 5 2 4 2 5 1 3 2 3 4 3 4 1 1 4 3 4 3 4 3 1 2 2 5 2 2 2 4 5 5 3 2 2 2 2 1 4 3 4 5 2 5 2 5 2 2 5 4 3 3 2 2 3 5 4 4 5 5 4 4 2 4 2 2 3 1 1 5 2 2 2 4 5 5 5 4 5 2 1 1 3 2 4 3 2 4 3 3 5 5 5 2 2 1 5 3 2 3 3 1 5 2 3 1 5 4 4 4 3 5 1 4 4 3 1 1 1 1 5 2 3 3 5 3 3 4 4 2 1 4 2 3 2 1 4 3 3 3 3 5 1 2 2 1 4 4 2 3 5 3 5 1 3 4 4 5 3 2 1 2 2 5 4 4 4 4 4 3 2 4 1 2 2 2 1 4 4 4 3 5 1 4 2 4 4 3 4 1 4 1 3 1 2 1 4 3 3 5 3 1 2 4 3 3 2 4 1 3 2 3 5 3 1 1 5 5 5 2 4 2 2 1 3 3 4 3 1 1 2 2 3 5 3 4 5 1 5 1 4 5 1 5 5 1 2 5 5 4 1 2 4 4 1 4 5 2 5 1 4 5 1 3 2 2 3 2 1 1 2 3 3 4 5 1 4 5 4 3 5 1 5 1 4 2 5 1 2 4 5 1 3 1 3 1 2 3 5 5 3 1 5 4 5 3 1 3 4 1 3 5 2 3 2 4 1 2 3 2 5 4 1 3 2 1 1 5 5 5 4 5 4 5 3 4 4 2 2 5 2 5 3 1 1 5 1 4 2 3 4 4 5 1 1 1 3 4 4 2 5 2 3 3 4 4 5 1 2 2 3 3 5 2 3 3 2 2 2 3 3 5 2 4 3 5 2 3 2 5 1 2 4 3 3 2 3 5 5 2 4 2 5 1 1 1 3 2 5 4 2 1 4 1 4 3 3 3 1 2 4 3 1 2 3 3 2 3 4 1 5 3 4 1 1 5 4 5 2 3 2 2 5 4 4 3 1 5 1 1 1 4 4 5 4 3 5 3 1 2 5 1 1 4 4 5 4 4 3 1 4 2 1 3 5 1 2 5 5 3 1 2 1 2 5 3 1 1 1 1 3 2 3 2 4 5 2 1 4 5 1 5 5 1 1 1 5 3 1 4 3 4 3 5 1 3 2 2 5 2 3 2 4 4 3 2 4 2 3 5 3 1 4 5 2 1 2 1 2 1 1 1 2 1 3 3 1 4 5 3 5 3 5 4 3 5 3 4 2 5 2 5 2 2 5 2 1 3 4 2 3 1 1 1 5 2 3 1 3 3 5 4 5 5 3 3 2 4 4 2 2 1 5 2 5 5 5 4 4 4 5 5 3 1 1 5 3 2 2 4 3 4 3 2 5 5 5 4 5 2 2 1 3 1 2 1 5 5 5 2 5 3 1 4 5 3 3 1 5 2 3 5 5 5 5 4 2 4 4 4 4 5 2 3 1 1 3 2 1 4 1 5 5 4 1 2 3 2 3 3 1 5 3 3 1 1 4 1 2 4 2 3 5 5 2 5 4 3 2 3 3 3 3 5 1 4 4 2 1 4 2 5 1 1 3 5 5 5 5 3 3 3 2 1 3 3 3 4 1 4 1 1 3 1 3 3 3 3 3 5 2 4 3 2 1 4 2 3 1 4 2 3 3 1 1 4 2 2 1 4 5 4 3 2 1 4 4 1 2 5 1 2 3 2 2 1 3 4 4 4 4 1 4 3 1 2 4 1 5 4 2 4 5 2 4 4 4 3 4 4 5 4 5 3 4 4 2 2 2 2 3 5 2 4 2 5 3 5 5 5 3 1 5 1 4 4 3 5 1 2 3 2 3 3 4 4 5 5 3 3 5 1 1 4 2 5 4 3 5 3 4 4 5 5 1 5 5 5 4 3 4 1 1 2 5 2 2 5 5 2 1 5 5 2 3 3 4 3 4 3 1 5 3 2 3 4 3 4 3 3 3 3 2 1 4 1 4 4 5 2 1 4 2 2 5 1 1 1 3 3 2 2 2 3 5 3 5 5 1 2 4 2 2 1 2 4 1 3 5 2 5 2 4 2 5 5 1 2 3 2 5 4 4 1 5 2 1 1 2 3 1 1 2 1 5 5 3 3 2 1 1 2 5 1 1 2 5 3 4 4 5 4 2 3 1 5 1 3 4 5 5 3 3 3 5 4 3 3 5 1 4 4 4 2 3 2 2 1 3 1 5 1 2 5 4 2 1 2 2 4 1 2 3 5 5 1 5 1 2 1 3 3 5 3 3 5 1 2 4 5 4 5 4 4 1 5 5 3 1 1 2 4 3 2 2 3 4 5 5 5 3 3 4 2 3 3 2 4 3 5 1 2 1 2 4 5 2 2 4 1 5 1 4 5 3 5 1 3 3 3 2 1 4 2 2 5 4 1 2 5 2 4 4 1 1 1 4 2 1 1 1 2 3 5 3 5 2 3 3 3 2 2 1 1 1 3 4 2 2 3 5 5 3 4 4 4 5 1 5 2 3 1 3 1 5 3 3 5 1 1 2 5 3 5 3 1 1 2 4 4 4 1 5 5 5 4 4 5 4 2 5 4 5 3 2 4 2 2 3 3 3 1 3 5 3 2 4 1 5 4 3 3 4 5 4 1 5 3 3 4 1 4 2 5 5 1 1 5 1 1 5 3 4 3 5 5 2 1 2 5 3 5 2 4 2 5 5 1 3 5 5 5 4 5 3 5 2 5 3 2 4 4 3 4 4 5 3 1 2 4 4 3 3 5 3 4 4 2 4 3 2 3 4 2 5 4 2 2 2 2 2 2 3 4 1 1 4 1 3 3 1 2 3 5 3 2 2 5 2 5 1 4 3 5 3 5 4 2 5 3 3 3 3 2 4 3 1 4 3 5 2 2 2 4 2 4 4 5 2 4 3 5 1 2 3 2 4 1 3 5 4 4 4 4 1 5 5 1 4 3 1 3 4 5 1 3 2 4 4 2 2 4 1 2 2 2 4 3 3 3 1 1 4 1 4 1 5 4 1 1 3 1 2 1 5 3 3 1 2 4 2 1 5 3 3 4 2 2 2 5 1 2 4 2 2 3 5 4 5 4 1 4 2 5 4 5 5 3 1 4 2 4 2 4 1 3 4 3 3 5 3 2 3 5 3 2 1 3 5 1 3 3 3 3 5 3 3 1 3 1 2 5 5 4 2 3 5 4 3 4 4 5 5 4 2 2 4 2 1 1 3 4 2 5 4 3 1 4 2 4 5 5 5 3 5 1 4 2 5 2 1 3 2 5 5 5 4 3 4 4 2 4 3 4 5 2 3 3 4 2 3 3 5 2 5 3 1 1 3 1 2 3 2 1 1 4 4 2 3 4 5 5 4 5 1 1 2 3 1 4 5 1 1 2 1 5 4 3 1 4 1 2 3 5 3 2 2 4 2 2 5 4 4 4 5 5 3 4 4 5 2 3 3 1 1 1 4 2 4 2 4 3 3 1 5 4 5 2 2 5 4 4 1 5 3 1 2 5 4 2 1 5 2 5 5 4 5 5 5 4 3 1 1 4 5 3 2 1 2 2 1 4 2 1 5 5 5 2 3 2 1 1 4 3 5 3 3 2 5 4 3 4 1 2 2 2 4 4 5 2 5 4 3 4 4 2 2 4 3 5 5 2 5 1 1 1 5 5 1 3 4 2 5 3 5 2 3 2 3 2 3 3 4 2 1 5 5 1 4 2 1 3 5 5 4 4 3 2 5 3 5 4 1 3 5 3 4 3 2 1 1 4 3 4 5 2 4 4 4 5 1 4 4 5 1 2 2 3 2 4 3 3 1 1 3 3 5 4 1 5 1 4 5 3 2 5 5 5 1 5 3 4 4 1 2 3 1 3 4 1 3 1 1 2 4 4 4 4 5 3 3 5 1 3 4 5 4 2 4 2 3 5 4 4 2 1 3 1 1 2 5 3 2 2 3 1 1 5 1 3 4 5 2 3 5 3 3 3 5 2 4 3 5 3 4 3 3 5 2 5 1 4 1 1 5 1 5 3 5 5 5 2 5 1 5 5 3 4 2 4 2 2 4 2 2 2 5 2 3 3 5 1 4 3 3 3 3 4 4 4 5 4 1 3 5 5 5 4 1 2 5 1 2 2 1 4 1 5 2 2 1 1 1 3 2 3 1 1 2 4 3 3 1 2 3 4 4 4 3 1 4 2 2 1 3 1 5 5 5 1 2 2 2 4 2 5 4 2 4 1 4 5 1 4 4 4 1 1 2 1 3 1 5 2 1 1 5 2 1 2 4 2 1 5 5 2 4 3 5 4 5 4 2 1 2 1 1 5 2 5 5 3 2 3 1 5 5 1 5 2 2 3 5 5 1 3 4 1 2 5 4 5 4 2 2 4 4 2 2 1 5 4 4 4 4 3 3 1 3 3 3 2 1 3 4 5 1 5 5 1 1 4 2 5 3 5 3 1 2 5 4 3 1 5 4 5 2 3 3 1 1 3 4 2 5 2 1 3 2 3 5 3 2 3 2 4 5 2 1 5 2 2 5 4 4 2 4 1 3 4 5 1 1 1 5 2 4 2 2 5 5 3 2 3 5 5 4 3 5 4 5 2 5 3 4 4 3 5 2 1 4 2 3 1 3 4 2 5 5 2 4 4 5 5 5 5 1 5 5 1 3 3 2 1 5 1 2 1 3 3 2 2 1 3 4 2 3 4 5 5 4 4 3 5 1 3 3 4 5 3 3 2 5 4 1 5 1 4 3 5 3 1 2 5 1 3 4 5 3 5 1 4 1 2 2 5 1 2 1 1 2 5 3 3 1 1 2 1 4 5 2 5 3 3 4 3 2 1 3 3 3 3 5 3 4 1 4 5 2 5 4 1 4 2 1 5 4 2 5 3 5 5 1 2 3 3 3 4 1 5 4 4 3 3 3 5 3 2 2 2 1 2 1 2 2 3 3 4 2 4 5 4 4 1 5 5 4 1 4 1 3 5 5 5 2 2 4 3 4 2 4 2 5 5 5 2 3 3 4 4 5 1 3 2 4 1 4 4 5 3 5 4 3 5 5 3 2 4 4 2 4 5 1 2 3 5 3 2 1 5 3 3 4 5 3 3 5 1 1 1 4 4 4 2 4 5 2 4 2 2 4 3 1 2 1 3 5 4 5 3 4 3 4 1 3 1 2 1 4 5 1 3 3 4 1 3 3 5 3 4 2 2 1 1 4 1 2 1 4 3 4 2 2 3 2 5 3 5 4 3 1 3 3 4 1 2 1 2 4 2 1 2 4 5 3 4 2 1 5 3 4 4 2 1 4 5 2 3 4 5 5 5 4 4 4 2 3 4 1 2 3 1 1 3 2 5 4 5 5 1 1 3 3 4 3 3 4 2 5 5 5 2 3 4 4 4 1 4 1 3 4 5 4 1 4 5 2 4 5 3 4 5 5 5 2 2 3 2 2 4 1 1 2 2 3 4 5 2 3 5 3 4 4 5 4 5 1 3 1 3 3 2 1 4 5 1 3 4 2 3 2 5 2 2 3 5 5 5 5 2 5 4 4 5 2 1 2 5 1 5 5 3 5 1 3 4 5 5 1 5 3 2 4 1 5 5 1 2 3 2 1 1 3 2 4 3 2 5 2 2 3 4 5 3 2 1 5 3 5 2 5 5 2 5 3 1 3 4 4 5 2 1 3 2 4 3 1 1 3 1 3 4 1 3 5 3 4 3 3 1 1 4 5 1 4 1 4 5 3 3 1 4 4 5 5 1 4 2 5 5 2 5 3 5 5 4 5 1 3 5 5 5 5 2 3 3 1 3 2 4 2 1 5 5 2 1 4 3 2 5 3 5 3 1 2 5 2 2 4 3 3 3 2 4 2 3 3 5 4 3 2 3 3 2 1 2 4 1 2 2 1 2 1 4 1 5 4 3 5 1 4 4 5 2 5 3 4 4 2 5 4 5 3 3 3 4 3 1 5 5 5 1 4 3 1 2 1 1 3 3 5 4 2 4 2 2 2 2 3 4 3 3 5 3 1 4 5 1 5 5 3 5 1 4 2 2 2 1 4 5 2 3 3 2 2 1 2 1 5 1 2 1 3 5 3 4 4 5 2 4 4 5 5 5 5 4 3 1 3 5 4 5 1 3 4 5 5 5 2 1 3 5 3 2 4 4 5 3 2 3 3 1 4 1 2 5 5 1 5 5 1 5 1 1 1 5 3 2 5 2 3 5 5 2 2 1 1 5 3 3 5 4 5 4 4 5 3 1 3 1 5 3 1 5 2 5 4 5 5 4 5 4 1 4 2 1 3 4 3 1 1 4 3 4 1 1 2 5 5 3 5 3 3 5 4 5 2 1 4 1 1 1 4 4 3 3 1 4 1 1 3 2 5 1 3 1 1 1 3 4 5 5 2 3 3 2 3 4 2 2 4 4 1 5 2 3 5 1 5 2 5 2 5 2 5 4 4 1 3 2 2 1 4 1 1 3 3 4 2 1 5 5 3 2 4 3 2 4 2 1 3 5 3 3 1 5 3 5 5 1 1 5 4 4 1 4 2 4 5 2 2 2 3 5 2 3 2 1 3 5 2 1 1 3 4 2 3 5 3 3 4 2 3 1 1 1 2 2 2 5 5 2 2 4 4 5 3 5 4 3 5 5 3 5 4 1 3 3 1 5 2 3 5 2 5 4 1 3 1 4 4 4 4 3 4 5 5 5 4 1 2 5 4 1 2 3 4 5 1 5 5 4 2 3 5 3 1 4 3 3 5 4 3 1 4 4 2 1 2 4 2 4 3 4 3 3 3 5 5 4 2 1 4 4 5 2 1 5 5 2 3 2 2 4 3 2 5 1 4 3 1 3 5 2 5 4 3 5 4 3 4 4 1 2 3 5 1 5 5 3 3 2 3 2 3 4 2 3 5 1 4 1 2 2 2 1 5 3 3 3 2 1 4 2 2 1 5 3 4 1 2 1 5 1 1 3 4 5 3 1 5 4 1 1 1 3 5 2 4 5 3 2 3 3 5 4 2 2 5 1 4 4 4 2 1 3 3 3 3 1 1 3 3 5 3 2 5 1 2 1 5 4 2 3 3 3 1 1 4 1 3 1 5 3 2 3 1 2 4 5 1 4 2 2 1 5 4 3 1 1 5 5 2 5 3 1 1 5 2 1 5 4 3 3 4 2 2 5 5 3 1 3 1 1 2 3 5 2 5 5 4 3 4 5 1 5 1 1 5 5 5 2 5 1 5 5 5 5 1 5 4 3 5 3 5 4 3 2 3 3 3 5 2 4 4 4 5 3 5 1 2 2 1 2 2 2 5 4 3 5 2 5 5 2 1 3 1 2 3 2 1 1 2 1 1 3 5 5 4 4 3 1 5 5 1 3 3 2 2 3 2 5 4 5 4 5 4 2 5 5 1 4 5 5 3 1 1 2 1 2 3 1 3 1 1 4 4 1 2 5 2 4 3 1 5 3 3 5 4 1 4 4 5 5 2 3 2 3 1 2 1 2 3 3 5 5 3 3 3 4 2 2 5 4 4 2 2 4 4 1 3 4 2 1 4 2 4 3 2 1 1 2 3 5 3 3 4 5 2 1 1 2 1 1 4 2 1 2 4 4 2 2 1 4 2 5 1 1 1 4 3 4 5 4 4 1 2 4 3 4 2 1 4 2 5 4 5 1 3 4 3 5 1 3 5 3 1 4 3 1 5 3 4 2 2 4 1 2 4 5 5 1 1 1 1 5 1 5 4 4 5 5 5 1 2 3 2 2 1 3 2 5 3 3 1 2 2 2 5 2 1 3 4 1 4 2 4 1 5 1 3 2 4 2 1 4 4 4 1 3 4 3 1 1 3 2 2 2 2 2 3 1 4 5 5 5 2 2 1 1 2 2 1 4 3 4 4 2 2 1 5 2 2 3 1 5 5 5 5 3 2 4 4 1 4 4 5 3 4 4 4 5 4 3 5 5 1 3 4 3 2 4 3 5 2 1 5 4 2 4 1 2 5 5 1 2 4 5 2 2 1 4 1 4 2 2 2 1 3 4 2 4 2 2 3 1 2 5 4 5 3 3 2 1 5 2 5 3 1 5 3 1 5 2 4 1 3 3 5 3 2 5 2 1 3 1 2 5 5 1 2 3 2 3 1 2 3 1 2 2 4 2 2 5 4 3 5 1 5 3 5 5 4 3 5 1 1 1 4 3 3 4 1 4 2 3 3 1 3 1 4 3 2 3 2 3 2 1 1 5 4 2 5 3 2 5 1 2 5 4 2 2 1 1 5 3 3 5 3 1 3 4 5 4 2 4 5 5 5 5 4 2 5 3 5 4 5 4 4 2 4 2 4 5 1 5 1 3 2 1 5 3 3 4 4 5 5 3 1 5 1 4 1 1 4 3 3 5 4 2 1 1 1 4 3 1 1 3 1 1 1 2 5 4 2 5 1 1 5 5 5 2 1 1 5 4 2 3 4 1 5 4 4 1 3 3 1 4 5 3 5 1 2 4 3 3 5 5 2 4 2 1 3 2 3 3 3 1 4 1 3 5 5 2 5 4 1 2 4 1 5 1 2 5 2 5 1 4 1 2 4 1 2 3 1 3 4 3 5 1 4 4 2 4 5 3 1 2 2 5 4 4 5 5 5 3 4 5 2 1 5 1 3 2 4 2 4 3 5 5 4 5 2 2 3 1 2 5 3 2 2 1 1 1 5 5 3 4 2 5 1 5 1 1 4 4 2 2 2 1 2 2 4 5 4 1 5 5 4 1 1 3 4 5 5 4 3 2 4 5 4 5 3 2 5 4 3 5 1 4 5 2 4 2 4 2 2 1 1 4 1 2 1 2 5 3 5 4 2 1 2 2 2 2 4 3 4 5 1 3 1 3 5 3 3 2 2 4 3 5 4 3 2 1 1 5 4 1 1 4 2 2 4 5 3 1 2 2 4 1 5 5 3 3 4 3 5 3 2 5 3 3 1 1 1 2 3 3 2 3 1 5 3 2 1 4 5 3 4 2 4 5 1 3 5 3 5 2 1 2 1 3 5 2 1 5 1 5 4 3 1 2 5 2 4 1 4 3 5 2 2 1 3 3 5 3 5 1 4 5 1 2 5 2 4 5 1 2 4 1 5 1 5 4 2 5 1 1 3 2 1 5 4 4 1 1 3 1 3 4 1 5 3 5 5 4 4 3 5 3 4 2 4 3 2 5 3 4 4 3 2 2 1 5 2 3 4 5 4 4 5 1 5 5 1 5 1 2 3 3 3 3 3 1 4 3 5 4 1 4 1 3 4 1 3 3 4 3 3 5 2 3 4 4 2 3 1 2 5 4 4 2 2 4 4 1 3 2 1 2 4 4 2 3 2 1 1 3 2 2 1 3 4 4 4 3 3 4 2 1 4 4 2 1 1 2 4 3 4 3 2 3 1 2 5 4 5 3 3 3 1 1 1 1 5 2 5 3 5 4 4 5 3 4 5 5 4 3 4 2 3 2 2 3 2 3 4 3 1 5 5 3 3 4 1 1 1 4 1 3 4 3 4 2 2 2 3 2 2 2 1 3 4 1 1 4 5 4 5 1 1 1 1 3 3 5 5 3 5 4 5 1 1 1 5 3 2 3 4 5 4 5 3 5 2 1 1 3 3 4 2 2 3 2 4 1 4 1 3 5 2 4 4 3 4 1 2 1 4 5 1 5 4 4 3 2 4 4 5 4 5 4 2 1 1 1 4 1 1 4 2 5 3 4 4 4 1 2 3 1 1 3 4 5 1 2 1 5 4 1 2 3 5 5 5 4 2 1 5 2 3 3 5 5 2 3 5 5 2 5 3 4 2 1 2 5 5 5 2 2 5 1 5 2 2 5 4 2 3 1 1 5 3 2 3 4 2 1 2 4 1 1 2 3 1 1 5 1 2 5 2 2 1 4 5 5 1 1 4 2 4 1 4 3 1 3 3 1 4 2 4 1 4 1 4 5 3 1 3 5 1 4 5 2 2 3 3 1 5 5 3 3 1 1 3 3 3 2 3 5 1 3 4 2 4 1 3 2 1 2 1 5 1 1 4 2 3 4 4 4 4 3 3 5 5 3 2 4 2 2 1 3 4 5 3 2 3 1 1 3 5 1 4 4 5 2 1 3 1 4 3 5 1 1 2 1 2 2 4 3 2 4 4 4 5 4 5 5 1 4 4 1 4 5 4 5 2 5 5 1 1 5 2 3 2 4 3 4 3 4 4 3 1 2 1 4 1 1 1 5 3 3 1 1 4 1 2 2 5 1 5 3 2 5 3 3 3 5 1 5 1 3 1 3 1 1 4 1 4 2 5 1 2 2 5 3 2 3 5 4 3 2 4 5 3 2 4 3 5 3 2 4 5 1 3 3 5 4 1 1 4 4 1 5 4 4 3 3 5 4 2 2 4 1 5 3 4 2 4 3 1 5 3 4 4 2 4 3 3 2 2 2 2 2 3 2 5 2 3 4 1 4 1 2 2 3 3 4 1 2 1 2 2 1 2 4 3 5 5 3 4 5 3 3 2 3 1 4 2 1 2 2 2 5 2 1 3 5 4 2 1 3 3 4 2 2 2 2 5 3 5 4 2 1 4 1 5 4 5 1 5 4 3 5 3 5 1 2 1 5 1 1 2 5 1 3 2 3 3 4 1 5 3 1 1 2 1 4 1 1 1 4 4 4 4 3 5 5 2 5 1 4 4 5 4 3 3 2 3 4 4 1 2 1 4 1 3 4 2 4 1 5 3 4 5 5 2 1 5 1 4 4 4 5 2 4 2 4 5 1 4 1 4 4 5 3 3 5 2 5 3 2 5 2 3 3 1 2 5 1 1 2 5 4 4 5 1 5 4 5 3 5 1 4 3 5 1 3 4 2 5 2 1 2 1 3 2 5 1 4 5 4 5 5 2 5 2 1 1 2 3 4 5 3 3 5 1 2 5 5 5 3 4 3 2 4 4 1 1 1 1 2 2 3 2 3 2 1 5 1 2 5 2 2 1 2 4 4 1 1 3 4 2 2 3 4 2 2 5 5 1 2 1 2 5 3 4 2 1 3 1 1 5 2 1 2 3 4 2 4 4 3 4 2 3 1 1 1 2 5 1 3 4 3 5 2 5 5 5 4 4 4 2 5 5 4 1 5 5 4 4 2 4 1 2 3 4 1 3 3 1 5 2 4 2 3 3 5 3 4 1 5 4 1 4 2 4 1 3 1 4 4 2 3 5 5 2 3 4 2 3 4 3 5 5 2 5 5 5 3 4 5 2 5 1 5 5 3 3 1 1 5 4 2 3 5 4 2 1 3 4 2 4 2 5 5 3 5 5 1 5 4 3 5 4 3 1 2 4 4 5 5 5 3 2 5 1 2 1 2 2 2 5 1 4 3 4 3 4 5 4 1 2 2 5 5 1 2 5 4 3 1 4 5 2 3 3 1 2 5 3 1 2 5 4 2 4 1 1 5 3 2 1 5 1 1 5 2 2 2 1 5 1 2 2 5 5 5 5 1 4 1 2 1 5 5 2 4 5 4 4 2 4 5 2 3 1 5 1 2 2 1 1 1 4 2 3 1 2 3 3 4 5 3 3 1 4 5 3 2 4 4 5 2 4 5 3 5 1 2 1 3 4 1 4 1 1 5 2 1 2 3 3 4 2 3 1 2 3 4 2 5 4 4 3 3 4 2 2 1 1 2 5 3 2 5 1 1 5 4 5 2 5 3 1 1 4 4 3 3 4 3 1 5 4 4 1 1 1 3 1 5 1 4 4 4 3 1 3 2 4 3 4 2 1 3 4 3 1 4 4 4 3 5 5 4 1 1 2 3 4 1 3 2 5 2 4 1 3 2 1 1 5 3 5 1 2 5 4 3 3 3 5 5 4 3 4 4 3 2 1 1 3 3 3 3 1 3 4 2 1 5 2 4 4 2 4 3 3 4 5 3 2 4 4 5 4 3 5 3 4 4 2 5 5 1 3 1 5 4 2 1 5 2 4 1 3 2 2 1 2 3 4 2 4 1 4 3 2 1 2 2 5 3 3 4 5 3 2 4 1 3 2 2 3 2 4 2 4 2 4 5 1 1 1 5 3 4 3 5 3 1 5 5 2 2 1 5 4 3 5 1 4 2 2 5 3 5 1 1 4 2 3 1 1 5 1 3 4 2 5 3 4 2 4 2 4 5 2 3 1 1 1 5 2 1 1 1 4 4 2 1 3 1 4 5 3 2 4 1 3 5 5 1 5 2 5 2 3 4 4 3 4 1 4 2 4 4 2 1 1 4 3 3 2 4 4 3 4 1 3 2 5 3 3 4 3 4 5 5 4 4 1 4 1 3 1 5 1 3 3 1 3 2 4 1 5 5 4 2 2 5 4 2 4 4 2 1 2 2 3 5 1 1 4 1 5 3 5 2 3 4 1 1 1 1 1 4 4 5 3 3 4 5 5 5 4 4 5 1 4 2 1 1 5 4 2 4 4 3 5 5 4 4 3 1 3 4 3 2 2 5 5 1 5 2 5 3 2 3 5 3 3 4 4 5 3 4 5 1 1 2 2 4 5 1 4 2 3 2 1 3 4 5 5 4 5 4 2 2 1 3 1 3 2 2 5 4 3 1 5 4 3 4 1 1 5 5 4 5 3 2 4 4 1 1 4 1 4 3 1 1 4 3 2 1 5 4 1 2 2 3 1 4 3 4 2 4 2 2 1 2 4 3 1 3 4 1 2 3 1 5 1 1 5 1 3 1 1 5 2 1 3 4 4 3 1 3 1 4 5 2 4 5 4 2 4 2 4 5 3 2 4 3 3 3 3 2 3 3 4 4 3 1 2 5 5 3 1 5 2 2 1 3 3 4 1 5 2 3 2 5 5 4 4 4 5 3 4 5 2 1 3 1 4 3 3 3 4 3 4 1 2 1 1 2 2 3 4 1 3 2 5 3 4 5 3 5 3 2 1 5 1 3 5 4 3 4 3 1 1 3 2 2 3 4 2 1 5 1 4 3 5 4 2 2 3 3 4 2 3 1 5 3 2 3 4 2 4 4 3 3 4 3 2 2 4 5 3 4 1 2 1 5 5 4 5 1 3 3 3 4 4 3 3 3 4 5 3 5 5 4 1 3 4 1 5 2 1 3 4 3 5 1 4 3 3 4 1 3 2 4 5 4 1 2 3 2 4 2 2 4 5 4 3 3 3 1 2 4 4 1 2 2 1 2 1 4 4 3 3 4 1 4 2 2 5 5 4 3 4 1 5 2 3 2 2 3 3 2 4 4 3 1 4 5 1 4 3 3 5 2 4 3 1 3 3 4 4 2 5 3 2 2 1 3 2 5 1 3 4 5 5 1 1 5 3 2 1 5 5 1 5 4 5 5 2 2 5 1 1 3 2 5 2 2 3 4 3 3 3 4 2 5 4 2 1 3 3 5 1 5 5 5 4 2 4 1 4 4 3 3 3 1 3 3 3 5 5 2 2 5 4 3 5 1 3 1 4 1 4 1 2 2 2 5 3 4 4 2 5 1 2 5 3 4 2 3 3 4 2 5 5 5 3 2 2 1 4 3 5 4 1 2 4 5 3 4 5 3 1 1 3 3 4 2 2 1 4 4 3 4 5 4 1 4 2 3 4 3 3 5 1 3 3 3 5 2 5 4 5 2 5 1 5 1 2 5 2 1 4 2 5 4 2 2 4 5 1 5 5 4 5 3 3 4 4 4 4 1 5 3 2 4 4 1 2 2 2 4 5 2 2 2 3 1 5 4 2 3 1 1 3 1 2 3 1 4 2 4 5 3 2 2 2 5 1 1 3 1 4 4 3 2 2 5 2 5 4 2 3 5 2 5 1 4 3 4 2 3 3 3 5 2 4 5 2 3 1 2 3 2 1 5 4 2 5 5 2 3 4 1 2 1 3 5 3 3 1 4 3 2 2 5 4 1 2 5 4 1 1 2 5 2 1 2 2 4 1 3 3 3 3 1 1 2 1 2 5 3 2 2 1 2 2 2 2 4 1 1 1 5 2 1 1 1 5 2 5 1 2 5 3 4 1 3 1 5 5 1 2 2 1 4 5 4 4 4 1 5 3 5 3 4 1 3 3 2 3 1 2 5 2 1 5 5 1 3 1 3 4 5 1 3 3 3 1 3 5 3 3 5 4 1 1 1 4 2 3 5 1 5 1 4 2 2 1 2 5 3 1 4 5 3 1 5 1 5 4 1 4 1 1 5 3 2 3 3 5 5 4 1 4 1 4 5 4 2 3 4 3 4 1 2 5 4 3 5 1 5 2 3 5 4 2 4 4 3 1 1 2 2 3 3 5 4 4 4 5 2 5 3 3 3 4 3 5 3 4 4 3 3 4 1 5 5 1 2 4 4 3 3 1 1 2 4 2 5 1 2 4 3 3 1 4 3 4 2 4 4 4 1 5 1 4 2 4 5 2 2 4 5 1 5 1 3 1 4 5 5 1 2 2 1 2 2 5 5 3 4 4 2 2 2 1 2 2 3 3 1 4 4 3 4 4 2 1 1 3 5 5 5 4 4 2 1 1 1 5 5 5 2 1 4 3 5 2 5 5 1 4 3 4 1 4 5 3 4 1 1 2 4 5 1 2 5 4 1 5 2 1 2 2 1 3 5 2 3 1 5 5 5 4 4 3 1 4 1 1 1 5 5 3 4 2 3 5 5 3 3 5 2 5 4 4 3 5 4 4 1 2 1 1 1 3 3 1 5 4 4 5 1 1 3 5 1 5 2 5 5 4 3 4 3 4 2 5 3 1 3 5 3 4 1 1 1 2 4 3 5 1 4 3 1 4 1 3 5 3 4 3 2 4 5 3 5 1 5 1 2 4 4 3 2 1 2 2 3 1 1 5 4 3 3 2 4 3 5 4 5 1 5 2 2 5 5 4 4 4 1 3 1 1 1 1 1 2 3 1 3 4 1 1 3 1 4 2 1 3 1 1 3 4 4 1 4 5 2 2 2 2 4 1 4 2 5 3 1 5 3 4 5 3 4 3 1 3 4 5 5 1 3 3 2 1 5 2 2 4 4 1 3 1 5 3 5 2 4 3 1 3 5 2 4 3 2 4 5 2 5 3 3 2 1 2 5 4 2 1 3 4 1 4 2 2 3 2 5 2 3 2 2 3 2 1 3 4 4 3 2 3 4 4 5 2 1 3 1 5 2 3 4 1 1 5 3 3 3 3 2 3 3 5 4 5 1 3 1 2 2 2 5 1 5 5 2 2 2 4 4 4 3 5 5 1 4 1 3 4 1 1 4 1 4 4 1 4 1 3 5 3 3 2 4 3 1 4 4 3 4 3 5 4 4 3 3 4 1 1 4 5 1 2 2 4 2 4 1 2 2 4 2 5 5 4 2 2 3 3 4 2 5 4 2 5 2 4 2 3 4 2 4 3 3 3 1 5 4 2 4 5 5 3 3 4 1 4 5 2 4 5 4 4 5 5 4 2 4 4 5 5 3 3 2 2 5 4 3 4 1 2 4 4 1 3 5 1 1 2 4 3 1 1 2 5 4 3 2 1 1 3 5 5 2 1 5 4 2 5 4 3 4 3 3 5 1 3 3 5 2 4 3 1 2 2 4 2 5 5 1 2 3 2 5 5 5 3 3 4 4 1 4 5 4 1 5 3 2 5 5 5 2 2 3 2 2 5 3 5 2 3 2 2 2 1 3 3 3 1 4 2 2 3 5 3 3 4 5 1 1 2 3 3 5 5 5 3 1 4 3 5 2 4 5 2 3 3 3 5 3 4 5 3 1 5 2 1 1 5 5 4 1 3 4 5 2 4 5 5 4 5 5 2 4 5 5 2 1 4 5 5 2 3 5 1 2 5 4 3 2 2 2 5 2 3 4 2 5 1 1 5 4 2 3 1 2 4 1 5 5 5 4 4 1 5 4 3 5 1 3 5 4 4 2 5 4 3 3 5 3 3 4 1 3 5 2 3 5 4 4 3 1 3 3 3 2 3 2 5 3 3 1 2 3 1 1 4 4 1 3 3 1 2 3 1 1 5 1 1 3 4 4 2 5 1 1 2 2 5 2 4 1 2 5 1 4 4 3 4 1 4 3 3 5 4 4 2 3 3 5 5 4 4 3 5 4 3 1 2 5 1 3 4 5 5 3 1 3 5 5 1 5 2 4 2 4 1 2 3 1 1 3 1 3 4 2 2 3 2 4 4 5 4 3 4 3 2 1 2 5 1 5 5 3 2 2 1 4 1 3 1 3 3 3 3 4 4 3 1 3 3 2 4 5 1 3 5 3 2 5 5 1 4 3 4 3 4 3 2 3 2 3 2 3 1 1 1 4 4 2 4 3 4 5 4 1 2 3 3 4 3 3 1 4 5 4 2 3 3 2 2 3 4 5 2 1 3 3 1 3 3 2 4 4 2 3 2 3 4 1 2 5 1 4 1 1 2 5 5 5 4 5 3 4 5 2 3 4 2 1 1 5 1 5 4 5 1 3 1 1 3 1 4 2 4 3 1 4 3 1 4 4 3 5 5 3 3 3 5 5 4 1 1 3 2 3 1 5 4 2 1 2 2 5 4 2 5 3 5 4 5 2 1 3 1 5 4 5 2 3 2 1 1 4 1 3 2 1 2 2 2 5 3 4 2 4 2 3 1 2 3 2 2 3 5 1 3 4 3 3 2 1 3 5 2 1 4 2 1 5 2 3 1 5 4 4 3 1 4 4 3 5 4 1 4 4 5 4 4 1 4 1 2 3 5 5 5 2 4 2 4 5 5 5 4 4 5 4 2 5 1 5 2 1 3 1 1 3 1 3 1 3 3 1 3 4 4 3 4 4 4 4 5 1 2 3 5 2 2 2 3 1 4 2 3 1 3 5 5 1 5 3 3 3 2 4 5 3 1 1 3 5 2 4 1 5 5 4 5 4 5 3 3 1 4 5 1 2 5 3 5 5 4 2 1 1 3 4 4 1 2 4 5 4 3 1 2 5 5 3 1 2 2 2 2 5 5 3 2 4 4 2 3 3 2 2 5 4 5 1 3 3 2 1 2 4 3 4 1 3 5 3 5 1 2 5 4 2 1 1 4 2 2 4 1 3 4 5 3 4 2 4 1 3 3 2 1 5 2 2 2 2 1 1 1 1 2 2 1 2 3 5 1 3 5 2 4 4 2 2 5 3 2 4 2 4 3 2 1 5 1 2 3 4 4 3 5 4 4 2 3 2 5 5 3 1 5 3 1 3 3 2 4 3 5 5 4 2 3 1 4 3 5 5 3 1 2 2 2 3 1 1 3 3 2 3 3 1 2 3 1 2 1 4 4 1 4 2 2 3 5 5 5 2 2 1 2 3 2 5 2 2 2 5 1 4 5 3 1 1 1 5 5 2 5 4 2 2 2 4 3 4 1 1 2 2 5 3 3 1 4 1 4 2 1 2 5 1 1 2 1 3 1 3 3 1 5 3 2 2 5 5 3 5 3 1 3 1 2 2 5 4 4 5 2 4 5 5 4 4 2 4 5 1 5 1 4 2 2 1 3 3 2 2 4 3 3 1 4 4 1 2 2 1 1 4 1 1 1 1 3 3 5 1 3 2 3 3 2 1 4 1 3 4 1 4 1 2 2 4 5 1 2 2 3 4 3 4 2 3 1 2 3 1 2 4 2 2 3 3 3 4 4 5 5 2 1 3 3 3 3 1 2 1 5 1 4 3 4 1 3 4 4 1 3 2 4 4 2 5 4 1 4 4 2 5 2 4 3 1 4 4 2 5 4 2 5 1 3 1 5 1 4 4 4 3 1 5 5 5 1 3 5 1 4 5 5 1 3 3 3 1 5 2 2 2 4 5 3 1 3 2 2 5 2 3 3 3 4 5 1 3 2 2 1 2 4 3 5 2 4 5 4 5 4 5 4 1 2 4 5 4 2 2 1 2 2 2 5 4 5 5 5 2 2 2 1 3 2 4 5 4 5 5 2 4 5 3 2 1 4 3 2 2 4 4 3 1 4 5 5 1 5 5 2 2 4 1 4 2 5 3 2 1 5 1 5 4 3 5 3 1 4 5 4 3 1 3 4 5 1 4 1 1 4 4 4 2 2 4 3 2 4 3 2 3 1 3 1 1 2 4 1 5 2 2 3 3 5 2 1 1 1 1 3 5 3 3 1 1 2 3 3 5 2 4 2 1 5 4 2 2 1 5 5 5 3 3 2 5 2 4 3 2 2 4 2 3 3 2 1 2 4 5 2 4 4 4 4 3 5 4 1 1 5 2 2 1 2 4 5 2 4 4 5 5 3 2 5 3 4 2 3 4 2 2 3 3 1 3 2 3 1 4 3 2 1 3 4 5 4 4 3 4 5 1 4 4 3 2 4 3 2 2 3 4 3 2 1 3 5 4 1 3 5 3 3 2 3 4 5 4 3 1 3 1 3 1 5 2 4 3 4 5 1 5 5 2 5 3 4 1 3 2 5 3 2 4 4 5 5 1 5 2 5 1 5 4 5 4 1 1 2 3 4 1 2 4 2 5 4 1 1 1 1 4 5 1 1 3 2 4 1 2 5 1 4 3 2 5 5 3 3 4 4 5 4 2 3 4 2 4 5 2 4 4 4 4 5 3 4 4 2 2 3 1 1 3 1 4 3 4 2 2 5 3 5 5 3 1 4 5 2 2 4 5 1 3 4 2 3 2 5 1 2 1 4 2 5 3 4 3 2 2 1 2 2 4 1 5 4 4 3 2 2 5 5 5 5 1 3 2 3 1 2 5 5 4 5 1 2 5 5 4 4 5 4 5 4 5 4 2 1 2 1 1 5 4 4 5 4 4 2 4 4 2 5 2 5 2 1 4 2 5 5 4 3 2 1 5 2 2 3 1 3 3 5 2 5 2 4 3 1 3 1 5 3 2 5 1 4 1 3 4 4 2 3 3 1 2 1 1 5 3 1 2 4 5 2 3 5 5 2 5 5 4 3 2 1 3 1 1 5 1 4 5 1 1 4 1 5 5 1 3 2 1 1 5 2 3 2 4 1 2 5 2 3 3 5 2 1 3 5 2 2 5 2 3 2 3 3 5 1 1 1 2 1 1 3 3 1 5 3 4 2 5 3 1 1 1 4 1 3 1 3 4 3 2 4 4 3 3 3 1 1 4 1 2 3 2 1 5 2 5 2 3 5 1 5 4 4 3 1 2 4 2 2 1 3 1 3 2 2 4 4 1 3 2 1 1 4 2 2 1 5 2 1 1 2 4 5 2 5 3 4 2 3 2 5 4 3 3 2 2 1 5 4 2 2 3 3 3 3 4 2 1 4 4 1 4 4 4 4 1 1 1 3 4 3 2 2 4 2 4 1 1 2 4 4 2 4 2 4 4 2 1 4 1 4 1 1 1 2 2 4 3 2 4 5 2 1 3 1 5 4 1 2 3 2 2 3 2 3 3 3 3 2 3 1 4 3 1 5 1 1 2 3 3 5 5 2 1 3 2 3 3 1 4 2 4 2 1 2 5 4 4 4 4 3 3 5 4 1 2 1 1 5 4 5 5 3 5 2 3 3 3 5 3 4 4 2 1 5 5 5 5 2 1 3 5 4 1 5 1 4 1 4 1 5 3 2 2 5 2 5 4 3 4 2 1 5 1 2 2 1 2 3 3 4 4 1 2 4 5 4 4 4 3 2 5 5 3 4 5 2 2 1 1 4 2 2 4 4 2 3 3 1 4 1 5 1 1 1 1 2 3 1 5 5 5 4 3 4 2 2 5 3 2 5 5 5 5 4 1 1 3 2 1 2 5 2 3 4 3 4 1 4 3 2 4 3 5 1 5 2 1 2 1 5 2 4 1 1 1 3 5 1 2 2 3 5 5 3 2 5 5 1 3 4 2 2 5 4 3 4 4 5 4 4 3 5 2 1 1 2 5 5 5 5 2 2 5 3 3 3 5 5 2 3 2 1 1 5 3 2 4 4 3 5 1 1 1 2 3 5 1 5 2 2 4 1 3 4 5 3 1 1 4 3 4 1 1 4 1 5 2 3 5 4 4 1 2 2 3 4 3 2 3 5 4 2 4 3 5 4 1 4 5 4 3 1 2 1 4 5 1 2 1 5 5 3 1 1 4 3 4 1 3 2 2 5 5 2 1 3 2 4 3 5 1 3 1 1 1 5 5 4 3 5 5 5 2 5 4 2 1 3 2 2 1 3 5 1 4 3 3 4 4 1 2 4 3 5 1 5 5 3 1 1 1 4 2 4 1 3 5 5 3 1 4 3 5 2 4 4 3 2 2 3 2 5 5 4 2 3 1 5 5 3 2 4 2 5 4 3 3 2 4 5 4 3 2 3 2 4 5 1 1 4 5 5 1 4 1 2 3 4 3 4 2 3 5 2 5 3 1 4 3 5 1 1 5 3 5 1 1 1 5 4 3 4 1 3 1 3 3 4 1 1 1 4 1 3 2 4 4 4 5 1 5 4 4 2 1 1 3 4 1 5 2 4 1 3 2 3 2 3 2 2 2 3 5 5 4 3 5 2 2 4 2 1 2 3 5 2 1 1 2 2 1 5 1 5 5 5 2 1 4 2 5 1 3 3 4 3 1 5 2 2 4 3 4 1 3 1 4 3 1 3 1 3 3 5 3 1 3 2 2 2 4 4 4 2 2 1 4 4 2 5 4 1 4 4 4 1 3 1 5 2 5 2 1 4 5 3 2 2 5 3 4 4 2 2 5 3 2 3 2 2 3 4 4 2 1 5 4 2 2 1 3 1 4 3 4 3 5 4 5 3 5 1 2 5 1 5 3 4 2 3 1 3 4 4 1 3 5 4 5 1 2 2 1 2 4 3 4 2 3 1 3 1 4 5 5 4 4 3 5 3 1 3 4 3 4 2 4 5 4 2 3 2 4 1 4 1 4 3 3 4 2 1 2 2 1 4 4 3 3 1 3 3 1 1 1 1 2 5 2 3 5 4 5 4 3 2 2 3 2 4 5 4 2 5 3 5 3 2 3 1 2 1 3 2 3 2 3 2 3 3 2 2 4 2 5 1 1 3 4 1 2 1 5 4 5 5 4 4 5 2 5 2 4 3 5 3 3 3 5 5 5 3 4 4 2 4 4 4 3 2 3 5 3 4 1 3 2 3 5 4 1 1 4 1 5 2 2 5 5 4 1 1 5 5 4 1 1 5 5 3 1 3 4 2 3 1 5 4 5 4 1 5 2 3 5 2 3 1 2 3 2 5 3 3 5 4 3 4 1 4 5 1 3 4 2 5 4 3 1 4 1 5 1 1 2 1 2 1 1 5 5 3 3 3 2 5 3 4 3 4 5 4 2 2 5 5 1 4 5 4 1 1 1 1 5 3 3 3 5 1 2 1 5 4 1 4 4 4 5 5 2 4 3 2 1 5 2 4 5 5 1 5 2 1 2 1 1 2 1 4 4 3 5 1 1 2 5 5 1 4 2 1 5 1 1 3 4 3 3 4 1 4 3 2 4 2 3 4 4 4 5 5 3 5 1 2 4 3 2 1 4 1 1 5 3 1 5 4 1 4 1 1 4 1 2 1 2 1 1 1 1 3 3 4 1 2 5 3 2 5 5 3 3 3 4 2 1 1 4 5 4 3 3 1 5 3 2 4 5 5 3 1 4 5 4 2 1 5 5 3 4 4 2 1 3 5 1 2 3 2 1 4 1 5 5 1 3 5 4 2 3 4 4 3 3 1 1 2 4 4 4 4 1 5 1 4 5 4 3 2 1 1 2 2 4 2 5 4 2 5 2 5 1 3 2 2 3 1 3 5 1 2 5 5 5 2 5 3 4 4 5 5 5 4 3 4 4 2 2 4 5 2 2 1 2 5 5 1 1 4 5 5 3 5 4 5 5 2 5 3 2 3 2 5 2 1 5 2 2 1 5 2 1 1 5 3 2 5 2 3 5 5 2 4 3 4 3 4 4 5 3 3 1 1 3 4 1 1 4 1 3 3 3 4 1 2 2 3 3 5 2 5 4 5 5 4 1 4 5 2 4 4 4 5 3 1 4 5 1 2 2 5 3 4 1 5 3 1 2 2 3 4 2 3 4 1 4 5 2 3 2 1 3 1 3 4 4 2 4 5 3 1 4 3 5 5 4 2 3 4 5 4 1 2 2 5 3 4 2 2 2 2 3 4 2 5 1 1 5 5 1 2 4 2 3 1 2 4 2 5 1 5 2 5 4 3 3 5 4 1 4 2 1 3 1 5 2 2 3 4 3 2 1 1 4 4 1 3 4 4 3 5 5 2 3 2 2 3 2 2 2 4 4 5 4 1 5 4 2 5 3 4 4 4 4 3 1 2 1 2 4 1 3 2 2 4 3 3 3 2 3 3 1 1 1 3 4 1 4 5 2 3 4 2 5 1 3 1 4 2 5 4 5 3 1 4 1 4 5 4 4 3 2 1 5 1 4 2 5 3 5 3 2 4 3 3 2 3 2 3 5 4 4 3 4 3 4 2 1 2 1 3 1 2 5 5 3 3 2 5 2 1 5 1 2 5 4 4 2 3 4 2 2 5 2 3 1 3 4 4 3 5 4 5 3 4 2 3 3 3 1 1 2 2 3 5 5 5 1 3 3 1 1 2 5 4 5 4 1 5 4 3 2 4 4 3 3 5 5 1 5 4 5 5 4 3 1 3 4 5 5 3 3 2 1 5 5 4 4 4 2 2 2 2 3 2 4 2 3 1 1 1 2 2 5 1 4 5 1 3 5 3 4 2 2 3 2 4 3 1 5 4 3 5 2 1 1 4 5 4 1 1 2 3 4 3 2 4 3 4 4 2 4 1 5 2 5 5 1 2 1 4 1 4 1 2 3 4 3 2 2 3 4 1 3 2 5 5 4 2 1 5 2 2 1 4 3 3 3 5 5 4 1 1 1 2 5 5 5 2 1 1 3 2 3 4 3 2 2 1 1 3 3 3 2 2 1 1 4 5 5 1 3 4 5 5 3 5 4 5 2 2 1 5 1 1 5 2 4 2 4 1 2 4 3 5 5 3 4 1 5 4 2 3 2 1 1 2 5 2 5 4 5 2 1 2 3 2 5 4 2 5 1 3 3 1 4 2 4 4 2 5 4 5 2 1 3 5 4 5 4 5 1 5 2 2 1 2 4 1 4 2 1 2 1 5 1 3 5 3 5 5 4 1 5 1 2 1 2 1 1 1 2 5 4 5 2 3 1 5 2 5 3 3 1 2 4 4 3 4 1 3 1 3 3 5 1 4 5 4 2 3 4 1 5 2 5 3 1 2 4 2 1 3 1 2 1 4 1 1 5 5 3 3 5 5 3 5 1 2 2 2 1 4 2 2 1 1 5 1 2 1 1 1 3 3 4 4 4 2 2 1 4 4 1 3 3 2 3 4 4 2 4 4 3 4 4 4 2 5 5 3 1 5 4 5 5 2 4 2 5 2 4 3 2 1 4 1 2 3 5 1 1 5 4 2 4 1 2 3 1 5 1 5 2 4 1 2 5 3 4 1 4 4 1 2 4 3 4 5 4 1 1 3 3 5 3 3 5 1 5 3 5 4 2 1 2 1 1 2 3 5 4 3 5 4 1 1 2 4 1 2 1 4 2 3 5 3 1 1 5 1 3 1 3 5 4 4 1 5 1 3 5 2 4 1 1 4 2 3 4 4 5 4 4 4 3 2 4 3 5 1 1 2 4 1 2 1 1 2 3 5 3 4 3 3 5 2 2 4 4 4 3 2 2 3 3 3 2 5 5 1 2 4 4 1 4 5 3 3 3 1 3 2 1 1 3 3 4 3 5 1 4 4 4 3 3 2 4 5 1 3 4 1 1 3 1 5 1 3 1 1 3 1 4 5 5 5 2 3 5 5 1 3 5 3 2 1 1 2 4 4 5 2 3 5 1 4 3 2 1 1 1 4 3 1 1 5 3 4 5 2 3 2 2 1 3 4 5 3 5 5 4 2 5 5 1 1 5 5 5 2 1 5 5 1 1 3 1 4 4 2 4 4 2 5 4 1 5 2 3 1 1 1 1 3 4 4 5 5 2 5 1 2 5 5 5 4 1 1 4 2 3 4 3 4 2 5 5 1 3 1 1 2 1 4 2 5 2 4 5 4 4 3 4 4 3 5 5 1 1 2 3 4 2 5 4 2 5 5 2 2 2 4 2 4 1 3 5 5 5 1 1 2 4 2 1 1 5 3 4 1 1 5 4 2 4 4 4 4 4 2 3 3 2 1 3 4 2 4 1 2 5 4 2 2 5 2 4 5 1 3 1 4 4 3 3 3 3 5 2 2 1 2 1 4 5 2 4 1 2 4 4 1 1 1 2 2 3 4 2 4 4 2 3 1 4 1 5 1 3 2 1 4 5 3 2 5 3 4 3 3 1 5 4 5 2 5 1 1 2 2 1 1 1 3 1 3 1 2 1 5 1 5 5 3 5 1 2 1 5 1 4 1 3 5 4 2 4 1 2 3 2 4 3 4 2 2 4 4 1 5 2 3 3 2 3 4 3 2 5 5 1 5 2 3 1 5 5 5 1 5 2 1 3 5 1 4 5 4 5 3 5 5 5 3 5 2 5 2 2 4 3 5 4 5 1 5 5 5 5 2 3 3 5 3 4 2 4 4 1 3 4 4 5 5 2 4 1 2 4 4 5 5 2 2 3 4 4 2 5 1 2 4 5 3 5 1 5 5 5 2 5 1 1 5 5 4 4 3 1 1 5 5 2 2 3 5 2 3 5 5 4 1 3 2 3 1 3 1 5 3 2 3 1 1 1 1 2 4 5 1 5 4 3 5 5 1 5 3 2 5 2 1 4 1 2 4 1 3 3 2 3 4 1 1 5 4 1 5 4 5 3 1 2 5 5 5 1 1 1 4 3 1 5 1 1 2 2 4 3 4 3 1 2 4 4 5 1 4 4 2 4 3 4 4 5 3 5 1 3 4 4 3 4 2 4 3 5 5 2 1 1 2 4 5 2 2 1 3 5 4 3 4 4 5 3 1 5 5 2 4 4 5 5 3 2 2 2 4 4 4 3 3 3 4 1 5 2 3 3 5 3 2 2 2 5 5 5 4 2 3 5 2 1 2 5 1 2 1 3 5 2 5 2 4 3 2 2 3 2 4 3 4 4 2 1 3 5 3 5 5 5 1 3 2 1 5 3 3 1 4 3 5 5 1 3 5 2 1 3 4 1 1 1 2 4 4 4 5 1 5 4 5 1 5 4 1 5 4 3 2 2 5 2 2 5 5 2 4 3 1 4 3 3 5 1 3 5 2 2 4 3 2 1 5 3 1 2 2 1 5 2 3 1 5 5 4 1 1 5 4 1 2 3 5 2 4 2 5 1 2 1 4 2 5 2 1 5 4 1 5 4 2 1 4 2 5 3 5 4 5 3 5 1 1 2 5 1 1 5 2 5 1 4 4 1 4 4 3 1 3 5 4 2 1 3 5 1 5 4 3 5 5 5 1 5 1 1 2 4 2 5 1 1 1 2 3 2 1 5 5 1 3 5 2 3 4 1 5 3 1 1 4 2 2 3 2 4 4 4 1 2 5 1 3 1 4 5 3 2 2 5 5 2 2 3 1 3 3 5 4 3 4 3 3 1 4 3 4 4 4 5 5 3 2 1 4 5 3 5 3 2 5 5 5 2 5 2 1 2 2 5 3 1 4 4 4 1 4 1 5 2 2 3 4 3 1 2 4 4 3 2 3 2 1 4 5 2 5 5 3 3 4 2 3 4 2 1 5 5 4 1 1 2 5 1 2 5 3 4 1 1 2 5 5 2 4 5 5 2 5 4 3 4 5 2 5 5 1 5 2 2 3 4 4 4 3 5 3 5 1 4 1 4 3 3 4 2 2 4 2 2 3 2 4 2 5 2 5 2 2 2 4 4 1 4 1 1 2 3 2 5 2 2 1 1 5 3 1 4 2 1 2 3 3 2 3 3 2 5 1 1 3 3 4 1 1 1 5 3 3 3 1 3 2 3 5 1 2 4 4 4 1 3 5 3 5 4 5 2 2 1 4 2 5 4 2 4 3 1 2 1 5 1 1 3 4 5 1 5 4 1 3 3 3 1 4 2 5 4 5 4 5 4 4 2 5 3 5 1 5 2 3 4 4 1 5 2 1 1 2 2 5 3 4 1 1 2 2 3 4 2 4 5 2 1 5 4 3 5 2 1 2 1 2 4 5 5 3 4 3 5 2 4 4 3 4 5 4 3 3 3 3 1 2 5 2 1 5 1 5 4 3 1 3 4 2 2 4 5 2 1 1 1 3 1 3 1 4 3 5 1 4 5 3 3 4 1 2 5 5 2 2 5 3 5 5 2 5 4 4 3 4 2 1 3 1 3 4 1 4 5 5 4 5 1 1 3 4 2 2 3 3 4 3 2 3 4 1 5 5 4 3 5 1 4 3 1 2 3 4 5 5 3 3 2 2 5 4 3 2 3 1 4 1 2 4 1 5 1 4 5 4 3 4 4 2 3 2 3 4 1 1 3 3 3 5 1 5 1 3 1 3 3 4 5 4 2 1 2 3 5 1 2 3 4 3 4 2 4 3 3 4 1 2 1 1 3 5 5 4 2 5 3 1 3 4 4 3 1 5 5 2 5 5 5 5 1 1 2 1 3 4 5 5 2 1 5 1 4 1 1 1 5 4 1 3 1 5 5 5 2 4 5 2 3 3 5 1 3 4 4 4 3 4 1 3 4 2 2 5 2 4 4 2 4 4 2 2 5 3 1 5 5 2 2 4 2 5 3 2 5 4 3 1 4 4 5 2 3 2 2 2 3 4 5 5 2 5 3 5 4 5 5 3 3 3 4 2 3 2 4 4 1 3 4 3 3 3 5 1 1 4 3 4 1 1 5 3 3 2 4 1 2 3 2 2 1 2 1 5 4 5 2 5 3 4 3 3 3 1 4 3 1 3 4 2 5 1 5 4 2 5 2 2 3 3 5 3 4 3 3 3 1 3 1 1 2 4 3 3 2 1 3 1 3 3 3 4 5 4 3 3 2 4 4 5 5 2 4 1 2 4 1 5 5 2 5 1 5 2 2 4 5 3 3 3 5 3 4 4 4 3 5 1 1 5 3 1 4 5 4 2 5 1 4 1 5 3 3 3 2 3 5 4 4 5 3 4 2 3 3 3 4 1 1 1 5 4 3 4 4 3 3 4 2 3 1 5 5 4 2 1 4 1 1 5 1 3 3 2 5 2 4 5 2 5 1 3 3 4 3 4 2 4 5 4 3 4 1 4 5 5 2 3 2 1 1 3 5 5 2 2 4 1 5 3 1 2 4 1 5 3 2 5 1 2 2 4 1 2 5 5 2 2 2 3 3 3 5 3 1 2 5 3 4 3 4 5 3 1 2 1 2 3 5 4 1 3 1 3 2 1 1 5 4 3 3 3 4 4 4 3 2 3 4 5 1 3 1 3 3 3 5 1 2 4 2 2 2 5 2 5 2 5 4 4 5 4 3 4 1 5 1 4 3 2 3 1 5 4 2 1 4 5 4 5 4 1 5 3 2 5 2 2 2 3 4 4 2 5 4 3 2 4 2 4 1 2 5 4 5 2 1 4 5 4 1 1 4 3 2 4 1 3 2 5 5 4 5 4 1 3 3 2 5 1 4 3 5 1 4 3 4 1 4 5 5 2 5 3 5 5 5 3 2 1 4 3 3 5 1 2 5 1 1 1 1 2 5 1 4 5 2 5 5 3 1 3 1 3 2 1 2 4 2 5 2 2 3 4 5 3 4 1 1 5 3 1 5 1 3 3 2 1 2 4 4 1 4 3 5 3 1 4 2 5 4 5 5 2 1 5 4 5 2 5 2 1 1 2 1 5 3 3 4 2 1 5 2 4 5 1 1 4 5 1 4 2 3 4 1 5 2 3 5 3 1 5 5 2 4 3 1 2 4 3 3 1 4 1 1 2 1 5 1 4 4 2 4 2 1 3 5 4 3 5 4 4 4 2 1 4 3 3 5 1 3 2 1 5 2 1 4 3 2 5 4 2 1 3 2 2 3 3 2 3 2 2 4 2 3 2 5 5 4 4 4 4 3 1 1 3 2 1 1 5 5 5 3 2 3 2 3 3 5 1 4 2 5 2 4 1 4 3 2 1 1 1 5 3 3 3 2 2 3 1 2 1 1 5 3 5 1 5 2 3 5 1 1 3 5 5 3 1 3 1 3 1 1 4 1 1 5 2 4 4 4 4 2 4 4 2 5 2 5 5 3 3 2 4 3 2 2 4 3 2 1 2 5 3 2 2 2 3 4 1 1 3 1 5 2 1 1 4 1 1 3 4 5 3 4 2 1 1 3 5 2 5 2 1 1 1 1 3 1 5 3 1 1 5 2 3 1 2 2 3 4 4 2 1 4 4 4 2 4 3 1 4 2 4 1 3 5 3 4 4 4 1 2 3 2 3 3 1 5 1 2 2 2 5 5 3 5 4 5 2 1 3 3 5 5 4 5 2 2 4 1 1 1 1 5 2 3 4 4 2 4 2 5 1 3 2 3 3 2 5 1 3 2 2 2 1 1 2 2 2 3 4 5 2 2 4 5 3 3 1 3 2 3 2 2 3 2 1 3 5 3 1 3 2 3 1 1 1 2 2 4 4 2 1 5 5 5 2 3 3 3 2 4 5 5 2 2 1 4 5 5 2 1 5 5 1 3 1 2 4 3 4 4 4 4 3 1 5 2 5 1 5 3 5 1 4 4 2 3 1 2 1 1 4 4 1 3 5 1 4 4 3 5 4 3 5 1 1 3 5 3 4 2 5 1 5 3 3 1 5 1 5 2 2 3 1 5 2 3 5 4 2 1 2 4 3 2 3 2 3 2 5 3 4 4 1 2 5 1 2 2 2 5 3 3 2 2 1 3 4 1 2 4 2 3 3 4 1 1 2 5 4 1 2 4 3 2 2 3 4 3 2 2 3 3 1 4 5 5 3 4 5 5 1 5 1 3 1 2 2 1 4 2 4 4 4 3 4 2 2 3 2 2 3 3 5 5 5 3 2 2 1 2 3 1 4 2 3 1 1 3 4 2 4 2 5 4 3 2 3 2 1 1 2 5 4 3 4 2 5 2 5 2 3 1 5 1 3 5 2 2 1 1 5 1 5 2 1 1 4 4 1 5 5 1 4 1 1 4 1 2 2 5 4 5 5 2 1 4 4 3 5 3 1 1 3 1 1 4 5 4 1 4 1 1 4 4 2 1 2 4 1 5 3 5 5 5 5 3 1 4 4 4 2 4 1 4 2 3 1 2 1 1 1 3 3 4 5 3 5 3 4 4 4 2 4 4 4 2 1 3 5 2 2 4 5 1 4 4 1 1 5 5 3 3 5 2 5 1 2 2 4 4 2 2 2 3 2 4 1 5 4 2 3 1 5 4 1 2 2 5 1 4 2 4 5 1 3 3 5 4 5 3 5 3 2 2 1 5 3 5 4 2 2 1 2 4 4 2 5 4 4 4 1 4 1 5 1 3 5 3 1 4 4 4 5 4 5 3 1 2 2 4 2 2 3 4 5 3 5 1 4 2 3 5 1 1 3 3 1 1 5 1 2 2 1 3 3 1 5 1 4 5 3 4 1 2 4 3 4 5 3 5 1 3 4 1 2 2 2 3 4 5 1 2 2 3 5 2 4 2 4 2 4 2 1 1 4 5 4 4 3 5 3 5 4 1 1 2 2 4 4 1 4 1 3 3 1 1 3 1 1 3 4 2 4 2 5 1 3 3 2 5 2 5 5 3 4 2 2 3 5 3 1 2 1 4 4 4 3 5 2 1 2 4 2 2 2 4 3 4 3 5 3 3 5 4 5 3 2 3 4 3 2 4 2 4 1 3 3 1 5 5 2 2 3 4 2 3 4 5 5 1 5 4 2 4 1 1 3 2 1 2 2 2 2 2 3 3 2 3 1 3 3 3 1 3 4 3 2 3 4 2 2 1 2 2 5 2 1 2 5 5 4 5 3 1 4 1 5 4 4 4 1 2 5 3 2 4 5 4 1 4 3 5 5 3 1 1 4 2 3 1 3 5 1 2 2 5 2 2 5 5 5 4 4 1 3 5 3 2 5 3 5 4 4 1 3 4 4 1 4 2 3 4 3 1 3 1 1 4 3 5 1 1 5 4 4 4 5 1 5 1 1 1 1 5 1 2 1 5 4 4 2 4 5 1 5 5 3 5 1 2 4 5 1 3 1 2 4 1 5 3 2 1 1 1 1 3 1 1 2 5 3 3 1 3 4 2 5 5 3 3 5 1 1 2 4 5 5 5 3 2 1 3 1 5 3 3 3 3 5 2 3 4 5 2 5 5 4 5 2 2 2 1 1 2 2 3 2 2 2 2 4 1 4 2 1 1 2 5 5 1 5 5 3 5 5 3 3 4 4 2 4 4 2 1 2 5 1 1 2 2 2 4 4 4 1 4 3 4 2 3 2 5 1 4 4 5 3 3 3 1 4 1 5 4 4 2 2 1 3 1 3 2 4 5 2 4 2 3 3 5 3 3 1 4 2 5 3 5 1 4 5 1 3 1 5 5 5 3 2 5 1 5 4 5 2 5 4 5 4 5 2 5 5 2 1 2 4 5 3 1 2 1 2 2 3 2 5 4 1 4 5 2 2 1 5 4 2 4 3 2 2 1 5 1 1 1 5 5 5 5 5 3 3 5 3 4 3 1 5 2 5 5 1 1 3 3 4 5 4 5 3 3 5 1 3 4 3 5 2 5 2 2 5 5 1 1 4 2 4 4 3 1 2 1 2 3 5 5 2 3 4 2 3 4 3 5 1 4 3 4 5 4 2 1 1 2 2 1 3 3 2 5 5 3 4 3 3 4 4 5 5 2 3 4 3 3 4 4 1 3 2 5 5 3 3 3 1 3 2 1 2 1 4 4 3 1 2 2 2 3 1 3 1 5 2 4 3 4 2 5 3 1 4 1 2 3 2 3 1 2 2 1 1 2 4 1 5 2 2 2 4 3 1 2 1 2 1 1 5 4 2 1 2 2 4 5 2 4 2 4 3 2 3 2 1 4 3 1 3 2 4 4 1 3 5 4 3 5 3 2 4 4 2 3 1 1 4 2 2 1 3 5 4 5 5 4 3 2 5 5 3 3 4 5 2 1 4 5 3 3 1 1 4 2 2 1 2 2 2 3 2 1 3 3 3 1 4 4 1 2 3 3 4 5 1 2 2 5 2 3 4 4 3 4 3 4 1 5 2 2 5 2 4 3 2 4 3 4 3 5 1 2 5 3 2 1 1 1 4 4 2 1 5 3 4 1 3 1 5 1 1 1 2 2 4 1 5 1 2 2 2 4 2 5 3 1 2 4 1 4 2 1 4 4 1 4 2 4 2 3 2 1 2 4 3 5 1 5 5 2 2 4 5 2 1 1 4 1 3 2 3 4 5 2 5 5 2 2 1 4 1 1 1 4 3 2 4 1 2 4 1 3 1 2 4 4 5 3 1 4 1 3 3 1 1 2 1 3 4 3 1 2 2 1 4 2 3 3 1 3 5 1 4 3 5 1 1 5 3 1 4 4 2 2 2 1 5 2 1 1 2 1 2 2 2 2 2 4 4 1 5 5 1 3 4 5 1 5 3 3 4 4 1 4 4 5 5 1 3 1 2 4 2 2 5 1 3 2 3 2 5 4 3 1 4 3 3 3 1 4 4 4 5 1 1 4 4 1 2 1 5 1 1 5 1 2 5 5 5 4 5 4 4 5 3 1 4 2 1 1 5 2 2 5 4 3 1 3 2 3 3 1 2 1 3 1 4 5 4 3 5 2 2 5 2 3 1 2 4 2 2 3 1 2 5 1 1 4 3 5 1 2 3 4 4 1 1 1 2 1 5 3 5 1 4 5 1 5 3 1 4 1 5 2 2 1 2 1 3 3 3 3 3 1 2 2 1 2 2 3 3 3 3 4 4 2 5 4 1 4 2 4 2 2 5 4 2 1 2 1 4 1 2 4 2 2 2 4 2 2 5 3 1 5 3 3 4 4 4 5 3 3 3 1 4 4 1 4 2 5 5 1 4 5 5 4 4 2 2 5 1 4 4 5 4 5 4 4 4 4 5 5 4 3 3 4 2 3 1 1 2 1 4 3 5 1 3 1 5 5 4 3 5 4 1 3 1 2 2 1 3 2 2 1 4 4 5 4 2 3 4 5 5 4 1 4 3 1 4 1 4 1 3 2 3 2 3 5 3 1 4 4 4 1 1 2 5 4 4 2 3 2 1 3 4 2 2 1 4 1 3 2 5 2 5 2 5 5 1 2 1 2 3 4 3 4 4 3 2 2 5 1 1 5 2 3 3 2 5 3 5 4 4 3 1 5 2 1 1 1 4 4 3 5 5 2 2 4 1 1 5 5 4 2 1 1 2 2 5 4 5 5 1 5 3 2 3 1 4 5 5 4 3 1 4 3 2 3 5 3 4 1 3 2 4 4 4 2 4 3 3 2 3 2 3 5 1 1 1 4 4 3 1 2 4 3 1 2 4 5 1 5 5 4 5 1 4 4 3 2 4 5 2 2 5 1 1 2 2 3 3 4 5 5 4 5 3 4 3 5 3 1 5 5 4 2 5 4 2 4 4 4 4 3 2 1 4 1 2 1 2 5 4 5 3 3 2 5 1 1 2 4 3 1 1 5 5 3 1 2 1 3 3 3 1 3 5 1 3 1 3 4 5 4 4 4 4 3 5 3 3 3 3 5 2 3 1 4 2 1 5 3 3 5 1 1 3 5 2 3 4 3 1 1 2 3 5 4 1 2 1 4 4 3 3 1 4 5 2 2 2 1 2 2 2 5 4 5 5 4 2 1 1 4 4 5 2 4 5 2 3 4 2 4 2 3 3 2 1 2 5 5 2 1 4 3 4 2 5 3 4 3 2 3 5 1 2 2 2 4 4 1 2 2 2 2 4 3 4 4 5 2 2 1 1 1 2 1 3 3 2 3 2 2 3 5 2 5 2 1 3 1 2 3 5 5 4 5 4 4 2 3 2 4 5 3 5 3 4 2 1 1 4 1 2 1 3 5 1 1 1 4 1 4 3 5 5 2 4 4 3 4 1 5 3 5 4 3 1 3 5 5 3 3 4 5 5 3 1 1 4 3 3 2 5 3 2 1 2 4 4 2 5 1 1 5 1 1 3 3 4 2 4 3 2 3 1 2 4 4 4 4 3 5 3 4 4 1 2 3 3 3 1 1 3 3 4 3 2 4 3 2 5 5 3 3 2 2 3 5 2 5 4 5 5 5 1 1 2 4 5 3 5 3 3 1 2 1 3 5 2 1 3 2 4 2 2 5 1 3 1 1 4 1 2 4 4 2 3 1 5 5 3 1 2 1 4 4 5 2 5 4 5 5 2 1 5 5 5 4 5 2 2 3 4 2 1 2 1 1 3 4 1 2 2 3 3 3 2 5 3 2 2 2 3 2 4 1 4 1 2 4 2 3 5 4 5 2 2 4 2 2 5 5 3 3 2 2 4 3 4 4 4 3 2 1 5 5 4 4 1 3 2 1 3 4 3 5 2 1 1 5 1 2 2 2 4 3 3 2 4 1 4 5 5 5 3 5 4 3 5 1 3 2 5 4 1 3 1 1 5 1 2 5 2 5 3 1 2 4 5 2 5 2 4 5 3 2 4 1 3 1 5 2 1 2 5 2 1 3 2 2 3 2 5 3 1 4 1 1 4 2 5 5 4 4 4 2 3 2 1 3 1 1 2 1 3 5 2 3 4 1 1 1 2 3 1 3 4 4 2 1 5 3 3 2 2 4 3 4 5 4 3 5 1 1 4 1 4 4 2 4 4 4 1 1 3 3 5 3 3 1 1 4 1 2 3 1 3 1 4 3 3 2 4 5 1 5 3 1 4 2 1 1 3 2 3 1 1 1 2 3 3 2 2 5 4 4 1 1 5 2 5 5 5 1 3 5 4 1 5 1 4 1 2 3 3 5 4 1 2 4 2 3 3 3 1 5 5 5 4 5 1 4 1 1 2 4 3 2 3 2 1 1 2 4 3 2 5 4 2 3 4 2 5 4 4 3 4 2 2 3 2 5 3 3 1 1 1 4 5 2 2 4 2 3 1 5 5 4 2 4 3 1 4 4 5 4 2 1 3 2 5 1 2 2 5 5 1 1 2 2 3 1 1 1 2 1 4 1 4 3 5 1 1 2 1 1 3 1 3 3 5 5 3 2 3 3 3 1 3 2 2 1 5 3 3 3 4 2 4 5 5 5 5 5 1 2 1 4 4 4 5 3 1 5 3 1 2 2 3 4 4 1 5 5 4 5 5 1 1 2 5 1 5 4 1 4 3 4 1 1 2 1 2 4 1 4 2 5 5 5 3 2 2 3 2 5 2 3 3 2 1 2 3 5 2 3 3 3 2 2 3 2 5 5 3 5 2 3 4 1 1 1 1 4 2 1 2 2 5 1 3 3 1 5 5 1 3 4 5 4 3 1 5 5 2 2 2 3 4 5 3 5 1 5 1 5 5 1 2 2 4 4 4 2 2 2 2 3 3 5 5 1 3 2 1 4 5 5 3 2 2 3 4 4 3 4 3 4 1 1 5 1 5 3 1 4 5 2 2 5 4 2 2 5 3 3 5 2 2 2 3 5 4 4 4 5 5 4 2 3 3 4 3 4 1 1 2 5 4 1 4 4 2 1 2 2 5 5 3 5 1 1 5 4 2 5 1 1 1 2 3 5 1 4 5 2 1 2 2 3 3 2 1 5 4 1 2 4 3 5 4 2 4 4 3 4 3 5 4 2 5 3 4 5 3 5 5 4 5 2 2 3 1 2 3 5 4 5 3 4 5 1 5 1 4 2 1 4 4 1 4 5 4 1 1 3 2 5 2 2 4 5 4 3 5 2 2 1 5 1 4 3 3 4 2 5 5 5 3 3 2 1 5 3 3 2 4 2 3 3 2 2 5 3 3 5 3 4 5 4 1 4 4 5 2 1 5 2 3 3 5 3 3 1 2 2 2 5 4 4 5 3 3 2 2 4 1 3 5 1 4 1 5 5 5 2 1 1 1 2 5 3 1 4 4 5 4 1 2 3 3 5 2 5 4 2 3 2 2 2 3 4 2 5 4 3 5 4 5 4 2 4 1 2 4 1 1 1 4 4 3 5 3 3 5 2 3 4 1 3 4 5 1 2 5 4 3 2 1 2 4 5 2 2 5 5 2 4 1 5 1 3 2 3 4 4 1 2 2 4 2 4 5 2 2 1 1 3 4 1 1 4 5 1 5 2 1 3 2 5 1 2 2 3 5 1 4 2 5 1 3 2 5 1 2 1 3 1 3 3 3 2 1 4 2 2 1 3 1 3 5 1 4 1 3 1 2 3 3 3 1 5 1 5 3 4 4 1 2 1 4 3 2 2 2 1 4 5 5 5 5 2 2 2 2 4 1 1 1 4 2 5 1 5 2 5 3 2 5 3 2 4 1 5 3 2 4 5 3 1 1 4 3 5 1 1 1 5 5 4 5 3 5 1 3 4 4 3 5 2 3 4 5 3 1 2 3 4 5 2 2 5 3 5 3 5 3 4 2 3 1 1 4 4 5 1 1 2 2 1 1 3 5 1 5 3 1 5 5 3 4 3 1 5 2 4 4 5 3 1 2 5 5 5 5 5 2 5 4 5 4 4 1 4 3 1 2 5 4 4 4 2 3 4 1 2 4 3 4 3 4 4 3 4 5 4 5 2 5 4 5 3 5 1 1 3 5 1 5 3 2 3 1 2 5 5 5 1 2 2 3 5 5 1 5 3 3 1 5 3 3 1 5 3 4 1 3 4 5 4 5 3 2 3 3 4 4 2 5 4 1 3 5 5 2 3 1 1 3 1 4 1 5 2 5 5 3 4 5 2 4 2 4 4 5 2 3 3 3 3 1 2 2 5 4 3 2 3 4 3 1 5 4 2 5 5 5 1 5 2 5 4 4 1 5 3 3 2 3 2 3 2 3 5 3 1 4 2 2 4 4 1 3 2 3 3 3 2 3 5 4 1 3 2 5 1 3 2 1 4 5 3 3 5 2 3 5 4 1 1 5 2 2 3 2 2 2 4 2 5 1 3 1 2 5 4 3 3 4 3 2 1 4 5 2 2 2 3 5 3 2 1 4 3 4 3 4 5 5 1 3 3 3 1 1 1 1 3 1 1 3 2 5 4 5 3 1 3 4 3 4 5 2 4 5 1 3 2 4 3 4 1 5 1 3 1 2 3 1 3 4 3 5 2 2 4 5 3 1 4 3 2 5 2 1 2 2 5 3 3 3 5 3 1 5 2 2 3 4 5 3 5 2 4 4 3 2 1 1 5 5 5 5 3 1 5 5 3 3 5 1 4 4 5 1 4 5 3 5 4 3 2 4 5 5 2 2 3 1 2 2 5 3 4 5 5 5 1 5 1 1 4 2 5 4 5 3 3 3 4 3 5 3 2 1 4 5 5 5 5 3 5 2 1 4 2 2 2 3 5 1 1 5 4 2 1 3 4 4 1 4 4 4 4 4 4 3 2 2 1 2 5 2 5 1 5 2 4 1 5 2 4 5 3 5 1 2 5 4 2 2 5 1 4 2 2 5 3 3 1 4 2 5 2 2 4 5 3 5 2 4 1 3 1 2 1 4 1 2 4 3 1 3 4 3 1 2 3 2 2 4 2 1 3 4 2 5 4 4 5 2 4 1 1 4 2 1 1 5 4 4 3 2 3 1 2 4 2 4 4 5 1 4 2 5 3 1 1 4 5 5 1 1 5 3 3 5 1 2 1 3 2 2 3 3 3 5 5 1 5 5 4 3 5 2 3 1 2 1 5 5 5 1 4 3 2 3 2 5 4 1 3 4 2 1 2 5 2 2 2 2 5 3 4 2 2 5 1 4 5 3 4 3 3 2 2 3 3 1 5 5 5 4 1 5 1 3 4 2 3 3 5 1 2 1 1 1 5 4 5 2 2 1 5 4 2 2 5 5 1 5 1 5 1 1 2 2 1 2 3 2 3 4 3 2 1 1 5 3 1 1 2 4 3 2 1 3 5 1 4 3 1 1 5 2 3 2 2 3 5 1 1 5 5 2 4 2 5 1 2 3 2 4 5 5 1 2 2 1 3 3 5 4 5 5 5 5 2 4 5 5 4 3 1 1 5 1 2 3 4 1 3 2 1 1 5 5 3 2 3 5 3 1 1 1 1 3 4 4 1 2 3 4 3 1 2 5 1 1 2 1 4 1 5 3 1 2 1 3 1 3 1 5 4 1 3 2 4 2 1 5 1 5 5 2 3 3 4 1 3 1 1 1 5 4 4 5 5 3 3 3 5 3 4 5 5 1 4 1 2 5 2 5 2 5 4 3 5 4 4 2 5 3 5 3 4 5 5 3 2 2 5 1 5 2 3 2 1 4 5 1 1 5 3 4 5 5 1 5 3 4 3 3 2 4 4 5 4 1 2 3 5 4 5 5 4 4 5 4 4 2 4 4 2 5 5 3 1 5 2 2 5 3 1 3 1 5 2 4 1 3 5 1 4 5 2 1 3 1 2 3 3 4 5 4 3 3 3 2 5 2 4 5 3 5 1 3 5 2 2 5 3 4 3 3 3 3 1 3 1 3 3 4 1 2 5 1 1 5 2 4 1 3 3 4 2 3 5 4 1 5 2 5 1 3 3 1 4 1 1 4 5 4 4 4 3 4 4 5 1 3 2 4 5 4 5 3 1 1 4 3 5 4 1 1 4 2 5 5 1 3 3 3 1 1 2 5 1 1 2 4 4 5 5 2 1 2 2 3 5 2 5 2 4 5 4 3 4 5 4 4 4 4 1 4 2 4 1 3 4 5 2 5 2 1 2 1 5 4 4 3 5 5 5 2 4 1 2 5 2 1 1 5 5 1 3 5 1 3 1 2 1 1 1 1 5 3 4 4 5 5 1 4 3 4 4 2 4 1 5 5 3 3 2 5 2 5 5 5 1 2 4 2 2 4 3 1 3 1 3 5 1 1 5 5 5 3 3 2 1 4 5 3 5 1 1 2 4 5 4 3 4 5 3 3 2 5 1 3 1 5 5 4 1 3 2 4 1 4 3 1 1 1 2 3 5 1 3 4 3 1 1 5 2 4 1 1 3 2 5 1 4 1 2 5 5 2 4 4 5 5 5 1 4 3 3 3 5 5 3 5 4 4 5 3 4 3 5 4 4 3 3 2 4 5 3 2 4 4 2 5 1 4 1 4 2 3 4 1 4 5 4 3 1 3 2 4 1 5 3 5 2 3 2 1 1 1 3 5 1 1 4 4 5 2 4 3 4 3 1 3 2 1 5 1 1 1 3 2 4 5 3 4 5 5 2 5 3 4 1 5 3 3 4 1 4 5 1 5 3 4 5 2 3 5 4 3 2 3 4 4 4 3 3 5 5 5 1 3 1 2 3 3 5 5 5 2 1 3 5 5 1 1 1 3 5 1 1 1 2 3 4 1 1 3 2 4 2 2 1 2 3 4 3 2 2 1 3 1 5 5 5 1 3 4 3 2 2 1 1 1 5 1 2 1 4 2 4 4 5 5 5 2 3 3 3 2 5 2 3 2 5 2 2 2 1 3 5 2 1 5 4 2 3 2 5 3 5 5 1 1 1 5 5 2 3 3 5 2 3 1 3 2 2 1 1 3 1 2 1 1 2 2 4 4 4 1 2 1 2 3 5 2 2 3 1 3 2 1 5 1 4 4 4 4 2 2 3 5 2 1 5 5 2 3 1 1 5 1 4 2 3 1 3 1 3 1 3 3 3 1 1 1 5 3 4 5 5 4 3 2 1 1 5 4 3 1 1 4 3 1 4 1 3 3 2 3 5 2 4 5 3 5 2 5 5 3 3 1 5 1 4 1 2 5 5 2 3 2 5 2 2 4 1 3 1 5 1 4 4 1 2 2 5 2 2 3 3 4 5 3 1 1 4 1 2 1 4 4 3 4 1 3 3 1 2 3 1 1 4 3 3 4 3 3 3 3 5 2 1 5 1 4 3 2 3 2 2 1 2 5 5 2 1 3 5 4 1 5 2 1 4 5 3 2 2 3 5 3 5 4 1 5 2 3 2 3 5 3 2 3 5 1 2 3 5 2 5 1 4 4 3 5 3 2 1 1 1 4 2 2 4 2 3 3 4 1 2 1 4 2 1 5 3 2 3 1 1 1 5 3 1 1 1 4 2 3 4 1 2 2 2 5 1 2 5 1 3 2 4 4 5 3 1 2 4 4 4 5 2 5 1 5 2 4 5 4 1 5 3 5 3 2 3 5 1 5 2 2 2 3 1 3 2 2 5 3 1 4 4 3 2 3 3 5 1 5 5 5 5 4 3 3 4 1 5 3 4 1 2 2 2 1 1 5 2 1 1 5 1 3 2 1 1 4 3 4 3 5 2 1 5 2 5 4 5 4 1 5 3 1 3 3 5 1 5 1 5 3 1 5 3 4 4 2 4 4 2 4 1 2 1 2 1 1 2 1 4 4 4 3 1 1 3 5 2 3 2 4 4 1 4 5 2 3 4 5 4 2 5 5 1 1 1 5 5 1 5 1 5 5 5 2 5 4 3 2 4 3 5 1 5 2 5 3 2 2 3 3 1 2 4 4 2 5 1 3 4 3 2 4 4 1 3 2 4 4 3 3 1 4 4 5 3 4 4 3 1 1 2 1 3 1 5 3 5 2 4 5 1 4 1 2 4 1 5 3 5 3 5 3 3 3 5 1 4 5 5 1 5 5 4 4 3 2 4 4 1 1 5 2 1 2 3 4 4 1 5 1 1 2 1 3 3 1 2 1 1 2 2 1 4 2 2 4 5 5 4 2 5 4 3 2 1 5 2 5 4 4 4 2 2 2 5 5 2 2 1 4 5 4 2 3 2 2 1 5 4 1 4 1 5 5 2 5 4 4 4 1 1 3 3 4 2 1 1 5 2 5 5 2 4 1 3 3 1 5 5 1 5 5 2 1 5 2 2 4 2 4 3 1 3 3 2 2 5 2 2 2 1 1 3 3 4 2 5 5 1 1 3 1 2 4 2 3 5 2 1 2 5 2 4 3 4 5 5 4 2 3 5 4 2 4 3 2 1 2 5 3 5 3 5 2 1 5 3 3 1 2 3 4 1 4 4 2 2 3 4 3 2 2 1 1 4 3 1 3 3 2 2 2 2 1 4 5 1 3 2 2 3 3 3 5 2 4 5 2 4 1 1 2 5 2 3 3 3 1 3 1 5 5 1 5 2 3 3 2 1 2 3 1 2 4 5 5 1 3 5 5 1 5 2 5 5 1 2 5 2 2 5 5 1 4 4 4 3 2 3 2 2 2 3 3 2 3 1 3 5 5 5 3 3 1 1 5 5 4 4 1 5 1 5 5 3 2 2 3 3 4 2 2 4 1 1 3 2 3 4 3 3 4 2 5 1 4 5 2 1 2 3 5 2 1 2 3 3 4 5 5 1 4 2 5 5 4 4 2 5 5 5 3 1 4 5 5 1 3 3 5 5 4 5 5 2 1 4 1 2 5 2 1 3 4 3 2 2 5 1 5 3 3 1 5 2 4 4 1 4 3 4 2 3 3 2 4 4 2 2 2 5 2 4 5 2 3 1 5 3 2 3 2 1 3 3 1 1 5 4 2 1 3 2 2 4 2 1 1 4 1 4 3 3 4 3 1 1 1 3 2 3 4 5 5 4 2 1 1 1 4 5 1 2 5 2 2 3 1 1 5 4 2 1 5 1 5 4 4 1 4 2 2 1 3 5 1 2 5 2 1 5 1 2 4 3 4 4 3 4 2 3 5 1 5 2 1 5 5 2 3 1 4 3 3 3 4 2 2 4 1 5 3 4 2 3 1 5 3 5 4 3 2 1 4 4 1 4 3 4 4 5 5 1 3 3 2 4 5 1 2 3 5 4 5 4 1 1 1 4 5 4 1 3 5 4 5 2 2 3 5 5 1 5 3 4 4 4 3 3 1 3 3 3 3 5 5 3 2 5 4 4 2 1 1 1 3 1 4 5 5 2 3 2 2 5 3 3 1 1 1 1 5 2 5 3 2 2 3 2 2 4 3 5 1 3 5 5 2 1 2 4 5 4 2 5 1 3 1 5 3 5 2 5 3 2 2 5 1 5 5 4 1 1 3 1 3 1 3 5 3 5 2 2 1 4 3 2 2 4 1 1 2 4 3 4 4 2 4 2 1 3 5 5 5 2 4 3 2 1 1 1 3 5 4 4 1 4 2 3 5 5 3 4 1 3 2 4 1 3 3 1 2 4 4 2 2 3 1 1 2 1 2 2 5 5 4 4 5 5 4 4 4 1 4 1 2 5 5 5 5 1 1 1 2 4 1 2 1 5 5 5 4 4 2 5 5 1 2 1 1 1 4 1 1 2 4 3 1 2 3 2 2 5 4 2 1 1 5 5 3 1 4 2 3 5 4 1 1 4 3 4 1 4 5 1 1 2 2 2 3 5 4 2 4 2 3 4 1 4 5 3 4 4 5 4 5 2 1 5 5 3 3 4 2 5 1 3 4 3 5 1 4 4 5 1 2 5 2 3 1 2 4 1 4 5 3 2 1 1 3 1 3 2 1 1 1 2 1 4 2 4 5 5 2 5 5 2 5 4 5 2 4 2 2 1 5 4 4 2 3 5 5 4 3 4 3 5 3 3 5 3 4 3 1 1 3 5 4 4 1 1 1 4 5 2 1 4 5 1 4 1 2 3 2 3 3 3 4 1 3 1 5 3 3 5 3 5 2 4 2 4 4 2 5 1 1 2 5 5 3 5 5 3 3 4 2 4 4 1 4 5 2 1 1 5 4 3 2 2 2 1 3 3 1 4 1 2 2 1 1 3 3 5 3 1 5 1 4 2 1 1 4 1 5 4 5 3 1 2 2 2 5 4 4 5 2 4 4 4 3 2 2 5 1 5 3 1 4 4 3 5 5 3 4 4 4 3 3 2 3 5 5 3 3 1 2 1 1 2 2 3 2 3 1 1 2 2 4 1 4 5 1 2 4 3 3 3 5 5 2 5 5 3 5 2 2 2 2 5 1 1 5 4 1 3 2 1 4 1 5 4 2 1 1 2 4 2 1 4 2 4 1 5 3 5 1 2 4 1 3 2 1 3 5 5 3 2 1 5 5 5 2 1 2 2 2 4 5 1 3 5 1 4 5 1 1 3 1 5 1 2 3 3 2 1 1 5 2 4 4 2 5 4 3 2 4 5 5 2 2 5 2 2 5 3 5 1 5 2 5 1 1 5 1 5 2 1 1 4 1 4 1 4 4 5 3 4 2 3 1 3 1 5 3 2 2 2 2 1 5 4 3 3 5 4 1 5 2 5 3 5 4 4 3 3 5 3 4 2 2 3 4 3 2 4 4 3 4 4 3 2 4 1 2 3 4 3 4 2 3 5 1 5 5 2 5 2 4 2 4 3 1 5 4 2 1 1 3 4 2 2 3 1 2 4 3 4 5 5 3 2 2 4 2 5 3 4 1 2 4 3 5 3 1 1 3 1 1 4 4 1 1 4 2 3 3 1 3 1 3 5 5 4 2 1 2 1 1 5 3 5 2 5 5 2 2 2 4 1 1 3 3 4 3 3 5 5 1 1 1 3 2 1 1 4 2 3 2 4 2 2 2 3 3 1 2 1 4 5 4 1 2 2 1 2 2 2 3 2 5 1 5 5 4 1 3 3 3 5 3 5 5 1 5 1 3 5 4 3 4 5 1 5 2 2 4 3 4 2 2 3 3 3 1 5 2 2 5 2 2 4 2 3 2 1 4 3 1 3 1 5 1 3 4 5 4 3 1 1 1 2 4 4 2 5 1 5 3 4 4 1 2 2 2 1 5 1 4 2 2 3 2 2 2 1 5 5 1 3 3 5 1 3 2 1 5 1 5 5 4 1 3 1 3 2 5 3 1 5 5 2 3 3 2 4 1 5 4 3 2 3 4 2 5 4 2 2 1 2 5 3 4 2 5 5 2 5 2 5 3 2 2 1 2 1 4 5 4 5 5 5 1 2 1 4 2 3 2 3 1 5 5 3 5 1 5 3 3 3 1 4 2 4 1 2 5 4 5 3 1 4 4 4 2 3 3 2 5 4 3 2 1 3 5 1 3 1 3 2 2 5 5 5 2 3 4 3 2 4 1 5 2 5 3 3 4 3 3 5 5 4 3 4 3 1 5 2 4 1 1 2 2 5 2 2 1 3 2 4 4 3 2 5 5 5 5 1 3 2 2 3 4 4 4 1 1 3 2 4 1 5 2 2 2 3 3 4 3 5 4 4 1 5 5 4 5 1 5 3 1 1 2 3 3 4 5 4 1 2 5 1 5 5 4 5 3 5 1 3 2 3 3 4 2 4 5 4 1 1 3 5 4 1 1 5 4 5 5 1 4 2 2 4 5 2 1 4 4 4 4 5 5 3 3 3 4 5 2 4 3 2 5 3 3 1 2 2 4 2 4 5 5 4 2 1 4 1 1 5 4 5 2 2 4 1 5 5 1 4 5 4 3 5 1 1 3 5 5 5 5 2 5 2 4 5 1 4 4 3 2 2 2 1 3 5 2 5 4 1 3 1 3 1 1 5 1 5 4 2 3 3 4 2 4 4 2 2 5 2 2 3 5 3 5 5 5 1 4 1 5 5 3 3 5 2 4 2 2 5 1 5 4 5 1 3 5 2 1 5 1 1 3 5 2 2 1 5 1 2 2 5 2 1 3 5 5 5 2 3 2 1 3 5 4 3 2 2 2 2 2 4 1 3 3 2 5 2 5 3 5 2 2 5 5 5 1 4 2 3 2 4 4 5 4 4 4 4 4 2 3 4 2 2 2 1 1 2 3 3 2 5 4 5 3 2 2 5 3 3 1 4 5 3 5 3 2 5 2 2 3 1 3 4 2 5 1 2 5 5 3 1 5 5 3 1 5 5 2 5 3 2 3 1 5 5 1 5 2 4 3 4 1 1 1 5 2 4 5 3 3 2 3 2 4 5 1 1 3 4 2 2 2 3 3 1 1 3 5 2 3 1 4 3 4 4 4 2 1 4 5 3 3 5 1 4 5 4 3 1 2 1 3 4 2 1 3 1 2 4 2 2 2 4 5 4 1 3 5 1 3 4 5 3 2 3 3 5 1 5 4 4 5 3 5 3 5 3 2 4 5 4 3 3 1 1 5 4 2 1 3 2 5 2 4 5 3 1 5 3 2 3 4 2 1 4 3 4 4 3 2 2 1 5 2 5 1 5 4 4 4 5 4 3 2 1 4 4 3 5 1 5 2 3 5 5 3 5 5 2 5 4 3 3 5 2 1 2 5 4 3 5 3 2 1 2 4 3 5 4 3 3 1 1 3 4 2 2 1 1 1 1 4 5 3 1 4 4 1 1 4 2 1 2 3 2 1 2 5 4 1 3 5 2 5 2 5 3 1 1 5 1 5 1 3 1 3 2 3 2 1 5 4 3 3 1 2 5 5 4 2 1 3 2 3 5 4 5 5 4 3 2 5 1 2 2 5 3 1 3 2 5 4 5 2 5 5 4 4 2 3 4 5 4 5 5 2 4 1 4 1 3 4 5 1 3 1 3 5 4 3 3 4 5 3 4 3 5 5 4 3 3 4 2 4 4 2 3 2 3 4 5 3 3 3 5 1 1 3 2 5 4 2 3 1 5 4 1 3 3 5 1 4 4 3 2 1 4 2 1 5 1 3 4 5 1 4 1 3 1 1 5 5 4 4 4 5 5 2 4 1 2 1 4 3 1 1 1 2 5 5 4 1 2 5 5 4 2 4 2 4 2 1 3 3 3 2 2 4 4 4 2 1 1 3 5 4 4 3 1 1 5 3 2 3 4 1 2 3 3 1 2 1 3 4 2 4 2 1 2 1 4 1 4 4 2 1 2 5 2 3 1 4 5 2 3 3 3 3 1 1 5 5 4 5 1 3 4 5 2 3 4 2 3 1 3 4 2 5 4 5 2 2 4 4 5 1 4 3 4 3 1 4 4 4 5 4 3 3 2 3 3 3 1 1 4 5 4 4 3 1 3 2 5 1 4 4 4 5 1 3 5 2 3 2 4 3 1 2 5 3 2 1 5 4 2 1 5 2 3 2 2 3 1 2 5 4 5 5 1 5 4 5 4 2 4 1 5 2 5 4 2 3 1 5 2 4 3 4 5 4 5 2 2 2 2 5 3 1 4 5 3 3 5 4 4 5 3 1 1 3 1 4 3 4 4 5 4 4 1 5 3 2 5 4 2 4 2 3 1 1 4 5 5 1 1 1 1 5 5 3 4 5 5 5 1 5 3 2 4 4 3 4 5 4 4 5 2 2 3 2 5 5 4 5 1 3 4 2 5 2 1 5 2 1 1 5 1 2 1 1 2 5 1 1 5 3 2 2 1 3 2 1 3 2 3 1 5 5 4 4 1 3 2 4 2 4 4 5 2 5 1 3 1 5 5 2 3 5 3 4 5 3 5 4 5 3 5 3 2 5 2 1 4 2 2 1 5 3 2 1 5 3 4 2 3 3 4 3 5 3 3 2 4 1 1 2 4 5 5 1 5 4 5 5 1 1 5 3 2 4 5 2 5 2 1 2 1 2 3 2 5 1 4 4 4 5 2 2 2 5 5 5 4 4 1 4 3 5 1 3 4 2 3 2 2 4 1 1 3 4 4 2 5 2 4 3 3 2 2 3 3 1 4 5 3 1 1 1 4 5 1 2 2 4 1 5 2 5 4 2 5 2 1 5 5 3 2 5 3 5 3 1 1 2 3 3 2 1 5 3 1 5 5 4 5 3 2 3 1 5 2 5 2 3 5 1 3 2 3 3 4 5 3 1 2 3 2 2 5 3 4 5 5 5 1 3 4 2 2 1 5 2 3 5 5 2 1 3 5 2 5 5 1 1 2 3 5 1 4 5 1 5 1 2 4 1 3 4 5 3 2 3 3 2 5 5 5 3 5 5 4 3 3 5 5 3 1 5 3 1 5 3 5 2 5 1 5 4 5 1 1 5 2 1 3 5 4 2 5 3 1 1 4 1 3 3 2 5 5 2 4 1 4 5 4 5 4 2 2 1 5 5 5 1 4 3 1 1 1 2 1 5 4 2 4 1 1 3 4 3 2 2 3 4 1 4 5 5 1 1 4 4 3 4 1 2 4 4 4 2 5 5 3 5 1 1 5 4 3 3 4 1 1 5 2 2 1 2 5 2 4 3 5 2 5 2 5 1 1 1 3 5 4 3 1 3 4 1 2 5 2 2 1 2 4 5 5 4 5 1 4 5 2 2 3 5 1 3 4 2 3 1 3 4 3 3 2 3 3 1 5 3 3 3 3 1 4 4 3 4 2 3 3 1 2 2 1 2 1 4 2 3 2 2 2 2 4 3 4 1 1 4 3 2 5 2 5 5 4 2 3 3 4 5 2 2 3 1 3 1 3 5 1 2 5 3 3 5 5 2 1 4 4 3 2 5 3 4 4 5 1 3 5 5 4 2 1 2 2 5 4 4 4 3 4 3 2 3 3 2 2 2 5 2 2 5 5 3 3 3 4 2 2 1 2 4 1 4 3 1 5 4 5 4 1 2 2 1 3 5 5 2 2 4 3 5 4 4 4 2 4 2 2 2 3 4 3 1 1 3 3 5 2 2 2 4 3 2 3 1 5 1 2 3 1 2 1 2 4 4 2 3 5 5 5 4 5 3 4 4 4 5 5 4 3 1 4 3 2 4 5 3 5 3 2 4 1 1 4 2 2 1 1 3 5 2 4 1 2 4 3 4 1 1 2 2 1 1 3 2 1 1 5 2 3 5 4 5 5 3 4 1 1 5 1 1 1 2 1 4 4 3 3 5 4 5 2 1 1 2 1 2 1 2 2 5 2 3 1 3 1 1 1 1 5 4 3 2 3 4 5 5 1 5 2 5 5 5 4 2 1 2 2 2 3 1 3 1 5 3 1 1 1 1 3 1 4 3 5 5 1 5 1 3 2 5 2 4 5 3 2 4 5 2 5 5 3 3 4 1 5 3 5 1 1 5 4 4 1 1 2 3 4 4 1 1 5 2 3 4 4 3 1 3 5 4 4 1 4 4 1 1 3 4 2 5 2 4 3 3 3 1 2 2 3 3 1 2 5 3 2 1 4 5 5 3 4 3 4 4 1 4 4 1 1 5 3 5 3 4 5 4 3 2 2 2 1 4 3 4 3 5 1 2 1 2 2 2 4 1 2 5 2 5 2 3 4 1 2 4 5 1 5 1 1 3 2 2 4 5 4 3 4 5 1 4 3 3 4 4 1 5 1 1 1 4 3 2 2 3 3 4 5 5 5 2 1 5 5 1 4 5 3 3 5 3 2 5 1 3 2 1 5 2 4 2 4 2 4 3 3 3 3 5 4 4 4 1 5 5 4 3 3 2 3 1 3 2 5 4 2 1 5 2 3 1 2 4 4 4 3 2 5 3 2 2 2 5 1 1 5 1 5 5 2 2 1 4 5 1 1 5 2 4 3 3 3 4 5 3 3 1 3 2 4 1 5 5 3 3 1 5 5 3 3 3 3 5 4 5 3 4 1 4 2 3 1 1 3 5 1 2 1 1 1 2 5 3 5 2 5 1 3 2 2 1 4 3 5 3 4 3 3 4 2 4 5 1 1 2 3 3 3 3 3 4 2 5 5 3 5 2 3 3 3 1 3 4 5 3 2 2 5 5 4 2 5 4 3 5 3 4 3 4 4 5 3 3 5 5 3 2 2 3 5 5 3 1 5 2 3 4 2 3 2 3 1 4 1 1 1 2 4 2 1 2 4 2 4 1 4 3 2 5 4 4 1 2 5 2 3 4 1 4 3 4 1 1 4 4 4 1 2 4 4 5 3 5 1 2 1 4 3 1 5 1 5 2 3 2 2 4 4 4 4 4 2 3 3 3 5 4 1 2 2 2 4 3 1 2 1 2 2 5 4 2 4 3 5 2 2 4 5 2 1 3 1 1 4 4 4 4 3 1 3 1 1 3 4 4 3 1 5 4 1 3 1 1 5 1 5 4 5 2 4 1 5 4 4 5 1 4 5 3 5 4 1 4 5 4 5 2 4 2 3 5 1 4 1 1 1 2 3 4 1 2 1 2 2 3 3 2 4 1 3 2 3 5 4 3 4 3 5 5 2 5 5 3 2 2 1 4 1 4 2 5 4 3 4 1 3 5 5 2 3 3 3 5 2 1 3 3 1 1 4 2 2 1 2 5 4 2 5 5 1 3 2 5 2 5 3 4 4 5 3 3 3 4 3 2 5 5 3 5 2 2 1 4 1 1 1 5 4 3 3 2 5 1 5 1 1 2 1 1 4 2 4 3 1 5 3 2 5 5 4 2 5 4 3 3 1 2 3 5 2 1 3 3 2 4 4 5 3 3 4 3 4 3 5 3 4 3 2 4 3 4 3 4 1 3 5 5 3 5 2 4 5 5 1 5 4 2 1 1 4 4 2 3 2 3 2 1 2 1 5 1 2 2 4 5 5 2 3 1 1 1 3 4 2 2 4 3 3 5 3 2 4 5 2 4 4 4 4 1 2 2 2 1 2 2 2 2 5 2 2 5 1 3 3 2 1 4 5 3 1 4 2 2 5 2 3 3 3 2 3 5 3 3 2 5 3 1 2 2 2 4 3 4 3 3 2 3 4 4 4 2 1 3 4 3 3 4 3 1 5 3 1 3 4 3 1 2 2 3 2 5 2 4 5 2 1 2 4 3 4 4 5 1 3 2 5 4 1 2 3 3 2 4 2 5 2 2 2 1 3 4 1 5 1 5 2 2 1 5 5 4 1 2 5 4 2 1 1 3 4 3 3 2 1 3 3 3 5 5 2 2 3 2 5 3 3 2 4 2 2 1 4 1 5 5 1 1 3 4 3 5 5 1 5 5 3 4 4 2 4 1 4 3 5 1 5 5 2 3 4 3 1 1 1 3 3 5 3 4 5 2 2 1 2 4 5 1 5 3 4 3 2 5 5 1 5 5 5 3 4 1 1 3 1 3 3 5 1 5 3 3 3 2 2 3 2 5 4 1 1 3 4 2 4 5 3 1 3 5 4 1 5 4 1 2 4 3 5 2 4 4 4 4 5 1 4 3 3 3 4 2 1 5 3 1 5 1 5 1 1 4 2 3 5 5 3 5 4 4 2 5 3 1 3 3 2 3 3 2 4 2 4 4 2 4 3 1 1 1 2 2 1 4 4 1 2 4 5 4 4 1 2 3 2 3 5 5 1 2 2 3 3 4 5 2 1 2 4 3 5 2 3 3 1 4 5 5 5 4 1 1 3 5 1 2 1 3 3 3 5 5 1 5 4 4 2 2 2 2 3 4 5 4 3 3 5 3 2 5 1 1 4 1 1 5 5 4 4 3 5 5 1 2 2 1 1 2 5 5 5 1 2 1 3 2 4 3 1 5 5 1 5 4 4 3 5 5 4 1 4 5 5 1 5 3 5 2 4 4 1 3 3 3 5 5 4 4 1 4 5 5 2 3 5 2 4 3 2 5 2 3 5 5 3 3 1 5 5 2 3 2 5 1 5 5 4 1 5 2 1 3 4 2 4 1 3 2 2 5 3 5 1 1 1 4 3 3 3 4 3 1 3 5 1 1 1 3 4 5 4 4 2 1 1 2 4 2 4 1 3 4 4 1 1 4 1 4 3 1 5 3 5 2 1 4 4 1 4 2 4 5 3 1 2 5 4 2 4 3 1 4 5 4 5 1 3 4 3 1 2 5 3 5 3 4 1 1 2 1 4 3 5 5 2 3 1 5 2 2 1 5 1 5 5 5 2 1 2 3 2 1 1 3 5 2 4 1 3 1 4 5 4 2 4 4 5 4 1 4 4 5 5 2 5 2 1 5 1 4 5 4 3 1 5 2 4 1 4 1 5 5 2 1 4 2 3 2 3 2 5 5 2 3 5 1 2 3 4 5 2 3 4 1 2 1 5 3 2 2 3 5 4 3 5 2 2 5 3 3 2 2 1 2 2 4 2 5 5 2 1 4 3 5 2 2 2 1 3 5 5 4 5 4 2 2 3 1 4 3 3 4 5 3 2 5 2 2 1 5 4 3 4 1 4 4 2 5 3 1 4 4 5 5 5 3 4 4 3 1 4 4 1 3 3 5 1 2 2 1 1 3 4 5 3 3 5 3 4 3 3 2 2 3 2 3 3 1 4 3 2 4 3 4 2 1 2 3 3 1 3 2 3 4 3 3 2 3 1 5 5 3 4 5 3 1 3 1 1 1 4 1 3 1 1 1 3 1 2 1 4 3 3 4 5 2 3 1 1 3 5 1 5 5 4 1 5 1 5 3 4 5 1 1 5 4 4 2 1 1 4 4 5 1 1 4 4 4 3 4 1 4 4 2 2 5 1 4 4 3 5 2 5 1 2 1 4 1 4 3 1 1 1 5 2 4 4 5 2 3 5 5 5 1 2 4 1 2 4 1 1 3 5 5 5 4 1 3 2 4 5 5 3 5 3 1 1 1 4 3 3 4 5 1 1 3 5 5 4 3 5 3 1 2 2 5 2 5 2 5 1 2 3 1 4 1 1 5 4 3 3 1 2 2 5 2 5 4 3 1 4 3 5 1 1 4 1 3 1 1 1 2 3 5 1 2 1 5 5 5 5 5 3 2 2 4 2 1 5 5 4 2 3 1 2 1 5 2 2 5 5 5 3 5 2 3 3 5 5 3 2 2 3 2 1 2 1 2 4 4 5 1 4 3 1 5 3 2 4 4 3 2 3 3 5 4 2 5 4 2 3 3 3 5 3 2 2 2 5 1 4 1 3 5 4 4 4 4 2 2 5 1 4 5 4 2 2 5 4 4 3 2 4 2 2 5 3 4 2 4 4 5 2 4 5 3 3 3 5 1 5 4 4 4 2 5 2 5 3 4 3 1 1 1 5 1 2 5 2 1 3 3 2 4 3 2 2 4 5 4 1 2 1 2 3 4 5 2 3 3 4 1 5 4 4 1 1 5 3 1 4 4 5 2 1 3 4 4 1 1 5 4 1 2 5 3 1 3 3 5 4 3 5 1 3 4 3 4 2 3 1 3 4 5 3 3 2 4 4 1 1 5 1 3 4 5 3 4 5 2 2 4 3 5 2 5 3 3 2 2 3 2 2 4 3 2 2 5 2 4 1 2 2 5 2 2 1 3 5 3 3 5 5 4 2 1 4 1 1 2 1 5 5 5 4 1 2 4 4 3 1 2 4 4 1 4 3 2 2 3 1 1 2 3 4 2 1 5 1 3 4 1 5 1 1 3 2 1 2 1 5 2 1 3 1 4 1 2 3 2 2 1 1 2 4 1 2 3 5 2 3 2 4 4 4 1 5 4 2 3 1 5 4 3 5 3 3 1 3 2 2 2 5 4 2 2 2 1 1 4 4 2 1 3 5 2 3 1 2 1 4 1 2 4 2 3 4 5 2 3 5 1 4 4 4 2 5 4 4 2 5 3 3 2 3 1 5 2 4 4 1 1 4 1 3 4 3 3 5 5 3 3 5 5 4 1 3 5 1 4 2 1 3 4 1 2 3 4 4 1 1 5 1 4 5 2 1 3 1 2 1 2 2 5 1 4 5 5 2 3 4 4 4 5 1 3 4 4 4 5 2 4 1 5 3 5 5 3 2 1 5 3 3 2 5 5 3 3 1 3 1 3 4 3 2 2 3 3 2 1 1 2 3 1 3 1 3 5 2 3 3 2 2 1 5 3 1 4 3 3 5 1 4 2 2 5 4 3 1 2 2 1 4 2 4 3 2 4 2 3 5 2 2 1 4 4 3 3 2 1 3 2 2 5 1 5 3 5 4 1 3 4 2 2 4 2 2 1 4 1 3 5 3 3 4 3 5 5 5 2 2 3 3 4 3 1 2 1 3 4 3 1 1 4 5 1 4 2 4 1 2 2 5 1 2 1 2 4 1 5 5 1 4 1 4 3 3 5 5 4 2 3 2 3 1 2 3 1 4 1 2 3 4 3 1 3 4 4 3 3 5 2 3 2 3 3 1 1 3 5 1 4 1 3 1 2 1 1 4 3 2 2 1 5 2 2 3 4 4 3 5 5 1 2 4 2 5 3 2 5 3 3 5 4 1 5 5 5 5 1 3 3 5 2 3 5 3 4 5 5 4 1 3 5 1 5 4 5 1 1 2 5 4 1 4 1 4 4 5 5 5 1 3 3 2 1 3 3 2 1 4 1 3 5 5 3 4 4 1 4 4 1 2 4 4 3 1 1 5 5 4 3 5 2 2 2 1 3 2 1 5 4 3 4 1 2 1 1 2 4 5 5 5 3 5 5 4 1 1 2 2 4 5 5 3 4 1 4 1 3 4 4 1 2 5 3 1 2 1 4 3 3 2 5 2 1 3 4 4 1 5 1 1 3 3 3 3 4 3 2 2 2 1 3 3 5 3 3 3 2 1 5 2 3 4 1 5 3 5 3 5 2 5 2 3 1 5 4 5 5 5 2 5 4 5 3 2 2 2 3 3 4 1 3 4 4 2 3 4 1 2 1 1 1 2 1 5 4 2 2 3 2 2 4 2 1 4 1 4 3 4 1 2 3 5 2 4 4 1 2 4 3 3 1 3 5 4 1 2 5 5 4 1 3 4 5 2 3 1 3 4 5 2 3 2 3 3 1 2 3 5 5 3 5 2 5 5 2 4 2 4 3 5 2 2 5 2 2 5 1 3 3 5 4 4 1 3 4 1 5 1 1 1 2 4 5 1 3 1 4 1 1 1 5 4 3 2 2 3 5 2 3 3 1 1 3 5 2 1 5 1 5 5 4 1 1 4 2 1 4 5 1 4 2 1 1 1 3 3 2 2 1 1 4 4 5 1 1 4 1 1 4 1 2 3 2 4 2 3 2 3 3 3 5 3 5 4 3 3 2 5 4 1 2 5 1 3 5 3 5 5 4 3 1 3 3 5 2 4 1 5 5 3 4 5 4 4 5 4 5 2 1 5 3 3 5 2 3 1 1 4 1 1 1 4 2 3 3 4 2 3 4 2 5 2 3 3 5 3 5 3 4 2 4 1 5 1 5 3 3 4 4 1 5 1 1 2 1 3 5 2 5 2 1 1 3 4 4 4 4 4 1 2 1 5 2 2 5 1 5 3 5 4 2 2 1 2 4 3 1 5 2 2 2 4 2 3 2 2 5 1 5 2 3 5 4 3 1 5 5 5 1 1 3 4 3 3 3 5 5 2 3 1 3 5 4 4 3 1 1 4 4 5 1 3 4 2 2 1 1 2 4 5 1 3 1 3 5 4 3 5 4 5 3 1 5 1 5 5 5 3 3 2 1 2 5 1 3 3 5 5 2 2 4 3 1 4 4 3 4 1 1 3 4 2 4 5 4 4 4 1 3 3 5 3 4 3 4 5 2 3 1 2 2 5 3 5 3 4 4 2 4 2 4 3 2 3 1 5 3 2 4 1 3 2 2 4 3 1 1 1 5 5 4 5 2 4 4 1 4 4 2 5 5 1 4 2 2 1 2 4 4 1 5 2 4 3 3 5 2 1 3 3 2 3 1 2 2 3 1 2 4 2 3 5 4 5 5 4 4 3 2 1 5 1 1 1 1 2 3 4 1 5 1 3 5 5 2 5 1 3 5 3 5 4 1 4 3 5 4 2 5 5 5 2 4 3 4 2 3 5 3 2 5 3 5 5 3 5 2 3 1 3 2 4 1 4 4 5 3 3 2 2 4 2 1 3 5 3 1 1 2 1 3 3 4 2 4 1 3 3 3 3 4 4 1 5 4 5 1 5 5 2 4 4 5 3 1 1 2 5 5 2 3 4 5 5 1 4 3 5 3 5 5 2 4 5 2 4 1 5 5 1 2 2 2 1 5 1 5 1 2 1 3 2 5 4 3 5 1 5 1 2 1 4 2 3 3 5 1 2 5 3 5 1 1 5 4 1 2 1 2 1 2 5 4 1 3 2 1 2 1 4 4 4 5 3 4 1 3 1 3 4 1 1 5 3 4 1 2 4 4 5 1 4 5 5 3 2 2 4 5 2 5 1 1 3 1 1 5 2 5 2 3 5 4 4 2 4 4 4 2 2 1 1 1 3 5 3 4 1 5 3 4 4 2 3 4 5 1 3 5 1 4 4 2 2 2 4 5 2 1 1 4 5 4 3 5 5 4 4 2 2 1 3 1 3 2 4 1 4 4 1 1 1 2 5 1 1 3 3 3 4 4 4 1 4 4 4 1 1 4 4 3 4 1 5 2 5 1 3 1 4 2 1 2 5 5 1 5 2 4 4 3 4 3 4 2 3 3 4 1 4 2 1 5 4 3 4 1 1 2 3 2 4 5 3 3 2 4 3 4 3 1 3 3 1 4 5 1 5 1 5 3 1 1 2 4 5 2 3 4 2 4 4 1 2 1 5 1 5 1 1 2 1 2 3 1 2 3 1 3 5 3 5 3 3 5 1 5 3 4 5 4 5 5 4 5 2 2 4 1 4 1 3 5 5 1 5 3 5 4 4 4 3 4 1 3 4 5 1 3 3 4 2 1 2 3 2 5 4 1 1 5 1 5 1 1 1 4 2 1 3 5 4 4 5 3 5 1 1 5 4 2 1 1 4 2 2 1 2 4 5 5 4 4 4 1 3 3 1 2 5 3 4 3 1 2 2 5 4 5 1 1 5 3 2 4 1 3 2 3 3 3 2 2 5 1 1 3 4 5 4 5 3 4 3 1 5 1 5 5 1 2 2 3 3 1 3 1 1 3 2 2 1 1 3 5 3 4 4 5 5 3 1 1 3 1 2 4 2 4 1 2 3 4 2 4 4 1 5 3 5 4 1 5 3 3 2 3 5 3 3 4 5 1 4 1 3 3 3 2 5 5 3 3 3 5 1 1 3 2 1 2 2 1 1 1 2 4 1 5 1 1 5 5 3 4 1 3 3 5 3 2 3 5 3 1 1 4 2 4 5 4 1 1 3 2 1 2 3 4 4 3 2 5 4 4 3 3 5 3 3 4 5 3 1 5 1 4 2 2 1 4 5 3 3 3 1 4 2 2 4 3 1 4 3 4 2 3 2 1 5 5 2 3 1 4 1 5 1 4 4 3 1 5 2 4 5 2 1 2 1 5 2 4 2 3 2 1 4 2 2 5 5 5 1 5 1 3 3 5 3 4 4 1 4 5 4 5 3 1 3 1 1 3 4 4 2 3 5 1 3 5 3 2 4 1 2 4 1 3 4 3 5 1 3 1 1 4 5 2 5 4 5 3 5 3 1 4 4 4 2 4 1 5 1 1 4 4 2 4 1 1 3 3 5 5 2 2 1 1 5 3 3 3 1 1 3 3 2 1 1 1 3 2 2 4 5 1 2 4 2 1 3 5 5 5 5 2 1 3 2 5 2 1 3 2 3 4 1 4 1 5 3 3 4 2 4 1 2 4 5 4 1 4 5 5 3 1 1 3 4 1 2 5 5 1 3 4 5 2 3 3 4 3 3 5 1 1 5 1 5 1 2 2 1 1 2 4 3 2 4 3 3 1 4 1 2 5 3 5 4 5 1 3 1 2 3 5 4 5 3 3 1 4 3 3 5 2 2 4 5 2 5 1 4 1 4 5 5 3 2 4 4 5 2 3 2 2 2 2 4 3 3 1 4 4 5 4 1 3 3 2 1 5 5 2 5 2 1 2 1 4 4 1 5 3 3 1 4 1 2 3 1 2 2 4 4 2 4 1 5 4 3 5 1 4 3 4 1 5 2 3 5 3 3 3 1 5 1 5 1 5 5 1 3 2 5 5 2 1 5 3 1 2 2 2 2 4 5 3 5 3 5 1 5 1 4 2 1 4 4 3 5 4 1 3 5 3 4 3 3 3 3 4 2 5 3 1 2 5 4 4 5 4 4 4 2 3 3 5 3 5 1 3 1 3 4 4 2 2 4 1 1 1 5 2 1 1 3 5 1 4 5 3 1 1 4 2 2 2 3 4 5 5 4 5 1 1 1 5 4 5 4 5 4 5 5 4 5 2 4 4 2 3 4 4 5 3 4 5 3 2 2 1 2 4 3 5 1 5 2 3 4 5 4 1 3 5 5 5 3 1 1 4 5 3 2 1 4 4 5 2 1 4 2 1 3 5 2 5 1 3 5 1 1 5 3 2 2 4 1 1 3 2 1 3 4 4 4 5 5 4 2 1 4 2 5 3 5 5 5 1 1 1 2 2 5 2 5 2 4 5 1 4 1 3 4 3 5 5 1 1 4 4 3 5 1 4 4 3 4 4 1 4 3 4 3 1 2 4 2 2 3 2 3 1 1 4 4 3 1 1 2 3 2 4 1 3 3 5 5 4 4 3 3 4 1 4 2 3 2 5 4 5 3 5 2 2 5 2 5 3 2 4 2 3 1 5 5 2 2 5 4 5 3 4 2 1 2 2 4 3 5 4 4 4 5 1 4 2 5 5 3 3 4 2 4 4 3 1 1 3 5 1 3 2 4 2 4 1 2 3 4 4 3 1 4 4 1 3 5 4 4 1 1 3 5 2 3 5 3 2 3 1 1 2 3 5 5 2 4 1 3 2 1 4 2 4 5 2 5 1 4 2 3 4 5 1 1 2 3 5 3 4 3 2 1 5 3 1 2 4 3 5 4 5 2 3 2 2 2 1 3 4 5 1 4 2 2 4 3 2 3 3 5 2 5 5 2 4 5 1 4 5 5 4 1 3 2 2 2 5 1 4 1 2 4 3 2 1 3 3 4 3 3 4 2 4 4 4 2 3 1 3 2 1 4 4 3 1 4 3 2 4 2 2 4 5 2 2 4 3 3 3 5 4 3 5 1 5 1 3 4 4 1 2 5 5 4 2 4 2 2 4 5 2 1 5 5 1 3 4 3 3 2 5 3 3 1 1 5 2 2 2 2 1 1 2 2 1 1 4 3 2 4 4 3 2 1 3 5 5 1 2 2 2 3 4 4 3 2 2 3 1 1 3 5 1 5 1 4 2 1 5 1 3 1 3 2 3 2 2 2 3 1 5 5 2 5 5 2 1 5 4 2 5 3 2 2 1 5 1 5 2 2 5 2 1 4 2 3 3 5 2 3 4 1 2 3 4 3 1 3 2 2 1 1 1 3 2 1 1 4 2 2 5 4 1 2 1 5 5 4 4 2 4 1 4 1 5 5 5 4 4 3 4 5 5 5 3 3 3 5 4 1 3 1 4 2 3 3 2 5 5 4 3 5 5 4 5 2 3 3 5 2 4 2 5 4 4 2 4 1 2 1 1 4 1 1 1 5 1 2 4 3 4 5 2 3 5 5 3 1 5 1 1 4 1 5 5 1 4 3 1 4 3 2 4 1 2 4 3 5 3 4 3 5 1 5 2 5 1 3 3 5 2 4 4 5 5 1 4 1 2 3 1 3 4 5 2 5 2 4 3 2 3 3 3 4 1 2 3 5 2 1 1 4 5 3 5 3 2 4 3 2 3 1 4 1 3 3 1 4 3 5 4 5 2 2 3 4 1 3 5 2 1 3 5 1 4 5 3 5 1 5 4 1 1 3 2 2 3 3 2 5 2 5 5 1 3 1 1 1 4 5 5 4 4 2 4 3 3 5 3 4 4 5 4 4 2 2 3 5 1 3 1 1 2 3 5 2 3 2 4 3 2 3 1 4 4 2 2 1 3 4 4 3 2 3 5 5 1 4 4 1 3 3 5 5 5 3 2 4 3 4 5 5 4 2 1 4 2 4 2 2 3 1 1 2 3 2 4 2 3 3 3 3 5 1 5 4 4 5 3 1 4 1 4 5 5 2 4 5 3 1 3 4 4 4 5 2 2 5 4 5 3 2 2 5 5 1 3 4 4 5 5 5 3 4 5 1 5 4 2 2 5 4 1 5 3 2 2 1 2 3 5 1 2 3 5 3 2 2 3 1 5 4 4 5 1 2 5 3 5 5 5 4 3 1 3 5 3 4 5 4 2 4 2 1 4 3 4 1 4 4 4 3 5 2 1 4 5 2 5 4 2 5 1 3 2 5 4 4 5 5 2 4 2 1 5 3 3 4 5 3 2 4 3 5 1 3 1 2 5 1 1 2 2 5 2 3 4 3 3 1 1 5 4 1 4 5 2 4 1 2 2 4 3 5 4 5 4 5 1 2 3 1 4 3 2 3 3 2 1 3 5 4 4 1 2 2 2 4 2 2 4 4 1 2 4 3 1 3 2 4 3 4 1 3 1 5 3 1 5 4 4 2 5 2 2 3 1 2 2 4 5 1 1 5 4 1 3 5 4 5 1 1 4 2 5 4 2 4 5 5 2 2 1 1 5 5 4 2 2 2 4 5 3 3 5 2 1 2 2 4 5 5 1 5 3 1 1 3 2 3 4 2 1 4 3 5 1 4 4 5 1 5 5 4 5 3 3 5 3 3 5 5 3 1 4 3 1 1 2 5 3 2 5 1 5 2 1 2 5 1 4 2 5 5 2 2 2 1 3 1 2 5 3 3 5 2 3 4 4 2 5 1 4 1 1 5 1 5 4 5 4 3 3 5 5 3 4 4 1 5 1 5 2 5 5 5 2 5 5 4 4 5 1 5 4 3 4 2 3 3 2 2 5 5 1 2 3 3 2 3 3 3 3 3 4 5 4 1 5 5 4 2 2 4 3 1 1 3 4 2 4 1 2 2 2 1 3 3 1 3 1 5 3 3 1 3 4 5 2 1 4 1 3 5 4 1 4 1 2 1 2 2 5 5 4 1 1 5 4 3 4 5 1 1 3 5 4 1 4 5 1 3 3 1 3 3 3 1 1 4 4 4 3 5 3 4 3 2 2 5 1 3 2 4 1 3 4 2 5 3 3 2 3 3 2 1 1 3 3 4 4 1 4 3 1 2 1 3 4 2 5 5 2 2 5 1 5 3 4 2 4 2 1 5 1 3 3 3 3 4 5 1 4 3 1 4 5 5 5 3 3 5 3 5 2 5 3 3 2 2 3 1 1 3 1 3 1 2 5 1 1 3 3 2 4 1 3 4 5 4 4 4 1 3 4 2 4 2 1 1 3 2 4 2 1 4 5 2 4 3 3 2 3 1 2 4 3 4 3 2 4 4 5 1 5 4 2 3 5 4 4 4 4 3 3 1 2 4 3 1 5 2 4 3 2 1 5 1 5 5 4 1 1 1 1 4 5 3 5 1 4 1 1 2 3 1 3 3 3 1 2 2 2 4 5 5 4 4 4 2 3 1 5 4 4 4 3 1 3 1 2 3 2 5 4 2 4 3 5 3 1 3 5 3 3 3 4 1 1 3 4 5 1 3 2 2 1 2 5 5 3 2 1 1 1 5 5 4 4 2 2 2 5 4 1 1 4 4 5 2 3 4 4 4 3 1 3 4 4 2 2 4 3 3 5 3 1 1 5 4 5 3 5 2 4 1 5 4 2 5 3 2 4 5 3 4 2 2 5 3 1 4 5 5 1 5 1 3 3 3 3 1 1 2 1 2 1 2 1 4 3 2 3 5 2 5 5 2 3 2 1 1 1 5 5 5 2 5 3 3 5 5 3 3 2 4 1 2 3 1 1 5 4 5 2 3 5 4 5 5 5 3 3 4 1 2 5 5 3 2 4 3 3 1 4 4 2 2 1 2 2 3 4 1 2 4 2 3 3 5 5 4 3 5 3 3 3 5 1 2 4 5 3 4 2 2 4 5 1 2 3 2 3 5 2 4 1 3 2 1 5 2 3 1 5 2 3 2 1 3 3 1 1 5 1 4 3 3 1 4 4 1 4 3 4 1 2 2 4 3 5 2 2 3 3 4 4 1 2 1 4 4 2 4 3 3 1 5 2 1 2 2 5 2 3 4 3 3 1 1 2 3 1 3 2 2 3 4 4 4 4 1 3 4 1 3 2 5 2 1 5 3 2 2 2 1 5 3 3 4 4 4 2 1 1 1 4 3 1 5 2 2 3 2 3 1 4 2 5 1 4 4 3 2 5 4 4 2 3 1 2 3 5 5 2 1 2 3 5 3 5 4 3 3 4 1 2 1 5 1 1 2 4 4 1 1 3 4 2 5 3 2 3 3 5 3 5 4 4 2 5 2 4 2 4 3 5 1 5 4 5 5 3 2 5 5 4 3 5 5 3 5 5 2 4 2 2 1 5 5 1 4 5 5 4 5 5 5 5 2 5 4 5 3 4 2 2 1 4 2 1 1 4 1 4 2 3 4 3 2 1 3 5 4 1 3 4 2 4 3 1 5 3 1 5 4 3 3 3 4 3 2 1 3 2 2 1 5 4 4 2 2 2 3 3 4 5 4 2 5 5 2 2 5 1 1 1 1 4 3 3 2 1 1 3 2 1 3 5 3 4 2 4 5 4 3 5 1 2 1 2 2 2 4 5 4 2 3 5 3 5 4 5 4 3 2 5 1 5 5 4 1 5 2 4 3 2 3 3 1 3 3 3 2 1 3 5 5 3 4 5 1 3 4 2 4 1 2 5 4 3 4 1 2 2 4 4 4 1 3 3 5 2 5 5 4 1 1 5 5 3 3 3 1 2 4 5 3 2 1 5 3 1 1 1 1 3 5 2 4 5 1 2 5 3 4 4 5 5 5 3 5 4 5 2 4 3 3 4 2 1 5 1 3 5 4 4 2 2 2 4 3 1 3 3 3 3 1 1 1 4 4 4 5 5 4 1 3 2 2 3 2 2 5 2 5 4 3 1 2 5 2 5 3 1 4 3 4 2 1 2 1 3 5 5 3 4 1 1 5 1 3 5 1 5 2 4 4 1 3 1 5 1 5 2 5 3 4 1 4 3 5 3 3 4 5 1 5 1 2 5 3 3 4 5 3 3 3 5 2 2 5 3 3 5 2 1 4 2 1 4 2 2 5 2 1 5 1 2 1 3 2 4 2 1 3 1 5 1 3 1 5 2 4 4 1 1 2 4 2 2 2 3 2 4 3 5 5 2 4 5 1 4 1 1 5 3 1 1 3 2 3 4 4 5 3 3 1 3 2 4 3 3 1 5 1 2 2 3 2 1 4 5 4 4 3 5 4 3 4 4 1 1 4 2 4 5 2 2 3 1 1 5 5 5 1 2 3 2 1 3 3 4 5 3 4 4 4 1 1 4 3 1 2 3 2 1 5 1 4 3 5 5 5 5 4 4 3 5 3 4 2 5 5 2 3 4 4 2 3 4 5 3 2 5 1 3 4 4 5 4 1 4 1 5 1 4 4 1 2 2 4 3 5 1 1 5 2 3 4 4 2 2 2 1 4 3 1 2 2 2 2 2 5 3 2 5 5 4 1 3 1 4 4 1 4 5 3 2 5 1 2 2 4 4 4 3 1 4 3 2 3 1 5 1 4 5 4 3 1 4 2 1 2 5 2 2 5 3 1 3 1 4 3 4 1 5 4 5 5 3 3 1 5 4 3 5 4 4 2 1 4 3 5 1 1 3 5 1 4 4 3 3 2 4 5 5 2 3 1 3 5 5 5 2 2 3 3 4 4 1 2 2 1 5 2 4 2 3 2 5 3 5 4 4 3 2 1 4 5 5 2 5 2 4 5 2 5 2 3 1 4 1 3 5 2 2 3 1 4 1 2 3 1 1 2 2 2 3 2 4 1 1 2 3 3 4 2 3 4 5 4 1 5 4 5 5 4 5 3 2 5 2 2 5 5 1 4 1 5 5 3 4 5 5 4 4 2 4 5 4 2 3 2 2 3 2 3 3 3 1 3 4 4 5 1 5 5 5 3 3 2 3 2 1 5 3 4 1 1 4 4 2 2 4 2 2 4 5 5 1 2 4 4 2 1 4 1 3 2 3 4 5 4 2 3 3 1 3 4 2 5 4 3 3 4 4 4 4 4 1 3 5 1 5 5 1 2 2 4 5 1 5 5 1 5 2 1 1 3 3 3 5 1 1 2 2 5 5 4 1 1 1 3 3 5 5 4 3 1 2 4 2 4 1 1 1 1 1 2 5 3 4 5 1 3 2 4 4 5 2 1 1 3 1 4 2 2 1 1 5 2 3 3 5 4 2 2 5 1 1 2 4 5 5 4 2 3 1 3 2 3 2 1 4 1 2 2 4 5 3 4 5 3 1 4 1 3 4 5 1 4 2 3 5 2 5 1 4 4 1 3 3 1 1 4 4 4 4 2 4 2 3 5 5 2 1 4 5 5 2 3 3 1 3 5 1 2 1 4 3 1 1 5 2 2 2 5 1 3 5 5 5 1 2 4 2 5 5 1 2 4 3 3 2 4 1 5 3 2 2 5 1 3 4 4 2 1 4 5 1 1 4 3 1 4 4 5 3 1 2 5 3 3 4 4 3 2 1 5 1 5 4 4 4 3 4 3 3 5 1 5 1 5 3 3 5 1 2 2 2 1 1 2 4 3 2 2 4 1 4 3 3 3 1 2 3 4 5 1 5 4 5 2 3 3 5 4 3 1 4 1 2 3 1 1 4 3 4 4 4 3 5 4 5 5 2 3 5 5 4 2 2 4 1 2 1 2 4 4 5 4 5 1 4 2 3 2 4 2 2 4 1 2 3 1 2 5 4 3 2 5 2 4 4 3 5 2 3 4 5 3 4 5 2 1 1 1 5 3 4 4 4 5 2 3 2 4 4 1 3 3 4 4 5 4 2 2 2 2 4 5 4 4 1 4 4 5 3 2 1 4 1 2 3 1 2 3 2 3 2 4 1 1 4 3 3 3 1 1 1 2 5 1 4 3 1 1 3 3 4 5 5 5 5 4 5 4 3 4 2 2 5 3 3 3 2 4 2 5 3 5 5 5 3 3 5 4 2 1 3 4 3 4 1 4 2 5 2 2 2 5 1 3 1 3 3 3 4 4 5 2 5 2 5 3 2 1 4 5 3 3 1 2 5 4 4 5 1 5 1 1 3 5 5 2 1 4 3 3 2 2 1 1 2 3 2 4 4 2 3 1 2 4 2 1 3 4 1 3 5 2 5 4 1 1 2 5 1 2 2 2 1 5 3 2 4 3 5 4 4 5 3 5 1 2 5 1 5 5 5 2 5 3 3 2 2 2 4 3 4 3 1 3 4 2 1 4 2 2 5 1 3 2 1 4 1 5 2 3 1 2 2 3 2 3 1 1 3 3 5 3 4 4 5 2 1 3 3 5 3 5 2 4 1 4 3 2 3 1 4 2 1 1 2 4 3 5 2 2 1 3 5 2 1 1 3 2 4 4 4 3 1 2 1 4 2 2 2 5 3 2 3 2 2 4 1 5 1 2 3 1 2 2 4 5 2 2 2 1 1 5 4 1 1 5 1 4 1 2 4 4 4 5 1 5 3 1 5 5 5 1 1 3 3 3 5 4 2 3 3 1 1 5 5 4 3 5 4 3 1 4 3 3 5 2 2 2 2 1 4 5 1 5 1 5 1 5 5 4 2 4 4 2 2 5 1 1 1 5 3 1 5 4 1 1 4 4 1 2 1 2 2 2 4 3 4 2 4 2 3 4 3 5 2 4 3 4 5 2 2 2 2 1 5 3 5 1 3 3 4 1 3 3 5 5 5 3 4 3 2 4 5 3 2 2 2 2 3 4 5 3 1 2 4 4 1 4 4 5 2 2 1 2 2 2 1 1 2 5 1 3 3 3 2 4 4 2 3 3 4 2 3 2 5 4 4 1 2 4 3 5 5 2 5 3 4 4 4 3 2 1 4 1 4 4 5 3 2 2 3 3 1 2 5 5 4 1 2 2 1 5 5 4 1 4 3 3 1 3 4 2 4 1 3 3 2 5 2 4 3 5 4 3 5 1 3 2 1 5 4 1 3 5 2 2 1 1 3 2 2 1 3 3 2 1 3 5 5 4 1 1 1 2 4 1 4 4 1 3 5 2 1 3 4 2 1 2 3 4 4 1 1 4 5 5 3 5 5 3 5 5 5 1 2 5 1 3 1 2 5 5 1 4 1 2 1 1 1 5 2 1 1 3 3 1 5 3 2 1 4 3 4 1 5 3 5 5 1 5 1 4 5 5 2 3 2 4 4 5 3 2 3 1 5 5 2 1 4 3 5 5 4 5 5 2 5 4 2 2 2 3 5 4 5 4 2 4 3 3 1 2 3 3 1 4 2 4 4 4 5 5 5 5 1 5 5 2 5 1 4 2 3 1 3 1 5 3 4 1 4 3 5 1 3 4 4 3 5 5 4 4 4 2 1 3 2 1 4 3 3 4 2 1 2 2 1 5 5 2 2 4 3 5 5 3 1 1 2 1 2 5 4 5 3 4 2 4 2 5 5 3 4 5 4 3 3 4 1 5 3 1 3 1 2 3 5 1 4 2 4 1 3 4 4 5 1 5 2 2 3 2 1 4 3 1 4 3 1 1 1 3 5 1 4 3 1 5 4 2 3 5 1 3 5 4 1 5 1 4 5 2 2 1 4 3 4 3 3 5 2 3 4 1 4 3 4 4 2 5 4 1 1 1 4 4 4 5 2 4 2 4 3 2 1 2 3 1 2 3 1 3 3 5 3 2 1 5 4 1 5 1 1 5 3 2 1 3 3 4 5 3 5 3 2 1 3 4 5 1 3 5 3 5 1 4 5 5 3 2 2 4 1 1 3 5 5 3 4 2 5 5 3 3 4 2 1 5 3 3 4 2 2 3 2 5 3 1 1 3 4 3 3 4 1 4 3 2 5 2 3 5 4 4 3 5 1 3 2 5 4 5 1 2 5 2 3 4 1 1 3 5 1 1 3 1 2 1 2 4 1 2 5 3 2 4 1 1 5 1 2 2 2 4 2 3 2 5 5 4 1 2 3 3 4 1 2 1 4 3 1 2 3 3 5 1 5 2 3 4 1 1 4 4 1 4 5 3 2 2 2 5 1 1 5 5 1 3 1 1 2 4 2 3 4 2 5 1 5 5 5 4 2 4 3 2 3 1 4 1 2 3 2 3 5 3 1 3 1 5 3 2 2 2 5 4 1 1 1 1 3 3 2 2 4 1 3 1 3 3 1 4 2 1 1 5 1 2 4 4 4 5 2 5 1 2 5 5 3 3 3 2 4 5 1 4 5 4 2 4 3 2 3 4 3 2 4 3 2 5 5 3 1 3 3 2 5 4 5 2 2 5 5 4 3 5 3 5 1 5 5 4 1 3 3 5 1 1 5 1 1 2 5 3 1 1 5 4 4 1 2 5 3 5 5 1 4 3 5 4 1 5 4 3 4 5 2 2 4 5 1 4 2 5 4 3 2 2 1 2 2 3 5 3 4 3 5 3 2 3 3 3 2 3 2 4 5 4 1 5 1 1 5 2 2 2 4 5 3 3 2 5 1 4 2 1 5 2 5 4 2 5 4 2 4 3 4 4 3 3 2 2 5 2 1 1 4 5 4 3 1 3 1 3 4 5 1 3 5 1 5 1 5 4 3 5 1 1 3 1 3 4 5 5 2 2 4 5 5 5 2 3 1 5 3 5 5 4 2 5 4 4 5 5 2 3 5 1 4 5 3 3 1 4 3 2 3 2 2 5 1 1 5 4 3 2 5 5 3 2 4 5 1 1 2 4 4 5 4 4 1 1 2 2 4 5 1 1 3 4 5 4 1 3 3 5 1 5 4 1 1 5 2 1 5 1 3 4 5 2 1 3 1 3 1 3 5 3 1 4 1 3 2 3 5 2 5 4 4 3 5 3 1 5 4 4 5 1 2 2 2 3 2 4 3 4 2 3 5 4 4 3 3 1 5 2 3 3 3 5 2 4 1 3 4 1 2 4 5 4 4 1 5 5 2 3 4 5 3 3 5 2 4 5 1 2 2 2 5 1 4 2 1 1 4 5 3 4 5 5 2 1 5 3 5 3 3 4 3 5 3 3 1 3 3 2 4 2 5 5 3 4 2 5 3 5 2 4 5 5 2 1 4 1 1 4 5 1 5 1 4 5 2 4 1 2 5 3 3 2 4 5 4 4 2 3 2 1 1 4 5 2 1 5 5 3 1 5 1 3 2 3 2 5 4 5 4 3 2 1 3 4 3 1 1 3 5 5 2 5 1 2 2 2 3 3 5 3 3 2 1 3 1 4 3 3 5 5 3 2 2 3 4 1 3 5 4 2 3 2 2 4 4 5 1 5 4 4 5 5 2 3 3 1 4 2 4 1 2 1 4 5 1 4 5 2 5 4 5 3 4 5 5 4 1 4 2 3 5 2 4 5 4 4 2 5 4 2 5 3 3 5 5 2 2 3 1 2 1 5 4 3 4 5 3 4 5 2 2 1 4 3 4 5 5 4 5 3 5 4 4 2 4 3 3 1 3 1 2 4 5 3 1 5 5 4 4 4 4 1 2 3 3 3 1 1 1 3 1 5 2 5 3 5 4 5 1 3 4 3 5 4 4 4 4 4 1 1 5 4 5 1 5 3 2 5 3 4 3 3 3 2 5 3 5 2 4 5 5 4 3 3 5 3 3 2 2 1 1 1 3 5 4 5 2 5 3 3 1 5 2 1 1 2 1 2 3 2 5 3 3 2 3 1 2 4 1 5 3 4 1 5 1 5 4 3 4 5 3 5 2 1 3 3 2 3 5 1 2 5 3 1 1 2 4 5 2 1 5 5 3 5 1 5 3 3 3 1 5 1 4 5 4 1 1 2 1 2 4 3 1 5 3 2 2 2 3 5 2 4 4 1 3 1 5 3 3 3 3 4 4 3 3 5 4 5 2 4 5 4 2 2 1 1 1 2 4 5 4 3 1 3 1 5 3 2 3 5 5 3 2 5 4 3 1 5 3 5 5 5 3 3 4 4 5 2 1 1 3 3 1 5 4 5 4 2 2 5 1 5 4 2 4 2 1 1 5 2 3 4 4 5 4 5 5 3 4 5 1 2 3 5 1 2 3 2 2 2 4 3 1 3 1 3 3 3 2 3 5 3 4 3 3 1 4 1 3 5 4 1 3 3 3 1 3 4 2 4 1 3 5 2 4 5 1 3 1 2 2 5 4 5 3 4 1 2 5 4 2 4 5 4 2 1 5 2 2 3 5 5 2 1 2 5 5 1 2 4 5 5 4 5 5 5 2 4 2 3 3 5 1 3 2 4 5 3 4 1 1 4 2 1 5 5 1 3 4 4 3 5 3 4 4 3 4 2 4 4 1 5 3 5 4 5 1 1 1 5 2 4 1 5 5 4 3 3 1 3 2 5 4 2 1 2 5 2 4 3 5 5 4 3 4 1 3 5 4 5 2 3 1 2 4 5 5 3 2 4 5 3 5 4 5 1 3 3 3 3 2 4 4 5 2 1 3 2 4 5 2 2 1 2 5 1 4 1 1 3 2 5 1 4 3 4 1 1 5 5 3 3 2 1 5 5 1 4 1 3 3 3 4 2 3 3 1 2 4 3 4 1 3 1 3 1 3 1 4 2 3 5 2 5 2 3 5 5 1 1 2 3 2 4 2 2 5 5 2 3 5 3 2 2 5 3 1 3 3 4 1 4 5 3 2 5 4 3 2 2 5 5 3 1 4 2 1 3 1 1 5 4 1 4 5 5 1 5 1 2 5 1 3 4 2 5 4 1 2 3 4 4 2 1 2 4 4 3 1 2 2 2 1 3 4 1 5 5 3 5 3 3 2 2 4 4 2 1 1 4 4 1 2 2 4 1 1 2 4 2 1 4 3 5 2 3 2 1 1 1 1 1 5 5 1 2 4 5 4 2 2 3 5 2 1 2 4 5 5 3 4 1 1 3 5 1 3 5 2 1 1 5 3 5 5 3 3 3 3 5 5 2 3 5 1 5 2 5 5 4 1 3 3 4 5 1 4 1 3 2 2 2 3 1 3 4 4 5 2 1 3 4 1 1 3 3 4 4 2 3 4 3 2 1 5 4 3 1 2 2 3 3 3 1 4 4 2 2 2 2 3 1 4 5 3 4 1 2 2 3 3 2 1 5 4 4 5 4 5 1 5 3 1 4 1 1 5 4 2 1 4 1 3 3 4 4 4 1 2 2 4 3 1 3 4 4 5 1 3 4 3 1 4 1 1 3 1 2 5 1 2 5 2 5 5 2 2 1 2 5 3 1 3 3 1 2 3 3 3 5 3 2 2 4 3 1 2 3 1 5 3 4 1 1 4 2 5 4 3 1 5 3 3 3 2 2 1 2 4 2 2 3 4 1 3 3 3 1 5 3 4 3 3 5 4 3 2 3 5 5 4 3 5 3 5 1 1 2 1 4 1 2 1 5 1 5 3 2 1 1 3 5 4 1 1 3 4 2 1 5 3 3 5 5 2 1 4 1 4 3 1 5 3 5 3 3 4 3 4 4 5 5 5 5 4 1 4 5 4 4 1 5 5 5 1 3 5 3 2 5 3 3 5 4 3 3 2 4 5 1 3 4 2 5 5 3 4 2 3 1 1 5 4 1 2 2 3 5 1 1 5 5 5 4 1 2 4 5 4 3 3 5 4 1 1 1 5 3 5 4 3 1 5 1 5 1 3 5 2 5 5 1 4 3 2 3 2 5 1 1 1 3 1 1 3 3 4 1 5 2 4 5 3 5 1 5 5 2 5 3 1 2 5 3 5 1 1 4 3 1 1 5 5 1 5 4 1 3 4 5 4 1 5 1 3 4 2 4 2 3 1 1 5 4 5 5 3 3 1 3 2 2 3 2 1 2 5 2 4 1 3 5 1 3 2 2 4 2 2 5 3 3 2 5 1 2 5 1 4 4 3 4 4 1 5 1 1 1 3 5 4 1 3 4 3 2 3 3 1 2 2 5 3 3 1 4 5 5 5 4 2 1 5 5 3 3 4 1 1 4 3 3 3 2 5 2 3 2 4 2 5 5 5 1 1 5 4 5 5 4 5 3 4 5 4 2 1 4 5 3 4 2 1 2 2 2 2 3 3 3 5 4 2 1 2 5 3 5 4 2 5 3 4 4 3 2 1 1 1 4 2 5 2 3 3 4 2 5 5 5 2 2 2 3 1 4 5 3 1 4 4 2 3 1 4 3 2 5 3 4 1 3 1 1 3 5 2 1 4 3 2 4 2 3 2 1 3 2 4 4 5 4 2 2 5 5 1 4 2 5 2 5 2 2 2 5 4 3 5 5 5 2 3 4 5 1 4 2 1 1 5 2 3 2 1 1 3 3 3 1 5 5 2 4 4 2 5 4 4 4 4 2 4 3 4 5 2 4 4 4 5 4 2 5 5 2 5 3 2 5 3 5 1 2 4 4 4 4 4 4 1 3 5 3 2 2 5 1 4 1 2 1 1 4 5 3 5 2 4 4 2 1 4 3 4 2 5 5 3 5 1 4 1 2 1 4 3 4 2 5 1 1 2 1 5 5 1 2 3 4 5 4 1 2 4 4 5 3 3 3 5 2 3 4 5 1 5 2 5 3 3 2 2 3 3 4 3 2 1 4 2 2 1 5 4 1 5 4 2 3 5 1 1 4 4 3 4 1 1 3 4 4 4 5 2 3 4 4 5 5 3 2 1 4 3 3 1 1 3 5 1 4 3 4 3 4 4 2 1 3 2 1 3 1 2 5 1 2 1 4 1 4 4 4 1 2 1 3 4 1 5 4 5 3 3 4 5 1 1 2 3 2 2 1 1 2 4 3 3 1 2 3 1 1 3 5 4 3 4 2 1 4 2 4 1 4 1 3 4 1 4 5 5 2 2 5 3 5 2 2 3 3 4 1 5 2 1 5 3 4 2 4 3 4 1 2 5 1 1 5 1 2 5 1 3 3 4 3 5 4 1 4 2 5 4 4 3 3 1 4 5 5 5 4 3 4 1 5 5 2 3 4 3 3 2 3 2 4 1 1 4 1 2 3 2 4 2 2 2 4 2 1 4 2 2 4 1 3 1 4 1 2 3 5 3 5 5 1 2 1 2 4 5 5 5 2 3 3 4 3 2 1 5 1 3 4 2 5 1 3 5 2 1 1 4 2 1 2 5 2 1 4 1 3 4 4 4 1 1 2 5 1 4 1 1 4 2 4 4 4 1 3 5 4 5 5 2 4 3 1 2 5 2 1 2 3 2 5 1 4 5 3 5 2 1 1 5 2 5 5 5 2 4 3 3 4 2 5 4 5 5 4 3 3 1 5 5 5 2 1 3 3 1 3 3 1 4 1 2 1 4 1 1 4 4 5 4 1 2 5 1 2 4 2 1 1 3 5 1 1 3 2 5 2 2 4 3 3 4 3 4 5 3 3 1 3 4 1 5 4 5 1 1 3 5 4 3 4 3 5 3 2 5 4 5 4 2 1 2 2 3 3 1 2 3 5 3 2 1 5 3 5 1 5 1 4 3 5 4 5 2 3 3 2 1 4 5 2 1 4 5 4 5 1 4 2 4 1 5 4 3 4 1 5 2 2 3 3 4 4 2 5 3 1 3 3 3 4 3 1 5 3 4 1 3 2 5 2 3 5 2 3 5 1 4 3 5 3 2 1 1 4 1 2 3 3 3 2 2 2 1 1 3 5 4 1 4 4 4 1 1 5 4 4 3 4 1 2 5 3 5 3 1 4 5 3 1 2 2 3 3 4 4 2 5 1 4 3 1 1 5 5 2 1 3 1 3 2 4 3 4 1 1 5 2 1 1 4 2 1 1 4 4 1 3 1 1 4 2 3 2 5 3 3 3 3 2 4 2 4 2 4 5 2 1 1 3 4 4 3 3 2 2 4 5 3 3 4 1 2 4 3 5 2 1 1 5 3 1 5 5 3 2 5 1 5 1 4 2 5 3 3 4 2 3 2 5 5 1 3 1 4 1 1 3 3 5 3 4 3 4 1 4 4 2 3 2 1 2 2 4 4 5 5 3 1 3 1 4 5 4 3 4 3 1 2 4 1 3 5 4 4 1 4 2 5 1 5 3 3 3 5 5 5 1 5 1 3 4 1 2 2 2 5 5 5 5 2 3 4 4 3 4 5 5 4 4 3 2 1 1 2 2 1 4 4 3 2 4 3 4 4 5 1 1 3 4 1 3 5 5 3 4 1 3 2 3 2 2 4 4 3 4 4 1 1 4 2 3 5 4 1 2 5 3 5 3 4 3 1 3 5 5 5 1 4 2 4 2 3 2 3 3 3 4 5 1 4 1 5 3 4 4 1 1 5 2 3 2 2 5 3 4 5 5 1 2 1 5 2 1 5 1 5 2 4 2 1 5 3 2 3 5 5 3 3 3 1 1 5 2 4 2 2 4 4 2 4 2 2 2 1 3 1 4 1 5 3 3 1 2 2 5 5 4 5 1 4 5 1 1 1 2 3 4 1 5 4 4 1 3 2 3 3 1 3 3 4 3 5 5 3 2 4 3 4 5 5 2 2 4 4 2 4 3 2 1 5 1 2 2 2 2 1 1 2 3 4 4 1 3 1 2 4 4 5 5 3 3 2 2 2 5 2 4 2 3 4 3 5 2 4 5 4 3 2 3 2 2 3 3 3 2 2 5 4 4 4 5 3 2 2 2 3 2 2 1 3 4 2 5 3 5 5 1 5 1 3 2 1 4 5 5 5 5 1 2 1 5 2 1 5 4 3 2 3 3 2 2 2 4 1 5 4 3 5 5 5 1 2 4 5 1 1 2 2 3 2 5 4 2 3 3 5 3 4 1 2 5 4 1 4 3 3 2 2 1 2 1 1 5 5 4 3 2 3 1 4 2 3 4 3 3 4 2 1 3 5 2 2 5 3 3 4 5 4 2 3 5 1 3 2 3 4 3 2 1 5 3 1 2 1 4 5 3 4 5 4 2 2 4 4 5 4 2 5 4 2 2 2 5 3 2 4 4 3 4 1 2 3 2 4 4 4 5 2 1 3 4 4 1 1 5 4 1 3 3 1 2 3 1 2 4 5 1 3 5 1 5 2 4 2 5 2 1 4 1 3 2 5 2 4 2 4 1 4 3 4 4 3 4 4 1 3 4 1 2 1 4 5 5 1 5 1 5 3 4 1 3 4 2 2 3 1 2 4 4 4 1 4 4 2 1 4 4 1 1 1 3 2 5 4 4 2 1 1 5 4 5 5 4 5 1 5 4 5 5 4 3 5 4 1 1 1 4 2 2 3 5 3 1 4 1 1 1 4 3 5 1 3 2 1 2 4 2 4 5 2 5 5 3 1 4 3 5 5 1 3 1 5 1 2 2 4 2 3 2 5 5 4 4 4 1 1 2 2 1 4 3 4 1 2 5 5 5 2 5 3 2 5 2 4 1 4 4 2 4 5 5 1 5 2 2 3 4 3 2 5 2 1 4 4 4 5 4 5 3 1 4 1 3 1 1 5 2 5 4 4 3 3 1 2 2 4 4 3 4 1 1 2 3 2 5 4 1 2 1 2 1 1 2 4 4 2 1 1 2 5 5 5 2 3 2 2 1 4 5 2 3 3 4 3 3 2 2 2 2 2 1 4 5 5 3 5 4 2 4 3 3 4 1 1 4 3 5 4 4 4 5 1 5 5 2 5 5 3 2 5 5 2 4 4 1 4 4 4 2 4 1 2 2 1 3 1 3 4 5 3 2 2 3 4 4 4 2 3 3 1 1 3 3 5 1 1 3 2 1 5 5 4 1 5 2 4 1 5 5 1 1 2 2 1 5 3 4 3 2 1 1 1 1 2 4 1 2 2 2 1 2 5 3 3 4 2 2 5 1 3 5 4 1 4 3 4 4 5 4 2 2 2 2 2 1 5 2 5 1 3 3 3 3 1 1 1 2 5 2 5 3 3 1 4 2 4 2 2 4 1 1 3 4 4 1 2 2 5 2 5 2 5 4 3 1 1 2 1 2 2 4 4 2 3 5 1 3 5 1 1 3 2 2 1 2 4 5 2 1 2 4 5 3 4 1 4 1 5 5 3 2 4 2 4 5 1 5 2 5 5 5 5 2 4 4 3 5 5 2 3 1 4 2 2 3 3 3 5 1 5 1 5 2 3 2 5 1 3 3 1 4 4 5 2 5 1 3 3 4 5 4 2 2 5 5 5 2 2 2 1 2 1 1 1 3 2 3 1 3 1 5 3 1 1 5 2 2 4 5 5 1 1 5 3 5 2 3 2 3 3 1 4 1 4 1 3 5 3 5 5 2 5 2 3 1 3 4 1 4 5 5 1 4 3 2 4 1 4 5 2 1 3 2 5 5 1 2 4 4 2 3 1 1 2 4 1 3 1 4 5 4 2 5 1 5 2 1 4 2 3 4 5 3 2 3 2 4 4 4 1 5 1 2 4 2 2 5 4 3 2 3 5 4 2 3 5 3 5 2 2 1 3 3 4 3 5 3 1 5 4 1 1 1 5 3 5 5 2 1 5 5 5 2 1 1 1 5 5 4 1 5 3 4 3 1 1 1 5 5 4 2 4 4 4 1 2 4 4 2 3 5 3 2 2 5 3 5 5 3 1 2 2 2 3 5 3 5 2 5 3 2 5 2 1 2 1 5 1 3 2 3 3 1 1 2 1 3 3 3 3 5 5 4 3 2 5 3 2 2 3 1 5 1 5 3 5 5 4 2 4 4 4 2 1 5 2 1 5 4 4 2 2 3 1 5 1 2 1 2 4 3 4 3 4 4 5 4 1 2 5 2 4 3 4 1 4 5 4 1 3 5 3 5 5 4 3 1 1 3 4 5 1 2 3 4 5 2 1 4 3 4 3 3 2 5 2 3 5 1 4 3 3 4 2 2 3 5 2 3 5 4 3 1 1 2 5 5 5 4 2 5 5 5 1 4 1 3 5 2 3 2 4 2 3 4 1 4 5 5 2 1 5 4 2 5 4 4 2 4 5 1 3 1 5 2 4 5 1 3 5 3 1 1 5 5 4 3 4 5 5 2 4 4 2 2 5 5 5 5 5 5 4 3 4 1 3 4 3 1 1 5 5 3 4 3 3 2 4 2 4 2 4 5 4 5 1 1 5 3 1 5 3 1 5 4 2 4 3 4 5 3 5 4 4 2 2 3 4 2 3 3 5 5 3 4 4 3 3 3 3 5 4 3 3 5 3 5 4 3 2 5 1 4 2 4 2 1 2 5 2 5 1 5 2 3 3 5 5 1 4 2 3 1 1 3 2 1 1 2 5 3 3 5 1 5 1 5 5 1 2 3 2 4 4 1 5 2 3 4 1 1 1 5 4 4 2 4 2 3 4 2 4 2 1 5 5 5 5 4 5 5 1 3 5 1 3 5 1 3 5 2 3 5 3 3 3 3 1 2 2 4 2 3 5 4 2 5 2 3 5 1 1 1 1 3 3 4 5 4 2 2 4 4 3 5 3 1 2 5 1 5 5 5 3 3 2 5 4 1 1 2 5 5 4 1 4 3 5 3 4 3 1 5 4 5 1 1 1 4 5 2 5 2 3 4 3 1 3 3 3 1 2 4 3 1 2 4 5 4 5 2 4 4 3 1 1 2 5 1 1 1 4 2 4 1 2 1 4 1 5 5 3 3 4 1 3 2 5 1 1 2 3 1 4 4 3 1 1 1 4 2 5 1 2 2 5 4 3 3 3 1 1 2 1 5 5 1 3 1 1 1 2 4 4 4 4 2 2 1 2 3 2 5 3 1 4 3 4 3 4 3 2 5 3 4 2 3 3 4 2 2 2 4 1 5 1 1 1 1 3 2 5 2 4 5 1 1 3 4 2 5 4 4 5 4 2 5 2 3 3 3 4 1 2 5 3 5 2 5 1 3 5 1 2 5 1 3 1 3 5 2 3 5 4 2 4 1 4 5 3 3 3 5 5 3 5 1 3 4 4 3 1 2 3 1 2 5 3 2 1 1 3 2 3 3 5 1 1 4 4 1 3 4 5 4 2 3 1 3 4 4 5 1 5 1 3 1 4 2 1 5 1 4 1 3 2 3 1 2 1 1 4 1 3 3 4 1 3 5 5 3 3 4 1 5 4 2 5 2 1 2 3 4 1 5 1 2 3 1 5 2 2 1 3 1 1 3 3 1 4 5 3 2 2 1 2 4 3 5 1 4 2 3 5 4 2 3 1 4 2 4 2 1 1 1 4 1 4 4 1 3 4 1 1 4 1 1 3 1 5 4 2 3 5 2 1 2 2 2 2 2 5 2 1 1 4 2 5 2 3 3 3 4 5 2 1 1 1 5 1 3 1 2 1 1 5 3 2 5 2 4 4 1 1 2 3 3 3 3 4 4 4 4 2 2 2 3 4 2 3 1 2 2 4 5 5 1 3 5 2 5 1 3 4 2 3 3 1 2 5 5 3 5 4 2 1 1 3 4 3 2 3 4 3 2 4 2 1 2 2 1 2 3 2 2 2 2 4 2 2 4 5 4 5 3 2 4 4 4 1 2 3 2 1 5 3 5 2 4 2 5 1 3 4 4 2 5 2 4 4 4 5 4 2 3 2 5 1 1 2 2 4 2 5 1 2 4 5 5 1 2 1 1 5 3 2 2 5 2 1 1 5 3 5 2 2 1 4 2 2 2 1 4 4 5 5 3 2 4 5 3 3 1 3 1 4 4 1 2 2 2 3 3 2 4 1 3 1 1 4 1 1 1 4 4 2 2 4 4 5 5 1 1 1 4 1 4 3 4 1 4 2 5 5 4 5 3 1 5 1 4 5 3 4 5 3 1 3 2 3 1 5 3 5 4 4 5 4 1 1 2 4 3 5 4 5 3 1 2 1 4 1 1 2 3 4 4 4 2 2 2 4 3 1 2 3 1 2 1 4 2 1 4 2 1 4 3 4 2 4 3 2 4 3 4 2 5 2 3 5 4 3 4 4 4 2 4 2 5 5 4 3 2 1 3 5 5 4 4 3 2 3 3 3 5 5 4 5 1 1 1 4 2 5 5 2 2 4 1 3 2 1 4 3 1 4 4 2 4 1 1 4 2 1 3 1 3 1 4 2 3 5 1 4 3 2 2 3 2 3 3 2 2 4 2 5 2 4 2 3 3 1 1 5 2 4 2 3 4 1 4 5 1 5 3 3 2 2 4 1 3 3 3 5 3 1 3 5 3 5 2 2 2 1 3 5 4 4 1 5 5 2 4 4 4 1 2 3 5 5 4 3 1 1 2 2 2 5 5 3 2 2 3 3 5 3 4 1 4 5 3 4 4 1 4 5 3 5 1 1 5 1 1 2 1 2 5 5 5 4 3 2 3 1 4 4 5 1 2 5 3 3 2 3 2 1 3 1 5 3 3 2 1 5 4 2 2 2 3 1 2 4 2 5 4 5 2 2 2 5 1 5 4 4 4 1 2 1 5 3 3 3 1 3 3 4 2 5 1 4 1 4 4 4 5 1 2 4 1 1 4 1 4 1 1 1 2 4 5 3 2 3 3 3 5 2 1 5 1 1 5 1 3 4 4 3 2 4 2 3 1 2 1 4 4 1 1 3 4 3 5 4 4 5 5 2 5 5 2 2 1 3 2 5 1 2 4 2 2 3 4 5 4 2 5 2 3 3 3 5 3 4 2 3 3 5 1 3 2 3 4 3 3 1 4 4 1 4 2 3 3 5 2 3 2 4 5 3 4 5 2 5 3 2 4 2 2 2 2 4 5 3 3 4 2 5 5 3 1 4 1 1 3 4 4 3 3 5 2 3 3 1 3 4 2 2 1 5 3 1 1 5 3 4 5 4 3 4 2 4 4 4 2 4 5 4 3 1 1 2 4 1 1 4 3 4 5 1 4 5 2 2 2 4 3 4 3 2 1 1 4 1 4 4 2 1 2 3 1 5 2 3 2 5 2 1 2 4 5 5 1 1 3 5 4 1 4 2 5 2 2 1 1 1 2 1 2 5 4 2 5 5 3 4 2 1 3 5 5 5 2 2 5 1 4 2 4 1 5 1 5 3 4 3 2 4 4 5 5 5 5 5 1 3 2 4 5 1 1 2 1 5 2 2 1 3 3 5 5 1 5 3 1 1 3 2 3 2 3 2 2 3 1 4 2 5 4 5 2 5 2 1 1 2 5 1 3 3 5 2 2 2 3 4 1 1 1 5 3 2 5 5 5 1 3 1 2 1 1 5 2 3 2 3 3 3 4 3 3 2 3 2 2 4 1 1 4 4 4 4 2 1 1 1 5 3 4 4 1 4 4 1 3 5 1 1 3 5 2 3 5 3 1 4 2 1 3 5 1 4 5 4 5 4 3 4 4 1 4 3 2 5 5 2 4 1 1 2 1 3 1 1 3 4 2 3 3 2 4 5 1 2 5 5 5 2 2 1 5 3 1 5 4 4 1 4 5 3 2 5 4 3 4 2 4 5 1 4 1 2 2 2 5 1 2 4 1 4 5 1 2 2 3 2 4 2 5 4 4 1 1 2 5 2 2 5 3 1 5 3 2 1 3 4 5 4 5 5 1 2 5 4 2 1 2 5 2 4 4 2 3 4 5 4 3 3 4 2 3 1 3 5 3 5 2 1 3 1 5 4 4 3 2 5 1 5 1 4 1 2 3 1 4 2 3 4 3 1 5 3 3 5 4 5 5 2 5 1 1 2 5 1 1 3 4 2 4 5 5 4 1 5 5 3 1 5 1 5 3 3 3 5 3 2 5 4 4 3 2 2 1 2 5 2 3 3 2 4 3 4 2 5 4 1 3 2 5 5 5 2 2 1 4 5 2 5 1 5 3 5 4 5 3 3 5 3 4 1 1 5 2 3 2 4 3 1 4 5 3 2 3 1 4 3 5 5 5 1 2 3 4 1 3 3 3 3 4 2 5 4 1 4 1 2 2 2 3 5 1 2 1 5 5 2 3 3 4 2 2 5 2 4 3 4 4 3 2 3 4 2 4 4 1 4 4 1 5 3 2 3 2 1 3 1 4 3 3 3 4 2 5 1 3 3 1 3 5 2 5 2 5 2 4 2 2 2 2 3 3 1 1 3 5 5 4 4 3 1 1 4 4 2 4 5 4 2 4 2 2 3 4 3 4 1 4 4 5 4 4 5 3 2 2 5 3 4 2 3 3 4 5 3 2 1 4 1 3 3 5 5 2 5 3 4 5 1 4 5 4 1 4 2 5 5 3 1 5 4 5 4 1 1 1 2 2 4 2 2 4 5 5 1 4 5 1 2 5 3 2 5 4 2 5 1 1 4 2 5 1 1 5 1 5 1 2 3 2 1 5 1 4 1 5 1 1 3 3 1 3 5 1 3 1 1 1 4 2 1 3 4 4 2 1 3 3 4 1 2 3 5 4 4 3 3 5 5 1 2 3 3 4 5 5 3 1 5 2 2 2 1 4 3 4 1 5 1 3 5 5 1 5 1 5 2 5 2 3 4 2 5 1 1 3 4 4 3 2 1 1 1 1 2 2 4 4 2 2 3 2 4 4 1 4 4 5 3 3 1 4 5 2 4 1 5 2 3 2 1 3 3 5 1 1 2 2 3 1 2 3 1 2 4 3 1 4 1 4 2 2 4 2 1 5 2 5 2 1 4 2 5 5 3 4 1 2 5 4 2 4 3 1 4 3 4 5 1 5 3 4 3 2 4 1 5 1 4 5 3 2 1 2 1 4 2 3 2 5 2 1 1 3 2 2 3 2 3 2 1 2 4 1 4 1 2 3 4 3 5 4 3 4 3 3 2 5 4 4 5 5 3 4 1 3 2 1 1 2 1 1 1 5 1 2 1 4 5 3 3 5 1 3 2 3 2 3 3 2 1 3 3 5 1 5 5 1 1 5 4 4 3 5 5 1 1 2 1 5 5 2 5 1 2 1 4 1 5 4 4 5 4 3 3 3 4 3 1 1 1 2 5 1 1 4 3 4 4 4 2 2 4 2 1 1 1 3 2 2 3 3 5 5 3 5 3 5 1 5 1 2 2 1 3 3 2 3 4 3 3 5 1 3 5 5 3 3 2 1 1 5 1 2 1 4 3 3 5 5 4 3 5 2 3 4 4 3 5 1 1 4 2 3 3 2 4 1 5 3 5 4 5 4 2 2 3 5 1 3 4 5 4 2 2 2 2 4 2 4 5 3 1 2 2 4 1 3 1 3 2 5 4 2 5 4 5 1 1 3 3 1 4 2 2 5 4 4 3 3 2 3 5 5 2 2 5 2 3 3 4 2 5 3 4 4 3 4 4 4 2 2 5 5 2 5 4 1 4 3 5 4 5 3 3 2 2 3 1 4 4 2 2 4 3 5 5 1 2 2 1 1 1 5 3 3 5 3 2 3 4 2 5 4 1 2 1 2 2 1 2 5 5 1 2 2 5 1 2 4 3 2 5 1 1 5 3 2 2 3 5 1 2 4 4 1 3 5 2 1 3 2 3 1 1 5 4 1 5 3 4 4 2 1 4 2 5 5 2 2 1 1 4 3 4 1 2 1 2 2 4 4 4 3 4 2 2 1 1 3 2 3 3 2 1 1 5 4 2 4 5 3 3 3 4 3 4 1 2 3 1 2 4 4 4 5 2 5 1 3 4 5 4 1 3 5 1 5 4 4 4 4 2 4 3 5 4 1 2 1 4 4 3 5 2 3 2 5 1 5 3 3 4 4 1 4 1 1 4 1 5 3 1 1 5 4 4 5 3 5 1 4 1 1 1 5 5 1 3 2 5 3 2 3 2 1 3 2 5 5 2 1 1 4 3 4 2 5 2 1 1 5 4 2 2 5 5 2 3 3 4 4 1 5 4 2 3 2 1 3 3 5 4 4 3 5 4 4 2 2 5 4 4 4 4 4 3 3 2 1 5 2 1 4 3 4 4 5 5 1 5 5 2 1 4 2 2 1 1 4 2 4 4 4 1 3 3 5 4 1 4 3 2 5 4 4 1 3 3 2 5 1 1 5 5 2 5 5 1 5 2 5 2 5 3 5 1 1 4 1 1 5 4 1 2 2 2 2 2 2 1 4 2 5 4 3 2 5 5 2 3 5 1 2 1 4 4 4 4 1 2 3 4 1 3 2 2 3 5 4 4 1 2 4 1 3 1 3 5 2 4 1 2 4 3 4 5 5 5 1 1 3 2 2 5 3 2 3 3 4 1 3 5 3 2 3 5 4 2 4 1 2 3 1 1 1 2 3 5 2 4 4 4 1 3 5 2 1 4 1 2 1 4 4 3 2 2 1 4 3 2 3 1 3 5 1 1 2 2 1 2 5 4 4 2 2 4 3 1 4 4 4 4 5 3 2 1 3 1 3 4 5 4 3 4 2 5 1 3 5 5 1 4 4 1 5 5 2 4 2 2 4 5 3 2 5 4 4 3 3 1 2 4 2 3 5 1 2 1 1 5 5 5 2 2 5 2 4 2 2 1 5 3 4 5 1 1 4 4 4 4 5 5 1 1 4 5 4 5 1 5 2 1 1 3 2 3 3 5 3 3 4 2 1 1 1 2 4 3 4 5 5 2 2 3 2 4 1 4 1 4 5 2 3 4 4 5 1 4 4 4 2 1 4 3 5 1 3 4 1 5 1 1 5 1 5 2 3 5 1 3 2 4 3 2 2 2 1 4 4 2 5 2 5 2 1 2 1 1 4 4 3 1 3 5 2 2 3 1 3 4 5 5 4 5 5 1 1 1 3 3 3 5 3 3 3 4 3 3 2 5 4 5 4 5 2 4 3 2 5 2 5 3 3 4 4 3 2 3 5 1 3 5 2 3 3 5 5 1 3 4 3 3 1 5 3 4 2 4 3 3 2 2 3 2 2 4 1 1 5 3 3 2 5 3 4 4 3 1 5 3 4 3 1 1 5 1 4 1 3 4 4 3 3 1 1 2 5 4 2 2 2 4 2 5 3 4 1 1 2 4 3 1 4 4 1 2 3 5 3 2 4 4 4 1 5 5 4 2 2 1 3 1 1 3 3 2 5 3 4 3 1 3 4 1 5 2 5 4 3 5 2 4 5 2 3 3 3 2 3 5 5 3 5 5 4 5 3 3 1 1 5 5 3 3 2 5 3 4 4 1 2 3 1 2 2 5 1 2 4 3 5 5 5 3 4 4 2 2 2 3 2 2 2 1 2 2 3 3 4 1 4 1 2 5 2 3 1 1 5 4 3 1 2 2 2 2 1 4 1 4 5 3 2 4 3 5 4 4 4 4 4 2 4 1 1 4 2 2 1 1 5 5 4 3 4 4 5 1 5 5 4 2 4 3 1 1 3 2 3 5 3 2 1 3 3 3 3 1 1 2 5 1 4 3 5 5 2 2 4 1 2 4 3 5 3 2 3 2 3 1 4 4 5 3 5 2 2 2 4 2 5 2 1 2 1 5 5 2 2 2 3 1 5 2 2 1 5 1 1 5 1 5 2 1 4 1 4 5 4 1 4 2 2 2 5 5 4 5 3 4 5 2 1 1 5 1 1 2 2 3 4 2 5 4 1 4 1 2 5 4 3 4 2 4 5 4 3 1 4 4 5 5 1 5 4 3 3 3 1 1 1 1 4 2 5 3 2 1 4 4 5 1 1 3 3 5 3 2 5 5 2 2 2 3 3 4 3 5 5 1 5 2 3 4 1 3 3 3 2 1 1 1 4 4 4 5 5 2 4 5 4 3 1 1 5 5 2 3 2 4 1 2 3 4 5 2 5 5 3 2 4 3 1 2 3 1 5 1 1 5 3 1 3 2 5 5 4 1 1 1 4 5 2 2 5 2 1 4 2 5 4 5 5 1 2 3 3 3 2 3 1 5 2 2 2 1 4 1 4 4 5 2 4 1 1 1 5 2 5 1 1 4 2 1 3 2 4 3 1 5 5 2 2 1 3 3 2 1 2 3 3 4 4 1 2 2 5 1 4 3 1 4 3 1 2 2 1 4 5 5 3 5 3 4 3 2 4 4 4 5 2 5 3 3 2 3 1 2 1 1 5 4 4 3 3 4 5 2 2 4 2 2 4 2 3 1 3 3 3 4 2 3 5 3 1 3 4 4 2 4 2 2 5 1 5 1 4 4 4 3 3 3 3 2 1 1 3 1 4 2 5 2 2 2 3 1 5 1 5 2 4 4 2 3 3 3 4 2 4 5 4 1 5 4 3 5 2 2 4 2 5 1 1 4 5 1 3 4 2 4 5 1 5 1 3 2 1 3 5 4 3 5 2 3 4 2 4 4 4 1 3 1 4 3 3 1 3 4 2 5 2 4 2 3 5 5 3 4 2 2 4 3 5 3 3 1 2 2 3 3 3 4 3 5 2 4 5 3 1 4 4 3 5 1 2 3 5 5 1 5 3 2 2 5 3 1 3 3 5 1 2 1 1 2 2 5 4 3 4 1 5 1 1 1 4 4 4 2 5 1 1 2 5 3 3 2 5 5 2 3 4 5 2 2 5 4 1 2 2 2 5 4 2 1 3 4 3 1 4 4 1 2 3 1 3 1 3 2 4 5 3 5 5 5 4 4 5 4 1 4 3 1 4 4 2 4 3 2 2 3 2 5 3 5 1 1 4 5 3 5 5 2 2 3 2 1 2 5 5 2 1 4 4 4 3 3 5 1 3 4 5 4 1 4 3 2 3 1 2 5 5 1 5 5 5 2 1 2 3 4 5 2 1 5 3 1 5 3 1 4 3 2 2 3 4 1 5 2 1 4 5 3 2 4 4 4 3 2 3 1 2 5 2 4 3 2 5 5 2 2 4 5 3 1 1 2 2 5 5 2 2 1 1 4 5 1 4 5 2 4 5 5 2 2 2 5 1 5 1 2 1 4 5 1 1 2 3 2 2 1 3 4 1 3 1 4 1 3 3 5 3 5 4 4 5 5 3 1 1 4 1 1 4 5 3 3 1 4 5 4 3 3 5 4 2 2 3 4 1 5 3 2 4 5 1 4 1 5 5 2 3 3 5 3 1 3 3 5 4 4 4 2 4 2 3 5 3 4 2 5 4 5 5 4 4 2 2 4 2 5 5 5 5 2 3 1 1 4 2 5 5 2 2 2 5 2 4 1 1 1 4 5 4 3 5 4 2 4 2 4 5 1 3 3 5 1 2 3 1 5 4 4 5 4 3 3 1 4 5 3 4 2 3 3 2 4 5 4 3 1 3 1 3 3 5 1 4 5 5 1 4 1 1 1 1 1 5 2 2 4 4 2 2 3 3 4 2 1 3 5 3 5 4 2 1 5 5 5 4 3 5 3 4 5 2 3 1 4 2 1 1 4 3 5 1 5 3 5 1 5 5 2 2 2 1 4 5 5 5 1 3 1 2 5 3 2 5 3 5 3 5 5 4 5 2 4 2 1 4 5 2 5 5 5 1 4 3 1 3 1 2 5 2 1 4 4 2 1 4 4 3 4 5 2 3 5 5 4 5 4 1 4 3 3 2 4 2 3 3 4 2 1 2 4 5 5 5 1 1 1 1 2 5 5 3 5 4 2 1 2 4 1 4 5 2 1 2 3 1 5 1 4 5 5 5 4 5 3 4 5 3 2 1 4 1 4 5 1 1 5 2 2 1 5 2 2 2 5 3 3 4 5 3 2 4 5 1 5 3 3 3 1 2 1 4 3 3 4 4 4 5 2 2 3 1 5 4 4 1 5 3 2 1 2 1 4 3 4 3 4 3 5 3 4 4 1 3 2 2 5 5 3 2 1 4 2 3 3 4 5 4 2 4 3 3 4 2 4 3 3 4 4 1 3 2 4 2 5 3 2 2 4 3 3 5 3 5 4 5 5 3 2 3 4 2 4 1 1 4 4 3 3 2 3 4 3 2 3 4 4 3 4 1 2 4 5 3 2 4 4 2 2 5 5 3 2 2 2 1 1 5 4 4 2 2 3 5 4 4 2 4 4 4 1 5 3 1 2 3 1 5 3 5 4 5 1 1 2 1 2 1 3 3 2 3 5 4 3 1 5 4 2 1 4 1 2 5 4 2 4 4 2 4 1 3 3 1 5 5 1 4 5 3 5 5 3 2 3 3 2 5 1 4 3 2 2 4 1 2 2 2 3 2 1 2 1 1 4 5 2 1 5 5 3 2 3 2 3 4 4 5 1 3 1 2 4 4 5 4 2 4 4 4 3 4 5 1 1 2 3 3 1 5 3 4 4 5 1 3 5 5 2 3 4 4 5 1 4 5 4 2 1 5 5 3 4 1 4 4 2 2 1 1 3 2 4 3 2 5 2 2 4 2 3 2 4 2 2 5 5 2 5 3 4 5 1 5 2 3 4 4 2 4 4 4 4 2 3 2 1 5 5 4 3 3 1 5 4 2 5 3 4 4 4 4 1 1 2 4 2 4 5 1 2 5 2 1 4 2 2 2 5 2 4 3 1 2 5 2 5 1 3 4 5 2 3 3 1 1 5 1 1 3 1 3 3 3 1 5 2 1 5 4 5 1 5 5 5 4 5 3 2 4 5 4 3 1 2 4 4 4 1 4 1 1 1 3 1 1 1 2 3 1 4 5 4 2 5 2 5 5 5 2 4 1 2 1 4 4 1 3 1 5 3 4 1 3 2 5 2 4 4 2 5 5 4 5 3 1 2 5 4 4 2 4 1 2 3 5 4 3 3 5 3 1 4 2 1 3 5 1 2 4 1 5 3 2 4 5 5 4 5 3 3 3 4 4 4 2 5 4 5 1 1 1 2 3 4 1 5 4 2 3 1 4 3 2 3 1 2 4 2 4 2 3 1 5 2 1 3 3 5 2 3 3 2 2 4 3 3 5 4 1 1 3 2 4 1 3 4 4 1 5 1 3 1 1 4 2 4 4 3 5 4 4 4 1 2 2 1 5 2 2 2 2 3 2 4 2 1 4 4 5 2 4 3 1 2 1 5 3 3 2 2 1 3 3 3 4 3 1 3 1 1 3 4 3 3 2 4 5 5 2 3 4 1 1 3 3 2 3 4 1 3 5 4 5 2 5 2 1 4 4 1 3 3 2 5 4 2 5 1 3 2 5 3 4 2 2 4 4 4 3 2 2 5 1 4 3 3 2 5 2 5 3 2 5 4 3 2 2 4 4 4 3 1 5 2 4 1 2 4 1 5 4 4 5 2 3 3 2 3 3 3 5 1 3 2 2 1 2 2 3 3 3 4 3 4 4 1 5 3 1 3 4 3 4 1 5 1 3 3 1 1 4 4 5 3 5 4 5 2 5 1 1 5 1 4 2 4 5 3 2 1 2 2 5 3 2 5 5 1 4 4 5 2 1 2 1 2 5 4 4 2 4 4 3 5 4 3 2 5 4 4 3 3 3 5 3 1 1 2 3 4 1 1 5 3 5 2 5 4 5 2 5 2 2 5 3 1 2 4 3 1 2 2 3 2 3 3 2 3 4 2 4 5 5 4 4 3 5 3 1 3 2 3 5 2 4 3 5 1 4 1 5 3 3 5 5 5 2 2 5 3 5 1 1 5 1 2 2 1 2 3 4 5 2 1 2 2 4 3 4 4 5 1 3 2 5 4 3 2 4 3 1 5 1 1 1 1 5 2 2 1 5 4 5 3 1 5 1 1 3 2 1 4 3 4 5 4 3 5 4 5 2 5 5 1 3 3 4 1 2 2 2 5 3 2 4 5 5 3 2 5 4 3 4 2 3 1 2 3 3 2 2 1 2 3 5 5 3 2 5 5 4 5 2 3 4 2 5 5 2 1 4 5 5 1 5 4 4 5 4 4 2 1 3 1 5 2 1 2 2 1 1 4 1 1 4 2 1 1 2 2 2 1 4 1 3 4 1 1 3 2 2 2 1 2 5 4 4 3 3 1 2 1 3 3 2 4 1 1 1 3 1 2 4 2 1 5 2 4 1 1 2 2 1 3 2 3 4 5 4 2 2 1 4 4 1 2 4 2 1 3 1 3 2 2 4 4 3 2 2 5 3 5 3 4 1 1 3 4 1 3 1 5 3 4 5 1 1 2 4 5 1 1 3 3 4 5 1 4 5 2 1 1 5 3 5 5 3 2 2 4 5 2 5 3 2 1 5 4 5 4 5 4 4 2 1 3 5 2 4 2 1 2 2 5 5 1 4 1 5 3 1 4 1 3 2 1 4 3 5 4 1 5 5 2 4 3 4 1 4 2 2 2 1 2 4 3 1 5 2 3 3 2 2 4 4 2 4 4 5 4 1 1 3 5 1 3 5 1 2 4 3 4 3 2 3 4 2 3 2 2 5 5 1 3 2 2 1 3 1 3 2 4 5 2 4 4 4 5 4 5 4 3 5 3 2 1 5 3 5 5 5 4 5 4 1 2 2 1 1 2 3 1 1 4 2 5 5 5 4 1 2 3 1 5 4 4 1 5 4 1 2 4 2 4 5 2 3 2 1 4 5 3 2 5 3 2 5 5 4 4 3 4 5 3 1 4 5 5 4 5 1 2 4 5 4 3 5 5 5 1 3 2 3 5 4 4 2 3 4 3 3 2 2 4 2 2 2 1 2 5 3 1 5 5 1 5 5 1 1 5 1 1 4 1 1 3 2 4 4 2 2 5 3 2 4 2 4 3 5 2 4 4 4 2 3 4 1 4 2 1 3 5 2 5 3 3 4 3 4 5 3 5 4 5 4 3 2 2 4 2 5 2 4 2 5 3 2 4 2 3 1 5 2 1 3 1 4 4 5 4 3 2 5 3 3 2 5 4 4 3 1 1 1 1 1 1 5 3 5 5 1 3 5 1 5 3 4 3 2 2 5 1 4 5 2 2 4 2 3 4 2 2 2 2 4 3 4 2 5 1 5 4 2 5 5 2 5 5 5 3 1 1 5 4 4 3 3 5 4 1 2 5 5 5 3 3 1 4 1 2 3 1 1 1 2 4 2 4 4 4 1 5 3 2 2 2 4 2 1 2 3 1 3 4 4 2 5 3 2 4 1 4 1 2 3 4 4 4 2 1 1 1 4 1 1 5 5 3 3 1 1 1 3 3 5 5 5 1 2 4 1 2 2 5 2 1 5 4 5 4 2 3 1 1 5 2 1 5 1 5 4 5 1 4 5 1 1 1 4 1 4 1 3 4 2 3 1 4 5 4 2 2 3 3 5 5 5 4 2 5 2 4 4 3 1 1 4 2 4 2 3 1 1 2 4 1 5 1 2 2 4 4 3 4 5 5 5 3 1 3 1 4 3 5 1 1 5 2 5 4 1 3 5 2 4 2 4 1 4 2 4 5 5 1 3 4 1 3 4 4 5 4 2 5 4 3 1 5 5 2 2 3 5 4 1 3 3 4 3 5 5 5 4 2 5 1 4 5 1 5 2 4 3 3 2 5 5 3 5 3 3 2 4 3 4 4 5 3 4 5 3 3 5 2 3 3 2 5 5 3 5 3 4 2 2 4 3 2 5 1 1 1 2 3 4 4 3 1 1 5 5 1 5 1 1 2 3 4 2 3 1 3 5 2 3 4 2 3 1 5 3 5 2 3 2 1 5 3 3 1 3 2 1 2 1 3 4 2 5 1 2 3 4 1 2 2 3 1 2 4 3 3 2 1 2 5 1 2 3 3 5 3 3 2 2 1 4 4 2 4 2 2 2 2 2 3 4 5 4 1 4 1 2 5 3 2 2 2 1 3 4 3 1 5 3 1 1 1 3 1 3 5 4 3 4 5 3 2 3 2 1 4 1 2 4 4 1 2 5 4 2 3 4 3 3 4 2 3 1 2 5 4 4 1 5 2 1 4 1 4 4 5 3 3 1 4 4 5 1 2 3 4 4 3 1 1 4 3 5 3 2 5 4 1 5 5 4 2 4 4 5 1 4 3 5 5 3 3 3 2 2 5 2 5 4 1 2 1 5 3 5 3 2 5 1 2 2 1 5 1 1 4 2 2 3 2 4 1 2 1 3 3 5 4 3 4 2 5 2 1 3 3 3 5 4 3 2 5 1 2 2 3 2 1 4 3 4 4 5 4 3 3 5 3 1 5 1 2 4 3 4 5 3 3 1 1 3 2 4 2 4 5 3 5 4 5 2 1 1 1 2 4 4 5 4 3 4 5 4 2 4 2 5 4 1 1 4 5 5 4 5 3 4 4 4 2 5 1 2 5 1 5 4 5 5 1 2 2 4 3 5 4 5 5 1 5 5 5 5 1 4 5 1 1 1 1 2 5 1 2 3 3 3 5 1 5 4 2 1 1 3 4 5 3 4 3 2 2 3 4 2 1 5 3 2 2 5 1 4 3 1 5 1 1 3 2 3 2 5 2 1 4 2 5 4 2 5 2 1 1 5 1 1 1 2 2 4 1 5 1 4 1 5 2 1 1 4 5 4 1 4 2 2 4 5 5 1 5 4 2 5 2 5 2 2 3 4 2 1 5 3 5 4 3 1 4 4 3 3 1 3 4 5 5 1 3 1 3 4 3 4 2 5 4 4 2 3 4 2 3 1 4 5 4 4 4 4 1 5 1 2 5 3 3 4 3 1 2 1 2 1 4 2 4 5 2 1 3 2 5 5 1 4 2 4 4 3 5 2 5 1 1 1 4 1 5 3 1 1 5 5 2 3 1 2 5 3 4 4 3 4 4 2 4 1 3 1 1 5 3 5 1 4 3 2 5 2 4 2 1 4 5 2 2 4 5 3 2 1 5 4 1 5 5 5 2 5 5 1 4 2 2 2 4 5 3 5 3 4 4 3 2 4 3 3 5 1 2 4 1 3 2 4 2 1 5 3 3 1 3 5 3 5 2 4 5 5 1 5 3 5 5 1 4 3 4 2 3 2 4 3 4 2 4 1 3 4 5 5 5 2 5 2 5 4 5 3 2 5 2 3 5 5 5 3 1 2 1 5 5 1 3 3 1 3 5 2 5 4 3 2 4 4 5 3 4 2 5 3 5 3 3 2 2 3 1 4 4 1 3 3 2 3 5 1 3 5 2 5 3 2 5 4 1 2 1 1 1 4 5 2 5 3 3 3 3 1 5 3 4 2 5 1 3 1 2 3 5 4 2 1 3 4 5 5 3 2 2 3 3 3 1 3 2 4 3 2 1 1 3 1 5 3 3 5 5 2 2 2 2 5 3 2 5 3 3 4 5 5 1 2 4 2 4 4 5 2 2 4 2 5 5 5 2 1 5 5 1 1 3 4 1 2 3 1 3 5 1 1 3 3 5 4 4 5 2 4 5 1 4 4 3 2 4 3 3 1 2 2 5 3 1 1 1 2 3 3 2 4 3 2 4 1 1 5 3 5 2 3 4 4 2 1 3 4 4 2 5 2 5 1 2 3 1 3 5 5 4 4 4 4 1 5 1 1 3 5 1 1 5 3 2 3 4 2 4 2 5 3 4 5 1 5 3 5 5 1 5 5 2 5 2 4 3 3 1 5 5 2 2 5 5 1 1 4 2 5 3 3 4 1 5 4 1 1 4 3 1 5 4 5 2 2 2 2 4 4 5 2 5 1 3 3 4 4 1 1 5 2 4 1 2 1 1 1 5 2 3 3 4 4 5 4 2 3 4 3 3 5 4 3 4 4 3 4 4 1 4 3 2 3 1 4 5 4 3 1 3 4 1 1 1 1 3 2 4 4 4 2 5 2 3 5 4 1 3 2 5 5 4 2 1 3 1 2 2 4 5 5 1 3 5 4 5 4 4 5 3 5 5 3 2 4 4 3 1 2 5 5 2 1 2 3 4 2 2 5 1 5 5 1 1 2 5 1 3 1 1 5 5 3 5 3 3 1 2 1 5 3 3 4 2 1 1 5 1 1 2 2 1 4 4 2 3 4 4 1 3 3 2 2 2 3 5 4 2 5 4 3 5 1 5 3 4 1 4 4 5 4 1 1 5 2 1 5 2 2 2 3 5 5 4 2 1 4 3 5 3 3 1 5 1 4 4 5 2 4 1 5 5 3 2 5 3 5 1 3 1 2 4 3 3 1 1 1 1 4 5 2 5 1 2 2 5 1 4 5 4 1 2 1 4 5 4 3 2 3 5 3 4 2 4 4 4 1 5 5 3 3 3 3 4 3 2 3 4 1 3 1 3 3 3 2 5 5 5 3 1 3 4 5 3 3 3 4 3 1 2 1 5 3 1 1 1 2 5 4 3 5 5 2 2 4 1 5 3 3 1 4 4 5 3 3 4 2 2 1 2 4 3 3 3 2 1 3 3 5 4 3 4 5 1 1 3 4 3 5 1 3 5 1 2 5 3 4 1 1 1 5 3 2 2 1 2 3 2 1 4 1 5 1 3 3 2 4 5 5 2 3 4 3 1 1 4 1 1 3 2 3 1 4 3 5 2 4 5 4 1 2 3 4 2 5 5 4 3 1 2 1 4 1 3 3 5 2 2 5 3 5 3 5 4 4 2 4 1 1 3 2 3 4 4 5 1 1 4 2 3 1 1 1 5 1 4 2 3 2 1 5 1 4 3 4 1 5 5 4 1 4 3 1 1 3 4 1 1 4 4 1 1 1 4 1 4 4 1 5 2 4 2 1 1 1 2 4 5 5 3 4 4 5 1 4 2 4 2 5 1 3 3 3 1 4 2 3 1 4 2 2 1 3 1 1 2 3 2 4 4 5 5 3 3 3 3 3 4 5 2 1 5 2 5 2 3 2 1 1 3 1 5 2 4 1 2 5 1 5 2 2 4 5 2 5 4 2 5 3 3 3 5 3 2 1 1 2 2 5 4 2 2 4 3 1 4 4 5 4 4 3 1 1 2 3 1 5 4 4 2 3 2 2 5 3 1 2 5 3 1 2 4 3 4 4 1 3 2 3 2 2 3 5 5 5 4 4 5 3 4 3 4 5 1 5 4 1 4 5 1 4 3 1 3 1 2 1 5 4 5 4 1 1 2 2 4 5 2 5 1 2 5 3 1 2 1 1 4 5 3 4 2 3 4 5 3 4 4 3 2 3 2 5 4 3 3 5 2 2 5 4 2 3 2 4 4 2 2 2 1 5 4 1 1 3 2 3 2 4 5 4 5 2 4 3 4 1 4 2 4 1 4 1 4 4 4 3 2 1 4 4 2 4 5 3 2 3 5 3 1 3 5 1 3 1 4 1 1 4 4 5 2 4 5 3 1 2 2 5 3 2 5 3 5 4 3 2 5 5 2 1 2 4 4 1 4 3 1 2 3 1 3 2 4 4 5 2 3 5 2 1 1 3 1 2 5 2 1 5 3 1 2 1 3 3 3 3 5 2 3 2 3 4 3 5 4 1 3 4 5 1 5 2 4 3 1 4 2 2 4 2 5 4 1 1 2 4 2 4 1 1 1 5 4 1 2 1 3 4 4 4 2 4 1 2 2 1 2 2 3 5 3 3 3 5 3 1 2 2 4 1 5 3 4 3 2 4 4 3 4 4 2 4 3 1 1 3 3 2 4 4 2 5 5 5 4 1 3 4 5 5 5 3 1 3 1 4 1 1 1 1 5 4 5 4 1 4 1 4 2 5 4 3 2 3 1 2 1 4 4 3 4 2 5 5 5 4 1 3 1 5 3 2 1 5 5 4 3 3 3 2 3 2 3 3 1 4 3 5 5 3 4 2 5 5 5 1 1 2 5 5 5 2 4 4 2 3 5 2 2 4 1 3 5 3 2 5 2 3 1 5 2 4 3 5 5 5 2 1 4 1 5 2 4 1 1 3 4 2 4 2 4 5 5 3 3 1 1 1 5 5 2 1 5 1 4 4 3 2 4 4 1 4 5 4 2 3 3 5 5 2 4 1 3 2 5 1 5 1 1 1 2 4 4 2 1 5 3 3 1 2 2 3 5 2 4 1 2 4 2 2 1 1 1 1 2 2 4 4 3 4 1 4 1 1 3 2 1 5 5 2 1 2 5 1 1 2 2 2 1 1 4 1 4 5 5 4 2 4 1 2 5 1 1 3 4 4 4 5 5 2 3 5 2 5 5 5 2 5 1 1 3 3 2 2 4 4 3 5 2 3 1 4 5 2 5 2 3 2 1 2 1 2 3 4 1 1 1 3 2 1 2 2 3 3 4 4 5 2 4 1 4 5 5 4 2 4 2 4 3 2 1 3 3 2 1 1 2 4 3 3 4 5 5 1 2 2 5 3 2 1 2 4 5 1 2 1 2 3 4 1 4 4 3 2 2 5 2 2 2 4 4 3 5 3 2 5 1 5 1 2 1 4 3 5 3 3 4 4 4 1 4 3 2 4 5 4 4 1 4 3 3 5 5 4 5 3 5 2 5 3 3 1 2 2 1 4 5 2 2 3 4 5 5 3 1 3 4 4 5 4 3 2 4 3 5 2 3 2 1 5 5 4 3 3 1 3 2 4 4 3 1 1 3 5 1 4 3 4 4 5 5 5 3 2 1 4 3 5 3 2 5 5 5 2 5 1 3 5 4 4 2 3 2 3 4 2 4 2 3 5 4 1 2 5 5 2 5 5 5 2 2 5 5 1 2 4 4 4 1 5 3 4 5 5 5 4 3 4 5 1 3 3 3 5 5 3 2 2 3 2 4 2 4 3 3 4 1 2 2 3 1 3 2 2 3 3 2 3 1 3 2 3 1 3 1 3 3 1 5 5 5 5 3 5 3 2 2 5 1 4 1 2 3 1 3 2 2 1 1 5 3 5 3 3 2 3 3 5 5 1 5 1 3 2 1 2 2 2 5 1 3 3 2 2 5 5 5 1 2 2 4 4 5 5 2 5 4 5 5 5 2 5 2 3 5 1 1 1 4 2 4 5 5 2 3 2 2 4 3 2 3 1 5 1 4 3 5 5 4 1 5 5 5 5 5 3 4 1 1 2 4 2 1 4 3 5 1 3 1 4 1 4 5 1 5 4 3 1 3 5 5 2 4 5 1 5 2 5 4 5 1 3 1 3 5 5 5 5 2 2 3 3 4 4 2 2 1 2 1 4 1 3 2 2 2 5 2 3 5 1 1 2 4 5 4 3 3 5 3 3 2 1 3 5 4 1 2 4 4 5 1 2 3 5 4 2 3 5 3 3 3 1 2 4 3 5 4 5 1 5 1 3 5 2 3 5 5 4 2 5 1 2 5 5 1 3 1 4 3 2 2 1 4 1 3 3 1 5 2 2 3 4 1 5 5 4 1 5 5 4 3 4 1 1 5 5 1 4 2 1 3 4 3 5 1 4 5 4 1 1 1 2 3 3 3 4 1 5 1 4 3 4 2 1 2 3 5 2 2 3 1 5 5 3 3 1 3 4 3 4 1 5 3 2 4 4 1 1 3 4 2 5 4 5 2 2 4 2 5 3 1 5 3 5 3 1 2 5 5 3 3 3 4 1 5 1 2 1 4 3 2 2 2 5 5 2 3 3 4 2 5 5 1 2 5 3 3 4 2 2 5 5 1 1 3 3 4 1 3 4 4 2 1 5 5 2 3 2 4 1 2 1 2 3 3 5 4 2 2 3 3 4 3 2 3 3 2 4 5 5 2 1 1 4 3 1 5 1 5 3 2 3 5 5 2 1 5 4 4 3 2 5 5 1 2 1 5 2 4 1 2 1 5 2 4 2 4 5 2 3 2 2 3 3 3 4 5 2 5 3 3 5 1 3 2 2 2 1 2 4 2 4 3 1 3 4 1 1 5 4 4 5 5 2 1 4 4 2 2 4 3 3 1 4 4 5 2 4 5 3 3 4 2 2 4 2 2 1 2 4 5 2 3 4 1 4 5 4 4 2 3 1 3 4 3 4 2 3 4 5 5 5 5 3 4 5 3 3 1 5 3 1 5 1 4 4 5 5 4 1 1 5 1 2 1 1 4 1 5 4 2 3 1 4 3 3 2 2 2 2 5 4 1 2 2 4 2 2 2 5 4 5 2 3 3 3 5 4 5 3 3 5 3 2 5 5 3 5 3 1 2 4 1 5 3 4 2 2 4 2 1 1 5 4 3 4 3 4 5 4 2 3 2 3 1 2 1 2 5 5 2 3 4 5 4 1 4 1 1 1 1 2 1 1 2 2 3 3 5 5 5 2 3 5 5 3 1 5 4 1 1 1 1 2 5 4 4 1 2 4 4 1 4 3 5 2 1 1 3 3 1 3 4 5 5 3 5 4 4 1 3 1 4 3 1 1 3 3 1 1 3 2 4 5 5 4 3 5 5 4 4 5 5 4 4 2 3 4 1 3 5 3 5 2 2 4 5 3 3 2 5 4 1 4 3 1 1 4 5 5 2 5 3 5 4 5 3 2 2 4 2 4 1 3 1 3 4 5 3 1 5 1 2 4 5 3 2 4 1 2 1 3 5 4 2 1 2 2 2 2 2 3 3 5 1 1 2 4 1 1 4 1 3 4 2 5 5 2 1 3 4 2 3 1 4 3 4 4 2 1 5 3 5 2 4 1 1 1 3 5 3 2 2 5 5 1 3 1 4 5 5 5 3 5 4 4 1 3 3 1 2 2 3 5 4 4 3 4 3 1 3 4 2 3 5 1 4 2 1 4 3 3 2 4 5 3 5 3 2 4 5 5 4 3 5 5 4 3 4 4 2 2 3 2 5 4 2 4 2 2 3 4 1 4 2 1 4 1 3 3 5 4 5 3 1 2 1 1 3 2 3 5 3 3 3 2 2 5 2 4 5 5 3 3 4 1 5 5 5 2 3 5 3 1 3 4 4 5 4 2 2 5 5 2 1 2 4 5 3 2 4 4 3 1 4 2 4 2 3 1 3 2 4 5 3 4 4 2 1 2 3 3 5 1 1 2 4 1 5 2 2 4 2 3 2 2 4 2 2 5 4 5 5 1 4 2 3 2 4 1 4 5 2 2 4 5 5 1 1 2 1 5 4 2 5 1 1 1 4 5 1 3 3 4 5 4 2 1 2 5 1 2 3 4 1 3 5 3 1 1 1 2 1 2 4 5 3 2 2 5 2 3 4 3 5 1 1 2 4 5 3 3 4 1 2 1 5 1 2 2 2 3 2 3 3 5 4 3 2 5 5 3 3 4 2 4 1 2 4 1 1 4 1 3 5 3 2 1 3 5 1 4 4 3 1 4 5 2 1 5 2 5 2 4 4 4 3 5 5 5 1 4 2 2 5 5 3 4 5 3 1 1 2 1 2 1 1 2 5 5 2 3 3 1 2 3 4 3 2 5 5 2 1 5 3 2 1 1 3 3 2 1 5 1 4 5 4 5 2 5 3 1 1 5 3 4 5 4 4 2 1 3 3 4 3 2 1 1 1 1 5 1 5 5 4 1 4 2 1 2 3 5 4 4 5 3 4 3 4 5 2 3 4 1 4 5 5 2 3 3 5 4 2 2 1 2 2 4 5 4 3 4 4 4 1 1 4 4 5 4 1 1 2 4 4 3 5 3 5 1 4 3 3 5 1 2 5 3 2 5 3 2 3 5 2 1 5 2 2 2 4 2 2 2 2 1 1 5 1 4 1 1 3 2 4 2 5 2 2 2 5 3 4 5 5 1 1 5 3 2 3 5 3 1 5 3 4 3 2 2 4 4 2 4 5 1 5 5 5 4 4 4 4 1 5 2 3 2 5 4 5 5 4 1 4 5 2 5 5 2 2 2 4 2 5 2 5 2 5 2 3 3 3 4 5 2 3 5 5 1 3 5 1 4 5 1 5 2 4 4 4 5 4 5 3 4 1 4 5 2 4 5 2 5 3 1 1 1 2 3 4 2 3 5 2 1 1 3 5 2 4 3 3 1 4 2 1 3 5 2 5 5 2 2 1 5 2 4 4 3 4 2 1 2 5 4 2 3 2 3 2 3 4 3 3 2 4 4 1 3 5 5 4 3 5 3 5 4 3 5 3 1 5 4 4 3 5 4 5 5 3 5 3 2 2 1 3 1 2 3 3 5 5 2 4 5 1 1 2 4 3 3 5 4 1 4 2 4 4 5 3 1 1 3 1 4 3 4 5 2 3 5 5 1 4 4 2 5 5 2 1 4 2 4 1 1 1 4 2 1 1 2 1 2 2 5 1 5 1 3 4 4 2 4 2 2 1 1 5 4 4 1 4 3 2 2 3 1 3 2 2 5 4 2 5 2 5 4 3 4 4 4 3 3 5 3 2 5 1 5 1 5 1 1 5 5 4 3 3 4 3 1 1 3 5 2 3 4 3 5 4 1 2 1 2 1 5 3 2 3 3 2 1 1 2 2 5 4 5 4 1 5 1 3 3 4 1 5 3 4 2 5 2 5 5 3 4 4 2 1 2 3 2 3 2 5 4 2 3 5 5 2 5 3 5 2 1 5 5 4 4 2 4 2 2 2 1 2 4 3 2 5 4 5 1 4 2 1 5 2 4 1 2 1 2 4 2 1 2 5 1 5 2 3 4 3 1 3 4 1 2 1 2 4 1 4 4 1 2 4 2 5 5 1 5 2 4 5 1 3 1 2 4 5 4 1 5 1 5 2 2 1 2 3 5 1 1 5 5 2 4 2 4 3 1 5 4 4 2 2 1 3 3 4 2 3 5 1 1 2 3 3 4 1 5 1 3 3 1 2 4 2 1 5 4 2 5 3 1 3 3 5 2 4 2 3 2 2 5 1 5 2 1 2 5 2 5 3 2 1 3 3 5 4 4 5 3 1 1 3 2 3 2 4 4 4 4 5 2 2 3 3 2 3 4 2 3 1 2 1 2 1 4 2 5 2 3 2 1 3 4 4 5 3 1 4 1 2 2 5 4 4 2 3 4 3 1 5 5 4 2 5 1 5 5 1 5 2 5 2 5 4 3 4 1 1 1 2 1 5 5 5 1 5 1 2 4 1 2 2 5 1 4 4 4 3 1 5 5 1 1 5 4 4 1 2 1 5 3 1 3 4 3 4 5 4 1 3 5 3 2 5 1 1 4 2 5 4 3 5 5 2 5 1 1 3 5 3 4 1 1 5 1 1 4 1 3 5 5 4 4 2 3 1 5 2 1 4 1 2 5 1 1 4 5 2 5 2 2 3 3 4 5 1 5 1 1 4 2 4 1 1 4 1 2 5 2 4 2 3 3 5 3 4 1 3 5 2 4 1 4 5 1 3 4 2 2 3 5 2 5 2 1 2 2 2 5 5 5 4 5 2 4 1 5 4 4 2 4 2 5 5 3 3 2 1 5 1 1 1 4 3 3 3 1 1 3 3 5 1 2 4 4 3 1 4 4 1 2 3 1 3 5 4 1 4 3 5 5 4 5 1 1 1 2 2 1 3 3 5 1 4 5 5 2 5 5 5 2 5 1 1 2 3 4 4 3 2 4 5 4 5 4 3 3 5 3 5 2 3 1 2 1 4 1 4 5 2 2 3 1 3 1 4 4 1 5 1 5 5 3 5 3 2 3 5 4 1 5 2 5 1 1 4 4 2 3 4 2 2 1 3 2 5 4 5 3 3 4 4 5 5 3 2 4 2 2 1 3 2 5 3 5 2 5 3 5 2 1 3 1 4 3 1 4 3 4 3 2 1 1 2 5 2 3 3 5 5 5 2 5 5 2 1 2 2 2 5 3 5 5 4 4 4 3 4 5 1 3 5 3 4 5 5 3 4 5 3 5 2 5 1 3 3 4 2 3 3 4 3 5 2 2 1 1 1 1 1 1 5 1 4 5 5 5 4 3 5 3 3 4 3 5 2 4 2 3 5 1 2 2 1 3 2 4 3 5 2 1 1 5 2 3 2 3 4 5 3 2 5 1 1 4 2 1 5 3 3 5 2 3 5 4 2 3 1 1 4 1 2 5 3 1 3 1 3 5 3 1 3 1 4 2 5 2 2 5 3 1 4 3 2 1 3 4 1 5 2 1 2 3 5 1 2 2 1 5 5 3 4 2 2 1 1 1 1 1 3 1 5 3 4 3 5 5 5 1 1 3 1 4 5 4 3 5 2 4 1 3 5 2 2 2 2 3 2 1 3 3 3 1 4 4 2 3 2 5 4 4 1 1 4 1 1 3 1 4 1 1 4 1 2 2 5 3 5 3 1 2 5 1 5 5 4 4 2 5 2 5 5 5 2 1 1 1 1 2 5 3 2 3 1 3 5 2 4 2 2 1 2 4 2 1 2 5 4 1 5 3 1 3 5 5 4 1 2 2 2 3 2 1 2 3 4 2 3 3 1 2 4 1 2 4 4 4 1 2 4 1 4 2 2 4 1 5 2 5 4 1 3 5 4 4 5 5 5 4 1 1 4 5 4 4 3 3 5 3 5 5 3 4 2 5 3 2 4 2 4 4 2 2 3 4 5 1 2 1 3 3 3 4 3 1 1 1 3 5 3 1 5 1 1 1 3 3 5 1 5 2 1 3 4 3 5 1 4 2 3 2 3 2 4 3 3 5 4 5 3 2 4 3 3 5 4 5 2 5 3 3 1 3 1 3 5 2 4 5 1 3 4 3 3 1 1 2 4 3 5 2 4 2 2 2 1 3 5 1 3 1 2 3 5 2 1 2 1 4 1 3 5 4 5 3 5 4 2 2 3 4 4 3 3 5 4 5 5 4 4 3 5 3 4 1 4 2 5 5 2 2 3 4 1 1 2 1 3 2 2 4 3 2 4 3 3 2 1 1 1 2 4 1 1 3 4 5 4 3 1 2 1 1 1 3 3 2 5 2 1 5 4 5 1 2 2 4 3 5 3 4 1 2 3 1 2 3 5 2 3 3 1 5 2 5 5 1 2 5 1 1 3 4 4 5 4 5 3 5 2 1 1 4 4 5 2 5 2 1 1 2 3 3 1 5 4 2 2 4 4 2 4 4 3 3 4 2 4 2 5 1 2 2 5 2 1 4 2 1 1 3 3 2 2 1 4 5 5 5 1 3 2 2 1 5 5 2 4 1 2 5 2 3 4 3 4 2 1 1 3 4 5 4 3 4 5 2 2 4 4 2 5 4 4 2 3 4 4 2 2 3 5 5 1 1 4 5 2 5 5 4 4 1 1 3 4 3 4 2 4 3 4 2 1 4 4 3 1 2 1 3 3 3 4 2 2 3 1 2 3 2 1 5 4 5 4 2 5 1 3 2 5 1 2 4 1 2 5 1 1 3 5 4 3 1 5 1 2 1 1 5 5 5 5 1 4 2 2 5 5 3 2 1 5 5 4 1 4 3 5 5 4 5 5 4 1 1 5 3 2 3 1 2 3 4 3 1 1 3 4 1 3 1 1 5 2 3 4 1 3 3 1 2 3 3 5 5 3 4 1 2 2 3 5 2 2 3 5 3 1 2 5 5 3 1 3 3 2 4 1 4 1 4 3 2 4 5 4 2 2 1 1 4 1 2 1 2 4 3 4 5 1 1 5 3 1 2 4 3 5 5 5 3 4 4 2 4 4 5 2 3 5 3 3 1 1 5 1 1 3 5 3 3 1 3 5 1 1 2 3 3 4 5 2 5 2 2 1 5 4 2 2 1 4 5 4 1 5 4 5 4 3 5 2 1 1 3 5 3 4 3 1 4 4 5 2 3 1 5 5 3 3 5 2 2 4 2 4 2 3 4 5 1 3 5 2 2 1 5 1 2 4 3 2 4 5 1 5 1 4 4 5 5 5 5 3 5 4 5 2 2 5 5 2 5 3 3 2 1 2 2 1 4 3 4 1 1 4 3 4 3 5 2 3 3 2 1 5 4 4 4 5 5 1 5 5 1 5 3 3 1 3 2 3 5 1 4 5 2 3 5 1 3 2 3 1 1 4 5 4 2 5 2 4 2 5 5 5 1 2 3 1 5 3 3 5 5 2 4 3 5 1 1 4 2 2 2 2 5 5 1 2 1 3 3 1 1 4 1 4 1 5 3 2 2 2 1 1 2 1 2 4 3 1 3 2 5 2 4 4 1 5 2 5 1 2 3 3 2 2 1 5 2 3 5 3 4 1 1 4 1 1 3 2 5 2 1 2 2 1 4 1 3 5 1 2 2 1 3 4 4 5 2 4 1 4 3 1 1 1 4 1 4 2 3 4 5 3 1 3 2 5 2 2 3 4 2 2 3 1 5 4 3 4 4 3 1 1 1 5 2 3 5 5 3 4 3 2 4 5 3 2 5 3 5 1 4 4 4 1 1 2 2 3 4 2 2 3 4 5 1 4 1 5 1 5 3 4 4 5 1 1 2 3 2 5 4 3 1 5 2 3 4 5 3 3 3 5 5 3 4 1 3 1 3 2 2 5 5 1 1 2 1 3 2 3 4 2 1 1 3 1 4 3 5 3 2 5 3 5 4 3 4 4 1 2 4 2 4 1 2 3 4 4 4 1 4 3 2 1 2 4 2 5 1 4 2 4 5 2 3 2 3 5 3 1 3 4 4 2 2 2 1 1 1 4 2 5 2 5 1 5 5 2 5 5 5 1 5 4 5 1 5 3 2 1 2 3 4 2 5 2 4 1 4 3 4 4 2 1 2 5 2 2 2 2 4 3 5 3 1 4 4 5 2 2 3 1 5 1 1 4 3 5 1 5 1 3 1 5 5 5 1 2 1 4 5 3 5 3 4 5 3 1 3 3 3 4 4 4 2 1 5 2 4 2 3 4 2 1 2 2 4 4 4 4 3 1 2 4 1 3 1 3 3 1 2 1 3 2 4 1 3 1 2 2 5 3 5 4 1 2 4 5 3 1 3 1 4 5 2 5 5 3 3 1 4 4 3 4 4 4 1 4 2 1 3 2 5 2 3 3 1 5 5 4 5 3 4 4 4 1 5 4 5 1 5 4 2 3 2 4 5 5 2 2 1 5 2 3 3 5 2 5 1 5 3 1 3 3 5 4 5 4 1 1 3 4 5 4 2 4 2 2 5 1 1 2 3 1 1 1 5 1 5 2 1 1 1 3 4 1 4 2 3 5 2 3 5 1 5 5 5 1 2 4 2 1 1 1 4 2 3 2 2 2 1 4 4 2 1 5 5 5 2 5 1 1 3 2 3 1 1 4 4 1 3 3 5 1 1 5 3 1 4 5 5 2 2 1 3 3 1 5 4 4 3 2 2 5 3 3 4 4 3 1 4 1 5 2 1 5 3 1 1 3 1 5 1 2 1 2 1 4 1 2 1 4 5 1 1 4 3 4 3 4 4 1 5 1 5 1 1 1 5 5 5 4 3 4 2 3 4 4 1 1 5 4 5 4 4 4 5 1 1 1 1 2 3 2 2 3 4 4 1 5 3 3 4 1 1 5 5 3 5 1 4 1 3 1 5 3 3 4 5 5 4 4 4 3 4 2 4 3 1 2 2 5 3 1 4 4 5 4 4 1 1 1 2 1 5 3 2 3 2 5 2 3 5 5 3 2 3 2 1 1 4 5 5 1 2 2 1 3 3 4 2 1 5 2 1 5 5 1 4 3 3 3 1 2 2 4 5 2 1 3 1 5 4 4 5 3 2 3 3 2 3 3 4 3 4 3 4 4 2 4 1 1 1 2 5 5 4 1 3 2 4 3 4 5 1 2 1 5 4 1 2 5 2 3 3 1 5 3 2 3 1 1 3 1 4 5 2 3 4 5 5 1 1 3 4 1 1 3 5 5 4 4 4 5 4 2 3 2 4 1 3 2 2 1 3 4 5 3 4 1 4 1 2 4 3 4 2 3 1 4 1 3 1 4 2 5 4 2 2 2 5 2 4 3 2 3 2 3 4 2 2 4 3 5 4 3 2 5 3 4 2 2 5 5 2 3 4 4 3 1 2 5 1 4 5 2 3 4 4 1 2 4 2 2 3 2 4 5 1 2 1 3 4 2 3 1 2 1 3 3 5 5 4 1 1 5 2 4 1 3 5 1 5 5 3 5 1 4 2 5 2 5 4 4 1 3 2 2 3 3 4 3 2 3 5 1 5 2 2 1 1 2 3 5 3 2 4 5 3 2 2 5 2 2 3 1 4 2 5 3 3 1 1 3 2 4 1 2 2 5 4 5 5 1 2 1 4 2 4 4 3 2 2 4 1 1 1 5 1 5 1 2 4 4 1 3 4 4 4 2 2 4 5 1 2 1 3 2 4 2 3 2 5 4 5 4 5 3 5 2 4 3 5 4 2 1 3 2 1 4 3 2 3 1 4 5 2 1 4 3 4 1 4 4 2 2 5 1 1 3 5 5 5 1 3 4 2 1 5 2 5 4 2 1 4 2 3 2 4 3 4 2 4 4 1 1 5 2 4 2 2 3 1 5 5 1 1 4 1 1 5 2 1 2 3 2 5 3 2 3 4 1 1 4 3 2 2 3 3 1 1 2 2 5 2 4 5 3 4 4 2 1 4 5 2 4 5 3 2 1 2 4 4 3 2 2 1 5 5 4 4 1 5 5 2 5 2 1 5 4 2 1 2 5 4 5 3 5 2 2 1 2 5 3 3 4 4 3 1 1 3 1 5 2 1 5 3 1 1 3 4 2 4 4 3 2 5 5 3 3 3 1 2 2 5 1 4 4 4 2 4 2 5 2 3 5 5 2 3 4 2 1 1 5 4 1 2 4 3 2 5 3 5 5 5 1 1 5 3 2 2 3 4 1 5 3 3 2 1 3 3 2 2 5 1 3 1 5 5 4 4 1 4 4 2 2 5 5 1 5 2 4 2 1 4 3 1 3 4 5 5 2 2 5 3 3 3 1 3 5 1 3 2 4 4 3 5 2 1 2 3 2 5 2 5 2 5 4 5 3 4 1 5 5 2 5 4 2 3 2 5 5 3 2 2 5 3 3 1 2 1 2 1 4 2 1 3 1 2 2 3 5 1 2 3 1 3 5 1 2 1 1 1 4 1 1 4 1 1 5 1 1 3 2 2 1 3 5 2 3 3 4 2 3 5 3 2 3 5 5 2 3 4 5 2 2 3 4 1 1 2 4 3 4 3 5 2 3 2 2 3 2 3 5 1 4 1 4 2 3 4 5 5 1 2 5 3 2 5 4 1 4 3 5 3 2 4 1 2 4 3 5 3 4 4 4 3 2 5 4 5 4 2 5 5 3 5 5 2 1 4 5 5 1 5 4 5 2 5 2 4 1 5 2 1 4 5 5 5 1 2 2 3 5 5 3 1 2 3 5 2 5 2 2 4 3 1 1 3 3 4 2 1 5 5 1 3 1 5 3 3 4 2 3 5 4 4 4 5 4 2 5 3 2 4 2 1 4 3 3 5 1 4 2 4 1 1 5 3 3 3 3 4 4 3 2 5 4 1 2 2 5 4 4 4 3 2 3 3 2 1 2 2 2 1 1 4 1 4 1 1 1 2 3 2 3 1 5 1 4 2 4 2 4 2 2 4 2 3 2 5 5 4 1 1 3 5 5 2 5 5 3 1 1 1 1 4 4 5 3 1 4 4 1 3 2 5 1 5 1 2 4 5 3 1 5 2 3 1 3 5 3 5 5 2 2 1 5 3 5 4 3 4 4 4 5 1 4 4 1 5 2 2 4 2 1 3 3 3 3 3 2 3 3 5 2 2 1 3 1 5 3 4 4 4 1 1 2 2 1 3 4 1 5 1 4 2 1 4 4 1 2 4 5 3 2 2 2 5 1 1 2 5 2 3 2 5 1 2 2 1 4 4 1 3 5 5 3 5 1 1 1 2 4 4 5 5 3 3 1 4 3 5 1 4 4 2 5 4 3 3 3 1 3 3 2 5 5 3 2 4 1 3 2 5 4 5 5 1 5 4 1 5 5 3 2 1 1 3 4 2 4 4 3 1 4 4 1 3 2 1 5 5 4 4 5 4 1 3 1 1 4 1 1 3 4 1 3 2 4 1 1 5 1 3 2 5 3 3 4 1 3 2 1 3 4 1 4 3 4 2 5 5 5 3 2 3 2 2 5 4 1 1 4 3 5 4 2 2 4 3 5 3 1 5 1 1 3 1 3 5 5 5 4 2 5 5 5 3 2 1 4 3 3 4 4 5 4 5 3 3 1 2 2 1 2 2 5 3 3 2 1 4 2 5 4 5 2 3 2 2 1 1 1 2 1 2 1 1 2 4 5 5 2 4 2 2 1 3 3 2 5 1 2 5 1 4 1 4 2 1 4 1 4 4 1 4 2 5 4 4 2 5 1 4 4 3 3 2 2 2 1 4 1 4 2 1 1 3 4 2 3 4 1 3 5 4 4 5 2 4 2 4 5 2 2 1 4 5 4 2 3 4 1 2 5 5 3 1 1 1 4 4 3 3 4 2 1 2 1 2 2 5 2 4 2 5 5 1 5 4 3 1 3 5 1 4 2 3 2 3 2 3 5 5 3 4 3 1 3 4 5 3 3 2 1 3 5 5 4 1 3 2 1 4 4 2 1 1 4 4 1 1 5 2 4 5 5 2 1 5 2 2 1 4 5 2 4 2 2 1 3 2 3 4 1 4 1 1 2 5 4 3 4 4 3 4 1 3 2 2 5 5 3 5 5 2 1 1 1 5 1 3 4 5 4 3 4 4 3 3 1 3 1 5 2 4 4 5 4 5 2 5 4 2 3 2 3 2 4 3 5 2 3 2 5 3 5 1 2 1 3 5 2 2 3 4 4 2 2 1 1 1 4 1 3 5 4 1 4 5 3 2 2 5 4 2 3 3 1 3 1 5 4 5 4 4 2 3 2 3 1 4 1 2 3 5 1 1 4 2 2 1 3 2 5 2 3 4 1 2 4 5 1 4 3 1 5 4 5 5 1 2 1 3 3 1 4 1 5 1 4 5 5 3 3 5 5 2 5 1 2 4 5 5 5 4 2 3 3 4 1 4 5 3 4 1 4 2 1 4 2 2 5 5 2 2 3 2 2 4 3 5 3 3 5 4 1 5 2 1 1 4 3 2 5 3 2 1 1 5 3 4 4 1 1 1 4 5 1 1 4 4 3 2 3 4 1 2 2 1 3 5 4 2 5 3 1 5 3 2 5 2 4 2 1 1 5 1 5 5 5 2 2 1 3 5 4 2 1 4 1 3 2 1 1 4 2 3 2 3 3 5 3 1 5 4 3 3 3 2 5 1 3 4 4 1 3 2 2 5 1 1 4 1 3 3 1 1 4 5 2 3 1 2 3 1 1 1 1 3 1 3 3 2 5 1 3 5 1 2 2 3 3 4 1 5 5 2 3 3 2 5 4 4 5 2 1 3 3 5 5 2 3 2 3 2 5 5 2 4 2 1 3 5 3 2 5 3 1 2 3 1 4 5 3 1 4 4 1 2 1 1 1 1 5 2 4 5 5 4 5 5 1 1 3 2 2 1 4 2 5 3 4 2 4 3 5 1 5 5 2 4 1 3 2 4 3 2 2 3 5 3 1 2 4 2 3 3 4 5 2 5 3 1 1 3 1 2 5 2 4 4 4 1 3 3 1 4 2 4 1 2 3 3 5 3 3 5 3 5 2 4 1 4 2 3 2 4 5 2 1 5 5 3 2 2 3 1 2 5 4 5 4 3 3 3 2 4 4 2 4 1 1 2 5 3 5 1 2 2 4 2 1 1 3 1 3 2 4 4 1 4 2 4 1 4 2 4 3 2 5 1 2 4 1 5 3 4 3 2 3 5 2 4 3 5 4 2 2 1 4 4 5 2 1 2 3 2 2 4 1 4 2 2 1 2 4 2 2 1 4 4 2 3 4 3 5 5 1 3 3 5 3 3 5 1 4 2 1 3 1 1 5 5 2 5 3 4 4 5 3 3 4 2 2 3 3 3 3 1 1 3 2 2 4 4 1 1 4 4 3 4 5 5 1 5 3 3 5 3 4 4 5 5 3 1 3 3 4 3 1 3 5 5 4 5 5 2 2 5 5 3 5 3 1 2 4 4 1 5 2 4 2 2 3 4 4 1 2 2 4 5 3 1 5 3 1 5 5 1 1 5 3 3 2 2 4 5 2 5 4 5 2 2 5 5 4 2 2 3 4 2 4 5 1 2 1 3 5 2 2 2 2 3 2 3 5 2 3 1 5 5 4 4 3 5 2 4 1 1 5 5 1 3 2 3 4 3 1 2 1 5 1 4 1 2 1 5 5 4 5 1 4 3 3 5 5 3 3 3 5 4 2 2 3 3 5 1 5 3 3 1 5 1 1 2 5 5 5 2 4 5 4 2 4 2 5 2 5 2 3 4 2 4 4 1 3 1 2 5 1 4 5 3 2 2 4 3 5 3 5 2 3 3 3 3 3 2 5 3 5 3 3 3 5 5 5 1 3 1 1 4 3 3 5 4 5 3 1 5 2 5 2 3 5 1 2 3 3 2 4 5 5 4 2 2 1 5 5 2 1 1 2 1 1 2 2 1 4 2 1 4 3 1 1 3 3 2 5 4 5 3 4 3 2 5 2 2 5 2 1 3 4 5 3 1 3 3 5 2 3 4 1 4 5 3 1 5 3 3 4 4 1 4 5 4 3 4 2 3 5 4 5 4 1 4 5 5 5 4 4 3 3 4 2 3 1 3 5 5 2 1 2 1 5 2 2 2 5 3 5 4 2 2 5 4 2 2 1 3 2 1 5 2 5 5 3 3 1 5 5 2 5 2 4 5 5 2 5 2 3 5 3 5 5 2 4 3 5 3 2 4 2 2 3 4 2 5 2 5 2 4 4 2 4 1 5 2 3 1 3 3 1 2 3 3 3 2 3 5 5 1 5 2 1 5 4 2 1 3 4 2 4 1 3 2 2 5 3 1 4 4 3 1 3 5 1 4 4 1 2 3 3 1 2 5 3 2 3 4 4 4 1 2 2 1 4 5 5 2 2 5 2 4 3 4 5 5 3 5 1 2 2 1 3 4 4 2 5 2 3 2 2 2 4 5 3 5 4 1 4 5 3 3 3 1 2 3 1 4 2 2 3 1 5 3 4 1 2 1 5 2 1 2 1 3 2 2 2 2 5 1 3 2 5 1 4 1 1 1 1 1 4 1 2 1 1 3 4 3 2 1 1 5 4 5 5 4 2 4 4 3 1 3 1 4 1 4 2 3 5 1 1 5 5 5 2 1 5 1 5 5 1 1 1 4 5 1 1 1 1 1 5 1 1 4 2 3 2 4 1 4 2 1 4 3 4 5 3 3 1 5 3 5 4 2 5 2 1 3 4 2 5 4 4 1 4 4 1 3 2 3 2 4 4 1 4 5 5 1 4 1 3 5 4 2 5 3 2 5 1 4 3 5 1 3 1 1 2 2 4 1 2 3 3 5 4 3 1 3 1 3 3 5 1 3 2 1 1 4 1 3 3 2 5 4 2 3 1 3 3 4 2 3 3 3 2 2 5 3 3 4 1 5 2 1 2 2 1 1 4 5 4 5 1 1 1 3 1 3 3 2 1 4 2 2 3 1 2 1 3 1 1 5 3 4 3 4 5 1 2 3 2 5 3 5 5 5 5 2 4 4 5 5 5 1 1 3 5 5 5 1 2 1 3 3 2 1 2 2 5 5 5 3 1 2 2 4 5 5 4 1 4 4 3 1 2 1 2 2 5 2 1 4 4 5 3 5 2 5 1 5 2 5 2 1 1 2 4 2 3 4 2 5 4 1 4 1 3 3 2 4 1 4 1 1 3 5 3 3 4 2 5 4 3 3 3 2 5 3 1 3 3 2 2 1 2 5 3 1 1 1 1 2 5 3 4 1 4 3 3 3 2 4 3 5 4 2 5 5 5 1 2 4 4 3 4 5 1 4 3 1 1 2 1 1 1 4 3 4 4 1 5 5 3 2 4 5 3 1 4 2 2 2 5 4 5 1 2 1 4 4 4 3 5 4 2 5 5 5 3 3 2 4 4 3 4 1 4 3 2 2 5 5 3 3 3 3 2 4 3 2 5 1 3 5 5 5 5 1 5 1 4 2 5 4 5 2 3 1 3 3 1 1 2 2 2 3 1 1 5 3 4 2 5 5 2 1 1 3 2 4 4 5 5 4 4 3 5 4 3 2 2 4 2 2 1 1 2 5 4 3 3 5 1 2 2 4 5 5 1 3 1 5 3 3 1 3 4 1 2 3 2 1 3 5 5 1 5 4 4 3 5 4 2 1 2 4 5 2 4 5 1 3 3 5 2 2 4 5 1 4 4 2 2 4 3 3 5 2 4 4 3 2 4 3 2 5 4 4 4 5 5 4 5 3 2 3 2 5 5 3 3 2 1 5 5 2 5 5 5 2 2 2 3 3 4 4 5 4 2 5 5 4 1 3 2 2 5 4 2 4 2 2 4 5 4 3 1 1 2 5 2 4 1 3 4 2 5 2 3 3 5 3 2 3 2 4 4 3 1\n"
     ]
    }
   ],
   "source": [
    "arr_count = int(input().strip())\n",
    "arr = list(map(int, input().rstrip().split()))"
   ]
  },
  {
   "cell_type": "code",
   "execution_count": 1,
   "id": "eea79dfd",
   "metadata": {},
   "outputs": [],
   "source": [
    "arr=[1,1,1,1,1,1,1,2,2,2,2,2,2,2,2,3,3,3,3,3,3,3,3,3,3,5,5,5,5,5,5,5,5,5,5,5]"
   ]
  },
  {
   "cell_type": "code",
   "execution_count": 2,
   "id": "ce0cd3fb",
   "metadata": {},
   "outputs": [],
   "source": [
    "arr.sort()"
   ]
  },
  {
   "cell_type": "code",
   "execution_count": 4,
   "id": "2054b47f",
   "metadata": {},
   "outputs": [],
   "source": [
    "from collections import Counter"
   ]
  },
  {
   "cell_type": "code",
   "execution_count": 5,
   "id": "6a1f947c",
   "metadata": {},
   "outputs": [
    {
     "name": "stdout",
     "output_type": "stream",
     "text": [
      "5\n"
     ]
    }
   ],
   "source": [
    "mydict = dict(Counter(arr))\n",
    "maximum = max(mydict, key=mydict.get)  \n",
    "print(maximum)"
   ]
  },
  {
   "cell_type": "code",
   "execution_count": 6,
   "id": "1bce0fd1",
   "metadata": {},
   "outputs": [
    {
     "data": {
      "text/plain": [
       "{1: 7, 2: 8, 3: 10, 5: 11}"
      ]
     },
     "execution_count": 6,
     "metadata": {},
     "output_type": "execute_result"
    }
   ],
   "source": [
    "mydict"
   ]
  },
  {
   "cell_type": "code",
   "execution_count": 31,
   "id": "ed2453f9",
   "metadata": {},
   "outputs": [],
   "source": [
    "lst=[1,1,1,1,1,2,2,2,2,2,2,3,3,3,3,3,4]"
   ]
  },
  {
   "cell_type": "code",
   "execution_count": 32,
   "id": "9796ea29",
   "metadata": {},
   "outputs": [],
   "source": [
    "data=dict(Counter(lst))"
   ]
  },
  {
   "cell_type": "code",
   "execution_count": 34,
   "id": "2fac46e0",
   "metadata": {},
   "outputs": [
    {
     "data": {
      "text/plain": [
       "2"
      ]
     },
     "execution_count": 34,
     "metadata": {},
     "output_type": "execute_result"
    }
   ],
   "source": [
    "max(data, key=data.get)"
   ]
  },
  {
   "cell_type": "code",
   "execution_count": 20,
   "id": "69e6dd9d",
   "metadata": {},
   "outputs": [
    {
     "data": {
      "text/plain": [
       "5"
      ]
     },
     "execution_count": 20,
     "metadata": {},
     "output_type": "execute_result"
    }
   ],
   "source": [
    "data.get(1)"
   ]
  },
  {
   "cell_type": "code",
   "execution_count": 24,
   "id": "12dc9601",
   "metadata": {},
   "outputs": [],
   "source": [
    "key=data.get"
   ]
  },
  {
   "cell_type": "code",
   "execution_count": 38,
   "id": "d9b6c325",
   "metadata": {},
   "outputs": [
    {
     "data": {
      "text/plain": [
       "{5: 24998, 2: 24998, 4: 24999, 1: 24998, 3: 24999}"
      ]
     },
     "execution_count": 38,
     "metadata": {},
     "output_type": "execute_result"
    }
   ],
   "source": [
    "mydict"
   ]
  },
  {
   "cell_type": "code",
   "execution_count": 71,
   "id": "fe15b29c",
   "metadata": {},
   "outputs": [
    {
     "name": "stdout",
     "output_type": "stream",
     "text": [
      "2016\n"
     ]
    }
   ],
   "source": [
    "year = int(input().strip())"
   ]
  },
  {
   "cell_type": "code",
   "execution_count": 74,
   "id": "69f2a599",
   "metadata": {},
   "outputs": [],
   "source": [
    "def dayOfProgrammer(y):\n",
    "    if 1918<y<=2700:\n",
    "        if y%400==0:\n",
    "            date= '12.09.{}'.format(y)\n",
    "        elif y%4==0 and i%100!=0:\n",
    "            date= '12.09.{}'.format(y)\n",
    "        else:\n",
    "            date= '13.09.{}'.format(y)\n",
    "    elif 1700<=y<=1917:\n",
    "        if y%4==0:\n",
    "            date='12.09.{}'.format(y)\n",
    "        else:\n",
    "            date='13.09.{}'.format(y)\n",
    "    elif y==1918:\n",
    "        date='26.09.1918'\n",
    "        \n",
    "    return date"
   ]
  },
  {
   "cell_type": "code",
   "execution_count": 76,
   "id": "2577ba02",
   "metadata": {},
   "outputs": [
    {
     "data": {
      "text/plain": [
       "'12.09.2016'"
      ]
     },
     "execution_count": 76,
     "metadata": {},
     "output_type": "execute_result"
    }
   ],
   "source": [
    "dayOfProgrammer(year)"
   ]
  },
  {
   "cell_type": "code",
   "execution_count": 80,
   "id": "ed424536",
   "metadata": {},
   "outputs": [
    {
     "name": "stdout",
     "output_type": "stream",
     "text": [
      "4 1\n",
      "3 10 2 9\n",
      "12\n"
     ]
    }
   ],
   "source": [
    "first_multiple_input = input().rstrip().split()\n",
    "\n",
    "n = int(first_multiple_input[0])\n",
    "\n",
    "k = int(first_multiple_input[1])\n",
    "\n",
    "bill = list(map(int, input().rstrip().split()))\n",
    "\n",
    "b = int(input().strip())"
   ]
  },
  {
   "cell_type": "code",
   "execution_count": 115,
   "id": "93bc5184",
   "metadata": {},
   "outputs": [
    {
     "data": {
      "text/plain": [
       "4"
      ]
     },
     "execution_count": 115,
     "metadata": {},
     "output_type": "execute_result"
    }
   ],
   "source": [
    "n"
   ]
  },
  {
   "cell_type": "code",
   "execution_count": 116,
   "id": "ccd983af",
   "metadata": {},
   "outputs": [
    {
     "data": {
      "text/plain": [
       "1"
      ]
     },
     "execution_count": 116,
     "metadata": {},
     "output_type": "execute_result"
    }
   ],
   "source": [
    "k"
   ]
  },
  {
   "cell_type": "code",
   "execution_count": 117,
   "id": "7abad884",
   "metadata": {},
   "outputs": [
    {
     "data": {
      "text/plain": [
       "[3, 10, 2, 9]"
      ]
     },
     "execution_count": 117,
     "metadata": {},
     "output_type": "execute_result"
    }
   ],
   "source": [
    "bill"
   ]
  },
  {
   "cell_type": "code",
   "execution_count": 118,
   "id": "0e4211f3",
   "metadata": {},
   "outputs": [
    {
     "data": {
      "text/plain": [
       "12"
      ]
     },
     "execution_count": 118,
     "metadata": {},
     "output_type": "execute_result"
    }
   ],
   "source": [
    "b"
   ]
  },
  {
   "cell_type": "code",
   "execution_count": 140,
   "id": "38ecdc91",
   "metadata": {},
   "outputs": [],
   "source": [
    "def bonAppetit(bill, k, b):\n",
    "    share = b - (sum(bill)-bill[k])/2\n",
    "    if share!=0:\n",
    "        share=print(int(share))\n",
    "    else:\n",
    "        share=print('Bon Appetit')\n",
    "    return share"
   ]
  },
  {
   "cell_type": "code",
   "execution_count": 141,
   "id": "0b290acf",
   "metadata": {},
   "outputs": [
    {
     "name": "stdout",
     "output_type": "stream",
     "text": [
      "5\n"
     ]
    }
   ],
   "source": [
    "bonAppetit(bill, k, b)"
   ]
  },
  {
   "cell_type": "code",
   "execution_count": 137,
   "id": "99f1072d",
   "metadata": {},
   "outputs": [
    {
     "name": "stdout",
     "output_type": "stream",
     "text": [
      "5\n"
     ]
    }
   ],
   "source": [
    "share = b - (sum(bill)-bill[k])/2\n",
    "if share!=0:\n",
    "    share=print(int(share))\n",
    "else:\n",
    "    share=print('Bon Appetit')\n"
   ]
  },
  {
   "cell_type": "code",
   "execution_count": 11,
   "id": "43628ba0",
   "metadata": {},
   "outputs": [
    {
     "name": "stdout",
     "output_type": "stream",
     "text": [
      "9\n",
      "10 20 20 10 10 30 50 10 20\n"
     ]
    }
   ],
   "source": [
    "n = int(input().strip())\n",
    "ar = list(map(int, input().rstrip().split()))"
   ]
  },
  {
   "cell_type": "code",
   "execution_count": 12,
   "id": "a0375a7c",
   "metadata": {},
   "outputs": [
    {
     "data": {
      "text/plain": [
       "[10, 20, 20, 10, 10, 30, 50, 10, 20]"
      ]
     },
     "execution_count": 12,
     "metadata": {},
     "output_type": "execute_result"
    }
   ],
   "source": [
    "ar"
   ]
  },
  {
   "cell_type": "code",
   "execution_count": 13,
   "id": "5f56bea6",
   "metadata": {},
   "outputs": [],
   "source": [
    "ar.sort()"
   ]
  },
  {
   "cell_type": "code",
   "execution_count": 14,
   "id": "7ccf06a2",
   "metadata": {},
   "outputs": [
    {
     "data": {
      "text/plain": [
       "[10, 10, 10, 10, 20, 20, 20, 30, 50]"
      ]
     },
     "execution_count": 14,
     "metadata": {},
     "output_type": "execute_result"
    }
   ],
   "source": [
    "ar"
   ]
  },
  {
   "cell_type": "code",
   "execution_count": 15,
   "id": "73f098d1",
   "metadata": {},
   "outputs": [],
   "source": [
    "from collections import Counter"
   ]
  },
  {
   "cell_type": "code",
   "execution_count": 16,
   "id": "926765e1",
   "metadata": {},
   "outputs": [],
   "source": []
  },
  {
   "cell_type": "code",
   "execution_count": 17,
   "id": "b1dad1ce",
   "metadata": {},
   "outputs": [
    {
     "data": {
      "text/plain": [
       "{10: 4, 20: 3, 30: 1, 50: 1}"
      ]
     },
     "execution_count": 17,
     "metadata": {},
     "output_type": "execute_result"
    }
   ],
   "source": [
    "data"
   ]
  },
  {
   "cell_type": "code",
   "execution_count": 28,
   "id": "1821f146",
   "metadata": {},
   "outputs": [],
   "source": [
    "count=0\n",
    "data=dict(Counter(ar))\n",
    "for x in data.values():\n",
    "    count += x//2"
   ]
  },
  {
   "cell_type": "code",
   "execution_count": 29,
   "id": "21a88cb7",
   "metadata": {},
   "outputs": [
    {
     "data": {
      "text/plain": [
       "3"
      ]
     },
     "execution_count": 29,
     "metadata": {},
     "output_type": "execute_result"
    }
   ],
   "source": [
    "count"
   ]
  },
  {
   "cell_type": "code",
   "execution_count": 47,
   "id": "93c96c91",
   "metadata": {},
   "outputs": [
    {
     "name": "stdout",
     "output_type": "stream",
     "text": [
      "6\n",
      "5\n"
     ]
    }
   ],
   "source": [
    "n = int(input().strip())\n",
    "p = int(input().strip())"
   ]
  },
  {
   "cell_type": "code",
   "execution_count": 49,
   "id": "331efa8b",
   "metadata": {},
   "outputs": [
    {
     "name": "stdout",
     "output_type": "stream",
     "text": [
      "0.5\n",
      "0\n"
     ]
    }
   ],
   "source": [
    "if n%2==0:\n",
    "    if p<=n/2: #Start from left\n",
    "        page_num=int(p/2)\n",
    "    elif p>n/2:\n",
    "        px=n-p\n",
    "        page_num=int((px+1)/2)\n",
    "        print(px/2)\n",
    "else:\n",
    "    if p<(n+1)/2:\n",
    "        if p%2==0:\n",
    "            page_num=p/2\n",
    "        else:\n",
    "            page_num=(p-1)/2\n",
    "    else:\n",
    "        page_num=int((n-p)/2)\n",
    "print(page_num)"
   ]
  },
  {
   "cell_type": "code",
   "execution_count": null,
   "id": "da3623ea",
   "metadata": {},
   "outputs": [],
   "source": [
    "if p<=n/2: #Start from left\n",
    "    page_num=int(p/2)\n",
    "    \n",
    "        \n",
    "1:0\n",
    "2:1\n",
    "3:1\n",
    "4:2\n",
    "5:2\n",
    "6:3\n",
    "7:3\n",
    "8:4\n",
    "9:4\n",
    "10:5\n",
    "11:5\n",
    "12:6\n",
    "13:6"
   ]
  },
  {
   "cell_type": "code",
   "execution_count": 60,
   "id": "77c9a342",
   "metadata": {},
   "outputs": [],
   "source": [
    "def pageCount(n, p):\n",
    "    page_in_book=p//2\n",
    "    total_pages=n//2\n",
    "\n",
    "    from_front=page_in_book\n",
    "    from_back=total_pages - page_in_book\n",
    "    \n",
    "    return min(from_front,from_back)"
   ]
  },
  {
   "cell_type": "code",
   "execution_count": 59,
   "id": "3d8645af",
   "metadata": {},
   "outputs": [
    {
     "data": {
      "text/plain": [
       "1"
      ]
     },
     "execution_count": 59,
     "metadata": {},
     "output_type": "execute_result"
    }
   ],
   "source": [
    "3//2"
   ]
  },
  {
   "cell_type": "code",
   "execution_count": 61,
   "id": "9234bac7",
   "metadata": {},
   "outputs": [
    {
     "name": "stdout",
     "output_type": "stream",
     "text": [
      "8\n",
      "UDDDUDUU\n"
     ]
    }
   ],
   "source": [
    "steps = int(input().strip())\n",
    "path = input()"
   ]
  },
  {
   "cell_type": "code",
   "execution_count": 63,
   "id": "6a66fbde",
   "metadata": {},
   "outputs": [
    {
     "data": {
      "text/plain": [
       "8"
      ]
     },
     "execution_count": 63,
     "metadata": {},
     "output_type": "execute_result"
    }
   ],
   "source": [
    "steps"
   ]
  },
  {
   "cell_type": "code",
   "execution_count": 64,
   "id": "a2c8b07c",
   "metadata": {},
   "outputs": [
    {
     "data": {
      "text/plain": [
       "'UDDDUDUU'"
      ]
     },
     "execution_count": 64,
     "metadata": {},
     "output_type": "execute_result"
    }
   ],
   "source": [
    "path"
   ]
  },
  {
   "cell_type": "code",
   "execution_count": 76,
   "id": "4c0c0422",
   "metadata": {},
   "outputs": [],
   "source": [
    "def countingValleys(steps, path):\n",
    "    lst=[]\n",
    "    count = 0\n",
    "    countx = 0\n",
    "    for i in path:\n",
    "        if i=='U':\n",
    "            count += 1\n",
    "        else:\n",
    "            count -= 1\n",
    "        lst.append(count)\n",
    "    for i in range(0,len(lst)-1):\n",
    "        if lst[i]<=0 and lst[i+1]==0:\n",
    "            countx += 1\n",
    "    return countx"
   ]
  },
  {
   "cell_type": "code",
   "execution_count": 77,
   "id": "54f8105b",
   "metadata": {},
   "outputs": [
    {
     "data": {
      "text/plain": [
       "[1, 0, -1, -2, -1, -2, -1, 0]"
      ]
     },
     "execution_count": 77,
     "metadata": {},
     "output_type": "execute_result"
    }
   ],
   "source": [
    "lst"
   ]
  },
  {
   "cell_type": "code",
   "execution_count": 78,
   "id": "97e64f06",
   "metadata": {},
   "outputs": [
    {
     "data": {
      "text/plain": [
       "1"
      ]
     },
     "execution_count": 78,
     "metadata": {},
     "output_type": "execute_result"
    }
   ],
   "source": [
    "countx"
   ]
  },
  {
   "cell_type": "code",
   "execution_count": 81,
   "id": "72d0077e",
   "metadata": {},
   "outputs": [
    {
     "name": "stdout",
     "output_type": "stream",
     "text": [
      "U\n",
      "D\n",
      "D\n",
      "D\n",
      "U\n",
      "D\n",
      "U\n",
      "U\n"
     ]
    }
   ],
   "source": [
    "for steps in path:\n",
    "    print(steps)"
   ]
  },
  {
   "cell_type": "code",
   "execution_count": 82,
   "id": "4839079d",
   "metadata": {},
   "outputs": [
    {
     "name": "stdout",
     "output_type": "stream",
     "text": [
      "1\n"
     ]
    }
   ],
   "source": [
    "valleys = 0\n",
    "cur_level = 0\n",
    "for steps in path:\n",
    "    if(steps == 'U'):\n",
    "        cur_level += 1\n",
    "        if(cur_level == 0):\n",
    "            valleys += 1\n",
    "    elif(steps == 'D'):\n",
    "        cur_level -= 1\n",
    "print(valleys)"
   ]
  },
  {
   "cell_type": "code",
   "execution_count": 83,
   "id": "0b665123",
   "metadata": {},
   "outputs": [
    {
     "name": "stdout",
     "output_type": "stream",
     "text": [
      "10 2 3\n",
      "3 1\n",
      "5 2 8\n"
     ]
    }
   ],
   "source": [
    "bnm = input().split()\n",
    "b = int(bnm[0])\n",
    "n = int(bnm[1])\n",
    "m = int(bnm[2])\n",
    "keyboards = list(map(int, input().rstrip().split()))\n",
    "drives = list(map(int, input().rstrip().split()))"
   ]
  },
  {
   "cell_type": "code",
   "execution_count": 84,
   "id": "ae07ae27",
   "metadata": {},
   "outputs": [
    {
     "data": {
      "text/plain": [
       "10"
      ]
     },
     "execution_count": 84,
     "metadata": {},
     "output_type": "execute_result"
    }
   ],
   "source": [
    "b"
   ]
  },
  {
   "cell_type": "code",
   "execution_count": 85,
   "id": "4dfdce18",
   "metadata": {},
   "outputs": [
    {
     "data": {
      "text/plain": [
       "2"
      ]
     },
     "execution_count": 85,
     "metadata": {},
     "output_type": "execute_result"
    }
   ],
   "source": [
    "n"
   ]
  },
  {
   "cell_type": "code",
   "execution_count": 86,
   "id": "2d1fb452",
   "metadata": {},
   "outputs": [
    {
     "data": {
      "text/plain": [
       "3"
      ]
     },
     "execution_count": 86,
     "metadata": {},
     "output_type": "execute_result"
    }
   ],
   "source": [
    "m"
   ]
  },
  {
   "cell_type": "code",
   "execution_count": 87,
   "id": "e3a220aa",
   "metadata": {},
   "outputs": [
    {
     "data": {
      "text/plain": [
       "[3, 1]"
      ]
     },
     "execution_count": 87,
     "metadata": {},
     "output_type": "execute_result"
    }
   ],
   "source": [
    "keyboards"
   ]
  },
  {
   "cell_type": "code",
   "execution_count": 88,
   "id": "05d21b6e",
   "metadata": {},
   "outputs": [
    {
     "data": {
      "text/plain": [
       "[5, 2, 8]"
      ]
     },
     "execution_count": 88,
     "metadata": {},
     "output_type": "execute_result"
    }
   ],
   "source": [
    "drives"
   ]
  },
  {
   "cell_type": "code",
   "execution_count": 103,
   "id": "bb8c1a29",
   "metadata": {},
   "outputs": [],
   "source": [
    "def getMoneySpent(keyboards, drives, b):\n",
    "    spent=0\n",
    "    for i in keyboards:\n",
    "        for j in drives:\n",
    "            if b >= i + j > spent:\n",
    "                spent = i + j\n",
    "                print(spent,i,j)\n",
    "    spent = -1 if spent==0 else spent\n",
    "    return spent"
   ]
  },
  {
   "cell_type": "code",
   "execution_count": 105,
   "id": "bd747bbc",
   "metadata": {},
   "outputs": [
    {
     "name": "stdout",
     "output_type": "stream",
     "text": [
      "8 3 5\n",
      "9 1 8\n"
     ]
    }
   ],
   "source": [
    "spent=0\n",
    "for i in keyboards:\n",
    "    for j in drives:\n",
    "        if b >= i + j > spent:\n",
    "            spent = i + j\n",
    "            print(spent,i,j)"
   ]
  },
  {
   "cell_type": "code",
   "execution_count": 100,
   "id": "83c23faf",
   "metadata": {},
   "outputs": [],
   "source": [
    "if spent==0:\n",
    "    spent = -1"
   ]
  },
  {
   "cell_type": "code",
   "execution_count": 106,
   "id": "7cd9ceea",
   "metadata": {},
   "outputs": [
    {
     "name": "stdout",
     "output_type": "stream",
     "text": [
      "2\n",
      "1 2 3\n",
      "1 3 2\n"
     ]
    }
   ],
   "source": [
    "q = int(input())\n",
    "for q_itr in range(q):\n",
    "    xyz = input().split()\n",
    "    x = int(xyz[0])\n",
    "    y = int(xyz[1])\n",
    "    z = int(xyz[2])"
   ]
  },
  {
   "cell_type": "code",
   "execution_count": 107,
   "id": "ec49ca34",
   "metadata": {},
   "outputs": [
    {
     "data": {
      "text/plain": [
       "2"
      ]
     },
     "execution_count": 107,
     "metadata": {},
     "output_type": "execute_result"
    }
   ],
   "source": [
    "q"
   ]
  },
  {
   "cell_type": "code",
   "execution_count": 116,
   "id": "64e458b6",
   "metadata": {},
   "outputs": [],
   "source": [
    "x=1"
   ]
  },
  {
   "cell_type": "code",
   "execution_count": 117,
   "id": "8a0b9409",
   "metadata": {},
   "outputs": [],
   "source": [
    "y=2"
   ]
  },
  {
   "cell_type": "code",
   "execution_count": 118,
   "id": "fc7f19b3",
   "metadata": {},
   "outputs": [],
   "source": [
    "z=3"
   ]
  },
  {
   "cell_type": "code",
   "execution_count": 121,
   "id": "01493c07",
   "metadata": {},
   "outputs": [],
   "source": [
    "def catAndMouse(x, y, z):\n",
    "    if abs(z-x) > abs(z-y):\n",
    "        ans = 'Cat B'\n",
    "    elif abs(z-x) == abs(z-y):\n",
    "        ans = 'Mouse C'\n",
    "    else:\n",
    "        ans = 'Cat A'\n",
    "    return ans"
   ]
  },
  {
   "cell_type": "code",
   "execution_count": 122,
   "id": "7399980e",
   "metadata": {},
   "outputs": [
    {
     "data": {
      "text/plain": [
       "'Cat B'"
      ]
     },
     "execution_count": 122,
     "metadata": {},
     "output_type": "execute_result"
    }
   ],
   "source": [
    "catAndMouse(x, y, z)"
   ]
  },
  {
   "cell_type": "code",
   "execution_count": 179,
   "id": "aac4295c",
   "metadata": {},
   "outputs": [
    {
     "name": "stdout",
     "output_type": "stream",
     "text": [
      "6\n",
      "4 6 5 3 3 1\n"
     ]
    }
   ],
   "source": [
    "n = int(input().strip())\n",
    "a = list(map(int, input().rstrip().split()))"
   ]
  },
  {
   "cell_type": "code",
   "execution_count": 173,
   "id": "acf00597",
   "metadata": {},
   "outputs": [
    {
     "data": {
      "text/plain": [
       "6"
      ]
     },
     "execution_count": 173,
     "metadata": {},
     "output_type": "execute_result"
    }
   ],
   "source": [
    "n"
   ]
  },
  {
   "cell_type": "code",
   "execution_count": 174,
   "id": "7726a60a",
   "metadata": {},
   "outputs": [
    {
     "data": {
      "text/plain": [
       "[4, 6, 5, 3, 3, 1]"
      ]
     },
     "execution_count": 174,
     "metadata": {},
     "output_type": "execute_result"
    }
   ],
   "source": [
    "a"
   ]
  },
  {
   "cell_type": "code",
   "execution_count": 175,
   "id": "8f77564a",
   "metadata": {},
   "outputs": [],
   "source": [
    "a.sort()"
   ]
  },
  {
   "cell_type": "code",
   "execution_count": 176,
   "id": "2edb93c6",
   "metadata": {},
   "outputs": [
    {
     "data": {
      "text/plain": [
       "[1, 3, 3, 4, 5, 6]"
      ]
     },
     "execution_count": 176,
     "metadata": {},
     "output_type": "execute_result"
    }
   ],
   "source": [
    "a"
   ]
  },
  {
   "cell_type": "code",
   "execution_count": null,
   "id": "759d01e5",
   "metadata": {},
   "outputs": [],
   "source": [
    "def pickingNumbers(a):\n",
    "    a.sort()\n",
    "    mx=0\n",
    "    for i in range(0,n):\n",
    "        for j in range(i+1,n):\n",
    "            if a[j]-a[i]<=1:\n",
    "                x = len(a[i:j+1])\n",
    "                if x>mx:\n",
    "                    mx=x\n",
    "    return mx "
   ]
  },
  {
   "cell_type": "code",
   "execution_count": 202,
   "id": "951796ea",
   "metadata": {},
   "outputs": [
    {
     "name": "stdout",
     "output_type": "stream",
     "text": [
      "4 9 2\n",
      "3 5 7\n",
      "8 1 5\n"
     ]
    }
   ],
   "source": [
    "s = []\n",
    "for _ in range(3):\n",
    "    s.append(list(map(int, input().rstrip().split())))"
   ]
  },
  {
   "cell_type": "code",
   "execution_count": 203,
   "id": "a164c3cc",
   "metadata": {},
   "outputs": [],
   "source": [
    "orig=s"
   ]
  },
  {
   "cell_type": "code",
   "execution_count": 3,
   "id": "04a42270",
   "metadata": {},
   "outputs": [
    {
     "ename": "NameError",
     "evalue": "name 'permutations' is not defined",
     "output_type": "error",
     "traceback": [
      "\u001b[0;31m---------------------------------------------------------------------------\u001b[0m",
      "\u001b[0;31mNameError\u001b[0m                                 Traceback (most recent call last)",
      "\u001b[0;32m<ipython-input-3-35475b87e665>\u001b[0m in \u001b[0;36m<module>\u001b[0;34m\u001b[0m\n\u001b[1;32m      1\u001b[0m \u001b[0mAns\u001b[0m \u001b[0;34m=\u001b[0m \u001b[0;36m81\u001b[0m\u001b[0;34m\u001b[0m\u001b[0;34m\u001b[0m\u001b[0m\n\u001b[0;32m----> 2\u001b[0;31m \u001b[0;32mfor\u001b[0m \u001b[0mP\u001b[0m \u001b[0;32min\u001b[0m \u001b[0mpermutations\u001b[0m\u001b[0;34m(\u001b[0m\u001b[0mrange\u001b[0m\u001b[0;34m(\u001b[0m\u001b[0;36m1\u001b[0m\u001b[0;34m,\u001b[0m\u001b[0;36m10\u001b[0m\u001b[0;34m)\u001b[0m\u001b[0;34m)\u001b[0m\u001b[0;34m:\u001b[0m\u001b[0;34m\u001b[0m\u001b[0;34m\u001b[0m\u001b[0m\n\u001b[0m\u001b[1;32m      3\u001b[0m     \u001b[0;32mif\u001b[0m \u001b[0msum\u001b[0m\u001b[0;34m(\u001b[0m\u001b[0mP\u001b[0m\u001b[0;34m[\u001b[0m\u001b[0;36m0\u001b[0m\u001b[0;34m:\u001b[0m\u001b[0;36m3\u001b[0m\u001b[0;34m]\u001b[0m\u001b[0;34m)\u001b[0m \u001b[0;34m==\u001b[0m \u001b[0;36m15\u001b[0m \u001b[0;32mand\u001b[0m \u001b[0msum\u001b[0m\u001b[0;34m(\u001b[0m\u001b[0mP\u001b[0m\u001b[0;34m[\u001b[0m\u001b[0;36m3\u001b[0m\u001b[0;34m:\u001b[0m\u001b[0;36m6\u001b[0m\u001b[0;34m]\u001b[0m\u001b[0;34m)\u001b[0m \u001b[0;34m==\u001b[0m \u001b[0;36m15\u001b[0m \u001b[0;32mand\u001b[0m \u001b[0msum\u001b[0m\u001b[0;34m(\u001b[0m\u001b[0mP\u001b[0m\u001b[0;34m[\u001b[0m\u001b[0;36m0\u001b[0m\u001b[0;34m:\u001b[0m\u001b[0;34m:\u001b[0m\u001b[0;36m3\u001b[0m\u001b[0;34m]\u001b[0m\u001b[0;34m)\u001b[0m \u001b[0;34m==\u001b[0m \u001b[0;36m15\u001b[0m \u001b[0;32mand\u001b[0m \u001b[0msum\u001b[0m\u001b[0;34m(\u001b[0m\u001b[0mP\u001b[0m\u001b[0;34m[\u001b[0m\u001b[0;36m1\u001b[0m\u001b[0;34m:\u001b[0m\u001b[0;34m:\u001b[0m\u001b[0;36m3\u001b[0m\u001b[0;34m]\u001b[0m\u001b[0;34m)\u001b[0m \u001b[0;34m==\u001b[0m \u001b[0;36m15\u001b[0m \u001b[0;32mand\u001b[0m \u001b[0mP\u001b[0m\u001b[0;34m[\u001b[0m\u001b[0;36m0\u001b[0m\u001b[0;34m]\u001b[0m \u001b[0;34m+\u001b[0m \u001b[0mP\u001b[0m\u001b[0;34m[\u001b[0m\u001b[0;36m4\u001b[0m\u001b[0;34m]\u001b[0m \u001b[0;34m+\u001b[0m \u001b[0mP\u001b[0m\u001b[0;34m[\u001b[0m\u001b[0;36m8\u001b[0m\u001b[0;34m]\u001b[0m \u001b[0;34m==\u001b[0m \u001b[0;36m15\u001b[0m \u001b[0;32mand\u001b[0m \u001b[0;34m(\u001b[0m\u001b[0mP\u001b[0m\u001b[0;34m[\u001b[0m\u001b[0;36m2\u001b[0m\u001b[0;34m]\u001b[0m \u001b[0;34m+\u001b[0m \u001b[0mP\u001b[0m\u001b[0;34m[\u001b[0m\u001b[0;36m4\u001b[0m\u001b[0;34m]\u001b[0m \u001b[0;34m+\u001b[0m \u001b[0mP\u001b[0m\u001b[0;34m[\u001b[0m\u001b[0;36m6\u001b[0m\u001b[0;34m]\u001b[0m \u001b[0;34m==\u001b[0m \u001b[0;36m15\u001b[0m\u001b[0;34m)\u001b[0m\u001b[0;34m:\u001b[0m\u001b[0;34m\u001b[0m\u001b[0;34m\u001b[0m\u001b[0m\n\u001b[1;32m      4\u001b[0m         \u001b[0mAns\u001b[0m \u001b[0;34m=\u001b[0m \u001b[0mmin\u001b[0m\u001b[0;34m(\u001b[0m\u001b[0mAns\u001b[0m\u001b[0;34m,\u001b[0m \u001b[0msum\u001b[0m\u001b[0;34m(\u001b[0m\u001b[0mabs\u001b[0m\u001b[0;34m(\u001b[0m\u001b[0mP\u001b[0m\u001b[0;34m[\u001b[0m\u001b[0mi\u001b[0m\u001b[0;34m]\u001b[0m \u001b[0;34m-\u001b[0m \u001b[0mX\u001b[0m\u001b[0;34m[\u001b[0m\u001b[0mi\u001b[0m\u001b[0;34m]\u001b[0m\u001b[0;34m)\u001b[0m \u001b[0;32mfor\u001b[0m \u001b[0mi\u001b[0m \u001b[0;32min\u001b[0m \u001b[0mrange\u001b[0m\u001b[0;34m(\u001b[0m\u001b[0;36m0\u001b[0m\u001b[0;34m,\u001b[0m\u001b[0;36m9\u001b[0m\u001b[0;34m)\u001b[0m\u001b[0;34m)\u001b[0m\u001b[0;34m)\u001b[0m\u001b[0;34m\u001b[0m\u001b[0;34m\u001b[0m\u001b[0m\n\u001b[1;32m      5\u001b[0m \u001b[0mprint\u001b[0m\u001b[0;34m(\u001b[0m\u001b[0mAns\u001b[0m\u001b[0;34m)\u001b[0m\u001b[0;34m\u001b[0m\u001b[0;34m\u001b[0m\u001b[0m\n",
      "\u001b[0;31mNameError\u001b[0m: name 'permutations' is not defined"
     ]
    }
   ],
   "source": [
    "Ans = 81\n",
    "for P in permutations(range(1,10)):\n",
    "    if sum(P[0:3]) == 15 and sum(P[3:6]) == 15 and sum(P[0::3]) == 15 and sum(P[1::3]) == 15 and P[0] + P[4] + P[8] == 15 and (P[2] + P[4] + P[6] == 15):\n",
    "        Ans = min(Ans, sum(abs(P[i] - X[i]) for i in range(0,9)))\n",
    "print(Ans)"
   ]
  },
  {
   "cell_type": "code",
   "execution_count": 1,
   "id": "97c2aad1",
   "metadata": {},
   "outputs": [
    {
     "name": "stdout",
     "output_type": "stream",
     "text": [
      "x\n"
     ]
    }
   ],
   "source": [
    "print('x')"
   ]
  },
  {
   "cell_type": "code",
   "execution_count": 5,
   "id": "72c65bdc",
   "metadata": {},
   "outputs": [
    {
     "name": "stdout",
     "output_type": "stream",
     "text": [
      "4 9 2\n",
      "3 5 7\n",
      "8 1 5\n",
      "1\n"
     ]
    }
   ],
   "source": [
    "from itertools import *\n",
    "\n",
    "X = []\n",
    "X.extend(list(map(int,input().split())))\n",
    "X.extend(list(map(int,input().split())))\n",
    "X.extend(list(map(int,input().split())))\n",
    "\n",
    "Ans = 81\n",
    "for P in permutations(range(1,10)):\n",
    "    if sum(P[0:3]) == 15 and sum(P[3:6]) == 15 and sum(P[0::3]) == 15 and sum(P[1::3]) == 15 and P[0] + P[4] + P[8] == 15 and (P[2] + P[4] + P[6] == 15):\n",
    "        Ans = min(Ans, sum(abs(P[i] - X[i]) for i in range(0,9)))\n",
    "print(Ans)"
   ]
  },
  {
   "cell_type": "code",
   "execution_count": 6,
   "id": "ec28c65d",
   "metadata": {},
   "outputs": [
    {
     "data": {
      "text/plain": [
       "[4, 9, 2, 3, 5, 7, 8, 1, 5]"
      ]
     },
     "execution_count": 6,
     "metadata": {},
     "output_type": "execute_result"
    }
   ],
   "source": [
    "X"
   ]
  },
  {
   "cell_type": "code",
   "execution_count": 7,
   "id": "3f01c818",
   "metadata": {},
   "outputs": [
    {
     "data": {
      "text/plain": [
       "(9, 8, 7)"
      ]
     },
     "execution_count": 7,
     "metadata": {},
     "output_type": "execute_result"
    }
   ],
   "source": [
    "P[0:3]"
   ]
  },
  {
   "cell_type": "code",
   "execution_count": 9,
   "id": "eb18a24f",
   "metadata": {},
   "outputs": [
    {
     "data": {
      "text/plain": [
       "(6, 5, 4)"
      ]
     },
     "execution_count": 9,
     "metadata": {},
     "output_type": "execute_result"
    }
   ],
   "source": [
    "P[3:6]"
   ]
  },
  {
   "cell_type": "code",
   "execution_count": 10,
   "id": "3f6b9e7f",
   "metadata": {},
   "outputs": [
    {
     "name": "stdout",
     "output_type": "stream",
     "text": [
      "7\n",
      "100 100 50 40 40 20 10\n",
      "4\n",
      "5 25 50 120\n"
     ]
    }
   ],
   "source": [
    "ranked_count = int(input().strip())\n",
    "ranked = list(map(int, input().rstrip().split()))\n",
    "player_count = int(input().strip())\n",
    "player = list(map(int, input().rstrip().split()))"
   ]
  },
  {
   "cell_type": "code",
   "execution_count": 11,
   "id": "48247828",
   "metadata": {},
   "outputs": [
    {
     "data": {
      "text/plain": [
       "[100, 100, 50, 40, 40, 20, 10]"
      ]
     },
     "execution_count": 11,
     "metadata": {},
     "output_type": "execute_result"
    }
   ],
   "source": [
    "ranked"
   ]
  },
  {
   "cell_type": "code",
   "execution_count": 13,
   "id": "0d91019b",
   "metadata": {},
   "outputs": [
    {
     "data": {
      "text/plain": [
       "[5, 25, 50, 120]"
      ]
     },
     "execution_count": 13,
     "metadata": {},
     "output_type": "execute_result"
    }
   ],
   "source": [
    "player"
   ]
  },
  {
   "cell_type": "code",
   "execution_count": 17,
   "id": "7ee54eeb",
   "metadata": {},
   "outputs": [
    {
     "name": "stdout",
     "output_type": "stream",
     "text": [
      "100\n",
      "100\n",
      "50\n",
      "40\n",
      "40\n",
      "20\n",
      "10\n"
     ]
    }
   ],
   "source": [
    "for i in ranked:\n",
    "    print(i)"
   ]
  },
  {
   "cell_type": "code",
   "execution_count": null,
   "id": "8554795d",
   "metadata": {},
   "outputs": [],
   "source": [
    "for t in range(int(input())):\n",
    "    Input=input().rstrip().split()\n",
    "    x=int(Input[0])\n",
    "    y=int(Input[1])\n",
    "\n",
    "    if x>10*y:\n",
    "        ans='YES'\n",
    "    else:\n",
    "        ans='NO'\n",
    "    print(ans)"
   ]
  },
  {
   "cell_type": "code",
   "execution_count": 14,
   "id": "6d3f0d14",
   "metadata": {},
   "outputs": [
    {
     "name": "stdout",
     "output_type": "stream",
     "text": [
      "3 4 5 6\n"
     ]
    }
   ],
   "source": [
    "inp = input().rstrip()"
   ]
  },
  {
   "cell_type": "code",
   "execution_count": 16,
   "id": "3df65602",
   "metadata": {},
   "outputs": [],
   "source": [
    "x=int(inp[0])"
   ]
  },
  {
   "cell_type": "code",
   "execution_count": 17,
   "id": "4122950c",
   "metadata": {},
   "outputs": [
    {
     "data": {
      "text/plain": [
       "3"
      ]
     },
     "execution_count": 17,
     "metadata": {},
     "output_type": "execute_result"
    }
   ],
   "source": [
    "x"
   ]
  },
  {
   "cell_type": "code",
   "execution_count": 77,
   "id": "aa2a01cb",
   "metadata": {},
   "outputs": [
    {
     "name": "stdout",
     "output_type": "stream",
     "text": [
      "1\n",
      "1 4\n"
     ]
    }
   ],
   "source": [
    "import math\n",
    "for t in range(int(input())):\n",
    "    inp=input().rstrip().split()\n",
    "    N=int(inp[0])\n",
    "    M=int(inp[1])\n",
    "    ans=math.gcd(N,M)"
   ]
  },
  {
   "cell_type": "code",
   "execution_count": 78,
   "id": "d2d88fc9",
   "metadata": {},
   "outputs": [
    {
     "data": {
      "text/plain": [
       "1"
      ]
     },
     "execution_count": 78,
     "metadata": {},
     "output_type": "execute_result"
    }
   ],
   "source": [
    "ans"
   ]
  },
  {
   "cell_type": "code",
   "execution_count": 79,
   "id": "3547589b",
   "metadata": {},
   "outputs": [
    {
     "ename": "NameError",
     "evalue": "name 'gcd' is not defined",
     "output_type": "error",
     "traceback": [
      "\u001b[0;31m---------------------------------------------------------------------------\u001b[0m",
      "\u001b[0;31mNameError\u001b[0m                                 Traceback (most recent call last)",
      "\u001b[0;32m<ipython-input-79-8e016b41f50d>\u001b[0m in \u001b[0;36m<module>\u001b[0;34m\u001b[0m\n\u001b[0;32m----> 1\u001b[0;31m \u001b[0mgcd\u001b[0m\u001b[0;34m(\u001b[0m\u001b[0mN\u001b[0m\u001b[0;34m,\u001b[0m\u001b[0mM\u001b[0m\u001b[0;34m)\u001b[0m\u001b[0;34m\u001b[0m\u001b[0;34m\u001b[0m\u001b[0m\n\u001b[0m",
      "\u001b[0;31mNameError\u001b[0m: name 'gcd' is not defined"
     ]
    }
   ],
   "source": [
    "gcd(N,M)"
   ]
  },
  {
   "cell_type": "code",
   "execution_count": 2,
   "id": "d32370f6",
   "metadata": {},
   "outputs": [
    {
     "name": "stdout",
     "output_type": "stream",
     "text": [
      "2\n",
      "1 3\n",
      "1 6\n"
     ]
    }
   ],
   "source": [
    "for t in range(int(input())):\n",
    "    sor=input().rstrip().split()\n",
    "    N=int(sor[0])\n",
    "    M=int(sor[1])\n",
    "    "
   ]
  },
  {
   "cell_type": "code",
   "execution_count": 20,
   "id": "19188f47",
   "metadata": {},
   "outputs": [
    {
     "name": "stdout",
     "output_type": "stream",
     "text": [
      "2 3 4\n"
     ]
    }
   ],
   "source": [
    "sor=input().split()\n",
    "N=int(sor[0])\n",
    "M=int(sor[1])"
   ]
  },
  {
   "cell_type": "code",
   "execution_count": 21,
   "id": "cb2cae4e",
   "metadata": {},
   "outputs": [
    {
     "data": {
      "text/plain": [
       "2"
      ]
     },
     "execution_count": 21,
     "metadata": {},
     "output_type": "execute_result"
    }
   ],
   "source": [
    "N"
   ]
  },
  {
   "cell_type": "code",
   "execution_count": 22,
   "id": "610cbcc0",
   "metadata": {},
   "outputs": [
    {
     "data": {
      "text/plain": [
       "3"
      ]
     },
     "execution_count": 22,
     "metadata": {},
     "output_type": "execute_result"
    }
   ],
   "source": [
    "M"
   ]
  },
  {
   "cell_type": "code",
   "execution_count": 28,
   "id": "cad265b0",
   "metadata": {},
   "outputs": [
    {
     "name": "stdout",
     "output_type": "stream",
     "text": [
      "1 \n",
      "2 4\n",
      "2\n"
     ]
    }
   ],
   "source": [
    "import math\n",
    "for t in range(int(input())):\n",
    "    sor=input().split()\n",
    "    N=int(sor[0])\n",
    "    M=int(sor[1])\n",
    "    ans=math.gcd(N,M)\n",
    "    print(ans)"
   ]
  },
  {
   "cell_type": "code",
   "execution_count": 30,
   "id": "6edf4a74",
   "metadata": {},
   "outputs": [
    {
     "name": "stdout",
     "output_type": "stream",
     "text": [
      "1\n",
      "30\n"
     ]
    }
   ],
   "source": [
    "for T in range(int(input())):\n",
    "    N=int(input())"
   ]
  },
  {
   "cell_type": "code",
   "execution_count": 31,
   "id": "676edfc4",
   "metadata": {},
   "outputs": [
    {
     "data": {
      "text/plain": [
       "30"
      ]
     },
     "execution_count": 31,
     "metadata": {},
     "output_type": "execute_result"
    }
   ],
   "source": [
    "N"
   ]
  },
  {
   "cell_type": "code",
   "execution_count": 36,
   "id": "952c5286",
   "metadata": {},
   "outputs": [],
   "source": [
    "lst=[]\n",
    "for i in range(1,N+1):\n",
    "    if 30%i==0:\n",
    "        lst.append(i)             "
   ]
  },
  {
   "cell_type": "code",
   "execution_count": 37,
   "id": "ea08fa39",
   "metadata": {},
   "outputs": [
    {
     "data": {
      "text/plain": [
       "[1, 2, 3, 5, 6, 10, 15, 30]"
      ]
     },
     "execution_count": 37,
     "metadata": {},
     "output_type": "execute_result"
    }
   ],
   "source": [
    "lst"
   ]
  },
  {
   "cell_type": "code",
   "execution_count": 11,
   "id": "d39ed807",
   "metadata": {},
   "outputs": [
    {
     "name": "stdout",
     "output_type": "stream",
     "text": [
      "1\n",
      "1 3\n"
     ]
    }
   ],
   "source": [
    "for t in range(int(input())):\n",
    "    sor=input().rstrip().split()\n",
    "    A=int(sor[0])\n",
    "    B=int(sor[1])\n",
    "    C=int(sor[2])\n",
    "    if A+B==C:\n",
    "        print('YES')\n",
    "    else:\n",
    "        print('NO')"
   ]
  },
  {
   "cell_type": "code",
   "execution_count": 12,
   "id": "ffd7ec08",
   "metadata": {},
   "outputs": [
    {
     "data": {
      "text/plain": [
       "1"
      ]
     },
     "execution_count": 12,
     "metadata": {},
     "output_type": "execute_result"
    }
   ],
   "source": [
    "G\n"
   ]
  },
  {
   "cell_type": "code",
   "execution_count": 13,
   "id": "553e3863",
   "metadata": {},
   "outputs": [
    {
     "data": {
      "text/plain": [
       "3"
      ]
     },
     "execution_count": 13,
     "metadata": {},
     "output_type": "execute_result"
    }
   ],
   "source": [
    "B"
   ]
  },
  {
   "cell_type": "code",
   "execution_count": 14,
   "id": "55b9bdf6",
   "metadata": {},
   "outputs": [
    {
     "data": {
      "text/plain": [
       "2"
      ]
     },
     "execution_count": 14,
     "metadata": {},
     "output_type": "execute_result"
    }
   ],
   "source": [
    "GB()"
   ]
  },
  {
   "cell_type": "code",
   "execution_count": 2,
   "id": "1cd65417",
   "metadata": {},
   "outputs": [
    {
     "name": "stdout",
     "output_type": "stream",
     "text": [
      "3\n"
     ]
    }
   ],
   "source": [
    "n = input()"
   ]
  },
  {
   "cell_type": "code",
   "execution_count": 3,
   "id": "504f3af9",
   "metadata": {},
   "outputs": [
    {
     "data": {
      "text/plain": [
       "'3'"
      ]
     },
     "execution_count": 3,
     "metadata": {},
     "output_type": "execute_result"
    }
   ],
   "source": [
    "n"
   ]
  },
  {
   "cell_type": "code",
   "execution_count": 11,
   "id": "7f53faf8",
   "metadata": {},
   "outputs": [],
   "source": [
    "star = ' * '"
   ]
  },
  {
   "cell_type": "code",
   "execution_count": 12,
   "id": "09d06dd0",
   "metadata": {},
   "outputs": [
    {
     "data": {
      "text/plain": [
       "' *  *  * '"
      ]
     },
     "execution_count": 12,
     "metadata": {},
     "output_type": "execute_result"
    }
   ],
   "source": [
    "star*int(n)"
   ]
  },
  {
   "cell_type": "markdown",
   "id": "f0191e22",
   "metadata": {},
   "source": [
    "## 1"
   ]
  },
  {
   "cell_type": "code",
   "execution_count": 43,
   "id": "9c725b39",
   "metadata": {
    "scrolled": true
   },
   "outputs": [
    {
     "name": "stdout",
     "output_type": "stream",
     "text": [
      "Enter the number: \n",
      "3\n",
      "* * * \n",
      "\n",
      "* * * \n",
      "\n",
      "* * * \n",
      "\n"
     ]
    }
   ],
   "source": [
    "print('Enter the number: ')\n",
    "n = int(input())\n",
    "for i in range(n):\n",
    "    print('* ',end='')\n",
    "    for j in range(n-1):\n",
    "        print('* ',end='')\n",
    "    print('\\n')\n"
   ]
  },
  {
   "cell_type": "markdown",
   "id": "a44d6e6b",
   "metadata": {},
   "source": [
    "## 2"
   ]
  },
  {
   "cell_type": "code",
   "execution_count": 48,
   "id": "6d123693",
   "metadata": {},
   "outputs": [
    {
     "name": "stdout",
     "output_type": "stream",
     "text": [
      "Enter the number: \n",
      "6\n",
      "* \n",
      "\n",
      "* * \n",
      "\n",
      "* * * \n",
      "\n",
      "* * * * \n",
      "\n",
      "* * * * * \n",
      "\n",
      "* * * * * * \n",
      "\n"
     ]
    }
   ],
   "source": [
    "print('Enter the number: ')\n",
    "n = int(input())\n",
    "x=0\n",
    "for i in range(n):\n",
    "    print('* ',end='')\n",
    "    \n",
    "    for j in range(x):\n",
    "        print('* ',end='')\n",
    "    x=x+1\n",
    "    print('\\n')\n"
   ]
  },
  {
   "cell_type": "markdown",
   "id": "9b917278",
   "metadata": {},
   "source": [
    "## 3"
   ]
  },
  {
   "cell_type": "code",
   "execution_count": 9,
   "id": "fa39383e",
   "metadata": {},
   "outputs": [
    {
     "name": "stdout",
     "output_type": "stream",
     "text": [
      "Enter the number: \n",
      "4\n",
      "1 \n",
      "\n",
      "1 2 \n",
      "\n",
      "1 2 3 \n",
      "\n",
      "1 2 3 4 \n",
      "\n"
     ]
    }
   ],
   "source": [
    "print('Enter the number: ')\n",
    "n = int(input())\n",
    "x=0\n",
    "\n",
    "for i in range(n):\n",
    "    f=int(1)\n",
    "    print(f ,end=' ')\n",
    "    for j in range(x):\n",
    "        f=f+1\n",
    "        print(f,end=' ')\n",
    "    x=x+1\n",
    "    print('\\n')\n",
    "\n",
    "\n"
   ]
  },
  {
   "cell_type": "markdown",
   "id": "a1dfe1d5",
   "metadata": {},
   "source": [
    "## 4"
   ]
  },
  {
   "cell_type": "code",
   "execution_count": 13,
   "id": "d404d6ae",
   "metadata": {
    "scrolled": false
   },
   "outputs": [
    {
     "name": "stdout",
     "output_type": "stream",
     "text": [
      "Enter the number: \n",
      "5\n",
      "1 \n",
      "\n",
      "2 2 \n",
      "\n",
      "3 3 3 \n",
      "\n",
      "4 4 4 4 \n",
      "\n",
      "5 5 5 5 5 \n",
      "\n"
     ]
    }
   ],
   "source": [
    "print('Enter the number: ')\n",
    "n = int(input())\n",
    "x=0\n",
    "f=int(1)\n",
    "for i in range(n):\n",
    "    \n",
    "    print(f ,end=' ')\n",
    "    for j in range(x):\n",
    "        \n",
    "        print(f,end=' ')\n",
    "    f=f+1\n",
    "    x=x+1\n",
    "    print('\\n')"
   ]
  },
  {
   "cell_type": "markdown",
   "id": "d67c21f7",
   "metadata": {},
   "source": [
    "## 5\n"
   ]
  },
  {
   "cell_type": "code",
   "execution_count": 17,
   "id": "7de32d4d",
   "metadata": {},
   "outputs": [
    {
     "name": "stdout",
     "output_type": "stream",
     "text": [
      "Enter the number: \n",
      "5\n",
      "* * * * * \n",
      "\n",
      "* * * * \n",
      "\n",
      "* * * \n",
      "\n",
      "* * \n",
      "\n",
      "* \n",
      "\n"
     ]
    }
   ],
   "source": [
    "print('Enter the number: ')\n",
    "n = int(input())\n",
    "x=0\n",
    "for i in range(n):\n",
    "    \n",
    "    print('*',end=' ')\n",
    "    for j in range(n-x-1):\n",
    "        \n",
    "        print('*' ,end=' ')\n",
    "\n",
    "    x=x+1\n",
    "    print('\\n')"
   ]
  },
  {
   "cell_type": "markdown",
   "id": "3325006c",
   "metadata": {},
   "source": [
    "## 6\n"
   ]
  },
  {
   "cell_type": "code",
   "execution_count": 19,
   "id": "53389fab",
   "metadata": {},
   "outputs": [
    {
     "name": "stdout",
     "output_type": "stream",
     "text": [
      "Enter the number: \n",
      "5\n",
      "1 2 3 4 5 \n",
      "\n",
      "1 2 3 4 \n",
      "\n",
      "1 2 3 \n",
      "\n",
      "1 2 \n",
      "\n",
      "1 \n",
      "\n"
     ]
    }
   ],
   "source": [
    "print('Enter the number: ')\n",
    "n = int(input())\n",
    "x=0\n",
    "for i in range(n):\n",
    "    f=int(1)\n",
    "    print(f,end=' ')\n",
    "    for j in range(n-x-1):\n",
    "        f=f+1\n",
    "        print(f ,end=' ')\n",
    "\n",
    "    x=x+1\n",
    "    print('\\n')"
   ]
  },
  {
   "cell_type": "markdown",
   "id": "c0c89369",
   "metadata": {},
   "source": [
    "## 7"
   ]
  },
  {
   "cell_type": "code",
   "execution_count": 57,
   "id": "bbedd61f",
   "metadata": {},
   "outputs": [
    {
     "name": "stdout",
     "output_type": "stream",
     "text": [
      "Enter the number: \n",
      "5\n",
      "    *    \n",
      "\n",
      "\n",
      "   ***   \n",
      "\n",
      "\n",
      "  *****  \n",
      "\n",
      "\n",
      " ******* \n",
      "\n",
      "\n",
      "*********\n",
      "\n",
      "\n"
     ]
    }
   ],
   "source": [
    "print('Enter the number: ')\n",
    "n=int(input())\n",
    "a=int(n-1)\n",
    "b=int(1)\n",
    "c=int(n-1)\n",
    "for i in range(n):\n",
    "    print(a*' ' + b*'*' + c*' ')\n",
    "    a=a-1\n",
    "    b=b+2\n",
    "    c=c-1\n",
    "    print('\\n')"
   ]
  },
  {
   "cell_type": "markdown",
   "id": "bae0e2d4",
   "metadata": {},
   "source": [
    "## 8"
   ]
  },
  {
   "cell_type": "code",
   "execution_count": 59,
   "id": "6c5674aa",
   "metadata": {},
   "outputs": [
    {
     "name": "stdout",
     "output_type": "stream",
     "text": [
      "Enter the number: \n",
      "5\n",
      "*********\n",
      "\n",
      "\n",
      " ******* \n",
      "\n",
      "\n",
      "  *****  \n",
      "\n",
      "\n",
      "   ***   \n",
      "\n",
      "\n",
      "    *    \n",
      "\n",
      "\n"
     ]
    }
   ],
   "source": [
    "print('Enter the number: ')\n",
    "n=int(input())\n",
    "a=int(0)\n",
    "b=int(2*n-1)\n",
    "c=int(0)\n",
    "for i in range(n):\n",
    "    print(a*' ' + b*'*' + c*' ')\n",
    "    a=a+1\n",
    "    b=b-2\n",
    "    c=c+1\n",
    "    print('\\n')"
   ]
  },
  {
   "cell_type": "markdown",
   "id": "30440f97",
   "metadata": {},
   "source": [
    "## 9"
   ]
  },
  {
   "cell_type": "code",
   "execution_count": 61,
   "id": "e4fc2b9d",
   "metadata": {},
   "outputs": [
    {
     "name": "stdout",
     "output_type": "stream",
     "text": [
      "Enter the number: \n",
      "3\n",
      "  *  \n",
      "\n",
      "\n",
      " *** \n",
      "\n",
      "\n",
      "*****\n",
      "\n",
      "\n",
      "*****\n",
      "\n",
      "\n",
      " *** \n",
      "\n",
      "\n",
      "  *  \n",
      "\n",
      "\n"
     ]
    }
   ],
   "source": [
    "print('Enter the number: ')\n",
    "n=int(input())\n",
    "a=int(n-1)\n",
    "b=int(1)\n",
    "c=int(n-1)\n",
    "for i in range(n):\n",
    "    print(a*' ' + b*'*' + c*' ')\n",
    "    a=a-1\n",
    "    b=b+2\n",
    "    c=c-1\n",
    "    print('\\n')\n",
    "\n",
    "a=int(0)\n",
    "b=int(2*n-1)\n",
    "c=int(0)\n",
    "for i in range(n):\n",
    "    print(a*' ' + b*'*' + c*' ')\n",
    "    a=a+1\n",
    "    b=b-2\n",
    "    c=c+1\n",
    "    print('\\n')"
   ]
  },
  {
   "cell_type": "markdown",
   "id": "8f855960",
   "metadata": {},
   "source": [
    "## 10"
   ]
  },
  {
   "cell_type": "code",
   "execution_count": 101,
   "id": "58e425a9",
   "metadata": {},
   "outputs": [
    {
     "name": "stdout",
     "output_type": "stream",
     "text": [
      "Enter the number: \n",
      "10\n",
      "*\n",
      "**\n",
      "***\n",
      "****\n",
      "*****\n",
      "******\n",
      "*******\n",
      "********\n",
      "*********\n",
      "**********\n",
      "*********\n",
      "********\n",
      "*******\n",
      "******\n",
      "*****\n",
      "****\n",
      "***\n",
      "**\n",
      "*\n",
      "\n"
     ]
    }
   ],
   "source": [
    "print('Enter the number: ')\n",
    "n=int(input())\n",
    "a=int(1)\n",
    "for i in range(n):\n",
    "    print(a*'*')\n",
    "    a=a+1\n",
    "a=int(n-1)\n",
    "for i in range(n):\n",
    "    print(a*'*')\n",
    "    a=a-1 "
   ]
  },
  {
   "cell_type": "markdown",
   "id": "10195e38",
   "metadata": {},
   "source": [
    "## 21\n"
   ]
  },
  {
   "cell_type": "code",
   "execution_count": 78,
   "id": "e7eca79b",
   "metadata": {},
   "outputs": [
    {
     "name": "stdout",
     "output_type": "stream",
     "text": [
      "Enter the number: \n",
      "6\n",
      "******\n",
      "*    *\n",
      "*    *\n",
      "*    *\n",
      "*    *\n",
      "******\n"
     ]
    }
   ],
   "source": [
    "print('Enter the number: ')\n",
    "n=int(input())\n",
    "print(n*'*')\n",
    "for i in range(n-2):\n",
    "    print('*' + (n-2)*' ' + '*')\n",
    "    a=a+1\n",
    "print(n*'*')"
   ]
  },
  {
   "cell_type": "markdown",
   "id": "d2391892",
   "metadata": {},
   "source": [
    "## 19"
   ]
  },
  {
   "cell_type": "code",
   "execution_count": 93,
   "id": "c2b5e2c2",
   "metadata": {},
   "outputs": [
    {
     "name": "stdout",
     "output_type": "stream",
     "text": [
      "Enter the number: \n",
      "6\n",
      "************\n",
      "*****  *****\n",
      "****    ****\n",
      "***      ***\n",
      "**        **\n",
      "*          *\n",
      "*          *\n",
      "**        **\n",
      "***      ***\n",
      "****    ****\n",
      "*****  *****\n",
      "************\n"
     ]
    }
   ],
   "source": [
    "print('Enter the number: ')\n",
    "n=int(input())\n",
    "a=n\n",
    "for i in range(n):\n",
    "    print(a*'*' + 2*(n-a)*' ' + a*'*')\n",
    "    a=a-1\n",
    "a=1\n",
    "for i in range(n):\n",
    "    print(a*'*' + 2*(n-a)*' ' + a*'*')\n",
    "    a=a+1"
   ]
  },
  {
   "cell_type": "markdown",
   "id": "5aac0de9",
   "metadata": {},
   "source": [
    "## 20\n"
   ]
  },
  {
   "cell_type": "code",
   "execution_count": 99,
   "id": "404aa574",
   "metadata": {},
   "outputs": [
    {
     "name": "stdout",
     "output_type": "stream",
     "text": [
      "Enter the number: \n",
      "6\n",
      "*          *\n",
      "**        **\n",
      "***      ***\n",
      "****    ****\n",
      "*****  *****\n",
      "************\n",
      "*****  *****\n",
      "****    ****\n",
      "***      ***\n",
      "**        **\n",
      "*          *\n",
      "            \n"
     ]
    }
   ],
   "source": [
    "print('Enter the number: ')\n",
    "n=int(input())\n",
    "a=1\n",
    "for i in range(n):\n",
    "    print(a*'*' + 2*(n-a)*' ' + a*'*')\n",
    "    a=a+1\n",
    "a=n-1\n",
    "for i in range(n):\n",
    "    print(a*'*' + 2*(n-a)*' ' + a*'*')\n",
    "    a=a-1"
   ]
  },
  {
   "cell_type": "markdown",
   "id": "a246f68f",
   "metadata": {},
   "source": [
    "# 12"
   ]
  },
  {
   "cell_type": "code",
   "execution_count": null,
   "id": "e25b30d0",
   "metadata": {},
   "outputs": [],
   "source": []
  },
  {
   "cell_type": "markdown",
   "id": "c44ec7c6",
   "metadata": {},
   "source": [
    "##### 11"
   ]
  },
  {
   "cell_type": "code",
   "execution_count": 150,
   "id": "58d9a6e3",
   "metadata": {},
   "outputs": [
    {
     "name": "stdout",
     "output_type": "stream",
     "text": [
      "Enter the number: \n",
      "5\n",
      "1\n",
      "\n",
      "01\n",
      "\n",
      "101\n",
      "\n",
      "0101\n",
      "\n",
      "10101\n",
      "\n"
     ]
    }
   ],
   "source": [
    "print('Enter the number: ')\n",
    "n=int(input())\n",
    "\n",
    "for i in range(n):\n",
    "    \n",
    "    if i%2==0:\n",
    "        for j in range(i+1):\n",
    "            k=j%2\n",
    "          \n",
    "            if k==0:\n",
    "                print(k+1,end='')\n",
    "            if k==1:\n",
    "                print(k-1,end='')\n",
    "     \n",
    "    else:                                                             \n",
    "        for j in range(i+1):\n",
    "            k=j%2\n",
    "            print(k,end='')\n",
    "    print('\\n')"
   ]
  },
  {
   "cell_type": "markdown",
   "id": "64ebe668",
   "metadata": {},
   "source": [
    "## 13"
   ]
  },
  {
   "cell_type": "code",
   "execution_count": 194,
   "id": "c02cfeb8",
   "metadata": {},
   "outputs": [
    {
     "name": "stdout",
     "output_type": "stream",
     "text": [
      "Enter the number: \n",
      "5\n",
      "1 \n",
      "\n",
      "2 3 \n",
      "\n",
      "4 5 6 \n",
      "\n",
      "7 8 9 10 \n",
      "\n",
      "11 12 13 14 15 \n",
      "\n"
     ]
    }
   ],
   "source": [
    "print('Enter the number: ')\n",
    "n=int(input())\n",
    "num=1\n",
    "for i in range(1,n+1):\n",
    "    for j in range(1,i+1):\n",
    "        print(num,end=' ')\n",
    "        num = num + 1\n",
    "    \n",
    "    print('\\n')"
   ]
  },
  {
   "cell_type": "code",
   "execution_count": 218,
   "id": "9aa771a3",
   "metadata": {},
   "outputs": [
    {
     "name": "stdout",
     "output_type": "stream",
     "text": [
      "Enter the number: \n",
      "3\n",
      "*1 ####*\n",
      "\n",
      "**1 ##2 ##**\n",
      "\n",
      "***1 2 3 ***\n",
      "\n"
     ]
    }
   ],
   "source": [
    "print('Enter the number: ')\n",
    "n=int(input())\n",
    "space = 2 * (n-1)\n",
    "\n",
    "\n",
    "for i in range(1,n+1):\n",
    "    #numbers\n",
    "    for j in range(1,i+1):\n",
    "        print('*',end='')\n",
    "        \n",
    "        \n",
    "    #space\n",
    "    for j in range(1,i+1):\n",
    "        print(j,space*'#',end='')\n",
    "        \n",
    "        \n",
    "        \n",
    "    #numbers\n",
    "    for j in range(1,i+1):\n",
    "        print('*',end='')\n",
    "    print('\\n')\n",
    "    space = space - 2    \n",
    "        "
   ]
  },
  {
   "cell_type": "code",
   "execution_count": 234,
   "id": "62eb50f0",
   "metadata": {},
   "outputs": [
    {
     "name": "stdout",
     "output_type": "stream",
     "text": [
      "Enter the number: \n",
      "6\n",
      "A\n",
      "\n",
      "AB\n",
      "\n",
      "ABC\n",
      "\n",
      "ABCD\n",
      "\n",
      "ABCDE\n",
      "\n",
      "ABCDEF\n",
      "\n"
     ]
    }
   ],
   "source": [
    "print('Enter the number: ')\n",
    "n=int(input())\n",
    "ar=['A','B','C','D','E','F','G','H','I','J','K','L','M','N','O','P','Q','R','S','T','U','V','W','X','Y','Z']\n",
    "for i in range(1,n+1):\n",
    "\n",
    "    for j in range(i):\n",
    "        print(ar[j], end='')\n",
    "    print('\\n')"
   ]
  },
  {
   "cell_type": "code",
   "execution_count": 236,
   "id": "fdfe821d",
   "metadata": {},
   "outputs": [
    {
     "name": "stdout",
     "output_type": "stream",
     "text": [
      "Enter the number: \n",
      "5\n",
      "ABCD\n",
      "\n",
      "ABC\n",
      "\n",
      "AB\n",
      "\n",
      "A\n",
      "\n",
      "\n",
      "\n"
     ]
    }
   ],
   "source": [
    "print('Enter the number: ')\n",
    "n=int(input())\n",
    "ar=['A','B','C','D','E','F','G','H','I','J','K','L','M','N','O','P','Q','R','S','T','U','V','W','X','Y','Z']\n",
    "for i in range(1,n+1):\n",
    "    \n",
    "    for j in range(n-i):\n",
    "        \n",
    "        print(ar[j], end='')\n",
    "    \n",
    "    print('\\n')\n",
    "     "
   ]
  },
  {
   "cell_type": "code",
   "execution_count": 245,
   "id": "6351e4ed",
   "metadata": {},
   "outputs": [
    {
     "name": "stdout",
     "output_type": "stream",
     "text": [
      "Enter the number: \n",
      "5\n",
      "F\n",
      "\n",
      "FE\n",
      "\n",
      "FED\n",
      "\n",
      "FEDC\n",
      "\n",
      "FEDCB\n",
      "\n"
     ]
    }
   ],
   "source": [
    "print('Enter the number: ')\n",
    "n=int(input())\n",
    "ar=['A','B','C','D','E','F','G','H','I','J','K','L','M','N','O','P','Q','R','S','T','U','V','W','X','Y','Z']\n",
    "for i in range(1,n+1):\n",
    "    \n",
    "    for j in range(i):\n",
    "        print(ar[n-j],end='')\n",
    "        \n",
    "    print('\\n')"
   ]
  },
  {
   "cell_type": "code",
   "execution_count": 250,
   "id": "4b3a801e",
   "metadata": {},
   "outputs": [
    {
     "name": "stdout",
     "output_type": "stream",
     "text": [
      "Enter the number: \n",
      "5\n",
      "E\n",
      "\n",
      "ED\n",
      "\n",
      "EDC\n",
      "\n",
      "EDCB\n",
      "\n",
      "EDCBA\n",
      "\n"
     ]
    }
   ],
   "source": [
    "print('Enter the number: ')\n",
    "n=int(input())\n",
    "ar=['A','B','C','D','E','F','G','H','I','J','K','L','M','N','O','P','Q','R','S','T','U','V','W','X','Y','Z']\n",
    "for i in range(1,n+1):\n",
    "    \n",
    "    for j in range(i):\n",
    "        print(ar[n-j-1],end='')\n",
    "        \n",
    "        \n",
    "    print('\\n')"
   ]
  },
  {
   "cell_type": "code",
   "execution_count": 3,
   "id": "627c09a1",
   "metadata": {},
   "outputs": [
    {
     "name": "stdout",
     "output_type": "stream",
     "text": [
      "Enter the number: \n",
      "3\n",
      "___\n",
      "__\n",
      "_\n"
     ]
    }
   ],
   "source": [
    "print('Enter the number: ')\n",
    "n=int(input())\n",
    "for i in range(n):\n",
    "    print((n-i)*'_')\n",
    "    \n",
    "    \n",
    "    \n",
    "    for j in range()\n",
    "    \n",
    "    "
   ]
  },
  {
   "cell_type": "markdown",
   "id": "b1b1aaf6",
   "metadata": {},
   "source": []
  },
  {
   "cell_type": "code",
   "execution_count": 23,
   "id": "5d474829",
   "metadata": {},
   "outputs": [
    {
     "name": "stdout",
     "output_type": "stream",
     "text": [
      "Enter the number: \n",
      "2\n",
      "-1\n"
     ]
    }
   ],
   "source": [
    "print('Enter the number: ')\n",
    "a=input()\n",
    "x = a.isupper()\n",
    "y=a.islower()\n",
    "if x==True:\n",
    "    print(1)\n",
    "    \n",
    "elif y==True:\n",
    "    print(0)\n",
    "else:\n",
    "    print(-1)\n",
    "    \n"
   ]
  },
  {
   "cell_type": "code",
   "execution_count": 19,
   "id": "05a452a1",
   "metadata": {},
   "outputs": [
    {
     "data": {
      "text/plain": [
       "False"
      ]
     },
     "execution_count": 19,
     "metadata": {},
     "output_type": "execute_result"
    }
   ],
   "source": [
    "a.isupper()"
   ]
  },
  {
   "cell_type": "code",
   "execution_count": null,
   "id": "4713d5a3",
   "metadata": {},
   "outputs": [],
   "source": [
    "x=int(10)\n",
    "x=long(15)\n"
   ]
  },
  {
   "cell_type": "code",
   "execution_count": 6,
   "id": "b159da16",
   "metadata": {},
   "outputs": [
    {
     "name": "stdout",
     "output_type": "stream",
     "text": [
      "1234\n"
     ]
    }
   ],
   "source": [
    "n=input()\n"
   ]
  },
  {
   "cell_type": "code",
   "execution_count": 7,
   "id": "cbf8f217",
   "metadata": {},
   "outputs": [
    {
     "data": {
      "text/plain": [
       "'1234'"
      ]
     },
     "execution_count": 7,
     "metadata": {},
     "output_type": "execute_result"
    }
   ],
   "source": [
    "n"
   ]
  },
  {
   "cell_type": "code",
   "execution_count": 8,
   "id": "c44324c2",
   "metadata": {},
   "outputs": [
    {
     "data": {
      "text/plain": [
       "4"
      ]
     },
     "execution_count": 8,
     "metadata": {},
     "output_type": "execute_result"
    }
   ],
   "source": [
    "len(n)"
   ]
  },
  {
   "cell_type": "code",
   "execution_count": 19,
   "id": "d6d0405f",
   "metadata": {},
   "outputs": [
    {
     "name": "stdout",
     "output_type": "stream",
     "text": [
      "abcd\n",
      "dcba"
     ]
    }
   ],
   "source": [
    "N = input()\n",
    "for i in range(k):\n",
    "    print(N[k-i-1],end='')"
   ]
  },
  {
   "cell_type": "code",
   "execution_count": 23,
   "id": "923de92a",
   "metadata": {},
   "outputs": [],
   "source": [
    "def reverseBits(n):\n",
    "    # Write your code here.\n",
    "    n = input()\n",
    "    for i in range(k):\n",
    "        print(n[k-i-1],end='')\n",
    "\n",
    "    pass\n",
    "\n"
   ]
  },
  {
   "cell_type": "code",
   "execution_count": 33,
   "id": "42362876",
   "metadata": {},
   "outputs": [
    {
     "name": "stdout",
     "output_type": "stream",
     "text": [
      "abcd\n"
     ]
    },
    {
     "ename": "IndexError",
     "evalue": "string index out of range",
     "output_type": "error",
     "traceback": [
      "\u001b[0;31m---------------------------------------------------------------------------\u001b[0m",
      "\u001b[0;31mIndexError\u001b[0m                                Traceback (most recent call last)",
      "\u001b[0;32m<ipython-input-33-ad196c1f024e>\u001b[0m in \u001b[0;36m<module>\u001b[0;34m\u001b[0m\n\u001b[1;32m      4\u001b[0m \u001b[0;32mfor\u001b[0m \u001b[0mi\u001b[0m \u001b[0;32min\u001b[0m \u001b[0mrange\u001b[0m\u001b[0;34m(\u001b[0m\u001b[0mk\u001b[0m\u001b[0;34m)\u001b[0m\u001b[0;34m:\u001b[0m\u001b[0;34m\u001b[0m\u001b[0;34m\u001b[0m\u001b[0m\n\u001b[1;32m      5\u001b[0m \u001b[0;34m\u001b[0m\u001b[0m\n\u001b[0;32m----> 6\u001b[0;31m     \u001b[0mSD\u001b[0m\u001b[0;34m=\u001b[0m\u001b[0marr\u001b[0m\u001b[0;34m.\u001b[0m\u001b[0mappend\u001b[0m\u001b[0;34m(\u001b[0m\u001b[0mN\u001b[0m\u001b[0;34m[\u001b[0m\u001b[0mk\u001b[0m\u001b[0;34m-\u001b[0m\u001b[0mi\u001b[0m\u001b[0;34m-\u001b[0m\u001b[0;36m1\u001b[0m\u001b[0;34m]\u001b[0m\u001b[0;34m)\u001b[0m\u001b[0;34m\u001b[0m\u001b[0;34m\u001b[0m\u001b[0m\n\u001b[0m\u001b[1;32m      7\u001b[0m     \u001b[0mprint\u001b[0m\u001b[0;34m(\u001b[0m\u001b[0mSD\u001b[0m\u001b[0;34m)\u001b[0m\u001b[0;34m\u001b[0m\u001b[0;34m\u001b[0m\u001b[0m\n",
      "\u001b[0;31mIndexError\u001b[0m: string index out of range"
     ]
    }
   ],
   "source": [
    "N = input()\n",
    "arr=[]\n",
    "k=len(y)\n",
    "for i in range(k):\n",
    "    \n",
    "    SD=arr.append(N[k-i-1])\n",
    "    print(SD)"
   ]
  },
  {
   "cell_type": "code",
   "execution_count": 31,
   "id": "0281ef40",
   "metadata": {},
   "outputs": [
    {
     "name": "stdout",
     "output_type": "stream",
     "text": [
      "None\n"
     ]
    }
   ],
   "source": [
    "print(SD)"
   ]
  },
  {
   "cell_type": "code",
   "execution_count": 25,
   "id": "5b37eb04",
   "metadata": {},
   "outputs": [
    {
     "name": "stdout",
     "output_type": "stream",
     "text": [
      "abcd\n",
      "dcba"
     ]
    }
   ],
   "source": [
    "reverseBits(n)"
   ]
  },
  {
   "cell_type": "code",
   "execution_count": 26,
   "id": "d18841d4",
   "metadata": {},
   "outputs": [],
   "source": [
    "x=int(12)"
   ]
  },
  {
   "cell_type": "code",
   "execution_count": 27,
   "id": "333a9dc9",
   "metadata": {},
   "outputs": [],
   "source": [
    "y=bin(x)"
   ]
  },
  {
   "cell_type": "code",
   "execution_count": 28,
   "id": "bdce54b0",
   "metadata": {},
   "outputs": [
    {
     "data": {
      "text/plain": [
       "'0b1100'"
      ]
     },
     "execution_count": 28,
     "metadata": {},
     "output_type": "execute_result"
    }
   ],
   "source": [
    "y"
   ]
  },
  {
   "cell_type": "code",
   "execution_count": 34,
   "id": "7c452e20",
   "metadata": {},
   "outputs": [],
   "source": [
    "N="
   ]
  },
  {
   "cell_type": "code",
   "execution_count": 35,
   "id": "4d8f3ebf",
   "metadata": {},
   "outputs": [
    {
     "data": {
      "text/plain": [
       "int"
      ]
     },
     "execution_count": 35,
     "metadata": {},
     "output_type": "execute_result"
    }
   ],
   "source": [
    "type(N)"
   ]
  },
  {
   "cell_type": "code",
   "execution_count": 36,
   "id": "ac5963b4",
   "metadata": {},
   "outputs": [
    {
     "name": "stdout",
     "output_type": "stream",
     "text": [
      "445.0\n",
      "44.5\n",
      "4.45\n",
      "0.445\n",
      "0.0445\n",
      "0.00445\n",
      "0.000445\n",
      "4.45e-05\n",
      "4.45e-06\n",
      "4.45e-07\n",
      "4.4499999999999995e-08\n",
      "4.449999999999999e-09\n",
      "4.449999999999999e-10\n",
      "4.449999999999999e-11\n",
      "4.449999999999999e-12\n",
      "4.449999999999999e-13\n",
      "4.4499999999999993e-14\n",
      "4.449999999999999e-15\n",
      "4.449999999999999e-16\n",
      "4.4499999999999996e-17\n",
      "4.4499999999999994e-18\n",
      "4.449999999999999e-19\n",
      "4.4499999999999997e-20\n",
      "4.4499999999999995e-21\n",
      "4.4499999999999995e-22\n",
      "4.4499999999999995e-23\n",
      "4.4499999999999995e-24\n",
      "4.449999999999999e-25\n",
      "4.4499999999999995e-26\n",
      "4.4499999999999996e-27\n",
      "4.449999999999999e-28\n",
      "4.4499999999999995e-29\n",
      "4.45e-30\n",
      "4.45e-31\n",
      "4.45e-32\n",
      "4.45e-33\n",
      "4.45e-34\n",
      "4.4499999999999995e-35\n",
      "4.45e-36\n",
      "4.449999999999999e-37\n",
      "4.4499999999999996e-38\n",
      "4.45e-39\n",
      "4.45e-40\n",
      "4.4499999999999995e-41\n",
      "4.45e-42\n",
      "4.45e-43\n",
      "4.4500000000000003e-44\n",
      "4.45e-45\n",
      "4.4500000000000005e-46\n",
      "4.450000000000001e-47\n",
      "4.4500000000000007e-48\n",
      "4.45e-49\n",
      "4.45e-50\n",
      "4.45e-51\n",
      "4.4500000000000005e-52\n",
      "4.45e-53\n",
      "4.45e-54\n",
      "4.45e-55\n",
      "4.4500000000000005e-56\n",
      "4.4500000000000004e-57\n",
      "4.4500000000000006e-58\n",
      "4.45e-59\n",
      "4.45e-60\n",
      "4.4500000000000004e-61\n",
      "4.45e-62\n",
      "4.4500000000000005e-63\n",
      "4.4500000000000003e-64\n",
      "4.4500000000000005e-65\n",
      "4.4500000000000005e-66\n",
      "4.4500000000000005e-67\n",
      "4.450000000000001e-68\n",
      "4.450000000000001e-69\n",
      "4.450000000000001e-70\n",
      "4.450000000000001e-71\n",
      "4.4500000000000014e-72\n",
      "4.4500000000000014e-73\n",
      "4.450000000000001e-74\n",
      "4.450000000000001e-75\n",
      "4.4500000000000016e-76\n",
      "4.450000000000001e-77\n",
      "4.450000000000001e-78\n",
      "4.4500000000000006e-79\n",
      "4.4500000000000006e-80\n",
      "4.450000000000001e-81\n",
      "4.450000000000001e-82\n",
      "4.4500000000000015e-83\n",
      "4.450000000000001e-84\n",
      "4.4500000000000015e-85\n",
      "4.4500000000000015e-86\n",
      "4.4500000000000015e-87\n",
      "4.4500000000000017e-88\n",
      "4.450000000000002e-89\n",
      "4.450000000000002e-90\n",
      "4.450000000000002e-91\n",
      "4.4500000000000016e-92\n",
      "4.450000000000002e-93\n",
      "4.450000000000002e-94\n",
      "4.450000000000002e-95\n",
      "4.450000000000002e-96\n",
      "4.450000000000002e-97\n",
      "4.450000000000002e-98\n",
      "4.450000000000002e-99\n",
      "4.450000000000002e-100\n",
      "4.4500000000000023e-101\n",
      "4.4500000000000025e-102\n",
      "4.4500000000000024e-103\n",
      "4.450000000000002e-104\n",
      "4.450000000000002e-105\n",
      "4.450000000000002e-106\n",
      "4.4500000000000014e-107\n",
      "4.450000000000001e-108\n",
      "4.450000000000001e-109\n",
      "4.450000000000001e-110\n",
      "4.450000000000001e-111\n",
      "4.450000000000001e-112\n",
      "4.450000000000001e-113\n",
      "4.450000000000001e-114\n",
      "4.4500000000000005e-115\n",
      "4.450000000000001e-116\n",
      "4.450000000000001e-117\n",
      "4.450000000000001e-118\n",
      "4.4500000000000013e-119\n",
      "4.450000000000001e-120\n",
      "4.450000000000001e-121\n",
      "4.4500000000000007e-122\n",
      "4.450000000000001e-123\n",
      "4.4500000000000005e-124\n",
      "4.4500000000000005e-125\n",
      "4.45e-126\n",
      "4.45e-127\n",
      "4.4500000000000003e-128\n",
      "4.45e-129\n",
      "4.45e-130\n",
      "4.45e-131\n",
      "4.45e-132\n",
      "4.4500000000000005e-133\n",
      "4.450000000000001e-134\n",
      "4.450000000000001e-135\n",
      "4.450000000000001e-136\n",
      "4.450000000000001e-137\n",
      "4.450000000000001e-138\n",
      "4.450000000000001e-139\n",
      "4.450000000000001e-140\n",
      "4.4500000000000016e-141\n",
      "4.450000000000002e-142\n",
      "4.450000000000002e-143\n",
      "4.450000000000002e-144\n",
      "4.450000000000002e-145\n",
      "4.450000000000002e-146\n",
      "4.450000000000002e-147\n",
      "4.4500000000000016e-148\n",
      "4.4500000000000015e-149\n",
      "4.4500000000000017e-150\n",
      "4.4500000000000014e-151\n",
      "4.450000000000002e-152\n",
      "4.450000000000002e-153\n",
      "4.4500000000000016e-154\n",
      "4.450000000000002e-155\n",
      "4.4500000000000016e-156\n",
      "4.4500000000000014e-157\n",
      "4.450000000000002e-158\n",
      "4.450000000000002e-159\n",
      "4.450000000000002e-160\n",
      "4.450000000000002e-161\n",
      "4.450000000000002e-162\n",
      "4.450000000000002e-163\n",
      "4.4500000000000024e-164\n",
      "4.450000000000002e-165\n",
      "4.450000000000002e-166\n",
      "4.450000000000002e-167\n",
      "4.450000000000003e-168\n",
      "4.4500000000000027e-169\n",
      "4.450000000000002e-170\n",
      "4.450000000000002e-171\n",
      "4.4500000000000024e-172\n",
      "4.4500000000000026e-173\n",
      "4.450000000000003e-174\n",
      "4.4500000000000025e-175\n",
      "4.4500000000000026e-176\n",
      "4.4500000000000025e-177\n",
      "4.4500000000000025e-178\n",
      "4.450000000000003e-179\n",
      "4.450000000000003e-180\n",
      "4.450000000000003e-181\n",
      "4.4500000000000026e-182\n",
      "4.450000000000003e-183\n",
      "4.450000000000003e-184\n",
      "4.450000000000003e-185\n",
      "4.450000000000003e-186\n",
      "4.450000000000003e-187\n",
      "4.450000000000003e-188\n",
      "4.450000000000003e-189\n",
      "4.450000000000003e-190\n",
      "4.450000000000003e-191\n",
      "4.450000000000003e-192\n",
      "4.450000000000003e-193\n",
      "4.450000000000003e-194\n",
      "4.4500000000000034e-195\n",
      "4.450000000000003e-196\n",
      "4.4500000000000036e-197\n",
      "4.450000000000004e-198\n",
      "4.450000000000004e-199\n",
      "4.450000000000004e-200\n",
      "4.450000000000004e-201\n",
      "4.450000000000004e-202\n",
      "4.450000000000004e-203\n",
      "4.450000000000004e-204\n",
      "4.450000000000004e-205\n",
      "4.450000000000004e-206\n",
      "4.450000000000004e-207\n",
      "4.450000000000004e-208\n",
      "4.450000000000004e-209\n",
      "4.450000000000004e-210\n",
      "4.450000000000004e-211\n",
      "4.450000000000004e-212\n",
      "4.450000000000004e-213\n",
      "4.450000000000004e-214\n",
      "4.450000000000004e-215\n",
      "4.450000000000004e-216\n",
      "4.450000000000004e-217\n",
      "4.450000000000004e-218\n",
      "4.450000000000004e-219\n",
      "4.4500000000000044e-220\n",
      "4.450000000000005e-221\n",
      "4.4500000000000047e-222\n",
      "4.4500000000000045e-223\n",
      "4.450000000000004e-224\n",
      "4.450000000000004e-225\n",
      "4.450000000000004e-226\n",
      "4.450000000000004e-227\n",
      "4.4500000000000047e-228\n",
      "4.4500000000000044e-229\n",
      "4.450000000000004e-230\n",
      "4.450000000000004e-231\n",
      "4.450000000000004e-232\n",
      "4.450000000000004e-233\n",
      "4.450000000000004e-234\n",
      "4.450000000000004e-235\n",
      "4.450000000000004e-236\n",
      "4.4500000000000044e-237\n",
      "4.450000000000005e-238\n",
      "4.450000000000005e-239\n",
      "4.450000000000005e-240\n",
      "4.4500000000000045e-241\n",
      "4.4500000000000045e-242\n",
      "4.4500000000000044e-243\n",
      "4.450000000000004e-244\n",
      "4.450000000000004e-245\n",
      "4.450000000000004e-246\n",
      "4.450000000000004e-247\n",
      "4.450000000000004e-248\n",
      "4.4500000000000044e-249\n",
      "4.4500000000000046e-250\n",
      "4.450000000000005e-251\n",
      "4.450000000000005e-252\n",
      "4.4500000000000056e-253\n",
      "4.4500000000000054e-254\n",
      "4.450000000000005e-255\n",
      "4.450000000000005e-256\n",
      "4.4500000000000056e-257\n",
      "4.450000000000006e-258\n",
      "4.450000000000006e-259\n",
      "4.4500000000000055e-260\n",
      "4.450000000000006e-261\n",
      "4.4500000000000055e-262\n",
      "4.4500000000000055e-263\n",
      "4.450000000000006e-264\n",
      "4.4500000000000055e-265\n",
      "4.4500000000000056e-266\n",
      "4.4500000000000054e-267\n",
      "4.450000000000005e-268\n",
      "4.450000000000005e-269\n",
      "4.450000000000005e-270\n",
      "4.450000000000005e-271\n",
      "4.4500000000000053e-272\n",
      "4.450000000000005e-273\n",
      "4.4500000000000056e-274\n",
      "4.4500000000000056e-275\n",
      "4.450000000000005e-276\n",
      "4.4500000000000054e-277\n",
      "4.450000000000005e-278\n",
      "4.4500000000000055e-279\n",
      "4.450000000000005e-280\n",
      "4.4500000000000055e-281\n",
      "4.450000000000005e-282\n",
      "4.450000000000005e-283\n",
      "4.4500000000000054e-284\n",
      "4.450000000000005e-285\n",
      "4.450000000000005e-286\n",
      "4.450000000000005e-287\n",
      "4.450000000000005e-288\n",
      "4.4500000000000055e-289\n",
      "4.4500000000000053e-290\n",
      "4.4500000000000056e-291\n",
      "4.450000000000005e-292\n",
      "4.450000000000005e-293\n",
      "4.450000000000005e-294\n",
      "4.4500000000000055e-295\n",
      "4.4500000000000054e-296\n",
      "4.4500000000000055e-297\n",
      "4.450000000000005e-298\n",
      "4.4500000000000055e-299\n",
      "4.450000000000006e-300\n",
      "4.4500000000000055e-301\n",
      "4.4500000000000053e-302\n",
      "4.450000000000005e-303\n",
      "4.450000000000005e-304\n",
      "4.4500000000000054e-305\n",
      "4.450000000000005e-306\n",
      "4.450000000000005e-307\n",
      "4.450000000000005e-308\n",
      "4.450000000000004e-309\n",
      "4.45e-310\n",
      "4.45e-311\n",
      "4.45e-312\n",
      "4.45e-313\n",
      "4.45e-314\n",
      "4.45e-315\n",
      "4.45e-316\n",
      "4.45e-317\n",
      "4.45e-318\n",
      "4.45e-319\n",
      "4.45e-320\n",
      "4.45e-321\n",
      "4.45e-322\n",
      "4.4e-323\n",
      "5e-324\n",
      "0.0\n"
     ]
    }
   ],
   "source": [
    "while N>0:\n",
    "    last_digit = \n",
    "    N=N/10\n",
    "    print(N)"
   ]
  },
  {
   "cell_type": "code",
   "execution_count": 3,
   "id": "5695b134",
   "metadata": {},
   "outputs": [],
   "source": [
    "from typing import *\n",
    "\n",
    "def compareIfElse(a: int, b: int):\n",
    "    # Write your code here\n",
    "    \n",
    "    if a>b:\n",
    "        print('greater')\n",
    "    elif a==b:\n",
    "        print('equal')\n",
    "    else:\n",
    "        print('smaller')\n",
    "    pass"
   ]
  },
  {
   "cell_type": "code",
   "execution_count": 4,
   "id": "5b571365",
   "metadata": {},
   "outputs": [
    {
     "name": "stdout",
     "output_type": "stream",
     "text": [
      "greater\n"
     ]
    }
   ],
   "source": [
    "compareIfElse(2,1)"
   ]
  },
  {
   "cell_type": "code",
   "execution_count": 45,
   "id": "20360861",
   "metadata": {},
   "outputs": [
    {
     "name": "stdout",
     "output_type": "stream",
     "text": [
      "8\n"
     ]
    }
   ],
   "source": [
    "lst=[1,1]\n",
    "for i in range(n-2):\n",
    "    lst.append(lst[i] + lst[i+1])\n",
    "print(lst[n-1])"
   ]
  },
  {
   "cell_type": "code",
   "execution_count": 17,
   "id": "6804bd5b",
   "metadata": {},
   "outputs": [
    {
     "name": "stdout",
     "output_type": "stream",
     "text": [
      "123456\n",
      "12 9\n"
     ]
    }
   ],
   "source": [
    "## Note : For printing multiple values in one line, put them inside print separated by space.\n",
    "## You can follow this syntax for printing values of two variables val1 and val2 separaetd by space -\n",
    "## print(val1, \" \", val2)\n",
    "n=input()\n",
    "sumodd = 0\n",
    "sumeven = 0\n",
    "for i in range(len(n)):\n",
    "    if int(n[i])%2==0:\n",
    "        sumeven += int(n[i])\n",
    "    else:\n",
    "        sumodd += int(n[i])\n",
    "print(sumeven,sumodd)"
   ]
  },
  {
   "cell_type": "code",
   "execution_count": 6,
   "id": "f3d43a6d",
   "metadata": {},
   "outputs": [
    {
     "data": {
      "text/plain": [
       "'1'"
      ]
     },
     "execution_count": 6,
     "metadata": {},
     "output_type": "execute_result"
    }
   ],
   "source": [
    "if int(n[i])%2==0:\n",
    "    sumeven += int(n[i])"
   ]
  },
  {
   "cell_type": "code",
   "execution_count": 7,
   "id": "234455ea",
   "metadata": {},
   "outputs": [
    {
     "data": {
      "text/plain": [
       "5"
      ]
     },
     "execution_count": 7,
     "metadata": {},
     "output_type": "execute_result"
    }
   ],
   "source": [
    "len(n)"
   ]
  },
  {
   "cell_type": "code",
   "execution_count": 25,
   "id": "d00ec6b0",
   "metadata": {},
   "outputs": [
    {
     "name": "stdout",
     "output_type": "stream",
     "text": [
      "12345\n"
     ]
    }
   ],
   "source": [
    "i=0\n",
    "n=input()\n",
    "sumodd = 0\n",
    "sumeven = 0\n",
    "while(int(n[i])%2==0):\n",
    "    sumeven += int(n[i])\n",
    "    print(sumeven)\n",
    "    i += 1"
   ]
  },
  {
   "cell_type": "code",
   "execution_count": 26,
   "id": "cdd83a79",
   "metadata": {},
   "outputs": [
    {
     "data": {
      "text/plain": [
       "'12345'"
      ]
     },
     "execution_count": 26,
     "metadata": {},
     "output_type": "execute_result"
    }
   ],
   "source": [
    "n"
   ]
  },
  {
   "cell_type": "code",
   "execution_count": null,
   "id": "b4dbc8fd",
   "metadata": {},
   "outputs": [],
   "source": [
    "int(n[])"
   ]
  },
  {
   "cell_type": "code",
   "execution_count": 1,
   "id": "7427b404",
   "metadata": {},
   "outputs": [
    {
     "name": "stdout",
     "output_type": "stream",
     "text": [
      "Long\n"
     ]
    }
   ],
   "source": [
    "a = input()"
   ]
  },
  {
   "cell_type": "code",
   "execution_count": 3,
   "id": "3041406c",
   "metadata": {},
   "outputs": [
    {
     "data": {
      "text/plain": [
       "str"
      ]
     },
     "execution_count": 3,
     "metadata": {},
     "output_type": "execute_result"
    }
   ],
   "source": [
    "type(a)"
   ]
  },
  {
   "cell_type": "code",
   "execution_count": 6,
   "id": "5d6c6836",
   "metadata": {},
   "outputs": [],
   "source": [
    "from typing import *\n",
    "\n",
    "def dataTypes(type: str):\n",
    "\n",
    "    if type=='Integer':\n",
    "        print(4)\n",
    "    if type=='Long':\n",
    "        print(8)\n",
    "    if type=='Float':\n",
    "        print(4)\n",
    "    if type=='Double':\n",
    "        print(8)\n",
    "    if type=='Character':\n",
    "        print(1)\n",
    "    pass\n"
   ]
  },
  {
   "cell_type": "code",
   "execution_count": 7,
   "id": "1da16806",
   "metadata": {},
   "outputs": [
    {
     "name": "stdout",
     "output_type": "stream",
     "text": [
      "8\n"
     ]
    }
   ],
   "source": [
    "dataTypes('Long')"
   ]
  },
  {
   "cell_type": "code",
   "execution_count": 46,
   "id": "af067e93",
   "metadata": {},
   "outputs": [],
   "source": [
    "from typing import *\n",
    "import math\n",
    "\n",
    "\n",
    "def areaSwitchCase(ch: int, a: List[float]):\n",
    "    # Write your code here\n",
    "    if ch==1:\n",
    "        area=math.pi*a[0]*a[0]\n",
    "    elif ch==2:\n",
    "        area=a[0]*a[1]\n",
    "    \n",
    "    return round(area,5)\n",
    "    \n",
    "    pass "
   ]
  },
  {
   "cell_type": "code",
   "execution_count": 55,
   "id": "ce29993e",
   "metadata": {},
   "outputs": [
    {
     "name": "stdout",
     "output_type": "stream",
     "text": [
      "12345\n",
      "6  9\n"
     ]
    }
   ],
   "source": [
    "## Note : For printing multiple values in one line, put them inside print separated by space.\n",
    "## You can follow this syntax for printing values of two variables val1 and val2 separaetd by space -\n",
    "## print(val1, \" \", val2)\n",
    "n=input()\n",
    "sumodd = 0\n",
    "sumeven = 0\n",
    "i=0\n",
    "while(i<len(n)):\n",
    "    if int(n[i])%2==0:\n",
    "        sumeven += int(n[i])\n",
    "    else:\n",
    "        sumodd += int(n[i])\n",
    "    i = i + 1\n",
    "print(sumeven,'',sumodd)"
   ]
  },
  {
   "cell_type": "code",
   "execution_count": 53,
   "id": "85096d2c",
   "metadata": {},
   "outputs": [
    {
     "name": "stdout",
     "output_type": "stream",
     "text": [
      "12345\n"
     ]
    }
   ],
   "source": [
    "n=input()\n",
    "sumodd = 0\n",
    "sumeven = 0\n",
    "for i in range(len(n)):\n",
    "    if int(n[i])%2==0:\n",
    "        sumeven += int(n[i])\n",
    "    else:\n",
    "        sumodd += int(n[i])\n",
    "    "
   ]
  },
  {
   "cell_type": "code",
   "execution_count": 54,
   "id": "759879b8",
   "metadata": {},
   "outputs": [
    {
     "data": {
      "text/plain": [
       "9"
      ]
     },
     "execution_count": 54,
     "metadata": {},
     "output_type": "execute_result"
    }
   ],
   "source": [
    "sumeven\n",
    "sumodd"
   ]
  },
  {
   "cell_type": "code",
   "execution_count": 58,
   "id": "170d0d6a",
   "metadata": {},
   "outputs": [],
   "source": [
    "def reverseBits(n):\n",
    "    # Write your code here.\n",
    "    N = 123\n",
    "    reverse = 0\n",
    "    while N!=0:\n",
    "        digit =  N % 10\n",
    "        reverse = reverse * 10 + digit\n",
    "        N = N // 10\n",
    "print(reverse)\n",
    "    \n",
    "    pass\n"
   ]
  },
  {
   "cell_type": "code",
   "execution_count": 125,
   "id": "3768b7eb",
   "metadata": {},
   "outputs": [
    {
     "name": "stdout",
     "output_type": "stream",
     "text": [
      "12321\n",
      "True\n"
     ]
    }
   ],
   "source": [
    "n=input()\n",
    "k = len(n)\n",
    "score = 0\n",
    "# taking n as a input \n",
    "## write your code !!\n",
    "for i in range(k):\n",
    "    if n[i]==n[k-1-i]:\n",
    "        score += 1\n",
    "        \n",
    "    else:\n",
    "        score -= 1\n",
    "if score==k:\n",
    "    print(True)\n",
    "else:\n",
    "    print(False)\n",
    "    "
   ]
  },
  {
   "cell_type": "code",
   "execution_count": 144,
   "id": "c8f14fe0",
   "metadata": {},
   "outputs": [
    {
     "name": "stdout",
     "output_type": "stream",
     "text": [
      "5\n",
      "25\n",
      "5\n"
     ]
    }
   ],
   "source": [
    "n = int(input())\n",
    "m = int(input())\n",
    "lst1 = []\n",
    "lst2 = []\n",
    "lst3 = []\n",
    "for i in range(1,n+1):\n",
    "    if n % i == 0:\n",
    "        lst1.append(i)\n",
    "for i in range(1,m+1):\n",
    "    if m % i == 0:\n",
    "        lst2.append(i)\n",
    "\n",
    "for i in reversed(lst1):\n",
    "    for j in reversed(lst2):\n",
    "        if i==j:\n",
    "            lst3.append(i)\n",
    "print(max(lst3))"
   ]
  },
  {
   "cell_type": "code",
   "execution_count": 185,
   "id": "06995541",
   "metadata": {},
   "outputs": [],
   "source": [
    "def calcGCD(n:int, m: int) -> int:\n",
    "    # Write your code here\n",
    "    while n>0 and m>0:\n",
    "        if n>m: n = n % m\n",
    "        else: m = m % n\n",
    "   \n",
    "    if n==0: return m\n",
    "    else: return n\n",
    "\n",
    "\n",
    "   "
   ]
  },
  {
   "cell_type": "code",
   "execution_count": 188,
   "id": "a6cc7555",
   "metadata": {},
   "outputs": [
    {
     "data": {
      "text/plain": [
       "63"
      ]
     },
     "execution_count": 188,
     "metadata": {},
     "output_type": "execute_result"
    }
   ],
   "source": [
    "calcGCD(63,63)"
   ]
  },
  {
   "cell_type": "code",
   "execution_count": 197,
   "id": "a8c234c4",
   "metadata": {},
   "outputs": [
    {
     "name": "stdout",
     "output_type": "stream",
     "text": [
      "1\n",
      "2\n",
      "3\n",
      "4\n",
      "5\n"
     ]
    }
   ],
   "source": [
    "def sumOfAllDivisors(n: int) -> int:\n",
    "    # Write your code here\n",
    "    tdiv = 0\n",
    "    for j in range(1,n+1):\n",
    "        for i in range(1,j+1):\n",
    "            if j % i == 0:\n",
    "                tdiv += i\n",
    "    return tdiv\n",
    "    pass"
   ]
  },
  {
   "cell_type": "code",
   "execution_count": 210,
   "id": "ad858a1d",
   "metadata": {
    "scrolled": true
   },
   "outputs": [
    {
     "name": "stdout",
     "output_type": "stream",
     "text": [
      "21\n"
     ]
    }
   ],
   "source": [
    "n = 5\n",
    "j = 1\n",
    "tdiv = 0\n",
    "while j < n + 1:\n",
    "    for i in range(1,j+1):\n",
    "        if j % i == 0:\n",
    "            tdiv += i\n",
    "    j = j+1           \n",
    "print(tdiv)"
   ]
  },
  {
   "cell_type": "code",
   "execution_count": 214,
   "id": "8bd59dbe",
   "metadata": {},
   "outputs": [
    {
     "name": "stdout",
     "output_type": "stream",
     "text": [
      "NO\n"
     ]
    }
   ],
   "source": [
    "n = 6\n",
    "count = 0\n",
    "for i in range(1,n+1):\n",
    "    if n % i == 0: count += 1\n",
    "if count == 2: print('YES')   \n",
    "else: print('NO')"
   ]
  },
  {
   "cell_type": "code",
   "execution_count": 226,
   "id": "5e3284ca",
   "metadata": {},
   "outputs": [
    {
     "name": "stdout",
     "output_type": "stream",
     "text": [
      "153\n",
      "true\n"
     ]
    }
   ],
   "source": [
    "n = input()\n",
    "k = len(n)\n",
    "sum = 0\n",
    "for i in range(k):\n",
    "    X = int(n[i])**k\n",
    "    sum += X\n",
    "if sum == int(n): print('true')\n",
    "else: print('false')\n",
    "    \n"
   ]
  },
  {
   "cell_type": "code",
   "execution_count": 217,
   "id": "aa384bb4",
   "metadata": {},
   "outputs": [
    {
     "data": {
      "text/plain": [
       "4"
      ]
     },
     "execution_count": 217,
     "metadata": {},
     "output_type": "execute_result"
    }
   ],
   "source": [
    "k"
   ]
  },
  {
   "cell_type": "code",
   "execution_count": 6,
   "id": "90cdea5a",
   "metadata": {},
   "outputs": [],
   "source": [
    "from typing import List\n",
    "\n",
    "def printNos(n: int) -> List[int]: \n",
    "    # Write your code here\n",
    "    \n",
    "    \n",
    "        \n",
    "        pass"
   ]
  },
  {
   "cell_type": "code",
   "execution_count": 7,
   "id": "1676bb60",
   "metadata": {},
   "outputs": [],
   "source": [
    "printNos(5)"
   ]
  },
  {
   "cell_type": "code",
   "execution_count": 27,
   "id": "41866a98",
   "metadata": {},
   "outputs": [
    {
     "ename": "SyntaxError",
     "evalue": "'break' outside loop (<ipython-input-27-ffd0bcae3bcd>, line 7)",
     "output_type": "error",
     "traceback": [
      "\u001b[0;36m  File \u001b[0;32m\"<ipython-input-27-ffd0bcae3bcd>\"\u001b[0;36m, line \u001b[0;32m7\u001b[0m\n\u001b[0;31m    if count == n+1: break\u001b[0m\n\u001b[0m                     ^\u001b[0m\n\u001b[0;31mSyntaxError\u001b[0m\u001b[0;31m:\u001b[0m 'break' outside loop\n"
     ]
    }
   ],
   "source": [
    "count = 0\n",
    "lst = []\n",
    "def listf(n:int):\n",
    "    count += 1\n",
    "    lst.append(count)\n",
    "    print(lst)\n",
    "    if count == n+1: break \n",
    "    listf(n)\n",
    "    "
   ]
  },
  {
   "cell_type": "code",
   "execution_count": 25,
   "id": "a17de046",
   "metadata": {},
   "outputs": [
    {
     "ename": "UnboundLocalError",
     "evalue": "local variable 'count' referenced before assignment",
     "output_type": "error",
     "traceback": [
      "\u001b[0;31m---------------------------------------------------------------------------\u001b[0m",
      "\u001b[0;31mUnboundLocalError\u001b[0m                         Traceback (most recent call last)",
      "\u001b[0;32m<ipython-input-25-5afd15bd3ffb>\u001b[0m in \u001b[0;36m<module>\u001b[0;34m\u001b[0m\n\u001b[0;32m----> 1\u001b[0;31m \u001b[0mlistf\u001b[0m\u001b[0;34m(\u001b[0m\u001b[0;36m5\u001b[0m\u001b[0;34m)\u001b[0m\u001b[0;34m\u001b[0m\u001b[0;34m\u001b[0m\u001b[0m\n\u001b[0m",
      "\u001b[0;32m<ipython-input-24-8ebcff30e74d>\u001b[0m in \u001b[0;36mlistf\u001b[0;34m(n)\u001b[0m\n\u001b[1;32m      2\u001b[0m \u001b[0mlst\u001b[0m \u001b[0;34m=\u001b[0m \u001b[0;34m[\u001b[0m\u001b[0;34m]\u001b[0m\u001b[0;34m\u001b[0m\u001b[0;34m\u001b[0m\u001b[0m\n\u001b[1;32m      3\u001b[0m \u001b[0;32mdef\u001b[0m \u001b[0mlistf\u001b[0m\u001b[0;34m(\u001b[0m\u001b[0mn\u001b[0m\u001b[0;34m:\u001b[0m\u001b[0mint\u001b[0m\u001b[0;34m)\u001b[0m\u001b[0;34m:\u001b[0m\u001b[0;34m\u001b[0m\u001b[0;34m\u001b[0m\u001b[0m\n\u001b[0;32m----> 4\u001b[0;31m     \u001b[0mcount\u001b[0m \u001b[0;34m+=\u001b[0m \u001b[0;36m1\u001b[0m\u001b[0;34m\u001b[0m\u001b[0;34m\u001b[0m\u001b[0m\n\u001b[0m\u001b[1;32m      5\u001b[0m     \u001b[0mlst\u001b[0m\u001b[0;34m.\u001b[0m\u001b[0mappend\u001b[0m\u001b[0;34m(\u001b[0m\u001b[0mcount\u001b[0m\u001b[0;34m)\u001b[0m\u001b[0;34m\u001b[0m\u001b[0;34m\u001b[0m\u001b[0m\n\u001b[1;32m      6\u001b[0m     \u001b[0mprint\u001b[0m\u001b[0;34m(\u001b[0m\u001b[0mlst\u001b[0m\u001b[0;34m)\u001b[0m\u001b[0;34m\u001b[0m\u001b[0;34m\u001b[0m\u001b[0m\n",
      "\u001b[0;31mUnboundLocalError\u001b[0m: local variable 'count' referenced before assignment"
     ]
    }
   ],
   "source": [
    "listf(5)"
   ]
  },
  {
   "cell_type": "code",
   "execution_count": 15,
   "id": "b761e578",
   "metadata": {},
   "outputs": [],
   "source": [
    "lst = []"
   ]
  },
  {
   "cell_type": "code",
   "execution_count": 18,
   "id": "6b035a7c",
   "metadata": {},
   "outputs": [],
   "source": [
    "lst.append(count)"
   ]
  },
  {
   "cell_type": "code",
   "execution_count": 19,
   "id": "fd9b7af6",
   "metadata": {},
   "outputs": [
    {
     "data": {
      "text/plain": [
       "[0]"
      ]
     },
     "execution_count": 19,
     "metadata": {},
     "output_type": "execute_result"
    }
   ],
   "source": [
    "lst"
   ]
  },
  {
   "cell_type": "code",
   "execution_count": 28,
   "id": "4ccbdec4",
   "metadata": {},
   "outputs": [
    {
     "name": "stdout",
     "output_type": "stream",
     "text": [
      "The factorial of 3 is 6\n"
     ]
    }
   ],
   "source": [
    "def factorial(x):\n",
    "    \"\"\"This is a recursive function\n",
    "    to find the factorial of an integer\"\"\"\n",
    "\n",
    "    if x == 1:\n",
    "        return 1\n",
    "    else:\n",
    "        return (x * factorial(x-1))\n",
    "\n",
    "\n"
   ]
  },
  {
   "cell_type": "code",
   "execution_count": null,
   "id": "723ffa7e",
   "metadata": {},
   "outputs": [],
   "source": [
    "num = 3\n",
    "print(\"The factorial of\", num, \"is\", factorial(num))"
   ]
  },
  {
   "cell_type": "code",
   "execution_count": 50,
   "id": "05716025",
   "metadata": {},
   "outputs": [],
   "source": [
    "lst = []\n",
    "def listf(x):\n",
    "    if x == 0: \n",
    "        return lst\n",
    "    else: \n",
    "        lst.insert(0,x)\n",
    "        x = x-1\n",
    "        return listf(x)"
   ]
  },
  {
   "cell_type": "code",
   "execution_count": 51,
   "id": "4f0f0540",
   "metadata": {},
   "outputs": [
    {
     "data": {
      "text/plain": [
       "[1, 2, 3, 4, 5]"
      ]
     },
     "execution_count": 51,
     "metadata": {},
     "output_type": "execute_result"
    }
   ],
   "source": [
    "listf(5)"
   ]
  },
  {
   "cell_type": "code",
   "execution_count": 56,
   "id": "020da34f",
   "metadata": {},
   "outputs": [],
   "source": [
    "from typing import List\n",
    "lst = []\n",
    "def printNos(x: int): \n",
    "    # Write your code here\n",
    "    if x == 0: \n",
    "        return lst\n",
    "    else: \n",
    "        lst.insert(0,x)\n",
    "        x = x-1\n",
    "        return printNos(x)\n",
    "    pass"
   ]
  },
  {
   "cell_type": "code",
   "execution_count": 57,
   "id": "4d618fa7",
   "metadata": {},
   "outputs": [
    {
     "data": {
      "text/plain": [
       "[1, 2, 3, 4, 5]"
      ]
     },
     "execution_count": 57,
     "metadata": {},
     "output_type": "execute_result"
    }
   ],
   "source": [
    "printNos(5)"
   ]
  },
  {
   "cell_type": "code",
   "execution_count": 101,
   "id": "513dc7b6",
   "metadata": {},
   "outputs": [],
   "source": [
    "from  typing import *\n",
    "lst = []\n",
    "def printNtimes(n: int) -> None:\n",
    "    if n == 0: return lst\n",
    "    else:\n",
    "        lst.insert(0,'Coding Ninjas ')\n",
    "        n = n-1\n",
    "        return printNtimes(n)\n",
    "    pass"
   ]
  },
  {
   "cell_type": "code",
   "execution_count": 102,
   "id": "8f365f05",
   "metadata": {},
   "outputs": [
    {
     "data": {
      "text/plain": [
       "['Coding Ninjas ', 'Coding Ninjas ', 'Coding Ninjas ']"
      ]
     },
     "execution_count": 102,
     "metadata": {},
     "output_type": "execute_result"
    }
   ],
   "source": [
    "printNtimes(3)"
   ]
  },
  {
   "cell_type": "code",
   "execution_count": 103,
   "id": "53d7faaa",
   "metadata": {},
   "outputs": [],
   "source": [
    "from typing import List\n",
    "lst\n",
    "def printNos(x: int) -> List[int]:\n",
    "    # Write your code here\n",
    "    if x!=0:\n",
    "        lst.append(x)\n",
    "        x = x-1\n",
    "        return printNos(x)\n",
    "    else:\n",
    "        return lst\n",
    "\n",
    "    pass"
   ]
  },
  {
   "cell_type": "code",
   "execution_count": 104,
   "id": "d4d0ae11",
   "metadata": {
    "scrolled": true
   },
   "outputs": [
    {
     "data": {
      "text/plain": [
       "['Coding Ninjas ', 'Coding Ninjas ', 'Coding Ninjas ', 5, 4, 3, 2, 1]"
      ]
     },
     "execution_count": 104,
     "metadata": {},
     "output_type": "execute_result"
    }
   ],
   "source": [
    "printNos(5)"
   ]
  },
  {
   "cell_type": "code",
   "execution_count": null,
   "id": "eb0a5a74",
   "metadata": {},
   "outputs": [],
   "source": []
  }
 ],
 "metadata": {
  "kernelspec": {
   "display_name": "Python 3",
   "language": "python",
   "name": "python3"
  },
  "language_info": {
   "codemirror_mode": {
    "name": "ipython",
    "version": 3
   },
   "file_extension": ".py",
   "mimetype": "text/x-python",
   "name": "python",
   "nbconvert_exporter": "python",
   "pygments_lexer": "ipython3",
   "version": "3.8.8"
  }
 },
 "nbformat": 4,
 "nbformat_minor": 5
}
