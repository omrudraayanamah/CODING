{
 "cells": [
  {
   "cell_type": "markdown",
   "id": "af503593",
   "metadata": {},
   "source": [
    "OCTOBER 2, 2023"
   ]
  },
  {
   "cell_type": "markdown",
   "id": "f21bc4d3",
   "metadata": {},
   "source": [
    "### Step 2.1 : Sorting-I"
   ]
  },
  {
   "cell_type": "code",
   "execution_count": 49,
   "id": "57b9ca9a",
   "metadata": {},
   "outputs": [
    {
     "name": "stdout",
     "output_type": "stream",
     "text": [
      "5\n",
      "8 6 2 5 1\n"
     ]
    }
   ],
   "source": [
    "N = int(input())\n",
    "arr = list(map(int, input().split()))"
   ]
  },
  {
   "cell_type": "code",
   "execution_count": 50,
   "id": "32e34270",
   "metadata": {},
   "outputs": [
    {
     "data": {
      "text/plain": [
       "5"
      ]
     },
     "execution_count": 50,
     "metadata": {},
     "output_type": "execute_result"
    }
   ],
   "source": [
    "N"
   ]
  },
  {
   "cell_type": "code",
   "execution_count": 100,
   "id": "3dca7e85",
   "metadata": {},
   "outputs": [],
   "source": [
    "arr = [8, 6, 2, 5, 1]"
   ]
  },
  {
   "cell_type": "code",
   "execution_count": 88,
   "id": "097308ec",
   "metadata": {},
   "outputs": [
    {
     "data": {
      "text/plain": [
       "[1, 1, 1, 8, 6, 2, 5, 1, 1]"
      ]
     },
     "execution_count": 88,
     "metadata": {},
     "output_type": "execute_result"
    }
   ],
   "source": [
    "arr"
   ]
  },
  {
   "cell_type": "code",
   "execution_count": 20,
   "id": "dab6f9eb",
   "metadata": {},
   "outputs": [],
   "source": [
    "min = 100"
   ]
  },
  {
   "cell_type": "code",
   "execution_count": 24,
   "id": "a1b6795b",
   "metadata": {},
   "outputs": [
    {
     "name": "stdout",
     "output_type": "stream",
     "text": [
      "8 8\n",
      "6 6\n",
      "2 2\n",
      "5 2\n",
      "1 1\n"
     ]
    }
   ],
   "source": [
    "for i in arr:\n",
    "    if min > i: min = i\n",
    "    print(i,min)"
   ]
  },
  {
   "cell_type": "code",
   "execution_count": 45,
   "id": "7798b286",
   "metadata": {},
   "outputs": [],
   "source": [
    "arr1 = [8, 6, 2, 5, 1]"
   ]
  },
  {
   "cell_type": "code",
   "execution_count": 46,
   "id": "64ec7950",
   "metadata": {},
   "outputs": [
    {
     "data": {
      "text/plain": [
       "1"
      ]
     },
     "execution_count": 46,
     "metadata": {},
     "output_type": "execute_result"
    }
   ],
   "source": [
    "arr1.insert(0,arr1[4]) \n",
    "arr1.pop(5)"
   ]
  },
  {
   "cell_type": "code",
   "execution_count": 85,
   "id": "0dbd677e",
   "metadata": {},
   "outputs": [
    {
     "data": {
      "text/plain": [
       "[1, 8, 6, 2, 5]"
      ]
     },
     "execution_count": 85,
     "metadata": {},
     "output_type": "execute_result"
    }
   ],
   "source": [
    "arr1"
   ]
  },
  {
   "cell_type": "code",
   "execution_count": 136,
   "id": "8169205a",
   "metadata": {},
   "outputs": [],
   "source": [
    "arr = [9, 3, 6, 2, 0]"
   ]
  },
  {
   "cell_type": "code",
   "execution_count": 138,
   "id": "d6a66a34",
   "metadata": {},
   "outputs": [
    {
     "name": "stdout",
     "output_type": "stream",
     "text": [
      "0\n",
      "[0, 3, 9, 6, 2]\n",
      "1\n",
      "[0, 2, 9, 6, 3]\n",
      "2\n",
      "[0, 2, 3, 6, 9]\n",
      "3\n",
      "[0, 2, 3, 6, 9]\n"
     ]
    }
   ],
   "source": [
    "N = len(arr)\n",
    "for i in range(N-1):\n",
    "    min = max(arr)\n",
    "    \n",
    "    for j in range(i,N):\n",
    "        if min > arr[j]: \n",
    "            min = arr[j]\n",
    "            k = j\n",
    "            \n",
    "    print(i)\n",
    "    arr[i], arr[k] = arr[k], arr[i]\n",
    "    print(arr)\n",
    "\n"
   ]
  },
  {
   "cell_type": "code",
   "execution_count": null,
   "id": "1fcf4093",
   "metadata": {},
   "outputs": [],
   "source": [
    "from typing import List\n",
    "\n",
    "def selectionSort(arr: List[int]) -> None: \n",
    "    # Write your code here\n",
    "    N = len(arr)\n",
    "    for i in range(N-1):\n",
    "        min = max(arr)\n",
    "\n",
    "        for j in range(i,N):\n",
    "            if min > arr[j]: \n",
    "                min = arr[j]\n",
    "                k = j\n",
    "\n",
    "        print(i)\n",
    "        arr[i], arr[k] = arr[k], arr[i]\n",
    "        print(arr)\n",
    "\n",
    "\n",
    "    \n"
   ]
  },
  {
   "cell_type": "code",
   "execution_count": 119,
   "id": "bcab0996",
   "metadata": {},
   "outputs": [],
   "source": [
    "arr[0], arr[3] = arr[3], arr[0]"
   ]
  },
  {
   "cell_type": "code",
   "execution_count": 230,
   "id": "152e7695",
   "metadata": {},
   "outputs": [],
   "source": [
    "arr = [41, 467, 334, 500, 169, 724, 478, 358, 962, 464]\n",
    "N = len(arr)"
   ]
  },
  {
   "cell_type": "code",
   "execution_count": 231,
   "id": "84b42745",
   "metadata": {},
   "outputs": [
    {
     "name": "stdout",
     "output_type": "stream",
     "text": [
      "/n\n",
      "8 [41, 334, 467, 169, 500, 478, 358, 724, 464, 962]\n",
      "/n\n",
      "7 [41, 334, 169, 467, 478, 358, 500, 464, 724, 962]\n",
      "/n\n",
      "6 [41, 169, 334, 467, 358, 478, 464, 500, 724, 962]\n",
      "/n\n",
      "5 [41, 169, 334, 358, 467, 464, 478, 500, 724, 962]\n",
      "/n\n",
      "4 [41, 169, 334, 358, 464, 467, 478, 500, 724, 962]\n",
      "/n\n",
      "3 [41, 169, 334, 358, 464, 467, 478, 500, 724, 962]\n",
      "/n\n",
      "2 [41, 169, 334, 358, 464, 467, 478, 500, 724, 962]\n",
      "/n\n",
      "1 [41, 169, 334, 358, 464, 467, 478, 500, 724, 962]\n",
      "/n\n",
      "0 [41, 169, 334, 358, 464, 467, 478, 500, 724, 962]\n"
     ]
    }
   ],
   "source": [
    "for i in range(N-1):\n",
    "    for j in range(N-1-i):\n",
    "        #print(arr[j],arr[j+1],arr)\n",
    "        if arr[j] > arr[j+1]:\n",
    "            arr[j], arr[j+1] = arr[j+1], arr[j]\n",
    "        #print('X',arr)\n",
    "        \n",
    "    print(j,arr)"
   ]
  },
  {
   "cell_type": "code",
   "execution_count": 175,
   "id": "9214a4b4",
   "metadata": {},
   "outputs": [
    {
     "data": {
      "text/plain": [
       "[41, 334, 467, 169, 500, 478, 358, 724, 464, 962]"
      ]
     },
     "execution_count": 175,
     "metadata": {},
     "output_type": "execute_result"
    }
   ],
   "source": [
    "arr"
   ]
  },
  {
   "cell_type": "code",
   "execution_count": 202,
   "id": "8e334ce4",
   "metadata": {},
   "outputs": [
    {
     "data": {
      "text/plain": [
       "10"
      ]
     },
     "execution_count": 202,
     "metadata": {},
     "output_type": "execute_result"
    }
   ],
   "source": [
    "len(arr)"
   ]
  },
  {
   "cell_type": "code",
   "execution_count": null,
   "id": "27a557fe",
   "metadata": {},
   "outputs": [],
   "source": [
    "from typing import List\n",
    "\n",
    "def bubbleSort(arr: List[int], n: int):\n",
    "    # Your code goes here.\n",
    "    for i in range(N-1):\n",
    "        for j in range(N-1-i):\n",
    "            #print(arr[j],arr[j+1],arr)\n",
    "            if arr[j] > arr[j+1]:\n",
    "                arr[j], arr[j+1] = arr[j+1], arr[j]\n",
    "            #print('X',arr)\n",
    "\n",
    "        #print(j,arr)"
   ]
  },
  {
   "cell_type": "code",
   "execution_count": null,
   "id": "21f2f10c",
   "metadata": {},
   "outputs": [],
   "source": [
    "for i in range(N):\n",
    "    "
   ]
  },
  {
   "cell_type": "code",
   "execution_count": 273,
   "id": "ea12f6fb",
   "metadata": {},
   "outputs": [
    {
     "name": "stdout",
     "output_type": "stream",
     "text": [
      "[41, 169, 334, 358, 464, 467, 478, 500, 724, 962]\n"
     ]
    }
   ],
   "source": [
    "arr = [41, 467, 334, 500, 169, 724, 478, 358, 962, 464]\n",
    "N = len(arr)\n",
    "for i in range(N):\n",
    "    min = 10**5\n",
    "    for j in range(i,N):\n",
    "        if min > arr[j]:\n",
    "            min = arr[j]\n",
    "            k = j\n",
    "    arr.insert(i,min)\n",
    "    arr.pop(k + 1)\n",
    "print(arr)\n",
    "    \n",
    "    "
   ]
  },
  {
   "cell_type": "code",
   "execution_count": null,
   "id": "01ba7cca",
   "metadata": {},
   "outputs": [],
   "source": [
    "from typing import List\n",
    "\n",
    "def insertionSort(a: List[int], n: int) -> None:\n",
    "   # write your code here\n",
    "    for i in range(n):\n",
    "        min = 10**5\n",
    "        for j in range(i,n):\n",
    "            if min > arr[j]:\n",
    "                min = arr[j]\n",
    "                k = j\n",
    "        arr.insert(i,min)\n",
    "        arr.pop(k + 1)\n",
    "    \n",
    "    "
   ]
  },
  {
   "cell_type": "markdown",
   "id": "d2074660",
   "metadata": {},
   "source": [
    "### Step 2.2 : Sorting-II"
   ]
  },
  {
   "cell_type": "code",
   "execution_count": 283,
   "id": "bdfa74dc",
   "metadata": {},
   "outputs": [],
   "source": [
    "\n",
    "def mergesort(arr, low, high):\n",
    "    if low >= high: return\n",
    "    \n",
    "    mid = (low + high)//2\n",
    "    \n",
    "    mergesort(arr, low, mid)\n",
    "    mergesort(arr, mid + 1, high)\n",
    "    merge(temp, low, mid, high)\n",
    "    "
   ]
  },
  {
   "cell_type": "code",
   "execution_count": 284,
   "id": "009b6059",
   "metadata": {},
   "outputs": [
    {
     "data": {
      "text/plain": [
       "3"
      ]
     },
     "execution_count": 284,
     "metadata": {},
     "output_type": "execute_result"
    }
   ],
   "source": [
    "7//2"
   ]
  },
  {
   "cell_type": "code",
   "execution_count": 285,
   "id": "df4ebcc1",
   "metadata": {},
   "outputs": [],
   "source": [
    "def merge(temp, low, mid, high):\n",
    "    temp = []\n",
    "    left = low\n",
    "    right = mid + 1\n",
    "    while left <= mid and mid + 1 <= high:    #Till the array has elements\n",
    "        if arr[left] <= arr[right]:\n",
    "            temp.append(arr[left])\n",
    "            left += 1\n",
    "        else:\n",
    "            temp.append(arr[right])\n",
    "            right += 1\n",
    "\n",
    "    while left <= mid:\n",
    "        temp.append(arr[left])\n",
    "        left += 1\n",
    "\n",
    "    while mid + 1 <= right:\n",
    "        temp.append(right)\n",
    "        right += 1\n"
   ]
  },
  {
   "cell_type": "code",
   "execution_count": 323,
   "id": "7f66b9cc",
   "metadata": {},
   "outputs": [
    {
     "data": {
      "text/plain": [
       "41"
      ]
     },
     "execution_count": 323,
     "metadata": {},
     "output_type": "execute_result"
    }
   ],
   "source": [
    "low"
   ]
  },
  {
   "cell_type": "code",
   "execution_count": 288,
   "id": "bf029652",
   "metadata": {},
   "outputs": [],
   "source": [
    "arr = [9, 4, 7, 6, 3, 1, 5]"
   ]
  },
  {
   "cell_type": "code",
   "execution_count": 289,
   "id": "1f9cad8c",
   "metadata": {},
   "outputs": [],
   "source": [
    "def merge_sort(arr, low, high):\n",
    "    if low < high:\n",
    "        mid = (low + high) // 2\n",
    "        \n",
    "        merge_sort(arr, low, mid)\n",
    "        merge_sort(arr, mid + 1, high)\n",
    "        merge(arr, low, mid, high)\n",
    "        \n",
    "        "
   ]
  },
  {
   "cell_type": "code",
   "execution_count": 317,
   "id": "9cde82cd",
   "metadata": {},
   "outputs": [],
   "source": [
    "def merge(arr, low, mid, high):\n",
    "    left = arr[low : mid + 1]\n",
    "    right = arr[mid + 1: high + 1]\n",
    "    i = j = 0\n",
    "    k = low\n",
    "    \n",
    "    while i<len(left) and j<len(right):\n",
    "        if left[i] <= right[j]:\n",
    "            arr[k] = left[i]\n",
    "            i += 1\n",
    "        else:\n",
    "            arr[k] = right[j]\n",
    "            j += 1\n",
    "        k += 1\n",
    "            \n",
    "    while i < len(left):\n",
    "        arr[k] = left[i]\n",
    "        i += 1\n",
    "        k += 1\n",
    "        \n",
    "    while j < len(right):\n",
    "        arr[k] = right[j]\n",
    "        j += 1\n",
    "        k += 1\n",
    "        \n",
    "        \n",
    "def mergeSort(arr: [int], low: int, high: int):\n",
    "    if low < high:\n",
    "        mid = (low + high) // 2\n",
    "        \n",
    "        mergeSort(arr, low, mid)\n",
    "        mergeSort(arr, mid + 1, high)\n",
    "        merge(arr, low, mid, high)\n",
    "        \n",
    "        \n"
   ]
  },
  {
   "cell_type": "code",
   "execution_count": 57,
   "id": "10158911",
   "metadata": {},
   "outputs": [],
   "source": [
    "arr = [2, 13, 4, 1, 3, 6, 28]\n",
    "n = 7"
   ]
  },
  {
   "cell_type": "code",
   "execution_count": 58,
   "id": "75fcbaa2",
   "metadata": {},
   "outputs": [],
   "source": [
    "def bubbleSort(arr, n):\n",
    "    if n == 0:\n",
    "        return arr\n",
    "    else:\n",
    "        k = arr[:n].index(max(arr[:n]))\n",
    "        print(arr)\n",
    "        arr[k], arr[n-1] = arr[n-1], arr[k]\n",
    "        bubbleSort(arr, n-1)\n",
    "        return arr\n",
    "    \n",
    "    "
   ]
  },
  {
   "cell_type": "code",
   "execution_count": 59,
   "id": "0dcdd41e",
   "metadata": {},
   "outputs": [
    {
     "name": "stdout",
     "output_type": "stream",
     "text": [
      "[2, 13, 4, 1, 3, 6, 28]\n",
      "[2, 13, 4, 1, 3, 6, 28]\n",
      "[2, 6, 4, 1, 3, 13, 28]\n",
      "[2, 3, 4, 1, 6, 13, 28]\n",
      "[2, 3, 1, 4, 6, 13, 28]\n",
      "[2, 1, 3, 4, 6, 13, 28]\n",
      "[1, 2, 3, 4, 6, 13, 28]\n"
     ]
    },
    {
     "data": {
      "text/plain": [
       "[1, 2, 3, 4, 6, 13, 28]"
      ]
     },
     "execution_count": 59,
     "metadata": {},
     "output_type": "execute_result"
    }
   ],
   "source": [
    "bubbleSort(arr, n)"
   ]
  },
  {
   "cell_type": "code",
   "execution_count": 202,
   "id": "8893505a",
   "metadata": {},
   "outputs": [
    {
     "name": "stdout",
     "output_type": "stream",
     "text": [
      "49 92 15 102 72 88 13 14 103 134 45 104 139 43 119 80 84 76 80 144 125 39 5 118 64 137 12 50 122 58 140 58 6 49 67 9 55 14 94 109 76 114 115 130 120 83 121 58 6 101 52 56 63 70 26 55 64 84 65 52 112 116 100 \n"
     ]
    }
   ],
   "source": [
    "a = list(map(int, input().split()))\n",
    "n = len(a)"
   ]
  },
  {
   "cell_type": "code",
   "execution_count": null,
   "id": "677c95ec",
   "metadata": {},
   "outputs": [],
   "source": [
    "a"
   ]
  },
  {
   "cell_type": "code",
   "execution_count": 157,
   "id": "9e8b1d06",
   "metadata": {
    "scrolled": true
   },
   "outputs": [
    {
     "data": {
      "text/plain": [
       "5"
      ]
     },
     "execution_count": 157,
     "metadata": {},
     "output_type": "execute_result"
    }
   ],
   "source": [
    "a[22]"
   ]
  },
  {
   "cell_type": "code",
   "execution_count": 186,
   "id": "7273e1ba",
   "metadata": {},
   "outputs": [],
   "source": [
    "k = a[2:].index(min(a[2:]))"
   ]
  },
  {
   "cell_type": "code",
   "execution_count": 187,
   "id": "aba2dc92",
   "metadata": {},
   "outputs": [
    {
     "data": {
      "text/plain": [
       "46"
      ]
     },
     "execution_count": 187,
     "metadata": {},
     "output_type": "execute_result"
    }
   ],
   "source": [
    "a[2:].index(min(a[2:]))"
   ]
  },
  {
   "cell_type": "code",
   "execution_count": 175,
   "id": "0ba3fe0f",
   "metadata": {},
   "outputs": [],
   "source": [
    "a.insert(1,a[k+i])"
   ]
  },
  {
   "cell_type": "code",
   "execution_count": 179,
   "id": "15ad26e0",
   "metadata": {
    "scrolled": true
   },
   "outputs": [
    {
     "data": {
      "text/plain": [
       "6"
      ]
     },
     "execution_count": 179,
     "metadata": {},
     "output_type": "execute_result"
    }
   ],
   "source": [
    "a.pop(k+1)"
   ]
  },
  {
   "cell_type": "code",
   "execution_count": 194,
   "id": "b337fb0c",
   "metadata": {},
   "outputs": [
    {
     "data": {
      "text/plain": [
       "6"
      ]
     },
     "execution_count": 194,
     "metadata": {},
     "output_type": "execute_result"
    }
   ],
   "source": [
    "a[k+i]"
   ]
  },
  {
   "cell_type": "code",
   "execution_count": 193,
   "id": "a640f0f0",
   "metadata": {},
   "outputs": [],
   "source": [
    "i = 2"
   ]
  },
  {
   "cell_type": "code",
   "execution_count": 174,
   "id": "ead6e5d9",
   "metadata": {},
   "outputs": [
    {
     "data": {
      "text/plain": [
       "6"
      ]
     },
     "execution_count": 174,
     "metadata": {},
     "output_type": "execute_result"
    }
   ],
   "source": [
    "a[32]"
   ]
  },
  {
   "cell_type": "code",
   "execution_count": 207,
   "id": "5d66e3d0",
   "metadata": {},
   "outputs": [],
   "source": [
    "i = 0\n",
    "def insertionSort(a, n):\n",
    "    global i\n",
    "    if i == n - 1:\n",
    "        return a\n",
    "    else:  \n",
    "        k= a[i:].index(min(a[i:]))\n",
    "\n",
    "        a.insert(i,a[k+i])\n",
    "        a.pop(k+i+1)\n",
    " \n",
    "   \n",
    "        i += 1\n",
    "        insertionSort(a, n)"
   ]
  },
  {
   "cell_type": "code",
   "execution_count": 208,
   "id": "248b720e",
   "metadata": {},
   "outputs": [],
   "source": [
    "insertionSort(a, n)"
   ]
  },
  {
   "cell_type": "code",
   "execution_count": null,
   "id": "68ae17b2",
   "metadata": {},
   "outputs": [],
   "source": [
    "a"
   ]
  },
  {
   "cell_type": "code",
   "execution_count": 150,
   "id": "c0fcde2a",
   "metadata": {},
   "outputs": [
    {
     "data": {
      "text/plain": [
       "2"
      ]
     },
     "execution_count": 150,
     "metadata": {},
     "output_type": "execute_result"
    }
   ],
   "source": [
    "a.count(52)"
   ]
  },
  {
   "cell_type": "code",
   "execution_count": 152,
   "id": "c3a93cec",
   "metadata": {},
   "outputs": [
    {
     "data": {
      "text/plain": [
       "2"
      ]
     },
     "execution_count": 152,
     "metadata": {},
     "output_type": "execute_result"
    }
   ],
   "source": [
    "a.count(6)"
   ]
  },
  {
   "cell_type": "code",
   "execution_count": 99,
   "id": "3eae8360",
   "metadata": {},
   "outputs": [],
   "source": [
    "i = 1"
   ]
  },
  {
   "cell_type": "code",
   "execution_count": 109,
   "id": "2e30732f",
   "metadata": {},
   "outputs": [],
   "source": [
    "k= a.index(min(a[i:]))"
   ]
  },
  {
   "cell_type": "code",
   "execution_count": 110,
   "id": "a873e366",
   "metadata": {},
   "outputs": [
    {
     "data": {
      "text/plain": [
       "(1, 2)"
      ]
     },
     "execution_count": 110,
     "metadata": {},
     "output_type": "execute_result"
    }
   ],
   "source": [
    "k,a[k]"
   ]
  },
  {
   "cell_type": "code",
   "execution_count": 108,
   "id": "a6ba0c20",
   "metadata": {},
   "outputs": [
    {
     "data": {
      "text/plain": [
       "0"
      ]
     },
     "execution_count": 108,
     "metadata": {},
     "output_type": "execute_result"
    }
   ],
   "source": [
    "a[1:].index(min(a[1:]))"
   ]
  },
  {
   "cell_type": "code",
   "execution_count": 95,
   "id": "764321a6",
   "metadata": {},
   "outputs": [],
   "source": [
    "a.insert(i,a[k])"
   ]
  },
  {
   "cell_type": "code",
   "execution_count": 113,
   "id": "d96f86f3",
   "metadata": {},
   "outputs": [
    {
     "data": {
      "text/plain": [
       "[2, 13, 4, 1, 3, 6, 28]"
      ]
     },
     "execution_count": 113,
     "metadata": {},
     "output_type": "execute_result"
    }
   ],
   "source": [
    "a"
   ]
  },
  {
   "cell_type": "code",
   "execution_count": 97,
   "id": "7ae491f8",
   "metadata": {},
   "outputs": [
    {
     "data": {
      "text/plain": [
       "1"
      ]
     },
     "execution_count": 97,
     "metadata": {},
     "output_type": "execute_result"
    }
   ],
   "source": [
    "a.pop(k+1)"
   ]
  },
  {
   "cell_type": "code",
   "execution_count": 98,
   "id": "bbad4711",
   "metadata": {},
   "outputs": [
    {
     "data": {
      "text/plain": [
       "[1, 2, 13, 4, 3, 6, 28]"
      ]
     },
     "execution_count": 98,
     "metadata": {},
     "output_type": "execute_result"
    }
   ],
   "source": [
    "a"
   ]
  },
  {
   "cell_type": "code",
   "execution_count": 89,
   "id": "924b237e",
   "metadata": {},
   "outputs": [
    {
     "name": "stdout",
     "output_type": "stream",
     "text": [
      "0 4\n",
      "X [1, 2, 13, 4, 3, 6, 28]\n",
      "1 1\n",
      "X [1, 2, 13, 4, 3, 6, 28]\n",
      "2 13\n",
      "X [1, 2, 13, 4, 3, 6, 28]\n",
      "3 2\n",
      "X [1, 2, 2, 4, 3, 6, 28]\n",
      "4 1\n",
      "X [1, 2, 4, 1, 3, 6, 28]\n",
      "5 1\n",
      "X [1, 4, 1, 3, 1, 6, 28]\n"
     ]
    }
   ],
   "source": [
    "insertionSort(a, n)"
   ]
  },
  {
   "cell_type": "code",
   "execution_count": 81,
   "id": "553cc92b",
   "metadata": {},
   "outputs": [
    {
     "data": {
      "text/plain": [
       "[1, 4, 1, 3, 1, 6, 28]"
      ]
     },
     "execution_count": 81,
     "metadata": {},
     "output_type": "execute_result"
    }
   ],
   "source": [
    "a"
   ]
  },
  {
   "cell_type": "code",
   "execution_count": 66,
   "id": "0c5dab87",
   "metadata": {},
   "outputs": [],
   "source": [
    "k = arr.index(min(arr))"
   ]
  },
  {
   "cell_type": "code",
   "execution_count": 69,
   "id": "f928cf58",
   "metadata": {},
   "outputs": [],
   "source": [
    "arr.insert(0,arr[k])"
   ]
  },
  {
   "cell_type": "code",
   "execution_count": 71,
   "id": "8e519800",
   "metadata": {},
   "outputs": [
    {
     "data": {
      "text/plain": [
       "2"
      ]
     },
     "execution_count": 71,
     "metadata": {},
     "output_type": "execute_result"
    }
   ],
   "source": [
    "arr.pop(k+1)"
   ]
  },
  {
   "cell_type": "code",
   "execution_count": null,
   "id": "dc98094d",
   "metadata": {},
   "outputs": [],
   "source": [
    "arr"
   ]
  },
  {
   "cell_type": "code",
   "execution_count": 211,
   "id": "77f6c01a",
   "metadata": {},
   "outputs": [],
   "source": [
    "def partition(arr, low, high):\n",
    "    pivot = arr[low]\n",
    "    i = low\n",
    "    j = high\n",
    "    while i < j:\n",
    "        \n",
    "        while arr[i] <= pivot and i <= high - 1:     # pointer i shifting to right\n",
    "            i += 1\n",
    "            \n",
    "        while arr[j] > pivot and j >= low + 1:      # pointer j shifting to left\n",
    "            j -= 1\n",
    "            \n",
    "        if i < j:\n",
    "            arr[i], arr[j] = arr[j], arr[i]         # swap the elements \n",
    "            \n",
    "        arr[low], arr[j] = arr[j], arr[low]        # putting pivot at it's place \n",
    "\n",
    "\n",
    "\n",
    "def qs(arr, low, high):\n",
    "    if low < high:\n",
    "        pIndex = partition(arr, low, high)\n",
    "        qs(arr, low, pIndex)\n",
    "        qs(arr, pIndex + 1, high)\n",
    "        \n",
    "        \n",
    "        "
   ]
  },
  {
   "cell_type": "code",
   "execution_count": 225,
   "id": "d6d6465c",
   "metadata": {},
   "outputs": [],
   "source": [
    "def partition(arr, low, high):\n",
    "    pivot = arr[low]\n",
    "    i = low\n",
    "    j = high\n",
    "\n",
    "    while True:\n",
    "        while arr[i] < pivot:\n",
    "            i += 1\n",
    "        while arr[j] > pivot:\n",
    "            j -= 1\n",
    "        if i >= j:\n",
    "            return j\n",
    "        arr[i], arr[j] = arr[j], arr[i]\n",
    "\n",
    "def qs(arr, low, high):\n",
    "    if low < high:\n",
    "        pIndex = partition(arr, low, high)\n",
    "        qs(arr, low, pIndex)\n",
    "        qs(arr, pIndex + 1, high)\n",
    "\n",
    "def quickSort(arr, startIndex: int, endIndex: int):\n",
    "    qs(arr, 0, len(arr) - 1)\n",
    "    return arr\n",
    "\n",
    "\n"
   ]
  },
  {
   "cell_type": "code",
   "execution_count": 226,
   "id": "db7362b4",
   "metadata": {},
   "outputs": [],
   "source": [
    "arr = [2, 6, 8, 5, 4, 3]"
   ]
  },
  {
   "cell_type": "code",
   "execution_count": 231,
   "id": "033da356",
   "metadata": {},
   "outputs": [
    {
     "data": {
      "text/plain": [
       "[2, 3, 4, 5, 6, 8]"
      ]
     },
     "execution_count": 231,
     "metadata": {},
     "output_type": "execute_result"
    }
   ],
   "source": [
    "quickSort(arr, 0, len(arr) - 1)"
   ]
  },
  {
   "cell_type": "code",
   "execution_count": null,
   "id": "d6d2867c",
   "metadata": {},
   "outputs": [],
   "source": []
  }
 ],
 "metadata": {
  "kernelspec": {
   "display_name": "Python 3",
   "language": "python",
   "name": "python3"
  },
  "language_info": {
   "codemirror_mode": {
    "name": "ipython",
    "version": 3
   },
   "file_extension": ".py",
   "mimetype": "text/x-python",
   "name": "python",
   "nbconvert_exporter": "python",
   "pygments_lexer": "ipython3",
   "version": "3.8.8"
  }
 },
 "nbformat": 4,
 "nbformat_minor": 5
}
