{
 "cells": [
  {
   "cell_type": "markdown",
   "id": "5ff7c46c",
   "metadata": {},
   "source": [
    "1. Binary Search to find X in sorted array"
   ]
  },
  {
   "cell_type": "code",
   "execution_count": 4,
   "id": "27e258db",
   "metadata": {},
   "outputs": [],
   "source": [
    "arr = [1, 3, 7, 9, 11, 12, 45]\n",
    "n = len(arr)\n",
    "target = 3"
   ]
  },
  {
   "cell_type": "code",
   "execution_count": 5,
   "id": "9de496f8",
   "metadata": {},
   "outputs": [],
   "source": [
    "# ITERATIVE METHOD\n",
    "def search(nums: [int], target: int):\n",
    "    low = 0\n",
    "    high = n - 1\n",
    "    \n",
    "    while low <= high:\n",
    "        mid = (low + high) // 2\n",
    "        if target == arr[mid]:\n",
    "            return mid\n",
    "        elif target > arr[mid]:\n",
    "            low = mid + 1\n",
    "        else:\n",
    "            high = mid - 1\n",
    "    return -1\n"
   ]
  },
  {
   "cell_type": "code",
   "execution_count": 6,
   "id": "315a55da",
   "metadata": {},
   "outputs": [
    {
     "data": {
      "text/plain": [
       "1"
      ]
     },
     "execution_count": 6,
     "metadata": {},
     "output_type": "execute_result"
    }
   ],
   "source": [
    "search(arr, 3)"
   ]
  },
  {
   "cell_type": "code",
   "execution_count": 7,
   "id": "387f95d5",
   "metadata": {},
   "outputs": [],
   "source": [
    "# RECURSIVE\n",
    "def search(arr, low, high, target):\n",
    "    if low > high:\n",
    "        return -1\n",
    "    \n",
    "    mid = (low + high) // 2\n",
    "    \n",
    "    if arr[mid] == target:\n",
    "        return mid\n",
    "    \n",
    "    elif target > arr[mid]:\n",
    "        return search(arr, mid + 1, high, target)\n",
    "    \n",
    "    else:\n",
    "        return search(arr, low, mid - 1, target)\n",
    "    \n",
    "    "
   ]
  },
  {
   "cell_type": "code",
   "execution_count": 8,
   "id": "b49331ab",
   "metadata": {},
   "outputs": [
    {
     "data": {
      "text/plain": [
       "1"
      ]
     },
     "execution_count": 8,
     "metadata": {},
     "output_type": "execute_result"
    }
   ],
   "source": [
    "search(arr, 0, n - 1, target)"
   ]
  },
  {
   "cell_type": "markdown",
   "id": "78ab3076",
   "metadata": {},
   "source": [
    "2. Implement Lower Bound"
   ]
  },
  {
   "cell_type": "code",
   "execution_count": 9,
   "id": "c03c0c47",
   "metadata": {},
   "outputs": [],
   "source": [
    "arr = [1, 2, 3, 3, 5, 8, 8, 10, 10, 11]\n",
    "n = len(arr)"
   ]
  },
  {
   "cell_type": "code",
   "execution_count": 11,
   "id": "7f719eab",
   "metadata": {},
   "outputs": [],
   "source": [
    "def lowerbound(arr, target, n):\n",
    "    low = 0\n",
    "    high = n - 1\n",
    "    ans = n\n",
    "    \n",
    "    while low <= high:\n",
    "        mid = (low + high) // 2\n",
    "        \n",
    "        if arr[mid] >= target:\n",
    "            ans = mid\n",
    "            high = mid - 1\n",
    "        else:\n",
    "            low = mid + 1\n",
    "    return ans\n",
    "    "
   ]
  },
  {
   "cell_type": "code",
   "execution_count": 12,
   "id": "3e9b9684",
   "metadata": {},
   "outputs": [
    {
     "data": {
      "text/plain": [
       "5"
      ]
     },
     "execution_count": 12,
     "metadata": {},
     "output_type": "execute_result"
    }
   ],
   "source": [
    "lowerbound(arr, 8, n)"
   ]
  },
  {
   "cell_type": "markdown",
   "id": "f60b5f6a",
   "metadata": {},
   "source": [
    "3. Implement Upper Bound"
   ]
  },
  {
   "cell_type": "code",
   "execution_count": 40,
   "id": "dbe2b9bf",
   "metadata": {},
   "outputs": [],
   "source": [
    "arr = [2, 3, 6, 7, 8, 8, 11, 11, 11, 12]\n",
    "n = len(arr)"
   ]
  },
  {
   "cell_type": "code",
   "execution_count": 41,
   "id": "88bcabdb",
   "metadata": {},
   "outputs": [],
   "source": [
    "def upperbound(arr, target, n):\n",
    "    low = 0\n",
    "    high = n - 1\n",
    "    ans = n\n",
    "    \n",
    "    while low <= high:\n",
    "        mid = (low + high) // 2\n",
    "        \n",
    "        if arr[mid] > target:   # JUST ONE CHANGE\n",
    "            ans = mid\n",
    "            high = mid - 1\n",
    "        else:\n",
    "            low = mid + 1\n",
    "    return ans\n",
    "    "
   ]
  },
  {
   "cell_type": "code",
   "execution_count": 42,
   "id": "77fa95c1",
   "metadata": {},
   "outputs": [
    {
     "data": {
      "text/plain": [
       "6"
      ]
     },
     "execution_count": 42,
     "metadata": {},
     "output_type": "execute_result"
    }
   ],
   "source": [
    "upperbound(arr, 8, n)"
   ]
  },
  {
   "cell_type": "markdown",
   "id": "3ad9d6fb",
   "metadata": {},
   "source": [
    "4. Search Insert Position"
   ]
  },
  {
   "cell_type": "code",
   "execution_count": 15,
   "id": "6c4dcf3c",
   "metadata": {},
   "outputs": [],
   "source": [
    "# SIMILAR TO LOWERBOUND\n",
    "def searchInsert(arr, low, high, target):\n",
    "    low = 0\n",
    "    high = n - 1\n",
    "    ans = n\n",
    "    while low <= high:\n",
    "        mid = (low + high) // 2\n",
    "        \n",
    "        if arr[mid] >= target:\n",
    "            ans = mid\n",
    "            high = mid - 1\n",
    "            \n",
    "        else:\n",
    "            low = mid + 1\n",
    "    return ans\n",
    "    \n",
    "    "
   ]
  },
  {
   "cell_type": "markdown",
   "id": "0dea2b6a",
   "metadata": {},
   "source": [
    "5. Floor/Ceil in Sorted Array"
   ]
  },
  {
   "cell_type": "code",
   "execution_count": 33,
   "id": "02ff7101",
   "metadata": {},
   "outputs": [],
   "source": [
    "a = [3, 4, 7, 8, 8, 10] \n",
    "n = 6\n",
    "x = 5"
   ]
  },
  {
   "cell_type": "code",
   "execution_count": 36,
   "id": "fbcfc5e8",
   "metadata": {},
   "outputs": [],
   "source": [
    "def getCeil(a, n, x):\n",
    "    ans = n\n",
    "    low = 0\n",
    "    high = n - 1\n",
    "    while low <= high:\n",
    "        mid = (low + high) // 2\n",
    "        \n",
    "        if a[mid] >= x:\n",
    "            ans = a[mid]\n",
    "            high = mid - 1\n",
    "        else:\n",
    "            low = mid + 1\n",
    "    return ans\n",
    "            "
   ]
  },
  {
   "cell_type": "code",
   "execution_count": 37,
   "id": "9d5923dd",
   "metadata": {},
   "outputs": [
    {
     "data": {
      "text/plain": [
       "7"
      ]
     },
     "execution_count": 37,
     "metadata": {},
     "output_type": "execute_result"
    }
   ],
   "source": [
    "getCeil(a, n, x)"
   ]
  },
  {
   "cell_type": "code",
   "execution_count": 38,
   "id": "a3910efb",
   "metadata": {},
   "outputs": [],
   "source": [
    "def getFloor(a, n, x):\n",
    "    ans = -1\n",
    "    low = 0\n",
    "    high = n - 1\n",
    "    while low <= high:\n",
    "        mid = (low + high) // 2\n",
    "        \n",
    "        if a[mid] <= x:\n",
    "            ans = arr[mid]\n",
    "            low = mid + 1\n",
    "        else:\n",
    "            high = mid - 1\n",
    "    return ans"
   ]
  },
  {
   "cell_type": "code",
   "execution_count": 39,
   "id": "e656802e",
   "metadata": {},
   "outputs": [
    {
     "data": {
      "text/plain": [
       "3"
      ]
     },
     "execution_count": 39,
     "metadata": {},
     "output_type": "execute_result"
    }
   ],
   "source": [
    "getFloor(a, n, x)"
   ]
  },
  {
   "cell_type": "markdown",
   "id": "4a451a02",
   "metadata": {},
   "source": [
    "6. First and Last Position of an Element In Sorted Array"
   ]
  },
  {
   "cell_type": "code",
   "execution_count": 43,
   "id": "0c34d327",
   "metadata": {},
   "outputs": [],
   "source": [
    "arr = [2, 4, 6, 8, 8, 8, 11, 13]\n",
    "n = len(arr)\n",
    "k = 8"
   ]
  },
  {
   "cell_type": "code",
   "execution_count": 48,
   "id": "04f6a45b",
   "metadata": {},
   "outputs": [
    {
     "data": {
      "text/plain": [
       "(3, 5)"
      ]
     },
     "execution_count": 48,
     "metadata": {},
     "output_type": "execute_result"
    }
   ],
   "source": [
    "# BRUTE FORCE\n",
    "def firstAndLastPosition(arr, n, k):\n",
    "    first = -1\n",
    "    last = -1\n",
    "    for i in range(n):\n",
    "        if arr[i] == k:\n",
    "            if first == -1: first = i\n",
    "            last = i\n",
    "    return first, last\n",
    "firstAndLastPosition(arr, n, k)                     "
   ]
  },
  {
   "cell_type": "code",
   "execution_count": 54,
   "id": "291baeaa",
   "metadata": {},
   "outputs": [],
   "source": [
    "arr = [0, 0, 1, 1, 2, 2, 2, 2]\n",
    "n = len(arr)\n",
    "k = 2"
   ]
  },
  {
   "cell_type": "code",
   "execution_count": 59,
   "id": "fb9e30e3",
   "metadata": {},
   "outputs": [],
   "source": [
    "# 1st METHOD\n",
    "def lb(k):\n",
    "    low = 0\n",
    "    high = n - 1\n",
    "    ans = n\n",
    "    while low <= high:\n",
    "        mid = (low + high) // 2\n",
    "        if arr[mid] >= k:\n",
    "            ans = mid\n",
    "            high = mid - 1\n",
    "        else:\n",
    "            low = mid + 1\n",
    "    return ans\n",
    "\n",
    "def ub(k):\n",
    "    low = 0\n",
    "    high = n - 1\n",
    "    ans = n\n",
    "    while low <= high:\n",
    "        mid = (low + high) // 2\n",
    "        if arr[mid] > k:\n",
    "            ans = mid\n",
    "            high = mid - 1\n",
    "        else:\n",
    "            low = mid + 1\n",
    "    return ans\n",
    "            \n",
    "def firstAndLastPosition(arr, n, k):\n",
    "    if lb(k) == n or arr[lb(k)] != k: \n",
    "        return -1, -1\n",
    "    else:\n",
    "        return lb(k), ub(k) - 1"
   ]
  },
  {
   "cell_type": "code",
   "execution_count": 60,
   "id": "576f585b",
   "metadata": {},
   "outputs": [
    {
     "data": {
      "text/plain": [
       "8"
      ]
     },
     "execution_count": 60,
     "metadata": {},
     "output_type": "execute_result"
    }
   ],
   "source": [
    "ub(k)"
   ]
  },
  {
   "cell_type": "code",
   "execution_count": 61,
   "id": "b8485743",
   "metadata": {},
   "outputs": [
    {
     "data": {
      "text/plain": [
       "(4, 7)"
      ]
     },
     "execution_count": 61,
     "metadata": {},
     "output_type": "execute_result"
    }
   ],
   "source": [
    "firstAndLastPosition(arr, n, k)"
   ]
  },
  {
   "cell_type": "code",
   "execution_count": 68,
   "id": "449d8539",
   "metadata": {},
   "outputs": [],
   "source": [
    "# 2nd METHOD\n",
    "def firstposition(arr, n, k):\n",
    "    low = 0\n",
    "    high = n - 1\n",
    "    first = -1\n",
    "    while low <= high:\n",
    "        mid = (low + high) // 2\n",
    "        if arr[mid] == k:\n",
    "            first = mid\n",
    "            high = mid - 1\n",
    "        elif arr[mid] < k:\n",
    "            low = mid + 1\n",
    "        else:\n",
    "            high = mid - 1\n",
    "    return first\n",
    "            \n",
    "def lastposition(arr, n, k):\n",
    "    low = 0\n",
    "    high = n - 1\n",
    "    last = -1\n",
    "    while low <= high:\n",
    "        mid = (low + high) // 2\n",
    "        if arr[mid] == k:\n",
    "            last = mid\n",
    "            low = mid + 1\n",
    "        elif arr[mid] < k:\n",
    "            low = mid + 1\n",
    "        else:\n",
    "            high = mid - 1\n",
    "    return last\n",
    "\n",
    "def firstAndLastPosition(arr, n, k):\n",
    "    return firstposition(arr, n, k), lastposition(arr, n, k)\n",
    "            "
   ]
  },
  {
   "cell_type": "code",
   "execution_count": 69,
   "id": "01d54323",
   "metadata": {},
   "outputs": [
    {
     "data": {
      "text/plain": [
       "(4, 7)"
      ]
     },
     "execution_count": 69,
     "metadata": {},
     "output_type": "execute_result"
    }
   ],
   "source": [
    "firstAndLastPosition(arr, n, k)"
   ]
  },
  {
   "cell_type": "markdown",
   "id": "fa605dc8",
   "metadata": {},
   "source": [
    "7. Count Occurrences in Sorted Array"
   ]
  },
  {
   "cell_type": "code",
   "execution_count": 79,
   "id": "ade7e797",
   "metadata": {},
   "outputs": [],
   "source": [
    "arr = [1, 2, 4, 4, 5]\n",
    "k = 6\n",
    "n = len(arr)"
   ]
  },
  {
   "cell_type": "code",
   "execution_count": 80,
   "id": "3f0f4ce1",
   "metadata": {},
   "outputs": [],
   "source": [
    "def firstposition(arr, n, k):\n",
    "    low = 0\n",
    "    high = n - 1\n",
    "    first = -1\n",
    "    while low <= high:\n",
    "        mid = (low + high) // 2\n",
    "        if arr[mid] == k:\n",
    "            first = mid\n",
    "            high = mid - 1\n",
    "        elif arr[mid] < k:\n",
    "            low = mid + 1\n",
    "        else:\n",
    "            high = mid - 1\n",
    "    return first\n",
    "            \n",
    "def lastposition(arr, n, k):\n",
    "    low = 0\n",
    "    high = n - 1\n",
    "    last = -1\n",
    "    while low <= high:\n",
    "        mid = (low + high) // 2\n",
    "        if arr[mid] == k:\n",
    "            last = mid\n",
    "            low = mid + 1\n",
    "        elif arr[mid] < k:\n",
    "            low = mid + 1\n",
    "        else:\n",
    "            high = mid - 1\n",
    "    return last\n",
    "         \n"
   ]
  },
  {
   "cell_type": "code",
   "execution_count": 81,
   "id": "59c48c94",
   "metadata": {},
   "outputs": [
    {
     "data": {
      "text/plain": [
       "-1"
      ]
     },
     "execution_count": 81,
     "metadata": {},
     "output_type": "execute_result"
    }
   ],
   "source": [
    "firstposition(arr, n, k)"
   ]
  },
  {
   "cell_type": "code",
   "execution_count": 82,
   "id": "f3975788",
   "metadata": {},
   "outputs": [
    {
     "data": {
      "text/plain": [
       "-1"
      ]
     },
     "execution_count": 82,
     "metadata": {},
     "output_type": "execute_result"
    }
   ],
   "source": [
    "lastposition(arr, n, k)"
   ]
  },
  {
   "cell_type": "code",
   "execution_count": null,
   "id": "85d162aa",
   "metadata": {},
   "outputs": [],
   "source": [
    "def count(arr: [int], n: int, k: int) -> int:\n",
    "    if firstposition(arr, n, k) == -1: return 0\n",
    "    else:\n",
    "        return lastposition(arr, n, k) - firstposition(arr, n, k) + 1\n"
   ]
  },
  {
   "cell_type": "markdown",
   "id": "d6d0ff6a",
   "metadata": {},
   "source": [
    "8. Search in Rotated Sorted Array I"
   ]
  },
  {
   "cell_type": "code",
   "execution_count": 86,
   "id": "8b689726",
   "metadata": {},
   "outputs": [],
   "source": [
    "arr = [7, 8, 9, 1, 2, 3, 4, 5, 6]\n",
    "n = len(arr)\n",
    "target = 1"
   ]
  },
  {
   "cell_type": "code",
   "execution_count": 87,
   "id": "8ab1ad5b",
   "metadata": {},
   "outputs": [],
   "source": [
    "def search(arr, n, target):\n",
    "    low = 0\n",
    "    high = n - 1\n",
    "    while low <= high:\n",
    "        mid = (low + high) // 2\n",
    "        if arr[mid] == target:\n",
    "            return mid\n",
    "        if arr[low] <= arr[mid]:      # LEFT IS SORTED\n",
    "            \n",
    "            if arr[low] <= target <= arr[mid]:\n",
    "                high = mid - 1\n",
    "            else:\n",
    "                low = mid + 1\n",
    "            \n",
    "            \n",
    "        else:                        # RIGHT IS SORTED\n",
    "            \n",
    "            if arr[mid] <= target <= arr[high]:\n",
    "                low = mid + 1\n",
    "            else:\n",
    "                high = mid - 1\n",
    "    return -1"
   ]
  },
  {
   "cell_type": "code",
   "execution_count": 88,
   "id": "8cb37987",
   "metadata": {},
   "outputs": [
    {
     "data": {
      "text/plain": [
       "3"
      ]
     },
     "execution_count": 88,
     "metadata": {},
     "output_type": "execute_result"
    }
   ],
   "source": [
    "search(arr, n, target)"
   ]
  },
  {
   "cell_type": "markdown",
   "id": "7babd1d5",
   "metadata": {},
   "source": [
    "9. Search in Rotated Sorted Array II"
   ]
  },
  {
   "cell_type": "code",
   "execution_count": 94,
   "id": "d981aaa8",
   "metadata": {},
   "outputs": [],
   "source": [
    "arr = [21, 26, 30, 30, 32, 33, 35, 36, 40, 43, 47, 49, 4, 5, 19]\n",
    "n = len(arr)\n",
    "target = 50"
   ]
  },
  {
   "cell_type": "code",
   "execution_count": 105,
   "id": "6e9a9d6f",
   "metadata": {},
   "outputs": [],
   "source": [
    "def search(arr, n, target):\n",
    "    low = 0\n",
    "    high = n - 1\n",
    "    while low <= high:\n",
    "        mid = (low + high) // 2\n",
    "        if arr[mid] == target:\n",
    "            return True\n",
    "        if arr[low] == arr[mid] == arr[high]:\n",
    "            low = low + 1\n",
    "            high = high - 1\n",
    "            continue\n",
    "        \n",
    "        if arr[low] <= arr[mid]:      # LEFT IS SORTED\n",
    "            if arr[low] <= target <= arr[mid]:\n",
    "                high = mid - 1\n",
    "            else:\n",
    "                low = mid + 1\n",
    "            \n",
    "        \n",
    "        else:                        # RIGHT IS SORTED\n",
    "            \n",
    "            if arr[mid] <= target <= arr[high]:\n",
    "                low = mid + 1\n",
    "            else:\n",
    "                high = mid - 1\n",
    "    return False"
   ]
  },
  {
   "cell_type": "code",
   "execution_count": 106,
   "id": "0d164dc2",
   "metadata": {},
   "outputs": [
    {
     "data": {
      "text/plain": [
       "False"
      ]
     },
     "execution_count": 106,
     "metadata": {},
     "output_type": "execute_result"
    }
   ],
   "source": [
    "search(arr, n, target)"
   ]
  },
  {
   "cell_type": "markdown",
   "id": "b327c721",
   "metadata": {},
   "source": [
    "10. Find minimum in Rotated Sorted Array"
   ]
  },
  {
   "cell_type": "code",
   "execution_count": 107,
   "id": "2f6bb318",
   "metadata": {},
   "outputs": [],
   "source": [
    "arr = [3,4,5,1,2]\n",
    "n = len(arr)"
   ]
  },
  {
   "cell_type": "code",
   "execution_count": 114,
   "id": "159a831d",
   "metadata": {},
   "outputs": [],
   "source": [
    "def findMin(arr):\n",
    "    low = 0\n",
    "    high = n - 1\n",
    "    ans = float('inf')\n",
    "    while low <= high:\n",
    "        mid = (low + high) // 2\n",
    "        if arr[low] <= arr[mid]:    # LEFT HALF IS SORTED, TAKE THE MINIMUM AND DUMP THE SORTED HALF\n",
    "            ans = min(ans, arr[low])\n",
    "            low = mid + 1\n",
    "        else:\n",
    "            ans = min(ans, arr[mid])\n",
    "            high = mid - 1\n",
    "    return ans  \n",
    "            \n",
    "            "
   ]
  },
  {
   "cell_type": "code",
   "execution_count": 115,
   "id": "664088c2",
   "metadata": {},
   "outputs": [
    {
     "data": {
      "text/plain": [
       "1"
      ]
     },
     "execution_count": 115,
     "metadata": {},
     "output_type": "execute_result"
    }
   ],
   "source": [
    "findMin(arr)"
   ]
  },
  {
   "cell_type": "markdown",
   "id": "d500d6b5",
   "metadata": {},
   "source": [
    "11. Rotation"
   ]
  },
  {
   "cell_type": "code",
   "execution_count": 116,
   "id": "30c47987",
   "metadata": {},
   "outputs": [],
   "source": [
    "def findKRotation(arr : [int]) -> int:\n",
    "    # Write your code here.\n",
    "    n = len(arr)\n",
    "    low = 0\n",
    "    high = n - 1\n",
    "    ans = float('inf')\n",
    "    while low <= high:\n",
    "        mid = (low + high) // 2\n",
    "        \n",
    "        if arr[low] <= arr[high]:\n",
    "            if arr[low] < ans:\n",
    "                ans = arr[low]\n",
    "                index = low\n",
    "            break\n",
    "        \n",
    "        if arr[low] <= arr[mid]:    # LEFT HALF IS SORTED, TAKE THE MINIMUM AND DUMP THE SORTED HALF\n",
    "            if arr[low] < ans:\n",
    "                ans = arr[low]\n",
    "                index = low\n",
    "            low = mid + 1\n",
    "            \n",
    "        else:\n",
    "            if arr[mid] < ans:\n",
    "                ans = arr[mid]\n",
    "                index = mid\n",
    "            high = mid - 1\n",
    "            \n",
    "    return index\n",
    "            \n"
   ]
  },
  {
   "cell_type": "markdown",
   "id": "5c593c68",
   "metadata": {},
   "source": [
    "12. Single element in a Sorted Array"
   ]
  },
  {
   "cell_type": "code",
   "execution_count": 1,
   "id": "c31aa849",
   "metadata": {},
   "outputs": [],
   "source": [
    "arr = [2, 2, 15, 15, 18, 18, 21, 21, 23, 23, 37, 37, 42, 47, 47, 49, 49] \n",
    "n = len(arr)"
   ]
  },
  {
   "cell_type": "code",
   "execution_count": 2,
   "id": "683523c9",
   "metadata": {},
   "outputs": [],
   "source": [
    "def search(arr, n):\n",
    "    if n == 1: return arr[0] #SINGLE ELEMENT CASE\n",
    "    if arr[0] != arr[1]: return arr[0]     # FIRST CASE\n",
    "    if arr[n - 2] != arr[n - 1]: return arr[n - 1] # LAST CASE\n",
    "    \n",
    "    low = 1\n",
    "    high = n - 2\n",
    "    while low <= high:\n",
    "        mid = (low + high) // 2\n",
    "        if arr[mid - 1] != arr[mid] != arr[mid + 1]:\n",
    "            return arr[mid]\n",
    "        if (mid % 2 == 0 and arr[mid] == arr[mid + 1]) or (mid % 2 == 1 and arr[mid - 1] == arr[mid]):   # (E,O) : then element present on the right side\n",
    "            low = mid + 1\n",
    "        else:\n",
    "            high = mid - 1\n",
    "    return -1"
   ]
  },
  {
   "cell_type": "markdown",
   "id": "057a9ea2",
   "metadata": {},
   "source": [
    "13. Find peak element"
   ]
  },
  {
   "cell_type": "code",
   "execution_count": 3,
   "id": "17084dc1",
   "metadata": {},
   "outputs": [],
   "source": [
    "arr = [1, 8, 1, 5, 3]\n",
    "n = len(arr)"
   ]
  },
  {
   "cell_type": "code",
   "execution_count": 4,
   "id": "d2fcf160",
   "metadata": {},
   "outputs": [],
   "source": [
    "def search(arr, n):\n",
    "    n = len(arr)\n",
    "    if n == 1: return 0\n",
    "    if arr[0] > arr[1]: return 0\n",
    "    if arr[n - 2] < arr[n - 1]: return n - 1\n",
    "        \n",
    "    low = 1\n",
    "    high = n - 2\n",
    "    while low <= high:\n",
    "        mid = (low + high) // 2\n",
    "        if arr[mid - 1] < arr[mid] > arr[mid + 1]:\n",
    "            return mid\n",
    "        elif arr[mid - 1] < arr[mid]: # mid is on increasing slope\n",
    "            low = mid + 1\n",
    "        else: # mid is on decreasing slope\n",
    "            high = mid - 1\n",
    "    return -1"
   ]
  },
  {
   "cell_type": "code",
   "execution_count": 5,
   "id": "46441c25",
   "metadata": {},
   "outputs": [
    {
     "data": {
      "text/plain": [
       "8"
      ]
     },
     "execution_count": 5,
     "metadata": {},
     "output_type": "execute_result"
    }
   ],
   "source": [
    "search(arr, n)"
   ]
  }
 ],
 "metadata": {
  "kernelspec": {
   "display_name": "Python 3",
   "language": "python",
   "name": "python3"
  },
  "language_info": {
   "codemirror_mode": {
    "name": "ipython",
    "version": 3
   },
   "file_extension": ".py",
   "mimetype": "text/x-python",
   "name": "python",
   "nbconvert_exporter": "python",
   "pygments_lexer": "ipython3",
   "version": "3.8.8"
  }
 },
 "nbformat": 4,
 "nbformat_minor": 5
}
