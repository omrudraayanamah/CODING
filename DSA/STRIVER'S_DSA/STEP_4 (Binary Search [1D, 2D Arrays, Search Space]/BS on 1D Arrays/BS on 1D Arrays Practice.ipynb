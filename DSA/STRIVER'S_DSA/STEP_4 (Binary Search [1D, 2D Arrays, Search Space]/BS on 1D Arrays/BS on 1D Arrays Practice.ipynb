{
 "cells": [
  {
   "cell_type": "markdown",
   "id": "868888ad",
   "metadata": {},
   "source": [
    "1. Binary Search to find X in sorted array"
   ]
  },
  {
   "cell_type": "code",
   "execution_count": 3,
   "id": "eac187a3",
   "metadata": {},
   "outputs": [],
   "source": [
    "arr = [1, 3, 7, 9, 11, 12, 45]\n",
    "n = len(arr)\n",
    "target = 3"
   ]
  },
  {
   "cell_type": "code",
   "execution_count": 4,
   "id": "f7c0fe89",
   "metadata": {},
   "outputs": [
    {
     "name": "stdout",
     "output_type": "stream",
     "text": [
      "1\n"
     ]
    }
   ],
   "source": [
    "for i in range(n):\n",
    "    if arr[i] == target:\n",
    "        print(i)"
   ]
  },
  {
   "cell_type": "markdown",
   "id": "628d03e3",
   "metadata": {},
   "source": [
    "2. Implement Lower Bound"
   ]
  },
  {
   "cell_type": "code",
   "execution_count": 5,
   "id": "e664e149",
   "metadata": {},
   "outputs": [],
   "source": [
    "arr = [1, 2, 2, 3]\n",
    "x = 0"
   ]
  },
  {
   "cell_type": "code",
   "execution_count": 8,
   "id": "98cfa289",
   "metadata": {},
   "outputs": [
    {
     "name": "stdout",
     "output_type": "stream",
     "text": [
      "0\n",
      "1\n",
      "2\n",
      "3\n"
     ]
    }
   ],
   "source": [
    "arr.sort()\n",
    "ans = len(arr)\n",
    "for i in range(len(arr)):\n",
    "    if x <= arr[i]:\n",
    "        ans = i\n",
    "        return ans"
   ]
  },
  {
   "cell_type": "code",
   "execution_count": 7,
   "id": "4495298b",
   "metadata": {},
   "outputs": [
    {
     "data": {
      "text/plain": [
       "3"
      ]
     },
     "execution_count": 7,
     "metadata": {},
     "output_type": "execute_result"
    }
   ],
   "source": [
    "ans"
   ]
  },
  {
   "cell_type": "code",
   "execution_count": 9,
   "id": "cb24dd86",
   "metadata": {},
   "outputs": [],
   "source": [
    "arr = [3, 4, 6, 7, 9, 12, 16, 17]\n",
    "n = 8\n",
    "target = 13"
   ]
  },
  {
   "cell_type": "code",
   "execution_count": null,
   "id": "38e14578",
   "metadata": {},
   "outputs": [],
   "source": [
    "def binarysearch(arr, n, target):\n",
    "    low = 0\n",
    "    high = n - 1\n",
    "    while low <= high:\n",
    "        \n",
    "        mid = (low + high) // 2\n",
    "        \n",
    "        if arr[mid] == target:\n",
    "            return mid\n",
    "        \n",
    "        elif target > arr[mid]:\n",
    "            low = mid + 1\n",
    "            \n",
    "        else:\n",
    "            high = mid - 1\n",
    "            \n",
    "            \n",
    "            "
   ]
  },
  {
   "cell_type": "code",
   "execution_count": 16,
   "id": "ff652274",
   "metadata": {},
   "outputs": [],
   "source": [
    "arr = [1, 3, 7, 9, 11, 12, 45]\n",
    "n = len(arr)\n",
    "target = 3"
   ]
  },
  {
   "cell_type": "code",
   "execution_count": 21,
   "id": "957d01c8",
   "metadata": {},
   "outputs": [],
   "source": [
    "#ITERTIVE\n",
    "\n",
    "def search(arr, low, high):\n",
    "    low = 0\n",
    "    high = n - 1\n",
    "    \n",
    "    while low <= high:\n",
    "        mid = (low + high) // 2\n",
    "        \n",
    "        if arr[mid] == target:\n",
    "            return mid\n",
    "        elif target < arr[mid]:\n",
    "            high = mid - 1\n",
    "        else:\n",
    "            low = mid + 1\n",
    "    return -1\n",
    "            "
   ]
  },
  {
   "cell_type": "code",
   "execution_count": 22,
   "id": "05243f3d",
   "metadata": {},
   "outputs": [
    {
     "data": {
      "text/plain": [
       "1"
      ]
     },
     "execution_count": 22,
     "metadata": {},
     "output_type": "execute_result"
    }
   ],
   "source": [
    "search(arr, 0, n - 1)"
   ]
  },
  {
   "cell_type": "code",
   "execution_count": 23,
   "id": "be9fb722",
   "metadata": {},
   "outputs": [],
   "source": [
    "#RECURSIVE\n",
    "def search(arr, low, high):\n",
    "    mid = (low + high) // 2\n",
    "    if arr[mid] == target:\n",
    "        return mid\n",
    "    elif target < arr[mid]:\n",
    "        return search(arr, low, mid - 1)\n",
    "    else:\n",
    "        return search(arr, mid + 1, high)\n",
    "    return -1"
   ]
  },
  {
   "cell_type": "code",
   "execution_count": 24,
   "id": "8ff0baf9",
   "metadata": {},
   "outputs": [
    {
     "data": {
      "text/plain": [
       "1"
      ]
     },
     "execution_count": 24,
     "metadata": {},
     "output_type": "execute_result"
    }
   ],
   "source": [
    "search(arr, 0, n - 1)"
   ]
  },
  {
   "cell_type": "markdown",
   "id": "4dda651b",
   "metadata": {},
   "source": [
    "2. LOWER BOUND"
   ]
  },
  {
   "cell_type": "code",
   "execution_count": 25,
   "id": "cda15921",
   "metadata": {},
   "outputs": [],
   "source": [
    "arr = [1, 2, 3, 3, 5, 8, 8, 10, 10, 11]\n",
    "n = len(arr)"
   ]
  },
  {
   "cell_type": "code",
   "execution_count": 30,
   "id": "d94cc7c9",
   "metadata": {},
   "outputs": [],
   "source": [
    "def lowerbound(arr, target):\n",
    "    ans = n\n",
    "    low = 0\n",
    "    high = n - 1\n",
    "    while low <= high:\n",
    "        mid = (low + high) // 2\n",
    "        if arr[mid] >= target:\n",
    "            ans = mid\n",
    "            high = mid - 1\n",
    "        else:\n",
    "            low = mid + 1\n",
    "    return ans\n",
    "        \n",
    "        "
   ]
  },
  {
   "cell_type": "code",
   "execution_count": 31,
   "id": "5a24a67c",
   "metadata": {},
   "outputs": [
    {
     "data": {
      "text/plain": [
       "5"
      ]
     },
     "execution_count": 31,
     "metadata": {},
     "output_type": "execute_result"
    }
   ],
   "source": [
    "lowerbound(arr, 8)"
   ]
  },
  {
   "cell_type": "markdown",
   "id": "332b96f5",
   "metadata": {},
   "source": [
    "3. Upper bound"
   ]
  },
  {
   "cell_type": "code",
   "execution_count": 32,
   "id": "fcbeef65",
   "metadata": {},
   "outputs": [],
   "source": [
    "arr = [2, 3, 6, 7, 8, 8, 11, 11, 11, 12]\n",
    "n = len(arr)"
   ]
  },
  {
   "cell_type": "code",
   "execution_count": 33,
   "id": "08fb9135",
   "metadata": {},
   "outputs": [],
   "source": [
    "def upperbound(arr, target):\n",
    "    ans = n\n",
    "    low = 0\n",
    "    high = n - 1\n",
    "    while low <= high:\n",
    "        mid = (low + high) // 2\n",
    "        if arr[mid] > target:\n",
    "            ans = mid\n",
    "            high = mid - 1\n",
    "        else:\n",
    "            low = mid + 1\n",
    "    return ans\n",
    "        \n",
    "        "
   ]
  },
  {
   "cell_type": "code",
   "execution_count": 34,
   "id": "da39d520",
   "metadata": {},
   "outputs": [
    {
     "data": {
      "text/plain": [
       "6"
      ]
     },
     "execution_count": 34,
     "metadata": {},
     "output_type": "execute_result"
    }
   ],
   "source": [
    "upperbound(arr, 8)"
   ]
  },
  {
   "cell_type": "markdown",
   "id": "497ae4a9",
   "metadata": {},
   "source": [
    "FLOOR/CEIL"
   ]
  },
  {
   "cell_type": "code",
   "execution_count": 35,
   "id": "2ec397c8",
   "metadata": {},
   "outputs": [],
   "source": [
    "a = [3, 4, 7, 8, 8, 10] \n",
    "n = 6\n",
    "x = 5"
   ]
  },
  {
   "cell_type": "code",
   "execution_count": 38,
   "id": "730c50af",
   "metadata": {},
   "outputs": [],
   "source": [
    "def ceil(a, n, x):\n",
    "    low = 0\n",
    "    high = n - 1\n",
    "    ans = n\n",
    "    while low <= high:\n",
    "        mid = (low + high) // 2\n",
    "        if a[mid] >= x:\n",
    "            ans = a[mid]\n",
    "            high = mid - 1\n",
    "        else:\n",
    "            low = mid + 1\n",
    "    return ans  "
   ]
  },
  {
   "cell_type": "code",
   "execution_count": 39,
   "id": "a2cdaade",
   "metadata": {},
   "outputs": [
    {
     "data": {
      "text/plain": [
       "7"
      ]
     },
     "execution_count": 39,
     "metadata": {},
     "output_type": "execute_result"
    }
   ],
   "source": [
    "ceil(a, n, x)"
   ]
  },
  {
   "cell_type": "code",
   "execution_count": 42,
   "id": "be3b1cf7",
   "metadata": {},
   "outputs": [],
   "source": [
    "def floor(a, n, x):\n",
    "    low = 0\n",
    "    high = n - 1\n",
    "    ans = -1\n",
    "    while low <= high:\n",
    "        mid = (low + high) // 2\n",
    "        if a[mid] <= x:\n",
    "            low = mid + 1\n",
    "            ans = a[mid]\n",
    "        else:\n",
    "            high = mid - 1\n",
    "    return ans"
   ]
  },
  {
   "cell_type": "code",
   "execution_count": 43,
   "id": "f9958be8",
   "metadata": {},
   "outputs": [
    {
     "data": {
      "text/plain": [
       "4"
      ]
     },
     "execution_count": 43,
     "metadata": {},
     "output_type": "execute_result"
    }
   ],
   "source": [
    "floor(a, n, x)"
   ]
  },
  {
   "cell_type": "markdown",
   "id": "8ac695fa",
   "metadata": {},
   "source": [
    "6. First and last position"
   ]
  },
  {
   "cell_type": "code",
   "execution_count": 44,
   "id": "799231e1",
   "metadata": {},
   "outputs": [],
   "source": [
    "arr = [2, 4, 6, 8, 8, 8, 11, 13]\n",
    "n = len(arr)\n",
    "k = 8"
   ]
  },
  {
   "cell_type": "code",
   "execution_count": 53,
   "id": "4023c6c4",
   "metadata": {},
   "outputs": [],
   "source": [
    "def firstposition(arr, k):\n",
    "    first = -1\n",
    "    low = 0\n",
    "    high = n - 1\n",
    "    while low <= high:\n",
    "        mid = (low + high) // 2\n",
    "        if arr[mid] == k:\n",
    "            first = mid\n",
    "            high = mid - 1\n",
    "        elif arr[mid] < k:\n",
    "            low = mid + 1\n",
    "        else:\n",
    "            high = mid - 1\n",
    "    return first\n",
    "\n",
    "def lastposition(arr, k):\n",
    "    last = -1\n",
    "    low = 0\n",
    "    high = n - 1\n",
    "    while low <= high:\n",
    "        mid = (low + high) // 2\n",
    "        if arr[mid] == k:\n",
    "            last = mid\n",
    "            low = mid + 1\n",
    "        elif arr[mid] < k:\n",
    "            low = mid + 1\n",
    "        else:\n",
    "            high = mid - 1\n",
    "    return last"
   ]
  },
  {
   "cell_type": "code",
   "execution_count": 54,
   "id": "bb696a47",
   "metadata": {},
   "outputs": [
    {
     "data": {
      "text/plain": [
       "(3, 5)"
      ]
     },
     "execution_count": 54,
     "metadata": {},
     "output_type": "execute_result"
    }
   ],
   "source": [
    "firstposition(arr, k), lastposition(arr, k), "
   ]
  },
  {
   "cell_type": "markdown",
   "id": "adbda17f",
   "metadata": {},
   "source": [
    "7. Count Occurrences in Sorted Array"
   ]
  },
  {
   "cell_type": "code",
   "execution_count": 63,
   "id": "27659d0e",
   "metadata": {},
   "outputs": [],
   "source": [
    "arr = [1, 2, 4, 4, 5]\n",
    "k = 6\n",
    "n = len(arr)"
   ]
  },
  {
   "cell_type": "code",
   "execution_count": 64,
   "id": "145884cc",
   "metadata": {},
   "outputs": [],
   "source": [
    "def firstposition(arr, k):\n",
    "    first = -1\n",
    "    low = 0\n",
    "    high = n - 1\n",
    "    while low <= high:\n",
    "        mid = (low + high) // 2\n",
    "        if arr[mid] == k:\n",
    "            first = mid\n",
    "            high = mid - 1\n",
    "        elif arr[mid] < k:\n",
    "            low = mid + 1\n",
    "        else:\n",
    "            high = mid - 1\n",
    "    return first\n",
    "\n",
    "def lastposition(arr, k):\n",
    "    last = -1\n",
    "    low = 0\n",
    "    high = n - 1\n",
    "    while low <= high:\n",
    "        mid = (low + high) // 2\n",
    "        if arr[mid] == k:\n",
    "            last = mid\n",
    "            low = mid + 1\n",
    "        elif arr[mid] < k:\n",
    "            low = mid + 1\n",
    "        else:\n",
    "            high = mid - 1\n",
    "    return last"
   ]
  },
  {
   "cell_type": "code",
   "execution_count": 65,
   "id": "5ca2986a",
   "metadata": {},
   "outputs": [],
   "source": [
    "def count(arr: [int], n: int, k: int) -> int:\n",
    "    ans = firstposition(arr, k)\n",
    "    if ans == -1:\n",
    "        return 0\n",
    "    else:\n",
    "        return lastposition(arr, k) - firstposition(arr, k) + 1"
   ]
  },
  {
   "cell_type": "code",
   "execution_count": 66,
   "id": "562a49aa",
   "metadata": {},
   "outputs": [
    {
     "data": {
      "text/plain": [
       "0"
      ]
     },
     "execution_count": 66,
     "metadata": {},
     "output_type": "execute_result"
    }
   ],
   "source": [
    "count(arr, n , k) "
   ]
  },
  {
   "cell_type": "code",
   "execution_count": 67,
   "id": "58530ab9",
   "metadata": {},
   "outputs": [
    {
     "data": {
      "text/plain": [
       "-1"
      ]
     },
     "execution_count": 67,
     "metadata": {},
     "output_type": "execute_result"
    }
   ],
   "source": [
    "firstposition(arr, k)"
   ]
  },
  {
   "cell_type": "markdown",
   "id": "1d30ca2b",
   "metadata": {},
   "source": [
    "8. Search in Rotated Sorted Array I"
   ]
  },
  {
   "cell_type": "code",
   "execution_count": 88,
   "id": "22dfde3d",
   "metadata": {},
   "outputs": [],
   "source": [
    "arr = [7, 8, 8, 9, 1, 2, 3, 4, 5, 6]\n",
    "n = len(arr)     \n",
    "k = 1"
   ]
  },
  {
   "cell_type": "code",
   "execution_count": 95,
   "id": "74d4393a",
   "metadata": {},
   "outputs": [],
   "source": [
    "def search(arr, n, target):\n",
    "    low = 0\n",
    "    high = n - 1\n",
    "   \n",
    "    while low <= high:\n",
    "        mid = (low + high) // 2\n",
    "        if arr[mid] == target:\n",
    "            return mid\n",
    "        \n",
    "        \n",
    "            \n",
    "        if arr[low] <= arr[mid]:    #left is sorted\n",
    "            if arr[low] <= target <= arr[mid]:\n",
    "                high = mid - 1\n",
    "            else:\n",
    "                low = mid + 1\n",
    "            \n",
    "        elif arr[mid] <= arr[high]:   # right is sorted\n",
    "            if arr[mid] <= target <= arr[high]:\n",
    "                low = mid + 1\n",
    "            else:\n",
    "                high = mid - 1\n",
    "    return -1"
   ]
  },
  {
   "cell_type": "code",
   "execution_count": 96,
   "id": "82e650f0",
   "metadata": {},
   "outputs": [
    {
     "name": "stdout",
     "output_type": "stream",
     "text": [
      "1\n"
     ]
    },
    {
     "data": {
      "text/plain": [
       "1"
      ]
     },
     "execution_count": 96,
     "metadata": {},
     "output_type": "execute_result"
    }
   ],
   "source": [
    "search(arr, n, target)"
   ]
  },
  {
   "cell_type": "markdown",
   "id": "3412fadc",
   "metadata": {},
   "source": [
    "9. Search in Rotated Sorted Array II"
   ]
  },
  {
   "cell_type": "code",
   "execution_count": 112,
   "id": "5dc554e5",
   "metadata": {},
   "outputs": [],
   "source": [
    "arr = [1, 0, 1, 1, 1]\n",
    "n = len(arr)\n",
    "target = 0"
   ]
  },
  {
   "cell_type": "code",
   "execution_count": 121,
   "id": "ba3b8344",
   "metadata": {},
   "outputs": [],
   "source": [
    "def search(arr, n, target):\n",
    "    low = 0\n",
    "    high = n - 1\n",
    "    n = len(arr)\n",
    "    while low <= high:\n",
    "        mid = (low + high) // 2\n",
    "        \n",
    "        if arr[mid] == target:\n",
    "            return True\n",
    "        \n",
    "        if arr[low] == arr[mid]:\n",
    "            low = low + 1\n",
    "            continue\n",
    "        if arr[mid] == arr[high]:\n",
    "            high = high - 1\n",
    "            continue\n",
    "        if arr[low] <= arr[mid]:      #LEFT SORTED HAI\n",
    "            if arr[low] <= target <= arr[mid]:\n",
    "                high = mid - 1\n",
    "            else:\n",
    "                low = mid + 1\n",
    "        elif arr[mid] <= arr[high]:   #RIGHT SORTED HAI\n",
    "            if arr[mid] <= target <= arr[high]:\n",
    "                low = mid + 1\n",
    "            else:\n",
    "                high = mid - 1\n",
    "    return False"
   ]
  },
  {
   "cell_type": "code",
   "execution_count": 122,
   "id": "8bc3c35f",
   "metadata": {},
   "outputs": [
    {
     "name": "stdout",
     "output_type": "stream",
     "text": [
      "[2]\n",
      "[1]\n"
     ]
    },
    {
     "data": {
      "text/plain": [
       "True"
      ]
     },
     "execution_count": 122,
     "metadata": {},
     "output_type": "execute_result"
    }
   ],
   "source": [
    "search(arr, n, target)"
   ]
  },
  {
   "cell_type": "markdown",
   "id": "55df1416",
   "metadata": {},
   "source": [
    " Find Minimum in Rotated Sorted Array"
   ]
  },
  {
   "cell_type": "code",
   "execution_count": 142,
   "id": "b3a0fcdb",
   "metadata": {},
   "outputs": [],
   "source": [
    "arr = [1, 2, 3]\n",
    "n = len(arr)"
   ]
  },
  {
   "cell_type": "code",
   "execution_count": 158,
   "id": "d53776ea",
   "metadata": {},
   "outputs": [],
   "source": [
    "def search(arr):\n",
    "    low = 0\n",
    "    high = n - 1\n",
    "    index = None\n",
    "    ans = float('inf')\n",
    "    while low <= high:\n",
    "        mid = (low + high) // 2\n",
    "  \n",
    "        if arr[low] <= arr[mid]:\n",
    "           \n",
    "            if arr[low] < ans:\n",
    "        \n",
    "                ans = arr[low]\n",
    "                index = low\n",
    "            low = mid + 1\n",
    "            \n",
    "        elif arr[mid] <= arr[high]:\n",
    "        \n",
    "            if arr[mid] < ans:\n",
    "                ans = arr[mid]\n",
    "                index = mid\n",
    "            high = mid - 1\n",
    "    return index"
   ]
  },
  {
   "cell_type": "code",
   "execution_count": 159,
   "id": "62b6d484",
   "metadata": {},
   "outputs": [
    {
     "name": "stdout",
     "output_type": "stream",
     "text": [
      "1 inf\n"
     ]
    },
    {
     "data": {
      "text/plain": [
       "0"
      ]
     },
     "execution_count": 159,
     "metadata": {},
     "output_type": "execute_result"
    }
   ],
   "source": [
    "search(arr)"
   ]
  },
  {
   "cell_type": "code",
   "execution_count": 148,
   "id": "94769471",
   "metadata": {},
   "outputs": [],
   "source": [
    "def findKRotation(arr : [int]) -> int:\n",
    "    n = len(arr)\n",
    "    low = 0\n",
    "    high = n - 1\n",
    "    index = None\n",
    "    ans = float('inf')\n",
    "    while low <= high:\n",
    "        mid = (low + high) // 2\n",
    "        if arr[low] <= arr[mid]:\n",
    "            if arr[low] < ans:\n",
    "                index = low\n",
    "            low = mid + 1\n",
    "            \n",
    "        elif arr[mid] <= arr[high]:\n",
    "            if arr[mid] < ans:\n",
    "                index = mid\n",
    "            high = mid - 1\n",
    "    return index\n"
   ]
  },
  {
   "cell_type": "code",
   "execution_count": 149,
   "id": "88961973",
   "metadata": {},
   "outputs": [
    {
     "data": {
      "text/plain": [
       "2"
      ]
     },
     "execution_count": 149,
     "metadata": {},
     "output_type": "execute_result"
    }
   ],
   "source": [
    "findKRotation(arr)"
   ]
  },
  {
   "cell_type": "markdown",
   "id": "3429e13e",
   "metadata": {},
   "source": [
    "12. \tSingle element in a Sorted Array"
   ]
  },
  {
   "cell_type": "code",
   "execution_count": 18,
   "id": "7bb3c4ab",
   "metadata": {},
   "outputs": [],
   "source": [
    "arr = [2, 2, 15, 15, 18, 18, 21, 21, 23, 23, 37, 37, 42, 47, 47, 49, 49] \n",
    "n = len(arr)"
   ]
  },
  {
   "cell_type": "code",
   "execution_count": 19,
   "id": "74d04b3b",
   "metadata": {},
   "outputs": [],
   "source": [
    "def search(arr, n):\n",
    "    if n == 1: return arr[0] #SINGLE ELEMENT CASE\n",
    "    if arr[0] != arr[1]: return arr[0]     # FIRST CASE\n",
    "    if arr[n - 2] != arr[n - 1]: return arr[n - 1] # LAST CASE\n",
    "    \n",
    "    low = 1\n",
    "    high = n - 2\n",
    "    while low <= high:\n",
    "        mid = (low + high) // 2\n",
    "        if arr[mid - 1] != arr[mid] != arr[mid + 1]:\n",
    "            return arr[mid]\n",
    "        if (mid % 2 == 0 and arr[mid] == arr[mid + 1]) or (mid % 2 == 1 and arr[mid - 1] == arr[mid]):   # (E,O) : then element present on the right side\n",
    "            low = mid + 1\n",
    "        else:\n",
    "            high = mid - 1\n",
    "    return -1"
   ]
  },
  {
   "cell_type": "code",
   "execution_count": 20,
   "id": "110e15e9",
   "metadata": {},
   "outputs": [
    {
     "data": {
      "text/plain": [
       "42"
      ]
     },
     "execution_count": 20,
     "metadata": {},
     "output_type": "execute_result"
    }
   ],
   "source": [
    "search(arr, n)"
   ]
  },
  {
   "cell_type": "code",
   "execution_count": 30,
   "id": "20a59e9d",
   "metadata": {},
   "outputs": [],
   "source": [
    "arr = [1, 2, 3, 4, 5]\n",
    "n = len(arr)"
   ]
  },
  {
   "cell_type": "code",
   "execution_count": 31,
   "id": "72187abb",
   "metadata": {},
   "outputs": [],
   "source": [
    "def search(arr, n):\n",
    "    if n == 1:\n",
    "        return arr[0]\n",
    "    if arr[0] > arr[1]:\n",
    "        return arr[0]\n",
    "    if arr[n - 2] < arr[n - 1]:\n",
    "        return arr[n - 1]\n",
    "    \n",
    "    low = 1\n",
    "    high = n - 2\n",
    "    while low <= high:\n",
    "        mid = (low + high) // 2\n",
    "        if arr[mid - 1] < arr[mid] > arr[mid + 1]:\n",
    "            return arr[mid]\n",
    "        elif arr[mid - 1] < arr[mid]: # left is sorted\n",
    "            low = mid + 1\n",
    "        else:\n",
    "            high = mid - 1\n",
    "            \n"
   ]
  },
  {
   "cell_type": "code",
   "execution_count": 35,
   "id": "e5b4eb84",
   "metadata": {},
   "outputs": [],
   "source": [
    "def search(arr, n):\n",
    "    n = len(arr)\n",
    "    if n == 1:\n",
    "        return True\n",
    "    if arr[0] > arr[1]:\n",
    "        return True\n",
    "    if arr[n - 2] < arr[n - 1]:\n",
    "        return True\n",
    "    \n",
    "    low = 1\n",
    "    high = n - 2\n",
    "    while low <= high:\n",
    "        mid = (low + high) // 2\n",
    "        if arr[mid - 1] < arr[mid] > arr[mid + 1]:\n",
    "            return True\n",
    "        elif arr[mid - 1] < arr[mid]: # increasing slope\n",
    "            low = mid + 1\n",
    "        elif arr[mid] > arr[mid + 1]:\n",
    "            high = mid - 1\n",
    "        else:\n",
    "            low = mid + 1\n",
    "    return False"
   ]
  },
  {
   "cell_type": "code",
   "execution_count": 36,
   "id": "6c599b5e",
   "metadata": {},
   "outputs": [
    {
     "data": {
      "text/plain": [
       "True"
      ]
     },
     "execution_count": 36,
     "metadata": {},
     "output_type": "execute_result"
    }
   ],
   "source": [
    "search(arr, n)"
   ]
  },
  {
   "cell_type": "code",
   "execution_count": null,
   "id": "e3a67caf",
   "metadata": {},
   "outputs": [],
   "source": []
  }
 ],
 "metadata": {
  "kernelspec": {
   "display_name": "Python 3",
   "language": "python",
   "name": "python3"
  },
  "language_info": {
   "codemirror_mode": {
    "name": "ipython",
    "version": 3
   },
   "file_extension": ".py",
   "mimetype": "text/x-python",
   "name": "python",
   "nbconvert_exporter": "python",
   "pygments_lexer": "ipython3",
   "version": "3.8.8"
  }
 },
 "nbformat": 4,
 "nbformat_minor": 5
}
