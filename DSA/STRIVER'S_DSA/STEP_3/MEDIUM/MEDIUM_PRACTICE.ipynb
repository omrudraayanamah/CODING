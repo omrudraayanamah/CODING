{
 "cells": [
  {
   "cell_type": "code",
   "execution_count": 1,
   "id": "0c9e7c76",
   "metadata": {},
   "outputs": [],
   "source": [
    "import numpy as np"
   ]
  },
  {
   "cell_type": "code",
   "execution_count": 13,
   "id": "ecb87c25",
   "metadata": {},
   "outputs": [],
   "source": [
    "matrix = np.array([\n",
    "    [2, 4, 3],\n",
    "    [1, 0, 0]\n",
    "])"
   ]
  },
  {
   "cell_type": "code",
   "execution_count": 14,
   "id": "5891d45c",
   "metadata": {},
   "outputs": [],
   "source": [
    "n = len(matrix)\n",
    "m = len(matrix[0])"
   ]
  },
  {
   "cell_type": "code",
   "execution_count": 15,
   "id": "9d8bc462",
   "metadata": {},
   "outputs": [
    {
     "data": {
      "text/plain": [
       "2"
      ]
     },
     "execution_count": 15,
     "metadata": {},
     "output_type": "execute_result"
    }
   ],
   "source": [
    "n"
   ]
  },
  {
   "cell_type": "code",
   "execution_count": 16,
   "id": "050e788d",
   "metadata": {},
   "outputs": [
    {
     "data": {
      "text/plain": [
       "3"
      ]
     },
     "execution_count": 16,
     "metadata": {},
     "output_type": "execute_result"
    }
   ],
   "source": [
    "m"
   ]
  },
  {
   "cell_type": "code",
   "execution_count": 9,
   "id": "d47aae1a",
   "metadata": {},
   "outputs": [
    {
     "data": {
      "text/plain": [
       "array([[2, 4, 3],\n",
       "       [1, 0, 0]])"
      ]
     },
     "execution_count": 9,
     "metadata": {},
     "output_type": "execute_result"
    }
   ],
   "source": [
    "matrix"
   ]
  },
  {
   "cell_type": "code",
   "execution_count": 12,
   "id": "72190b96",
   "metadata": {},
   "outputs": [],
   "source": [
    "def markRow(matrix, i, j):\n",
    "    for j in range(m):\n",
    "        if matrix[i][j] != 0:\n",
    "            matrix[i][j] = -1\n",
    "def markCol(matrix, i, j):\n",
    "    for i in range(n):\n",
    "        if matrix[i][j] != 0:\n",
    "            matrix[i][j] = -1"
   ]
  },
  {
   "cell_type": "code",
   "execution_count": 24,
   "id": "cb214fc7",
   "metadata": {},
   "outputs": [],
   "source": [
    "def matrixx(matrix, i, j):\n",
    "    for i in range(n):\n",
    "        for j in range(m):\n",
    "            if matrix[i][j] == 0:\n",
    "                markRow(matrix, i, j)\n",
    "                markCol(matrix, i, j)\n",
    "                \n",
    "    for i in range(n):\n",
    "        for j in range(m):\n",
    "            if matrix[i][j] == -1:\n",
    "                matrix[i][j] = 0\n",
    "                \n",
    "    return matrix"
   ]
  },
  {
   "cell_type": "code",
   "execution_count": 25,
   "id": "cdfa13ea",
   "metadata": {},
   "outputs": [
    {
     "data": {
      "text/plain": [
       "array([[ 2, -1, -1],\n",
       "       [-1,  0,  0]])"
      ]
     },
     "execution_count": 25,
     "metadata": {},
     "output_type": "execute_result"
    }
   ],
   "source": [
    "matrix"
   ]
  },
  {
   "cell_type": "code",
   "execution_count": 23,
   "id": "9837ae05",
   "metadata": {},
   "outputs": [
    {
     "data": {
      "text/plain": [
       "array([[ 2, -1, -1],\n",
       "       [-1,  0,  0]])"
      ]
     },
     "execution_count": 23,
     "metadata": {},
     "output_type": "execute_result"
    }
   ],
   "source": [
    "matrixx(matrix, i, j)"
   ]
  },
  {
   "cell_type": "code",
   "execution_count": 53,
   "id": "a49b13b9",
   "metadata": {},
   "outputs": [],
   "source": [
    "matrix = np.array([[2, 4, 3], [1, 0, 0]])"
   ]
  },
  {
   "cell_type": "code",
   "execution_count": 54,
   "id": "866c2136",
   "metadata": {},
   "outputs": [],
   "source": [
    "n = len(matrix)\n",
    "m = len(matrix[0])"
   ]
  },
  {
   "cell_type": "code",
   "execution_count": 55,
   "id": "ad9b9274",
   "metadata": {},
   "outputs": [
    {
     "data": {
      "text/plain": [
       "array([[2, 4, 3],\n",
       "       [1, 0, 0]])"
      ]
     },
     "execution_count": 55,
     "metadata": {},
     "output_type": "execute_result"
    }
   ],
   "source": [
    "matrix"
   ]
  },
  {
   "cell_type": "code",
   "execution_count": 56,
   "id": "91cab462",
   "metadata": {},
   "outputs": [
    {
     "data": {
      "text/plain": [
       "2"
      ]
     },
     "execution_count": 56,
     "metadata": {},
     "output_type": "execute_result"
    }
   ],
   "source": [
    "n"
   ]
  },
  {
   "cell_type": "code",
   "execution_count": 57,
   "id": "b8112349",
   "metadata": {},
   "outputs": [
    {
     "data": {
      "text/plain": [
       "3"
      ]
     },
     "execution_count": 57,
     "metadata": {},
     "output_type": "execute_result"
    }
   ],
   "source": [
    "m"
   ]
  },
  {
   "cell_type": "code",
   "execution_count": 60,
   "id": "76f3079f",
   "metadata": {},
   "outputs": [],
   "source": [
    "def markRow(matrix, i, j):\n",
    "    for j in range(m):\n",
    "        if matrix[i][j] != 0:\n",
    "            matrix[i][j] = -1\n",
    "        \n",
    "def markCol(matrix, i, j):\n",
    "    for i in range(n):\n",
    "        if matrix[i][j] != 0:\n",
    "            matrix[i][j] = -1\n",
    "\n",
    "\n",
    "\n",
    "def zeromatrix(matrix, n, m):\n",
    "    for i in range(n):\n",
    "        for j in range(m):\n",
    "            if matrix[i][j] == 0:\n",
    "                markRow(matrix, i, j)\n",
    "                markCol(matrix, i ,j)\n",
    "   \n",
    "    for i in range(n):\n",
    "        for j in range(m):\n",
    "            if matrix[i][j] == -1:\n",
    "                matrix[i][j] = 0\n",
    "    return matrix"
   ]
  },
  {
   "cell_type": "code",
   "execution_count": 61,
   "id": "2b5370f9",
   "metadata": {},
   "outputs": [
    {
     "data": {
      "text/plain": [
       "array([[2, 0, 0],\n",
       "       [0, 0, 0]])"
      ]
     },
     "execution_count": 61,
     "metadata": {},
     "output_type": "execute_result"
    }
   ],
   "source": [
    "zeromatrix(matrix, n, m)"
   ]
  },
  {
   "cell_type": "code",
   "execution_count": 63,
   "id": "a9aa71f9",
   "metadata": {},
   "outputs": [
    {
     "data": {
      "text/plain": [
       "array([2, 0])"
      ]
     },
     "execution_count": 63,
     "metadata": {},
     "output_type": "execute_result"
    }
   ],
   "source": [
    "matrix[:,0]"
   ]
  },
  {
   "cell_type": "code",
   "execution_count": 2,
   "id": "60201394",
   "metadata": {},
   "outputs": [],
   "source": [
    "import numpy as np"
   ]
  },
  {
   "cell_type": "code",
   "execution_count": 3,
   "id": "ea141667",
   "metadata": {},
   "outputs": [],
   "source": [
    "matrix = np.array([[2, 4, 3], [1, 0, 0]])"
   ]
  },
  {
   "cell_type": "code",
   "execution_count": 4,
   "id": "29d89925",
   "metadata": {},
   "outputs": [
    {
     "data": {
      "text/plain": [
       "array([[2, 4, 3],\n",
       "       [1, 0, 0]])"
      ]
     },
     "execution_count": 4,
     "metadata": {},
     "output_type": "execute_result"
    }
   ],
   "source": [
    "matrix"
   ]
  },
  {
   "cell_type": "code",
   "execution_count": 5,
   "id": "b9740058",
   "metadata": {},
   "outputs": [],
   "source": [
    "n = len(matrix)\n",
    "m = len(matrix[0])"
   ]
  },
  {
   "cell_type": "code",
   "execution_count": 6,
   "id": "5b5c488b",
   "metadata": {},
   "outputs": [],
   "source": [
    "row = [0] * n\n",
    "col = [0] * m"
   ]
  },
  {
   "cell_type": "code",
   "execution_count": 7,
   "id": "14f67155",
   "metadata": {},
   "outputs": [
    {
     "data": {
      "text/plain": [
       "array([[2, 4, 3],\n",
       "       [1, 0, 0]])"
      ]
     },
     "execution_count": 7,
     "metadata": {},
     "output_type": "execute_result"
    }
   ],
   "source": [
    "matrix"
   ]
  },
  {
   "cell_type": "code",
   "execution_count": 12,
   "id": "ac4c8dc5",
   "metadata": {},
   "outputs": [],
   "source": [
    "for i in range(n):\n",
    "    for j in range(m):\n",
    "        if matrix[i][j] == 0:\n",
    "            row[i] = 1\n",
    "            col[j] = 1\n",
    "            \n",
    "for i in range(n):\n",
    "    for j in range(m):\n",
    "        if row[i] == 1 or col[j] == 1:\n",
    "            matrix[i][j] = 0"
   ]
  },
  {
   "cell_type": "code",
   "execution_count": 9,
   "id": "0e6965cb",
   "metadata": {},
   "outputs": [
    {
     "data": {
      "text/plain": [
       "[0, 1, 1]"
      ]
     },
     "execution_count": 9,
     "metadata": {},
     "output_type": "execute_result"
    }
   ],
   "source": [
    "col"
   ]
  },
  {
   "cell_type": "code",
   "execution_count": 10,
   "id": "c70210ad",
   "metadata": {},
   "outputs": [
    {
     "data": {
      "text/plain": [
       "[0, 1]"
      ]
     },
     "execution_count": 10,
     "metadata": {},
     "output_type": "execute_result"
    }
   ],
   "source": [
    "row"
   ]
  },
  {
   "cell_type": "code",
   "execution_count": 13,
   "id": "8f6f5549",
   "metadata": {},
   "outputs": [],
   "source": [
    "# Longest Successive Elements\n",
    "a = [5, 8, 3, 2, 1, 4]\n",
    "n = len(a)"
   ]
  },
  {
   "cell_type": "code",
   "execution_count": 14,
   "id": "bfc7f749",
   "metadata": {},
   "outputs": [],
   "source": [
    "b = list(set(a))"
   ]
  },
  {
   "cell_type": "code",
   "execution_count": 15,
   "id": "cefcc2d7",
   "metadata": {},
   "outputs": [
    {
     "data": {
      "text/plain": [
       "[1, 2, 3, 4, 5, 8]"
      ]
     },
     "execution_count": 15,
     "metadata": {},
     "output_type": "execute_result"
    }
   ],
   "source": [
    "b"
   ]
  },
  {
   "cell_type": "code",
   "execution_count": 18,
   "id": "987853d2",
   "metadata": {},
   "outputs": [],
   "source": [
    "maxc = float('-inf')\n",
    "for ele in b:\n",
    "    if ele - 1 not in b:\n",
    "        x = ele\n",
    "        count = 1\n",
    "        while x + 1 in b:\n",
    "            x = x + 1\n",
    "            count += 1\n",
    "        maxc = max(maxc, count)"
   ]
  },
  {
   "cell_type": "code",
   "execution_count": 21,
   "id": "e63ae43c",
   "metadata": {},
   "outputs": [],
   "source": [
    "b = set()\n",
    "for i in range(n):\n",
    "    b.add(a[i])"
   ]
  },
  {
   "cell_type": "code",
   "execution_count": 22,
   "id": "fc2aa6f6",
   "metadata": {},
   "outputs": [
    {
     "data": {
      "text/plain": [
       "{1, 2, 3, 4, 5, 8}"
      ]
     },
     "execution_count": 22,
     "metadata": {},
     "output_type": "execute_result"
    }
   ],
   "source": [
    "b"
   ]
  },
  {
   "cell_type": "code",
   "execution_count": 1,
   "id": "bd27ec37",
   "metadata": {},
   "outputs": [],
   "source": [
    "import numpy as np"
   ]
  },
  {
   "cell_type": "code",
   "execution_count": 2,
   "id": "8fa82e67",
   "metadata": {},
   "outputs": [],
   "source": [
    "matrix = np.array([[2, 4, 3], [1, 0, 0]])"
   ]
  },
  {
   "cell_type": "code",
   "execution_count": 3,
   "id": "739a1b19",
   "metadata": {},
   "outputs": [
    {
     "data": {
      "text/plain": [
       "array([[2, 4, 3],\n",
       "       [1, 0, 0]])"
      ]
     },
     "execution_count": 3,
     "metadata": {},
     "output_type": "execute_result"
    }
   ],
   "source": [
    "matrix"
   ]
  },
  {
   "cell_type": "code",
   "execution_count": 6,
   "id": "05390e97",
   "metadata": {},
   "outputs": [],
   "source": [
    "n = len(matrix)\n",
    "m = len(matrix[0])"
   ]
  },
  {
   "cell_type": "code",
   "execution_count": 5,
   "id": "7ce2bfa8",
   "metadata": {},
   "outputs": [
    {
     "data": {
      "text/plain": [
       "2"
      ]
     },
     "execution_count": 5,
     "metadata": {},
     "output_type": "execute_result"
    }
   ],
   "source": [
    "n"
   ]
  },
  {
   "cell_type": "code",
   "execution_count": 7,
   "id": "d59b4458",
   "metadata": {},
   "outputs": [],
   "source": [
    "row = [0] * n\n",
    "col = [0] * m"
   ]
  },
  {
   "cell_type": "code",
   "execution_count": 8,
   "id": "54f835f1",
   "metadata": {},
   "outputs": [],
   "source": [
    "for i in range(n):\n",
    "    for j in range(m):\n",
    "        if matrix[i][j] == 0:\n",
    "            row[i] = 1\n",
    "            col[j] = 1"
   ]
  },
  {
   "cell_type": "code",
   "execution_count": 10,
   "id": "2f5a68d5",
   "metadata": {},
   "outputs": [
    {
     "data": {
      "text/plain": [
       "[0, 1]"
      ]
     },
     "execution_count": 10,
     "metadata": {},
     "output_type": "execute_result"
    }
   ],
   "source": [
    "row"
   ]
  },
  {
   "cell_type": "code",
   "execution_count": 11,
   "id": "4183380b",
   "metadata": {},
   "outputs": [
    {
     "data": {
      "text/plain": [
       "[0, 1, 1]"
      ]
     },
     "execution_count": 11,
     "metadata": {},
     "output_type": "execute_result"
    }
   ],
   "source": [
    "col"
   ]
  },
  {
   "cell_type": "code",
   "execution_count": 14,
   "id": "0dcc812a",
   "metadata": {},
   "outputs": [],
   "source": [
    "for i in range(n):\n",
    "    for j in range(m):\n",
    "        if row[i] == 1 or col[j] == 1:\n",
    "            matrix[i][j] = 0"
   ]
  },
  {
   "cell_type": "code",
   "execution_count": 15,
   "id": "a50f89cc",
   "metadata": {},
   "outputs": [
    {
     "data": {
      "text/plain": [
       "array([[2, 0, 0],\n",
       "       [0, 0, 0]])"
      ]
     },
     "execution_count": 15,
     "metadata": {},
     "output_type": "execute_result"
    }
   ],
   "source": [
    "matrix"
   ]
  },
  {
   "cell_type": "code",
   "execution_count": 16,
   "id": "eea4fc82",
   "metadata": {},
   "outputs": [],
   "source": [
    "a = [5, 8, 3, 2, 1, 4]\n",
    "n = len(a)"
   ]
  },
  {
   "cell_type": "code",
   "execution_count": 17,
   "id": "1d4842c6",
   "metadata": {},
   "outputs": [],
   "source": [
    "b = list(set(a))"
   ]
  },
  {
   "cell_type": "code",
   "execution_count": 18,
   "id": "cbc3850c",
   "metadata": {},
   "outputs": [
    {
     "data": {
      "text/plain": [
       "[1, 2, 3, 4, 5, 8]"
      ]
     },
     "execution_count": 18,
     "metadata": {},
     "output_type": "execute_result"
    }
   ],
   "source": [
    "b"
   ]
  },
  {
   "cell_type": "code",
   "execution_count": 24,
   "id": "994748d4",
   "metadata": {},
   "outputs": [],
   "source": [
    "longest = 1\n",
    "for ele in b:\n",
    "    if ele - 1 not in b:\n",
    "        x = ele\n",
    "        cnt = 1\n",
    "        while x + 1 in b:\n",
    "            x = x + 1 \n",
    "            cnt += 1\n",
    "        longest = max(longest, cnt)"
   ]
  },
  {
   "cell_type": "code",
   "execution_count": 25,
   "id": "5f74dc71",
   "metadata": {},
   "outputs": [
    {
     "data": {
      "text/plain": [
       "5"
      ]
     },
     "execution_count": 25,
     "metadata": {},
     "output_type": "execute_result"
    }
   ],
   "source": [
    "longest"
   ]
  },
  {
   "cell_type": "code",
   "execution_count": 28,
   "id": "bfad23f2",
   "metadata": {},
   "outputs": [],
   "source": [
    "a = [1, 2, 3, 2]\n",
    "n = len(a)"
   ]
  },
  {
   "cell_type": "code",
   "execution_count": 38,
   "id": "45babcf3",
   "metadata": {},
   "outputs": [],
   "source": [
    "b = []\n",
    "maxi = float('-inf')\n",
    "for i in range(n-1, -1, -1):\n",
    "    if a[i] > maxi:\n",
    "        b.append(a[i])\n",
    "    maxi = max(maxi, a[i])\n",
    "b.sort()"
   ]
  },
  {
   "cell_type": "code",
   "execution_count": 39,
   "id": "26000301",
   "metadata": {},
   "outputs": [
    {
     "data": {
      "text/plain": [
       "[2, 3]"
      ]
     },
     "execution_count": 39,
     "metadata": {},
     "output_type": "execute_result"
    }
   ],
   "source": [
    "b"
   ]
  },
  {
   "cell_type": "code",
   "execution_count": 76,
   "id": "0ab061e4",
   "metadata": {},
   "outputs": [],
   "source": [
    "# Find The breaking point\n",
    "a = [2, 1, 5, 4, 3, 0, 0]\n",
    "n = len(a)"
   ]
  },
  {
   "cell_type": "code",
   "execution_count": 77,
   "id": "e8694602",
   "metadata": {},
   "outputs": [],
   "source": [
    "for i in range(n-2, -1, -1):\n",
    "    if a[i] < a[i + 1]:\n",
    "        ind = i\n",
    "        break\n",
    "for i in range(n-1, ind, -1):\n",
    "    if ind < a[i]:\n",
    "        a[ind], a[i] = a[i], a[ind]\n",
    "        break\n",
    "a[ind + 1: ] = reversed(a[ind + 1: ])"
   ]
  },
  {
   "cell_type": "code",
   "execution_count": 78,
   "id": "5fe738c0",
   "metadata": {},
   "outputs": [
    {
     "data": {
      "text/plain": [
       "[2, 3, 0, 0, 1, 4, 5]"
      ]
     },
     "execution_count": 78,
     "metadata": {},
     "output_type": "execute_result"
    }
   ],
   "source": [
    "a"
   ]
  },
  {
   "cell_type": "code",
   "execution_count": 79,
   "id": "390530e9",
   "metadata": {},
   "outputs": [
    {
     "data": {
      "text/plain": [
       "1"
      ]
     },
     "execution_count": 79,
     "metadata": {},
     "output_type": "execute_result"
    }
   ],
   "source": [
    "brp"
   ]
  },
  {
   "cell_type": "code",
   "execution_count": 80,
   "id": "c968c81a",
   "metadata": {},
   "outputs": [
    {
     "data": {
      "text/plain": [
       "1"
      ]
     },
     "execution_count": 80,
     "metadata": {},
     "output_type": "execute_result"
    }
   ],
   "source": [
    "x"
   ]
  },
  {
   "cell_type": "code",
   "execution_count": 81,
   "id": "f59bc943",
   "metadata": {},
   "outputs": [
    {
     "data": {
      "text/plain": [
       "[2, 3, 0, 0, 1, 4, 5]"
      ]
     },
     "execution_count": 81,
     "metadata": {},
     "output_type": "execute_result"
    }
   ],
   "source": [
    "a"
   ]
  },
  {
   "cell_type": "code",
   "execution_count": 82,
   "id": "7c1f6c8d",
   "metadata": {},
   "outputs": [],
   "source": [
    "a[x + 1:] = reversed(a[x + 1:])"
   ]
  },
  {
   "cell_type": "code",
   "execution_count": 83,
   "id": "5abe120a",
   "metadata": {},
   "outputs": [
    {
     "data": {
      "text/plain": [
       "[2, 3, 5, 4, 1, 0, 0]"
      ]
     },
     "execution_count": 83,
     "metadata": {},
     "output_type": "execute_result"
    }
   ],
   "source": [
    "a"
   ]
  },
  {
   "cell_type": "code",
   "execution_count": 84,
   "id": "98db1a4b",
   "metadata": {},
   "outputs": [],
   "source": [
    "a = a[::-1]"
   ]
  },
  {
   "cell_type": "code",
   "execution_count": 85,
   "id": "46cd16b5",
   "metadata": {},
   "outputs": [
    {
     "data": {
      "text/plain": [
       "[0, 0, 1, 4, 5, 3, 2]"
      ]
     },
     "execution_count": 85,
     "metadata": {},
     "output_type": "execute_result"
    }
   ],
   "source": [
    "a"
   ]
  },
  {
   "cell_type": "code",
   "execution_count": 1,
   "id": "bcada6f0",
   "metadata": {},
   "outputs": [],
   "source": [
    "import numpy as np"
   ]
  },
  {
   "cell_type": "code",
   "execution_count": 14,
   "id": "1e31d195",
   "metadata": {},
   "outputs": [],
   "source": [
    "matrix = np.array([[2, 4, 3], [1, 0, 0]])"
   ]
  },
  {
   "cell_type": "code",
   "execution_count": 15,
   "id": "cbdcfffb",
   "metadata": {},
   "outputs": [],
   "source": [
    "n = len(matrix)\n",
    "m = len(matrix[0])"
   ]
  },
  {
   "cell_type": "code",
   "execution_count": 16,
   "id": "1f5bd2dd",
   "metadata": {},
   "outputs": [],
   "source": [
    "row = [0] * n\n",
    "col = [0] * m"
   ]
  },
  {
   "cell_type": "code",
   "execution_count": 17,
   "id": "00a7929d",
   "metadata": {},
   "outputs": [],
   "source": [
    "for i in range(n):\n",
    "    for j in range(m):\n",
    "        if matrix[i][j] == 0:\n",
    "            row[i] = 1\n",
    "            col[j] = 1\n",
    "\n",
    "for i in range(n):\n",
    "    for j in range(m):\n",
    "        if row[i] or col[j] == 1:\n",
    "            matrix[i][j] = 0 "
   ]
  },
  {
   "cell_type": "code",
   "execution_count": 18,
   "id": "5b74fd22",
   "metadata": {},
   "outputs": [
    {
     "data": {
      "text/plain": [
       "[0, 1, 1]"
      ]
     },
     "execution_count": 18,
     "metadata": {},
     "output_type": "execute_result"
    }
   ],
   "source": [
    "col"
   ]
  },
  {
   "cell_type": "code",
   "execution_count": 19,
   "id": "8f6e0957",
   "metadata": {},
   "outputs": [
    {
     "data": {
      "text/plain": [
       "[0, 1]"
      ]
     },
     "execution_count": 19,
     "metadata": {},
     "output_type": "execute_result"
    }
   ],
   "source": [
    "row"
   ]
  },
  {
   "cell_type": "code",
   "execution_count": 20,
   "id": "26401d73",
   "metadata": {},
   "outputs": [
    {
     "data": {
      "text/plain": [
       "array([[2, 0, 0],\n",
       "       [0, 0, 0]])"
      ]
     },
     "execution_count": 20,
     "metadata": {},
     "output_type": "execute_result"
    }
   ],
   "source": [
    "matrix"
   ]
  },
  {
   "cell_type": "code",
   "execution_count": null,
   "id": "242ed7ec",
   "metadata": {},
   "outputs": [],
   "source": [
    "ans = []\n",
    " \n",
    "n = len(mat) # no. of rows\n",
    "m = len(mat[0]) # no. of columns\n",
    "\n",
    "# Initialize the pointers reqd for traversal.\n",
    "top = 0\n",
    "left = 0\n",
    "bottom = n - 1\n",
    "right = m - 1\n",
    "\n",
    "    # Loop until all elements are not traversed.\n",
    "while (top <= bottom and left <= right):\n",
    "    # For moving left to right\n",
    "    for i in range(left, right + 1):\n",
    "        ans.append(mat[top][i])\n",
    "\n",
    "    top += 1\n",
    "\n",
    "    # For moving top to bottom.\n",
    "    for i in range(top, bottom + 1):\n",
    "        ans.append(mat[i][right])\n",
    "\n",
    "    right -= 1\n",
    "\n",
    "    # For moving right to left.\n",
    "    if (top <= bottom):\n",
    "        for i in range(right, left - 1, -1):\n",
    "            ans.append(mat[bottom][i])\n",
    "\n",
    "        bottom -= 1\n",
    "\n",
    "    # For moving bottom to top.\n",
    "    if (left <= right):\n",
    "        for i in range(bottom, top - 1, -1):\n",
    "            ans.append(mat[i][left])\n",
    "\n",
    "        left += 1\n",
    "\n",
    "   "
   ]
  },
  {
   "cell_type": "code",
   "execution_count": 44,
   "id": "2fb34e5f",
   "metadata": {},
   "outputs": [],
   "source": [
    "from collections import defaultdict\n",
    "arr = [1, 2, 3, -3, 1, 1, 1, 4, 2, -3]\n",
    "n = len(arr)\n",
    "k = 3\n",
    "presum = 0\n",
    "my_dict = defaultdict(int)\n",
    "my_dict[0] = 1\n",
    "count = 0  "
   ]
  },
  {
   "cell_type": "code",
   "execution_count": 45,
   "id": "ac5bb821",
   "metadata": {},
   "outputs": [],
   "source": [
    "for i in range(n):\n",
    "    presum += arr[i]\n",
    "    my_dict[presum] += 1\n",
    "    remove = presum - k\n",
    "    count = count + my_dict[remove]"
   ]
  },
  {
   "cell_type": "code",
   "execution_count": 46,
   "id": "515820c7",
   "metadata": {},
   "outputs": [
    {
     "data": {
      "text/plain": [
       "defaultdict(int,\n",
       "            {0: 1,\n",
       "             1: 1,\n",
       "             -2: 0,\n",
       "             3: 2,\n",
       "             6: 2,\n",
       "             4: 1,\n",
       "             5: 1,\n",
       "             2: 0,\n",
       "             10: 1,\n",
       "             7: 0,\n",
       "             12: 1,\n",
       "             9: 1})"
      ]
     },
     "execution_count": 46,
     "metadata": {},
     "output_type": "execute_result"
    }
   ],
   "source": [
    "my_dict"
   ]
  },
  {
   "cell_type": "code",
   "execution_count": 47,
   "id": "1796b21d",
   "metadata": {},
   "outputs": [
    {
     "data": {
      "text/plain": [
       "8"
      ]
     },
     "execution_count": 47,
     "metadata": {},
     "output_type": "execute_result"
    }
   ],
   "source": [
    "count"
   ]
  },
  {
   "cell_type": "code",
   "execution_count": null,
   "id": "01b76810",
   "metadata": {},
   "outputs": [],
   "source": []
  }
 ],
 "metadata": {
  "kernelspec": {
   "display_name": "Python 3",
   "language": "python",
   "name": "python3"
  },
  "language_info": {
   "codemirror_mode": {
    "name": "ipython",
    "version": 3
   },
   "file_extension": ".py",
   "mimetype": "text/x-python",
   "name": "python",
   "nbconvert_exporter": "python",
   "pygments_lexer": "ipython3",
   "version": "3.8.8"
  }
 },
 "nbformat": 4,
 "nbformat_minor": 5
}
