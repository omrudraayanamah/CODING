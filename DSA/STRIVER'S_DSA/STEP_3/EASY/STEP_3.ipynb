{
 "cells": [
  {
   "cell_type": "markdown",
   "id": "9465df60",
   "metadata": {},
   "source": [
    "STEP 3.2 MEDIUM"
   ]
  },
  {
   "cell_type": "markdown",
   "id": "e69bc77d",
   "metadata": {},
   "source": [
    "1. Two Sum"
   ]
  },
  {
   "cell_type": "code",
   "execution_count": 131,
   "id": "88e23557",
   "metadata": {
    "scrolled": false
   },
   "outputs": [],
   "source": [
    "n = 9\n",
    "target = 205\n",
    "book = [575, 330, 339, 584, 239, 31, 173, 929, 967] "
   ]
  },
  {
   "cell_type": "code",
   "execution_count": 132,
   "id": "08ded089",
   "metadata": {},
   "outputs": [],
   "source": [
    "book.sort()"
   ]
  },
  {
   "cell_type": "code",
   "execution_count": 133,
   "id": "7f518dc3",
   "metadata": {},
   "outputs": [
    {
     "data": {
      "text/plain": [
       "[31, 173, 239, 330, 339, 575, 584, 929, 967]"
      ]
     },
     "execution_count": 133,
     "metadata": {},
     "output_type": "execute_result"
    }
   ],
   "source": [
    "book"
   ]
  },
  {
   "cell_type": "code",
   "execution_count": 134,
   "id": "dc1bd5a1",
   "metadata": {},
   "outputs": [],
   "source": [
    "book.sort()\n",
    "left = 0\n",
    "right = len(book) - 1\n",
    "while left < right:\n",
    "    if book[left] + book[right] > target:\n",
    "        right -= 1\n",
    "    elif book[left] + book[right] < target:\n",
    "        left += 1\n",
    "    else:\n",
    "        print('YES')\n",
    "        break"
   ]
  },
  {
   "cell_type": "code",
   "execution_count": 125,
   "id": "20d26685",
   "metadata": {},
   "outputs": [
    {
     "data": {
      "text/plain": [
       "8"
      ]
     },
     "execution_count": 125,
     "metadata": {},
     "output_type": "execute_result"
    }
   ],
   "source": [
    "j"
   ]
  },
  {
   "cell_type": "markdown",
   "id": "7af0349f",
   "metadata": {},
   "source": [
    "2. Sort An Array of 0s, 1s and 2s"
   ]
  },
  {
   "cell_type": "code",
   "execution_count": 146,
   "id": "40787ddb",
   "metadata": {},
   "outputs": [],
   "source": [
    "n = 12\n",
    "arr = [0, 0, 0, 0, 1, 2, 0, 0, 0, 1, 0, 0]"
   ]
  },
  {
   "cell_type": "code",
   "execution_count": 198,
   "id": "5b364000",
   "metadata": {},
   "outputs": [],
   "source": [
    "arr = [2, 2, 2, 2, 0, 0, 1, 0]\n",
    "n = 8"
   ]
  },
  {
   "cell_type": "code",
   "execution_count": 200,
   "id": "8d6d2534",
   "metadata": {},
   "outputs": [
    {
     "name": "stdout",
     "output_type": "stream",
     "text": [
      "X [0, 1, 0, 0, 2, 2, 2, 2]\n",
      "X [0, 1, 0, 0, 2, 2, 2, 2]\n",
      "X [0, 0, 1, 0, 2, 2, 2, 2]\n",
      "X [0, 0, 0, 1, 2, 2, 2, 2]\n",
      "X [0, 0, 0, 1, 2, 2, 2, 2]\n",
      "X [0, 0, 0, 1, 2, 2, 2, 2]\n",
      "X [0, 0, 0, 1, 2, 2, 2, 2]\n",
      "X [0, 0, 0, 1, 2, 2, 2, 2]\n"
     ]
    }
   ],
   "source": [
    "low = 0\n",
    "mid = 0\n",
    "high = n-1\n",
    "while mid <= high:\n",
    "    if arr[mid] == 0:\n",
    "        arr[mid], arr[low] = arr[low], arr[mid]\n",
    "        low += 1\n",
    "        mid += 1\n",
    "    \n",
    "    elif arr[mid] == 1:\n",
    "        mid += 1\n",
    "    \n",
    "    else:\n",
    "        arr[mid], arr[high] = arr[high], arr[mid]\n",
    "        high -= 1\n",
    "\n"
   ]
  },
  {
   "cell_type": "code",
   "execution_count": 201,
   "id": "bff0c4f8",
   "metadata": {},
   "outputs": [
    {
     "data": {
      "text/plain": [
       "[0, 0, 0, 1, 2, 2, 2, 2]"
      ]
     },
     "execution_count": 201,
     "metadata": {},
     "output_type": "execute_result"
    }
   ],
   "source": [
    "arr"
   ]
  },
  {
   "cell_type": "code",
   "execution_count": 202,
   "id": "8af3fc67",
   "metadata": {},
   "outputs": [
    {
     "data": {
      "text/plain": [
       "3"
      ]
     },
     "execution_count": 202,
     "metadata": {},
     "output_type": "execute_result"
    }
   ],
   "source": [
    "arr.count(0)"
   ]
  },
  {
   "cell_type": "markdown",
   "id": "b4a1f20d",
   "metadata": {},
   "source": [
    "3. Majority Element"
   ]
  },
  {
   "cell_type": "code",
   "execution_count": null,
   "id": "8044ebcc",
   "metadata": {},
   "outputs": [],
   "source": [
    "#MYSOLUTION(1st ATTEMPT)\n",
    "def majorityElement(v: [int]) -> int:\n",
    "    # Write your code here\n",
    "    maxcount = 0\n",
    "    num = 0\n",
    "    n = len(v)\n",
    "    vx = list(set(v))\n",
    "    \n",
    "    for i in range(len(vx)):\n",
    "        if maxcount < v.count(vx[i]):\n",
    "            maxcount = v.count(vx[i])\n",
    "            num = vx[i]\n",
    "    \n",
    "    return num\n"
   ]
  },
  {
   "cell_type": "code",
   "execution_count": 203,
   "id": "aaa6ad61",
   "metadata": {},
   "outputs": [
    {
     "name": "stdout",
     "output_type": "stream",
     "text": [
      "58 58 28 95 58 15 58 58 \n"
     ]
    }
   ],
   "source": [
    "arr = list(map(int, input().split()))"
   ]
  },
  {
   "cell_type": "code",
   "execution_count": 204,
   "id": "649bceb8",
   "metadata": {},
   "outputs": [
    {
     "data": {
      "text/plain": [
       "[58, 58, 28, 95, 58, 15, 58, 58]"
      ]
     },
     "execution_count": 204,
     "metadata": {},
     "output_type": "execute_result"
    }
   ],
   "source": [
    "arr"
   ]
  },
  {
   "cell_type": "code",
   "execution_count": 205,
   "id": "032c390b",
   "metadata": {},
   "outputs": [
    {
     "name": "stdout",
     "output_type": "stream",
     "text": [
      "58\n",
      "58\n",
      "58\n",
      "58\n",
      "58\n"
     ]
    }
   ],
   "source": [
    "for ele in arr:\n",
    "    i = 0\n",
    "    count = 0\n",
    "    while i < n:\n",
    "        if arr[i] == ele:\n",
    "            count += 1\n",
    "        else:\n",
    "            count -= 1\n",
    "        i += 1\n",
    "    if count > 0:\n",
    "        return ele"
   ]
  },
  {
   "cell_type": "code",
   "execution_count": 208,
   "id": "ea577488",
   "metadata": {},
   "outputs": [],
   "source": [
    "ele = 0\n",
    "count = 0\n",
    "for i in range(n):\n",
    "    if count == 0:\n",
    "        count = 1\n",
    "        ele = arr[i]\n",
    "        \n",
    "    elif ele == arr[i]:\n",
    "        count += 1\n",
    "        \n",
    "    else:\n",
    "        count -= 1\n",
    "        \n",
    "if count(ele) > len(arr)/2:\n",
    "    return ele\n",
    "        \n",
    "        "
   ]
  },
  {
   "cell_type": "code",
   "execution_count": 209,
   "id": "97a07b38",
   "metadata": {},
   "outputs": [
    {
     "data": {
      "text/plain": [
       "58"
      ]
     },
     "execution_count": 209,
     "metadata": {},
     "output_type": "execute_result"
    }
   ],
   "source": [
    "ele"
   ]
  },
  {
   "cell_type": "markdown",
   "id": "c1e64c1b",
   "metadata": {},
   "source": [
    "4. Kadane’s Algorithm : Maximum Subarray Sum in an Array"
   ]
  },
  {
   "cell_type": "code",
   "execution_count": 214,
   "id": "04167c73",
   "metadata": {},
   "outputs": [],
   "source": [
    "arr = [10, 20, -30, 40, -50, 60]\n",
    "n = len(arr)"
   ]
  },
  {
   "cell_type": "code",
   "execution_count": 217,
   "id": "5b82666e",
   "metadata": {},
   "outputs": [],
   "source": [
    "maxsub = 0\n",
    "for i in range(n):\n",
    "    for j in range(n):\n",
    "        sub = arr[i:j+1]\n",
    "        if maxsub < sum(sub):\n",
    "            maxsub = sum(sub)\n",
    "            subans = sub\n",
    "    \n",
    "    "
   ]
  },
  {
   "cell_type": "code",
   "execution_count": 218,
   "id": "73a5c417",
   "metadata": {},
   "outputs": [
    {
     "data": {
      "text/plain": [
       "[60]"
      ]
     },
     "execution_count": 218,
     "metadata": {},
     "output_type": "execute_result"
    }
   ],
   "source": [
    "subans"
   ]
  },
  {
   "cell_type": "code",
   "execution_count": 219,
   "id": "7136a3c2",
   "metadata": {},
   "outputs": [],
   "source": [
    "#KADANE\n",
    "sumarr = 0\n",
    "maxi = arr[0]\n",
    "for i in range(n):\n",
    "    sumarr = sumarr + arr[i]\n",
    "    if sumarr > maxi:\n",
    "        maxi = sumarr\n",
    "    if sumarr < 0:\n",
    "        sumarr = 0"
   ]
  },
  {
   "cell_type": "code",
   "execution_count": 220,
   "id": "6bb061f8",
   "metadata": {},
   "outputs": [
    {
     "data": {
      "text/plain": [
       "60"
      ]
     },
     "execution_count": 220,
     "metadata": {},
     "output_type": "execute_result"
    }
   ],
   "source": [
    "maxi"
   ]
  },
  {
   "cell_type": "code",
   "execution_count": 2,
   "id": "257cb71b",
   "metadata": {},
   "outputs": [
    {
     "name": "stdout",
     "output_type": "stream",
     "text": [
      "0 2 5 3 3 4 4 3 0 5 5 4 4 4 3 2 0 2 3 1 3 0 4 3 1 4 5 2 4 3 1 4 5 0 3 4 0\n"
     ]
    }
   ],
   "source": [
    "n = 37 \n",
    "k = 52\n",
    "arr = list(map(int, input().split()))"
   ]
  },
  {
   "cell_type": "code",
   "execution_count": 26,
   "id": "2078b63f",
   "metadata": {},
   "outputs": [
    {
     "name": "stdout",
     "output_type": "stream",
     "text": [
      "37\n"
     ]
    }
   ],
   "source": [
    "#KADANE\n",
    "\n",
    "maxcount = 0\n",
    "\n",
    "\n",
    "for i in range(n):\n",
    "    count = 0\n",
    "    sumarr = 0\n",
    "    for j in range(i,n):\n",
    "        if sumarr == k:\n",
    "            break\n",
    "        else:\n",
    "            sumarr = sumarr + arr[j]\n",
    "            count += 1\n",
    "        \n",
    "        if count > maxcount:\n",
    "            maxcount = count\n",
    "            \n",
    "print(maxcount)\n",
    "\n",
    "    "
   ]
  },
  {
   "cell_type": "markdown",
   "id": "8cfc668c",
   "metadata": {},
   "source": [
    "5. Longest Subarray With Sum K (DOUBT)"
   ]
  },
  {
   "cell_type": "code",
   "execution_count": 59,
   "id": "6030a765",
   "metadata": {},
   "outputs": [],
   "source": [
    "arr = [1,2,-33,4,-5,6]\n",
    "n = len(arr)"
   ]
  },
  {
   "cell_type": "code",
   "execution_count": 63,
   "id": "e94ac988",
   "metadata": {},
   "outputs": [
    {
     "name": "stdout",
     "output_type": "stream",
     "text": [
      "3\n",
      "-33\n",
      "4\n",
      "-5\n",
      "6\n"
     ]
    }
   ],
   "source": [
    "sumarr = 0\n",
    "maxi = arr[0]\n",
    "for i in range(n):\n",
    "    sumarr  += arr[i]\n",
    "    if sumarr < 0: \n",
    "        sumarr = 0\n",
    "    \n",
    "    if sumarr > maxi: \n",
    "        maxi = sumarr\n",
    "        print(maxi)\n",
    "    "
   ]
  },
  {
   "cell_type": "code",
   "execution_count": 62,
   "id": "456aab94",
   "metadata": {},
   "outputs": [
    {
     "data": {
      "text/plain": [
       "6"
      ]
     },
     "execution_count": 62,
     "metadata": {},
     "output_type": "execute_result"
    }
   ],
   "source": [
    "maxi"
   ]
  },
  {
   "cell_type": "code",
   "execution_count": 57,
   "id": "5152ba6c",
   "metadata": {},
   "outputs": [],
   "source": [
    "a = [1, 2, 1, 3]\n",
    "n = len(a)\n",
    "k = 2"
   ]
  },
  {
   "cell_type": "code",
   "execution_count": 58,
   "id": "2de8f009",
   "metadata": {},
   "outputs": [
    {
     "name": "stdout",
     "output_type": "stream",
     "text": [
      "1 1\n",
      "2 3\n",
      "3 4\n",
      "4 7\n"
     ]
    }
   ],
   "source": [
    "suma = 0\n",
    "count = 0\n",
    "maxi = 0\n",
    "for i in range(n):\n",
    "    suma += a[i]\n",
    "    count += 1\n",
    "    if suma == k:\n",
    "        \n",
    "    print(count,suma)"
   ]
  },
  {
   "cell_type": "code",
   "execution_count": 46,
   "id": "e54999fb",
   "metadata": {},
   "outputs": [
    {
     "data": {
      "text/plain": [
       "0"
      ]
     },
     "execution_count": 46,
     "metadata": {},
     "output_type": "execute_result"
    }
   ],
   "source": [
    "maxlen"
   ]
  },
  {
   "cell_type": "code",
   "execution_count": 43,
   "id": "129897e6",
   "metadata": {},
   "outputs": [
    {
     "data": {
      "text/plain": [
       "4"
      ]
     },
     "execution_count": 43,
     "metadata": {},
     "output_type": "execute_result"
    }
   ],
   "source": [
    "n"
   ]
  },
  {
   "cell_type": "code",
   "execution_count": 64,
   "id": "d62ca76b",
   "metadata": {},
   "outputs": [],
   "source": [
    "suma = 0\n",
    "count = 0\n",
    "maxlen = 0\n",
    "for i in range(len(a)):\n",
    "    suma = suma + a[i]\n",
    "    count = count + 1\n",
    "    if suma == k: \n",
    "        maxlen = count\n",
    "        suma = 0\n",
    "        count = 0\n",
    "    if suma > k:\n",
    "        suma = \n"
   ]
  },
  {
   "cell_type": "markdown",
   "id": "834f5e18",
   "metadata": {},
   "source": [
    "6. Best time to buy and sell stock"
   ]
  },
  {
   "cell_type": "code",
   "execution_count": 64,
   "id": "6dbf14e5",
   "metadata": {},
   "outputs": [],
   "source": [
    "prices = [7, 1, 5, 4, 3, 6]\n",
    "n = len(prices)"
   ]
  },
  {
   "cell_type": "code",
   "execution_count": 65,
   "id": "c0e516b1",
   "metadata": {},
   "outputs": [
    {
     "name": "stdout",
     "output_type": "stream",
     "text": [
      "7 /n\n",
      "1 /n\n",
      "5 /n\n",
      "4 /n\n",
      "3 /n\n",
      "5\n"
     ]
    }
   ],
   "source": [
    "maxpr = 0\n",
    "for i in range(n-1):\n",
    "    print(prices[i],'/n')\n",
    "    for j in range(i+1,n):\n",
    "        profit = prices[j] - prices[i]\n",
    "        maxpr = max(maxpr,profit)\n",
    "print(maxpr)"
   ]
  },
  {
   "cell_type": "code",
   "execution_count": 66,
   "id": "a6cad09a",
   "metadata": {},
   "outputs": [],
   "source": [
    "maxpr = 0\n",
    "mini = prices[0]\n",
    "\n",
    "for i in range(n):\n",
    "    pr = prices[i] - mini\n",
    "    maxpr = max(pr, maxpr)\n",
    "    mini = min(mini, prices[i])"
   ]
  },
  {
   "cell_type": "code",
   "execution_count": 67,
   "id": "85c765d1",
   "metadata": {},
   "outputs": [
    {
     "data": {
      "text/plain": [
       "5"
      ]
     },
     "execution_count": 67,
     "metadata": {},
     "output_type": "execute_result"
    }
   ],
   "source": [
    "maxpr"
   ]
  },
  {
   "cell_type": "markdown",
   "id": "e3327f10",
   "metadata": {},
   "source": [
    "7. Alternate Numbers"
   ]
  },
  {
   "cell_type": "code",
   "execution_count": 13,
   "id": "3ef841b4",
   "metadata": {},
   "outputs": [],
   "source": [
    "A = [1, 2, -3, -1, -2, 3]\n",
    "n = len(A)"
   ]
  },
  {
   "cell_type": "code",
   "execution_count": 14,
   "id": "6fe488c0",
   "metadata": {},
   "outputs": [],
   "source": [
    "# BRUTE FORCE\n",
    "pos = []\n",
    "neg = []\n",
    "for i in range(n):\n",
    "    if A[i] >= 0:\n",
    "        pos.append(A[i])\n",
    "    else:\n",
    "        neg.append(A[i])\n",
    "        \n",
    "for i in range(int(n/2)):\n",
    "    A[2 * i] = pos[i] \n",
    "    A[2 * i + 1] = neg[i]\n"
   ]
  },
  {
   "cell_type": "code",
   "execution_count": 15,
   "id": "9e62da28",
   "metadata": {},
   "outputs": [
    {
     "data": {
      "text/plain": [
       "[1, 2, 3]"
      ]
     },
     "execution_count": 15,
     "metadata": {},
     "output_type": "execute_result"
    }
   ],
   "source": [
    "pos"
   ]
  },
  {
   "cell_type": "code",
   "execution_count": 16,
   "id": "54c4aba8",
   "metadata": {},
   "outputs": [
    {
     "data": {
      "text/plain": [
       "[-3, -1, -2]"
      ]
     },
     "execution_count": 16,
     "metadata": {},
     "output_type": "execute_result"
    }
   ],
   "source": [
    "neg"
   ]
  },
  {
   "cell_type": "code",
   "execution_count": 19,
   "id": "1dd0c5f0",
   "metadata": {},
   "outputs": [
    {
     "data": {
      "text/plain": [
       "[1, -3, 2, -1, 3, -2]"
      ]
     },
     "execution_count": 19,
     "metadata": {},
     "output_type": "execute_result"
    }
   ],
   "source": [
    "A"
   ]
  },
  {
   "cell_type": "code",
   "execution_count": 28,
   "id": "796d6cc4",
   "metadata": {},
   "outputs": [],
   "source": [
    "posIndex = 0\n",
    "negIndex = 1\n",
    "for i in range(n):\n",
    "    if A[i] > 0:\n",
    "        arr[posIndex] = A[i]\n",
    "        posIndex += 2\n",
    "        \n",
    "    else:\n",
    "        arr[negIndex] = A[i]\n",
    "        negIndex += 2"
   ]
  },
  {
   "cell_type": "code",
   "execution_count": 29,
   "id": "c7fe499f",
   "metadata": {},
   "outputs": [
    {
     "data": {
      "text/plain": [
       "[1, -3, 2, -1, 3, -2]"
      ]
     },
     "execution_count": 29,
     "metadata": {},
     "output_type": "execute_result"
    }
   ],
   "source": [
    "arr"
   ]
  },
  {
   "cell_type": "markdown",
   "id": "6fad6054",
   "metadata": {},
   "source": [
    "8. NEXT PERMUTATION"
   ]
  },
  {
   "cell_type": "code",
   "execution_count": 180,
   "id": "d7ab569a",
   "metadata": {},
   "outputs": [],
   "source": [
    "arr = [5,4,3,2,1]\n",
    "n = len(arr)"
   ]
  },
  {
   "cell_type": "code",
   "execution_count": 181,
   "id": "2e74a527",
   "metadata": {
    "scrolled": true
   },
   "outputs": [
    {
     "name": "stdout",
     "output_type": "stream",
     "text": [
      "[1, 2, 3, 4, 5]\n"
     ]
    }
   ],
   "source": [
    "ind = -1\n",
    "# (starting value, end, step)\n",
    "for i in range(n - 2, -1, -1):\n",
    "    if arr[i] < arr[i+1]:\n",
    "        ind = i\n",
    "        break\n",
    "if ind == -1:\n",
    "    arr = arr[::-1]\n",
    "    print(arr)\n",
    "else:\n",
    "    for i in range(n-1, ind, -1):\n",
    "        if arr[i] > arr[ind]: \n",
    "            arr[i], arr[ind] = arr[ind], arr[i]\n",
    "            break\n",
    "\n",
    "    arr[ind+1: n] = reversed(arr[ind+1: n])\n",
    "    print(arr)"
   ]
  },
  {
   "cell_type": "code",
   "execution_count": 177,
   "id": "56d460f9",
   "metadata": {},
   "outputs": [
    {
     "data": {
      "text/plain": [
       "[5, 4, 3, 2, 1]"
      ]
     },
     "execution_count": 177,
     "metadata": {},
     "output_type": "execute_result"
    }
   ],
   "source": [
    "arr"
   ]
  },
  {
   "cell_type": "code",
   "execution_count": 168,
   "id": "8e1d7c50",
   "metadata": {},
   "outputs": [],
   "source": [
    "arr[ind+1:n] = reversed(arr[ind+1: n])"
   ]
  },
  {
   "cell_type": "code",
   "execution_count": 146,
   "id": "e5daa514",
   "metadata": {},
   "outputs": [
    {
     "data": {
      "text/plain": [
       "1"
      ]
     },
     "execution_count": 146,
     "metadata": {},
     "output_type": "execute_result"
    }
   ],
   "source": [
    "ind"
   ]
  },
  {
   "cell_type": "code",
   "execution_count": 147,
   "id": "8e07317c",
   "metadata": {},
   "outputs": [
    {
     "data": {
      "text/plain": [
       "0"
      ]
     },
     "execution_count": 147,
     "metadata": {},
     "output_type": "execute_result"
    }
   ],
   "source": [
    "arr[-1]"
   ]
  },
  {
   "cell_type": "code",
   "execution_count": 111,
   "id": "b9301dea",
   "metadata": {},
   "outputs": [
    {
     "data": {
      "text/plain": [
       "[2, 1, 5, 4, 3, 0, 0]"
      ]
     },
     "execution_count": 111,
     "metadata": {},
     "output_type": "execute_result"
    }
   ],
   "source": [
    "arr"
   ]
  },
  {
   "cell_type": "code",
   "execution_count": 141,
   "id": "dda86840",
   "metadata": {},
   "outputs": [],
   "source": [
    "arr = reversed(arr[ind + 1:n-1])"
   ]
  },
  {
   "cell_type": "code",
   "execution_count": 142,
   "id": "00e020fb",
   "metadata": {},
   "outputs": [
    {
     "data": {
      "text/plain": [
       "<list_reverseiterator at 0x7fd216f8b880>"
      ]
     },
     "execution_count": 142,
     "metadata": {},
     "output_type": "execute_result"
    }
   ],
   "source": [
    "arr"
   ]
  },
  {
   "cell_type": "code",
   "execution_count": 154,
   "id": "226db5bf",
   "metadata": {},
   "outputs": [
    {
     "data": {
      "text/plain": [
       "[0, 0, 1, 4, 5]"
      ]
     },
     "execution_count": 154,
     "metadata": {},
     "output_type": "execute_result"
    }
   ],
   "source": [
    "list(reversed(arr[ind+1:n]))"
   ]
  },
  {
   "cell_type": "code",
   "execution_count": 153,
   "id": "2a0f4382",
   "metadata": {},
   "outputs": [
    {
     "data": {
      "text/plain": [
       "[2, 3, 5, 4, 1, 0, 0]"
      ]
     },
     "execution_count": 153,
     "metadata": {},
     "output_type": "execute_result"
    }
   ],
   "source": [
    "arr"
   ]
  },
  {
   "cell_type": "markdown",
   "id": "b180904a",
   "metadata": {},
   "source": [
    "9. SUPERIOR ELEMENTS"
   ]
  },
  {
   "cell_type": "code",
   "execution_count": 182,
   "id": "4ba84815",
   "metadata": {},
   "outputs": [],
   "source": [
    "a = [1, 2, 2, 1]\n",
    "n = len(a)"
   ]
  },
  {
   "cell_type": "code",
   "execution_count": 205,
   "id": "338c03a5",
   "metadata": {},
   "outputs": [
    {
     "name": "stdout",
     "output_type": "stream",
     "text": [
      "1 2\n",
      "1 2\n",
      "1 1\n",
      "2 2\n",
      "2 1\n",
      "2 1\n"
     ]
    }
   ],
   "source": [
    "# BRUTE FORCE\n",
    "b = []\n",
    "for i in range(n):\n",
    "    flag = 0\n",
    "    for j in range(i+1,n):\n",
    "        print(a[i],a[j])\n",
    "        if a[i] <= a[j]:\n",
    "            flag = 1\n",
    "            break\n",
    "    if flag == 0:\n",
    "        b.append(a[i])\n",
    "return b"
   ]
  },
  {
   "cell_type": "code",
   "execution_count": 206,
   "id": "a034a17f",
   "metadata": {},
   "outputs": [
    {
     "data": {
      "text/plain": [
       "[2, 1]"
      ]
     },
     "execution_count": 206,
     "metadata": {},
     "output_type": "execute_result"
    }
   ],
   "source": [
    "b"
   ]
  },
  {
   "cell_type": "code",
   "execution_count": 219,
   "id": "8839ce31",
   "metadata": {},
   "outputs": [],
   "source": [
    "# OPTIMAL\n",
    "b = []\n",
    "for i in range(n-1):\n",
    "    if a[i] > max(a[i+1:]):\n",
    "        b.append(a[i])\n",
    "b.append(a[n-1])\n",
    "b.sort()"
   ]
  },
  {
   "cell_type": "code",
   "execution_count": 214,
   "id": "90482c58",
   "metadata": {},
   "outputs": [
    {
     "name": "stdout",
     "output_type": "stream",
     "text": [
      "1 [2, 2, 1]\n",
      "2 [2, 1]\n",
      "2 [1]\n"
     ]
    }
   ],
   "source": [
    "for i in range(n-1):\n",
    "    print(a[i],a[i+1:])"
   ]
  },
  {
   "cell_type": "code",
   "execution_count": 216,
   "id": "1dc3998a",
   "metadata": {},
   "outputs": [
    {
     "data": {
      "text/plain": [
       "1"
      ]
     },
     "execution_count": 216,
     "metadata": {},
     "output_type": "execute_result"
    }
   ],
   "source": [
    "a[n-1]"
   ]
  },
  {
   "cell_type": "code",
   "execution_count": 220,
   "id": "fe82d91f",
   "metadata": {},
   "outputs": [
    {
     "data": {
      "text/plain": [
       "[1, 2]"
      ]
     },
     "execution_count": 220,
     "metadata": {},
     "output_type": "execute_result"
    }
   ],
   "source": [
    "b"
   ]
  },
  {
   "cell_type": "code",
   "execution_count": 232,
   "id": "09871838",
   "metadata": {},
   "outputs": [],
   "source": [
    "b = []\n",
    "maxi = float('-inf')\n",
    "for i in range(n-1, -1, -1):\n",
    "    if a[i] > maxi:\n",
    "        b.append(a[i])\n",
    "    maxi = max(maxi,a[i])\n",
    "b.sort()\n"
   ]
  },
  {
   "cell_type": "code",
   "execution_count": null,
   "id": "0dcc9264",
   "metadata": {},
   "outputs": [],
   "source": []
  },
  {
   "cell_type": "code",
   "execution_count": 227,
   "id": "295e6c7c",
   "metadata": {},
   "outputs": [],
   "source": [
    "a = [1, 2, 4, 1]\n",
    "n = len(a)"
   ]
  },
  {
   "cell_type": "code",
   "execution_count": 224,
   "id": "254b82f7",
   "metadata": {},
   "outputs": [
    {
     "data": {
      "text/plain": [
       "[1, 2, 2, 1]"
      ]
     },
     "execution_count": 224,
     "metadata": {},
     "output_type": "execute_result"
    }
   ],
   "source": [
    "a"
   ]
  },
  {
   "cell_type": "code",
   "execution_count": 230,
   "id": "f8559ab3",
   "metadata": {},
   "outputs": [],
   "source": [
    "maxi = float('-inf')"
   ]
  },
  {
   "cell_type": "code",
   "execution_count": 231,
   "id": "10090540",
   "metadata": {},
   "outputs": [
    {
     "data": {
      "text/plain": [
       "-inf"
      ]
     },
     "execution_count": 231,
     "metadata": {},
     "output_type": "execute_result"
    }
   ],
   "source": [
    "maxi"
   ]
  },
  {
   "cell_type": "markdown",
   "id": "e1a00925",
   "metadata": {},
   "source": [
    "10. Longest successive elements"
   ]
  },
  {
   "cell_type": "code",
   "execution_count": 255,
   "id": "f7dfcae7",
   "metadata": {},
   "outputs": [],
   "source": [
    "a = [1, 2, 2, 1]"
   ]
  },
  {
   "cell_type": "code",
   "execution_count": 256,
   "id": "33b8ea33",
   "metadata": {},
   "outputs": [
    {
     "name": "stdout",
     "output_type": "stream",
     "text": [
      "1 2\n"
     ]
    }
   ],
   "source": [
    "a = list(set(a))\n",
    "n = len(a)\n",
    "count = 1\n",
    "maxc = 0\n",
    "for i in range(n-1):\n",
    "    print(a[i],a[i+1])\n",
    "    if a[i+1] - a[i] == 1:\n",
    "        count += 1\n",
    "    else:\n",
    "        count = 0\n",
    "    maxc = max(maxc, count)"
   ]
  },
  {
   "cell_type": "code",
   "execution_count": 254,
   "id": "c2c6ca35",
   "metadata": {},
   "outputs": [
    {
     "data": {
      "text/plain": [
       "5"
      ]
     },
     "execution_count": 254,
     "metadata": {},
     "output_type": "execute_result"
    }
   ],
   "source": [
    "maxc"
   ]
  },
  {
   "cell_type": "code",
   "execution_count": 263,
   "id": "391fb99a",
   "metadata": {},
   "outputs": [],
   "source": [
    "# OPTIMAL\n",
    "a = [5, 8, 3, 2, 1, 4, 9, 10]\n",
    "n = len(a)\n",
    "\n",
    "longest = 1\n",
    "st = set()\n",
    "for i in range(n):\n",
    "    st.add(a[i])\n",
    "    \n",
    "for ele in st:\n",
    "    if ele - 1 not in st:\n",
    "        x = ele\n",
    "        cnt = 1\n",
    "        while x + 1 in st:\n",
    "            x += 1\n",
    "            cnt += 1\n",
    "        longest = max(longest, cnt)\n",
    "    \n",
    "        \n",
    "        "
   ]
  },
  {
   "cell_type": "code",
   "execution_count": 260,
   "id": "98d87be1",
   "metadata": {},
   "outputs": [
    {
     "data": {
      "text/plain": [
       "{1, 2, 3, 4, 5, 8}"
      ]
     },
     "execution_count": 260,
     "metadata": {},
     "output_type": "execute_result"
    }
   ],
   "source": [
    "st"
   ]
  },
  {
   "cell_type": "code",
   "execution_count": 264,
   "id": "2e7df680",
   "metadata": {},
   "outputs": [
    {
     "data": {
      "text/plain": [
       "5"
      ]
     },
     "execution_count": 264,
     "metadata": {},
     "output_type": "execute_result"
    }
   ],
   "source": [
    "longest"
   ]
  },
  {
   "cell_type": "markdown",
   "id": "13837036",
   "metadata": {},
   "source": [
    "11. Zero Matrix"
   ]
  },
  {
   "cell_type": "code",
   "execution_count": 265,
   "id": "22cb07c2",
   "metadata": {},
   "outputs": [],
   "source": [
    "n = 2\n",
    "m = 3"
   ]
  },
  {
   "cell_type": "code",
   "execution_count": 1,
   "id": "d1a009a5",
   "metadata": {},
   "outputs": [],
   "source": [
    "import numpy as np\n",
    "matrix = np.array([\n",
    "    [2, 4, 3],\n",
    "    [1, 0, 0]\n",
    "])"
   ]
  },
  {
   "cell_type": "code",
   "execution_count": 2,
   "id": "c451d2d0",
   "metadata": {},
   "outputs": [],
   "source": [
    "n = len(matrix)\n",
    "m = len(matrix[0])"
   ]
  },
  {
   "cell_type": "code",
   "execution_count": 3,
   "id": "5e32be5b",
   "metadata": {},
   "outputs": [
    {
     "data": {
      "text/plain": [
       "array([[2, 4, 3],\n",
       "       [1, 0, 0]])"
      ]
     },
     "execution_count": 3,
     "metadata": {},
     "output_type": "execute_result"
    }
   ],
   "source": [
    "matrix"
   ]
  },
  {
   "cell_type": "code",
   "execution_count": 377,
   "id": "ef981329",
   "metadata": {},
   "outputs": [],
   "source": [
    "def markRow(matrix, n, m, i):\n",
    "    # mark row(i) as -1\n",
    "    for j in range(m):\n",
    "        if matrix[i][j] != 0:\n",
    "            matrix[i][j] = -1\n",
    "\n",
    "def markCol(matrix, n, m, j):\n",
    "    # mark col(j) as -1\n",
    "    for i in range(n):\n",
    "        if matrix[i][j] != 0:\n",
    "            matrix[i][j] = -1"
   ]
  },
  {
   "cell_type": "code",
   "execution_count": 378,
   "id": "87b951b6",
   "metadata": {},
   "outputs": [],
   "source": [
    "def zeroomatrix(matrix, n, m):\n",
    "    for i in range(n):                                                        \n",
    "        for j in range(m):\n",
    "            if matrix[i][j] == 0:\n",
    "                markRow(matrix, n, m, i)\n",
    "                markCol(matrix, n, m, j)\n",
    "                \n",
    "    for i in range(n):\n",
    "        for i in range(m):\n",
    "            if matrix[i][j] == -1:\n",
    "                matrix[i][j] = 0\n",
    "                \n",
    "                \n",
    "    return matrix"
   ]
  },
  {
   "cell_type": "code",
   "execution_count": 379,
   "id": "1e621028",
   "metadata": {},
   "outputs": [
    {
     "ename": "IndexError",
     "evalue": "index 2 is out of bounds for axis 0 with size 2",
     "output_type": "error",
     "traceback": [
      "\u001b[0;31m---------------------------------------------------------------------------\u001b[0m",
      "\u001b[0;31mIndexError\u001b[0m                                Traceback (most recent call last)",
      "\u001b[0;32m<ipython-input-379-242d3257f8e5>\u001b[0m in \u001b[0;36m<module>\u001b[0;34m\u001b[0m\n\u001b[0;32m----> 1\u001b[0;31m \u001b[0mzeroomatrix\u001b[0m\u001b[0;34m(\u001b[0m\u001b[0mmatrix\u001b[0m\u001b[0;34m,\u001b[0m \u001b[0mn\u001b[0m\u001b[0;34m,\u001b[0m \u001b[0mm\u001b[0m\u001b[0;34m)\u001b[0m\u001b[0;34m\u001b[0m\u001b[0;34m\u001b[0m\u001b[0m\n\u001b[0m",
      "\u001b[0;32m<ipython-input-378-f5b5ee98d7aa>\u001b[0m in \u001b[0;36mzeroomatrix\u001b[0;34m(matrix, n, m)\u001b[0m\n\u001b[1;32m      8\u001b[0m     \u001b[0;32mfor\u001b[0m \u001b[0mi\u001b[0m \u001b[0;32min\u001b[0m \u001b[0mrange\u001b[0m\u001b[0;34m(\u001b[0m\u001b[0mn\u001b[0m\u001b[0;34m)\u001b[0m\u001b[0;34m:\u001b[0m\u001b[0;34m\u001b[0m\u001b[0;34m\u001b[0m\u001b[0m\n\u001b[1;32m      9\u001b[0m         \u001b[0;32mfor\u001b[0m \u001b[0mi\u001b[0m \u001b[0;32min\u001b[0m \u001b[0mrange\u001b[0m\u001b[0;34m(\u001b[0m\u001b[0mm\u001b[0m\u001b[0;34m)\u001b[0m\u001b[0;34m:\u001b[0m\u001b[0;34m\u001b[0m\u001b[0;34m\u001b[0m\u001b[0m\n\u001b[0;32m---> 10\u001b[0;31m             \u001b[0;32mif\u001b[0m \u001b[0mmatrix\u001b[0m\u001b[0;34m[\u001b[0m\u001b[0mi\u001b[0m\u001b[0;34m]\u001b[0m\u001b[0;34m[\u001b[0m\u001b[0mj\u001b[0m\u001b[0;34m]\u001b[0m \u001b[0;34m==\u001b[0m \u001b[0;34m-\u001b[0m\u001b[0;36m1\u001b[0m\u001b[0;34m:\u001b[0m\u001b[0;34m\u001b[0m\u001b[0;34m\u001b[0m\u001b[0m\n\u001b[0m\u001b[1;32m     11\u001b[0m                 \u001b[0mmatrix\u001b[0m\u001b[0;34m[\u001b[0m\u001b[0mi\u001b[0m\u001b[0;34m]\u001b[0m\u001b[0;34m[\u001b[0m\u001b[0mj\u001b[0m\u001b[0;34m]\u001b[0m \u001b[0;34m=\u001b[0m \u001b[0;36m0\u001b[0m\u001b[0;34m\u001b[0m\u001b[0;34m\u001b[0m\u001b[0m\n\u001b[1;32m     12\u001b[0m \u001b[0;34m\u001b[0m\u001b[0m\n",
      "\u001b[0;31mIndexError\u001b[0m: index 2 is out of bounds for axis 0 with size 2"
     ]
    }
   ],
   "source": [
    "zeroomatrix(matrix, n, m)"
   ]
  },
  {
   "cell_type": "code",
   "execution_count": 372,
   "id": "ca9df196",
   "metadata": {},
   "outputs": [],
   "source": [
    "def markRow(matrix, n, m, i):\n",
    "    # set all non-zero elements as -1 in the row i:\n",
    "    for j in range(m):\n",
    "        if matrix[i][j] != 0:\n",
    "            matrix[i][j] = -1\n",
    "\n",
    "def markCol(matrix, n, m, j):\n",
    "    # set all non-zero elements as -1 in the col j:\n",
    "    for i in range(n):\n",
    "        if matrix[i][j] != 0:\n",
    "            matrix[i][j] = -1\n",
    "\n",
    "def zeroMatrix(matrix, n, m):\n",
    "    # Set -1 for rows and cols\n",
    "    # that contains 0. Don't mark any 0 as -1:\n",
    "    for i in range(n):\n",
    "        for j in range(m):\n",
    "            if matrix[i][j] == 0:\n",
    "                markRow(matrix, n, m, i)\n",
    "                markCol(matrix, n, m, j)\n",
    "    \n",
    "    # Finally, mark all -1 as 0:\n",
    "    for i in range(n):\n",
    "        for j in range(m):\n",
    "            if matrix[i][j] == -1:\n",
    "                matrix[i][j] = 0\n",
    "    \n",
    "    return matrix"
   ]
  },
  {
   "cell_type": "code",
   "execution_count": 373,
   "id": "eddbe599",
   "metadata": {},
   "outputs": [
    {
     "data": {
      "text/plain": [
       "array([[2, 0, 0],\n",
       "       [0, 0, 0]])"
      ]
     },
     "execution_count": 373,
     "metadata": {},
     "output_type": "execute_result"
    }
   ],
   "source": [
    "zeroMatrix(matrix, n, m)"
   ]
  },
  {
   "cell_type": "code",
   "execution_count": null,
   "id": "c6a88e16",
   "metadata": {},
   "outputs": [],
   "source": []
  }
 ],
 "metadata": {
  "kernelspec": {
   "display_name": "Python 3",
   "language": "python",
   "name": "python3"
  },
  "language_info": {
   "codemirror_mode": {
    "name": "ipython",
    "version": 3
   },
   "file_extension": ".py",
   "mimetype": "text/x-python",
   "name": "python",
   "nbconvert_exporter": "python",
   "pygments_lexer": "ipython3",
   "version": "3.8.8"
  }
 },
 "nbformat": 4,
 "nbformat_minor": 5
}
