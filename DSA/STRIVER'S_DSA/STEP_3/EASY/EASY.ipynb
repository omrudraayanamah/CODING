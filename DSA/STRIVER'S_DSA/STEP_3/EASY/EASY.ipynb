{
 "cells": [
  {
   "cell_type": "markdown",
   "id": "44f5eb4d",
   "metadata": {},
   "source": [
    " Step 3.1 : Easy"
   ]
  },
  {
   "cell_type": "markdown",
   "id": "61ad84d4",
   "metadata": {},
   "source": [
    "1. Largest Element in the Array"
   ]
  },
  {
   "cell_type": "code",
   "execution_count": 2,
   "id": "a176a964",
   "metadata": {},
   "outputs": [],
   "source": [
    "from sys import *\n",
    "from collections import *\n",
    "from math import *\n",
    "\n",
    "def largestElement(arr: [], n: int) -> int:\n",
    "    max = 0\n",
    "    for i in arr:\n",
    "        if max < i:\n",
    "            max = i\n",
    "    return max"
   ]
  },
  {
   "cell_type": "markdown",
   "id": "1a26e0f7",
   "metadata": {},
   "source": [
    "2. Second Largest Number"
   ]
  },
  {
   "cell_type": "code",
   "execution_count": 5,
   "id": "69da6bab",
   "metadata": {},
   "outputs": [],
   "source": [
    "def getSecondOrderElements(n: int,  a: [int]) -> [int]:\n",
    "    # Write your code here.\n",
    "    a.pop(a.index(min(a)))\n",
    "    s = min(a)\n",
    "    a.pop(a.index(max(a)))\n",
    "    r = max(a)\n",
    "    return [r,s]"
   ]
  },
  {
   "cell_type": "markdown",
   "id": "31430179",
   "metadata": {},
   "source": [
    "3. Check Sorted Array"
   ]
  },
  {
   "cell_type": "code",
   "execution_count": 6,
   "id": "2d5bb13b",
   "metadata": {},
   "outputs": [],
   "source": [
    "a = [0, 0, 0, 1]"
   ]
  },
  {
   "cell_type": "code",
   "execution_count": 7,
   "id": "ef423ccd",
   "metadata": {},
   "outputs": [],
   "source": [
    "def isSorted(n: int,  a: [int]) -> int:\n",
    "    # Write your code here.\n",
    "    s = sorted(a)\n",
    "    if s == a:\n",
    "        return 1\n",
    "    else:\n",
    "        return 0\n"
   ]
  },
  {
   "cell_type": "markdown",
   "id": "0e653994",
   "metadata": {},
   "source": [
    "4. Remove duplicates from Sorted array"
   ]
  },
  {
   "cell_type": "code",
   "execution_count": 9,
   "id": "ca159dd8",
   "metadata": {},
   "outputs": [
    {
     "name": "stdout",
     "output_type": "stream",
     "text": [
      "9\n",
      "1 1 2 3 3 4 5 5 5\n"
     ]
    }
   ],
   "source": [
    "n = int(input())\n",
    "a = list(map(int, input().split()))"
   ]
  },
  {
   "cell_type": "code",
   "execution_count": 10,
   "id": "836baba0",
   "metadata": {},
   "outputs": [
    {
     "data": {
      "text/plain": [
       "[1, 1, 2, 3, 3, 4, 5, 5, 5]"
      ]
     },
     "execution_count": 10,
     "metadata": {},
     "output_type": "execute_result"
    }
   ],
   "source": [
    "a"
   ]
  },
  {
   "cell_type": "code",
   "execution_count": 12,
   "id": "6e8d3740",
   "metadata": {},
   "outputs": [],
   "source": [
    "def removeDuplicates(arr,n):\n",
    "    # Write your code here.\n",
    "    a_uni = list(set(a))\n",
    "    return a_uni"
   ]
  },
  {
   "cell_type": "markdown",
   "id": "35dfc646",
   "metadata": {},
   "source": [
    "5. Left Rotate an array by one place"
   ]
  },
  {
   "cell_type": "code",
   "execution_count": 13,
   "id": "f7735e63",
   "metadata": {},
   "outputs": [
    {
     "name": "stdout",
     "output_type": "stream",
     "text": [
      "4\n",
      "5 7 3 2\n",
      "7\n",
      "3\n",
      "2\n"
     ]
    }
   ],
   "source": [
    "n = int(input())\n",
    "a = list(map(int, input().split()))\n",
    "z = a[0]\n",
    "for i in range(n-1):\n",
    "    print(a[i+1])\n",
    "    a[i], a[i+1] = a[i+1], a[i]\n",
    "    \n",
    "        "
   ]
  },
  {
   "cell_type": "code",
   "execution_count": 14,
   "id": "81af779b",
   "metadata": {},
   "outputs": [
    {
     "data": {
      "text/plain": [
       "[7, 3, 2, 5]"
      ]
     },
     "execution_count": 14,
     "metadata": {},
     "output_type": "execute_result"
    }
   ],
   "source": [
    "a"
   ]
  },
  {
   "cell_type": "code",
   "execution_count": 16,
   "id": "ae7142ee",
   "metadata": {},
   "outputs": [
    {
     "name": "stdout",
     "output_type": "stream",
     "text": [
      "8\n",
      "7 5 2 11 2 43 1 1\n",
      "2\n",
      "5\n",
      "7\n",
      "5\n",
      "7\n",
      "5\n",
      "7\n"
     ]
    }
   ],
   "source": [
    "n = int(input())\n",
    "a = list(map(int, input().split()))\n",
    "k = int(input())\n",
    "for i in range(n-k):\n",
    "    print(a[i+1])\n",
    "    a[i], a[i+k] = a[i+k], a[i]"
   ]
  },
  {
   "cell_type": "code",
   "execution_count": 17,
   "id": "15562348",
   "metadata": {},
   "outputs": [
    {
     "name": "stdout",
     "output_type": "stream",
     "text": [
      "6\n",
      "1 3 6 11 12 17\n"
     ]
    }
   ],
   "source": [
    "n = int(input())\n",
    "a = list(map(int, input().split()))"
   ]
  },
  {
   "cell_type": "code",
   "execution_count": 18,
   "id": "275c8585",
   "metadata": {},
   "outputs": [],
   "source": [
    "a[0], a[0 + 2] = a[2], a[0]"
   ]
  },
  {
   "cell_type": "markdown",
   "id": "3510778c",
   "metadata": {},
   "source": [
    "6. Left rotate an array by D places"
   ]
  },
  {
   "cell_type": "code",
   "execution_count": 19,
   "id": "618519da",
   "metadata": {},
   "outputs": [],
   "source": [
    "a = [1, 3, 6, 11, 12, 17]"
   ]
  },
  {
   "cell_type": "code",
   "execution_count": 20,
   "id": "ebdc67ca",
   "metadata": {},
   "outputs": [
    {
     "name": "stdout",
     "output_type": "stream",
     "text": [
      "X [6, 1, 3, 11, 12, 17]\n",
      "X [6, 11, 1, 3, 12, 17]\n",
      "X [6, 11, 12, 1, 3, 17]\n",
      "X [6, 11, 12, 17, 1, 3]\n"
     ]
    }
   ],
   "source": [
    "j = k\n",
    "for i in range(n-k):\n",
    "    a.insert(i,a[j])\n",
    "    a.pop(j+1)\n",
    "    print('X',a)  \n",
    "    j += 1"
   ]
  },
  {
   "cell_type": "code",
   "execution_count": 21,
   "id": "c91979a1",
   "metadata": {},
   "outputs": [],
   "source": [
    "a.insert(0,a[k])"
   ]
  },
  {
   "cell_type": "code",
   "execution_count": 22,
   "id": "43a80fa3",
   "metadata": {},
   "outputs": [
    {
     "data": {
      "text/plain": [
       "[12, 6, 11, 12, 17, 1, 3]"
      ]
     },
     "execution_count": 22,
     "metadata": {},
     "output_type": "execute_result"
    }
   ],
   "source": [
    "a"
   ]
  },
  {
   "cell_type": "code",
   "execution_count": 23,
   "id": "746aa829",
   "metadata": {},
   "outputs": [
    {
     "data": {
      "text/plain": [
       "12"
      ]
     },
     "execution_count": 23,
     "metadata": {},
     "output_type": "execute_result"
    }
   ],
   "source": [
    "a.pop(k+1)"
   ]
  },
  {
   "cell_type": "code",
   "execution_count": 24,
   "id": "70276605",
   "metadata": {},
   "outputs": [
    {
     "data": {
      "text/plain": [
       "[12, 6, 11, 17, 1, 3]"
      ]
     },
     "execution_count": 24,
     "metadata": {},
     "output_type": "execute_result"
    }
   ],
   "source": [
    "a"
   ]
  },
  {
   "cell_type": "code",
   "execution_count": 25,
   "id": "d3f36374",
   "metadata": {},
   "outputs": [],
   "source": [
    "def rotateArray(arr: list, k: int) -> list:\n",
    "    # Write your code here\n",
    "    n = len(arr)\n",
    "    j = k\n",
    "    for i in range(n-k):\n",
    "        arr.insert(i,arr[j])\n",
    "        arr.pop(j+1)  \n",
    "        j += 1\n",
    "    return arr"
   ]
  },
  {
   "cell_type": "markdown",
   "id": "ebfc753f",
   "metadata": {},
   "source": [
    "7. Move Zero's to End"
   ]
  },
  {
   "cell_type": "code",
   "execution_count": 26,
   "id": "6284f33e",
   "metadata": {},
   "outputs": [
    {
     "name": "stdout",
     "output_type": "stream",
     "text": [
      "5\n",
      "4 0 3 2 5\n"
     ]
    }
   ],
   "source": [
    "n = int(input())\n",
    "a = list(map(int, input().split()))"
   ]
  },
  {
   "cell_type": "code",
   "execution_count": 27,
   "id": "55ae153c",
   "metadata": {},
   "outputs": [
    {
     "name": "stdout",
     "output_type": "stream",
     "text": [
      "[4, 3, 2, 5, 0]\n"
     ]
    }
   ],
   "source": [
    "j = 0\n",
    "for i in range(n):\n",
    "    if a[i] != 0:\n",
    "        a.insert(j, a[i])\n",
    "        a.pop(i+1)\n",
    "        j = j + 1\n",
    "print(a)"
   ]
  },
  {
   "cell_type": "code",
   "execution_count": 28,
   "id": "3d6950c5",
   "metadata": {},
   "outputs": [
    {
     "data": {
      "text/plain": [
       "[4, 3, 2, 5, 0]"
      ]
     },
     "execution_count": 28,
     "metadata": {},
     "output_type": "execute_result"
    }
   ],
   "source": [
    "a"
   ]
  },
  {
   "cell_type": "code",
   "execution_count": 29,
   "id": "9f5104b1",
   "metadata": {},
   "outputs": [],
   "source": [
    "def moveZeros(n: int,  a: [int]) -> [int]:\n",
    "    # Write your code here.\n",
    "    j = 0\n",
    "    for i in range(n):\n",
    "        if a[i] != 0:\n",
    "            a.insert(j, a[i])\n",
    "            a.pop(i+1)\n",
    "            j = j + 1\n",
    "    return a"
   ]
  },
  {
   "cell_type": "markdown",
   "id": "d85bf68c",
   "metadata": {},
   "source": [
    "8. Linear Search"
   ]
  },
  {
   "cell_type": "code",
   "execution_count": 30,
   "id": "3b54422a",
   "metadata": {},
   "outputs": [
    {
     "name": "stdout",
     "output_type": "stream",
     "text": [
      "5 4\n",
      "6 7 8 4 1\n"
     ]
    }
   ],
   "source": [
    "n, num = map(int, input().split())\n",
    "a = list(map(int, input().split()))"
   ]
  },
  {
   "cell_type": "code",
   "execution_count": 31,
   "id": "763916a0",
   "metadata": {},
   "outputs": [
    {
     "name": "stdout",
     "output_type": "stream",
     "text": [
      "3\n"
     ]
    }
   ],
   "source": [
    "for i in range(n):\n",
    "    if a[i] == num:\n",
    "        print(i)"
   ]
  },
  {
   "cell_type": "code",
   "execution_count": 32,
   "id": "92f1b4d2",
   "metadata": {},
   "outputs": [
    {
     "data": {
      "text/plain": [
       "5"
      ]
     },
     "execution_count": 32,
     "metadata": {},
     "output_type": "execute_result"
    }
   ],
   "source": [
    "n"
   ]
  },
  {
   "cell_type": "code",
   "execution_count": 33,
   "id": "631c5daf",
   "metadata": {},
   "outputs": [
    {
     "data": {
      "text/plain": [
       "[6, 7, 8, 4, 1]"
      ]
     },
     "execution_count": 33,
     "metadata": {},
     "output_type": "execute_result"
    }
   ],
   "source": [
    "a"
   ]
  },
  {
   "cell_type": "code",
   "execution_count": 34,
   "id": "89d9ca80",
   "metadata": {},
   "outputs": [
    {
     "data": {
      "text/plain": [
       "3"
      ]
     },
     "execution_count": 34,
     "metadata": {},
     "output_type": "execute_result"
    }
   ],
   "source": [
    "a.index(num)"
   ]
  },
  {
   "cell_type": "code",
   "execution_count": 35,
   "id": "7d96bda7",
   "metadata": {},
   "outputs": [
    {
     "data": {
      "text/plain": [
       "[6, 7, 8, 4, 1]"
      ]
     },
     "execution_count": 35,
     "metadata": {},
     "output_type": "execute_result"
    }
   ],
   "source": [
    "a"
   ]
  },
  {
   "cell_type": "code",
   "execution_count": 36,
   "id": "554723e6",
   "metadata": {},
   "outputs": [
    {
     "data": {
      "text/plain": [
       "1"
      ]
     },
     "execution_count": 36,
     "metadata": {},
     "output_type": "execute_result"
    }
   ],
   "source": [
    "a.count(6)"
   ]
  },
  {
   "cell_type": "code",
   "execution_count": 37,
   "id": "a37904c2",
   "metadata": {},
   "outputs": [],
   "source": [
    "def linearSearch(n, num, arr) -> int:\n",
    "    # Write your code here.\n",
    "    flag = -1\n",
    "    for i in range(n):\n",
    "        if arr[i] == num:\n",
    "            flag = i\n",
    "            break\n",
    "    return flag "
   ]
  },
  {
   "cell_type": "markdown",
   "id": "7cb8ab02",
   "metadata": {},
   "source": [
    "9. Merge 2 Sorted Array"
   ]
  },
  {
   "cell_type": "code",
   "execution_count": 38,
   "id": "2293b59a",
   "metadata": {},
   "outputs": [],
   "source": [
    "n = 5\n",
    "m = 3\n",
    "a = [1, 2, 3, 4, 6]\n",
    "b = [2, 2, 4]\n"
   ]
  },
  {
   "cell_type": "code",
   "execution_count": 39,
   "id": "3773e87a",
   "metadata": {},
   "outputs": [
    {
     "name": "stdout",
     "output_type": "stream",
     "text": [
      "2 2\n",
      "4 4\n"
     ]
    }
   ],
   "source": [
    "b = list(set(b))\n",
    "for i in a:\n",
    "    for j in b:\n",
    "        if i == j:\n",
    "            print(i,j)\n",
    "            b.pop(b.index(i))\n",
    "for i in b:\n",
    "    a.append(i)\n",
    "a.sort()"
   ]
  },
  {
   "cell_type": "code",
   "execution_count": 40,
   "id": "f3528f55",
   "metadata": {},
   "outputs": [],
   "source": [
    "a = [1, 2, 3, 3]"
   ]
  },
  {
   "cell_type": "code",
   "execution_count": 41,
   "id": "68b19cab",
   "metadata": {},
   "outputs": [],
   "source": [
    "b = [2, 2, 4]"
   ]
  },
  {
   "cell_type": "code",
   "execution_count": 42,
   "id": "bce06195",
   "metadata": {},
   "outputs": [],
   "source": [
    "c = a + b\n",
    "c = list(set(c))"
   ]
  },
  {
   "cell_type": "code",
   "execution_count": 43,
   "id": "8ade163a",
   "metadata": {},
   "outputs": [
    {
     "data": {
      "text/plain": [
       "[1, 2, 3, 4]"
      ]
     },
     "execution_count": 43,
     "metadata": {},
     "output_type": "execute_result"
    }
   ],
   "source": [
    "c"
   ]
  },
  {
   "cell_type": "code",
   "execution_count": 44,
   "id": "f0927ab3",
   "metadata": {},
   "outputs": [],
   "source": [
    "def sortedArray(a: [int], b: [int]) -> [int]:\n",
    "    # Write your code here\n",
    "    a = list(set(a))\n",
    "    b = list(set(b))\n",
    "    for i in a:\n",
    "        for j in b:\n",
    "            if i == j:\n",
    "                b.pop(b.index(i))\n",
    "    for i in b:\n",
    "        a.append(i)\n",
    "    a.sort()\n",
    "    return a"
   ]
  },
  {
   "cell_type": "code",
   "execution_count": 45,
   "id": "e3dddbf5",
   "metadata": {},
   "outputs": [
    {
     "data": {
      "text/plain": [
       "[1, 2, 3, 4]"
      ]
     },
     "execution_count": 45,
     "metadata": {},
     "output_type": "execute_result"
    }
   ],
   "source": [
    "sortedArray(a, b)"
   ]
  },
  {
   "cell_type": "code",
   "execution_count": 46,
   "id": "cbd2dae2",
   "metadata": {},
   "outputs": [],
   "source": [
    "b = list(set(b))"
   ]
  },
  {
   "cell_type": "code",
   "execution_count": 47,
   "id": "61de3202",
   "metadata": {},
   "outputs": [
    {
     "data": {
      "text/plain": [
       "[2, 4]"
      ]
     },
     "execution_count": 47,
     "metadata": {},
     "output_type": "execute_result"
    }
   ],
   "source": [
    "b"
   ]
  },
  {
   "cell_type": "code",
   "execution_count": 48,
   "id": "ae3637d9",
   "metadata": {},
   "outputs": [],
   "source": [
    "for i in a:\n",
    "    for j in b:\n",
    "        if i == j:\n",
    "            b.pop(b.index(i))"
   ]
  },
  {
   "cell_type": "code",
   "execution_count": 49,
   "id": "ca1754ea",
   "metadata": {},
   "outputs": [
    {
     "data": {
      "text/plain": [
       "[4]"
      ]
     },
     "execution_count": 49,
     "metadata": {},
     "output_type": "execute_result"
    }
   ],
   "source": [
    "b"
   ]
  },
  {
   "cell_type": "code",
   "execution_count": 50,
   "id": "b1b1bf57",
   "metadata": {},
   "outputs": [],
   "source": [
    "#268. Missing Number\n",
    "nums = [9,6,4,2,3,5,7,0,1]"
   ]
  },
  {
   "cell_type": "code",
   "execution_count": 51,
   "id": "704f7e81",
   "metadata": {},
   "outputs": [],
   "source": [
    "nums.sort()"
   ]
  },
  {
   "cell_type": "code",
   "execution_count": 52,
   "id": "b7b00cab",
   "metadata": {},
   "outputs": [
    {
     "data": {
      "text/plain": [
       "[0, 1, 2, 3, 4, 5, 6, 7, 9]"
      ]
     },
     "execution_count": 52,
     "metadata": {},
     "output_type": "execute_result"
    }
   ],
   "source": [
    "nums"
   ]
  },
  {
   "cell_type": "code",
   "execution_count": 53,
   "id": "5e1d6215",
   "metadata": {},
   "outputs": [
    {
     "data": {
      "text/plain": [
       "37"
      ]
     },
     "execution_count": 53,
     "metadata": {},
     "output_type": "execute_result"
    }
   ],
   "source": [
    "sum(nums)"
   ]
  },
  {
   "cell_type": "code",
   "execution_count": 54,
   "id": "b9e652c8",
   "metadata": {},
   "outputs": [
    {
     "data": {
      "text/plain": [
       "8"
      ]
     },
     "execution_count": 54,
     "metadata": {},
     "output_type": "execute_result"
    }
   ],
   "source": [
    "int(9*(9+1)/2 - sum(nums))"
   ]
  },
  {
   "cell_type": "code",
   "execution_count": 55,
   "id": "f3a9fae6",
   "metadata": {},
   "outputs": [
    {
     "name": "stdout",
     "output_type": "stream",
     "text": [
      "9\n"
     ]
    }
   ],
   "source": [
    "n = len(nums)\n",
    "print(n)"
   ]
  },
  {
   "cell_type": "code",
   "execution_count": 56,
   "id": "b633e887",
   "metadata": {},
   "outputs": [],
   "source": [
    "def missingNumber(nums) -> int:\n",
    "    n = len(nums)\n",
    "    k = int(n*(n+1)/2)\n",
    "    return k - sum(nums)"
   ]
  },
  {
   "cell_type": "code",
   "execution_count": 57,
   "id": "a332e284",
   "metadata": {},
   "outputs": [
    {
     "data": {
      "text/plain": [
       "8"
      ]
     },
     "execution_count": 57,
     "metadata": {},
     "output_type": "execute_result"
    }
   ],
   "source": [
    "missingNumber(nums)"
   ]
  },
  {
   "cell_type": "code",
   "execution_count": 58,
   "id": "ae7a5da8",
   "metadata": {},
   "outputs": [],
   "source": [
    "k = n*(n-1)/2"
   ]
  },
  {
   "cell_type": "code",
   "execution_count": 59,
   "id": "1f3ec291",
   "metadata": {},
   "outputs": [
    {
     "data": {
      "text/plain": [
       "36.0"
      ]
     },
     "execution_count": 59,
     "metadata": {},
     "output_type": "execute_result"
    }
   ],
   "source": [
    "k"
   ]
  },
  {
   "cell_type": "code",
   "execution_count": 60,
   "id": "ba68d7e3",
   "metadata": {},
   "outputs": [
    {
     "data": {
      "text/plain": [
       "37"
      ]
     },
     "execution_count": 60,
     "metadata": {},
     "output_type": "execute_result"
    }
   ],
   "source": [
    "sum(nums)"
   ]
  },
  {
   "cell_type": "markdown",
   "id": "9c5aab31",
   "metadata": {},
   "source": [
    "11. Traffic"
   ]
  },
  {
   "cell_type": "code",
   "execution_count": 61,
   "id": "bebee412",
   "metadata": {},
   "outputs": [],
   "source": [
    "# Traffic\n",
    "n, m = 6, 3\n",
    "vehicle = [1,1,0,1,1,1]"
   ]
  },
  {
   "cell_type": "code",
   "execution_count": 62,
   "id": "c1b11292",
   "metadata": {},
   "outputs": [
    {
     "data": {
      "text/plain": [
       "6"
      ]
     },
     "execution_count": 62,
     "metadata": {},
     "output_type": "execute_result"
    }
   ],
   "source": [
    "n"
   ]
  },
  {
   "cell_type": "code",
   "execution_count": 63,
   "id": "f3d3e18d",
   "metadata": {},
   "outputs": [
    {
     "data": {
      "text/plain": [
       "3"
      ]
     },
     "execution_count": 63,
     "metadata": {},
     "output_type": "execute_result"
    }
   ],
   "source": [
    "m"
   ]
  },
  {
   "cell_type": "code",
   "execution_count": 64,
   "id": "27e51bdc",
   "metadata": {},
   "outputs": [],
   "source": [
    "maximum = 0\n",
    "for i in range(n):\n",
    "    add = 0\n",
    "    if vehicle[i] == 1:\n",
    "        for j in range(i,n):\n",
    "            if vehicle[j] == 0:\n",
    "                break \n",
    "            add = add + vehicle[j]\n",
    "    if maximum < add:\n",
    "        maximum = add\n",
    "        \n"
   ]
  },
  {
   "cell_type": "code",
   "execution_count": 65,
   "id": "1a012376",
   "metadata": {},
   "outputs": [
    {
     "data": {
      "text/plain": [
       "3"
      ]
     },
     "execution_count": 65,
     "metadata": {},
     "output_type": "execute_result"
    }
   ],
   "source": [
    "maximum"
   ]
  },
  {
   "cell_type": "code",
   "execution_count": 66,
   "id": "24a6284d",
   "metadata": {},
   "outputs": [],
   "source": [
    "count = 0\n",
    "max_count = 0\n",
    "for i in range(n):\n",
    "    if vehicle[i] == 1:\n",
    "        count += 1\n",
    "    else:\n",
    "        count = 0\n",
    "    if count > max_count:\n",
    "        max_count = count\n",
    "    "
   ]
  },
  {
   "cell_type": "code",
   "execution_count": 67,
   "id": "feeca0e2",
   "metadata": {},
   "outputs": [
    {
     "data": {
      "text/plain": [
       "3"
      ]
     },
     "execution_count": 67,
     "metadata": {},
     "output_type": "execute_result"
    }
   ],
   "source": [
    "max_count"
   ]
  },
  {
   "cell_type": "markdown",
   "id": "0f7d27ba",
   "metadata": {},
   "source": [
    "12. Find The Single Element"
   ]
  },
  {
   "cell_type": "code",
   "execution_count": 68,
   "id": "ed8f669f",
   "metadata": {},
   "outputs": [],
   "source": [
    "arr = [8, 8, 9, 9, 10]"
   ]
  },
  {
   "cell_type": "code",
   "execution_count": 69,
   "id": "0f5b3231",
   "metadata": {},
   "outputs": [
    {
     "name": "stdout",
     "output_type": "stream",
     "text": [
      "10\n"
     ]
    }
   ],
   "source": [
    "arr.append(0)\n",
    "count = 0\n",
    "n = len(arr)\n",
    "for i in range(0, n, 2):\n",
    "    if i+1 == n:\n",
    "        break\n",
    "    else:\n",
    "        if arr[i] != arr[i+1]:\n",
    "            print(arr[i])\n",
    "            break"
   ]
  },
  {
   "cell_type": "code",
   "execution_count": 70,
   "id": "4d29be76",
   "metadata": {},
   "outputs": [
    {
     "data": {
      "text/plain": [
       "6"
      ]
     },
     "execution_count": 70,
     "metadata": {},
     "output_type": "execute_result"
    }
   ],
   "source": [
    "len(arr)"
   ]
  },
  {
   "cell_type": "markdown",
   "id": "7975247b",
   "metadata": {},
   "source": [
    "14. Longest Subarray With Sum K."
   ]
  },
  {
   "cell_type": "code",
   "execution_count": 71,
   "id": "4e05d43e",
   "metadata": {},
   "outputs": [],
   "source": [
    "a = [1, 2, 1, 3]\n",
    "n = len(a)\n",
    "k = 3"
   ]
  },
  {
   "cell_type": "code",
   "execution_count": 72,
   "id": "503c43b8",
   "metadata": {},
   "outputs": [
    {
     "name": "stdout",
     "output_type": "stream",
     "text": [
      "2\n"
     ]
    }
   ],
   "source": [
    "maxl = 0\n",
    "for i in range(n): \n",
    "    for j in range(i,n):\n",
    "        if sum(a[i:j+1]) == k:\n",
    "            sub = a[i:j+1]\n",
    "    if maxl < len(sub):\n",
    "        maxl = len(sub)\n",
    "        print(maxl)\n",
    "        \n",
    "        "
   ]
  },
  {
   "cell_type": "code",
   "execution_count": 73,
   "id": "445c44b8",
   "metadata": {},
   "outputs": [],
   "source": [
    "arr = [1,2,3,4]"
   ]
  },
  {
   "cell_type": "code",
   "execution_count": 74,
   "id": "e4c634d5",
   "metadata": {},
   "outputs": [],
   "source": [
    "sub = arr[0:3]"
   ]
  },
  {
   "cell_type": "code",
   "execution_count": 75,
   "id": "480f71f4",
   "metadata": {},
   "outputs": [
    {
     "data": {
      "text/plain": [
       "[1, 2, 3]"
      ]
     },
     "execution_count": 75,
     "metadata": {},
     "output_type": "execute_result"
    }
   ],
   "source": [
    "sub"
   ]
  },
  {
   "cell_type": "code",
   "execution_count": null,
   "id": "1b7d35a6",
   "metadata": {},
   "outputs": [],
   "source": []
  }
 ],
 "metadata": {
  "kernelspec": {
   "display_name": "Python 3",
   "language": "python",
   "name": "python3"
  },
  "language_info": {
   "codemirror_mode": {
    "name": "ipython",
    "version": 3
   },
   "file_extension": ".py",
   "mimetype": "text/x-python",
   "name": "python",
   "nbconvert_exporter": "python",
   "pygments_lexer": "ipython3",
   "version": "3.8.8"
  }
 },
 "nbformat": 4,
 "nbformat_minor": 5
}
