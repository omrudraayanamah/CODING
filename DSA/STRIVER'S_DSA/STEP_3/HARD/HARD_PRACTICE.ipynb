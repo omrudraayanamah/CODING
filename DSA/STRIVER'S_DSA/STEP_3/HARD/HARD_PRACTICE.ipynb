{
 "cells": [
  {
   "cell_type": "code",
   "execution_count": 1,
   "id": "f4e45088",
   "metadata": {},
   "outputs": [],
   "source": [
    "my_dict = {}"
   ]
  },
  {
   "cell_type": "code",
   "execution_count": 6,
   "id": "ab136001",
   "metadata": {},
   "outputs": [],
   "source": [
    "my_dict[2] = 1 "
   ]
  },
  {
   "cell_type": "code",
   "execution_count": 7,
   "id": "a3627145",
   "metadata": {},
   "outputs": [
    {
     "data": {
      "text/plain": [
       "'Shivam'"
      ]
     },
     "execution_count": 7,
     "metadata": {},
     "output_type": "execute_result"
    }
   ],
   "source": [
    "my_dict['Name']"
   ]
  },
  {
   "cell_type": "code",
   "execution_count": 76,
   "id": "6ebbb908",
   "metadata": {},
   "outputs": [],
   "source": [
    "arr = [-1, -1, 2, 0, 1]\n",
    "n = len(arr)"
   ]
  },
  {
   "cell_type": "code",
   "execution_count": 83,
   "id": "7720e374",
   "metadata": {},
   "outputs": [],
   "source": [
    "st = set()\n",
    "for i in range(n):\n",
    "    bucket = set()\n",
    "    for j in range(i + 1, n):\n",
    "        k = -(arr[i] + arr[j])\n",
    "        if k in bucket:\n",
    "            temp = [arr[i], arr[j], k]\n",
    "            temp.sort()\n",
    "            st.add(tuple(temp))\n",
    "        bucket.add(arr[j])\n",
    "ans = []\n",
    "for it in st:\n",
    "    temp = []\n",
    "    for i in it:\n",
    "        temp.append(i)\n",
    "    ans.append(temp)"
   ]
  },
  {
   "cell_type": "code",
   "execution_count": 79,
   "id": "0ec9b5c6",
   "metadata": {},
   "outputs": [
    {
     "data": {
      "text/plain": [
       "{(-1, -1, 2), (-1, 0, 1)}"
      ]
     },
     "execution_count": 79,
     "metadata": {},
     "output_type": "execute_result"
    }
   ],
   "source": [
    "st"
   ]
  },
  {
   "cell_type": "code",
   "execution_count": 65,
   "id": "1f07f7b6",
   "metadata": {},
   "outputs": [],
   "source": [
    "x = triplet(n, arr)        "
   ]
  },
  {
   "cell_type": "code",
   "execution_count": 66,
   "id": "b64812a9",
   "metadata": {},
   "outputs": [
    {
     "data": {
      "text/plain": [
       "[(-1, 0, 1), (-1, -1, 2)]"
      ]
     },
     "execution_count": 66,
     "metadata": {},
     "output_type": "execute_result"
    }
   ],
   "source": [
    "x"
   ]
  },
  {
   "cell_type": "code",
   "execution_count": 84,
   "id": "bb13011a",
   "metadata": {
    "scrolled": true
   },
   "outputs": [
    {
     "data": {
      "text/plain": [
       "[[-1, 0, 1], [-1, -1, 2]]"
      ]
     },
     "execution_count": 84,
     "metadata": {},
     "output_type": "execute_result"
    }
   ],
   "source": [
    "ans"
   ]
  },
  {
   "cell_type": "code",
   "execution_count": 87,
   "id": "1797892d",
   "metadata": {},
   "outputs": [
    {
     "name": "stdout",
     "output_type": "stream",
     "text": [
      "1\n",
      "-1\n",
      "-1\n",
      "2\n",
      "0\n"
     ]
    }
   ],
   "source": [
    "arr.sort()\n",
    "n = len(arr)\n",
    "ans = []\n",
    "for i in range(n):\n",
    "    if i > 0 and arr[i] == arr[i-1]:\n",
    "        pass\n",
    "    j = i + 1\n",
    "    k = n - 1\n",
    "    while j < k:\n",
    "        sumarr = arr[i] + arr[j] + arr[k]\n",
    "        if sumarr < 0:\n",
    "            j += 1\n",
    "        elif sumarr > 0:\n",
    "            k -= 1\n",
    "        else:\n",
    "            temp = [arr[i], arr[j], arr[k]]\n",
    "            ans.append(temp)\n",
    "            "
   ]
  },
  {
   "cell_type": "code",
   "execution_count": 88,
   "id": "87afabdb",
   "metadata": {},
   "outputs": [
    {
     "data": {
      "text/plain": [
       "1"
      ]
     },
     "execution_count": 88,
     "metadata": {},
     "output_type": "execute_result"
    }
   ],
   "source": [
    "arr[-1]"
   ]
  },
  {
   "cell_type": "code",
   "execution_count": 5,
   "id": "cfaab5c5",
   "metadata": {},
   "outputs": [],
   "source": [
    "arr = [-1, -1, 2, 0, 1]\n",
    "n = len(arr)"
   ]
  },
  {
   "cell_type": "code",
   "execution_count": 6,
   "id": "8eb741bd",
   "metadata": {},
   "outputs": [
    {
     "data": {
      "text/plain": [
       "[-1, -1, 2, 0, 1]"
      ]
     },
     "execution_count": 6,
     "metadata": {},
     "output_type": "execute_result"
    }
   ],
   "source": [
    "arr"
   ]
  },
  {
   "cell_type": "code",
   "execution_count": 8,
   "id": "9c67910f",
   "metadata": {},
   "outputs": [],
   "source": [
    "# OPTIMAL\n",
    "# USE 2 POINTER\n",
    "ans = []\n",
    "arr.sort()\n",
    "for i in range(n):\n",
    "    if i > 0 and arr[i] == arr[i - 1]:\n",
    "        continue     \n",
    "    j = i + 1\n",
    "    k = n - 1\n",
    "    while j < k:\n",
    "        sumarr = arr[i] + arr[j] + arr[k]\n",
    "        if sumarr < 0:\n",
    "            j += 1\n",
    "        elif sumarr > 0:\n",
    "            k -= 1\n",
    "        else:\n",
    "            temp = [arr[i], arr[j], arr[k]]\n",
    "            ans.append(temp)\n",
    "            j += 1\n",
    "            k -= 1\n",
    "            while arr[j] == arr[j - 1]:\n",
    "                j += 1\n",
    "            while arr[k] == arr[k + 1]:\n",
    "                k += 1\n",
    "\n"
   ]
  },
  {
   "cell_type": "code",
   "execution_count": 9,
   "id": "ad78a668",
   "metadata": {},
   "outputs": [
    {
     "data": {
      "text/plain": [
       "[[-1, -1, 2], [-1, 0, 1]]"
      ]
     },
     "execution_count": 9,
     "metadata": {},
     "output_type": "execute_result"
    }
   ],
   "source": [
    "ans"
   ]
  },
  {
   "cell_type": "markdown",
   "id": "1cfa8118",
   "metadata": {},
   "source": [
    "4. Largest Subarray with 0 Sum"
   ]
  },
  {
   "cell_type": "code",
   "execution_count": 9,
   "id": "baed5c9c",
   "metadata": {},
   "outputs": [],
   "source": [
    "from collections import defaultdict"
   ]
  },
  {
   "cell_type": "code",
   "execution_count": 37,
   "id": "ee0c09f5",
   "metadata": {},
   "outputs": [],
   "source": [
    "mpp = defaultdict(int)\n",
    "sumarr = 0\n",
    "maxi = 0\n",
    "arr = [1, -1, 3, 2, -2, -8, 1, 7, 10, 23]\n",
    "n = len(arr)"
   ]
  },
  {
   "cell_type": "code",
   "execution_count": 38,
   "id": "06f2ab77",
   "metadata": {},
   "outputs": [],
   "source": [
    "for i in range(n):\n",
    "    sumarr += arr[i]\n",
    "    if sumarr == 0:\n",
    "        maxi = i + 1\n",
    "    else:\n",
    "        if sumarr in mpp:\n",
    "            maxi = max(maxi, i - mpp[sumarr])\n",
    "        else:\n",
    "            mpp[sumarr] = i"
   ]
  },
  {
   "cell_type": "code",
   "execution_count": 27,
   "id": "743bb808",
   "metadata": {},
   "outputs": [
    {
     "data": {
      "text/plain": [
       "defaultdict(int, {1: 0, 0: 1, 3: 7, 5: 3, -5: 5, -4: 6, 13: 8, 36: 9})"
      ]
     },
     "execution_count": 27,
     "metadata": {},
     "output_type": "execute_result"
    }
   ],
   "source": [
    "mpp"
   ]
  },
  {
   "cell_type": "code",
   "execution_count": 34,
   "id": "9010b971",
   "metadata": {},
   "outputs": [],
   "source": [
    "mpp = defaultdict(int)\n",
    "maxi = 0\n",
    "sumarr = 0\n",
    "for i in range(n):\n",
    "    sumarr += arr[i]\n",
    "    if sumarr == 0:                                              \n",
    "        maxi = i + 1\n",
    "    else:\n",
    "        if sumarr in mpp:\n",
    "            maxi = max(maxi, i - mpp[sumarr])\n",
    "        else:\n",
    "            mpp[sumarr] = i"
   ]
  },
  {
   "cell_type": "code",
   "execution_count": 35,
   "id": "7d4ff5b5",
   "metadata": {},
   "outputs": [
    {
     "data": {
      "text/plain": [
       "defaultdict(int, {1: 0, 3: 2, 5: 3, -5: 5, -4: 6, 13: 8, 36: 9})"
      ]
     },
     "execution_count": 35,
     "metadata": {},
     "output_type": "execute_result"
    }
   ],
   "source": [
    "mpp"
   ]
  },
  {
   "cell_type": "code",
   "execution_count": 36,
   "id": "993865a6",
   "metadata": {},
   "outputs": [
    {
     "data": {
      "text/plain": [
       "5"
      ]
     },
     "execution_count": 36,
     "metadata": {},
     "output_type": "execute_result"
    }
   ],
   "source": [
    "maxi"
   ]
  },
  {
   "cell_type": "code",
   "execution_count": 39,
   "id": "62b94a01",
   "metadata": {},
   "outputs": [],
   "source": [
    "arr = [1, -1, 3, 2, -2, -8, 1, 7, 10, 23]\n",
    "n = len(arr)"
   ]
  },
  {
   "cell_type": "code",
   "execution_count": 40,
   "id": "17178687",
   "metadata": {},
   "outputs": [],
   "source": [
    "from collections import defaultdict"
   ]
  },
  {
   "cell_type": "code",
   "execution_count": 44,
   "id": "5407902d",
   "metadata": {},
   "outputs": [],
   "source": [
    "sumarr = 0\n",
    "maxi = 0\n",
    "mpp = defaultdict(int)\n",
    "for i in range(n):\n",
    "    sumarr += arr[i]\n",
    "    if sumarr == 0:\n",
    "        maxi = i + 1\n",
    "    else:\n",
    "        if sumarr in mpp:\n",
    "            maxi = max(maxi, i - mpp[sumarr])\n",
    "        else:\n",
    "            mpp[sumarr] = i"
   ]
  },
  {
   "cell_type": "code",
   "execution_count": 45,
   "id": "114c63eb",
   "metadata": {},
   "outputs": [
    {
     "data": {
      "text/plain": [
       "5"
      ]
     },
     "execution_count": 45,
     "metadata": {},
     "output_type": "execute_result"
    }
   ],
   "source": [
    "maxi"
   ]
  },
  {
   "cell_type": "code",
   "execution_count": 46,
   "id": "50830934",
   "metadata": {},
   "outputs": [
    {
     "data": {
      "text/plain": [
       "defaultdict(int, {1: 0, 3: 2, 5: 3, -5: 5, -4: 6, 13: 8, 36: 9})"
      ]
     },
     "execution_count": 46,
     "metadata": {},
     "output_type": "execute_result"
    }
   ],
   "source": [
    "mpp"
   ]
  },
  {
   "cell_type": "code",
   "execution_count": 2,
   "id": "5c956132",
   "metadata": {},
   "outputs": [],
   "source": [
    "arr = [4, 2, 2, 6, 4]\n",
    "n = len(arr)\n",
    "k = 6"
   ]
  },
  {
   "cell_type": "code",
   "execution_count": 5,
   "id": "4dcec1d5",
   "metadata": {},
   "outputs": [],
   "source": [
    "count = 0\n",
    "for i in range(n):\n",
    "    xor = 0\n",
    "    for j in range(i, n):\n",
    "        xor = xor ^ arr[j]\n",
    "        if xor == k:\n",
    "            count += 1\n",
    "        \n",
    "        "
   ]
  },
  {
   "cell_type": "code",
   "execution_count": 6,
   "id": "ae539542",
   "metadata": {},
   "outputs": [
    {
     "data": {
      "text/plain": [
       "4"
      ]
     },
     "execution_count": 6,
     "metadata": {},
     "output_type": "execute_result"
    }
   ],
   "source": [
    "count"
   ]
  },
  {
   "cell_type": "code",
   "execution_count": 1,
   "id": "31d22db8",
   "metadata": {},
   "outputs": [
    {
     "name": "stdout",
     "output_type": "stream",
     "text": [
      "a\n"
     ]
    }
   ],
   "source": [
    "print('a')"
   ]
  },
  {
   "cell_type": "code",
   "execution_count": 38,
   "id": "036f003c",
   "metadata": {},
   "outputs": [],
   "source": [
    "arr = [[1, 3], [2, 6], [8, 9], [9, 11], [8, 10], [2, 4], [15, 18], [16, 17]]"
   ]
  },
  {
   "cell_type": "code",
   "execution_count": 12,
   "id": "62fb2a44",
   "metadata": {},
   "outputs": [
    {
     "data": {
      "text/plain": [
       "[[1, 3], [2, 4], [2, 6], [8, 9], [8, 10], [9, 11], [15, 18], [16, 17]]"
      ]
     },
     "execution_count": 12,
     "metadata": {},
     "output_type": "execute_result"
    }
   ],
   "source": [
    "arr"
   ]
  },
  {
   "cell_type": "code",
   "execution_count": 32,
   "id": "4c9b75f4",
   "metadata": {},
   "outputs": [],
   "source": [
    "arr = [[1, 3], [2, 4], [2, 6]]"
   ]
  },
  {
   "cell_type": "code",
   "execution_count": 36,
   "id": "91f42767",
   "metadata": {},
   "outputs": [
    {
     "name": "stdout",
     "output_type": "stream",
     "text": [
      "/\n",
      "/\n",
      "/\n",
      "/\n",
      "/\n",
      "/\n",
      "/\n",
      "/\n"
     ]
    }
   ],
   "source": [
    "arr.sort()\n",
    "n = len(arr)\n",
    "ans = []\n",
    "for i in range(n):\n",
    "    start = arr[i][0]\n",
    "    end = arr[i][1] \n",
    "    if ans and end <= ans[-1][1]:\n",
    "        continue \n",
    "    for j in range(i + 1, n):\n",
    "        if arr[j][0] <= end:\n",
    "            end = max(arr[j][1], end)\n",
    "        else:\n",
    "            break\n",
    "    ans.append([start, end]) \n",
    "            \n",
    "            "
   ]
  },
  {
   "cell_type": "code",
   "execution_count": 37,
   "id": "eb70051d",
   "metadata": {},
   "outputs": [
    {
     "data": {
      "text/plain": [
       "[[1, 6], [8, 11], [15, 18]]"
      ]
     },
     "execution_count": 37,
     "metadata": {},
     "output_type": "execute_result"
    }
   ],
   "source": [
    "ans"
   ]
  },
  {
   "cell_type": "code",
   "execution_count": 39,
   "id": "25df171e",
   "metadata": {},
   "outputs": [
    {
     "name": "stdout",
     "output_type": "stream",
     "text": [
      "f\n"
     ]
    }
   ],
   "source": [
    "print('f')"
   ]
  },
  {
   "cell_type": "code",
   "execution_count": 40,
   "id": "f6918fa9",
   "metadata": {},
   "outputs": [],
   "source": [
    "arr = [[1, 3], [2, 6], [8, 9], [9, 11], [8, 10], [2, 4], [15, 18], [16, 17]]\n",
    "n = len(arr)"
   ]
  },
  {
   "cell_type": "code",
   "execution_count": 41,
   "id": "86972c16",
   "metadata": {},
   "outputs": [],
   "source": [
    "arr.sort()"
   ]
  },
  {
   "cell_type": "code",
   "execution_count": 42,
   "id": "6668cdeb",
   "metadata": {},
   "outputs": [
    {
     "data": {
      "text/plain": [
       "[[1, 3], [2, 4], [2, 6], [8, 9], [8, 10], [9, 11], [15, 18], [16, 17]]"
      ]
     },
     "execution_count": 42,
     "metadata": {},
     "output_type": "execute_result"
    }
   ],
   "source": [
    "arr"
   ]
  },
  {
   "cell_type": "code",
   "execution_count": 43,
   "id": "8a7ac0a0",
   "metadata": {},
   "outputs": [],
   "source": [
    "ans = []\n",
    "for i in range(n):\n",
    "    if not ans or arr[i][0] > ans[-1][1]:\n",
    "        ans.append(arr[i])\n",
    "    else:\n",
    "         ans[-1][1] = max(ans[-1][1], arr[i][1])"
   ]
  },
  {
   "cell_type": "code",
   "execution_count": 44,
   "id": "524cdcd9",
   "metadata": {},
   "outputs": [
    {
     "data": {
      "text/plain": [
       "[[1, 6], [8, 11], [15, 18]]"
      ]
     },
     "execution_count": 44,
     "metadata": {},
     "output_type": "execute_result"
    }
   ],
   "source": [
    "ans"
   ]
  },
  {
   "cell_type": "markdown",
   "id": "2f71ddfe",
   "metadata": {},
   "source": [
    "6. XOR"
   ]
  },
  {
   "cell_type": "code",
   "execution_count": 46,
   "id": "71339a7c",
   "metadata": {},
   "outputs": [],
   "source": [
    "from collections import defaultdict"
   ]
  },
  {
   "cell_type": "code",
   "execution_count": 59,
   "id": "8b43fe10",
   "metadata": {},
   "outputs": [],
   "source": [
    "arr = [4, 2, 2, 6, 4]\n",
    "k = 6\n",
    "n = len(arr)"
   ]
  },
  {
   "cell_type": "code",
   "execution_count": 60,
   "id": "8c7e7b05",
   "metadata": {},
   "outputs": [],
   "source": []
  },
  {
   "cell_type": "code",
   "execution_count": 61,
   "id": "1e536299",
   "metadata": {},
   "outputs": [
    {
     "data": {
      "text/plain": [
       "defaultdict(int, {0: 1})"
      ]
     },
     "execution_count": 61,
     "metadata": {},
     "output_type": "execute_result"
    }
   ],
   "source": [
    "mpp"
   ]
  },
  {
   "cell_type": "code",
   "execution_count": 66,
   "id": "b322ab29",
   "metadata": {},
   "outputs": [
    {
     "name": "stdout",
     "output_type": "stream",
     "text": [
      "defaultdict(<class 'int'>, {0: 1, 4: 1})\n",
      "defaultdict(<class 'int'>, {0: 1, 4: 1, 2: 0, 6: 1})\n",
      "defaultdict(<class 'int'>, {0: 1, 4: 2, 2: 0, 6: 1})\n",
      "defaultdict(<class 'int'>, {0: 1, 4: 2, 2: 1, 6: 1})\n",
      "defaultdict(<class 'int'>, {0: 1, 4: 2, 2: 1, 6: 2})\n"
     ]
    }
   ],
   "source": [
    "arr = [4, 2, 2, 6, 4]\n",
    "k = 6\n",
    "n = len(arr)\n",
    "xr = 0\n",
    "mpp = defaultdict(int)\n",
    "mpp[xr] += 1\n",
    "count = 0\n",
    "for i in range(n):\n",
    "    xr = xr ^ arr[i]\n",
    "    x = xr ^ k\n",
    "    mpp[xr] += 1\n",
    "    print(mpp)\n",
    "    count += mpp[x]"
   ]
  },
  {
   "cell_type": "code",
   "execution_count": 67,
   "id": "78789e5d",
   "metadata": {},
   "outputs": [
    {
     "data": {
      "text/plain": [
       "4"
      ]
     },
     "execution_count": 67,
     "metadata": {},
     "output_type": "execute_result"
    }
   ],
   "source": [
    "count"
   ]
  },
  {
   "cell_type": "markdown",
   "id": "14a565f2",
   "metadata": {},
   "source": [
    "5. Largest Subarray with 0 Sum"
   ]
  },
  {
   "cell_type": "markdown",
   "id": "382cca4c",
   "metadata": {},
   "source": [
    "largest means we focus on the index"
   ]
  },
  {
   "cell_type": "code",
   "execution_count": 76,
   "id": "fca51ce6",
   "metadata": {},
   "outputs": [],
   "source": [
    "arr = [1, -1, 3, 2, -2, -8, 1, 7, 10, 23]\n",
    "n = len(arr)"
   ]
  },
  {
   "cell_type": "code",
   "execution_count": 77,
   "id": "089494af",
   "metadata": {
    "scrolled": true
   },
   "outputs": [],
   "source": [
    "from collections import defaultdict"
   ]
  },
  {
   "cell_type": "code",
   "execution_count": 100,
   "id": "46f4b35a",
   "metadata": {},
   "outputs": [],
   "source": [
    "mpp = defaultdict(int)\n",
    "mpp[0] = 1\n",
    "sumarr = 0\n",
    "maxi = 0\n",
    "for i in range(n):\n",
    "    sumarr += arr[i]\n",
    "    if sumarr == 0:\n",
    "        maxi = i + 1 # FOR FIRST LONGEST SUBARRAY\n",
    "    \n",
    "    \n",
    "    if sumarr in mpp:\n",
    "        maxi = max(maxi,i - mpp[sumarr])\n",
    "    else:\n",
    "        mpp[sumarr] = i"
   ]
  },
  {
   "cell_type": "code",
   "execution_count": 101,
   "id": "ea446123",
   "metadata": {},
   "outputs": [
    {
     "data": {
      "text/plain": [
       "defaultdict(int, {0: 1, 1: 0, 3: 2, 5: 3, -5: 5, -4: 6, 13: 8, 36: 9})"
      ]
     },
     "execution_count": 101,
     "metadata": {},
     "output_type": "execute_result"
    }
   ],
   "source": [
    "mpp"
   ]
  },
  {
   "cell_type": "code",
   "execution_count": 102,
   "id": "306ab4e4",
   "metadata": {},
   "outputs": [
    {
     "data": {
      "text/plain": [
       "5"
      ]
     },
     "execution_count": 102,
     "metadata": {},
     "output_type": "execute_result"
    }
   ],
   "source": [
    "maxi"
   ]
  },
  {
   "cell_type": "code",
   "execution_count": null,
   "id": "ab2ed1f0",
   "metadata": {},
   "outputs": [],
   "source": []
  },
  {
   "cell_type": "code",
   "execution_count": null,
   "id": "8d380268",
   "metadata": {},
   "outputs": [],
   "source": []
  },
  {
   "cell_type": "code",
   "execution_count": null,
   "id": "5be0cf39",
   "metadata": {},
   "outputs": [],
   "source": []
  },
  {
   "cell_type": "code",
   "execution_count": null,
   "id": "e8161748",
   "metadata": {},
   "outputs": [],
   "source": []
  },
  {
   "cell_type": "code",
   "execution_count": null,
   "id": "d1d532f8",
   "metadata": {},
   "outputs": [],
   "source": []
  },
  {
   "cell_type": "code",
   "execution_count": 93,
   "id": "d97d4b70",
   "metadata": {},
   "outputs": [],
   "source": [
    "arr = [1, -1, 3, 2, -2, -8, 1, 7, 10, 23]\n",
    "n = len(arr)"
   ]
  },
  {
   "cell_type": "code",
   "execution_count": 94,
   "id": "b99be948",
   "metadata": {},
   "outputs": [],
   "source": [
    "from collections import defaultdict"
   ]
  },
  {
   "cell_type": "code",
   "execution_count": 95,
   "id": "103efd64",
   "metadata": {},
   "outputs": [],
   "source": [
    "mpp = defaultdict(int)"
   ]
  },
  {
   "cell_type": "code",
   "execution_count": 98,
   "id": "c9e61c6d",
   "metadata": {},
   "outputs": [],
   "source": [
    "mpp[0] = 1\n",
    "sumarr = 0\n",
    "maxi = 0\n",
    "for i in range(n):\n",
    "    sumarr += arr[i]\n",
    "    if sumarr == 0:\n",
    "        maxi = i + 1\n",
    "    else:\n",
    "        if sumarr in mpp:\n",
    "            maxi = max(maxi, i - mpp[sumarr])\n",
    "        else:\n",
    "            mpp[sumarr] = i\n",
    "        "
   ]
  },
  {
   "cell_type": "code",
   "execution_count": 99,
   "id": "4aaf229c",
   "metadata": {},
   "outputs": [
    {
     "data": {
      "text/plain": [
       "5"
      ]
     },
     "execution_count": 99,
     "metadata": {},
     "output_type": "execute_result"
    }
   ],
   "source": [
    "maxi"
   ]
  },
  {
   "cell_type": "code",
   "execution_count": 90,
   "id": "c99978af",
   "metadata": {},
   "outputs": [
    {
     "data": {
      "text/plain": [
       "defaultdict(int, {0: 1})"
      ]
     },
     "execution_count": 90,
     "metadata": {},
     "output_type": "execute_result"
    }
   ],
   "source": [
    "mpp"
   ]
  },
  {
   "cell_type": "markdown",
   "id": "88958982",
   "metadata": {},
   "source": [
    "3. 3 Sum"
   ]
  },
  {
   "cell_type": "code",
   "execution_count": 126,
   "id": "6deeeb78",
   "metadata": {},
   "outputs": [],
   "source": [
    "arr = [-1, -1, 2, 0, 1]\n",
    "n = len(arr)"
   ]
  },
  {
   "cell_type": "code",
   "execution_count": 137,
   "id": "5dba8956",
   "metadata": {},
   "outputs": [
    {
     "name": "stdout",
     "output_type": "stream",
     "text": [
      "{(-1, -1, 2)}\n",
      "{(-1, 0, 1), (-1, -1, 2)}\n",
      "{(-1, 0, 1), (-1, -1, 2)}\n"
     ]
    }
   ],
   "source": [
    "# HASHING METHOD\n",
    "st = set()\n",
    "for i in range(n):\n",
    "    bucket = set()\n",
    "    for j in range(i + 1, n):\n",
    "        k = -(arr[i] + arr[j])\n",
    "        if k in bucket:\n",
    "            temp = [arr[i], arr[j], k]\n",
    "            temp.sort()\n",
    "            st.add(tuple(temp))\n",
    "            print(st)\n",
    "        bucket.add(arr[j])\n",
    "        "
   ]
  },
  {
   "cell_type": "code",
   "execution_count": 141,
   "id": "5f4fd4a3",
   "metadata": {},
   "outputs": [
    {
     "data": {
      "text/plain": [
       "{(-1, -1, 2), (-1, 0, 1)}"
      ]
     },
     "execution_count": 141,
     "metadata": {},
     "output_type": "execute_result"
    }
   ],
   "source": [
    "st"
   ]
  },
  {
   "cell_type": "code",
   "execution_count": 145,
   "id": "58ae056c",
   "metadata": {},
   "outputs": [],
   "source": [
    "ans = []\n",
    "for pair in st:\n",
    "    temp = []\n",
    "    for ele in pair:\n",
    "        temp.append(ele)\n",
    "    ans.append(temp)"
   ]
  },
  {
   "cell_type": "code",
   "execution_count": 146,
   "id": "6ae2bd73",
   "metadata": {},
   "outputs": [
    {
     "data": {
      "text/plain": [
       "[[-1, 0, 1], [-1, -1, 2]]"
      ]
     },
     "execution_count": 146,
     "metadata": {},
     "output_type": "execute_result"
    }
   ],
   "source": [
    "ans"
   ]
  },
  {
   "cell_type": "markdown",
   "id": "5f84029f",
   "metadata": {},
   "source": [
    "8. Merge two Sorted Arrays Without Extra Space"
   ]
  },
  {
   "cell_type": "code",
   "execution_count": 8,
   "id": "2e0669b6",
   "metadata": {},
   "outputs": [],
   "source": [
    "arr1 = [1, 3, 5, 7]\n",
    "n = len(arr1)\n",
    "arr2 = [0, 2, 6, 8, 9]\n",
    "m = len(arr2)"
   ]
  },
  {
   "cell_type": "code",
   "execution_count": 10,
   "id": "729db2c7",
   "metadata": {},
   "outputs": [],
   "source": [
    "left = n - 1\n",
    "right = 0 \n",
    "while left >= 0 and right < m:\n",
    "    if arr1[left] > arr2[right]:\n",
    "        arr1[left], arr2[right] = arr2[right], arr1[left]\n",
    "        left -= 1\n",
    "        right += 1\n",
    "        print(arr1, arr2)\n",
    "    else:\n",
    "        break\n",
    "arr1.sort()\n",
    "arr2.sort()"
   ]
  },
  {
   "cell_type": "markdown",
   "id": "e8c7679b",
   "metadata": {},
   "source": [
    "9. Find the repeating and missing numbers"
   ]
  },
  {
   "cell_type": "code",
   "execution_count": 5,
   "id": "a5801248",
   "metadata": {},
   "outputs": [],
   "source": [
    "a = [4, 3, 6, 2, 1, 1]\n",
    "n = len(a)"
   ]
  },
  {
   "cell_type": "code",
   "execution_count": 6,
   "id": "9f9ad79c",
   "metadata": {},
   "outputs": [
    {
     "name": "stdout",
     "output_type": "stream",
     "text": [
      "1 5\n"
     ]
    }
   ],
   "source": [
    "# BRUTE FORCE\n",
    "repeating_number = -1\n",
    "missing_number = -1\n",
    "for i in range(1, n + 1):\n",
    "    count = 0\n",
    "    for j in range(n):\n",
    "        if a[j] == i:\n",
    "            count += 1\n",
    "    if count == 2:\n",
    "        repeating_number = i\n",
    "    elif count == 0:\n",
    "        missing_number = i\n",
    "    if missing_number != -1 and repeating_number != -1:\n",
    "        break\n",
    "        \n",
    "print(repeating_number, missing_number)"
   ]
  },
  {
   "cell_type": "code",
   "execution_count": 30,
   "id": "38286463",
   "metadata": {},
   "outputs": [],
   "source": [
    "a = [4, 3, 6, 2, 1, 1]\n",
    "n = len(a)\n",
    "from collections import defaultdict"
   ]
  },
  {
   "cell_type": "code",
   "execution_count": 33,
   "id": "525c8804",
   "metadata": {},
   "outputs": [],
   "source": [
    "# BETTER (HASHING)\n",
    "mpp = defaultdict(int)\n",
    "for i in range(n):\n",
    "    mpp[a[i]] += 1\n",
    "    if mpp[a[i]] == 2:\n",
    "        repeating_number = a[i]\n",
    "for i in range(1, n + 1):\n",
    "    if i not in mpp:\n",
    "        missing_number = i\n",
    "        break"
   ]
  },
  {
   "cell_type": "code",
   "execution_count": 34,
   "id": "08305770",
   "metadata": {},
   "outputs": [
    {
     "data": {
      "text/plain": [
       "defaultdict(int, {4: 1, 3: 1, 6: 1, 2: 1, 1: 2})"
      ]
     },
     "execution_count": 34,
     "metadata": {},
     "output_type": "execute_result"
    }
   ],
   "source": [
    "mpp"
   ]
  },
  {
   "cell_type": "code",
   "execution_count": 35,
   "id": "e037eb4b",
   "metadata": {},
   "outputs": [
    {
     "data": {
      "text/plain": [
       "5"
      ]
     },
     "execution_count": 35,
     "metadata": {},
     "output_type": "execute_result"
    }
   ],
   "source": [
    "missing_number"
   ]
  },
  {
   "cell_type": "code",
   "execution_count": 36,
   "id": "0546d878",
   "metadata": {},
   "outputs": [
    {
     "data": {
      "text/plain": [
       "1"
      ]
     },
     "execution_count": 36,
     "metadata": {},
     "output_type": "execute_result"
    }
   ],
   "source": [
    "repeating_number"
   ]
  },
  {
   "cell_type": "code",
   "execution_count": 37,
   "id": "1568329e",
   "metadata": {},
   "outputs": [],
   "source": [
    "a = [4, 3, 6, 2, 1, 1]\n",
    "n = len(a)"
   ]
  },
  {
   "cell_type": "code",
   "execution_count": 49,
   "id": "5cd1bd2d",
   "metadata": {},
   "outputs": [],
   "source": [
    "# OPTIMAL 1\n",
    "# S - Sn = x - y\n",
    "# S2 - S2n = x2 - y2\n",
    "\n",
    "S = sum(a)\n",
    "Sn = (n * (n + 1))//2\n",
    "S2 = 0\n",
    "for i in range(n):\n",
    "    S2 += a[i]**2\n",
    "S2n = n * (n + 1) * (2 * n + 1)//6\n",
    "\n",
    "val1 = S - Sn    # x - y\n",
    "val2 = S2 - S2n  # (x + y)(x - y)\n",
    "\n",
    "x = ((val2 / val1) + val1) // 2\n",
    "y = x - val1\n",
    "\n",
    "ans = [int(x), int(y)]\n"
   ]
  },
  {
   "cell_type": "markdown",
   "id": "a813961f",
   "metadata": {},
   "source": [
    "10. Count Inversions"
   ]
  },
  {
   "cell_type": "code",
   "execution_count": 136,
   "id": "56be0e51",
   "metadata": {},
   "outputs": [],
   "source": [
    "arr = [5, 3, 2, 4, 1]\n",
    "n = len(arr)"
   ]
  },
  {
   "cell_type": "code",
   "execution_count": 21,
   "id": "60f5e89c",
   "metadata": {},
   "outputs": [],
   "source": [
    "def merge(arr, low, mid, high):\n",
    "    temp = []   \n",
    "    left = low  \n",
    "    right = mid + 1 \n",
    "    cnt = 0\n",
    "    \n",
    "    while (left <= mid and right <= high):\n",
    "        if (arr[left] <= arr[right]):\n",
    "            temp.append(arr[left])\n",
    "            left += 1\n",
    "        else: \n",
    "            temp.append(arr[right])\n",
    "            right += 1\n",
    "            cnt += (mid - left + 1)\n",
    "    while (left <= mid): \n",
    "        temp.append(arr[left])\n",
    "        left += 1\n",
    "\n",
    "    while (right <= high):\n",
    "        temp.append(arr[right])\n",
    "        right += 1\n",
    "\n",
    "    for i in range(low, high + 1):\n",
    "        arr[i] = temp[i - low]\n",
    "    return cnt\n",
    "        \n",
    "def mergeSort(arr, low, high):\n",
    "    cnt = 0\n",
    "    if low < high:\n",
    "        mid = (low + high) // 2\n",
    "        cnt += mergeSort(arr, low, mid)  \n",
    "        cnt += mergeSort(arr, mid + 1, high)  \n",
    "        merge(arr, low, mid, high) \n",
    "        \n",
    "    return cnt"
   ]
  },
  {
   "cell_type": "code",
   "execution_count": 22,
   "id": "ce0d7b8f",
   "metadata": {},
   "outputs": [
    {
     "data": {
      "text/plain": [
       "0"
      ]
     },
     "execution_count": 22,
     "metadata": {},
     "output_type": "execute_result"
    }
   ],
   "source": [
    "mergeSort(arr, 0, n - 1)"
   ]
  },
  {
   "cell_type": "code",
   "execution_count": 23,
   "id": "ed963560",
   "metadata": {},
   "outputs": [
    {
     "data": {
      "text/plain": [
       "[1, 2, 3, 4, 5]"
      ]
     },
     "execution_count": 23,
     "metadata": {},
     "output_type": "execute_result"
    }
   ],
   "source": [
    "arr"
   ]
  },
  {
   "cell_type": "code",
   "execution_count": 110,
   "id": "0e0a8e5c",
   "metadata": {},
   "outputs": [],
   "source": [
    "def numberOfInversions(arr, n):\n",
    "    # Write your code here.\n",
    "    n = len(arr)\n",
    "    return mergeSort(arr, 0, n - 1)"
   ]
  },
  {
   "cell_type": "code",
   "execution_count": 137,
   "id": "49942269",
   "metadata": {},
   "outputs": [],
   "source": [
    "from typing import List\n",
    "import math\n",
    "\n",
    "\n",
    "def merge(arr : List[int], low : int, mid : int, high : int) -> int:\n",
    "    cnt = 0\n",
    "    temp = []\n",
    "    left = low\n",
    "    right = mid + 1\n",
    "    while left <= mid and right <= high:\n",
    "        if arr[left] <= arr[right]:\n",
    "            temp.append(arr[left])\n",
    "            left += 1\n",
    "            \n",
    "        else:\n",
    "            temp.append(arr[right])\n",
    "            cnt += mid - left + 1\n",
    "            right += 1\n",
    "            \n",
    "    while left <= mid:\n",
    "        temp.append(arr[left])\n",
    "        left += 1\n",
    "        \n",
    "    while right <= high:\n",
    "        temp.append(arr[right])\n",
    "        right += 1\n",
    "        \n",
    "    for i in range(low, high + 1):\n",
    "        arr[i] = temp[i - low]\n",
    "    return cnt\n",
    "        \n",
    "def mergeSort(arr : List[int], low : int, high : int) -> int:\n",
    "    cnt = 0          \n",
    "    if low >= high:\n",
    "        return cnt\n",
    "    mid = math.floor((low + high) / 2)\n",
    "\n",
    "    cnt += mergeSort(arr, low, mid)\n",
    "\n",
    "    cnt += mergeSort(arr, mid + 1, high)\n",
    "    cnt += merge(arr, low, mid, high)\n",
    "    return cnt\n",
    "        \n",
    "        \n",
    "        "
   ]
  },
  {
   "cell_type": "code",
   "execution_count": 111,
   "id": "0d5cc4f4",
   "metadata": {},
   "outputs": [
    {
     "data": {
      "text/plain": [
       "8"
      ]
     },
     "execution_count": 111,
     "metadata": {},
     "output_type": "execute_result"
    }
   ],
   "source": [
    "mergeSort(arr, 0, n - 1)"
   ]
  },
  {
   "cell_type": "code",
   "execution_count": 116,
   "id": "3fd04998",
   "metadata": {},
   "outputs": [],
   "source": [
    "arr = [5, 3, 2, 4, 1]\n",
    "n = len(arr)"
   ]
  },
  {
   "cell_type": "code",
   "execution_count": 114,
   "id": "c7e2b1a8",
   "metadata": {},
   "outputs": [
    {
     "data": {
      "text/plain": [
       "[5, 3, 2, 4, 1]"
      ]
     },
     "execution_count": 114,
     "metadata": {},
     "output_type": "execute_result"
    }
   ],
   "source": [
    "arr"
   ]
  },
  {
   "cell_type": "code",
   "execution_count": 132,
   "id": "ad6484d5",
   "metadata": {
    "scrolled": false
   },
   "outputs": [
    {
     "data": {
      "text/plain": [
       "8"
      ]
     },
     "execution_count": 132,
     "metadata": {},
     "output_type": "execute_result"
    }
   ],
   "source": [
    "mergeSort(arr, 0, n - 1)"
   ]
  },
  {
   "cell_type": "code",
   "execution_count": 42,
   "id": "ac228760",
   "metadata": {},
   "outputs": [
    {
     "data": {
      "text/plain": [
       "[1, 1, 2, 3, 1]"
      ]
     },
     "execution_count": 42,
     "metadata": {},
     "output_type": "execute_result"
    }
   ],
   "source": [
    "arr"
   ]
  },
  {
   "cell_type": "code",
   "execution_count": 138,
   "id": "ab590fa1",
   "metadata": {},
   "outputs": [],
   "source": [
    "def numberOfInversions(arr : List[int], n : int) -> int:\n",
    "    n = len(arr)\n",
    "    return mergeSort(arr, 0, n - 1)"
   ]
  },
  {
   "cell_type": "code",
   "execution_count": 90,
   "id": "4a2314e3",
   "metadata": {},
   "outputs": [],
   "source": [
    "def numberOfInversions(arr, n):\n",
    "    # Write your code here.\n",
    "    n = len(arr)\n",
    "    return mergeSort(arr, 0, n - 1)"
   ]
  },
  {
   "cell_type": "code",
   "execution_count": 91,
   "id": "da53c631",
   "metadata": {},
   "outputs": [
    {
     "data": {
      "text/plain": [
       "0"
      ]
     },
     "execution_count": 91,
     "metadata": {},
     "output_type": "execute_result"
    }
   ],
   "source": [
    "numberOfInversions(arr, n)"
   ]
  },
  {
   "cell_type": "code",
   "execution_count": 139,
   "id": "7043f4a6",
   "metadata": {},
   "outputs": [
    {
     "data": {
      "text/plain": [
       "8"
      ]
     },
     "execution_count": 139,
     "metadata": {},
     "output_type": "execute_result"
    }
   ],
   "source": [
    "numberOfInversions(arr , n )"
   ]
  },
  {
   "cell_type": "markdown",
   "id": "7ece2d79",
   "metadata": {},
   "source": [
    "11. Reverse pairs"
   ]
  },
  {
   "cell_type": "code",
   "execution_count": null,
   "id": "41ee890e",
   "metadata": {},
   "outputs": [],
   "source": []
  },
  {
   "cell_type": "code",
   "execution_count": 163,
   "id": "ecd68677",
   "metadata": {},
   "outputs": [],
   "source": [
    "arr = [5, 3, 2, 4, 1]\n",
    "n = len(arr)"
   ]
  },
  {
   "cell_type": "code",
   "execution_count": 161,
   "id": "2300508b",
   "metadata": {},
   "outputs": [],
   "source": [
    "f"
   ]
  },
  {
   "cell_type": "code",
   "execution_count": 164,
   "id": "46c2b947",
   "metadata": {},
   "outputs": [
    {
     "data": {
      "text/plain": [
       "4"
      ]
     },
     "execution_count": 164,
     "metadata": {},
     "output_type": "execute_result"
    }
   ],
   "source": [
    "mergeSort(arr, 0, n - 1)"
   ]
  },
  {
   "cell_type": "code",
   "execution_count": null,
   "id": "80399a30",
   "metadata": {},
   "outputs": [],
   "source": []
  },
  {
   "cell_type": "code",
   "execution_count": 66,
   "id": "a5c12de6",
   "metadata": {},
   "outputs": [],
   "source": [
    "from typing import List\n",
    "import math\n",
    "\n",
    "def merge(arr : List[int], low : int, mid : int, high : int) -> int:\n",
    "    temp = []   # temporary array\n",
    "    left = low  # starting index of left half of arr\n",
    "    right = mid + 1 # starting index of right half of arr\n",
    "\n",
    "    cnt = 0     # Modification 1: cnt variable to count the pairs\n",
    "\n",
    "    # storing elements in the temporary array in a sorted manner\n",
    "    while (left <= mid and right <= high):\n",
    "        if (arr[left] <= arr[right]):\n",
    "            temp.append(arr[left])\n",
    "            left += 1   \n",
    "        else:\n",
    "            temp.append(arr[right])\n",
    "            cnt += (mid - left + 1)  # Modification 2\n",
    "            right += 1\n",
    "\n",
    "    # if elements on the left half are still left\n",
    "    while (left <= mid):\n",
    "        temp.append(arr[left])\n",
    "        left += 1\n",
    "\n",
    "    # if elements on the right half are still left\n",
    "    while (right <= high):\n",
    "        temp.append(arr[right])\n",
    "        right += 1\n",
    "\n",
    "    # transfering all elements from temporary to arr\n",
    "    for i in range(low, high + 1):\n",
    "        arr[i] = temp[i - low]\n",
    "\n",
    "    return cnt   # Modification 3\n",
    "\n",
    "def mergeSort(arr : List[int], low : int, high : int) -> int:\n",
    "    cnt = 0\n",
    "    if low >= high:\n",
    "        return cnt\n",
    "    mid = math.floor((low + high) / 2)\n",
    "    cnt += mergeSort(arr, low, mid)    # left half\n",
    "    cnt += mergeSort(arr, mid + 1, high)  # right half\n",
    "    cnt += merge(arr, low, mid, high)  # merging sorted halves\n",
    "    return cnt"
   ]
  },
  {
   "cell_type": "markdown",
   "id": "adda71b1",
   "metadata": {},
   "source": [
    "12. Maximum Product Subarray"
   ]
  },
  {
   "cell_type": "code",
   "execution_count": 179,
   "id": "84ee3a4d",
   "metadata": {},
   "outputs": [],
   "source": [
    "arr = [-1, 3, 0, -4, 3]\n",
    "n = len(arr)"
   ]
  },
  {
   "cell_type": "code",
   "execution_count": 186,
   "id": "ac61727d",
   "metadata": {},
   "outputs": [],
   "source": [
    "pre = 1\n",
    "suff = 1\n",
    "ans = float('-inf')\n",
    "for i in range(n):\n",
    "    if pre == 0: pre = 1\n",
    "    if suff == 0: suff = 1\n",
    "    pre = pre * arr[i]\n",
    "    suff = suff * arr[n - i - 1]\n",
    "    ans = max(ans, max(pre, suff))"
   ]
  },
  {
   "cell_type": "code",
   "execution_count": 187,
   "id": "158b3672",
   "metadata": {},
   "outputs": [
    {
     "data": {
      "text/plain": [
       "3"
      ]
     },
     "execution_count": 187,
     "metadata": {},
     "output_type": "execute_result"
    }
   ],
   "source": [
    "ans"
   ]
  },
  {
   "cell_type": "code",
   "execution_count": 184,
   "id": "3124767c",
   "metadata": {},
   "outputs": [],
   "source": [
    "pre = 1\n",
    "suff = 1\n",
    "ans = float('-inf')\n",
    "for i in range(n):\n",
    "    if pre == 0: pre = 1\n",
    "    if suff == 0: suff = 1\n",
    "    pre = pre * arr[i]\n",
    "    suff = suff * arr[n - i - 1]\n",
    "ans = max(ans, max(pre, suff))"
   ]
  },
  {
   "cell_type": "code",
   "execution_count": 185,
   "id": "ca3f0025",
   "metadata": {},
   "outputs": [
    {
     "data": {
      "text/plain": [
       "-3"
      ]
     },
     "execution_count": 185,
     "metadata": {},
     "output_type": "execute_result"
    }
   ],
   "source": [
    "ans"
   ]
  },
  {
   "cell_type": "code",
   "execution_count": null,
   "id": "a4901511",
   "metadata": {},
   "outputs": [],
   "source": []
  }
 ],
 "metadata": {
  "kernelspec": {
   "display_name": "Python 3",
   "language": "python",
   "name": "python3"
  },
  "language_info": {
   "codemirror_mode": {
    "name": "ipython",
    "version": 3
   },
   "file_extension": ".py",
   "mimetype": "text/x-python",
   "name": "python",
   "nbconvert_exporter": "python",
   "pygments_lexer": "ipython3",
   "version": "3.8.8"
  }
 },
 "nbformat": 4,
 "nbformat_minor": 5
}
