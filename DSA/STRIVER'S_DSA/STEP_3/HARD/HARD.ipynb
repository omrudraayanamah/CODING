{
 "cells": [
  {
   "cell_type": "markdown",
   "id": "0858b34e",
   "metadata": {},
   "source": [
    "1. Pascal's Triangle"
   ]
  },
  {
   "cell_type": "code",
   "execution_count": 28,
   "id": "71118e96",
   "metadata": {},
   "outputs": [],
   "source": [
    "def nCr(n,r):\n",
    "    res = 1\n",
    "    for i in range(r):\n",
    "        res = res * (n - i)\n",
    "        res = res // (i + 1)\n",
    "    return res\n",
    "\n",
    "def pascalTriangle(n : int) -> []:\n",
    "    ans = []\n",
    "    for row in range(1, n + 1):\n",
    "        templst = []\n",
    "        for col in range(1, row + 1):\n",
    "            templst.append(nCr(row - 1, col - 1))\n",
    "        ans.append(templst)\n",
    "    return ans"
   ]
  },
  {
   "cell_type": "code",
   "execution_count": 30,
   "id": "042c19a5",
   "metadata": {},
   "outputs": [
    {
     "data": {
      "text/plain": [
       "[[1], [1, 1], [1, 2, 1], [1, 3, 3, 1], [1, 4, 6, 4, 1]]"
      ]
     },
     "execution_count": 30,
     "metadata": {},
     "output_type": "execute_result"
    }
   ],
   "source": [
    "pascalTriangle(5)"
   ]
  },
  {
   "cell_type": "markdown",
   "id": "107dd3e8",
   "metadata": {},
   "source": [
    "2. Majority Element (n/3 times)"
   ]
  },
  {
   "cell_type": "code",
   "execution_count": 12,
   "id": "c30a8854",
   "metadata": {},
   "outputs": [],
   "source": [
    "arr = [1, 1, 1, 1, 3, 2, 2, 2]\n",
    "n = len(arr)"
   ]
  },
  {
   "cell_type": "code",
   "execution_count": 9,
   "id": "4e9d35ac",
   "metadata": {},
   "outputs": [],
   "source": [
    "# BETTER \n",
    "from collections import defaultdict\n",
    "mpp = defaultdict(int)\n",
    "lst = []\n",
    "mm = n // 3 + 1\n",
    "for i in range(n):\n",
    "    mpp[arr[i]] += 1\n",
    "    if mpp[arr[i]] == mm:\n",
    "        lst.append(arr[i])\n",
    "        \n",
    "    "
   ]
  },
  {
   "cell_type": "code",
   "execution_count": 10,
   "id": "a81b7b2d",
   "metadata": {},
   "outputs": [
    {
     "data": {
      "text/plain": [
       "[1, 2]"
      ]
     },
     "execution_count": 10,
     "metadata": {},
     "output_type": "execute_result"
    }
   ],
   "source": [
    "lst"
   ]
  },
  {
   "cell_type": "code",
   "execution_count": 15,
   "id": "f92b8d80",
   "metadata": {},
   "outputs": [],
   "source": [
    "# OPTIMAL\n",
    "ele1 = float('-inf') \n",
    "ele2 = float('-inf')\n",
    "count1 = 0\n",
    "count2 = 0\n",
    "lst = []\n",
    "mini = n // 3 + 1\n",
    "\n",
    "for i in range(n):\n",
    "    if count1 == 0 and arr[i] != ele2:\n",
    "        ele1 = arr[i]\n",
    "        count1 = 1\n",
    "        \n",
    "    elif count2 == 0 and arr[i] != ele1:\n",
    "        ele2 = arr[i]\n",
    "        count2 = 1\n",
    "        \n",
    "    elif arr[i] == ele1:\n",
    "        count1 += 1\n",
    "        \n",
    "    elif arr[i] == ele2:\n",
    "        count2 += 1\n",
    "        \n",
    "    else:\n",
    "        count1 -= 1\n",
    "        count2 -= 1\n",
    "        \n",
    "        \n",
    "\n",
    "    if count1 >= mini:\n",
    "        lst.append(ele1)\n",
    "    if count2 >= mini:\n",
    "        lst.append(ele2)\n",
    "lst.sort()"
   ]
  },
  {
   "cell_type": "code",
   "execution_count": 16,
   "id": "dde9e010",
   "metadata": {},
   "outputs": [
    {
     "data": {
      "text/plain": [
       "[1, 2]"
      ]
     },
     "execution_count": 16,
     "metadata": {},
     "output_type": "execute_result"
    }
   ],
   "source": [
    "lst"
   ]
  },
  {
   "cell_type": "markdown",
   "id": "0c2b1c59",
   "metadata": {},
   "source": [
    "3. 3-Sum Problem"
   ]
  },
  {
   "cell_type": "code",
   "execution_count": 31,
   "id": "605e37e3",
   "metadata": {},
   "outputs": [],
   "source": [
    "arr = [-1, -1, 2, 0, 1]\n",
    "n = len(arr)"
   ]
  },
  {
   "cell_type": "code",
   "execution_count": 37,
   "id": "67ce7875",
   "metadata": {},
   "outputs": [],
   "source": [
    "# BETTER (hashing)\n",
    "st = set()\n",
    "for i in range(n):\n",
    "    bucket = set()\n",
    "    for j in range(i + 1, n):\n",
    "        k = -(arr[i] + arr[j])\n",
    "        if k in bucket:\n",
    "            temp = [arr[i], arr[j], k]\n",
    "            temp.sort()\n",
    "            st.add(tuple(temp))\n",
    "        bucket.add(arr[j])\n",
    "        \n",
    "ans = []\n",
    "for it in st:\n",
    "    temp = []\n",
    "    for i in it:\n",
    "        temp.append(i)\n",
    "    ans.append(temp)"
   ]
  },
  {
   "cell_type": "code",
   "execution_count": 11,
   "id": "b5135723",
   "metadata": {},
   "outputs": [],
   "source": [
    "# OPTIMAL\n",
    "ans = []\n",
    "arr.sort()\n",
    "for i in range(n):\n",
    "    if i > 0 and arr[i] == arr[i - 1]:\n",
    "        continue\n",
    "    j = i + 1     \n",
    "    k = n - 1\n",
    "    while j < k:\n",
    "        sumarr = arr[i] + arr[j] + arr[k]\n",
    "        if sumarr < 0:\n",
    "            j += 1\n",
    "        elif sumarr > 0:\n",
    "            k -= 1\n",
    "        else:\n",
    "            temp = [arr[i], arr[j], arr[k]]\n",
    "            ans.append(temp)\n",
    "            j += 1\n",
    "            k -= 1\n",
    "            while j < k and arr[j] == arr[j - 1]:\n",
    "                j += 1\n",
    "            while j < k and arr[k] == arr[k + 1]:\n",
    "                k -= 1"
   ]
  },
  {
   "cell_type": "code",
   "execution_count": 12,
   "id": "2f98e203",
   "metadata": {},
   "outputs": [
    {
     "data": {
      "text/plain": [
       "[[-1, -1, 2], [-1, 0, 1]]"
      ]
     },
     "execution_count": 12,
     "metadata": {},
     "output_type": "execute_result"
    }
   ],
   "source": [
    "ans"
   ]
  },
  {
   "cell_type": "markdown",
   "id": "1ea7b656",
   "metadata": {},
   "source": [
    "4. Largest Subarray with 0 Sum"
   ]
  },
  {
   "cell_type": "code",
   "execution_count": 1,
   "id": "73f886ca",
   "metadata": {},
   "outputs": [],
   "source": [
    "arr = [1, -1, 3, 2, -2, -8, 1, 7, 10, 23]\n",
    "n = len(arr)"
   ]
  },
  {
   "cell_type": "code",
   "execution_count": 3,
   "id": "1e1ea8d5",
   "metadata": {},
   "outputs": [],
   "source": [
    "lensub = 0\n",
    "sumarr = 0\n",
    "maxi = 0\n",
    "for i in range(n):\n",
    "    sumarr += arr[i]\n",
    "    lensub += 1\n",
    "    if sumarr == 0:\n",
    "        maxi = max(maxi, lensub)"
   ]
  },
  {
   "cell_type": "code",
   "execution_count": 4,
   "id": "0cbb2cc0",
   "metadata": {},
   "outputs": [
    {
     "data": {
      "text/plain": [
       "2"
      ]
     },
     "execution_count": 4,
     "metadata": {},
     "output_type": "execute_result"
    }
   ],
   "source": [
    "maxi"
   ]
  },
  {
   "cell_type": "markdown",
   "id": "2ce500fb",
   "metadata": {},
   "source": [
    "5. Largest Subarray with 0 Sum"
   ]
  },
  {
   "cell_type": "code",
   "execution_count": 25,
   "id": "efef5f1a",
   "metadata": {},
   "outputs": [],
   "source": [
    "from collections import defaultdict\n",
    "arr = [1, -1, 3, 2, -2, -8, 1, 7, 10, 23]\n",
    "n = len(arr)"
   ]
  },
  {
   "cell_type": "code",
   "execution_count": 26,
   "id": "a55c1bff",
   "metadata": {},
   "outputs": [],
   "source": [
    "mpp = defaultdict(int)\n",
    "sumarr = 0\n",
    "maxi = 0\n",
    "for i in range(n):\n",
    "    sumarr += arr[i]\n",
    "    if sumarr == 0:\n",
    "        maxi = i + 1    #EDGE CASE\n",
    "    else:\n",
    "        if sumarr in mpp:\n",
    "            maxi = max(maxi, i - mpp[sumarr])\n",
    "        else:\n",
    "            mpp[sumarr] = i"
   ]
  },
  {
   "cell_type": "code",
   "execution_count": 27,
   "id": "7695d298",
   "metadata": {},
   "outputs": [
    {
     "data": {
      "text/plain": [
       "5"
      ]
     },
     "execution_count": 27,
     "metadata": {},
     "output_type": "execute_result"
    }
   ],
   "source": [
    "maxi"
   ]
  },
  {
   "cell_type": "markdown",
   "id": "d8818fdd",
   "metadata": {},
   "source": [
    "6. Count the number of subarrays with given xor K"
   ]
  },
  {
   "cell_type": "code",
   "execution_count": 29,
   "id": "f48ad8bc",
   "metadata": {},
   "outputs": [],
   "source": [
    "arr = [4, 2, 2, 6, 4]\n",
    "n = len(arr)\n",
    "k = 6\n",
    "from collections import defaultdict\n",
    "mpp = defaultdict(int)"
   ]
  },
  {
   "cell_type": "code",
   "execution_count": 30,
   "id": "e018d717",
   "metadata": {},
   "outputs": [
    {
     "name": "stdout",
     "output_type": "stream",
     "text": [
      "[4, 2, 2, 6, 4]\n",
      "defaultdict(<class 'int'>, {0: 1, 4: 1, 2: 0})\n",
      "defaultdict(<class 'int'>, {0: 1, 4: 1, 2: 0, 6: 1})\n",
      "defaultdict(<class 'int'>, {0: 1, 4: 2, 2: 0, 6: 1})\n",
      "defaultdict(<class 'int'>, {0: 1, 4: 2, 2: 1, 6: 1})\n",
      "defaultdict(<class 'int'>, {0: 1, 4: 2, 2: 1, 6: 2})\n"
     ]
    }
   ],
   "source": [
    "xr = 0\n",
    "mpp[xr] += 1\n",
    "count = 0\n",
    "print(arr)\n",
    "for i in range(n):\n",
    "    xr = xr ^ arr[i]\n",
    "    x = xr ^ k\n",
    "    mpp[xr] += 1\n",
    "    count = count + mpp[x]\n",
    "    print(mpp)"
   ]
  },
  {
   "cell_type": "code",
   "execution_count": 31,
   "id": "6e7cb0cf",
   "metadata": {},
   "outputs": [
    {
     "data": {
      "text/plain": [
       "4"
      ]
     },
     "execution_count": 31,
     "metadata": {},
     "output_type": "execute_result"
    }
   ],
   "source": [
    "count"
   ]
  },
  {
   "cell_type": "markdown",
   "id": "08d396bc",
   "metadata": {},
   "source": [
    "7. Merge Overlapping Subintervals"
   ]
  },
  {
   "cell_type": "code",
   "execution_count": 19,
   "id": "49dddd9f",
   "metadata": {},
   "outputs": [],
   "source": [
    "arr = [[1, 3], [2, 6], [8, 9], [9, 11], [8, 10], [2, 4], [15, 18], [16, 17]]\n",
    "n = len(arr)"
   ]
  },
  {
   "cell_type": "code",
   "execution_count": 15,
   "id": "fe0f7104",
   "metadata": {},
   "outputs": [],
   "source": [
    "arr.sort()"
   ]
  },
  {
   "cell_type": "code",
   "execution_count": 16,
   "id": "bbbf9feb",
   "metadata": {},
   "outputs": [
    {
     "data": {
      "text/plain": [
       "[[1, 3], [2, 4], [2, 6], [8, 9], [8, 10], [9, 11], [15, 18], [16, 17]]"
      ]
     },
     "execution_count": 16,
     "metadata": {},
     "output_type": "execute_result"
    }
   ],
   "source": [
    "arr"
   ]
  },
  {
   "cell_type": "code",
   "execution_count": 17,
   "id": "98bc6677",
   "metadata": {},
   "outputs": [],
   "source": [
    "# BRUTE FORCE\n",
    "ans = []\n",
    "for i in range(n):\n",
    "    start = arr[i][0]\n",
    "    end = arr[i][1]\n",
    "    if ans and end <= ans[-1][1]:\n",
    "        continue\n",
    "    for j in range(i + 1, n):\n",
    "        if arr[j][0] <= end:\n",
    "            end = max(arr[j][1], end)\n",
    "        else:\n",
    "            break\n",
    "    ans.append([start, end])\n",
    "    "
   ]
  },
  {
   "cell_type": "code",
   "execution_count": 18,
   "id": "27b6cf0d",
   "metadata": {},
   "outputs": [
    {
     "data": {
      "text/plain": [
       "[[1, 6], [8, 11], [15, 18]]"
      ]
     },
     "execution_count": 18,
     "metadata": {},
     "output_type": "execute_result"
    }
   ],
   "source": [
    "ans"
   ]
  },
  {
   "cell_type": "code",
   "execution_count": null,
   "id": "f483f462",
   "metadata": {},
   "outputs": [],
   "source": [
    "# OPTIMAL\n",
    "arr.sort()\n",
    "ans = []\n",
    "for i in range(n):\n",
    "    if ans or arr[i][0] > ans[-1][1]:\n",
    "        ans.append(arr[i])\n",
    "    else:\n",
    "        ans[-1][1] = max(ans[-1][1], arr[i][1])"
   ]
  },
  {
   "cell_type": "code",
   "execution_count": 21,
   "id": "87c5970f",
   "metadata": {},
   "outputs": [],
   "source": [
    "for i in range(n):\n",
    "    if not ans or arr[i][0] > ans[-1][1]:\n",
    "        ans.append(arr[i])\n",
    "    "
   ]
  },
  {
   "cell_type": "code",
   "execution_count": 22,
   "id": "a3784373",
   "metadata": {},
   "outputs": [
    {
     "data": {
      "text/plain": [
       "[[1, 6], [8, 11], [15, 18]]"
      ]
     },
     "execution_count": 22,
     "metadata": {},
     "output_type": "execute_result"
    }
   ],
   "source": [
    "ans"
   ]
  },
  {
   "cell_type": "markdown",
   "id": "3b480c25",
   "metadata": {},
   "source": [
    "8. Merge two Sorted Arrays Without Extra Space"
   ]
  },
  {
   "cell_type": "code",
   "execution_count": null,
   "id": "4991fac9",
   "metadata": {},
   "outputs": [],
   "source": [
    "arr1 = [1, 3, 5, 7]\n",
    "n = len(arr1)\n",
    "arr2 = [0, 2, 6, 8, 9]\n",
    "m = len(arr2)"
   ]
  },
  {
   "cell_type": "code",
   "execution_count": null,
   "id": "b39766c0",
   "metadata": {},
   "outputs": [],
   "source": [
    "left = n - 1\n",
    "right = 0 \n",
    "while left >= 0 and right < m:\n",
    "    if arr1[left] > arr2[right]:\n",
    "        arr1[left], arr2[right] = arr2[right], arr1[left]\n",
    "        left -= 1\n",
    "        right += 1\n",
    "        print(arr1, arr2)\n",
    "    else:\n",
    "        break\n",
    "arr1.sort()\n",
    "arr2.sort()"
   ]
  },
  {
   "cell_type": "markdown",
   "id": "ed4c12c4",
   "metadata": {},
   "source": [
    "9. Find the repeating and missing numbers"
   ]
  },
  {
   "cell_type": "code",
   "execution_count": 1,
   "id": "b419efb5",
   "metadata": {},
   "outputs": [],
   "source": [
    "a = [4, 3, 6, 2, 1, 1]\n",
    "n = len(a)"
   ]
  },
  {
   "cell_type": "code",
   "execution_count": 2,
   "id": "218a9e44",
   "metadata": {},
   "outputs": [
    {
     "name": "stdout",
     "output_type": "stream",
     "text": [
      "1 5\n"
     ]
    }
   ],
   "source": [
    "# BRUTE FORCE\n",
    "repeating_number = -1\n",
    "missing_number = -1\n",
    "for i in range(1, n + 1):\n",
    "    count = 0\n",
    "    for j in range(n):\n",
    "        if a[j] == i:\n",
    "            count += 1\n",
    "    if count == 2:\n",
    "        repeating_number = i\n",
    "    elif count == 0:\n",
    "        missing_number = i\n",
    "    if missing_number != -1 and repeating_number != -1:\n",
    "        break\n",
    "        \n",
    "print(repeating_number, missing_number)"
   ]
  },
  {
   "cell_type": "code",
   "execution_count": 3,
   "id": "ef1ed5a9",
   "metadata": {},
   "outputs": [],
   "source": [
    "a = [4, 3, 6, 2, 1, 1]\n",
    "n = len(a)\n",
    "from collections import defaultdict"
   ]
  },
  {
   "cell_type": "code",
   "execution_count": 4,
   "id": "05a8c88f",
   "metadata": {},
   "outputs": [],
   "source": [
    "# BETTER (HASHING)\n",
    "mpp = defaultdict(int)\n",
    "for i in range(n):\n",
    "    mpp[a[i]] += 1\n",
    "    if mpp[a[i]] == 2:\n",
    "        repeating_number = a[i]\n",
    "for i in range(1, n + 1):\n",
    "    if i not in mpp:\n",
    "        missing_number = i\n",
    "        break"
   ]
  },
  {
   "cell_type": "code",
   "execution_count": 5,
   "id": "0f18ed88",
   "metadata": {},
   "outputs": [
    {
     "data": {
      "text/plain": [
       "defaultdict(int, {4: 1, 3: 1, 6: 1, 2: 1, 1: 2})"
      ]
     },
     "execution_count": 5,
     "metadata": {},
     "output_type": "execute_result"
    }
   ],
   "source": [
    "mpp"
   ]
  },
  {
   "cell_type": "code",
   "execution_count": 6,
   "id": "cda85acc",
   "metadata": {},
   "outputs": [],
   "source": [
    "a = [4, 3, 6, 2, 1, 1]\n",
    "n = len(a)"
   ]
  },
  {
   "cell_type": "code",
   "execution_count": 8,
   "id": "c4bbc2f2",
   "metadata": {},
   "outputs": [],
   "source": [
    "# OPTIMAL 1\n",
    "# S - Sn = x - y\n",
    "# S2 - S2n = x2 - y2\n",
    "\n",
    "S = sum(a)\n",
    "Sn = (n * (n + 1))//2\n",
    "S2 = 0\n",
    "for i in range(n):\n",
    "    S2 += a[i]**2\n",
    "S2n = n * (n + 1) * (2 * n + 1)//6\n",
    "\n",
    "val1 = S - Sn    # x - y\n",
    "val2 = S2 - S2n  # (x + y)(x - y)\n",
    "\n",
    "x = ((val2 / val1) + val1) // 2\n",
    "y = x - val1\n",
    "\n",
    "ans = [int(x), int(y)]"
   ]
  },
  {
   "cell_type": "markdown",
   "id": "3e621406",
   "metadata": {},
   "source": [
    "10. Count Inversions"
   ]
  },
  {
   "cell_type": "code",
   "execution_count": 1,
   "id": "279bcd76",
   "metadata": {},
   "outputs": [],
   "source": [
    "arr = [5, 3, 2, 4, 1]\n",
    "n = len(arr)"
   ]
  },
  {
   "cell_type": "code",
   "execution_count": 2,
   "id": "f689dd52",
   "metadata": {},
   "outputs": [],
   "source": [
    "from typing import List\n",
    "import math\n",
    "\n",
    "\n",
    "def merge(arr : List[int], low : int, mid : int, high : int) -> int:\n",
    "    cnt = 0\n",
    "    temp = []\n",
    "    left = low\n",
    "    right = mid + 1\n",
    "    while left <= mid and right <= high:\n",
    "        if arr[left] <= arr[right]:\n",
    "            temp.append(arr[left])\n",
    "            left += 1\n",
    "            \n",
    "        else:\n",
    "            temp.append(arr[right])\n",
    "            cnt += mid - left + 1\n",
    "            right += 1\n",
    "            \n",
    "    while left <= mid:\n",
    "        temp.append(arr[left])\n",
    "        left += 1\n",
    "        \n",
    "    while right <= high:\n",
    "        temp.append(arr[right])\n",
    "        right += 1\n",
    "        \n",
    "    for i in range(low, high + 1):\n",
    "        arr[i] = temp[i - low]\n",
    "    return cnt\n",
    "        \n",
    "def mergeSort(arr : List[int], low : int, high : int) -> int:\n",
    "    cnt = 0          \n",
    "    if low >= high:\n",
    "        return cnt\n",
    "    mid = math.floor((low + high) / 2)\n",
    "\n",
    "    cnt += mergeSort(arr, low, mid)\n",
    "\n",
    "    cnt += mergeSort(arr, mid + 1, high)\n",
    "    cnt += merge(arr, low, mid, high)\n",
    "    return cnt\n",
    "        \n",
    "        \n",
    "        "
   ]
  },
  {
   "cell_type": "code",
   "execution_count": null,
   "id": "538c6f0b",
   "metadata": {},
   "outputs": [],
   "source": [
    "def numberOfInversions(arr : List[int], n : int) -> int:\n",
    "    n = len(arr)\n",
    "    return mergeSort(arr, 0, n - 1)"
   ]
  },
  {
   "cell_type": "code",
   "execution_count": null,
   "id": "1d6a5edd",
   "metadata": {},
   "outputs": [],
   "source": [
    "numberOfInversions(arr , n )"
   ]
  },
  {
   "cell_type": "markdown",
   "id": "49de27b9",
   "metadata": {},
   "source": [
    "11. Reverse Pairs"
   ]
  },
  {
   "cell_type": "code",
   "execution_count": null,
   "id": "71936947",
   "metadata": {},
   "outputs": [],
   "source": [
    "arr = [5, 3, 2, 4, 1]\n",
    "n = len(arr)"
   ]
  },
  {
   "cell_type": "code",
   "execution_count": null,
   "id": "af65a480",
   "metadata": {},
   "outputs": [],
   "source": [
    "def merge(arr, low, mid, high):\n",
    "    temp = []   \n",
    "    left = low  \n",
    "    right = mid + 1 \n",
    "\n",
    "    while (left <= mid and right <= high):\n",
    "        if (arr[left] <= arr[right]):\n",
    "            temp.append(arr[left])\n",
    "            left += 1\n",
    "        else:\n",
    "            temp.append(arr[right])\n",
    "            right += 1\n",
    "\n",
    "    while (left <= mid):\n",
    "        temp.append(arr[left])\n",
    "        left += 1\n",
    "\n",
    "    while (right <= high):\n",
    "        temp.append(arr[right])\n",
    "        right += 1\n",
    "\n",
    "    for i in range(low, high + 1):\n",
    "        arr[i] = temp[i - low]\n",
    "\n",
    "def voidpair(arr, low, mid, high):\n",
    "    cnt = 0\n",
    "    left = low\n",
    "    right = mid + 1\n",
    "\n",
    "    for i in range(low, mid + 1):\n",
    "        while right <= high and arr[i] > 2 * arr[right]:\n",
    "            right += 1\n",
    "        cnt += right - (mid + 1)\n",
    "    return cnt\n",
    "        \n",
    "def mergeSort(arr, low, high):\n",
    "    cnt = 0\n",
    "    if low >= high:\n",
    "        return cnt\n",
    "        \n",
    "    mid = (low + high) // 2\n",
    "    cnt += mergeSort(arr, low, mid)  \n",
    "    cnt += mergeSort(arr, mid + 1, high)\n",
    "    cnt += voidpair(arr, low, mid, high)\n",
    "    merge(arr, low, mid, high) \n",
    "    return cnt\n"
   ]
  },
  {
   "cell_type": "code",
   "execution_count": null,
   "id": "3f55cb6d",
   "metadata": {},
   "outputs": [],
   "source": [
    "def team(skill: [int], n: int) -> int:\n",
    "    # Write your code here.\n",
    "    return mergeSort(skill, 0, n - 1)"
   ]
  },
  {
   "cell_type": "markdown",
   "id": "8f40051e",
   "metadata": {},
   "source": [
    "12. Maximum Product Subarray"
   ]
  },
  {
   "cell_type": "code",
   "execution_count": 3,
   "id": "5048f3ed",
   "metadata": {},
   "outputs": [],
   "source": [
    "arr = [2, 3, -2, 4]\n",
    "n = len(arr)"
   ]
  },
  {
   "cell_type": "code",
   "execution_count": 6,
   "id": "aaf01435",
   "metadata": {},
   "outputs": [],
   "source": [
    "pre = 1\n",
    "suff = 1\n",
    "ans = float('-inf')\n",
    "for i in range(n):\n",
    "    if pre == 0: pre = 1\n",
    "    if suff == 0: suff = 1\n",
    "    pre = pre * arr[i]\n",
    "    suff = suff * arr[n - i - 1]\n",
    "    ans = max(ans, max(pre, suff))\n",
    "    "
   ]
  },
  {
   "cell_type": "code",
   "execution_count": 7,
   "id": "50da1b0a",
   "metadata": {},
   "outputs": [
    {
     "data": {
      "text/plain": [
       "6"
      ]
     },
     "execution_count": 7,
     "metadata": {},
     "output_type": "execute_result"
    }
   ],
   "source": [
    "ans"
   ]
  },
  {
   "cell_type": "code",
   "execution_count": null,
   "id": "ffb046ba",
   "metadata": {},
   "outputs": [],
   "source": []
  }
 ],
 "metadata": {
  "kernelspec": {
   "display_name": "Python 3",
   "language": "python",
   "name": "python3"
  },
  "language_info": {
   "codemirror_mode": {
    "name": "ipython",
    "version": 3
   },
   "file_extension": ".py",
   "mimetype": "text/x-python",
   "name": "python",
   "nbconvert_exporter": "python",
   "pygments_lexer": "ipython3",
   "version": "3.8.8"
  }
 },
 "nbformat": 4,
 "nbformat_minor": 5
}
