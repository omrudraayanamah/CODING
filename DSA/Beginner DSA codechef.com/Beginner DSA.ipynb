{
 "cells": [
  {
   "cell_type": "markdown",
   "id": "ddadd813",
   "metadata": {},
   "source": [
    "## SEPTEMBER, 2023."
   ]
  },
  {
   "cell_type": "code",
   "execution_count": 1,
   "id": "7b9cf5ac",
   "metadata": {},
   "outputs": [
    {
     "name": "stdout",
     "output_type": "stream",
     "text": [
      "1\n",
      "10 10 10\n",
      "15\n"
     ]
    }
   ],
   "source": [
    "# cook your dish here\n",
    "t = int(input())\n",
    "for i in range(t):\n",
    "    X, Y, Z = map(int, input().split())\n",
    "    print((X*5+Y*10)//Z)"
   ]
  },
  {
   "cell_type": "code",
   "execution_count": null,
   "id": "ad4aa5ba",
   "metadata": {},
   "outputs": [],
   "source": [
    "# cook your dish here\n",
    "t = int(input())\n",
    "for i in range(t):\n",
    "    N,X = map(int, input().split())\n",
    "    Z = N*X\n",
    "    if 10000<=Z<=99999:\n",
    "        print('YES')\n",
    "    else:\n",
    "        print('NO')"
   ]
  },
  {
   "cell_type": "code",
   "execution_count": 26,
   "id": "866f016a",
   "metadata": {},
   "outputs": [],
   "source": [
    "u = 'harhiyath'"
   ]
  },
  {
   "cell_type": "code",
   "execution_count": 27,
   "id": "a2031e7e",
   "metadata": {},
   "outputs": [
    {
     "data": {
      "text/plain": [
       "9"
      ]
     },
     "execution_count": 27,
     "metadata": {},
     "output_type": "execute_result"
    }
   ],
   "source": [
    "len(u)"
   ]
  },
  {
   "cell_type": "code",
   "execution_count": 28,
   "id": "65f34d1e",
   "metadata": {},
   "outputs": [
    {
     "name": "stdout",
     "output_type": "stream",
     "text": [
      "0 h\n",
      "1 a\n",
      "2 r\n",
      "3 h\n",
      "4 i\n",
      "5 y\n",
      "6 a\n",
      "7 t\n",
      "Yes\n"
     ]
    }
   ],
   "source": [
    "i = 0\n",
    "while i < 8:\n",
    "    print(i,u[i])\n",
    "    if u[i] == 't' and u[i+1] == 'h':\n",
    "        print('Yes')\n",
    "        break\n",
    "    i = i + 1\n",
    "if i == 8:                               \n",
    "    print('no')"
   ]
  },
  {
   "cell_type": "code",
   "execution_count": 10,
   "id": "815ad514",
   "metadata": {},
   "outputs": [
    {
     "data": {
      "text/plain": [
       "'r'"
      ]
     },
     "execution_count": 10,
     "metadata": {},
     "output_type": "execute_result"
    }
   ],
   "source": [
    "u[8]"
   ]
  },
  {
   "cell_type": "code",
   "execution_count": 16,
   "id": "c023094b",
   "metadata": {
    "scrolled": true
   },
   "outputs": [
    {
     "data": {
      "text/plain": [
       "8"
      ]
     },
     "execution_count": 16,
     "metadata": {},
     "output_type": "execute_result"
    }
   ],
   "source": [
    "i"
   ]
  },
  {
   "cell_type": "code",
   "execution_count": 44,
   "id": "91f37248",
   "metadata": {
    "scrolled": true
   },
   "outputs": [
    {
     "name": "stdout",
     "output_type": "stream",
     "text": [
      "1\n",
      "4\n",
      "0011\n",
      "AG\n"
     ]
    }
   ],
   "source": [
    "t = int(input())\n",
    "for i in range(t):\n",
    "    N = int(input())\n",
    "    S = input()\n",
    "    X = ''\n",
    "    for i in range(0,N,2):\n",
    "        if S[i:i+2]=='00':\n",
    "            X = X + 'A'\n",
    "        elif S[i:i+2]=='01':\n",
    "            X = X + 'T'\n",
    "        elif S[i:i+2]=='10':\n",
    "            X = X + 'C'\n",
    "        elif S[i:i+2]=='11':\n",
    "            X = X + 'G'\n",
    "    print(X)"
   ]
  },
  {
   "cell_type": "code",
   "execution_count": 45,
   "id": "b4cfd29a",
   "metadata": {},
   "outputs": [
    {
     "data": {
      "text/plain": [
       "'00'"
      ]
     },
     "execution_count": 45,
     "metadata": {},
     "output_type": "execute_result"
    }
   ],
   "source": [
    "S[0:2]"
   ]
  },
  {
   "cell_type": "code",
   "execution_count": 38,
   "id": "0720c1f2",
   "metadata": {},
   "outputs": [],
   "source": [
    "X = ''"
   ]
  },
  {
   "cell_type": "code",
   "execution_count": 39,
   "id": "75c7a34b",
   "metadata": {},
   "outputs": [],
   "source": [
    "X = '' + 'A'"
   ]
  },
  {
   "cell_type": "code",
   "execution_count": 40,
   "id": "e11c1781",
   "metadata": {},
   "outputs": [
    {
     "data": {
      "text/plain": [
       "'A'"
      ]
     },
     "execution_count": 40,
     "metadata": {},
     "output_type": "execute_result"
    }
   ],
   "source": [
    "X"
   ]
  },
  {
   "cell_type": "code",
   "execution_count": 53,
   "id": "a304bbf7",
   "metadata": {},
   "outputs": [
    {
     "name": "stdout",
     "output_type": "stream",
     "text": [
      "1\n",
      "stor?\n",
      "sco??\n",
      "No\n"
     ]
    }
   ],
   "source": [
    "t = int(input())\n",
    "for i in range(t):\n",
    "    X = input()\n",
    "    Y = input()\n",
    "    flag = 0\n",
    "    for i in range(len(X)):\n",
    "        if X[i]==Y[i] or X[i]=='?' or Y[i]=='?':\n",
    "            flag = 1\n",
    "        else:\n",
    "            flag = 0\n",
    "            break\n",
    "    if flag == 1:\n",
    "        print('Yes')\n",
    "    else:\n",
    "        print('No')\n",
    "    "
   ]
  },
  {
   "cell_type": "code",
   "execution_count": 63,
   "id": "29c11f42",
   "metadata": {},
   "outputs": [
    {
     "name": "stdout",
     "output_type": "stream",
     "text": [
      "4\n",
      "3\n",
      "AAA\n",
      "3  0\n",
      "5\n",
      "BABAB\n",
      "0  0\n",
      "5\n",
      "ABABB\n",
      "1  1\n",
      "4\n",
      "BBBB\n",
      "0  3\n"
     ]
    }
   ],
   "source": [
    "t = int(input())\n",
    "for i in range(t):\n",
    "    N = int(input())\n",
    "    S = input()\n",
    "    Alice = 0\n",
    "    Bob = 0\n",
    "    server = 0\n",
    "    for i in range(N):\n",
    "        if server==0 and S[i]=='A':\n",
    "            Alice += 1\n",
    "        elif server==0 and S[i]=='B':\n",
    "            server = 1\n",
    "        elif server == 1 and S[i]=='B':\n",
    "            Bob += 1\n",
    "        elif server == 1 and S[i]=='A':\n",
    "            server = 0\n",
    "    print(Alice,'',Bob)\n",
    "            \n"
   ]
  },
  {
   "cell_type": "code",
   "execution_count": null,
   "id": "b2e6c330",
   "metadata": {},
   "outputs": [],
   "source": [
    "S[1:3]=='AA'"
   ]
  },
  {
   "cell_type": "code",
   "execution_count": 67,
   "id": "9aa9f6c7",
   "metadata": {},
   "outputs": [
    {
     "name": "stdout",
     "output_type": "stream",
     "text": [
      "1\n",
      "abcdeeafg\n",
      "Happy\n"
     ]
    }
   ],
   "source": [
    "t = int(input())\n",
    "for i in range(t):\n",
    "    S = input()\n",
    "    flag = 0\n",
    "    for i in range(len(S)):\n",
    "        if (S[i]=='a' or S[i]=='e' or S[i]=='i' or S[i]=='o' or S[i]=='u') and (S[i+1]=='a' or S[i+1]=='e' or S[i+1]=='i' or S[i+1]=='o' or S[i+1]=='u') and (S[i+2]=='a' or S[i+2]=='e' or S[i+2]=='i' or S[i+2]=='o' or S[i+2]=='u'):\n",
    "            flag = 1\n",
    "            break\n",
    "        else:\n",
    "            flag = 0\n",
    "    if flag == 1:\n",
    "        print('Happy')\n",
    "    else:\n",
    "        print('Sad')"
   ]
  },
  {
   "cell_type": "code",
   "execution_count": 79,
   "id": "836e1c55",
   "metadata": {},
   "outputs": [
    {
     "name": "stdout",
     "output_type": "stream",
     "text": [
      "1\n",
      "3\n",
      "4 6 8\n",
      "Yes\n"
     ]
    }
   ],
   "source": [
    "t = int(input())\n",
    "for i in range(t):\n",
    "    N = int(input())\n",
    "    D = list(map(int, input().split()))\n",
    "    flag = 1\n",
    "    for i in range(N-1):\n",
    "        if D[i]<=D[i+1]:\n",
    "            flag = 1\n",
    "        else:\n",
    "            flag = 0\n",
    "            break\n",
    "    if flag == 1:\n",
    "        print('Yes')\n",
    "    else:\n",
    "        print('No')"
   ]
  },
  {
   "cell_type": "code",
   "execution_count": 76,
   "id": "7e1011d5",
   "metadata": {},
   "outputs": [
    {
     "data": {
      "text/plain": [
       "[3, 4, 5]"
      ]
     },
     "execution_count": 76,
     "metadata": {},
     "output_type": "execute_result"
    }
   ],
   "source": [
    "D"
   ]
  },
  {
   "cell_type": "code",
   "execution_count": 92,
   "id": "dc4e9583",
   "metadata": {},
   "outputs": [
    {
     "name": "stdout",
     "output_type": "stream",
     "text": [
      "4\n",
      "2 20\n",
      "15 67\n",
      "10 90\n",
      "90\n",
      "3 1\n",
      "1 2 3\n",
      "1 2 3\n",
      "5\n"
     ]
    },
    {
     "ename": "KeyboardInterrupt",
     "evalue": "Interrupted by user",
     "output_type": "error",
     "traceback": [
      "\u001b[0;31m---------------------------------------------------------------------------\u001b[0m",
      "\u001b[0;31mKeyboardInterrupt\u001b[0m                         Traceback (most recent call last)",
      "\u001b[0;32m<ipython-input-92-540ad72d3ab3>\u001b[0m in \u001b[0;36m<module>\u001b[0;34m\u001b[0m\n\u001b[1;32m      1\u001b[0m \u001b[0mt\u001b[0m \u001b[0;34m=\u001b[0m \u001b[0mint\u001b[0m\u001b[0;34m(\u001b[0m\u001b[0minput\u001b[0m\u001b[0;34m(\u001b[0m\u001b[0;34m)\u001b[0m\u001b[0;34m)\u001b[0m\u001b[0;34m\u001b[0m\u001b[0;34m\u001b[0m\u001b[0m\n\u001b[1;32m      2\u001b[0m \u001b[0;32mfor\u001b[0m \u001b[0mi\u001b[0m \u001b[0;32min\u001b[0m \u001b[0mrange\u001b[0m\u001b[0;34m(\u001b[0m\u001b[0mt\u001b[0m\u001b[0;34m)\u001b[0m\u001b[0;34m:\u001b[0m\u001b[0;34m\u001b[0m\u001b[0;34m\u001b[0m\u001b[0m\n\u001b[0;32m----> 3\u001b[0;31m     \u001b[0mN\u001b[0m\u001b[0;34m,\u001b[0m \u001b[0mX\u001b[0m \u001b[0;34m=\u001b[0m \u001b[0mmap\u001b[0m\u001b[0;34m(\u001b[0m\u001b[0mint\u001b[0m\u001b[0;34m,\u001b[0m \u001b[0minput\u001b[0m\u001b[0;34m(\u001b[0m\u001b[0;34m)\u001b[0m\u001b[0;34m.\u001b[0m\u001b[0msplit\u001b[0m\u001b[0;34m(\u001b[0m\u001b[0;34m)\u001b[0m\u001b[0;34m)\u001b[0m\u001b[0;34m\u001b[0m\u001b[0;34m\u001b[0m\u001b[0m\n\u001b[0m\u001b[1;32m      4\u001b[0m     \u001b[0mA\u001b[0m \u001b[0;34m=\u001b[0m \u001b[0mlist\u001b[0m\u001b[0;34m(\u001b[0m\u001b[0mmap\u001b[0m\u001b[0;34m(\u001b[0m\u001b[0mint\u001b[0m\u001b[0;34m,\u001b[0m \u001b[0minput\u001b[0m\u001b[0;34m(\u001b[0m\u001b[0;34m)\u001b[0m\u001b[0;34m.\u001b[0m\u001b[0msplit\u001b[0m\u001b[0;34m(\u001b[0m\u001b[0;34m)\u001b[0m\u001b[0;34m)\u001b[0m\u001b[0;34m)\u001b[0m\u001b[0;34m\u001b[0m\u001b[0;34m\u001b[0m\u001b[0m\n\u001b[1;32m      5\u001b[0m     \u001b[0mB\u001b[0m \u001b[0;34m=\u001b[0m \u001b[0mlist\u001b[0m\u001b[0;34m(\u001b[0m\u001b[0mmap\u001b[0m\u001b[0;34m(\u001b[0m\u001b[0mint\u001b[0m\u001b[0;34m,\u001b[0m \u001b[0minput\u001b[0m\u001b[0;34m(\u001b[0m\u001b[0;34m)\u001b[0m\u001b[0;34m.\u001b[0m\u001b[0msplit\u001b[0m\u001b[0;34m(\u001b[0m\u001b[0;34m)\u001b[0m\u001b[0;34m)\u001b[0m\u001b[0;34m)\u001b[0m\u001b[0;34m\u001b[0m\u001b[0;34m\u001b[0m\u001b[0m\n",
      "\u001b[0;32m~/opt/anaconda3/lib/python3.8/site-packages/ipykernel/kernelbase.py\u001b[0m in \u001b[0;36mraw_input\u001b[0;34m(self, prompt)\u001b[0m\n\u001b[1;32m    858\u001b[0m                 \u001b[0;34m\"raw_input was called, but this frontend does not support input requests.\"\u001b[0m\u001b[0;34m\u001b[0m\u001b[0;34m\u001b[0m\u001b[0m\n\u001b[1;32m    859\u001b[0m             )\n\u001b[0;32m--> 860\u001b[0;31m         return self._input_request(str(prompt),\n\u001b[0m\u001b[1;32m    861\u001b[0m             \u001b[0mself\u001b[0m\u001b[0;34m.\u001b[0m\u001b[0m_parent_ident\u001b[0m\u001b[0;34m,\u001b[0m\u001b[0;34m\u001b[0m\u001b[0;34m\u001b[0m\u001b[0m\n\u001b[1;32m    862\u001b[0m             \u001b[0mself\u001b[0m\u001b[0;34m.\u001b[0m\u001b[0m_parent_header\u001b[0m\u001b[0;34m,\u001b[0m\u001b[0;34m\u001b[0m\u001b[0;34m\u001b[0m\u001b[0m\n",
      "\u001b[0;32m~/opt/anaconda3/lib/python3.8/site-packages/ipykernel/kernelbase.py\u001b[0m in \u001b[0;36m_input_request\u001b[0;34m(self, prompt, ident, parent, password)\u001b[0m\n\u001b[1;32m    902\u001b[0m             \u001b[0;32mexcept\u001b[0m \u001b[0mKeyboardInterrupt\u001b[0m\u001b[0;34m:\u001b[0m\u001b[0;34m\u001b[0m\u001b[0;34m\u001b[0m\u001b[0m\n\u001b[1;32m    903\u001b[0m                 \u001b[0;31m# re-raise KeyboardInterrupt, to truncate traceback\u001b[0m\u001b[0;34m\u001b[0m\u001b[0;34m\u001b[0m\u001b[0;34m\u001b[0m\u001b[0m\n\u001b[0;32m--> 904\u001b[0;31m                 \u001b[0;32mraise\u001b[0m \u001b[0mKeyboardInterrupt\u001b[0m\u001b[0;34m(\u001b[0m\u001b[0;34m\"Interrupted by user\"\u001b[0m\u001b[0;34m)\u001b[0m \u001b[0;32mfrom\u001b[0m \u001b[0;32mNone\u001b[0m\u001b[0;34m\u001b[0m\u001b[0;34m\u001b[0m\u001b[0m\n\u001b[0m\u001b[1;32m    905\u001b[0m             \u001b[0;32mexcept\u001b[0m \u001b[0mException\u001b[0m \u001b[0;32mas\u001b[0m \u001b[0me\u001b[0m\u001b[0;34m:\u001b[0m\u001b[0;34m\u001b[0m\u001b[0;34m\u001b[0m\u001b[0m\n\u001b[1;32m    906\u001b[0m                 \u001b[0mself\u001b[0m\u001b[0;34m.\u001b[0m\u001b[0mlog\u001b[0m\u001b[0;34m.\u001b[0m\u001b[0mwarning\u001b[0m\u001b[0;34m(\u001b[0m\u001b[0;34m\"Invalid Message:\"\u001b[0m\u001b[0;34m,\u001b[0m \u001b[0mexc_info\u001b[0m\u001b[0;34m=\u001b[0m\u001b[0;32mTrue\u001b[0m\u001b[0;34m)\u001b[0m\u001b[0;34m\u001b[0m\u001b[0;34m\u001b[0m\u001b[0m\n",
      "\u001b[0;31mKeyboardInterrupt\u001b[0m: Interrupted by user"
     ]
    }
   ],
   "source": [
    "t = int(input())\n",
    "for i in range(t):\n",
    "    N, X = map(int, input().split())\n",
    "    A = list(map(int, input().split()))\n",
    "    B = list(map(int, input().split()))\n",
    "    cost = 0\n",
    "    i = 0\n",
    "    while i < N:\n",
    "        if A[i]>=X:\n",
    "            cost = cost + B[i]\n",
    "        i = i + 1\n",
    "    print(cost)"
   ]
  },
  {
   "cell_type": "code",
   "execution_count": null,
   "id": "f6e3bb24",
   "metadata": {},
   "outputs": [],
   "source": [
    "N"
   ]
  },
  {
   "cell_type": "code",
   "execution_count": 83,
   "id": "464a4272",
   "metadata": {},
   "outputs": [
    {
     "data": {
      "text/plain": [
       "20"
      ]
     },
     "execution_count": 83,
     "metadata": {},
     "output_type": "execute_result"
    }
   ],
   "source": [
    "X"
   ]
  },
  {
   "cell_type": "code",
   "execution_count": 84,
   "id": "131ddfb8",
   "metadata": {},
   "outputs": [
    {
     "data": {
      "text/plain": [
       "[15, 67]"
      ]
     },
     "execution_count": 84,
     "metadata": {},
     "output_type": "execute_result"
    }
   ],
   "source": [
    "A"
   ]
  },
  {
   "cell_type": "code",
   "execution_count": 85,
   "id": "908a1074",
   "metadata": {},
   "outputs": [
    {
     "data": {
      "text/plain": [
       "[10, 90]"
      ]
     },
     "execution_count": 85,
     "metadata": {},
     "output_type": "execute_result"
    }
   ],
   "source": [
    "B"
   ]
  },
  {
   "cell_type": "code",
   "execution_count": 96,
   "id": "7b36d48e",
   "metadata": {
    "scrolled": true
   },
   "outputs": [
    {
     "name": "stdout",
     "output_type": "stream",
     "text": [
      "1\n",
      "4\n",
      "1000 1000 1000 1000\n",
      "400 500 600 1200\n",
      "0\n"
     ]
    }
   ],
   "source": [
    "t = int(input())\n",
    "for i in range(t):\n",
    "    N = int(input())\n",
    "    A = list(map(int, input().split()))\n",
    "    B = list(map(int, input().split()))\n",
    "    count = 0\n",
    "    i = 0\n",
    "    while i<N:\n",
    "        if A[i]<=2*B[i] and B[i]<=2*A[i]:\n",
    "            count = count + 1\n",
    "        i = i + 1\n",
    "    print(count)"
   ]
  },
  {
   "cell_type": "code",
   "execution_count": 119,
   "id": "a9816a94",
   "metadata": {},
   "outputs": [
    {
     "name": "stdout",
     "output_type": "stream",
     "text": [
      "1\n",
      "5\n",
      "8 2 9 4 9\n",
      "17\n"
     ]
    }
   ],
   "source": [
    "t = int(input())\n",
    "for i in range(t):\n",
    "    N = int(input())\n",
    "    A = list(map(int, input().split()))\n",
    "    A = list(set(A))\n",
    "    i = 0\n",
    "    lst = []\n",
    "    while i<2:\n",
    "        max_ele_index = A.index(max(A))\n",
    "        a = A.pop(max_ele_index)\n",
    "        lst.append(a)\n",
    "        i = i + 1\n",
    "    print(sum(lst))"
   ]
  },
  {
   "cell_type": "code",
   "execution_count": 98,
   "id": "6297c68d",
   "metadata": {},
   "outputs": [
    {
     "data": {
      "text/plain": [
       "5"
      ]
     },
     "execution_count": 98,
     "metadata": {},
     "output_type": "execute_result"
    }
   ],
   "source": [
    "N"
   ]
  },
  {
   "cell_type": "code",
   "execution_count": 111,
   "id": "4c5d6e63",
   "metadata": {},
   "outputs": [],
   "source": [
    "A = [2, 3, 7, 4, 89]"
   ]
  },
  {
   "cell_type": "code",
   "execution_count": 103,
   "id": "78c7260f",
   "metadata": {},
   "outputs": [
    {
     "data": {
      "text/plain": [
       "89"
      ]
     },
     "execution_count": 103,
     "metadata": {},
     "output_type": "execute_result"
    }
   ],
   "source": [
    "max(A)"
   ]
  },
  {
   "cell_type": "code",
   "execution_count": 104,
   "id": "07152a07",
   "metadata": {},
   "outputs": [
    {
     "data": {
      "text/plain": [
       "89"
      ]
     },
     "execution_count": 104,
     "metadata": {},
     "output_type": "execute_result"
    }
   ],
   "source": [
    "A.pop(4)"
   ]
  },
  {
   "cell_type": "code",
   "execution_count": 113,
   "id": "ed78f678",
   "metadata": {},
   "outputs": [
    {
     "data": {
      "text/plain": [
       "[2, 3, 7, 4]"
      ]
     },
     "execution_count": 113,
     "metadata": {},
     "output_type": "execute_result"
    }
   ],
   "source": [
    "A"
   ]
  },
  {
   "cell_type": "code",
   "execution_count": 114,
   "id": "1ae79436",
   "metadata": {},
   "outputs": [
    {
     "data": {
      "text/plain": [
       "89"
      ]
     },
     "execution_count": 114,
     "metadata": {},
     "output_type": "execute_result"
    }
   ],
   "source": [
    "a"
   ]
  },
  {
   "cell_type": "code",
   "execution_count": 120,
   "id": "84c22588",
   "metadata": {},
   "outputs": [
    {
     "name": "stdout",
     "output_type": "stream",
     "text": [
      "1\n",
      "0 1 0 1 0 0 1 1 1 0 0 1 1\n"
     ]
    }
   ],
   "source": [
    "t = int(input())\n",
    "for i in range(t):\n",
    "    sequence = list(map(int, input().split()))\n",
    "    i = 0\n",
    "    streak = 0\n",
    "    while i < len(sequence):\n",
    "        \n",
    "        i = i + 1"
   ]
  },
  {
   "cell_type": "code",
   "execution_count": 144,
   "id": "65f352b7",
   "metadata": {},
   "outputs": [],
   "source": [
    "sequence\n",
    "n = len(sequence)"
   ]
  },
  {
   "cell_type": "code",
   "execution_count": 145,
   "id": "14fa3c87",
   "metadata": {
    "scrolled": true
   },
   "outputs": [],
   "source": [
    "i = 0\n",
    "one_streak = 0\n",
    "while i < n:\n",
    "    temp = 0\n",
    "    while sequence[i] > 0:\n",
    "        temp = temp + 1\n",
    "        i = i + 1\n",
    "        if i == n:\n",
    "            break\n",
    "    if one_streak < temp:\n",
    "        one_streak = temp\n",
    "    i = i + 1"
   ]
  },
  {
   "cell_type": "code",
   "execution_count": 146,
   "id": "e4b15b21",
   "metadata": {},
   "outputs": [
    {
     "data": {
      "text/plain": [
       "13"
      ]
     },
     "execution_count": 146,
     "metadata": {},
     "output_type": "execute_result"
    }
   ],
   "source": [
    "n"
   ]
  },
  {
   "cell_type": "code",
   "execution_count": 143,
   "id": "0c9f165e",
   "metadata": {},
   "outputs": [
    {
     "name": "stdout",
     "output_type": "stream",
     "text": [
      "The most consecutive 1s in the sequence are: 3\n"
     ]
    }
   ],
   "source": [
    "i = 0\n",
    "one_streak = 0\n",
    "n = len(sequence)  # Assuming you have defined the length of the sequence\n",
    "\n",
    "while i < n:\n",
    "    temp = 0\n",
    "    while i < n and sequence[i] == 1:\n",
    "        temp += 1\n",
    "        i += 1\n",
    "    if one_streak < temp:\n",
    "        one_streak = temp\n",
    "    i += 1\n",
    "\n",
    "print(\"The most consecutive 1s in the sequence are:\", one_streak)\n"
   ]
  },
  {
   "cell_type": "code",
   "execution_count": 184,
   "id": "8300a6fe",
   "metadata": {},
   "outputs": [
    {
     "name": "stdout",
     "output_type": "stream",
     "text": [
      "1\n",
      "6\n",
      "1 7 3 0 2 13\n",
      "0 2 3 4 5 0\n",
      "Addy\n"
     ]
    }
   ],
   "source": [
    "t = int(input())\n",
    "for i in range(t):\n",
    "    N = int(input())\n",
    "    A = list(map(int, input().split()))\n",
    "    B = list(map(int, input().split()))\n",
    "    def streak(A: list):\n",
    "        streak = 0\n",
    "        i = 0\n",
    "        for i in range(N):\n",
    "            temp = 0\n",
    "            while A[i]>0:\n",
    "                temp = temp + 1\n",
    "                i = i + 1\n",
    "                if i==N:\n",
    "                    break\n",
    "\n",
    "            if streak<temp:\n",
    "                streak = temp\n",
    "        return streak\n",
    "\n",
    "    if streak(A)>streak(B):\n",
    "        print('Om')\n",
    "    elif streak(A) == streak(B):\n",
    "        print('Draw')\n",
    "    else:\n",
    "        print('Addy')"
   ]
  },
  {
   "cell_type": "code",
   "execution_count": 149,
   "id": "5fb4d01a",
   "metadata": {},
   "outputs": [
    {
     "data": {
      "text/plain": [
       "6"
      ]
     },
     "execution_count": 149,
     "metadata": {},
     "output_type": "execute_result"
    }
   ],
   "source": [
    "N"
   ]
  },
  {
   "cell_type": "code",
   "execution_count": 150,
   "id": "ec2cc891",
   "metadata": {},
   "outputs": [
    {
     "data": {
      "text/plain": [
       "[1, 7, 3, 0, 2, 13]"
      ]
     },
     "execution_count": 150,
     "metadata": {},
     "output_type": "execute_result"
    }
   ],
   "source": [
    "A"
   ]
  },
  {
   "cell_type": "code",
   "execution_count": 151,
   "id": "acaecc03",
   "metadata": {},
   "outputs": [
    {
     "data": {
      "text/plain": [
       "[0, 2, 3, 4, 5, 0]"
      ]
     },
     "execution_count": 151,
     "metadata": {},
     "output_type": "execute_result"
    }
   ],
   "source": [
    "B"
   ]
  },
  {
   "cell_type": "code",
   "execution_count": 178,
   "id": "69c9933e",
   "metadata": {},
   "outputs": [
    {
     "data": {
      "text/plain": [
       "[1, 7, 3, 0, 2, 13]"
      ]
     },
     "execution_count": 178,
     "metadata": {},
     "output_type": "execute_result"
    }
   ],
   "source": [
    "A"
   ]
  },
  {
   "cell_type": "code",
   "execution_count": 185,
   "id": "32c19c9b",
   "metadata": {},
   "outputs": [],
   "source": [
    "A.sort()"
   ]
  },
  {
   "cell_type": "code",
   "execution_count": 186,
   "id": "10a2213b",
   "metadata": {},
   "outputs": [
    {
     "data": {
      "text/plain": [
       "[0, 1, 2, 3, 7, 13]"
      ]
     },
     "execution_count": 186,
     "metadata": {},
     "output_type": "execute_result"
    }
   ],
   "source": [
    "A"
   ]
  },
  {
   "cell_type": "code",
   "execution_count": 189,
   "id": "5491e8bc",
   "metadata": {},
   "outputs": [
    {
     "data": {
      "text/plain": [
       "[13, 7, 3, 2, 1, 0]"
      ]
     },
     "execution_count": 189,
     "metadata": {},
     "output_type": "execute_result"
    }
   ],
   "source": [
    "sorted(A, reverse = True)"
   ]
  },
  {
   "cell_type": "code",
   "execution_count": 194,
   "id": "63082ab2",
   "metadata": {},
   "outputs": [
    {
     "name": "stdout",
     "output_type": "stream",
     "text": [
      "5\n",
      "5\n",
      "8\n",
      "4\n",
      "2\n",
      "4\n",
      "2\n",
      "4\n",
      "4\n",
      "5\n",
      "8\n"
     ]
    }
   ],
   "source": [
    "N = int(input())\n",
    "A = []\n",
    "for i in range(N):\n",
    "    a = int(input())\n",
    "    A.append(a)\n",
    "A.sort()\n",
    "for i in A:\n",
    "    print(i)"
   ]
  },
  {
   "cell_type": "code",
   "execution_count": 193,
   "id": "dd884852",
   "metadata": {},
   "outputs": [],
   "source": [
    "A.sort()"
   ]
  },
  {
   "cell_type": "code",
   "execution_count": 195,
   "id": "a5199b3a",
   "metadata": {},
   "outputs": [
    {
     "name": "stdout",
     "output_type": "stream",
     "text": [
      "1\n",
      "5\n",
      "4 9 1 32 13\n"
     ]
    }
   ],
   "source": [
    "t = int(input())\n",
    "S = []\n",
    "for i in range(t):\n",
    "    N = int(input())\n",
    "    S = list(map(int, input().split()))\n",
    "    S.sort()\n",
    "    min_diff = max(S)-min(S)\n",
    "    for i in range(1,N):\n",
    "        if S[i]-S[i-1] < min_diff:\n",
    "            min_diff = S[i]-S[i-1]\n",
    "    print(min_diff)\n"
   ]
  },
  {
   "cell_type": "code",
   "execution_count": 203,
   "id": "ccad3e47",
   "metadata": {},
   "outputs": [
    {
     "data": {
      "text/plain": [
       "2"
      ]
     },
     "execution_count": 203,
     "metadata": {},
     "output_type": "execute_result"
    }
   ],
   "source": [
    "abs(-2)"
   ]
  },
  {
   "cell_type": "code",
   "execution_count": 205,
   "id": "f3100c69",
   "metadata": {},
   "outputs": [
    {
     "data": {
      "text/plain": [
       "31"
      ]
     },
     "execution_count": 205,
     "metadata": {},
     "output_type": "execute_result"
    }
   ],
   "source": [
    "min_diff"
   ]
  },
  {
   "cell_type": "code",
   "execution_count": 211,
   "id": "e9f84395",
   "metadata": {},
   "outputs": [
    {
     "name": "stdout",
     "output_type": "stream",
     "text": [
      "1\n",
      "4 1\n",
      "5 1 7 4\n"
     ]
    }
   ],
   "source": [
    "t = int(input())\n",
    "for i in range(t):\n",
    "    N,X = map(int, input().split())\n",
    "    A = list(map(int, input().split()))\n",
    "    A.sort(reverse=True)\n",
    "    print(A[X-1]-1)"
   ]
  },
  {
   "cell_type": "code",
   "execution_count": 213,
   "id": "1fc7825b",
   "metadata": {},
   "outputs": [
    {
     "data": {
      "text/plain": [
       "[1, 4, 5, 7]"
      ]
     },
     "execution_count": 213,
     "metadata": {},
     "output_type": "execute_result"
    }
   ],
   "source": [
    "A"
   ]
  },
  {
   "cell_type": "code",
   "execution_count": 214,
   "id": "b5b08f18",
   "metadata": {},
   "outputs": [],
   "source": [
    "A.sort(reverse = True)"
   ]
  },
  {
   "cell_type": "code",
   "execution_count": 215,
   "id": "9a3e934a",
   "metadata": {},
   "outputs": [
    {
     "data": {
      "text/plain": [
       "[7, 5, 4, 1]"
      ]
     },
     "execution_count": 215,
     "metadata": {},
     "output_type": "execute_result"
    }
   ],
   "source": [
    "A"
   ]
  },
  {
   "cell_type": "code",
   "execution_count": 218,
   "id": "deab9d45",
   "metadata": {},
   "outputs": [
    {
     "name": "stdout",
     "output_type": "stream",
     "text": [
      "1\n",
      "4 13\n",
      "3 5 7 2\n"
     ]
    }
   ],
   "source": [
    "t = int(input())\n",
    "for i in range(t):\n",
    "    N,M = map(int, input().split())\n",
    "    P = list(map(int, input().split()))\n",
    "    P.sort(reverse=True)\n",
    "    sum = 0\n",
    "    i = 0\n",
    "    while i < N:\n",
    "        sum = sum + P[i]\n",
    "        if sum >= M:\n",
    "            print(i+1)\n",
    "            break\n",
    "        i = i + 1\n",
    "    if sum < M:\n",
    "        print(-1)"
   ]
  },
  {
   "cell_type": "code",
   "execution_count": 227,
   "id": "e25972a3",
   "metadata": {},
   "outputs": [
    {
     "name": "stdout",
     "output_type": "stream",
     "text": [
      "1\n",
      "3\n",
      "1 2 3\n",
      "1 2\n",
      "2\n"
     ]
    }
   ],
   "source": [
    "t = int(input())\n",
    "for i in range(t):\n",
    "    N = int(input())\n",
    "    A = list(map(int, input().split()))\n",
    "    A.sort(reverse=True)\n",
    "    i = 0\n",
    "    sum = 0\n",
    "    while i < N:\n",
    "        if i%2==0:\n",
    "            sum = sum + A[i]\n",
    "        i = i + 1\n",
    "    print(sum)"
   ]
  },
  {
   "cell_type": "code",
   "execution_count": null,
   "id": "3aea3aff",
   "metadata": {},
   "outputs": [],
   "source": [
    "t = int(input())\n",
    "for i in range(t):\n",
    "    X,Y = int(input())\n",
    "    ans1 = 1500 - 2*X - 4*(X+Y)\n",
    "    ans2 = 1500 - 2*(X+Y) - 4*(Y)\n",
    "    print(max(ans1,ans2))"
   ]
  },
  {
   "cell_type": "code",
   "execution_count": null,
   "id": "b2b9d3eb",
   "metadata": {},
   "outputs": [],
   "source": [
    "t = int(input())\n",
    "for i in range(t):\n",
    "    N,X,P = map(int, input().split())\n",
    "    marks = 3*X - (N-X)\n",
    "    if marks >= P:\n",
    "        print('PASS')\n",
    "    else:\n",
    "        print('FAIL')"
   ]
  },
  {
   "cell_type": "code",
   "execution_count": 9,
   "id": "f27d1873",
   "metadata": {},
   "outputs": [
    {
     "name": "stdout",
     "output_type": "stream",
     "text": [
      "1\n",
      "45 165 170 10\n",
      "NO\n"
     ]
    }
   ],
   "source": [
    "t = int(input())\n",
    "for i in range(t):\n",
    "    A,B,C,D = map(int, input().split())\n",
    "    if A == 180 - C and B == 180 - D:\n",
    "        print('YES')\n",
    "    else:\n",
    "        print('NO')"
   ]
  },
  {
   "cell_type": "code",
   "execution_count": null,
   "id": "9b7e33c0",
   "metadata": {},
   "outputs": [],
   "source": [
    "t = int(input())\n",
    "for i in range(t):\n",
    "    N = int(input())\n",
    "    A = N/10\n",
    "    print(math.ceil(A))"
   ]
  },
  {
   "cell_type": "code",
   "execution_count": 5,
   "id": "c88f75e7",
   "metadata": {},
   "outputs": [
    {
     "data": {
      "text/plain": [
       "3"
      ]
     },
     "execution_count": 5,
     "metadata": {},
     "output_type": "execute_result"
    }
   ],
   "source": [
    "33//10"
   ]
  },
  {
   "cell_type": "code",
   "execution_count": 10,
   "id": "218bdbeb",
   "metadata": {},
   "outputs": [
    {
     "data": {
      "text/plain": [
       "6"
      ]
     },
     "execution_count": 10,
     "metadata": {},
     "output_type": "execute_result"
    }
   ],
   "source": [
    "import math\n",
    "math.ceil(5.3)"
   ]
  },
  {
   "cell_type": "code",
   "execution_count": 11,
   "id": "a64a3d97",
   "metadata": {},
   "outputs": [
    {
     "data": {
      "text/plain": [
       "2"
      ]
     },
     "execution_count": 11,
     "metadata": {},
     "output_type": "execute_result"
    }
   ],
   "source": [
    "round(2.0)"
   ]
  },
  {
   "cell_type": "code",
   "execution_count": 14,
   "id": "b4293c3a",
   "metadata": {},
   "outputs": [
    {
     "name": "stdout",
     "output_type": "stream",
     "text": [
      "3\n",
      "2\n",
      "5\n",
      "4\n"
     ]
    }
   ],
   "source": [
    "# cook your dish here\n",
    "t=int(input())\n",
    "while(t>0):\n",
    "    n=int(input())\n",
    "    x = n - n//5\n",
    "    print(x)\n",
    "    t = t - 1\n",
    "    "
   ]
  },
  {
   "cell_type": "code",
   "execution_count": 13,
   "id": "e870053c",
   "metadata": {},
   "outputs": [
    {
     "data": {
      "text/plain": [
       "2"
      ]
     },
     "execution_count": 13,
     "metadata": {},
     "output_type": "execute_result"
    }
   ],
   "source": [
    "12//5"
   ]
  },
  {
   "cell_type": "code",
   "execution_count": null,
   "id": "341ed762",
   "metadata": {},
   "outputs": [],
   "source": [
    "t = int(input())\n",
    "for i in range(t):\n",
    "    N = int(input())\n",
    "    A = list(map(int, input().split()))\n",
    "    count = 0\n",
    "    \n",
    "    for i in A:\n",
    "        if 10 <= i <= 60:\n",
    "            count += 1\n",
    "    print(count)"
   ]
  }
 ],
 "metadata": {
  "kernelspec": {
   "display_name": "Python 3",
   "language": "python",
   "name": "python3"
  },
  "language_info": {
   "codemirror_mode": {
    "name": "ipython",
    "version": 3
   },
   "file_extension": ".py",
   "mimetype": "text/x-python",
   "name": "python",
   "nbconvert_exporter": "python",
   "pygments_lexer": "ipython3",
   "version": "3.8.8"
  }
 },
 "nbformat": 4,
 "nbformat_minor": 5
}
